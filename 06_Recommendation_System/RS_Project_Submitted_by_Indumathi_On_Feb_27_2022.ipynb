{
 "cells": [
  {
   "cell_type": "markdown",
   "id": "f6f2d8fb",
   "metadata": {},
   "source": [
    "## Author : Indumathi Pandiyan"
   ]
  },
  {
   "cell_type": "markdown",
   "id": "d88c55f8",
   "metadata": {},
   "source": [
    "<span style=\"font-family: Arial; font-weight:bold;font-size:1.5em;color:#00008B;\"> Recommendations Systems - 6th Project submitted for PGP-AIML Great Learning on 27-Feb-2022"
   ]
  },
  {
   "cell_type": "markdown",
   "id": "467835e3",
   "metadata": {},
   "source": [
    "**• DOMAIN:**Smartphone, Electronics <br>\n",
    "\n",
    "**• CONTEXT:** India is the second largest market globally for smartphones after China. About 134 million smartphones were sold across India\n",
    "in the year 2017 and is estimated to increase to about 442 million in 2022. India ranked second in the average time spent on mobile web by\n",
    "smartphone users across Asia Pacific. The combination of very high sales volumes and the average smartphone consumer behaviour has\n",
    "made India a very attractive market for foreign vendors. As per Consumer behaviour, 97% of consumers turn to a search engine when they\n",
    "are buying a product vs. 15% who turn to social media. If a seller succeeds to publish smartphones based on user’s behaviour/choice at the\n",
    "right place, there are 90% chances that user will enquire for the same. This Case Study is targeted to build a recommendation system\n",
    "based on individual consumer’s behaviour or choice. <br>\n",
    "\n",
    "**• DATA Description:** <br>\n",
    "* author : name of the person who gave the rating\n",
    "* country : country the person who gave the rating belongs to\n",
    "* data : date of the rating\n",
    "* domain: website from which the rating was taken from\n",
    "* extract: rating content\n",
    "* language: language in which the rating was given\n",
    "* product: name of the product/mobile phone for which the rating was given\n",
    "* score: average rating for the phone\n",
    "* score_max: highest rating given for the phone\n",
    "* source: source from where the rating was taken\n",
    "\n",
    "**PROJECT OBJECTIVE:**<br> We will build a recommendation system using popularity based and collaborative filtering methods to recommendmobile phones to a user which are most popular and personalised respectively..\n"
   ]
  },
  {
   "cell_type": "markdown",
   "id": "80589181",
   "metadata": {},
   "source": [
    "## Steps and tasks: [ Total Score: 60 points]\n",
    "<span style=\"font-family: Arial; font-weight:bold;font-size:1.5em;color:#00b3e5;\">1.Import the necessary libraries and read the provided CSVs as a data frame and perform the below steps. [15 Marks]"
   ]
  },
  {
   "cell_type": "code",
   "execution_count": 1,
   "id": "8380d2e8",
   "metadata": {},
   "outputs": [],
   "source": [
    "### Importing Required Libraries\n",
    "import pandas as pd\n",
    "from sklearn.cluster import KMeans \n",
    "import matplotlib.pyplot as plt\n",
    "import seaborn as sns\n",
    "from scipy import stats; \n",
    "from scipy.stats import zscore, norm, randint\n",
    "plt.style.use('ggplot')\n"
   ]
  },
  {
   "cell_type": "code",
   "execution_count": 2,
   "id": "423c2a7f",
   "metadata": {},
   "outputs": [],
   "source": [
    "# Ignore warnings\n",
    "import warnings\n",
    "warnings.filterwarnings(\"ignore\")\n",
    "#"
   ]
  },
  {
   "cell_type": "markdown",
   "id": "1072c782",
   "metadata": {},
   "source": [
    "<span style=\"font-family: Arial; font-weight:bold;font-size:1.5em;color:#00b3e5;\">A. Merge all the provided CSVs into one data-frame. [2 Marks]"
   ]
  },
  {
   "cell_type": "code",
   "execution_count": 3,
   "id": "24155a97",
   "metadata": {},
   "outputs": [
    {
     "data": {
      "text/html": [
       "<div>\n",
       "<style scoped>\n",
       "    .dataframe tbody tr th:only-of-type {\n",
       "        vertical-align: middle;\n",
       "    }\n",
       "\n",
       "    .dataframe tbody tr th {\n",
       "        vertical-align: top;\n",
       "    }\n",
       "\n",
       "    .dataframe thead th {\n",
       "        text-align: right;\n",
       "    }\n",
       "</style>\n",
       "<table border=\"1\" class=\"dataframe\">\n",
       "  <thead>\n",
       "    <tr style=\"text-align: right;\">\n",
       "      <th></th>\n",
       "      <th>phone_url</th>\n",
       "      <th>date</th>\n",
       "      <th>lang</th>\n",
       "      <th>country</th>\n",
       "      <th>source</th>\n",
       "      <th>domain</th>\n",
       "      <th>score</th>\n",
       "      <th>score_max</th>\n",
       "      <th>extract</th>\n",
       "      <th>author</th>\n",
       "      <th>product</th>\n",
       "    </tr>\n",
       "  </thead>\n",
       "  <tbody>\n",
       "    <tr>\n",
       "      <th>0</th>\n",
       "      <td>/cellphones/samsung-galaxy-s8/</td>\n",
       "      <td>5/2/2017</td>\n",
       "      <td>en</td>\n",
       "      <td>us</td>\n",
       "      <td>Verizon Wireless</td>\n",
       "      <td>verizonwireless.com</td>\n",
       "      <td>10.0</td>\n",
       "      <td>10.0</td>\n",
       "      <td>As a diehard Samsung fan who has had every Sam...</td>\n",
       "      <td>CarolAnn35</td>\n",
       "      <td>Samsung Galaxy S8</td>\n",
       "    </tr>\n",
       "    <tr>\n",
       "      <th>1</th>\n",
       "      <td>/cellphones/samsung-galaxy-s8/</td>\n",
       "      <td>4/28/2017</td>\n",
       "      <td>en</td>\n",
       "      <td>us</td>\n",
       "      <td>Phone Arena</td>\n",
       "      <td>phonearena.com</td>\n",
       "      <td>10.0</td>\n",
       "      <td>10.0</td>\n",
       "      <td>Love the phone. the phone is sleek and smooth ...</td>\n",
       "      <td>james0923</td>\n",
       "      <td>Samsung Galaxy S8</td>\n",
       "    </tr>\n",
       "    <tr>\n",
       "      <th>2</th>\n",
       "      <td>/cellphones/samsung-galaxy-s8/</td>\n",
       "      <td>5/4/2017</td>\n",
       "      <td>en</td>\n",
       "      <td>us</td>\n",
       "      <td>Amazon</td>\n",
       "      <td>amazon.com</td>\n",
       "      <td>6.0</td>\n",
       "      <td>10.0</td>\n",
       "      <td>Adequate feel. Nice heft. Processor's still sl...</td>\n",
       "      <td>R. Craig</td>\n",
       "      <td>Samsung Galaxy S8 (64GB) G950U 5.8\" 4G LTE Unl...</td>\n",
       "    </tr>\n",
       "    <tr>\n",
       "      <th>3</th>\n",
       "      <td>/cellphones/samsung-galaxy-s8/</td>\n",
       "      <td>5/2/2017</td>\n",
       "      <td>en</td>\n",
       "      <td>us</td>\n",
       "      <td>Samsung</td>\n",
       "      <td>samsung.com</td>\n",
       "      <td>9.2</td>\n",
       "      <td>10.0</td>\n",
       "      <td>Never disappointed. One of the reasons I've be...</td>\n",
       "      <td>Buster2020</td>\n",
       "      <td>Samsung Galaxy S8 64GB (AT&amp;T)</td>\n",
       "    </tr>\n",
       "    <tr>\n",
       "      <th>4</th>\n",
       "      <td>/cellphones/samsung-galaxy-s8/</td>\n",
       "      <td>5/11/2017</td>\n",
       "      <td>en</td>\n",
       "      <td>us</td>\n",
       "      <td>Verizon Wireless</td>\n",
       "      <td>verizonwireless.com</td>\n",
       "      <td>4.0</td>\n",
       "      <td>10.0</td>\n",
       "      <td>I've now found that i'm in a group of people t...</td>\n",
       "      <td>S Ate Mine</td>\n",
       "      <td>Samsung Galaxy S8</td>\n",
       "    </tr>\n",
       "  </tbody>\n",
       "</table>\n",
       "</div>"
      ],
      "text/plain": [
       "                        phone_url       date lang country            source  \\\n",
       "0  /cellphones/samsung-galaxy-s8/   5/2/2017   en      us  Verizon Wireless   \n",
       "1  /cellphones/samsung-galaxy-s8/  4/28/2017   en      us       Phone Arena   \n",
       "2  /cellphones/samsung-galaxy-s8/   5/4/2017   en      us            Amazon   \n",
       "3  /cellphones/samsung-galaxy-s8/   5/2/2017   en      us           Samsung   \n",
       "4  /cellphones/samsung-galaxy-s8/  5/11/2017   en      us  Verizon Wireless   \n",
       "\n",
       "                domain  score  score_max  \\\n",
       "0  verizonwireless.com   10.0       10.0   \n",
       "1       phonearena.com   10.0       10.0   \n",
       "2           amazon.com    6.0       10.0   \n",
       "3          samsung.com    9.2       10.0   \n",
       "4  verizonwireless.com    4.0       10.0   \n",
       "\n",
       "                                             extract       author  \\\n",
       "0  As a diehard Samsung fan who has had every Sam...   CarolAnn35   \n",
       "1  Love the phone. the phone is sleek and smooth ...    james0923   \n",
       "2  Adequate feel. Nice heft. Processor's still sl...     R. Craig   \n",
       "3  Never disappointed. One of the reasons I've be...  Buster2020    \n",
       "4  I've now found that i'm in a group of people t...   S Ate Mine   \n",
       "\n",
       "                                             product  \n",
       "0                                  Samsung Galaxy S8  \n",
       "1                                  Samsung Galaxy S8  \n",
       "2  Samsung Galaxy S8 (64GB) G950U 5.8\" 4G LTE Unl...  \n",
       "3                      Samsung Galaxy S8 64GB (AT&T)  \n",
       "4                                  Samsung Galaxy S8  "
      ]
     },
     "execution_count": 3,
     "metadata": {},
     "output_type": "execute_result"
    }
   ],
   "source": [
    "review_1 = pd.read_csv(\"Data Set\\phone_user_review_file_1.csv\")  # import the csv file\n",
    "review_1.head()"
   ]
  },
  {
   "cell_type": "code",
   "execution_count": 4,
   "id": "bca6aacf",
   "metadata": {},
   "outputs": [
    {
     "data": {
      "text/html": [
       "<div>\n",
       "<style scoped>\n",
       "    .dataframe tbody tr th:only-of-type {\n",
       "        vertical-align: middle;\n",
       "    }\n",
       "\n",
       "    .dataframe tbody tr th {\n",
       "        vertical-align: top;\n",
       "    }\n",
       "\n",
       "    .dataframe thead th {\n",
       "        text-align: right;\n",
       "    }\n",
       "</style>\n",
       "<table border=\"1\" class=\"dataframe\">\n",
       "  <thead>\n",
       "    <tr style=\"text-align: right;\">\n",
       "      <th></th>\n",
       "      <th>phone_url</th>\n",
       "      <th>date</th>\n",
       "      <th>lang</th>\n",
       "      <th>country</th>\n",
       "      <th>source</th>\n",
       "      <th>domain</th>\n",
       "      <th>score</th>\n",
       "      <th>score_max</th>\n",
       "      <th>extract</th>\n",
       "      <th>author</th>\n",
       "      <th>product</th>\n",
       "    </tr>\n",
       "  </thead>\n",
       "  <tbody>\n",
       "    <tr>\n",
       "      <th>0</th>\n",
       "      <td>/cellphones/leagoo-lead-7/</td>\n",
       "      <td>4/15/2015</td>\n",
       "      <td>en</td>\n",
       "      <td>us</td>\n",
       "      <td>Amazon</td>\n",
       "      <td>amazon.com</td>\n",
       "      <td>2.0</td>\n",
       "      <td>10.0</td>\n",
       "      <td>The telephone headset is of poor quality , not...</td>\n",
       "      <td>luis</td>\n",
       "      <td>Leagoo Lead7 5.0 Inch HD JDI LTPS Screen 3G Sm...</td>\n",
       "    </tr>\n",
       "    <tr>\n",
       "      <th>1</th>\n",
       "      <td>/cellphones/leagoo-lead-7/</td>\n",
       "      <td>5/23/2015</td>\n",
       "      <td>en</td>\n",
       "      <td>gb</td>\n",
       "      <td>Amazon</td>\n",
       "      <td>amazon.co.uk</td>\n",
       "      <td>10.0</td>\n",
       "      <td>10.0</td>\n",
       "      <td>This is my first smartphone so I have nothing ...</td>\n",
       "      <td>Mark Lavin</td>\n",
       "      <td>Leagoo Lead 7 Lead7 MTK6582 Quad core 1GB RAM ...</td>\n",
       "    </tr>\n",
       "    <tr>\n",
       "      <th>2</th>\n",
       "      <td>/cellphones/leagoo-lead-7/</td>\n",
       "      <td>4/27/2015</td>\n",
       "      <td>en</td>\n",
       "      <td>gb</td>\n",
       "      <td>Amazon</td>\n",
       "      <td>amazon.co.uk</td>\n",
       "      <td>8.0</td>\n",
       "      <td>10.0</td>\n",
       "      <td>Great phone. Battery life not great but seems ...</td>\n",
       "      <td>tracey</td>\n",
       "      <td>Leagoo Lead 7 Lead7 MTK6582 Quad core 1GB RAM ...</td>\n",
       "    </tr>\n",
       "    <tr>\n",
       "      <th>3</th>\n",
       "      <td>/cellphones/leagoo-lead-7/</td>\n",
       "      <td>4/22/2015</td>\n",
       "      <td>en</td>\n",
       "      <td>gb</td>\n",
       "      <td>Amazon</td>\n",
       "      <td>amazon.co.uk</td>\n",
       "      <td>10.0</td>\n",
       "      <td>10.0</td>\n",
       "      <td>Best 90 quid I've ever spent on a smart phone</td>\n",
       "      <td>Reuben Ingram</td>\n",
       "      <td>Leagoo Lead 7 Lead7 MTK6582 Quad core 1GB RAM ...</td>\n",
       "    </tr>\n",
       "    <tr>\n",
       "      <th>4</th>\n",
       "      <td>/cellphones/leagoo-lead-7/</td>\n",
       "      <td>4/18/2015</td>\n",
       "      <td>en</td>\n",
       "      <td>gb</td>\n",
       "      <td>Amazon</td>\n",
       "      <td>amazon.co.uk</td>\n",
       "      <td>10.0</td>\n",
       "      <td>10.0</td>\n",
       "      <td>I m happy with this phone.it s very good.thx team</td>\n",
       "      <td>viorel</td>\n",
       "      <td>Leagoo Lead 7 Lead7 MTK6582 Quad core 1GB RAM ...</td>\n",
       "    </tr>\n",
       "  </tbody>\n",
       "</table>\n",
       "</div>"
      ],
      "text/plain": [
       "                    phone_url       date lang country  source        domain  \\\n",
       "0  /cellphones/leagoo-lead-7/  4/15/2015   en      us  Amazon    amazon.com   \n",
       "1  /cellphones/leagoo-lead-7/  5/23/2015   en      gb  Amazon  amazon.co.uk   \n",
       "2  /cellphones/leagoo-lead-7/  4/27/2015   en      gb  Amazon  amazon.co.uk   \n",
       "3  /cellphones/leagoo-lead-7/  4/22/2015   en      gb  Amazon  amazon.co.uk   \n",
       "4  /cellphones/leagoo-lead-7/  4/18/2015   en      gb  Amazon  amazon.co.uk   \n",
       "\n",
       "   score  score_max                                            extract  \\\n",
       "0    2.0       10.0  The telephone headset is of poor quality , not...   \n",
       "1   10.0       10.0  This is my first smartphone so I have nothing ...   \n",
       "2    8.0       10.0  Great phone. Battery life not great but seems ...   \n",
       "3   10.0       10.0      Best 90 quid I've ever spent on a smart phone   \n",
       "4   10.0       10.0  I m happy with this phone.it s very good.thx team   \n",
       "\n",
       "          author                                            product  \n",
       "0           luis  Leagoo Lead7 5.0 Inch HD JDI LTPS Screen 3G Sm...  \n",
       "1     Mark Lavin  Leagoo Lead 7 Lead7 MTK6582 Quad core 1GB RAM ...  \n",
       "2         tracey  Leagoo Lead 7 Lead7 MTK6582 Quad core 1GB RAM ...  \n",
       "3  Reuben Ingram  Leagoo Lead 7 Lead7 MTK6582 Quad core 1GB RAM ...  \n",
       "4         viorel  Leagoo Lead 7 Lead7 MTK6582 Quad core 1GB RAM ...  "
      ]
     },
     "execution_count": 4,
     "metadata": {},
     "output_type": "execute_result"
    }
   ],
   "source": [
    "review_2 = pd.read_csv(\"Data Set\\phone_user_review_file_2.csv\")  # import the csv file\n",
    "review_2.head()"
   ]
  },
  {
   "cell_type": "code",
   "execution_count": 5,
   "id": "d944cbad",
   "metadata": {},
   "outputs": [
    {
     "data": {
      "text/html": [
       "<div>\n",
       "<style scoped>\n",
       "    .dataframe tbody tr th:only-of-type {\n",
       "        vertical-align: middle;\n",
       "    }\n",
       "\n",
       "    .dataframe tbody tr th {\n",
       "        vertical-align: top;\n",
       "    }\n",
       "\n",
       "    .dataframe thead th {\n",
       "        text-align: right;\n",
       "    }\n",
       "</style>\n",
       "<table border=\"1\" class=\"dataframe\">\n",
       "  <thead>\n",
       "    <tr style=\"text-align: right;\">\n",
       "      <th></th>\n",
       "      <th>phone_url</th>\n",
       "      <th>date</th>\n",
       "      <th>lang</th>\n",
       "      <th>country</th>\n",
       "      <th>source</th>\n",
       "      <th>domain</th>\n",
       "      <th>score</th>\n",
       "      <th>score_max</th>\n",
       "      <th>extract</th>\n",
       "      <th>author</th>\n",
       "      <th>product</th>\n",
       "    </tr>\n",
       "  </thead>\n",
       "  <tbody>\n",
       "    <tr>\n",
       "      <th>0</th>\n",
       "      <td>/cellphones/samsung-galaxy-s-iii-slim-sm-g3812/</td>\n",
       "      <td>11/7/2015</td>\n",
       "      <td>pt</td>\n",
       "      <td>br</td>\n",
       "      <td>Submarino</td>\n",
       "      <td>submarino.com.br</td>\n",
       "      <td>6.0</td>\n",
       "      <td>10.0</td>\n",
       "      <td>recomendo, eu comprei um, a um ano, e agora co...</td>\n",
       "      <td>herlington tesch</td>\n",
       "      <td>Samsung Smartphone Samsung Galaxy S3 Slim G381...</td>\n",
       "    </tr>\n",
       "    <tr>\n",
       "      <th>1</th>\n",
       "      <td>/cellphones/samsung-galaxy-s-iii-slim-sm-g3812/</td>\n",
       "      <td>10/2/2015</td>\n",
       "      <td>pt</td>\n",
       "      <td>br</td>\n",
       "      <td>Submarino</td>\n",
       "      <td>submarino.com.br</td>\n",
       "      <td>10.0</td>\n",
       "      <td>10.0</td>\n",
       "      <td>Comprei um pouco desconfiada do site e do celu...</td>\n",
       "      <td>Luisa Silva Marieta</td>\n",
       "      <td>Samsung Smartphone Samsung Galaxy S3 Slim G381...</td>\n",
       "    </tr>\n",
       "    <tr>\n",
       "      <th>2</th>\n",
       "      <td>/cellphones/samsung-galaxy-s-iii-slim-sm-g3812/</td>\n",
       "      <td>9/2/2015</td>\n",
       "      <td>pt</td>\n",
       "      <td>br</td>\n",
       "      <td>Submarino</td>\n",
       "      <td>submarino.com.br</td>\n",
       "      <td>10.0</td>\n",
       "      <td>10.0</td>\n",
       "      <td>Muito bom o produto, obvio que tem versões mel...</td>\n",
       "      <td>Cyrus</td>\n",
       "      <td>Samsung Smartphone Samsung Galaxy S3 Slim G381...</td>\n",
       "    </tr>\n",
       "    <tr>\n",
       "      <th>3</th>\n",
       "      <td>/cellphones/samsung-galaxy-s-iii-slim-sm-g3812/</td>\n",
       "      <td>9/2/2015</td>\n",
       "      <td>pt</td>\n",
       "      <td>br</td>\n",
       "      <td>Submarino</td>\n",
       "      <td>submarino.com.br</td>\n",
       "      <td>8.0</td>\n",
       "      <td>10.0</td>\n",
       "      <td>Unica ressalva fica para a camera que poderia ...</td>\n",
       "      <td>Marcela Santa Clara Brito</td>\n",
       "      <td>Samsung Smartphone Samsung Galaxy S3 Slim G381...</td>\n",
       "    </tr>\n",
       "    <tr>\n",
       "      <th>4</th>\n",
       "      <td>/cellphones/samsung-galaxy-s-iii-slim-sm-g3812/</td>\n",
       "      <td>9/1/2015</td>\n",
       "      <td>pt</td>\n",
       "      <td>br</td>\n",
       "      <td>Colombo</td>\n",
       "      <td>colombo.com.br</td>\n",
       "      <td>8.0</td>\n",
       "      <td>10.0</td>\n",
       "      <td>Rapidez e atenção na entrega. O aparelho é mui...</td>\n",
       "      <td>Claudine Maria Kuhn Walendorff</td>\n",
       "      <td>Smartphone Samsung Galaxy S3 Slim, Dual Chip, ...</td>\n",
       "    </tr>\n",
       "  </tbody>\n",
       "</table>\n",
       "</div>"
      ],
      "text/plain": [
       "                                         phone_url       date lang country  \\\n",
       "0  /cellphones/samsung-galaxy-s-iii-slim-sm-g3812/  11/7/2015   pt      br   \n",
       "1  /cellphones/samsung-galaxy-s-iii-slim-sm-g3812/  10/2/2015   pt      br   \n",
       "2  /cellphones/samsung-galaxy-s-iii-slim-sm-g3812/   9/2/2015   pt      br   \n",
       "3  /cellphones/samsung-galaxy-s-iii-slim-sm-g3812/   9/2/2015   pt      br   \n",
       "4  /cellphones/samsung-galaxy-s-iii-slim-sm-g3812/   9/1/2015   pt      br   \n",
       "\n",
       "      source            domain  score  score_max  \\\n",
       "0  Submarino  submarino.com.br    6.0       10.0   \n",
       "1  Submarino  submarino.com.br   10.0       10.0   \n",
       "2  Submarino  submarino.com.br   10.0       10.0   \n",
       "3  Submarino  submarino.com.br    8.0       10.0   \n",
       "4    Colombo    colombo.com.br    8.0       10.0   \n",
       "\n",
       "                                             extract  \\\n",
       "0  recomendo, eu comprei um, a um ano, e agora co...   \n",
       "1  Comprei um pouco desconfiada do site e do celu...   \n",
       "2  Muito bom o produto, obvio que tem versões mel...   \n",
       "3  Unica ressalva fica para a camera que poderia ...   \n",
       "4  Rapidez e atenção na entrega. O aparelho é mui...   \n",
       "\n",
       "                           author  \\\n",
       "0                herlington tesch   \n",
       "1             Luisa Silva Marieta   \n",
       "2                           Cyrus   \n",
       "3       Marcela Santa Clara Brito   \n",
       "4  Claudine Maria Kuhn Walendorff   \n",
       "\n",
       "                                             product  \n",
       "0  Samsung Smartphone Samsung Galaxy S3 Slim G381...  \n",
       "1  Samsung Smartphone Samsung Galaxy S3 Slim G381...  \n",
       "2  Samsung Smartphone Samsung Galaxy S3 Slim G381...  \n",
       "3  Samsung Smartphone Samsung Galaxy S3 Slim G381...  \n",
       "4  Smartphone Samsung Galaxy S3 Slim, Dual Chip, ...  "
      ]
     },
     "execution_count": 5,
     "metadata": {},
     "output_type": "execute_result"
    }
   ],
   "source": [
    "review_3 = pd.read_csv(\"Data Set\\phone_user_review_file_3.csv\")  # import the csv file\n",
    "review_3.head()"
   ]
  },
  {
   "cell_type": "code",
   "execution_count": 6,
   "id": "50a6ed77",
   "metadata": {},
   "outputs": [
    {
     "data": {
      "text/html": [
       "<div>\n",
       "<style scoped>\n",
       "    .dataframe tbody tr th:only-of-type {\n",
       "        vertical-align: middle;\n",
       "    }\n",
       "\n",
       "    .dataframe tbody tr th {\n",
       "        vertical-align: top;\n",
       "    }\n",
       "\n",
       "    .dataframe thead th {\n",
       "        text-align: right;\n",
       "    }\n",
       "</style>\n",
       "<table border=\"1\" class=\"dataframe\">\n",
       "  <thead>\n",
       "    <tr style=\"text-align: right;\">\n",
       "      <th></th>\n",
       "      <th>phone_url</th>\n",
       "      <th>date</th>\n",
       "      <th>lang</th>\n",
       "      <th>country</th>\n",
       "      <th>source</th>\n",
       "      <th>domain</th>\n",
       "      <th>score</th>\n",
       "      <th>score_max</th>\n",
       "      <th>extract</th>\n",
       "      <th>author</th>\n",
       "      <th>product</th>\n",
       "    </tr>\n",
       "  </thead>\n",
       "  <tbody>\n",
       "    <tr>\n",
       "      <th>0</th>\n",
       "      <td>/cellphones/samsung-s7262-duos-galaxy-ace/</td>\n",
       "      <td>3/11/2015</td>\n",
       "      <td>en</td>\n",
       "      <td>us</td>\n",
       "      <td>Amazon</td>\n",
       "      <td>amazon.com</td>\n",
       "      <td>2.0</td>\n",
       "      <td>10.0</td>\n",
       "      <td>was not conpatable with my phone as stated. I ...</td>\n",
       "      <td>Frances DeSimone</td>\n",
       "      <td>Samsung Galaxy Star Pro DUOS S7262 Unlocked Ce...</td>\n",
       "    </tr>\n",
       "    <tr>\n",
       "      <th>1</th>\n",
       "      <td>/cellphones/samsung-s7262-duos-galaxy-ace/</td>\n",
       "      <td>17/11/2015</td>\n",
       "      <td>en</td>\n",
       "      <td>in</td>\n",
       "      <td>Zopper</td>\n",
       "      <td>zopper.com</td>\n",
       "      <td>10.0</td>\n",
       "      <td>10.0</td>\n",
       "      <td>Decent Functions and Easy to Operate Pros:- Th...</td>\n",
       "      <td>Expert Review</td>\n",
       "      <td>Samsung Galaxy Star Pro S7262 Black</td>\n",
       "    </tr>\n",
       "    <tr>\n",
       "      <th>2</th>\n",
       "      <td>/cellphones/samsung-s7262-duos-galaxy-ace/</td>\n",
       "      <td>29/10/2015</td>\n",
       "      <td>en</td>\n",
       "      <td>in</td>\n",
       "      <td>Amazon</td>\n",
       "      <td>amazon.in</td>\n",
       "      <td>4.0</td>\n",
       "      <td>10.0</td>\n",
       "      <td>Not Good Phone such price. Hang too much and v...</td>\n",
       "      <td>Amazon Customer</td>\n",
       "      <td>Samsung Galaxy Star Pro GT-S7262 (Midnight Black)</td>\n",
       "    </tr>\n",
       "    <tr>\n",
       "      <th>3</th>\n",
       "      <td>/cellphones/samsung-s7262-duos-galaxy-ace/</td>\n",
       "      <td>29/10/2015</td>\n",
       "      <td>en</td>\n",
       "      <td>in</td>\n",
       "      <td>Amazon</td>\n",
       "      <td>amazon.in</td>\n",
       "      <td>6.0</td>\n",
       "      <td>10.0</td>\n",
       "      <td>not bad for features</td>\n",
       "      <td>Amazon Customer</td>\n",
       "      <td>Samsung Galaxy Star Pro GT-S7262 (Midnight Black)</td>\n",
       "    </tr>\n",
       "    <tr>\n",
       "      <th>4</th>\n",
       "      <td>/cellphones/samsung-s7262-duos-galaxy-ace/</td>\n",
       "      <td>29/10/2015</td>\n",
       "      <td>en</td>\n",
       "      <td>in</td>\n",
       "      <td>Amazon</td>\n",
       "      <td>amazon.in</td>\n",
       "      <td>10.0</td>\n",
       "      <td>10.0</td>\n",
       "      <td>Excellent product</td>\n",
       "      <td>NHK</td>\n",
       "      <td>Samsung Galaxy Star Pro GT-S7262 (Midnight Black)</td>\n",
       "    </tr>\n",
       "  </tbody>\n",
       "</table>\n",
       "</div>"
      ],
      "text/plain": [
       "                                    phone_url        date lang country  \\\n",
       "0  /cellphones/samsung-s7262-duos-galaxy-ace/   3/11/2015   en      us   \n",
       "1  /cellphones/samsung-s7262-duos-galaxy-ace/  17/11/2015   en      in   \n",
       "2  /cellphones/samsung-s7262-duos-galaxy-ace/  29/10/2015   en      in   \n",
       "3  /cellphones/samsung-s7262-duos-galaxy-ace/  29/10/2015   en      in   \n",
       "4  /cellphones/samsung-s7262-duos-galaxy-ace/  29/10/2015   en      in   \n",
       "\n",
       "   source      domain  score  score_max  \\\n",
       "0  Amazon  amazon.com    2.0       10.0   \n",
       "1  Zopper  zopper.com   10.0       10.0   \n",
       "2  Amazon   amazon.in    4.0       10.0   \n",
       "3  Amazon   amazon.in    6.0       10.0   \n",
       "4  Amazon   amazon.in   10.0       10.0   \n",
       "\n",
       "                                             extract            author  \\\n",
       "0  was not conpatable with my phone as stated. I ...  Frances DeSimone   \n",
       "1  Decent Functions and Easy to Operate Pros:- Th...     Expert Review   \n",
       "2  Not Good Phone such price. Hang too much and v...   Amazon Customer   \n",
       "3                               not bad for features   Amazon Customer   \n",
       "4                                  Excellent product               NHK   \n",
       "\n",
       "                                             product  \n",
       "0  Samsung Galaxy Star Pro DUOS S7262 Unlocked Ce...  \n",
       "1                Samsung Galaxy Star Pro S7262 Black  \n",
       "2  Samsung Galaxy Star Pro GT-S7262 (Midnight Black)  \n",
       "3  Samsung Galaxy Star Pro GT-S7262 (Midnight Black)  \n",
       "4  Samsung Galaxy Star Pro GT-S7262 (Midnight Black)  "
      ]
     },
     "execution_count": 6,
     "metadata": {},
     "output_type": "execute_result"
    }
   ],
   "source": [
    "review_4 = pd.read_csv(\"Data Set\\phone_user_review_file_4.csv\")  # import the csv file\n",
    "review_4.head()"
   ]
  },
  {
   "cell_type": "code",
   "execution_count": 7,
   "id": "7176d95a",
   "metadata": {},
   "outputs": [
    {
     "data": {
      "text/html": [
       "<div>\n",
       "<style scoped>\n",
       "    .dataframe tbody tr th:only-of-type {\n",
       "        vertical-align: middle;\n",
       "    }\n",
       "\n",
       "    .dataframe tbody tr th {\n",
       "        vertical-align: top;\n",
       "    }\n",
       "\n",
       "    .dataframe thead th {\n",
       "        text-align: right;\n",
       "    }\n",
       "</style>\n",
       "<table border=\"1\" class=\"dataframe\">\n",
       "  <thead>\n",
       "    <tr style=\"text-align: right;\">\n",
       "      <th></th>\n",
       "      <th>phone_url</th>\n",
       "      <th>date</th>\n",
       "      <th>lang</th>\n",
       "      <th>country</th>\n",
       "      <th>source</th>\n",
       "      <th>domain</th>\n",
       "      <th>score</th>\n",
       "      <th>score_max</th>\n",
       "      <th>extract</th>\n",
       "      <th>author</th>\n",
       "      <th>product</th>\n",
       "    </tr>\n",
       "  </thead>\n",
       "  <tbody>\n",
       "    <tr>\n",
       "      <th>0</th>\n",
       "      <td>/cellphones/karbonn-k1616/</td>\n",
       "      <td>7/13/2016</td>\n",
       "      <td>en</td>\n",
       "      <td>in</td>\n",
       "      <td>91 Mobiles</td>\n",
       "      <td>91mobiles.com</td>\n",
       "      <td>2.0</td>\n",
       "      <td>10.0</td>\n",
       "      <td>I bought 1 month before. currently speaker is ...</td>\n",
       "      <td>venkatesh</td>\n",
       "      <td>Karbonn K1616</td>\n",
       "    </tr>\n",
       "    <tr>\n",
       "      <th>1</th>\n",
       "      <td>/cellphones/karbonn-k1616/</td>\n",
       "      <td>7/13/2016</td>\n",
       "      <td>en</td>\n",
       "      <td>in</td>\n",
       "      <td>91 Mobiles</td>\n",
       "      <td>91mobiles.com</td>\n",
       "      <td>6.0</td>\n",
       "      <td>10.0</td>\n",
       "      <td>I just bought one week back, I have Airtel con...</td>\n",
       "      <td>Venkat</td>\n",
       "      <td>Karbonn K1616</td>\n",
       "    </tr>\n",
       "    <tr>\n",
       "      <th>2</th>\n",
       "      <td>/cellphones/karbonn-k1616/</td>\n",
       "      <td>7/13/2016</td>\n",
       "      <td>en</td>\n",
       "      <td>in</td>\n",
       "      <td>91 Mobiles</td>\n",
       "      <td>91mobiles.com</td>\n",
       "      <td>4.0</td>\n",
       "      <td>10.0</td>\n",
       "      <td>one problem in this handset opera is not worki...</td>\n",
       "      <td>krrish</td>\n",
       "      <td>Karbonn K1616</td>\n",
       "    </tr>\n",
       "    <tr>\n",
       "      <th>3</th>\n",
       "      <td>/cellphones/karbonn-k1616/</td>\n",
       "      <td>4/25/2014</td>\n",
       "      <td>en</td>\n",
       "      <td>in</td>\n",
       "      <td>Naaptol</td>\n",
       "      <td>naaptol.com</td>\n",
       "      <td>10.0</td>\n",
       "      <td>10.0</td>\n",
       "      <td>here Karbonn comes up with an another excellen...</td>\n",
       "      <td>BRIJESH CHAUHAN</td>\n",
       "      <td>Karbonn K1616 - Black</td>\n",
       "    </tr>\n",
       "    <tr>\n",
       "      <th>4</th>\n",
       "      <td>/cellphones/karbonn-k1616/</td>\n",
       "      <td>4/23/2013</td>\n",
       "      <td>en</td>\n",
       "      <td>in</td>\n",
       "      <td>Naaptol</td>\n",
       "      <td>naaptol.com</td>\n",
       "      <td>10.0</td>\n",
       "      <td>10.0</td>\n",
       "      <td>What a phone, all so on Naaptol my god 23% off...</td>\n",
       "      <td>Suraj CHAUHAN</td>\n",
       "      <td>Karbonn K1616 - Black</td>\n",
       "    </tr>\n",
       "  </tbody>\n",
       "</table>\n",
       "</div>"
      ],
      "text/plain": [
       "                    phone_url       date lang country      source  \\\n",
       "0  /cellphones/karbonn-k1616/  7/13/2016   en      in  91 Mobiles   \n",
       "1  /cellphones/karbonn-k1616/  7/13/2016   en      in  91 Mobiles   \n",
       "2  /cellphones/karbonn-k1616/  7/13/2016   en      in  91 Mobiles   \n",
       "3  /cellphones/karbonn-k1616/  4/25/2014   en      in     Naaptol   \n",
       "4  /cellphones/karbonn-k1616/  4/23/2013   en      in     Naaptol   \n",
       "\n",
       "          domain  score  score_max  \\\n",
       "0  91mobiles.com    2.0       10.0   \n",
       "1  91mobiles.com    6.0       10.0   \n",
       "2  91mobiles.com    4.0       10.0   \n",
       "3    naaptol.com   10.0       10.0   \n",
       "4    naaptol.com   10.0       10.0   \n",
       "\n",
       "                                             extract           author  \\\n",
       "0  I bought 1 month before. currently speaker is ...        venkatesh   \n",
       "1  I just bought one week back, I have Airtel con...           Venkat   \n",
       "2  one problem in this handset opera is not worki...           krrish   \n",
       "3  here Karbonn comes up with an another excellen...  BRIJESH CHAUHAN   \n",
       "4  What a phone, all so on Naaptol my god 23% off...    Suraj CHAUHAN   \n",
       "\n",
       "                 product  \n",
       "0          Karbonn K1616  \n",
       "1          Karbonn K1616  \n",
       "2          Karbonn K1616  \n",
       "3  Karbonn K1616 - Black  \n",
       "4  Karbonn K1616 - Black  "
      ]
     },
     "execution_count": 7,
     "metadata": {},
     "output_type": "execute_result"
    }
   ],
   "source": [
    "review_5 = pd.read_csv(\"Data Set\\phone_user_review_file_5.csv\")  # import the csv file\n",
    "review_5.head()"
   ]
  },
  {
   "cell_type": "code",
   "execution_count": 8,
   "id": "36799c08",
   "metadata": {},
   "outputs": [
    {
     "data": {
      "text/html": [
       "<div>\n",
       "<style scoped>\n",
       "    .dataframe tbody tr th:only-of-type {\n",
       "        vertical-align: middle;\n",
       "    }\n",
       "\n",
       "    .dataframe tbody tr th {\n",
       "        vertical-align: top;\n",
       "    }\n",
       "\n",
       "    .dataframe thead th {\n",
       "        text-align: right;\n",
       "    }\n",
       "</style>\n",
       "<table border=\"1\" class=\"dataframe\">\n",
       "  <thead>\n",
       "    <tr style=\"text-align: right;\">\n",
       "      <th></th>\n",
       "      <th>phone_url</th>\n",
       "      <th>date</th>\n",
       "      <th>lang</th>\n",
       "      <th>country</th>\n",
       "      <th>source</th>\n",
       "      <th>domain</th>\n",
       "      <th>score</th>\n",
       "      <th>score_max</th>\n",
       "      <th>extract</th>\n",
       "      <th>author</th>\n",
       "      <th>product</th>\n",
       "    </tr>\n",
       "  </thead>\n",
       "  <tbody>\n",
       "    <tr>\n",
       "      <th>0</th>\n",
       "      <td>/cellphones/samsung-instinct-sph-m800/</td>\n",
       "      <td>9/16/2011</td>\n",
       "      <td>en</td>\n",
       "      <td>us</td>\n",
       "      <td>Phone Arena</td>\n",
       "      <td>phonearena.com</td>\n",
       "      <td>8.0</td>\n",
       "      <td>10.0</td>\n",
       "      <td>I've had the phone for awhile and it's a prett...</td>\n",
       "      <td>ajabrams95</td>\n",
       "      <td>Samsung Instinct HD</td>\n",
       "    </tr>\n",
       "    <tr>\n",
       "      <th>1</th>\n",
       "      <td>/cellphones/samsung-instinct-sph-m800/</td>\n",
       "      <td>2/13/2014</td>\n",
       "      <td>en</td>\n",
       "      <td>us</td>\n",
       "      <td>Amazon</td>\n",
       "      <td>amazon.com</td>\n",
       "      <td>6.0</td>\n",
       "      <td>10.0</td>\n",
       "      <td>to be clear it is not the sellers fault that t...</td>\n",
       "      <td>Stephanie</td>\n",
       "      <td>Samsung SPH M800 Instinct</td>\n",
       "    </tr>\n",
       "    <tr>\n",
       "      <th>2</th>\n",
       "      <td>/cellphones/samsung-instinct-sph-m800/</td>\n",
       "      <td>12/30/2011</td>\n",
       "      <td>en</td>\n",
       "      <td>us</td>\n",
       "      <td>Phone Scoop</td>\n",
       "      <td>phonescoop.com</td>\n",
       "      <td>9.0</td>\n",
       "      <td>10.0</td>\n",
       "      <td>Well i love this phone. i have had ton of phon...</td>\n",
       "      <td>snickers</td>\n",
       "      <td>Instinct M800</td>\n",
       "    </tr>\n",
       "    <tr>\n",
       "      <th>3</th>\n",
       "      <td>/cellphones/samsung-instinct-sph-m800/</td>\n",
       "      <td>10/18/2008</td>\n",
       "      <td>en</td>\n",
       "      <td>us</td>\n",
       "      <td>HandCellPhone</td>\n",
       "      <td>handcellphone.com</td>\n",
       "      <td>4.0</td>\n",
       "      <td>10.0</td>\n",
       "      <td>I have had my Instinct for several months now ...</td>\n",
       "      <td>A4C</td>\n",
       "      <td>Samsung Instinct</td>\n",
       "    </tr>\n",
       "    <tr>\n",
       "      <th>4</th>\n",
       "      <td>/cellphones/samsung-instinct-sph-m800/</td>\n",
       "      <td>9/6/2008</td>\n",
       "      <td>en</td>\n",
       "      <td>us</td>\n",
       "      <td>Reviewed.com</td>\n",
       "      <td>reviewed.com</td>\n",
       "      <td>6.0</td>\n",
       "      <td>10.0</td>\n",
       "      <td>i have had this instinct phone for about two m...</td>\n",
       "      <td>betaBgood</td>\n",
       "      <td>Samsung Instinct</td>\n",
       "    </tr>\n",
       "  </tbody>\n",
       "</table>\n",
       "</div>"
      ],
      "text/plain": [
       "                                phone_url        date lang country  \\\n",
       "0  /cellphones/samsung-instinct-sph-m800/   9/16/2011   en      us   \n",
       "1  /cellphones/samsung-instinct-sph-m800/   2/13/2014   en      us   \n",
       "2  /cellphones/samsung-instinct-sph-m800/  12/30/2011   en      us   \n",
       "3  /cellphones/samsung-instinct-sph-m800/  10/18/2008   en      us   \n",
       "4  /cellphones/samsung-instinct-sph-m800/    9/6/2008   en      us   \n",
       "\n",
       "          source             domain  score  score_max  \\\n",
       "0    Phone Arena     phonearena.com    8.0       10.0   \n",
       "1         Amazon         amazon.com    6.0       10.0   \n",
       "2    Phone Scoop     phonescoop.com    9.0       10.0   \n",
       "3  HandCellPhone  handcellphone.com    4.0       10.0   \n",
       "4   Reviewed.com       reviewed.com    6.0       10.0   \n",
       "\n",
       "                                             extract      author  \\\n",
       "0  I've had the phone for awhile and it's a prett...  ajabrams95   \n",
       "1  to be clear it is not the sellers fault that t...   Stephanie   \n",
       "2  Well i love this phone. i have had ton of phon...    snickers   \n",
       "3  I have had my Instinct for several months now ...         A4C   \n",
       "4  i have had this instinct phone for about two m...   betaBgood   \n",
       "\n",
       "                     product  \n",
       "0        Samsung Instinct HD  \n",
       "1  Samsung SPH M800 Instinct  \n",
       "2              Instinct M800  \n",
       "3           Samsung Instinct  \n",
       "4           Samsung Instinct  "
      ]
     },
     "execution_count": 8,
     "metadata": {},
     "output_type": "execute_result"
    }
   ],
   "source": [
    "review_6 = pd.read_csv(\"Data Set\\phone_user_review_file_6.csv\")  # import the csv file\n",
    "review_6.head()"
   ]
  },
  {
   "cell_type": "code",
   "execution_count": 9,
   "id": "27d9d9bc",
   "metadata": {},
   "outputs": [
    {
     "data": {
      "text/plain": [
       "(374910, 11)"
      ]
     },
     "execution_count": 9,
     "metadata": {},
     "output_type": "execute_result"
    }
   ],
   "source": [
    "review_1.shape"
   ]
  },
  {
   "cell_type": "code",
   "execution_count": 10,
   "id": "de987eb8",
   "metadata": {},
   "outputs": [
    {
     "data": {
      "text/plain": [
       "(114925, 11)"
      ]
     },
     "execution_count": 10,
     "metadata": {},
     "output_type": "execute_result"
    }
   ],
   "source": [
    "review_2.shape"
   ]
  },
  {
   "cell_type": "code",
   "execution_count": 11,
   "id": "139cdb42",
   "metadata": {},
   "outputs": [
    {
     "data": {
      "text/plain": [
       "(312961, 11)"
      ]
     },
     "execution_count": 11,
     "metadata": {},
     "output_type": "execute_result"
    }
   ],
   "source": [
    "review_3.shape"
   ]
  },
  {
   "cell_type": "code",
   "execution_count": 12,
   "id": "dbea8021",
   "metadata": {},
   "outputs": [
    {
     "data": {
      "text/plain": [
       "(98284, 11)"
      ]
     },
     "execution_count": 12,
     "metadata": {},
     "output_type": "execute_result"
    }
   ],
   "source": [
    "review_4.shape"
   ]
  },
  {
   "cell_type": "code",
   "execution_count": 13,
   "id": "fba22062",
   "metadata": {},
   "outputs": [
    {
     "data": {
      "text/plain": [
       "(350216, 11)"
      ]
     },
     "execution_count": 13,
     "metadata": {},
     "output_type": "execute_result"
    }
   ],
   "source": [
    "review_5.shape"
   ]
  },
  {
   "cell_type": "code",
   "execution_count": 14,
   "id": "cb883cf4",
   "metadata": {},
   "outputs": [
    {
     "data": {
      "text/plain": [
       "(163837, 11)"
      ]
     },
     "execution_count": 14,
     "metadata": {},
     "output_type": "execute_result"
    }
   ],
   "source": [
    "review_6.shape"
   ]
  },
  {
   "cell_type": "code",
   "execution_count": 68,
   "id": "e6ea48dd",
   "metadata": {},
   "outputs": [],
   "source": [
    "frames = [review_1, review_2, review_3,review_4,review_5,review_6]\n",
    "phone_review = pd.concat(frames, ignore_index=True) # ignore index helps in ignoring index and creating new ones"
   ]
  },
  {
   "cell_type": "markdown",
   "id": "ce22e5c7",
   "metadata": {},
   "source": [
    "**Comments**: Ignore_index helps in ignoring existing indices and creating the new ones."
   ]
  },
  {
   "cell_type": "code",
   "execution_count": 16,
   "id": "9fed0ba9",
   "metadata": {},
   "outputs": [
    {
     "data": {
      "text/html": [
       "<div>\n",
       "<style scoped>\n",
       "    .dataframe tbody tr th:only-of-type {\n",
       "        vertical-align: middle;\n",
       "    }\n",
       "\n",
       "    .dataframe tbody tr th {\n",
       "        vertical-align: top;\n",
       "    }\n",
       "\n",
       "    .dataframe thead th {\n",
       "        text-align: right;\n",
       "    }\n",
       "</style>\n",
       "<table border=\"1\" class=\"dataframe\">\n",
       "  <thead>\n",
       "    <tr style=\"text-align: right;\">\n",
       "      <th></th>\n",
       "      <th>phone_url</th>\n",
       "      <th>date</th>\n",
       "      <th>lang</th>\n",
       "      <th>country</th>\n",
       "      <th>source</th>\n",
       "      <th>domain</th>\n",
       "      <th>score</th>\n",
       "      <th>score_max</th>\n",
       "      <th>extract</th>\n",
       "      <th>author</th>\n",
       "      <th>product</th>\n",
       "    </tr>\n",
       "  </thead>\n",
       "  <tbody>\n",
       "    <tr>\n",
       "      <th>0</th>\n",
       "      <td>/cellphones/samsung-galaxy-s8/</td>\n",
       "      <td>5/2/2017</td>\n",
       "      <td>en</td>\n",
       "      <td>us</td>\n",
       "      <td>Verizon Wireless</td>\n",
       "      <td>verizonwireless.com</td>\n",
       "      <td>10.0</td>\n",
       "      <td>10.0</td>\n",
       "      <td>As a diehard Samsung fan who has had every Sam...</td>\n",
       "      <td>CarolAnn35</td>\n",
       "      <td>Samsung Galaxy S8</td>\n",
       "    </tr>\n",
       "    <tr>\n",
       "      <th>1</th>\n",
       "      <td>/cellphones/samsung-galaxy-s8/</td>\n",
       "      <td>4/28/2017</td>\n",
       "      <td>en</td>\n",
       "      <td>us</td>\n",
       "      <td>Phone Arena</td>\n",
       "      <td>phonearena.com</td>\n",
       "      <td>10.0</td>\n",
       "      <td>10.0</td>\n",
       "      <td>Love the phone. the phone is sleek and smooth ...</td>\n",
       "      <td>james0923</td>\n",
       "      <td>Samsung Galaxy S8</td>\n",
       "    </tr>\n",
       "    <tr>\n",
       "      <th>2</th>\n",
       "      <td>/cellphones/samsung-galaxy-s8/</td>\n",
       "      <td>5/4/2017</td>\n",
       "      <td>en</td>\n",
       "      <td>us</td>\n",
       "      <td>Amazon</td>\n",
       "      <td>amazon.com</td>\n",
       "      <td>6.0</td>\n",
       "      <td>10.0</td>\n",
       "      <td>Adequate feel. Nice heft. Processor's still sl...</td>\n",
       "      <td>R. Craig</td>\n",
       "      <td>Samsung Galaxy S8 (64GB) G950U 5.8\" 4G LTE Unl...</td>\n",
       "    </tr>\n",
       "    <tr>\n",
       "      <th>3</th>\n",
       "      <td>/cellphones/samsung-galaxy-s8/</td>\n",
       "      <td>5/2/2017</td>\n",
       "      <td>en</td>\n",
       "      <td>us</td>\n",
       "      <td>Samsung</td>\n",
       "      <td>samsung.com</td>\n",
       "      <td>9.2</td>\n",
       "      <td>10.0</td>\n",
       "      <td>Never disappointed. One of the reasons I've be...</td>\n",
       "      <td>Buster2020</td>\n",
       "      <td>Samsung Galaxy S8 64GB (AT&amp;T)</td>\n",
       "    </tr>\n",
       "    <tr>\n",
       "      <th>4</th>\n",
       "      <td>/cellphones/samsung-galaxy-s8/</td>\n",
       "      <td>5/11/2017</td>\n",
       "      <td>en</td>\n",
       "      <td>us</td>\n",
       "      <td>Verizon Wireless</td>\n",
       "      <td>verizonwireless.com</td>\n",
       "      <td>4.0</td>\n",
       "      <td>10.0</td>\n",
       "      <td>I've now found that i'm in a group of people t...</td>\n",
       "      <td>S Ate Mine</td>\n",
       "      <td>Samsung Galaxy S8</td>\n",
       "    </tr>\n",
       "  </tbody>\n",
       "</table>\n",
       "</div>"
      ],
      "text/plain": [
       "                        phone_url       date lang country            source  \\\n",
       "0  /cellphones/samsung-galaxy-s8/   5/2/2017   en      us  Verizon Wireless   \n",
       "1  /cellphones/samsung-galaxy-s8/  4/28/2017   en      us       Phone Arena   \n",
       "2  /cellphones/samsung-galaxy-s8/   5/4/2017   en      us            Amazon   \n",
       "3  /cellphones/samsung-galaxy-s8/   5/2/2017   en      us           Samsung   \n",
       "4  /cellphones/samsung-galaxy-s8/  5/11/2017   en      us  Verizon Wireless   \n",
       "\n",
       "                domain  score  score_max  \\\n",
       "0  verizonwireless.com   10.0       10.0   \n",
       "1       phonearena.com   10.0       10.0   \n",
       "2           amazon.com    6.0       10.0   \n",
       "3          samsung.com    9.2       10.0   \n",
       "4  verizonwireless.com    4.0       10.0   \n",
       "\n",
       "                                             extract       author  \\\n",
       "0  As a diehard Samsung fan who has had every Sam...   CarolAnn35   \n",
       "1  Love the phone. the phone is sleek and smooth ...    james0923   \n",
       "2  Adequate feel. Nice heft. Processor's still sl...     R. Craig   \n",
       "3  Never disappointed. One of the reasons I've be...  Buster2020    \n",
       "4  I've now found that i'm in a group of people t...   S Ate Mine   \n",
       "\n",
       "                                             product  \n",
       "0                                  Samsung Galaxy S8  \n",
       "1                                  Samsung Galaxy S8  \n",
       "2  Samsung Galaxy S8 (64GB) G950U 5.8\" 4G LTE Unl...  \n",
       "3                      Samsung Galaxy S8 64GB (AT&T)  \n",
       "4                                  Samsung Galaxy S8  "
      ]
     },
     "execution_count": 16,
     "metadata": {},
     "output_type": "execute_result"
    }
   ],
   "source": [
    "phone_review.head()"
   ]
  },
  {
   "cell_type": "code",
   "execution_count": 17,
   "id": "a166d355",
   "metadata": {},
   "outputs": [
    {
     "data": {
      "text/html": [
       "<div>\n",
       "<style scoped>\n",
       "    .dataframe tbody tr th:only-of-type {\n",
       "        vertical-align: middle;\n",
       "    }\n",
       "\n",
       "    .dataframe tbody tr th {\n",
       "        vertical-align: top;\n",
       "    }\n",
       "\n",
       "    .dataframe thead th {\n",
       "        text-align: right;\n",
       "    }\n",
       "</style>\n",
       "<table border=\"1\" class=\"dataframe\">\n",
       "  <thead>\n",
       "    <tr style=\"text-align: right;\">\n",
       "      <th></th>\n",
       "      <th>phone_url</th>\n",
       "      <th>date</th>\n",
       "      <th>lang</th>\n",
       "      <th>country</th>\n",
       "      <th>source</th>\n",
       "      <th>domain</th>\n",
       "      <th>score</th>\n",
       "      <th>score_max</th>\n",
       "      <th>extract</th>\n",
       "      <th>author</th>\n",
       "      <th>product</th>\n",
       "    </tr>\n",
       "  </thead>\n",
       "  <tbody>\n",
       "    <tr>\n",
       "      <th>1415128</th>\n",
       "      <td>/cellphones/alcatel-ot-club_1187/</td>\n",
       "      <td>5/12/2000</td>\n",
       "      <td>de</td>\n",
       "      <td>de</td>\n",
       "      <td>Ciao</td>\n",
       "      <td>ciao.de</td>\n",
       "      <td>2.0</td>\n",
       "      <td>10.0</td>\n",
       "      <td>Weil mein Onkel bei ALcatel arbeitet habe ich ...</td>\n",
       "      <td>david.paul</td>\n",
       "      <td>Alcatel Club Plus Handy</td>\n",
       "    </tr>\n",
       "    <tr>\n",
       "      <th>1415129</th>\n",
       "      <td>/cellphones/alcatel-ot-club_1187/</td>\n",
       "      <td>5/11/2000</td>\n",
       "      <td>de</td>\n",
       "      <td>de</td>\n",
       "      <td>Ciao</td>\n",
       "      <td>ciao.de</td>\n",
       "      <td>10.0</td>\n",
       "      <td>10.0</td>\n",
       "      <td>Hy Liebe Leserinnen und Leser!! Ich habe seit ...</td>\n",
       "      <td>Christiane14</td>\n",
       "      <td>Alcatel Club Plus Handy</td>\n",
       "    </tr>\n",
       "    <tr>\n",
       "      <th>1415130</th>\n",
       "      <td>/cellphones/alcatel-ot-club_1187/</td>\n",
       "      <td>5/4/2000</td>\n",
       "      <td>de</td>\n",
       "      <td>de</td>\n",
       "      <td>Ciao</td>\n",
       "      <td>ciao.de</td>\n",
       "      <td>2.0</td>\n",
       "      <td>10.0</td>\n",
       "      <td>Jetzt hat wohl Alcatell gedacht ,sie machen wa...</td>\n",
       "      <td>michaelawr</td>\n",
       "      <td>Alcatel Club Plus Handy</td>\n",
       "    </tr>\n",
       "    <tr>\n",
       "      <th>1415131</th>\n",
       "      <td>/cellphones/alcatel-ot-club_1187/</td>\n",
       "      <td>5/1/2000</td>\n",
       "      <td>de</td>\n",
       "      <td>de</td>\n",
       "      <td>Ciao</td>\n",
       "      <td>ciao.de</td>\n",
       "      <td>8.0</td>\n",
       "      <td>10.0</td>\n",
       "      <td>Ich bin seit 2 Jahren (stolzer) Besitzer eines...</td>\n",
       "      <td>claudia0815</td>\n",
       "      <td>Alcatel Club Plus Handy</td>\n",
       "    </tr>\n",
       "    <tr>\n",
       "      <th>1415132</th>\n",
       "      <td>/cellphones/alcatel-ot-club_1187/</td>\n",
       "      <td>4/25/2000</td>\n",
       "      <td>de</td>\n",
       "      <td>de</td>\n",
       "      <td>Ciao</td>\n",
       "      <td>ciao.de</td>\n",
       "      <td>2.0</td>\n",
       "      <td>10.0</td>\n",
       "      <td>Was sich Alkatel hier wieder ausgedacht hat,sc...</td>\n",
       "      <td>michaelawr</td>\n",
       "      <td>Alcatel Club Plus Handy</td>\n",
       "    </tr>\n",
       "  </tbody>\n",
       "</table>\n",
       "</div>"
      ],
      "text/plain": [
       "                                 phone_url       date lang country source  \\\n",
       "1415128  /cellphones/alcatel-ot-club_1187/  5/12/2000   de      de   Ciao   \n",
       "1415129  /cellphones/alcatel-ot-club_1187/  5/11/2000   de      de   Ciao   \n",
       "1415130  /cellphones/alcatel-ot-club_1187/   5/4/2000   de      de   Ciao   \n",
       "1415131  /cellphones/alcatel-ot-club_1187/   5/1/2000   de      de   Ciao   \n",
       "1415132  /cellphones/alcatel-ot-club_1187/  4/25/2000   de      de   Ciao   \n",
       "\n",
       "          domain  score  score_max  \\\n",
       "1415128  ciao.de    2.0       10.0   \n",
       "1415129  ciao.de   10.0       10.0   \n",
       "1415130  ciao.de    2.0       10.0   \n",
       "1415131  ciao.de    8.0       10.0   \n",
       "1415132  ciao.de    2.0       10.0   \n",
       "\n",
       "                                                   extract        author  \\\n",
       "1415128  Weil mein Onkel bei ALcatel arbeitet habe ich ...    david.paul   \n",
       "1415129  Hy Liebe Leserinnen und Leser!! Ich habe seit ...  Christiane14   \n",
       "1415130  Jetzt hat wohl Alcatell gedacht ,sie machen wa...    michaelawr   \n",
       "1415131  Ich bin seit 2 Jahren (stolzer) Besitzer eines...   claudia0815   \n",
       "1415132  Was sich Alkatel hier wieder ausgedacht hat,sc...    michaelawr   \n",
       "\n",
       "                         product  \n",
       "1415128  Alcatel Club Plus Handy  \n",
       "1415129  Alcatel Club Plus Handy  \n",
       "1415130  Alcatel Club Plus Handy  \n",
       "1415131  Alcatel Club Plus Handy  \n",
       "1415132  Alcatel Club Plus Handy  "
      ]
     },
     "execution_count": 17,
     "metadata": {},
     "output_type": "execute_result"
    }
   ],
   "source": [
    "phone_review.tail()"
   ]
  },
  {
   "cell_type": "markdown",
   "id": "c8a87e6e",
   "metadata": {},
   "source": [
    "<span style=\"font-family: Arial; font-weight:bold;font-size:1.5em;color:#00b3e5;\">B. Explore, understand the Data and share at least 2 observations. [2 Marks]"
   ]
  },
  {
   "cell_type": "code",
   "execution_count": 18,
   "id": "01ba7651",
   "metadata": {},
   "outputs": [
    {
     "data": {
      "text/plain": [
       "(1415133, 11)"
      ]
     },
     "execution_count": 18,
     "metadata": {},
     "output_type": "execute_result"
    }
   ],
   "source": [
    "phone_review.shape"
   ]
  },
  {
   "cell_type": "markdown",
   "id": "d0bf8c94",
   "metadata": {},
   "source": [
    "**Comments :** There are 1415133 records avaiable totally from all the dataset"
   ]
  },
  {
   "cell_type": "code",
   "execution_count": 19,
   "id": "d8eb9239",
   "metadata": {},
   "outputs": [
    {
     "data": {
      "text/html": [
       "<div>\n",
       "<style scoped>\n",
       "    .dataframe tbody tr th:only-of-type {\n",
       "        vertical-align: middle;\n",
       "    }\n",
       "\n",
       "    .dataframe tbody tr th {\n",
       "        vertical-align: top;\n",
       "    }\n",
       "\n",
       "    .dataframe thead th {\n",
       "        text-align: right;\n",
       "    }\n",
       "</style>\n",
       "<table border=\"1\" class=\"dataframe\">\n",
       "  <thead>\n",
       "    <tr style=\"text-align: right;\">\n",
       "      <th></th>\n",
       "      <th>count</th>\n",
       "      <th>mean</th>\n",
       "      <th>std</th>\n",
       "      <th>min</th>\n",
       "      <th>25%</th>\n",
       "      <th>50%</th>\n",
       "      <th>75%</th>\n",
       "      <th>max</th>\n",
       "    </tr>\n",
       "  </thead>\n",
       "  <tbody>\n",
       "    <tr>\n",
       "      <th>score</th>\n",
       "      <td>1351644.0</td>\n",
       "      <td>8.00706</td>\n",
       "      <td>2.616121</td>\n",
       "      <td>0.2</td>\n",
       "      <td>7.2</td>\n",
       "      <td>9.2</td>\n",
       "      <td>10.0</td>\n",
       "      <td>10.0</td>\n",
       "    </tr>\n",
       "    <tr>\n",
       "      <th>score_max</th>\n",
       "      <td>1351644.0</td>\n",
       "      <td>10.00000</td>\n",
       "      <td>0.000000</td>\n",
       "      <td>10.0</td>\n",
       "      <td>10.0</td>\n",
       "      <td>10.0</td>\n",
       "      <td>10.0</td>\n",
       "      <td>10.0</td>\n",
       "    </tr>\n",
       "  </tbody>\n",
       "</table>\n",
       "</div>"
      ],
      "text/plain": [
       "               count      mean       std   min   25%   50%   75%   max\n",
       "score      1351644.0   8.00706  2.616121   0.2   7.2   9.2  10.0  10.0\n",
       "score_max  1351644.0  10.00000  0.000000  10.0  10.0  10.0  10.0  10.0"
      ]
     },
     "execution_count": 19,
     "metadata": {},
     "output_type": "execute_result"
    }
   ],
   "source": [
    "phone_review.describe().T"
   ]
  },
  {
   "cell_type": "code",
   "execution_count": 20,
   "id": "c9ef2d4e",
   "metadata": {},
   "outputs": [
    {
     "data": {
      "text/plain": [
       "Amazon Customer     76978\n",
       "Cliente Amazon      19304\n",
       "e-bit                8663\n",
       "Client d'Amazon      7716\n",
       "Amazon Kunde         4750\n",
       "                    ...  \n",
       "Spider Pit              1\n",
       "J A N                   1\n",
       "L Rubens                1\n",
       "i.andriewsky2010        1\n",
       "J-pierre.H              1\n",
       "Name: author, Length: 801103, dtype: int64"
      ]
     },
     "execution_count": 20,
     "metadata": {},
     "output_type": "execute_result"
    }
   ],
   "source": [
    "phone_review['author'].value_counts()"
   ]
  },
  {
   "cell_type": "code",
   "execution_count": 21,
   "id": "ff20ed39",
   "metadata": {},
   "outputs": [
    {
     "data": {
      "text/plain": [
       "Lenovo Vibe K4 Note (White,16GB)             5226\n",
       "Lenovo Vibe K4 Note (Black, 16GB)            4390\n",
       "OnePlus 3 (Graphite, 64 GB)                  4103\n",
       "OnePlus 3 (Soft Gold, 64 GB)                 3563\n",
       "Huawei P8lite zwart / 16 GB                  2707\n",
       "                                             ... \n",
       "Sony Ericsson Xperia U Siyah Cep Telefonu       1\n",
       "Sony-Ericsson Z800i                             1\n",
       "Смартфон Microsoft Lumia 435 Dual Sim           1\n",
       "Motorola C123 silver Handy                      1\n",
       "ZTE V880E DualSim                               1\n",
       "Name: product, Length: 61313, dtype: int64"
      ]
     },
     "execution_count": 21,
     "metadata": {},
     "output_type": "execute_result"
    }
   ],
   "source": [
    "phone_review['product'].value_counts()"
   ]
  },
  {
   "cell_type": "code",
   "execution_count": 22,
   "id": "f2116976",
   "metadata": {},
   "outputs": [
    {
     "data": {
      "text/plain": [
       "Index(['phone_url', 'date', 'lang', 'country', 'source', 'domain', 'score',\n",
       "       'score_max', 'extract', 'author', 'product'],\n",
       "      dtype='object')"
      ]
     },
     "execution_count": 22,
     "metadata": {},
     "output_type": "execute_result"
    }
   ],
   "source": [
    "phone_review.columns"
   ]
  },
  {
   "cell_type": "code",
   "execution_count": 23,
   "id": "0010bef0",
   "metadata": {},
   "outputs": [
    {
     "data": {
      "text/plain": [
       "22"
      ]
     },
     "execution_count": 23,
     "metadata": {},
     "output_type": "execute_result"
    }
   ],
   "source": [
    "phone_review['lang'].nunique()"
   ]
  },
  {
   "cell_type": "code",
   "execution_count": 24,
   "id": "fae758ea",
   "metadata": {},
   "outputs": [
    {
     "data": {
      "text/plain": [
       "42"
      ]
     },
     "execution_count": 24,
     "metadata": {},
     "output_type": "execute_result"
    }
   ],
   "source": [
    "phone_review['country'].nunique()"
   ]
  },
  {
   "cell_type": "code",
   "execution_count": 25,
   "id": "dcd6af86",
   "metadata": {},
   "outputs": [
    {
     "data": {
      "text/plain": [
       "331"
      ]
     },
     "execution_count": 25,
     "metadata": {},
     "output_type": "execute_result"
    }
   ],
   "source": [
    "phone_review['source'].nunique()"
   ]
  },
  {
   "cell_type": "code",
   "execution_count": 26,
   "id": "6f853588",
   "metadata": {},
   "outputs": [
    {
     "data": {
      "text/plain": [
       "384"
      ]
     },
     "execution_count": 26,
     "metadata": {},
     "output_type": "execute_result"
    }
   ],
   "source": [
    "phone_review['domain'].nunique()"
   ]
  },
  {
   "cell_type": "code",
   "execution_count": 27,
   "id": "44023728",
   "metadata": {},
   "outputs": [
    {
     "data": {
      "text/plain": [
       "'Amazon'"
      ]
     },
     "execution_count": 27,
     "metadata": {},
     "output_type": "execute_result"
    }
   ],
   "source": [
    "phone_review['source'].value_counts().idxmax()"
   ]
  },
  {
   "cell_type": "code",
   "execution_count": 28,
   "id": "89a2ee06",
   "metadata": {},
   "outputs": [
    {
     "data": {
      "text/plain": [
       "<module 'pandas' from 'C:\\\\Users\\\\HP\\\\anaconda3\\\\lib\\\\site-packages\\\\pandas\\\\__init__.py'>"
      ]
     },
     "execution_count": 28,
     "metadata": {},
     "output_type": "execute_result"
    }
   ],
   "source": [
    "pd"
   ]
  },
  {
   "cell_type": "code",
   "execution_count": 29,
   "id": "31ca923a",
   "metadata": {},
   "outputs": [
    {
     "data": {
      "text/plain": [
       "'us'"
      ]
     },
     "execution_count": 29,
     "metadata": {},
     "output_type": "execute_result"
    }
   ],
   "source": [
    "phone_review['country'].value_counts().idxmax()"
   ]
  },
  {
   "cell_type": "code",
   "execution_count": 30,
   "id": "df3ad40c",
   "metadata": {},
   "outputs": [
    {
     "data": {
      "text/plain": [
       "'en'"
      ]
     },
     "execution_count": 30,
     "metadata": {},
     "output_type": "execute_result"
    }
   ],
   "source": [
    "phone_review['lang'].value_counts().idxmax()"
   ]
  },
  {
   "cell_type": "code",
   "execution_count": 31,
   "id": "7fa328e6",
   "metadata": {},
   "outputs": [
    {
     "data": {
      "text/plain": [
       "'Lenovo Vibe K4 Note (White,16GB)'"
      ]
     },
     "execution_count": 31,
     "metadata": {},
     "output_type": "execute_result"
    }
   ],
   "source": [
    "phone_review['product'].value_counts().idxmax()"
   ]
  },
  {
   "cell_type": "code",
   "execution_count": 32,
   "id": "e2cac934",
   "metadata": {},
   "outputs": [
    {
     "data": {
      "text/plain": [
       "'Amazon Customer'"
      ]
     },
     "execution_count": 32,
     "metadata": {},
     "output_type": "execute_result"
    }
   ],
   "source": [
    "phone_review['author'].value_counts().idxmax()"
   ]
  },
  {
   "cell_type": "code",
   "execution_count": 33,
   "id": "eac1b5e5",
   "metadata": {},
   "outputs": [],
   "source": [
    "phone_review_copy=phone_review.copy()"
   ]
  },
  {
   "cell_type": "code",
   "execution_count": 58,
   "id": "55873ca5",
   "metadata": {},
   "outputs": [],
   "source": [
    "#phone_review.to_csv('phone_review.csv')"
   ]
  },
  {
   "cell_type": "code",
   "execution_count": 66,
   "id": "efd79115",
   "metadata": {},
   "outputs": [],
   "source": [
    "phone_review=phone_review_copy"
   ]
  },
  {
   "cell_type": "markdown",
   "id": "0cd699d2",
   "metadata": {},
   "source": [
    "### Observations"
   ]
  },
  {
   "cell_type": "markdown",
   "id": "41bbbb7d",
   "metadata": {},
   "source": [
    "1. User rating is given as score that ranges between **0.2 to 10**. And  maximum score is 10 <br>\n",
    "2. Out of 1415133 records, there are **801103** unique users and **61313** unique phone products are available<br>\n",
    "3. The data consists of records in **22** languages and from **42** countries\n",
    "4. The maximum review given by country \"US\" and the maximum review given in language english **\"en\"**\n",
    "5. The source of review given most by  **\"Amazon\"**\n",
    "6. As per the maximum number of rating the highest rated product is  **Lenovo Vibe K4 Note (White,16GB)'**"
   ]
  },
  {
   "cell_type": "markdown",
   "id": "43f4793e",
   "metadata": {},
   "source": [
    "<span style=\"font-family: Arial; font-weight:bold;font-size:1.5em;color:#00b3e5;\">C. Round off scores to the nearest integers. [3 Marks]"
   ]
  },
  {
   "cell_type": "code",
   "execution_count": 69,
   "id": "d003af65",
   "metadata": {},
   "outputs": [
    {
     "data": {
      "text/plain": [
       "10.0    656239\n",
       "8.0     296018\n",
       "2.0     128485\n",
       "6.0     116616\n",
       "4.0      72462\n",
       "         ...  \n",
       "0.4          2\n",
       "8.9          1\n",
       "6.1          1\n",
       "4.9          1\n",
       "1.5          1\n",
       "Name: score, Length: 86, dtype: int64"
      ]
     },
     "execution_count": 69,
     "metadata": {},
     "output_type": "execute_result"
    }
   ],
   "source": [
    "phone_review['score'].value_counts()"
   ]
  },
  {
   "cell_type": "markdown",
   "id": "a0b05405",
   "metadata": {},
   "source": [
    "### Round the Review values to nearest integer"
   ]
  },
  {
   "cell_type": "code",
   "execution_count": 71,
   "id": "84486f55",
   "metadata": {},
   "outputs": [],
   "source": [
    "phone_review['score']=round(phone_review['score'])\n"
   ]
  },
  {
   "cell_type": "code",
   "execution_count": 74,
   "id": "2db83980",
   "metadata": {},
   "outputs": [],
   "source": [
    "phone_review['score']=phone_review['score'].fillna(0).astype('int32')"
   ]
  },
  {
   "cell_type": "code",
   "execution_count": 75,
   "id": "f98f6cc5",
   "metadata": {},
   "outputs": [
    {
     "data": {
      "text/plain": [
       "10    665748\n",
       "8     305550\n",
       "2     128762\n",
       "6     118349\n",
       "4      73333\n",
       "0      63531\n",
       "9      40602\n",
       "7       8771\n",
       "5       4730\n",
       "1       3244\n",
       "3       2513\n",
       "Name: score, dtype: int64"
      ]
     },
     "execution_count": 75,
     "metadata": {},
     "output_type": "execute_result"
    }
   ],
   "source": [
    "phone_review['score'].value_counts()"
   ]
  },
  {
   "cell_type": "code",
   "execution_count": 34,
   "id": "38d432f7",
   "metadata": {},
   "outputs": [],
   "source": [
    "##count Plot"
   ]
  },
  {
   "cell_type": "code",
   "execution_count": 76,
   "id": "caee68f9",
   "metadata": {},
   "outputs": [
    {
     "data": {
      "image/png": "[encoded data removed]",
      "text/plain": [
       "<Figure size 432x288 with 1 Axes>"
      ]
     },
     "metadata": {},
     "output_type": "display_data"
    }
   ],
   "source": [
    "#plotting the graph  \n",
    "sns.countplot(x='score',data=phone_review)  \n",
    "plt.show() "
   ]
  },
  {
   "cell_type": "markdown",
   "id": "2afa445c",
   "metadata": {},
   "source": [
    "<span style=\"font-family: Arial; font-weight:bold;font-size:1.5em;color:#00b3e5;\">D. Check for missing values. Impute the missing values, if any. [2 Marks]"
   ]
  },
  {
   "cell_type": "code",
   "execution_count": 77,
   "id": "3428604c",
   "metadata": {},
   "outputs": [],
   "source": [
    "## Method to check the missing value\n",
    "def check_missingvlaue(data):\n",
    "    percent_missing = round(data.isnull().sum() * 100 / len(data),2) #percentage of missing value\n",
    "    missing_count=data.isnull().sum()\n",
    "    missing_value_data = pd.DataFrame({'Feature Name': data.columns,\n",
    "                                       'missing value count': missing_count,\n",
    "                                       'percent_missing': percent_missing})\n",
    "    print(missing_value_data)\n",
    "    "
   ]
  },
  {
   "cell_type": "markdown",
   "id": "2c612933",
   "metadata": {},
   "source": [
    "### Checking the missing values"
   ]
  },
  {
   "cell_type": "code",
   "execution_count": 78,
   "id": "d00423be",
   "metadata": {},
   "outputs": [
    {
     "name": "stdout",
     "output_type": "stream",
     "text": [
      "          Feature Name  missing value count  percent_missing\n",
      "phone_url    phone_url                    0             0.00\n",
      "date              date                    0             0.00\n",
      "lang              lang                    0             0.00\n",
      "country        country                    0             0.00\n",
      "source          source                    0             0.00\n",
      "domain          domain                    0             0.00\n",
      "score            score                    0             0.00\n",
      "score_max    score_max                63489             4.49\n",
      "extract        extract                19361             1.37\n",
      "author          author                63202             4.47\n",
      "product        product                    1             0.00\n"
     ]
    }
   ],
   "source": [
    "check_missingvlaue(phone_review)"
   ]
  },
  {
   "cell_type": "markdown",
   "id": "4459e82d",
   "metadata": {},
   "source": [
    "**Comments**<br>\n",
    " 5 features has null values <br>\n",
    " 1.score<br>\n",
    " 2.score_max<br>\n",
    " 3.extract<br>\n",
    " 4.Author <br>\n",
    " 5.Product <br>\n",
    " \n",
    " \n",
    " As per my observation as score is important for recommendation. If you ask me rather than impute with any values I would  prefer to drop them. <br>\n",
    " \n",
    " ###  Handling the Missing value\n",
    " \n",
    " * without product and score we cant use the data so will drop records where product and score is null <br>\n",
    " * Extract is not important for our recommendation building so impute with \"Imputed Extract\" <br>\n",
    " * Author we can specify as \"Unknown\" or \"Ananymous\", even the author is unknown those values would help us to build the model.\n",
    " \n",
    " "
   ]
  },
  {
   "cell_type": "code",
   "execution_count": 79,
   "id": "d676b4c3",
   "metadata": {},
   "outputs": [
    {
     "data": {
      "text/plain": [
       "(1415133, 11)"
      ]
     },
     "execution_count": 79,
     "metadata": {},
     "output_type": "execute_result"
    }
   ],
   "source": [
    "##\n",
    "phone_review.shape"
   ]
  },
  {
   "cell_type": "code",
   "execution_count": 80,
   "id": "167db04d",
   "metadata": {},
   "outputs": [],
   "source": [
    "# Removes the first row only\n",
    "phone_review.dropna(how='all',inplace=True)"
   ]
  },
  {
   "cell_type": "code",
   "execution_count": 81,
   "id": "0a9997fc",
   "metadata": {},
   "outputs": [
    {
     "data": {
      "text/plain": [
       "(1415133, 11)"
      ]
     },
     "execution_count": 81,
     "metadata": {},
     "output_type": "execute_result"
    }
   ],
   "source": [
    "phone_review.shape"
   ]
  },
  {
   "cell_type": "markdown",
   "id": "77491604",
   "metadata": {},
   "source": [
    "### Drop all records where product  is nulll"
   ]
  },
  {
   "cell_type": "code",
   "execution_count": 82,
   "id": "d6456083",
   "metadata": {},
   "outputs": [],
   "source": [
    "# Drop all rows with NaNs in A OR B\n",
    "phone_review.dropna(subset=['product'],inplace=True)"
   ]
  },
  {
   "cell_type": "code",
   "execution_count": 83,
   "id": "588e6f5e",
   "metadata": {},
   "outputs": [
    {
     "data": {
      "text/plain": [
       "(1415132, 11)"
      ]
     },
     "execution_count": 83,
     "metadata": {},
     "output_type": "execute_result"
    }
   ],
   "source": [
    "phone_review.shape"
   ]
  },
  {
   "cell_type": "code",
   "execution_count": 84,
   "id": "559e7c58",
   "metadata": {},
   "outputs": [
    {
     "data": {
      "image/png": "[encoded data removed]",
      "text/plain": [
       "<Figure size 432x288 with 1 Axes>"
      ]
     },
     "metadata": {},
     "output_type": "display_data"
    }
   ],
   "source": [
    "#plotting the graph  \n",
    "sns.countplot(x='score',data=phone_review)  \n",
    "plt.show()"
   ]
  },
  {
   "cell_type": "markdown",
   "id": "e4910a22",
   "metadata": {},
   "source": [
    "Comments: As replaced with median the score values having 9 has increased"
   ]
  },
  {
   "cell_type": "code",
   "execution_count": 85,
   "id": "4e13ce4d",
   "metadata": {},
   "outputs": [
    {
     "name": "stdout",
     "output_type": "stream",
     "text": [
      "          Feature Name  missing value count  percent_missing\n",
      "phone_url    phone_url                    0             0.00\n",
      "date              date                    0             0.00\n",
      "lang              lang                    0             0.00\n",
      "country        country                    0             0.00\n",
      "source          source                    0             0.00\n",
      "domain          domain                    0             0.00\n",
      "score            score                    0             0.00\n",
      "score_max    score_max                63489             4.49\n",
      "extract        extract                19361             1.37\n",
      "author          author                63201             4.47\n",
      "product        product                    0             0.00\n"
     ]
    }
   ],
   "source": [
    "check_missingvlaue(phone_review)"
   ]
  },
  {
   "cell_type": "code",
   "execution_count": 86,
   "id": "45bd1ff0",
   "metadata": {},
   "outputs": [],
   "source": [
    "phone_review['author'] = phone_review['author'].fillna('UnKnown')"
   ]
  },
  {
   "cell_type": "code",
   "execution_count": 90,
   "id": "a75d437e",
   "metadata": {},
   "outputs": [],
   "source": [
    "phone_review['extract'] = phone_review['extract'].fillna('Not Applicable')"
   ]
  },
  {
   "cell_type": "code",
   "execution_count": 92,
   "id": "6e88a837",
   "metadata": {},
   "outputs": [
    {
     "data": {
      "text/plain": [
       "10.0"
      ]
     },
     "execution_count": 92,
     "metadata": {},
     "output_type": "execute_result"
    }
   ],
   "source": [
    "phone_review['score_max'].median()"
   ]
  },
  {
   "cell_type": "code",
   "execution_count": 93,
   "id": "c7caa7e2",
   "metadata": {},
   "outputs": [],
   "source": [
    "phone_review['score_max'] = phone_review['score_max'].fillna(phone_review['score_max'].median())"
   ]
  },
  {
   "cell_type": "code",
   "execution_count": 94,
   "id": "a65deb8b",
   "metadata": {},
   "outputs": [
    {
     "name": "stdout",
     "output_type": "stream",
     "text": [
      "          Feature Name  missing value count  percent_missing\n",
      "phone_url    phone_url                    0              0.0\n",
      "date              date                    0              0.0\n",
      "lang              lang                    0              0.0\n",
      "country        country                    0              0.0\n",
      "source          source                    0              0.0\n",
      "domain          domain                    0              0.0\n",
      "score            score                    0              0.0\n",
      "score_max    score_max                    0              0.0\n",
      "extract        extract                    0              0.0\n",
      "author          author                    0              0.0\n",
      "product        product                    0              0.0\n"
     ]
    }
   ],
   "source": [
    "check_missingvlaue(phone_review)\n"
   ]
  },
  {
   "cell_type": "markdown",
   "id": "eb346312",
   "metadata": {},
   "source": [
    "### Comments <br>"
   ]
  },
  {
   "cell_type": "markdown",
   "id": "0091ee51",
   "metadata": {},
   "source": [
    "The missing values are imputed appropriately for building the recommendation"
   ]
  },
  {
   "cell_type": "markdown",
   "id": "678d2e06",
   "metadata": {},
   "source": [
    "<span style=\"font-family: Arial; font-weight:bold;font-size:1.5em;color:#00b3e5;\">E. Check for duplicate values and remove them, if any. [2 Marks]"
   ]
  },
  {
   "cell_type": "code",
   "execution_count": 95,
   "id": "916c8323",
   "metadata": {},
   "outputs": [
    {
     "data": {
      "text/plain": [
       "6436"
      ]
     },
     "execution_count": 95,
     "metadata": {},
     "output_type": "execute_result"
    }
   ],
   "source": [
    "phone_review.duplicated().sum()"
   ]
  },
  {
   "cell_type": "code",
   "execution_count": 96,
   "id": "461292c6",
   "metadata": {},
   "outputs": [
    {
     "name": "stdout",
     "output_type": "stream",
     "text": [
      "Duplicate Rows :\n"
     ]
    }
   ],
   "source": [
    "duplicate = phone_review[phone_review.duplicated()]\n",
    "  \n",
    "print(\"Duplicate Rows :\")"
   ]
  },
  {
   "cell_type": "code",
   "execution_count": 97,
   "id": "0609417c",
   "metadata": {},
   "outputs": [
    {
     "data": {
      "text/html": [
       "<div>\n",
       "<style scoped>\n",
       "    .dataframe tbody tr th:only-of-type {\n",
       "        vertical-align: middle;\n",
       "    }\n",
       "\n",
       "    .dataframe tbody tr th {\n",
       "        vertical-align: top;\n",
       "    }\n",
       "\n",
       "    .dataframe thead th {\n",
       "        text-align: right;\n",
       "    }\n",
       "</style>\n",
       "<table border=\"1\" class=\"dataframe\">\n",
       "  <thead>\n",
       "    <tr style=\"text-align: right;\">\n",
       "      <th></th>\n",
       "      <th>phone_url</th>\n",
       "      <th>date</th>\n",
       "      <th>lang</th>\n",
       "      <th>country</th>\n",
       "      <th>source</th>\n",
       "      <th>domain</th>\n",
       "      <th>score</th>\n",
       "      <th>score_max</th>\n",
       "      <th>extract</th>\n",
       "      <th>author</th>\n",
       "      <th>product</th>\n",
       "    </tr>\n",
       "  </thead>\n",
       "  <tbody>\n",
       "    <tr>\n",
       "      <th>342</th>\n",
       "      <td>/cellphones/samsung-galaxy-s8/</td>\n",
       "      <td>4/26/2017</td>\n",
       "      <td>nl</td>\n",
       "      <td>nl</td>\n",
       "      <td>Coolblue</td>\n",
       "      <td>coolblue.nl</td>\n",
       "      <td>10</td>\n",
       "      <td>10.0</td>\n",
       "      <td>Ik vind het tot nu toe een heel erg aangenaam ...</td>\n",
       "      <td>Stefanie Hinneman</td>\n",
       "      <td>Samsung Galaxy S8 Zwart</td>\n",
       "    </tr>\n",
       "    <tr>\n",
       "      <th>343</th>\n",
       "      <td>/cellphones/samsung-galaxy-s8/</td>\n",
       "      <td>4/26/2017</td>\n",
       "      <td>nl</td>\n",
       "      <td>nl</td>\n",
       "      <td>Coolblue</td>\n",
       "      <td>coolblue.nl</td>\n",
       "      <td>10</td>\n",
       "      <td>10.0</td>\n",
       "      <td>Ik vind het tot nu toe een heel erg aangenaam ...</td>\n",
       "      <td>Stefanie Hinneman</td>\n",
       "      <td>Samsung Galaxy S8 Zwart</td>\n",
       "    </tr>\n",
       "    <tr>\n",
       "      <th>371</th>\n",
       "      <td>/cellphones/samsung-galaxy-s8/</td>\n",
       "      <td>4/25/2017</td>\n",
       "      <td>nl</td>\n",
       "      <td>nl</td>\n",
       "      <td>Coolblue</td>\n",
       "      <td>coolblue.nl</td>\n",
       "      <td>10</td>\n",
       "      <td>10.0</td>\n",
       "      <td>Tot nu toe in de eerste dagen weinig tot geen ...</td>\n",
       "      <td>Robin Winckens</td>\n",
       "      <td>Samsung Galaxy S8 Zwart</td>\n",
       "    </tr>\n",
       "    <tr>\n",
       "      <th>452</th>\n",
       "      <td>/cellphones/samsung-galaxy-s8/</td>\n",
       "      <td>4/25/2017</td>\n",
       "      <td>nl</td>\n",
       "      <td>nl</td>\n",
       "      <td>Coolblue</td>\n",
       "      <td>coolblue.nl</td>\n",
       "      <td>10</td>\n",
       "      <td>10.0</td>\n",
       "      <td>Wat een huge scherm!</td>\n",
       "      <td>B Yapar</td>\n",
       "      <td>Samsung Galaxy S8 Zwart</td>\n",
       "    </tr>\n",
       "    <tr>\n",
       "      <th>3718</th>\n",
       "      <td>/cellphones/samsung-galaxy-s6-edgeplus/</td>\n",
       "      <td>10/4/2015</td>\n",
       "      <td>en</td>\n",
       "      <td>us</td>\n",
       "      <td>Amazon</td>\n",
       "      <td>amazon.com</td>\n",
       "      <td>10</td>\n",
       "      <td>10.0</td>\n",
       "      <td>For readers, my opinions on this device (ATT 3...</td>\n",
       "      <td>FrozenCloud</td>\n",
       "      <td>Samsung Galaxy S6 Edge+, Black 64GB (Verizon W...</td>\n",
       "    </tr>\n",
       "    <tr>\n",
       "      <th>...</th>\n",
       "      <td>...</td>\n",
       "      <td>...</td>\n",
       "      <td>...</td>\n",
       "      <td>...</td>\n",
       "      <td>...</td>\n",
       "      <td>...</td>\n",
       "      <td>...</td>\n",
       "      <td>...</td>\n",
       "      <td>...</td>\n",
       "      <td>...</td>\n",
       "      <td>...</td>\n",
       "    </tr>\n",
       "    <tr>\n",
       "      <th>1398132</th>\n",
       "      <td>/cellphones/nokia-8850/</td>\n",
       "      <td>8/31/2010</td>\n",
       "      <td>ru</td>\n",
       "      <td>ru</td>\n",
       "      <td>Yandex</td>\n",
       "      <td>market.yandex.ru</td>\n",
       "      <td>10</td>\n",
       "      <td>10.0</td>\n",
       "      <td>Просто отличный телефон, который приятно лежит...</td>\n",
       "      <td>UnKnown</td>\n",
       "      <td>Nokia 8850</td>\n",
       "    </tr>\n",
       "    <tr>\n",
       "      <th>1398134</th>\n",
       "      <td>/cellphones/nokia-8850/</td>\n",
       "      <td>6/25/2010</td>\n",
       "      <td>ru</td>\n",
       "      <td>ru</td>\n",
       "      <td>Yandex</td>\n",
       "      <td>market.yandex.ru</td>\n",
       "      <td>10</td>\n",
       "      <td>10.0</td>\n",
       "      <td>За свои деньги, 1000 долларов которые он когда...</td>\n",
       "      <td>UnKnown</td>\n",
       "      <td>Nokia 8850</td>\n",
       "    </tr>\n",
       "    <tr>\n",
       "      <th>1410207</th>\n",
       "      <td>/cellphones/samsung-sgh-600/</td>\n",
       "      <td>4/30/2015</td>\n",
       "      <td>tr</td>\n",
       "      <td>tr</td>\n",
       "      <td>Cepworld</td>\n",
       "      <td>cepworld.com</td>\n",
       "      <td>0</td>\n",
       "      <td>10.0</td>\n",
       "      <td>varsa satan 05312614607</td>\n",
       "      <td>muhsin</td>\n",
       "      <td>Samsung (936) SGH-600</td>\n",
       "    </tr>\n",
       "    <tr>\n",
       "      <th>1411460</th>\n",
       "      <td>/cellphones/philips-genie-2000/</td>\n",
       "      <td>8/20/2000</td>\n",
       "      <td>it</td>\n",
       "      <td>it</td>\n",
       "      <td>Ciao</td>\n",
       "      <td>ciao.it</td>\n",
       "      <td>8</td>\n",
       "      <td>10.0</td>\n",
       "      <td>Il Genie e' un buon telefono, scorrimente del ...</td>\n",
       "      <td>tonyblack</td>\n",
       "      <td>Philips Genie 2000</td>\n",
       "    </tr>\n",
       "    <tr>\n",
       "      <th>1412950</th>\n",
       "      <td>/cellphones/motorola-m3888/</td>\n",
       "      <td>12/11/2000</td>\n",
       "      <td>it</td>\n",
       "      <td>it</td>\n",
       "      <td>Ciao</td>\n",
       "      <td>ciao.it</td>\n",
       "      <td>10</td>\n",
       "      <td>10.0</td>\n",
       "      <td>E' un telefonino qualitativamente ottimo sopra...</td>\n",
       "      <td>UnKnown</td>\n",
       "      <td>Motorola M3888</td>\n",
       "    </tr>\n",
       "  </tbody>\n",
       "</table>\n",
       "<p>6436 rows × 11 columns</p>\n",
       "</div>"
      ],
      "text/plain": [
       "                                       phone_url        date lang country  \\\n",
       "342               /cellphones/samsung-galaxy-s8/   4/26/2017   nl      nl   \n",
       "343               /cellphones/samsung-galaxy-s8/   4/26/2017   nl      nl   \n",
       "371               /cellphones/samsung-galaxy-s8/   4/25/2017   nl      nl   \n",
       "452               /cellphones/samsung-galaxy-s8/   4/25/2017   nl      nl   \n",
       "3718     /cellphones/samsung-galaxy-s6-edgeplus/   10/4/2015   en      us   \n",
       "...                                          ...         ...  ...     ...   \n",
       "1398132                  /cellphones/nokia-8850/   8/31/2010   ru      ru   \n",
       "1398134                  /cellphones/nokia-8850/   6/25/2010   ru      ru   \n",
       "1410207             /cellphones/samsung-sgh-600/   4/30/2015   tr      tr   \n",
       "1411460          /cellphones/philips-genie-2000/   8/20/2000   it      it   \n",
       "1412950              /cellphones/motorola-m3888/  12/11/2000   it      it   \n",
       "\n",
       "           source            domain  score  score_max  \\\n",
       "342      Coolblue       coolblue.nl     10       10.0   \n",
       "343      Coolblue       coolblue.nl     10       10.0   \n",
       "371      Coolblue       coolblue.nl     10       10.0   \n",
       "452      Coolblue       coolblue.nl     10       10.0   \n",
       "3718       Amazon        amazon.com     10       10.0   \n",
       "...           ...               ...    ...        ...   \n",
       "1398132    Yandex  market.yandex.ru     10       10.0   \n",
       "1398134    Yandex  market.yandex.ru     10       10.0   \n",
       "1410207  Cepworld      cepworld.com      0       10.0   \n",
       "1411460      Ciao           ciao.it      8       10.0   \n",
       "1412950      Ciao           ciao.it     10       10.0   \n",
       "\n",
       "                                                   extract             author  \\\n",
       "342      Ik vind het tot nu toe een heel erg aangenaam ...  Stefanie Hinneman   \n",
       "343      Ik vind het tot nu toe een heel erg aangenaam ...  Stefanie Hinneman   \n",
       "371      Tot nu toe in de eerste dagen weinig tot geen ...     Robin Winckens   \n",
       "452                                   Wat een huge scherm!            B Yapar   \n",
       "3718     For readers, my opinions on this device (ATT 3...        FrozenCloud   \n",
       "...                                                    ...                ...   \n",
       "1398132  Просто отличный телефон, который приятно лежит...            UnKnown   \n",
       "1398134  За свои деньги, 1000 долларов которые он когда...            UnKnown   \n",
       "1410207                            varsa satan 05312614607             muhsin   \n",
       "1411460  Il Genie e' un buon telefono, scorrimente del ...          tonyblack   \n",
       "1412950  E' un telefonino qualitativamente ottimo sopra...            UnKnown   \n",
       "\n",
       "                                                   product  \n",
       "342                                Samsung Galaxy S8 Zwart  \n",
       "343                                Samsung Galaxy S8 Zwart  \n",
       "371                                Samsung Galaxy S8 Zwart  \n",
       "452                                Samsung Galaxy S8 Zwart  \n",
       "3718     Samsung Galaxy S6 Edge+, Black 64GB (Verizon W...  \n",
       "...                                                    ...  \n",
       "1398132                                         Nokia 8850  \n",
       "1398134                                         Nokia 8850  \n",
       "1410207                              Samsung (936) SGH-600  \n",
       "1411460                                 Philips Genie 2000  \n",
       "1412950                                     Motorola M3888  \n",
       "\n",
       "[6436 rows x 11 columns]"
      ]
     },
     "execution_count": 97,
     "metadata": {},
     "output_type": "execute_result"
    }
   ],
   "source": [
    "duplicate"
   ]
  },
  {
   "cell_type": "code",
   "execution_count": 98,
   "id": "bc93e41c",
   "metadata": {},
   "outputs": [
    {
     "data": {
      "text/plain": [
       "(6436, 11)"
      ]
     },
     "execution_count": 98,
     "metadata": {},
     "output_type": "execute_result"
    }
   ],
   "source": [
    "duplicate.shape"
   ]
  },
  {
   "cell_type": "code",
   "execution_count": 99,
   "id": "d9334964",
   "metadata": {},
   "outputs": [
    {
     "data": {
      "text/plain": [
       "(1415132, 11)"
      ]
     },
     "execution_count": 99,
     "metadata": {},
     "output_type": "execute_result"
    }
   ],
   "source": [
    "phone_review.shape"
   ]
  },
  {
   "cell_type": "code",
   "execution_count": 100,
   "id": "18826e42",
   "metadata": {},
   "outputs": [],
   "source": [
    "phone_review=phone_review.drop_duplicates()"
   ]
  },
  {
   "cell_type": "code",
   "execution_count": 101,
   "id": "e2a96604",
   "metadata": {},
   "outputs": [
    {
     "data": {
      "text/plain": [
       "(1408696, 11)"
      ]
     },
     "execution_count": 101,
     "metadata": {},
     "output_type": "execute_result"
    }
   ],
   "source": [
    "phone_review.shape"
   ]
  },
  {
   "cell_type": "markdown",
   "id": "b0d592b7",
   "metadata": {},
   "source": [
    "**Observation:**\n",
    "    6458 records data are removed and hence [1415132-6436=1408696 records retained after duplicate removal]"
   ]
  },
  {
   "cell_type": "markdown",
   "id": "44ddfc9f",
   "metadata": {},
   "source": [
    "<span style=\"font-family: Arial; font-weight:bold;font-size:1.5em;color:#00b3e5;\">F. Keep only 1 Million data samples. Use random state=612. [2 Marks]"
   ]
  },
  {
   "cell_type": "code",
   "execution_count": 102,
   "id": "734eba76",
   "metadata": {},
   "outputs": [],
   "source": [
    "phones=phone_review.sample(n = 1000000, random_state = 612)"
   ]
  },
  {
   "cell_type": "code",
   "execution_count": 83,
   "id": "514eb4ea",
   "metadata": {},
   "outputs": [
    {
     "data": {
      "text/plain": [
       "(1000000, 11)"
      ]
     },
     "execution_count": 83,
     "metadata": {},
     "output_type": "execute_result"
    }
   ],
   "source": [
    "phones.shape"
   ]
  },
  {
   "cell_type": "markdown",
   "id": "7dd3b0c7",
   "metadata": {},
   "source": [
    "<span style=\"font-family: Arial; font-weight:bold;font-size:1.5em;color:#00b3e5;\">G. Drop irrelevant features. Keep features like Author, Product, and Score. [2 Marks]"
   ]
  },
  {
   "cell_type": "code",
   "execution_count": 103,
   "id": "e3108b3b",
   "metadata": {},
   "outputs": [
    {
     "data": {
      "text/plain": [
       "Index(['phone_url', 'date', 'lang', 'country', 'source', 'domain', 'score',\n",
       "       'score_max', 'extract', 'author', 'product'],\n",
       "      dtype='object')"
      ]
     },
     "execution_count": 103,
     "metadata": {},
     "output_type": "execute_result"
    }
   ],
   "source": [
    "phones.columns"
   ]
  },
  {
   "cell_type": "code",
   "execution_count": 104,
   "id": "dde88af6",
   "metadata": {},
   "outputs": [],
   "source": [
    "useful_features=['author','product','score']\n",
    "phones_df=phones[useful_features]"
   ]
  },
  {
   "cell_type": "code",
   "execution_count": 105,
   "id": "97156b87",
   "metadata": {},
   "outputs": [
    {
     "data": {
      "text/plain": [
       "(1000000, 3)"
      ]
     },
     "execution_count": 105,
     "metadata": {},
     "output_type": "execute_result"
    }
   ],
   "source": [
    "phones_df.shape"
   ]
  },
  {
   "cell_type": "code",
   "execution_count": 106,
   "id": "4d08ec04",
   "metadata": {},
   "outputs": [
    {
     "data": {
      "text/html": [
       "<div>\n",
       "<style scoped>\n",
       "    .dataframe tbody tr th:only-of-type {\n",
       "        vertical-align: middle;\n",
       "    }\n",
       "\n",
       "    .dataframe tbody tr th {\n",
       "        vertical-align: top;\n",
       "    }\n",
       "\n",
       "    .dataframe thead th {\n",
       "        text-align: right;\n",
       "    }\n",
       "</style>\n",
       "<table border=\"1\" class=\"dataframe\">\n",
       "  <thead>\n",
       "    <tr style=\"text-align: right;\">\n",
       "      <th></th>\n",
       "      <th>author</th>\n",
       "      <th>product</th>\n",
       "      <th>score</th>\n",
       "    </tr>\n",
       "  </thead>\n",
       "  <tbody>\n",
       "    <tr>\n",
       "      <th>430175</th>\n",
       "      <td>Vinod Kumar Chengespur</td>\n",
       "      <td>Lenovo Vibe K4 Note (White,16GB)</td>\n",
       "      <td>8</td>\n",
       "    </tr>\n",
       "    <tr>\n",
       "      <th>587153</th>\n",
       "      <td>Sharon</td>\n",
       "      <td>HTC Desire 816 Black (Virgin mobile) - 5.5 inc...</td>\n",
       "      <td>2</td>\n",
       "    </tr>\n",
       "    <tr>\n",
       "      <th>594786</th>\n",
       "      <td>An Sionnach</td>\n",
       "      <td>Xperia Sony Xperia Z Ultra SIM-free Android Sm...</td>\n",
       "      <td>8</td>\n",
       "    </tr>\n",
       "    <tr>\n",
       "      <th>636378</th>\n",
       "      <td>Jomine Jose</td>\n",
       "      <td>Lava Iris X5 (Black)</td>\n",
       "      <td>2</td>\n",
       "    </tr>\n",
       "    <tr>\n",
       "      <th>684531</th>\n",
       "      <td>Marcos Rivero</td>\n",
       "      <td>Sony Xperia L C2105 White (Factory Unlocked) 4...</td>\n",
       "      <td>10</td>\n",
       "    </tr>\n",
       "  </tbody>\n",
       "</table>\n",
       "</div>"
      ],
      "text/plain": [
       "                        author  \\\n",
       "430175  Vinod Kumar Chengespur   \n",
       "587153                  Sharon   \n",
       "594786             An Sionnach   \n",
       "636378             Jomine Jose   \n",
       "684531           Marcos Rivero   \n",
       "\n",
       "                                                  product  score  \n",
       "430175                   Lenovo Vibe K4 Note (White,16GB)      8  \n",
       "587153  HTC Desire 816 Black (Virgin mobile) - 5.5 inc...      2  \n",
       "594786  Xperia Sony Xperia Z Ultra SIM-free Android Sm...      8  \n",
       "636378                               Lava Iris X5 (Black)      2  \n",
       "684531  Sony Xperia L C2105 White (Factory Unlocked) 4...     10  "
      ]
     },
     "execution_count": 106,
     "metadata": {},
     "output_type": "execute_result"
    }
   ],
   "source": [
    "phones_df.head()"
   ]
  },
  {
   "cell_type": "code",
   "execution_count": 107,
   "id": "c46871c7",
   "metadata": {},
   "outputs": [
    {
     "name": "stdout",
     "output_type": "stream",
     "text": [
      "The minimum Score is: 0\n",
      "The maximum Score is: 10\n"
     ]
    }
   ],
   "source": [
    "# find minimum and maximum ratings\n",
    "print('The minimum Score is: %d' %(phones_df['score'].min()))\n",
    "print('The maximum Score is: %d' %(phones_df['score'].max()))"
   ]
  },
  {
   "cell_type": "code",
   "execution_count": 108,
   "id": "599de23d",
   "metadata": {},
   "outputs": [
    {
     "data": {
      "image/png": "[encoded data removed]",
      "text/plain": [
       "<Figure size 720x360 with 1 Axes>"
      ]
     },
     "metadata": {},
     "output_type": "display_data"
    }
   ],
   "source": [
    "## Distribution of Rating\n",
    "# Check the distribution of ratings \n",
    "with sns.axes_style('white'):\n",
    "    g = sns.factorplot(\"score\", data=phones_df, aspect=2.0,kind='count')\n",
    "    g.set_ylabels(\"Total number of scores\") "
   ]
  },
  {
   "cell_type": "markdown",
   "id": "a3b901cd",
   "metadata": {},
   "source": [
    "<span style=\"font-family: Arial; font-weight:bold;font-size:1.5em;color:#00b3e5;\">2.Answer the following questions. [10 Marks]"
   ]
  },
  {
   "cell_type": "markdown",
   "id": "27e738b8",
   "metadata": {},
   "source": [
    "<span style=\"font-family: Arial; font-weight:bold;font-size:1.5em;color:#00b3e5;\">A. Identify the most rated features. [3 Marks]\n"
   ]
  },
  {
   "cell_type": "code",
   "execution_count": 109,
   "id": "8fef4b41",
   "metadata": {},
   "outputs": [
    {
     "data": {
      "text/plain": [
       "56438"
      ]
     },
     "execution_count": 109,
     "metadata": {},
     "output_type": "execute_result"
    }
   ],
   "source": [
    "phones_df['product'].nunique()"
   ]
  },
  {
   "cell_type": "markdown",
   "id": "9d35e9d7",
   "metadata": {},
   "source": [
    "### Most Rated Phones"
   ]
  },
  {
   "cell_type": "code",
   "execution_count": 110,
   "id": "92467ce7",
   "metadata": {},
   "outputs": [
    {
     "data": {
      "text/plain": [
       "Lenovo Vibe K4 Note (White,16GB)       3709\n",
       "Lenovo Vibe K4 Note (Black, 16GB)      3083\n",
       "OnePlus 3 (Graphite, 64 GB)            2890\n",
       "OnePlus 3 (Soft Gold, 64 GB)           2522\n",
       "Huawei P8lite zwart / 16 GB            1895\n",
       "Samsung Galaxy Express I8730           1889\n",
       "Lenovo Vibe K5 (Gold, VoLTE update)    1801\n",
       "Samsung Galaxy S6 zwart / 32 GB        1669\n",
       "Nokia 5800 XpressMusic                 1490\n",
       "Lenovo Vibe K5 (Grey, VoLTE update)    1488\n",
       "Name: product, dtype: int64"
      ]
     },
     "execution_count": 110,
     "metadata": {},
     "output_type": "execute_result"
    }
   ],
   "source": [
    "most_rated_phones=phones_df['product'].value_counts().head(10)\n",
    "most_rated_phones"
   ]
  },
  {
   "cell_type": "markdown",
   "id": "2787358a",
   "metadata": {},
   "source": [
    "### Alternate way to find the Most Rated Features"
   ]
  },
  {
   "cell_type": "code",
   "execution_count": 111,
   "id": "a661a51f",
   "metadata": {},
   "outputs": [
    {
     "data": {
      "text/plain": [
       "product\n",
       "Lenovo Vibe K4 Note (White,16GB)       3709\n",
       "Lenovo Vibe K4 Note (Black, 16GB)      3083\n",
       "OnePlus 3 (Graphite, 64 GB)            2890\n",
       "OnePlus 3 (Soft Gold, 64 GB)           2522\n",
       "Huawei P8lite zwart / 16 GB            1895\n",
       "Samsung Galaxy Express I8730           1889\n",
       "Lenovo Vibe K5 (Gold, VoLTE update)    1801\n",
       "Samsung Galaxy S6 zwart / 32 GB        1669\n",
       "Nokia 5800 XpressMusic                 1490\n",
       "Lenovo Vibe K5 (Grey, VoLTE update)    1488\n",
       "dtype: int64"
      ]
     },
     "execution_count": 111,
     "metadata": {},
     "output_type": "execute_result"
    }
   ],
   "source": [
    "## other way of getting top rated products\n",
    "most_rated = phones_df.groupby('product').size().sort_values(ascending=False)[:10]\n",
    "most_rated"
   ]
  },
  {
   "cell_type": "markdown",
   "id": "aa9c27ef",
   "metadata": {},
   "source": [
    "### Plotting the most Rated Products"
   ]
  },
  {
   "cell_type": "code",
   "execution_count": 112,
   "id": "4b82b850",
   "metadata": {},
   "outputs": [
    {
     "data": {
      "image/png": "[encoded data removed]",
      "text/plain": [
       "<Figure size 720x504 with 1 Axes>"
      ]
     },
     "metadata": {},
     "output_type": "display_data"
    }
   ],
   "source": [
    "my_colors = list('rgbkymc')\n",
    "plt.rcParams['figure.figsize'] = (10, 7)\n",
    "most_rated_phones.plot(kind='bar',color=my_colors)\n",
    "plt.show()"
   ]
  },
  {
   "cell_type": "markdown",
   "id": "5054d8c7",
   "metadata": {},
   "source": [
    "**Comments**: The top 10 products which have most rating is found and plotted in bar graph here"
   ]
  },
  {
   "cell_type": "markdown",
   "id": "35fd10fd",
   "metadata": {},
   "source": [
    "<span style=\"font-family: Arial; font-weight:bold;font-size:1.5em;color:#00b3e5;\">\n",
    "B. Identify the users with most number of reviews. [3 Marks]"
   ]
  },
  {
   "cell_type": "code",
   "execution_count": 113,
   "id": "bb675cc9",
   "metadata": {},
   "outputs": [
    {
     "data": {
      "text/plain": [
       "596751"
      ]
     },
     "execution_count": 113,
     "metadata": {},
     "output_type": "execute_result"
    }
   ],
   "source": [
    "phones_df['author'].nunique()"
   ]
  },
  {
   "cell_type": "markdown",
   "id": "95d48a92",
   "metadata": {},
   "source": [
    "### Users with Most number of Reviews"
   ]
  },
  {
   "cell_type": "code",
   "execution_count": 114,
   "id": "1340012c",
   "metadata": {},
   "outputs": [
    {
     "data": {
      "text/plain": [
       "Amazon Customer    54641\n",
       "UnKnown            43867\n",
       "Cliente Amazon     13669\n",
       "e-bit               5962\n",
       "Client d'Amazon     5499\n",
       "Amazon Kunde        3281\n",
       "Anonymous           1945\n",
       "einer Kundin        1890\n",
       "einem Kunden        1350\n",
       "unknown             1198\n",
       "Name: author, dtype: int64"
      ]
     },
     "execution_count": 114,
     "metadata": {},
     "output_type": "execute_result"
    }
   ],
   "source": [
    "most_reviewed_user=phones_df['author'].value_counts().head(10)\n",
    "most_reviewed_user"
   ]
  },
  {
   "cell_type": "code",
   "execution_count": 115,
   "id": "c17bd607",
   "metadata": {},
   "outputs": [
    {
     "data": {
      "image/png": "[encoded data removed]",
      "text/plain": [
       "<Figure size 720x504 with 1 Axes>"
      ]
     },
     "metadata": {},
     "output_type": "display_data"
    }
   ],
   "source": [
    "my_colors = list('rgbkymc')\n",
    "most_reviewed_user.plot(kind='bar',color=my_colors)\n",
    "plt.show()"
   ]
  },
  {
   "cell_type": "markdown",
   "id": "5a81ba5a",
   "metadata": {},
   "source": [
    "**Comments**: The Amazon customer is the most reviewed user. But the second highest rank goes to Unknown"
   ]
  },
  {
   "cell_type": "markdown",
   "id": "c485ed2a",
   "metadata": {},
   "source": [
    "<span style=\"font-family: Arial; font-weight:bold;font-size:1.5em;color:#00b3e5;\">\n",
    "C. Select the data with products having more than 50 ratings and users who have given more than 50 ratings. Report the shape of the final\n",
    "dataset. [4 Marks]"
   ]
  },
  {
   "cell_type": "code",
   "execution_count": 116,
   "id": "4b324361",
   "metadata": {},
   "outputs": [
    {
     "data": {
      "text/plain": [
       "56438"
      ]
     },
     "execution_count": 116,
     "metadata": {},
     "output_type": "execute_result"
    }
   ],
   "source": [
    "len(phones_df['product'].value_counts()>50)"
   ]
  },
  {
   "cell_type": "code",
   "execution_count": 117,
   "id": "068b608a",
   "metadata": {},
   "outputs": [
    {
     "data": {
      "text/plain": [
       "Lenovo Vibe K4 Note (White,16GB)                                                        3709\n",
       "Lenovo Vibe K4 Note (Black, 16GB)                                                       3083\n",
       "OnePlus 3 (Graphite, 64 GB)                                                             2890\n",
       "OnePlus 3 (Soft Gold, 64 GB)                                                            2522\n",
       "Huawei P8lite zwart / 16 GB                                                             1895\n",
       "                                                                                        ... \n",
       "NOKIA E90 Communicator Mocca - clavier AZERTY                                              1\n",
       "Samsung (936) Galaxy S6 edge                                                               1\n",
       "Apple iPhone 4S 8GB White                                                                  1\n",
       "Lenovo A526 (Dark Blue)                                                                    1\n",
       "Sony Mobile Xperia Z Ultra Smartphone sbloccato Bluetooth USB Android 4.2 Jelly Bean       1\n",
       "Name: product, Length: 56438, dtype: int64"
      ]
     },
     "execution_count": 117,
     "metadata": {},
     "output_type": "execute_result"
    }
   ],
   "source": [
    "phones_df['product'].value_counts()"
   ]
  },
  {
   "cell_type": "code",
   "execution_count": 118,
   "id": "3ce080c5",
   "metadata": {},
   "outputs": [],
   "source": [
    "product_names=phones_df['product'].value_counts()"
   ]
  },
  {
   "cell_type": "code",
   "execution_count": 119,
   "id": "67ea963e",
   "metadata": {},
   "outputs": [
    {
     "data": {
      "text/plain": [
       "Lenovo Vibe K4 Note (White,16GB)                                                        3709\n",
       "Lenovo Vibe K4 Note (Black, 16GB)                                                       3083\n",
       "OnePlus 3 (Graphite, 64 GB)                                                             2890\n",
       "OnePlus 3 (Soft Gold, 64 GB)                                                            2522\n",
       "Huawei P8lite zwart / 16 GB                                                             1895\n",
       "                                                                                        ... \n",
       "NOKIA E90 Communicator Mocca - clavier AZERTY                                              1\n",
       "Samsung (936) Galaxy S6 edge                                                               1\n",
       "Apple iPhone 4S 8GB White                                                                  1\n",
       "Lenovo A526 (Dark Blue)                                                                    1\n",
       "Sony Mobile Xperia Z Ultra Smartphone sbloccato Bluetooth USB Android 4.2 Jelly Bean       1\n",
       "Name: product, Length: 56438, dtype: int64"
      ]
     },
     "execution_count": 119,
     "metadata": {},
     "output_type": "execute_result"
    }
   ],
   "source": [
    "product_names"
   ]
  },
  {
   "cell_type": "code",
   "execution_count": 120,
   "id": "483f817f",
   "metadata": {},
   "outputs": [
    {
     "data": {
      "text/plain": [
       "<bound method NDFrame.describe of Lenovo Vibe K4 Note (White,16GB)                                                        3709\n",
       "Lenovo Vibe K4 Note (Black, 16GB)                                                       3083\n",
       "OnePlus 3 (Graphite, 64 GB)                                                             2890\n",
       "OnePlus 3 (Soft Gold, 64 GB)                                                            2522\n",
       "Huawei P8lite zwart / 16 GB                                                             1895\n",
       "                                                                                        ... \n",
       "NOKIA E90 Communicator Mocca - clavier AZERTY                                              1\n",
       "Samsung (936) Galaxy S6 edge                                                               1\n",
       "Apple iPhone 4S 8GB White                                                                  1\n",
       "Lenovo A526 (Dark Blue)                                                                    1\n",
       "Sony Mobile Xperia Z Ultra Smartphone sbloccato Bluetooth USB Android 4.2 Jelly Bean       1\n",
       "Name: product, Length: 56438, dtype: int64>"
      ]
     },
     "execution_count": 120,
     "metadata": {},
     "output_type": "execute_result"
    }
   ],
   "source": [
    "product_names.describe"
   ]
  },
  {
   "cell_type": "code",
   "execution_count": 121,
   "id": "4a633a00",
   "metadata": {},
   "outputs": [
    {
     "data": {
      "text/plain": [
       "3709"
      ]
     },
     "execution_count": 121,
     "metadata": {},
     "output_type": "execute_result"
    }
   ],
   "source": [
    "product_names[0]"
   ]
  },
  {
   "cell_type": "code",
   "execution_count": 122,
   "id": "7176e2fb",
   "metadata": {},
   "outputs": [
    {
     "data": {
      "text/plain": [
       "Lenovo Vibe K4 Note (White,16GB)     3709\n",
       "Lenovo Vibe K4 Note (Black, 16GB)    3083\n",
       "OnePlus 3 (Graphite, 64 GB)          2890\n",
       "OnePlus 3 (Soft Gold, 64 GB)         2522\n",
       "Huawei P8lite zwart / 16 GB          1895\n",
       "Name: product, dtype: int64"
      ]
     },
     "execution_count": 122,
     "metadata": {},
     "output_type": "execute_result"
    }
   ],
   "source": [
    "product_names.head(5)"
   ]
  },
  {
   "cell_type": "code",
   "execution_count": 123,
   "id": "e89dfe18",
   "metadata": {},
   "outputs": [
    {
     "data": {
      "text/plain": [
       "(56438,)"
      ]
     },
     "execution_count": 123,
     "metadata": {},
     "output_type": "execute_result"
    }
   ],
   "source": [
    "product_names.shape"
   ]
  },
  {
   "cell_type": "code",
   "execution_count": 124,
   "id": "032896d9",
   "metadata": {},
   "outputs": [
    {
     "data": {
      "text/plain": [
       "<bound method Series.nlargest of Lenovo Vibe K4 Note (White,16GB)                                                        3709\n",
       "Lenovo Vibe K4 Note (Black, 16GB)                                                       3083\n",
       "OnePlus 3 (Graphite, 64 GB)                                                             2890\n",
       "OnePlus 3 (Soft Gold, 64 GB)                                                            2522\n",
       "Huawei P8lite zwart / 16 GB                                                             1895\n",
       "                                                                                        ... \n",
       "NOKIA E90 Communicator Mocca - clavier AZERTY                                              1\n",
       "Samsung (936) Galaxy S6 edge                                                               1\n",
       "Apple iPhone 4S 8GB White                                                                  1\n",
       "Lenovo A526 (Dark Blue)                                                                    1\n",
       "Sony Mobile Xperia Z Ultra Smartphone sbloccato Bluetooth USB Android 4.2 Jelly Bean       1\n",
       "Name: product, Length: 56438, dtype: int64>"
      ]
     },
     "execution_count": 124,
     "metadata": {},
     "output_type": "execute_result"
    }
   ],
   "source": [
    "product_names.nlargest"
   ]
  },
  {
   "cell_type": "code",
   "execution_count": 125,
   "id": "75252e24",
   "metadata": {},
   "outputs": [],
   "source": [
    "phone_copy=phones_df.copy()"
   ]
  },
  {
   "cell_type": "code",
   "execution_count": 126,
   "id": "c8d89980",
   "metadata": {},
   "outputs": [],
   "source": [
    "\n",
    "author=phones_df['author'].value_counts()\n",
    "author = pd.DataFrame(author).reset_index()\n",
    "author.columns = ['author', 'author_count']\n"
   ]
  },
  {
   "cell_type": "code",
   "execution_count": 127,
   "id": "fad17736",
   "metadata": {},
   "outputs": [
    {
     "data": {
      "text/html": [
       "<div>\n",
       "<style scoped>\n",
       "    .dataframe tbody tr th:only-of-type {\n",
       "        vertical-align: middle;\n",
       "    }\n",
       "\n",
       "    .dataframe tbody tr th {\n",
       "        vertical-align: top;\n",
       "    }\n",
       "\n",
       "    .dataframe thead th {\n",
       "        text-align: right;\n",
       "    }\n",
       "</style>\n",
       "<table border=\"1\" class=\"dataframe\">\n",
       "  <thead>\n",
       "    <tr style=\"text-align: right;\">\n",
       "      <th></th>\n",
       "      <th>author</th>\n",
       "      <th>product</th>\n",
       "      <th>score</th>\n",
       "    </tr>\n",
       "  </thead>\n",
       "  <tbody>\n",
       "    <tr>\n",
       "      <th>430175</th>\n",
       "      <td>Vinod Kumar Chengespur</td>\n",
       "      <td>Lenovo Vibe K4 Note (White,16GB)</td>\n",
       "      <td>8</td>\n",
       "    </tr>\n",
       "    <tr>\n",
       "      <th>587153</th>\n",
       "      <td>Sharon</td>\n",
       "      <td>HTC Desire 816 Black (Virgin mobile) - 5.5 inc...</td>\n",
       "      <td>2</td>\n",
       "    </tr>\n",
       "    <tr>\n",
       "      <th>594786</th>\n",
       "      <td>An Sionnach</td>\n",
       "      <td>Xperia Sony Xperia Z Ultra SIM-free Android Sm...</td>\n",
       "      <td>8</td>\n",
       "    </tr>\n",
       "    <tr>\n",
       "      <th>636378</th>\n",
       "      <td>Jomine Jose</td>\n",
       "      <td>Lava Iris X5 (Black)</td>\n",
       "      <td>2</td>\n",
       "    </tr>\n",
       "    <tr>\n",
       "      <th>684531</th>\n",
       "      <td>Marcos Rivero</td>\n",
       "      <td>Sony Xperia L C2105 White (Factory Unlocked) 4...</td>\n",
       "      <td>10</td>\n",
       "    </tr>\n",
       "  </tbody>\n",
       "</table>\n",
       "</div>"
      ],
      "text/plain": [
       "                        author  \\\n",
       "430175  Vinod Kumar Chengespur   \n",
       "587153                  Sharon   \n",
       "594786             An Sionnach   \n",
       "636378             Jomine Jose   \n",
       "684531           Marcos Rivero   \n",
       "\n",
       "                                                  product  score  \n",
       "430175                   Lenovo Vibe K4 Note (White,16GB)      8  \n",
       "587153  HTC Desire 816 Black (Virgin mobile) - 5.5 inc...      2  \n",
       "594786  Xperia Sony Xperia Z Ultra SIM-free Android Sm...      8  \n",
       "636378                               Lava Iris X5 (Black)      2  \n",
       "684531  Sony Xperia L C2105 White (Factory Unlocked) 4...     10  "
      ]
     },
     "execution_count": 127,
     "metadata": {},
     "output_type": "execute_result"
    }
   ],
   "source": [
    "phone_copy.head()"
   ]
  },
  {
   "cell_type": "code",
   "execution_count": 128,
   "id": "c675f191",
   "metadata": {},
   "outputs": [
    {
     "data": {
      "text/plain": [
       "(1000000, 4)"
      ]
     },
     "metadata": {},
     "output_type": "display_data"
    },
    {
     "data": {
      "text/html": [
       "<div>\n",
       "<style scoped>\n",
       "    .dataframe tbody tr th:only-of-type {\n",
       "        vertical-align: middle;\n",
       "    }\n",
       "\n",
       "    .dataframe tbody tr th {\n",
       "        vertical-align: top;\n",
       "    }\n",
       "\n",
       "    .dataframe thead th {\n",
       "        text-align: right;\n",
       "    }\n",
       "</style>\n",
       "<table border=\"1\" class=\"dataframe\">\n",
       "  <thead>\n",
       "    <tr style=\"text-align: right;\">\n",
       "      <th></th>\n",
       "      <th>author</th>\n",
       "      <th>product</th>\n",
       "      <th>score</th>\n",
       "      <th>author_count</th>\n",
       "    </tr>\n",
       "  </thead>\n",
       "  <tbody>\n",
       "    <tr>\n",
       "      <th>0</th>\n",
       "      <td>Vinod Kumar Chengespur</td>\n",
       "      <td>Lenovo Vibe K4 Note (White,16GB)</td>\n",
       "      <td>8</td>\n",
       "      <td>1</td>\n",
       "    </tr>\n",
       "    <tr>\n",
       "      <th>1</th>\n",
       "      <td>Sharon</td>\n",
       "      <td>HTC Desire 816 Black (Virgin mobile) - 5.5 inc...</td>\n",
       "      <td>2</td>\n",
       "      <td>49</td>\n",
       "    </tr>\n",
       "    <tr>\n",
       "      <th>2</th>\n",
       "      <td>An Sionnach</td>\n",
       "      <td>Xperia Sony Xperia Z Ultra SIM-free Android Sm...</td>\n",
       "      <td>8</td>\n",
       "      <td>1</td>\n",
       "    </tr>\n",
       "    <tr>\n",
       "      <th>3</th>\n",
       "      <td>Jomine Jose</td>\n",
       "      <td>Lava Iris X5 (Black)</td>\n",
       "      <td>2</td>\n",
       "      <td>1</td>\n",
       "    </tr>\n",
       "    <tr>\n",
       "      <th>4</th>\n",
       "      <td>Marcos Rivero</td>\n",
       "      <td>Sony Xperia L C2105 White (Factory Unlocked) 4...</td>\n",
       "      <td>10</td>\n",
       "      <td>1</td>\n",
       "    </tr>\n",
       "  </tbody>\n",
       "</table>\n",
       "</div>"
      ],
      "text/plain": [
       "                   author                                            product  \\\n",
       "0  Vinod Kumar Chengespur                   Lenovo Vibe K4 Note (White,16GB)   \n",
       "1                  Sharon  HTC Desire 816 Black (Virgin mobile) - 5.5 inc...   \n",
       "2             An Sionnach  Xperia Sony Xperia Z Ultra SIM-free Android Sm...   \n",
       "3             Jomine Jose                               Lava Iris X5 (Black)   \n",
       "4           Marcos Rivero  Sony Xperia L C2105 White (Factory Unlocked) 4...   \n",
       "\n",
       "   score  author_count  \n",
       "0      8             1  \n",
       "1      2            49  \n",
       "2      8             1  \n",
       "3      2             1  \n",
       "4     10             1  "
      ]
     },
     "metadata": {},
     "output_type": "display_data"
    }
   ],
   "source": [
    "phone_new = phone_copy.merge(author, how = 'left', on = ['author'])\n",
    "display(phone_new.shape, phone_new.head())"
   ]
  },
  {
   "cell_type": "code",
   "execution_count": 129,
   "id": "708920dc",
   "metadata": {},
   "outputs": [],
   "source": [
    "product=phones_df['product'].value_counts()"
   ]
  },
  {
   "cell_type": "code",
   "execution_count": 130,
   "id": "9c5f4e29",
   "metadata": {},
   "outputs": [
    {
     "data": {
      "text/plain": [
       "Lenovo Vibe K4 Note (White,16GB)     3709\n",
       "Lenovo Vibe K4 Note (Black, 16GB)    3083\n",
       "OnePlus 3 (Graphite, 64 GB)          2890\n",
       "OnePlus 3 (Soft Gold, 64 GB)         2522\n",
       "Huawei P8lite zwart / 16 GB          1895\n",
       "Name: product, dtype: int64"
      ]
     },
     "execution_count": 130,
     "metadata": {},
     "output_type": "execute_result"
    }
   ],
   "source": [
    "product.head()"
   ]
  },
  {
   "cell_type": "code",
   "execution_count": 131,
   "id": "48b6965e",
   "metadata": {},
   "outputs": [
    {
     "data": {
      "text/html": [
       "<div>\n",
       "<style scoped>\n",
       "    .dataframe tbody tr th:only-of-type {\n",
       "        vertical-align: middle;\n",
       "    }\n",
       "\n",
       "    .dataframe tbody tr th {\n",
       "        vertical-align: top;\n",
       "    }\n",
       "\n",
       "    .dataframe thead th {\n",
       "        text-align: right;\n",
       "    }\n",
       "</style>\n",
       "<table border=\"1\" class=\"dataframe\">\n",
       "  <thead>\n",
       "    <tr style=\"text-align: right;\">\n",
       "      <th></th>\n",
       "      <th>index</th>\n",
       "      <th>product</th>\n",
       "    </tr>\n",
       "  </thead>\n",
       "  <tbody>\n",
       "    <tr>\n",
       "      <th>0</th>\n",
       "      <td>Lenovo Vibe K4 Note (White,16GB)</td>\n",
       "      <td>3709</td>\n",
       "    </tr>\n",
       "    <tr>\n",
       "      <th>1</th>\n",
       "      <td>Lenovo Vibe K4 Note (Black, 16GB)</td>\n",
       "      <td>3083</td>\n",
       "    </tr>\n",
       "    <tr>\n",
       "      <th>2</th>\n",
       "      <td>OnePlus 3 (Graphite, 64 GB)</td>\n",
       "      <td>2890</td>\n",
       "    </tr>\n",
       "    <tr>\n",
       "      <th>3</th>\n",
       "      <td>OnePlus 3 (Soft Gold, 64 GB)</td>\n",
       "      <td>2522</td>\n",
       "    </tr>\n",
       "    <tr>\n",
       "      <th>4</th>\n",
       "      <td>Huawei P8lite zwart / 16 GB</td>\n",
       "      <td>1895</td>\n",
       "    </tr>\n",
       "  </tbody>\n",
       "</table>\n",
       "</div>"
      ],
      "text/plain": [
       "                               index  product\n",
       "0   Lenovo Vibe K4 Note (White,16GB)     3709\n",
       "1  Lenovo Vibe K4 Note (Black, 16GB)     3083\n",
       "2        OnePlus 3 (Graphite, 64 GB)     2890\n",
       "3       OnePlus 3 (Soft Gold, 64 GB)     2522\n",
       "4        Huawei P8lite zwart / 16 GB     1895"
      ]
     },
     "execution_count": 131,
     "metadata": {},
     "output_type": "execute_result"
    }
   ],
   "source": [
    "product = pd.DataFrame(product).reset_index()\n",
    "product.head()\n",
    "#product.columns = ['product', 'product_count']"
   ]
  },
  {
   "cell_type": "code",
   "execution_count": 132,
   "id": "135b35f2",
   "metadata": {},
   "outputs": [],
   "source": [
    "product.columns = ['product', 'product_count']"
   ]
  },
  {
   "cell_type": "code",
   "execution_count": 133,
   "id": "da8a6ff7",
   "metadata": {},
   "outputs": [
    {
     "data": {
      "text/html": [
       "<div>\n",
       "<style scoped>\n",
       "    .dataframe tbody tr th:only-of-type {\n",
       "        vertical-align: middle;\n",
       "    }\n",
       "\n",
       "    .dataframe tbody tr th {\n",
       "        vertical-align: top;\n",
       "    }\n",
       "\n",
       "    .dataframe thead th {\n",
       "        text-align: right;\n",
       "    }\n",
       "</style>\n",
       "<table border=\"1\" class=\"dataframe\">\n",
       "  <thead>\n",
       "    <tr style=\"text-align: right;\">\n",
       "      <th></th>\n",
       "      <th>product</th>\n",
       "      <th>product_count</th>\n",
       "    </tr>\n",
       "  </thead>\n",
       "  <tbody>\n",
       "    <tr>\n",
       "      <th>0</th>\n",
       "      <td>Lenovo Vibe K4 Note (White,16GB)</td>\n",
       "      <td>3709</td>\n",
       "    </tr>\n",
       "    <tr>\n",
       "      <th>1</th>\n",
       "      <td>Lenovo Vibe K4 Note (Black, 16GB)</td>\n",
       "      <td>3083</td>\n",
       "    </tr>\n",
       "    <tr>\n",
       "      <th>2</th>\n",
       "      <td>OnePlus 3 (Graphite, 64 GB)</td>\n",
       "      <td>2890</td>\n",
       "    </tr>\n",
       "    <tr>\n",
       "      <th>3</th>\n",
       "      <td>OnePlus 3 (Soft Gold, 64 GB)</td>\n",
       "      <td>2522</td>\n",
       "    </tr>\n",
       "    <tr>\n",
       "      <th>4</th>\n",
       "      <td>Huawei P8lite zwart / 16 GB</td>\n",
       "      <td>1895</td>\n",
       "    </tr>\n",
       "  </tbody>\n",
       "</table>\n",
       "</div>"
      ],
      "text/plain": [
       "                             product  product_count\n",
       "0   Lenovo Vibe K4 Note (White,16GB)           3709\n",
       "1  Lenovo Vibe K4 Note (Black, 16GB)           3083\n",
       "2        OnePlus 3 (Graphite, 64 GB)           2890\n",
       "3       OnePlus 3 (Soft Gold, 64 GB)           2522\n",
       "4        Huawei P8lite zwart / 16 GB           1895"
      ]
     },
     "execution_count": 133,
     "metadata": {},
     "output_type": "execute_result"
    }
   ],
   "source": [
    "product.head()"
   ]
  },
  {
   "cell_type": "code",
   "execution_count": 134,
   "id": "fa118ceb",
   "metadata": {},
   "outputs": [
    {
     "data": {
      "text/html": [
       "<div>\n",
       "<style scoped>\n",
       "    .dataframe tbody tr th:only-of-type {\n",
       "        vertical-align: middle;\n",
       "    }\n",
       "\n",
       "    .dataframe tbody tr th {\n",
       "        vertical-align: top;\n",
       "    }\n",
       "\n",
       "    .dataframe thead th {\n",
       "        text-align: right;\n",
       "    }\n",
       "</style>\n",
       "<table border=\"1\" class=\"dataframe\">\n",
       "  <thead>\n",
       "    <tr style=\"text-align: right;\">\n",
       "      <th></th>\n",
       "      <th>author</th>\n",
       "      <th>author_count</th>\n",
       "    </tr>\n",
       "  </thead>\n",
       "  <tbody>\n",
       "    <tr>\n",
       "      <th>0</th>\n",
       "      <td>Amazon Customer</td>\n",
       "      <td>54641</td>\n",
       "    </tr>\n",
       "    <tr>\n",
       "      <th>1</th>\n",
       "      <td>UnKnown</td>\n",
       "      <td>43867</td>\n",
       "    </tr>\n",
       "    <tr>\n",
       "      <th>2</th>\n",
       "      <td>Cliente Amazon</td>\n",
       "      <td>13669</td>\n",
       "    </tr>\n",
       "    <tr>\n",
       "      <th>3</th>\n",
       "      <td>e-bit</td>\n",
       "      <td>5962</td>\n",
       "    </tr>\n",
       "    <tr>\n",
       "      <th>4</th>\n",
       "      <td>Client d'Amazon</td>\n",
       "      <td>5499</td>\n",
       "    </tr>\n",
       "  </tbody>\n",
       "</table>\n",
       "</div>"
      ],
      "text/plain": [
       "            author  author_count\n",
       "0  Amazon Customer         54641\n",
       "1          UnKnown         43867\n",
       "2   Cliente Amazon         13669\n",
       "3            e-bit          5962\n",
       "4  Client d'Amazon          5499"
      ]
     },
     "execution_count": 134,
     "metadata": {},
     "output_type": "execute_result"
    }
   ],
   "source": [
    "author.head()"
   ]
  },
  {
   "cell_type": "code",
   "execution_count": 135,
   "id": "97599d70",
   "metadata": {},
   "outputs": [],
   "source": [
    "phone_auth_product = phone_new.merge(product, how = 'left', on = ['product'])\n"
   ]
  },
  {
   "cell_type": "code",
   "execution_count": 136,
   "id": "f9d36dd7",
   "metadata": {},
   "outputs": [
    {
     "data": {
      "text/plain": [
       "(1000000, 5)"
      ]
     },
     "metadata": {},
     "output_type": "display_data"
    },
    {
     "data": {
      "text/html": [
       "<div>\n",
       "<style scoped>\n",
       "    .dataframe tbody tr th:only-of-type {\n",
       "        vertical-align: middle;\n",
       "    }\n",
       "\n",
       "    .dataframe tbody tr th {\n",
       "        vertical-align: top;\n",
       "    }\n",
       "\n",
       "    .dataframe thead th {\n",
       "        text-align: right;\n",
       "    }\n",
       "</style>\n",
       "<table border=\"1\" class=\"dataframe\">\n",
       "  <thead>\n",
       "    <tr style=\"text-align: right;\">\n",
       "      <th></th>\n",
       "      <th>author</th>\n",
       "      <th>product</th>\n",
       "      <th>score</th>\n",
       "      <th>author_count</th>\n",
       "      <th>product_count</th>\n",
       "    </tr>\n",
       "  </thead>\n",
       "  <tbody>\n",
       "    <tr>\n",
       "      <th>0</th>\n",
       "      <td>Vinod Kumar Chengespur</td>\n",
       "      <td>Lenovo Vibe K4 Note (White,16GB)</td>\n",
       "      <td>8</td>\n",
       "      <td>1</td>\n",
       "      <td>3709</td>\n",
       "    </tr>\n",
       "    <tr>\n",
       "      <th>1</th>\n",
       "      <td>Sharon</td>\n",
       "      <td>HTC Desire 816 Black (Virgin mobile) - 5.5 inc...</td>\n",
       "      <td>2</td>\n",
       "      <td>49</td>\n",
       "      <td>169</td>\n",
       "    </tr>\n",
       "    <tr>\n",
       "      <th>2</th>\n",
       "      <td>An Sionnach</td>\n",
       "      <td>Xperia Sony Xperia Z Ultra SIM-free Android Sm...</td>\n",
       "      <td>8</td>\n",
       "      <td>1</td>\n",
       "      <td>33</td>\n",
       "    </tr>\n",
       "    <tr>\n",
       "      <th>3</th>\n",
       "      <td>Jomine Jose</td>\n",
       "      <td>Lava Iris X5 (Black)</td>\n",
       "      <td>2</td>\n",
       "      <td>1</td>\n",
       "      <td>54</td>\n",
       "    </tr>\n",
       "    <tr>\n",
       "      <th>4</th>\n",
       "      <td>Marcos Rivero</td>\n",
       "      <td>Sony Xperia L C2105 White (Factory Unlocked) 4...</td>\n",
       "      <td>10</td>\n",
       "      <td>1</td>\n",
       "      <td>24</td>\n",
       "    </tr>\n",
       "  </tbody>\n",
       "</table>\n",
       "</div>"
      ],
      "text/plain": [
       "                   author                                            product  \\\n",
       "0  Vinod Kumar Chengespur                   Lenovo Vibe K4 Note (White,16GB)   \n",
       "1                  Sharon  HTC Desire 816 Black (Virgin mobile) - 5.5 inc...   \n",
       "2             An Sionnach  Xperia Sony Xperia Z Ultra SIM-free Android Sm...   \n",
       "3             Jomine Jose                               Lava Iris X5 (Black)   \n",
       "4           Marcos Rivero  Sony Xperia L C2105 White (Factory Unlocked) 4...   \n",
       "\n",
       "   score  author_count  product_count  \n",
       "0      8             1           3709  \n",
       "1      2            49            169  \n",
       "2      8             1             33  \n",
       "3      2             1             54  \n",
       "4     10             1             24  "
      ]
     },
     "metadata": {},
     "output_type": "display_data"
    }
   ],
   "source": [
    "display(phone_auth_product.shape, phone_auth_product.head())"
   ]
  },
  {
   "cell_type": "code",
   "execution_count": 137,
   "id": "93691e66",
   "metadata": {},
   "outputs": [
    {
     "data": {
      "text/plain": [
       "50"
      ]
     },
     "execution_count": 137,
     "metadata": {},
     "output_type": "execute_result"
    }
   ],
   "source": [
    "(phone_auth_product['product']=='LG GT540').sum()"
   ]
  },
  {
   "cell_type": "code",
   "execution_count": 138,
   "id": "72579c4a",
   "metadata": {},
   "outputs": [
    {
     "name": "stdout",
     "output_type": "stream",
     "text": [
      "Number of unique Products and Authors in the phones_df\n",
      "------------------------------------------------------------\n",
      "Number of unique Products in raw ratings dataframe =  56438\n",
      "Number of unique Authors in raw ratings dataframe =  596751\n"
     ]
    }
   ],
   "source": [
    "# Number of unique Products and Authors in the data\n",
    "print('Number of unique Products and Authors in the phones_df'); print('--'*30)\n",
    "print('Number of unique Products in raw ratings dataframe = ', phone_auth_product['product'].nunique())\n",
    "print('Number of unique Authors in raw ratings dataframe = ', phone_auth_product['author'].nunique())\n"
   ]
  },
  {
   "cell_type": "markdown",
   "id": "712cc173",
   "metadata": {},
   "source": [
    "### Getting the data that have more than 50 Author and product count"
   ]
  },
  {
   "cell_type": "code",
   "execution_count": 139,
   "id": "86e40fc3",
   "metadata": {},
   "outputs": [
    {
     "name": "stdout",
     "output_type": "stream",
     "text": [
      "Authors and products those who have given more than 50 number of ratings \n",
      "--------------------------------------------------------------------------------\n"
     ]
    },
    {
     "data": {
      "text/html": [
       "<div>\n",
       "<style scoped>\n",
       "    .dataframe tbody tr th:only-of-type {\n",
       "        vertical-align: middle;\n",
       "    }\n",
       "\n",
       "    .dataframe tbody tr th {\n",
       "        vertical-align: top;\n",
       "    }\n",
       "\n",
       "    .dataframe thead th {\n",
       "        text-align: right;\n",
       "    }\n",
       "</style>\n",
       "<table border=\"1\" class=\"dataframe\">\n",
       "  <thead>\n",
       "    <tr style=\"text-align: right;\">\n",
       "      <th></th>\n",
       "      <th>author</th>\n",
       "      <th>product</th>\n",
       "      <th>score</th>\n",
       "      <th>author_count</th>\n",
       "      <th>product_count</th>\n",
       "    </tr>\n",
       "  </thead>\n",
       "  <tbody>\n",
       "    <tr>\n",
       "      <th>5</th>\n",
       "      <td>Cliente Amazon</td>\n",
       "      <td>Microsoft Telefonia Lumia 950 XL Smartphone, 3...</td>\n",
       "      <td>8</td>\n",
       "      <td>13669</td>\n",
       "      <td>54</td>\n",
       "    </tr>\n",
       "    <tr>\n",
       "      <th>12</th>\n",
       "      <td>UnKnown</td>\n",
       "      <td>Nokia E52</td>\n",
       "      <td>10</td>\n",
       "      <td>43867</td>\n",
       "      <td>703</td>\n",
       "    </tr>\n",
       "    <tr>\n",
       "      <th>16</th>\n",
       "      <td>Amazon Customer</td>\n",
       "      <td>Nokia Lumia 635 8GB Unlocked GSM 4G LTE Window...</td>\n",
       "      <td>2</td>\n",
       "      <td>54641</td>\n",
       "      <td>248</td>\n",
       "    </tr>\n",
       "    <tr>\n",
       "      <th>28</th>\n",
       "      <td>Anonymous</td>\n",
       "      <td>Samsung Rant</td>\n",
       "      <td>10</td>\n",
       "      <td>1945</td>\n",
       "      <td>53</td>\n",
       "    </tr>\n",
       "    <tr>\n",
       "      <th>40</th>\n",
       "      <td>Amazon Customer</td>\n",
       "      <td>OnePlus 3T (Gunmetal, 6GB RAM + 64GB memory)</td>\n",
       "      <td>10</td>\n",
       "      <td>54641</td>\n",
       "      <td>1342</td>\n",
       "    </tr>\n",
       "  </tbody>\n",
       "</table>\n",
       "</div>"
      ],
      "text/plain": [
       "             author                                            product  score  \\\n",
       "5    Cliente Amazon  Microsoft Telefonia Lumia 950 XL Smartphone, 3...      8   \n",
       "12          UnKnown                                          Nokia E52     10   \n",
       "16  Amazon Customer  Nokia Lumia 635 8GB Unlocked GSM 4G LTE Window...      2   \n",
       "28        Anonymous                                       Samsung Rant     10   \n",
       "40  Amazon Customer       OnePlus 3T (Gunmetal, 6GB RAM + 64GB memory)     10   \n",
       "\n",
       "    author_count  product_count  \n",
       "5          13669             54  \n",
       "12         43867            703  \n",
       "16         54641            248  \n",
       "28          1945             53  \n",
       "40         54641           1342  "
      ]
     },
     "execution_count": 139,
     "metadata": {},
     "output_type": "execute_result"
    }
   ],
   "source": [
    "import numpy as np\n",
    "print('Authors and products those who have given more than 50 number of ratings '); print('--'*40)\n",
    "final_df=phone_auth_product[(phone_auth_product['author_count'] > 50) & (phone_auth_product['product_count'] > 50)]\n",
    "final_df.head()\n",
    "#phone_auth_product = phone_auth_product[filterConditions]\n"
   ]
  },
  {
   "cell_type": "code",
   "execution_count": 140,
   "id": "844664b6",
   "metadata": {},
   "outputs": [
    {
     "data": {
      "text/html": [
       "<div>\n",
       "<style scoped>\n",
       "    .dataframe tbody tr th:only-of-type {\n",
       "        vertical-align: middle;\n",
       "    }\n",
       "\n",
       "    .dataframe tbody tr th {\n",
       "        vertical-align: top;\n",
       "    }\n",
       "\n",
       "    .dataframe thead th {\n",
       "        text-align: right;\n",
       "    }\n",
       "</style>\n",
       "<table border=\"1\" class=\"dataframe\">\n",
       "  <thead>\n",
       "    <tr style=\"text-align: right;\">\n",
       "      <th></th>\n",
       "      <th>author</th>\n",
       "      <th>product</th>\n",
       "      <th>score</th>\n",
       "      <th>author_count</th>\n",
       "      <th>product_count</th>\n",
       "    </tr>\n",
       "  </thead>\n",
       "  <tbody>\n",
       "    <tr>\n",
       "      <th>999967</th>\n",
       "      <td>UnKnown</td>\n",
       "      <td>Nokia N73</td>\n",
       "      <td>8</td>\n",
       "      <td>43867</td>\n",
       "      <td>606</td>\n",
       "    </tr>\n",
       "    <tr>\n",
       "      <th>999978</th>\n",
       "      <td>Дмитрий</td>\n",
       "      <td>Samsung Galaxy A3 (2016)</td>\n",
       "      <td>8</td>\n",
       "      <td>580</td>\n",
       "      <td>229</td>\n",
       "    </tr>\n",
       "    <tr>\n",
       "      <th>999984</th>\n",
       "      <td>Amazon Customer</td>\n",
       "      <td>Lenovo PHAB Plus Tablet (6.8 inch, 32GB, Wi-Fi...</td>\n",
       "      <td>2</td>\n",
       "      <td>54641</td>\n",
       "      <td>324</td>\n",
       "    </tr>\n",
       "    <tr>\n",
       "      <th>999995</th>\n",
       "      <td>Андрей</td>\n",
       "      <td>Samsung S5830 Galaxy Ace</td>\n",
       "      <td>6</td>\n",
       "      <td>529</td>\n",
       "      <td>127</td>\n",
       "    </tr>\n",
       "    <tr>\n",
       "      <th>999997</th>\n",
       "      <td>e-bit</td>\n",
       "      <td>Smartphone Motorola Moto X 2ª Geração XT1097 3...</td>\n",
       "      <td>10</td>\n",
       "      <td>5962</td>\n",
       "      <td>390</td>\n",
       "    </tr>\n",
       "  </tbody>\n",
       "</table>\n",
       "</div>"
      ],
      "text/plain": [
       "                 author                                            product  \\\n",
       "999967          UnKnown                                          Nokia N73   \n",
       "999978          Дмитрий                           Samsung Galaxy A3 (2016)   \n",
       "999984  Amazon Customer  Lenovo PHAB Plus Tablet (6.8 inch, 32GB, Wi-Fi...   \n",
       "999995           Андрей                           Samsung S5830 Galaxy Ace   \n",
       "999997            e-bit  Smartphone Motorola Moto X 2ª Geração XT1097 3...   \n",
       "\n",
       "        score  author_count  product_count  \n",
       "999967      8         43867            606  \n",
       "999978      8           580            229  \n",
       "999984      2         54641            324  \n",
       "999995      6           529            127  \n",
       "999997     10          5962            390  "
      ]
     },
     "execution_count": 140,
     "metadata": {},
     "output_type": "execute_result"
    }
   ],
   "source": [
    "final_df.tail()"
   ]
  },
  {
   "cell_type": "code",
   "execution_count": 142,
   "id": "8c7c0081",
   "metadata": {},
   "outputs": [
    {
     "data": {
      "text/plain": [
       "Lenovo Vibe K4 Note (White,16GB)                         2189\n",
       "Lenovo Vibe K4 Note (Black, 16GB)                        1778\n",
       "OnePlus 3 (Graphite, 64 GB)                              1305\n",
       "OnePlus 3 (Soft Gold, 64 GB)                             1234\n",
       "Lenovo Vibe K5 (Gold, VoLTE update)                      1109\n",
       "                                                         ... \n",
       "Nokia Lumia 520 (Cyan)                                      1\n",
       "Motorola Timeport P7389                                     1\n",
       "Samsung I9500 Galaxy S4 White                               1\n",
       "Samsung Galaxy S5 16GB (U.S. Cellular)                      1\n",
       "Сотовый телефон ASUS ZenFone 2 Deluxe Special Edition       1\n",
       "Name: product, Length: 4060, dtype: int64"
      ]
     },
     "execution_count": 142,
     "metadata": {},
     "output_type": "execute_result"
    }
   ],
   "source": [
    "final_df['product'].value_counts()"
   ]
  },
  {
   "cell_type": "code",
   "execution_count": 143,
   "id": "4d3357a9",
   "metadata": {},
   "outputs": [
    {
     "data": {
      "text/plain": [
       "(129582, 5)"
      ]
     },
     "execution_count": 143,
     "metadata": {},
     "output_type": "execute_result"
    }
   ],
   "source": [
    "final_df.shape\n"
   ]
  },
  {
   "cell_type": "code",
   "execution_count": 144,
   "id": "d787c700",
   "metadata": {},
   "outputs": [
    {
     "name": "stdout",
     "output_type": "stream",
     "text": [
      "Selecting only author, product and Score column\n"
     ]
    }
   ],
   "source": [
    "print('Selecting only author, product and Score column');\n",
    "final = final_df[['author', 'product', 'score']]"
   ]
  },
  {
   "cell_type": "code",
   "execution_count": 145,
   "id": "9061a9ee",
   "metadata": {},
   "outputs": [
    {
     "name": "stdout",
     "output_type": "stream",
     "text": [
      "Number of unique Author and products in the final Dataframe\n",
      "--------------------------------------------------------------------------------\n",
      "Number of unique Authors in filtered final dataframe =  644\n",
      "Number of unique Product in filtered final dataframe =  4060\n"
     ]
    }
   ],
   "source": [
    "# Number of unique user id and product id in the data\n",
    "print('Number of unique Author and products in the final Dataframe'); print('--'*40)\n",
    "print('Number of unique Authors in filtered final dataframe = ', final['author'].nunique())\n",
    "print('Number of unique Product in filtered final dataframe = ', final['product'].nunique())"
   ]
  },
  {
   "cell_type": "code",
   "execution_count": 146,
   "id": "5fb1cd5d",
   "metadata": {},
   "outputs": [
    {
     "data": {
      "text/html": [
       "<div>\n",
       "<style scoped>\n",
       "    .dataframe tbody tr th:only-of-type {\n",
       "        vertical-align: middle;\n",
       "    }\n",
       "\n",
       "    .dataframe tbody tr th {\n",
       "        vertical-align: top;\n",
       "    }\n",
       "\n",
       "    .dataframe thead th {\n",
       "        text-align: right;\n",
       "    }\n",
       "</style>\n",
       "<table border=\"1\" class=\"dataframe\">\n",
       "  <thead>\n",
       "    <tr style=\"text-align: right;\">\n",
       "      <th></th>\n",
       "      <th>author</th>\n",
       "      <th>product</th>\n",
       "      <th>score</th>\n",
       "    </tr>\n",
       "  </thead>\n",
       "  <tbody>\n",
       "    <tr>\n",
       "      <th>5</th>\n",
       "      <td>Cliente Amazon</td>\n",
       "      <td>Microsoft Telefonia Lumia 950 XL Smartphone, 3...</td>\n",
       "      <td>8</td>\n",
       "    </tr>\n",
       "    <tr>\n",
       "      <th>12</th>\n",
       "      <td>UnKnown</td>\n",
       "      <td>Nokia E52</td>\n",
       "      <td>10</td>\n",
       "    </tr>\n",
       "    <tr>\n",
       "      <th>16</th>\n",
       "      <td>Amazon Customer</td>\n",
       "      <td>Nokia Lumia 635 8GB Unlocked GSM 4G LTE Window...</td>\n",
       "      <td>2</td>\n",
       "    </tr>\n",
       "    <tr>\n",
       "      <th>28</th>\n",
       "      <td>Anonymous</td>\n",
       "      <td>Samsung Rant</td>\n",
       "      <td>10</td>\n",
       "    </tr>\n",
       "    <tr>\n",
       "      <th>40</th>\n",
       "      <td>Amazon Customer</td>\n",
       "      <td>OnePlus 3T (Gunmetal, 6GB RAM + 64GB memory)</td>\n",
       "      <td>10</td>\n",
       "    </tr>\n",
       "  </tbody>\n",
       "</table>\n",
       "</div>"
      ],
      "text/plain": [
       "             author                                            product  score\n",
       "5    Cliente Amazon  Microsoft Telefonia Lumia 950 XL Smartphone, 3...      8\n",
       "12          UnKnown                                          Nokia E52     10\n",
       "16  Amazon Customer  Nokia Lumia 635 8GB Unlocked GSM 4G LTE Window...      2\n",
       "28        Anonymous                                       Samsung Rant     10\n",
       "40  Amazon Customer       OnePlus 3T (Gunmetal, 6GB RAM + 64GB memory)     10"
      ]
     },
     "execution_count": 146,
     "metadata": {},
     "output_type": "execute_result"
    }
   ],
   "source": [
    "final.head()"
   ]
  },
  {
   "cell_type": "code",
   "execution_count": 147,
   "id": "60020f56",
   "metadata": {},
   "outputs": [
    {
     "data": {
      "text/html": [
       "<div>\n",
       "<style scoped>\n",
       "    .dataframe tbody tr th:only-of-type {\n",
       "        vertical-align: middle;\n",
       "    }\n",
       "\n",
       "    .dataframe tbody tr th {\n",
       "        vertical-align: top;\n",
       "    }\n",
       "\n",
       "    .dataframe thead th {\n",
       "        text-align: right;\n",
       "    }\n",
       "</style>\n",
       "<table border=\"1\" class=\"dataframe\">\n",
       "  <thead>\n",
       "    <tr style=\"text-align: right;\">\n",
       "      <th></th>\n",
       "      <th>count</th>\n",
       "    </tr>\n",
       "    <tr>\n",
       "      <th>score</th>\n",
       "      <th></th>\n",
       "    </tr>\n",
       "  </thead>\n",
       "  <tbody>\n",
       "    <tr>\n",
       "      <th>0</th>\n",
       "      <td>4861</td>\n",
       "    </tr>\n",
       "    <tr>\n",
       "      <th>1</th>\n",
       "      <td>147</td>\n",
       "    </tr>\n",
       "    <tr>\n",
       "      <th>2</th>\n",
       "      <td>15052</td>\n",
       "    </tr>\n",
       "    <tr>\n",
       "      <th>3</th>\n",
       "      <td>137</td>\n",
       "    </tr>\n",
       "    <tr>\n",
       "      <th>4</th>\n",
       "      <td>7121</td>\n",
       "    </tr>\n",
       "    <tr>\n",
       "      <th>5</th>\n",
       "      <td>282</td>\n",
       "    </tr>\n",
       "    <tr>\n",
       "      <th>6</th>\n",
       "      <td>11026</td>\n",
       "    </tr>\n",
       "    <tr>\n",
       "      <th>7</th>\n",
       "      <td>649</td>\n",
       "    </tr>\n",
       "    <tr>\n",
       "      <th>8</th>\n",
       "      <td>26400</td>\n",
       "    </tr>\n",
       "    <tr>\n",
       "      <th>9</th>\n",
       "      <td>3113</td>\n",
       "    </tr>\n",
       "    <tr>\n",
       "      <th>10</th>\n",
       "      <td>60794</td>\n",
       "    </tr>\n",
       "  </tbody>\n",
       "</table>\n",
       "</div>"
      ],
      "text/plain": [
       "       count\n",
       "score       \n",
       "0       4861\n",
       "1        147\n",
       "2      15052\n",
       "3        137\n",
       "4       7121\n",
       "5        282\n",
       "6      11026\n",
       "7        649\n",
       "8      26400\n",
       "9       3113\n",
       "10     60794"
      ]
     },
     "execution_count": 147,
     "metadata": {},
     "output_type": "execute_result"
    }
   ],
   "source": [
    "# get count\n",
    "score_count = pd.DataFrame(final.groupby('score').size(), columns=['count'])\n",
    "score_count"
   ]
  },
  {
   "cell_type": "code",
   "execution_count": 148,
   "id": "6e7066bf",
   "metadata": {},
   "outputs": [
    {
     "data": {
      "text/plain": [
       "Text(0, 0.5, 'number of ratings')"
      ]
     },
     "execution_count": 148,
     "metadata": {},
     "output_type": "execute_result"
    },
    {
     "data": {
      "image/png": "[encoded data removed]",
      "text/plain": [
       "<Figure size 864x576 with 1 Axes>"
      ]
     },
     "metadata": {},
     "output_type": "display_data"
    }
   ],
   "source": [
    "plt.style.use('ggplot')\n",
    "ax = score_count[['count']].reset_index().rename(columns={'index': 'score'}).plot(\n",
    "#ax = score_count.plot(\n",
    "    x='score',\n",
    "    y='count',\n",
    "    kind='bar',\n",
    "    figsize=(12, 8),\n",
    "    title='Count for Each Rating Score',\n",
    "    #logy=True,\n",
    "    fontsize=12,\n",
    ")\n",
    "ax.set_xlabel(\"Phone rating score\")\n",
    "ax.set_ylabel(\"number of ratings\")"
   ]
  },
  {
   "cell_type": "code",
   "execution_count": 149,
   "id": "9c430d46",
   "metadata": {},
   "outputs": [
    {
     "data": {
      "image/png": "[encoded data removed]",
      "text/plain": [
       "<Figure size 720x504 with 1 Axes>"
      ]
     },
     "metadata": {},
     "output_type": "display_data"
    }
   ],
   "source": [
    "plt.rcParams['figure.figsize'] = (10, 7)\n",
    "score_count.plot(kind='pie', subplots=True)\n",
    "plt.show()"
   ]
  },
  {
   "cell_type": "code",
   "execution_count": 150,
   "id": "4c7f1c3c",
   "metadata": {},
   "outputs": [
    {
     "data": {
      "text/html": [
       "<div>\n",
       "<style scoped>\n",
       "    .dataframe tbody tr th:only-of-type {\n",
       "        vertical-align: middle;\n",
       "    }\n",
       "\n",
       "    .dataframe tbody tr th {\n",
       "        vertical-align: top;\n",
       "    }\n",
       "\n",
       "    .dataframe thead th {\n",
       "        text-align: right;\n",
       "    }\n",
       "</style>\n",
       "<table border=\"1\" class=\"dataframe\">\n",
       "  <thead>\n",
       "    <tr style=\"text-align: right;\">\n",
       "      <th></th>\n",
       "      <th>count</th>\n",
       "    </tr>\n",
       "    <tr>\n",
       "      <th>product</th>\n",
       "      <th></th>\n",
       "    </tr>\n",
       "  </thead>\n",
       "  <tbody>\n",
       "    <tr>\n",
       "      <th>5.5-Inch Unlocked Lenovo A850 3G Smartphone-(960x540) Quad Core 4GB MT6582m 1331MHz Android 4.2 Dual Camera +Dual SIM -Black (Rooted + Google Play)</th>\n",
       "      <td>5</td>\n",
       "    </tr>\n",
       "    <tr>\n",
       "      <th>6682 / 6681</th>\n",
       "      <td>1</td>\n",
       "    </tr>\n",
       "    <tr>\n",
       "      <th>AICEK Coque ASUS ZenFone 3 Max ZC520TL, AICEK Etui Silicone Gel ASUS ZenFone 3 Max Housse Antichoc ZenFone 3 Max Transparente Souple Coque de Protection pour ASUS ZenFone 3 Max(5.2 Pouces)</th>\n",
       "      <td>18</td>\n",
       "    </tr>\n",
       "    <tr>\n",
       "      <th>AICEK Coque ASUS ZenFone 3 ZE520KL, AICEK Etui Silicone Gel ASUS ZenFone 3 Housse Antichoc ZenFone 3 Transparente Souple Coque de Protection pour ASUS ZenFone 3(5.2 Pouces)</th>\n",
       "      <td>22</td>\n",
       "    </tr>\n",
       "    <tr>\n",
       "      <th>AICEK Coque Samsung Galaxy A3 2016, AICEK Etui Silicone Gel Samsung Galaxy A3 2016 (A310F) Housse Antichoc Samsung A3 Transparente Souple Coque De Protection Pour Samsung Galaxy A3 2016 (4,7 pouces)</th>\n",
       "      <td>59</td>\n",
       "    </tr>\n",
       "  </tbody>\n",
       "</table>\n",
       "</div>"
      ],
      "text/plain": [
       "                                                    count\n",
       "product                                                  \n",
       "5.5-Inch Unlocked Lenovo A850 3G Smartphone-(96...      5\n",
       "6682 / 6681                                             1\n",
       "AICEK Coque ASUS ZenFone 3 Max ZC520TL, AICEK E...     18\n",
       "AICEK Coque ASUS ZenFone 3 ZE520KL, AICEK Etui ...     22\n",
       "AICEK Coque Samsung Galaxy A3 2016, AICEK Etui ...     59"
      ]
     },
     "execution_count": 150,
     "metadata": {},
     "output_type": "execute_result"
    }
   ],
   "source": [
    "# get rating frequency\n",
    "product_cnt = pd.DataFrame(final.groupby('product').size(), columns=['count'])\n",
    "product_cnt.head()"
   ]
  },
  {
   "cell_type": "code",
   "execution_count": 151,
   "id": "fa58b110",
   "metadata": {},
   "outputs": [
    {
     "data": {
      "text/plain": [
       "(4060, 1)"
      ]
     },
     "execution_count": 151,
     "metadata": {},
     "output_type": "execute_result"
    }
   ],
   "source": [
    "product_cnt.shape"
   ]
  },
  {
   "cell_type": "markdown",
   "id": "3d6e0ede",
   "metadata": {},
   "source": [
    "### Observation:\n",
    "There are around 4000 products (4060) in the final dataset"
   ]
  },
  {
   "cell_type": "code",
   "execution_count": 152,
   "id": "cec85273",
   "metadata": {},
   "outputs": [
    {
     "data": {
      "text/plain": [
       "Text(0, 0.5, 'number of ratings')"
      ]
     },
     "execution_count": 152,
     "metadata": {},
     "output_type": "execute_result"
    },
    {
     "data": {
      "image/png": "[encoded data removed]",
      "text/plain": [
       "<Figure size 864x576 with 1 Axes>"
      ]
     },
     "metadata": {},
     "output_type": "display_data"
    }
   ],
   "source": [
    "## Rating Frequency of of all products\n",
    "# plot rating frequency of all movies\n",
    "ax = product_cnt \\\n",
    "    .sort_values('count', ascending=False) \\\n",
    "    .reset_index(drop=True) \\\n",
    "    .plot(\n",
    "        figsize=(12, 8),\n",
    "        title='Rating Frequency of all Products',\n",
    "        fontsize=12\n",
    "    )\n",
    "ax.set_xlabel(\"Product id\")\n",
    "ax.set_ylabel(\"number of ratings\")"
   ]
  },
  {
   "cell_type": "markdown",
   "id": "94ce40a8",
   "metadata": {},
   "source": [
    "#### comments <br>\n",
    "* Only small fraction of product is reviewed frequently"
   ]
  },
  {
   "cell_type": "code",
   "execution_count": 153,
   "id": "7d50a35a",
   "metadata": {},
   "outputs": [
    {
     "data": {
      "text/plain": [
       "Text(0, 0.5, 'number of ratings (log scale)')"
      ]
     },
     "execution_count": 153,
     "metadata": {},
     "output_type": "execute_result"
    },
    {
     "data": {
      "image/png": "[encoded data removed]",
      "text/plain": [
       "<Figure size 864x576 with 1 Axes>"
      ]
     },
     "metadata": {},
     "output_type": "display_data"
    }
   ],
   "source": [
    "# plot rating frequency of all movies in log scale\n",
    "ax = product_cnt \\\n",
    "    .sort_values('count', ascending=False) \\\n",
    "    .reset_index(drop=True) \\\n",
    "    .plot(\n",
    "        figsize=(12, 8),\n",
    "        title='Rating Frequency of all products (in Log Scale)',\n",
    "        fontsize=12,\n",
    "        logy=True\n",
    "    )\n",
    "ax.set_xlabel(\"Product Id\")\n",
    "ax.set_ylabel(\"number of ratings (log scale)\")"
   ]
  },
  {
   "cell_type": "markdown",
   "id": "a9be225b",
   "metadata": {},
   "source": [
    "### Observation"
   ]
  },
  {
   "cell_type": "markdown",
   "id": "e684d32f",
   "metadata": {},
   "source": [
    "Roughly 2000 products rated more than 10 times. and 3000 products rated less than 10 times.\n",
    "and 1000 products rated more than 10 times may be around 50 times"
   ]
  },
  {
   "cell_type": "code",
   "execution_count": 154,
   "id": "49c735ca",
   "metadata": {},
   "outputs": [
    {
     "data": {
      "text/plain": [
       "1.00    2189.0\n",
       "0.95      99.0\n",
       "0.90      62.1\n",
       "0.85      48.0\n",
       "0.80      40.0\n",
       "0.75      33.0\n",
       "0.70      27.0\n",
       "0.65      23.0\n",
       "Name: count, dtype: float64"
      ]
     },
     "execution_count": 154,
     "metadata": {},
     "output_type": "execute_result"
    }
   ],
   "source": [
    "product_cnt['count'].quantile(np.arange(1, 0.6, -0.05))"
   ]
  },
  {
   "cell_type": "markdown",
   "id": "760825c0",
   "metadata": {},
   "source": [
    "### Obseration:\n",
    "About 1% of products having more than 2310 rating. about 20% having 38 rating. "
   ]
  },
  {
   "cell_type": "code",
   "execution_count": 155,
   "id": "905d1e28",
   "metadata": {},
   "outputs": [
    {
     "data": {
      "text/html": [
       "<div>\n",
       "<style scoped>\n",
       "    .dataframe tbody tr th:only-of-type {\n",
       "        vertical-align: middle;\n",
       "    }\n",
       "\n",
       "    .dataframe tbody tr th {\n",
       "        vertical-align: top;\n",
       "    }\n",
       "\n",
       "    .dataframe thead th {\n",
       "        text-align: right;\n",
       "    }\n",
       "</style>\n",
       "<table border=\"1\" class=\"dataframe\">\n",
       "  <thead>\n",
       "    <tr style=\"text-align: right;\">\n",
       "      <th></th>\n",
       "      <th>count</th>\n",
       "    </tr>\n",
       "    <tr>\n",
       "      <th>product</th>\n",
       "      <th></th>\n",
       "    </tr>\n",
       "  </thead>\n",
       "  <tbody>\n",
       "    <tr>\n",
       "      <th>5.5-Inch Unlocked Lenovo A850 3G Smartphone-(960x540) Quad Core 4GB MT6582m 1331MHz Android 4.2 Dual Camera +Dual SIM -Black (Rooted + Google Play)</th>\n",
       "      <td>5</td>\n",
       "    </tr>\n",
       "    <tr>\n",
       "      <th>6682 / 6681</th>\n",
       "      <td>1</td>\n",
       "    </tr>\n",
       "    <tr>\n",
       "      <th>AICEK Coque ASUS ZenFone 3 Max ZC520TL, AICEK Etui Silicone Gel ASUS ZenFone 3 Max Housse Antichoc ZenFone 3 Max Transparente Souple Coque de Protection pour ASUS ZenFone 3 Max(5.2 Pouces)</th>\n",
       "      <td>18</td>\n",
       "    </tr>\n",
       "    <tr>\n",
       "      <th>AICEK Coque ASUS ZenFone 3 ZE520KL, AICEK Etui Silicone Gel ASUS ZenFone 3 Housse Antichoc ZenFone 3 Transparente Souple Coque de Protection pour ASUS ZenFone 3(5.2 Pouces)</th>\n",
       "      <td>22</td>\n",
       "    </tr>\n",
       "    <tr>\n",
       "      <th>AICEK Coque Samsung Galaxy A3 2016, AICEK Etui Silicone Gel Samsung Galaxy A3 2016 (A310F) Housse Antichoc Samsung A3 Transparente Souple Coque De Protection Pour Samsung Galaxy A3 2016 (4,7 pouces)</th>\n",
       "      <td>59</td>\n",
       "    </tr>\n",
       "  </tbody>\n",
       "</table>\n",
       "</div>"
      ],
      "text/plain": [
       "                                                    count\n",
       "product                                                  \n",
       "5.5-Inch Unlocked Lenovo A850 3G Smartphone-(96...      5\n",
       "6682 / 6681                                             1\n",
       "AICEK Coque ASUS ZenFone 3 Max ZC520TL, AICEK E...     18\n",
       "AICEK Coque ASUS ZenFone 3 ZE520KL, AICEK Etui ...     22\n",
       "AICEK Coque Samsung Galaxy A3 2016, AICEK Etui ...     59"
      ]
     },
     "execution_count": 155,
     "metadata": {},
     "output_type": "execute_result"
    }
   ],
   "source": [
    "# get number of ratings given by every user\n",
    "users_count = pd.DataFrame(final.groupby('product').size(), columns=['count'])\n",
    "users_count.head()"
   ]
  },
  {
   "cell_type": "code",
   "execution_count": 156,
   "id": "91765f1b",
   "metadata": {},
   "outputs": [
    {
     "data": {
      "text/plain": [
       "Text(0, 0.5, 'number of ratings')"
      ]
     },
     "execution_count": 156,
     "metadata": {},
     "output_type": "execute_result"
    },
    {
     "data": {
      "image/png": "[encoded data removed]",
      "text/plain": [
       "<Figure size 864x576 with 1 Axes>"
      ]
     },
     "metadata": {},
     "output_type": "display_data"
    }
   ],
   "source": [
    "# plot rating frequency of all movies\n",
    "ax = users_count \\\n",
    "    .sort_values('count', ascending=False) \\\n",
    "    .reset_index(drop=True) \\\n",
    "    .plot(\n",
    "        figsize=(12, 8),\n",
    "        title='Rating Frequency of All Users',\n",
    "        fontsize=12\n",
    "    )\n",
    "ax.set_xlabel(\"Authors\")\n",
    "ax.set_ylabel(\"number of ratings\")"
   ]
  },
  {
   "cell_type": "markdown",
   "id": "3bf7b17f",
   "metadata": {},
   "source": [
    "### Observation:\n",
    "Only small fraction of users gave rating frequently"
   ]
  },
  {
   "cell_type": "code",
   "execution_count": 157,
   "id": "ec5dc8f2",
   "metadata": {},
   "outputs": [
    {
     "data": {
      "text/plain": [
       "(129582, 3)"
      ]
     },
     "execution_count": 157,
     "metadata": {},
     "output_type": "execute_result"
    }
   ],
   "source": [
    "final.shape"
   ]
  },
  {
   "cell_type": "markdown",
   "id": "b9ac08e2",
   "metadata": {},
   "source": [
    "#### Comments <br>\n",
    "* After filtering the dataframe based on the products count and author count which are more than 50 each, we can come with data of **129582** records\n",
    "* And if we see the score count the percentage of score having 10 is more than other scores"
   ]
  },
  {
   "cell_type": "markdown",
   "id": "aec8c97c",
   "metadata": {},
   "source": [
    "<span style=\"font-family: Arial; font-weight:bold;font-size:1.5em;color:#00b3e5;\">3. Build a popularity based model and recommend top 5 mobile phones. [5 Marks]"
   ]
  },
  {
   "cell_type": "markdown",
   "id": "0d43431c",
   "metadata": {},
   "source": [
    "## To build a popularity model to recommend top 5 mobile phones"
   ]
  },
  {
   "cell_type": "code",
   "execution_count": 158,
   "id": "15afea38",
   "metadata": {},
   "outputs": [
    {
     "name": "stdout",
     "output_type": "stream",
     "text": [
      "Lenovo Vibe K4 Note (White,16GB)                         2189\n",
      "Lenovo Vibe K4 Note (Black, 16GB)                        1778\n",
      "OnePlus 3 (Graphite, 64 GB)                              1305\n",
      "OnePlus 3 (Soft Gold, 64 GB)                             1234\n",
      "Lenovo Vibe K5 (Gold, VoLTE update)                      1109\n",
      "                                                         ... \n",
      "Nokia Lumia 520 (Cyan)                                      1\n",
      "Motorola Timeport P7389                                     1\n",
      "Samsung I9500 Galaxy S4 White                               1\n",
      "Samsung Galaxy S5 16GB (U.S. Cellular)                      1\n",
      "Сотовый телефон ASUS ZenFone 2 Deluxe Special Edition       1\n",
      "Name: product, Length: 4060, dtype: int64\n"
     ]
    }
   ],
   "source": [
    "product_frequency= final['product'].value_counts()\n",
    "print(product_frequency)"
   ]
  },
  {
   "cell_type": "markdown",
   "id": "e0965598",
   "metadata": {},
   "source": [
    "### Approach trying to find out the popular phones by different ways"
   ]
  },
  {
   "cell_type": "markdown",
   "id": "ac164792",
   "metadata": {},
   "source": [
    "### 1. By using the sum of Score grouped by Product"
   ]
  },
  {
   "cell_type": "code",
   "execution_count": 159,
   "id": "4d3351da",
   "metadata": {},
   "outputs": [
    {
     "data": {
      "text/html": [
       "<div>\n",
       "<style scoped>\n",
       "    .dataframe tbody tr th:only-of-type {\n",
       "        vertical-align: middle;\n",
       "    }\n",
       "\n",
       "    .dataframe tbody tr th {\n",
       "        vertical-align: top;\n",
       "    }\n",
       "\n",
       "    .dataframe thead th {\n",
       "        text-align: right;\n",
       "    }\n",
       "</style>\n",
       "<table border=\"1\" class=\"dataframe\">\n",
       "  <thead>\n",
       "    <tr style=\"text-align: right;\">\n",
       "      <th></th>\n",
       "      <th>score</th>\n",
       "    </tr>\n",
       "    <tr>\n",
       "      <th>product</th>\n",
       "      <th></th>\n",
       "    </tr>\n",
       "  </thead>\n",
       "  <tbody>\n",
       "    <tr>\n",
       "      <th>Lenovo Vibe K4 Note (White,16GB)</th>\n",
       "      <td>15296</td>\n",
       "    </tr>\n",
       "    <tr>\n",
       "      <th>Lenovo Vibe K4 Note (Black, 16GB)</th>\n",
       "      <td>12550</td>\n",
       "    </tr>\n",
       "    <tr>\n",
       "      <th>OnePlus 3 (Graphite, 64 GB)</th>\n",
       "      <td>11140</td>\n",
       "    </tr>\n",
       "    <tr>\n",
       "      <th>OnePlus 3 (Soft Gold, 64 GB)</th>\n",
       "      <td>10258</td>\n",
       "    </tr>\n",
       "    <tr>\n",
       "      <th>Lenovo Vibe K5 (Gold, VoLTE update)</th>\n",
       "      <td>7284</td>\n",
       "    </tr>\n",
       "  </tbody>\n",
       "</table>\n",
       "</div>"
      ],
      "text/plain": [
       "                                     score\n",
       "product                                   \n",
       "Lenovo Vibe K4 Note (White,16GB)     15296\n",
       "Lenovo Vibe K4 Note (Black, 16GB)    12550\n",
       "OnePlus 3 (Graphite, 64 GB)          11140\n",
       "OnePlus 3 (Soft Gold, 64 GB)         10258\n",
       "Lenovo Vibe K5 (Gold, VoLTE update)   7284"
      ]
     },
     "execution_count": 159,
     "metadata": {},
     "output_type": "execute_result"
    }
   ],
   "source": [
    "rating_df=pd.DataFrame(final.groupby(['product'])['score'].sum())\n",
    "top_5=rating_df.sort_values('score',ascending=False).head(5)\n",
    "top_5"
   ]
  },
  {
   "cell_type": "markdown",
   "id": "f0725782",
   "metadata": {},
   "source": [
    "### Comments:<br>\n",
    "If the number of users are more , even if they rated less (<=5), it might come as high score. Hence not going with this approach"
   ]
  },
  {
   "cell_type": "markdown",
   "id": "0d779e22",
   "metadata": {},
   "source": [
    "#### Let us verify the assumption"
   ]
  },
  {
   "cell_type": "code",
   "execution_count": 160,
   "id": "8af29a97",
   "metadata": {},
   "outputs": [
    {
     "data": {
      "text/plain": [
       "2189"
      ]
     },
     "execution_count": 160,
     "metadata": {},
     "output_type": "execute_result"
    }
   ],
   "source": [
    "prod_cnt=(final['product']=='Lenovo Vibe K4 Note (White,16GB)').sum()\n",
    "prod_cnt"
   ]
  },
  {
   "cell_type": "code",
   "execution_count": 161,
   "id": "7ac2dbe0",
   "metadata": {},
   "outputs": [
    {
     "data": {
      "text/plain": [
       "15296"
      ]
     },
     "execution_count": 161,
     "metadata": {},
     "output_type": "execute_result"
    }
   ],
   "source": [
    "score_sum=final.loc[final['product'] == 'Lenovo Vibe K4 Note (White,16GB)'].score.sum()\n",
    "score_sum"
   ]
  },
  {
   "cell_type": "code",
   "execution_count": 162,
   "id": "597659ee",
   "metadata": {},
   "outputs": [
    {
     "data": {
      "text/plain": [
       "6.987665600730927"
      ]
     },
     "execution_count": 162,
     "metadata": {},
     "output_type": "execute_result"
    }
   ],
   "source": [
    "avg=score_sum/prod_cnt\n",
    "avg"
   ]
  },
  {
   "cell_type": "markdown",
   "id": "a98d3451",
   "metadata": {},
   "source": [
    "### Comments:\n",
    "Average score is only 6.9 for the first product for the above method. So we cannot use this for popularity assumption"
   ]
  },
  {
   "cell_type": "markdown",
   "id": "8b3885d9",
   "metadata": {},
   "source": [
    "### 2. By using the average Score"
   ]
  },
  {
   "cell_type": "code",
   "execution_count": 163,
   "id": "cbea8b1f",
   "metadata": {},
   "outputs": [
    {
     "data": {
      "text/html": [
       "<div>\n",
       "<style scoped>\n",
       "    .dataframe tbody tr th:only-of-type {\n",
       "        vertical-align: middle;\n",
       "    }\n",
       "\n",
       "    .dataframe tbody tr th {\n",
       "        vertical-align: top;\n",
       "    }\n",
       "\n",
       "    .dataframe thead th {\n",
       "        text-align: right;\n",
       "    }\n",
       "</style>\n",
       "<table border=\"1\" class=\"dataframe\">\n",
       "  <thead>\n",
       "    <tr style=\"text-align: right;\">\n",
       "      <th></th>\n",
       "      <th>score</th>\n",
       "    </tr>\n",
       "    <tr>\n",
       "      <th>product</th>\n",
       "      <th></th>\n",
       "    </tr>\n",
       "  </thead>\n",
       "  <tbody>\n",
       "    <tr>\n",
       "      <th>LG Smartphone Tri Chip LG Optimus L4 II Desbloqueado Branco Android 3G Wi-Fi Câmera Memória Interna 4GB TV Digital</th>\n",
       "      <td>10.0</td>\n",
       "    </tr>\n",
       "    <tr>\n",
       "      <th>LG Electronics G2 Smartphone (5,2 Zoll (13,2 cm) Touch-Display, 32 GB Speicher, Android 4.2) schwarz</th>\n",
       "      <td>10.0</td>\n",
       "    </tr>\n",
       "    <tr>\n",
       "      <th>Samsung Galaxy Mega 6.3 I9200 8GB Unlocked GSM Dual-Core Android Smartphone w/ 8 MP Camera - White</th>\n",
       "      <td>10.0</td>\n",
       "    </tr>\n",
       "    <tr>\n",
       "      <th>Samsung Galaxy Nexus | Black</th>\n",
       "      <td>10.0</td>\n",
       "    </tr>\n",
       "    <tr>\n",
       "      <th>Sony CMD Z5</th>\n",
       "      <td>10.0</td>\n",
       "    </tr>\n",
       "  </tbody>\n",
       "</table>\n",
       "</div>"
      ],
      "text/plain": [
       "                                                    score\n",
       "product                                                  \n",
       "LG Smartphone Tri Chip LG Optimus L4 II Desbloq...   10.0\n",
       "LG Electronics G2 Smartphone (5,2 Zoll (13,2 cm...   10.0\n",
       "Samsung Galaxy Mega 6.3 I9200 8GB Unlocked GSM ...   10.0\n",
       "Samsung Galaxy Nexus | Black                         10.0\n",
       "Sony CMD Z5                                          10.0"
      ]
     },
     "execution_count": 163,
     "metadata": {},
     "output_type": "execute_result"
    }
   ],
   "source": [
    "## Checking to find the model with Averge score\n",
    "avg_rating_df=pd.DataFrame(final.groupby(['product'])['score'].mean())\n",
    "top_5_avg=avg_rating_df.sort_values('score',ascending=False).head(5)\n",
    "top_5_avg"
   ]
  },
  {
   "cell_type": "markdown",
   "id": "81cad6fc",
   "metadata": {},
   "source": [
    "### Observation :\n",
    "We cannot assess these are top,as more phones have avg of 10.0, as there is a possibility that less reviewed product might be recommened. Let us verify the assumption"
   ]
  },
  {
   "cell_type": "code",
   "execution_count": 166,
   "id": "75f71398",
   "metadata": {},
   "outputs": [
    {
     "data": {
      "text/plain": [
       "(5, 1)"
      ]
     },
     "execution_count": 166,
     "metadata": {},
     "output_type": "execute_result"
    }
   ],
   "source": [
    "top_5_avg.shape"
   ]
  },
  {
   "cell_type": "markdown",
   "id": "de4b8130",
   "metadata": {},
   "source": [
    "### Finding the count of top 5 products"
   ]
  },
  {
   "cell_type": "code",
   "execution_count": 165,
   "id": "b542afc0",
   "metadata": {},
   "outputs": [
    {
     "name": "stdout",
     "output_type": "stream",
     "text": [
      "LG Smartphone Tri Chip LG Optimus L4 II Desbloqueado Branco Android 3G Wi-Fi Câmera Memória Interna 4GB TV Digital = 5\n",
      "LG Electronics G2 Smartphone (5,2 Zoll (13,2 cm) Touch-Display, 32 GB Speicher, Android 4.2) schwarz = 4\n",
      "Samsung Galaxy Mega 6.3 I9200 8GB Unlocked GSM Dual-Core Android Smartphone w/ 8 MP Camera - White = 5\n",
      "Samsung Galaxy Nexus | Black = 3\n",
      "Sony CMD Z5 = 2\n"
     ]
    }
   ],
   "source": [
    "for index, row in top_5_avg.iterrows():\n",
    "    #unique_id = i\n",
    "    score = top_5_avg['score']\n",
    "    #print('index=',index)\n",
    "    prod_cnt=(final['product']==index).sum()\n",
    "    print(index,'=',prod_cnt)\n",
    "   # print('score=',score)"
   ]
  },
  {
   "cell_type": "markdown",
   "id": "22e2f17e",
   "metadata": {},
   "source": [
    "### Comments\n",
    "Even all the values has score as 10.0 , all top 5 count not greater than 5. Hence we cannot recommend this"
   ]
  },
  {
   "cell_type": "markdown",
   "id": "748428c3",
   "metadata": {},
   "source": [
    "## 3.To find the frequently rated product in the filtered list"
   ]
  },
  {
   "cell_type": "markdown",
   "id": "02490b8b",
   "metadata": {},
   "source": [
    "### We will include only the products those have frequency more than 200"
   ]
  },
  {
   "cell_type": "code",
   "execution_count": 167,
   "id": "af649800",
   "metadata": {},
   "outputs": [],
   "source": [
    "product_frequency= final['product'].value_counts()"
   ]
  },
  {
   "cell_type": "code",
   "execution_count": 168,
   "id": "c63ef9ff",
   "metadata": {},
   "outputs": [
    {
     "name": "stdout",
     "output_type": "stream",
     "text": [
      "Index(['Lenovo Vibe K4 Note (White,16GB)', 'Lenovo Vibe K4 Note (Black, 16GB)',\n",
      "       'OnePlus 3 (Graphite, 64 GB)', 'OnePlus 3 (Soft Gold, 64 GB)',\n",
      "       'Lenovo Vibe K5 (Gold, VoLTE update)',\n",
      "       'Lenovo Vibe K5 (Grey, VoLTE update)',\n",
      "       'Lenovo Used Lenovo Zuk Z1 (Space Grey, 64GB)',\n",
      "       'Samsung Galaxy S7 edge Smartphone, 13,9 cm (5,5 Zoll) Display, LTE (4G)',\n",
      "       'Lenovo Vibe K5 (Silver, 16GB)', 'YU Yuphoria YU5010A (Black+Silver)',\n",
      "       'OnePlus 3T (Gunmetal, 6GB RAM + 64GB memory)',\n",
      "       'Huawei P9 Lite Smartphone, LTE, Display 5.2'' FHD, Processore Octa-Core Kirin 650, 16 GB Memoria Interna, 3GB RAM, Fotocamera 13 MP, Single-SIM, Android 6.0 Marshmallow, Bianco [Italia]',\n",
      "       'Motorola Moto G, 4th Gen (Black, 2 GB, 16 GB)',\n",
      "       'Motorola Moto G Turbo (White, 16GB)', 'Apple iPhone 5s (Silver, 16GB)',\n",
      "       'Lenovo Vibe K5 (Grey)',\n",
      "       'Huawei P8 Lite Smartphone, Display 5\" IPS, Processore Octa-Core 1.5 GHz, Memoria Interna da 16 GB, 2 GB RAM, Fotocamera 13 MP, monoSIM, Android 5.0, Bianco [Italia]',\n",
      "       'OnePlus X (Onyx, 16GB)',\n",
      "       'Asus Zenfone Max ZC550KL-6A068IN (Black, 2GB, 16GB)',\n",
      "       'Apple iPhone 5s 16GB (серебристый)',\n",
      "       'Samsung Galaxy S7 Smartphone, 12,9 cm (5,1 Zoll) Display, LTE (4G)',\n",
      "       'OnePlus 3T (Soft Gold, 6GB RAM + 64GB memory)',\n",
      "       'Motorola Moto G 3rd Generation (Black, 16GB)',\n",
      "       'Mi Xiaomi Mi Max (Gold, 32GB)',\n",
      "       'Huawei P8 lite Smartphone, Display 5.0\" IPS, Dual Sim, Processore Octa-Core, Memoria 16 GB, Fotocamera 13 MP, Android 5.0, Bianco',\n",
      "       'Motorola Moto G, 4th Gen (White, 2 GB, 16 GB)',\n",
      "       'Lenovo Vibe X3 (White, 32GB)', 'Nokia 5800 XpressMusic',\n",
      "       'OnePlus One (Sandstone Black, 64GB)', 'Honor 6X (Silver, 32GB)',\n",
      "       'Lenovo Motorola Moto G Smartphone, 4,5 pollici display HD, processore Qualcomm, memoria 16GB, MicroSIM, Android 4.3 OS, fotocamera da 5 MP, Nero [Germania]',\n",
      "       'Samsung Galaxy A3 (2016) - A310F Smartphone, 12 cm (4,7 Zoll) Display, LTE (4G)',\n",
      "       'Apple iPhone 7 4,7\" 32 GB', 'Samsung Star GT-S5230',\n",
      "       'Smartphone Samsung Galaxy S5 SM-G900', 'Sony Ericsson K550i',\n",
      "       'Huawei P8lite zwart / 16 GB',\n",
      "       'Motorola Moto G 3rd Generation (Black, 8GB)',\n",
      "       'OnePlus X (Limited Edition Ceramic)',\n",
      "       'Lenovo Zuk Z1 (White, Cyanogen OS)',\n",
      "       'Smartphone Samsung Galaxy S4 Mini GT-I9192', 'Nokia 5230',\n",
      "       'Smartphone Samsung Galaxy Gran Prime TV SM-G530',\n",
      "       'Motorola Moto G (3ª Generación) + Carcasa Oficial color turquesa - Smartphone libre Android 6 (4G, pantalla 5\", cámara 13 Mp, 16 GB, Quad Core 1.4 GHz, 2 GB de RAM), negro',\n",
      "       'OnePlus 2 (Sandstone Black, 64GB)',\n",
      "       'Motorola Moto G Turbo (Black, 16GB)',\n",
      "       'Lenovo Phab 2 Plus Smartphone (Grey, JBL earphones)',\n",
      "       'Mi Xiaomi Mi Max Prime (Gold, 128GB)', 'Mi 4i (White, 16GB)',\n",
      "       'Apple iPhone 6 16GB Factory Unlocked GSM 4G LTE Internal Smartphone - Space Gray',\n",
      "       'Lenovo Vibe S1 (4G, Dark Blue)', 'Mi 4i (Grey, 16GB)',\n",
      "       'Nokia 5530 XpressMusic',\n",
      "       'Apple iPhone 5s GSM Unlocked Cellphone, 16 GB, Space Gray',\n",
      "       'Samsung Galaxy Ace GT-S5830', 'Nokia N8', 'Smartphone LG G3 D855',\n",
      "       'Huawei P9 Lite Smartphone, LTE, Display 5.2'' FHD, Processore Octa-Core Kirin 650, 16 GB Memoria Interna, 3GB RAM, Fotocamera 13 MP, Single-SIM, Android 6.0 Marshmallow, Nero [Italia]',\n",
      "       'ZTE Blade A452 Smartphone, 12,7 cm (5 Zoll) Display, LTE (4G), Android 5.1 Lollipop, 13,0 Megapixel',\n",
      "       'Nokia E52',\n",
      "       'Lenovo Motorola Moto G 4G (2 Generazione) Smartphone, Display 5 Pollici, LTE, Fotocamera 8 MP, Memoria 8 GB, Android 5 Lollipop, Nero [Italia]',\n",
      "       'Apple iPhone 5s 16GB (серый космос)', 'Nokia 5130 XpressMusic',\n",
      "       'Samsung Galaxy S7 Edge Factory Unlocked Phone 32 GB International Version (Black Onyx)'],\n",
      "      dtype='object')\n"
     ]
    }
   ],
   "source": [
    "frequently_rated_product=product_frequency[product_frequency>200].index\n",
    "print(frequently_rated_product)"
   ]
  },
  {
   "cell_type": "code",
   "execution_count": 171,
   "id": "cd9cd4c6",
   "metadata": {},
   "outputs": [
    {
     "data": {
      "text/html": [
       "<div>\n",
       "<style scoped>\n",
       "    .dataframe tbody tr th:only-of-type {\n",
       "        vertical-align: middle;\n",
       "    }\n",
       "\n",
       "    .dataframe tbody tr th {\n",
       "        vertical-align: top;\n",
       "    }\n",
       "\n",
       "    .dataframe thead th {\n",
       "        text-align: right;\n",
       "    }\n",
       "</style>\n",
       "<table border=\"1\" class=\"dataframe\">\n",
       "  <thead>\n",
       "    <tr style=\"text-align: right;\">\n",
       "      <th></th>\n",
       "      <th>score</th>\n",
       "    </tr>\n",
       "    <tr>\n",
       "      <th>product</th>\n",
       "      <th></th>\n",
       "    </tr>\n",
       "  </thead>\n",
       "  <tbody>\n",
       "    <tr>\n",
       "      <th>Apple iPhone 7 4,7\" 32 GB</th>\n",
       "      <td>9.776358</td>\n",
       "    </tr>\n",
       "    <tr>\n",
       "      <th>Samsung Galaxy S7 edge Smartphone, 13,9 cm (5,5 Zoll) Display, LTE (4G)</th>\n",
       "      <td>9.580029</td>\n",
       "    </tr>\n",
       "    <tr>\n",
       "      <th>Samsung Galaxy S7 Smartphone, 12,9 cm (5,1 Zoll) Display, LTE (4G)</th>\n",
       "      <td>9.518280</td>\n",
       "    </tr>\n",
       "    <tr>\n",
       "      <th>Lenovo Motorola Moto G Smartphone, 4,5 pollici display HD, processore Qualcomm, memoria 16GB, MicroSIM, Android 4.3 OS, fotocamera da 5 MP, Nero [Germania]</th>\n",
       "      <td>9.435737</td>\n",
       "    </tr>\n",
       "    <tr>\n",
       "      <th>Samsung Galaxy A3 (2016) - A310F Smartphone, 12 cm (4,7 Zoll) Display, LTE (4G)</th>\n",
       "      <td>9.404389</td>\n",
       "    </tr>\n",
       "  </tbody>\n",
       "</table>\n",
       "</div>"
      ],
      "text/plain": [
       "                                                       score\n",
       "product                                                     \n",
       "Apple iPhone 7 4,7\" 32 GB                           9.776358\n",
       "Samsung Galaxy S7 edge Smartphone, 13,9 cm (5,5...  9.580029\n",
       "Samsung Galaxy S7 Smartphone, 12,9 cm (5,1 Zoll...  9.518280\n",
       "Lenovo Motorola Moto G Smartphone, 4,5 pollici ...  9.435737\n",
       "Samsung Galaxy A3 (2016) - A310F Smartphone, 12...  9.404389"
      ]
     },
     "execution_count": 171,
     "metadata": {},
     "output_type": "execute_result"
    }
   ],
   "source": [
    "# Find the most rated product\n",
    "popular_df=final[final['product'].isin(frequently_rated_product)]\n",
    "avg_rating_df=pd.DataFrame(popular_df.groupby(['product'])['score'].mean())\n",
    "top_5_avg_withFrequency=avg_rating_df.sort_values('score',ascending=False).head(5)\n",
    "top_5_avg_withFrequency"
   ]
  },
  {
   "cell_type": "markdown",
   "id": "7dcb8fd3",
   "metadata": {},
   "source": [
    "### Finding the frequency of top 5 product recommended"
   ]
  },
  {
   "cell_type": "code",
   "execution_count": 173,
   "id": "9811946b",
   "metadata": {},
   "outputs": [
    {
     "name": "stdout",
     "output_type": "stream",
     "text": [
      "Apple iPhone 7 4,7\" 32 GB = 313\n",
      "Samsung Galaxy S7 edge Smartphone, 13,9 cm (5,5 Zoll) Display, LTE (4G) = 681\n",
      "Samsung Galaxy S7 Smartphone, 12,9 cm (5,1 Zoll) Display, LTE (4G) = 465\n",
      "Lenovo Motorola Moto G Smartphone, 4,5 pollici display HD, processore Qualcomm, memoria 16GB, MicroSIM, Android 4.3 OS, fotocamera da 5 MP, Nero [Germania] = 319\n",
      "Samsung Galaxy A3 (2016) - A310F Smartphone, 12 cm (4,7 Zoll) Display, LTE (4G) = 319\n"
     ]
    }
   ],
   "source": [
    "for index, row in top_5_avg_withFrequency.iterrows():\n",
    "    #unique_id = i\n",
    "    score = top_5_avg['score']\n",
    "    #print('index=',index)\n",
    "    prod_cnt=(final['product']==index).sum()\n",
    "    print(index,'=',prod_cnt)\n",
    "   # print('score=',score)"
   ]
  },
  {
   "cell_type": "markdown",
   "id": "eea8efb7",
   "metadata": {},
   "source": [
    "#### Obeservation <br>\n",
    "* The number of occurance also comparatively high for all these five products and has high average score"
   ]
  },
  {
   "cell_type": "markdown",
   "id": "f338df10",
   "metadata": {},
   "source": [
    "### Method to get the Top 5 products based on the Frequency threshold set"
   ]
  },
  {
   "cell_type": "code",
   "execution_count": 175,
   "id": "87a959b5",
   "metadata": {},
   "outputs": [],
   "source": [
    "def popularity_based_model(data,frequency_threshold):\n",
    "    product_frequency= data['product'].value_counts()\n",
    "    frequently_rated_product=product_frequency[product_frequency>frequency_threshold].index\n",
    "    # print(frequently_rated_product)\n",
    "    # Find the most rated product\n",
    "    popular_df=data[data['product'].isin(frequently_rated_product)]\n",
    "    avg_rating_df=pd.DataFrame(popular_df.groupby(['product'])['score'].mean())\n",
    "    top_5_avg_withFrequency=avg_rating_df.sort_values('score',ascending=False).head(5)\n",
    "    return top_5_avg_withFrequency"
   ]
  },
  {
   "cell_type": "code",
   "execution_count": 176,
   "id": "403cbe89",
   "metadata": {},
   "outputs": [
    {
     "data": {
      "text/html": [
       "<div>\n",
       "<style scoped>\n",
       "    .dataframe tbody tr th:only-of-type {\n",
       "        vertical-align: middle;\n",
       "    }\n",
       "\n",
       "    .dataframe tbody tr th {\n",
       "        vertical-align: top;\n",
       "    }\n",
       "\n",
       "    .dataframe thead th {\n",
       "        text-align: right;\n",
       "    }\n",
       "</style>\n",
       "<table border=\"1\" class=\"dataframe\">\n",
       "  <thead>\n",
       "    <tr style=\"text-align: right;\">\n",
       "      <th></th>\n",
       "      <th>score</th>\n",
       "    </tr>\n",
       "    <tr>\n",
       "      <th>product</th>\n",
       "      <th></th>\n",
       "    </tr>\n",
       "  </thead>\n",
       "  <tbody>\n",
       "    <tr>\n",
       "      <th>Apple iPhone 7 4,7\" 32 GB</th>\n",
       "      <td>9.776358</td>\n",
       "    </tr>\n",
       "    <tr>\n",
       "      <th>Samsung Galaxy S7 edge Smartphone, 13,9 cm (5,5 Zoll) Display, LTE (4G)</th>\n",
       "      <td>9.580029</td>\n",
       "    </tr>\n",
       "    <tr>\n",
       "      <th>Samsung Galaxy S7 Smartphone, 12,9 cm (5,1 Zoll) Display, LTE (4G)</th>\n",
       "      <td>9.518280</td>\n",
       "    </tr>\n",
       "    <tr>\n",
       "      <th>Lenovo Motorola Moto G Smartphone, 4,5 pollici display HD, processore Qualcomm, memoria 16GB, MicroSIM, Android 4.3 OS, fotocamera da 5 MP, Nero [Germania]</th>\n",
       "      <td>9.435737</td>\n",
       "    </tr>\n",
       "    <tr>\n",
       "      <th>Samsung Galaxy A3 (2016) - A310F Smartphone, 12 cm (4,7 Zoll) Display, LTE (4G)</th>\n",
       "      <td>9.404389</td>\n",
       "    </tr>\n",
       "  </tbody>\n",
       "</table>\n",
       "</div>"
      ],
      "text/plain": [
       "                                                       score\n",
       "product                                                     \n",
       "Apple iPhone 7 4,7\" 32 GB                           9.776358\n",
       "Samsung Galaxy S7 edge Smartphone, 13,9 cm (5,5...  9.580029\n",
       "Samsung Galaxy S7 Smartphone, 12,9 cm (5,1 Zoll...  9.518280\n",
       "Lenovo Motorola Moto G Smartphone, 4,5 pollici ...  9.435737\n",
       "Samsung Galaxy A3 (2016) - A310F Smartphone, 12...  9.404389"
      ]
     },
     "execution_count": 176,
     "metadata": {},
     "output_type": "execute_result"
    }
   ],
   "source": [
    "top_5_products=popularity_based_model(final,200)\n",
    "top_5_products"
   ]
  },
  {
   "cell_type": "markdown",
   "id": "f343dce3",
   "metadata": {},
   "source": [
    "### Top 5 Mobile Phones as per the model"
   ]
  },
  {
   "cell_type": "code",
   "execution_count": 177,
   "id": "7ad8c4ca",
   "metadata": {},
   "outputs": [
    {
     "data": {
      "text/plain": [
       "Index(['Apple iPhone 7 4,7\" 32 GB',\n",
       "       'Samsung Galaxy S7 edge Smartphone, 13,9 cm (5,5 Zoll) Display, LTE (4G)',\n",
       "       'Samsung Galaxy S7 Smartphone, 12,9 cm (5,1 Zoll) Display, LTE (4G)',\n",
       "       'Lenovo Motorola Moto G Smartphone, 4,5 pollici display HD, processore Qualcomm, memoria 16GB, MicroSIM, Android 4.3 OS, fotocamera da 5 MP, Nero [Germania]',\n",
       "       'Samsung Galaxy A3 (2016) - A310F Smartphone, 12 cm (4,7 Zoll) Display, LTE (4G)'],\n",
       "      dtype='object', name='product')"
      ]
     },
     "execution_count": 177,
     "metadata": {},
     "output_type": "execute_result"
    }
   ],
   "source": [
    "top_5_products.index"
   ]
  },
  {
   "cell_type": "markdown",
   "id": "94fd121c",
   "metadata": {},
   "source": [
    "### Comments<br>\n",
    "* Based on the popularity model builds above 5 products are recommended. And its been observed that its have fairly high average score too."
   ]
  },
  {
   "cell_type": "markdown",
   "id": "9e67f1c9",
   "metadata": {},
   "source": [
    "<span style=\"font-family: Arial; font-weight:bold;font-size:1.75em;color:#00b3e5;\">4. Build a collaborative filtering model using SVD. "
   ]
  },
  {
   "cell_type": "markdown",
   "id": "d05d9acb",
   "metadata": {},
   "source": [
    "<span style=\"font-family: Arial; font-weight:bold;font-size:1.0em;color:#00b3e5;\"> You can use SVD from surprise or build it from scratch(Note: Incase you’re building it from scratch you can limit your data points to 5000 samples if you face memory issues). Build a collaborative filtering model using kNNWithMeans from surprise. Youcan try both user-based and item-based model. [10 Marks]"
   ]
  },
  {
   "cell_type": "markdown",
   "id": "3803ee67",
   "metadata": {},
   "source": [
    "## SVD Based Recommendation System"
   ]
  },
  {
   "cell_type": "markdown",
   "id": "19d543fa",
   "metadata": {},
   "source": [
    "**Collaborative Filtering :** is the most common technique used when it comes to building intelligent recommender systems that can learn to give better recommendations as more information about users is collected"
   ]
  },
  {
   "cell_type": "markdown",
   "id": "cc5819c6",
   "metadata": {},
   "source": [
    "#### Steps involved in Building Colloborative filtering"
   ]
  },
  {
   "cell_type": "markdown",
   "id": "e2c3c029",
   "metadata": {},
   "source": [
    "* The first step is to find similar users or items.\n",
    "* The second step is to predict the ratings of the items that are not yet rated by a user."
   ]
  },
  {
   "cell_type": "markdown",
   "id": "de5974ed",
   "metadata": {},
   "source": [
    "In colloborative Filtering there are two methods <br>\n",
    "\n",
    "**User-based:**  Here, we look for the users who have rated various items in the same way and then find the rating of the missing item with the help of these users.This  technique used to predict the items that a user mght like on the basis of ratings given to that item by the other users who have similar taste with that of the target user. <br>\n",
    "\n",
    "**Item -based :** Here, we explore the relationship between the pair of items (the user who bought Y, also bought Z). We find the missing rating with the help of the ratings given to the other items by the user    \n",
    "\n",
    "\n"
   ]
  },
  {
   "cell_type": "code",
   "execution_count": 99,
   "id": "aa0fa23a",
   "metadata": {},
   "outputs": [],
   "source": [
    "##conda install -c conda-forge scikit-surprise\n",
    "#Installed  anaconda with powershell navigator"
   ]
  },
  {
   "cell_type": "code",
   "execution_count": 178,
   "id": "f7814e10",
   "metadata": {},
   "outputs": [],
   "source": [
    "from surprise import Reader, Dataset, SVD\n",
    "from surprise.model_selection import train_test_split\n",
    "from surprise import accuracy\n",
    "from surprise.accuracy import rmse\n",
    "from surprise import KNNWithMeans"
   ]
  },
  {
   "cell_type": "code",
   "execution_count": 179,
   "id": "7d5fc0f0",
   "metadata": {},
   "outputs": [
    {
     "data": {
      "text/plain": [
       "10    60794\n",
       "8     26400\n",
       "2     15052\n",
       "6     11026\n",
       "4      7121\n",
       "0      4861\n",
       "9      3113\n",
       "7       649\n",
       "5       282\n",
       "1       147\n",
       "3       137\n",
       "Name: score, dtype: int64"
      ]
     },
     "execution_count": 179,
     "metadata": {},
     "output_type": "execute_result"
    }
   ],
   "source": [
    "final['score'].value_counts()"
   ]
  },
  {
   "cell_type": "markdown",
   "id": "3e84e2b7",
   "metadata": {},
   "source": [
    "### Load the data for processing and Split train and test data"
   ]
  },
  {
   "cell_type": "code",
   "execution_count": 180,
   "id": "ca44083b",
   "metadata": {},
   "outputs": [
    {
     "name": "stdout",
     "output_type": "stream",
     "text": [
      "e-bit\n"
     ]
    }
   ],
   "source": [
    "#Instantiate reader object with Rating scale available\n",
    "reader = Reader(rating_scale=(1, 10))\n",
    "data = Dataset.load_from_df(final[['author', 'product', 'score']], reader) ## Now data ready for processing\n",
    "## split Train and Test data\n",
    "# Split data to train and test\n",
    "\n",
    "trainset, testset = train_test_split(data, test_size=.25,random_state=123)\n",
    "trainset.all_ratings()\n",
    "# However the ids are the inner ids and not the raw ids\n",
    "# raw ids can be obatined as follows\n",
    "\n",
    "print(trainset.to_raw_uid(0))\n",
    "#print(trainset.to_raw_iid(1066))"
   ]
  },
  {
   "cell_type": "markdown",
   "id": "4e734188",
   "metadata": {},
   "source": [
    "## 1. SVD Model"
   ]
  },
  {
   "cell_type": "markdown",
   "id": "7a5a6f51",
   "metadata": {},
   "source": [
    "* One of the most powerful recommendation systems\n",
    "* This is form of Matrix factorization\n",
    "* Uses gradient Descent to create predictions for user rating\n",
    "* Hence it minimizes RMSE\n"
   ]
  },
  {
   "cell_type": "markdown",
   "id": "114394dc",
   "metadata": {},
   "source": [
    "### Steps involved in SVD model Building\n",
    "* 1. Instantiate the model\n",
    "* 2. Fit Train set\n",
    "* 3. Predict Test set\n",
    "* 4. Evaluate the Accuracy"
   ]
  },
  {
   "cell_type": "markdown",
   "id": "63f601ec",
   "metadata": {},
   "source": [
    "### 1. Instantiate model\n"
   ]
  },
  {
   "cell_type": "code",
   "execution_count": 181,
   "id": "58c08944",
   "metadata": {},
   "outputs": [],
   "source": [
    "svd_model = SVD(n_factors=5,biased=False)"
   ]
  },
  {
   "cell_type": "markdown",
   "id": "43733f85",
   "metadata": {},
   "source": [
    "### 2. Fit Train set"
   ]
  },
  {
   "cell_type": "code",
   "execution_count": 182,
   "id": "c7f21edc",
   "metadata": {},
   "outputs": [
    {
     "data": {
      "text/plain": [
       "<surprise.prediction_algorithms.matrix_factorization.SVD at 0x16a15a9bb80>"
      ]
     },
     "execution_count": 182,
     "metadata": {},
     "output_type": "execute_result"
    }
   ],
   "source": [
    "svd_model.fit(trainset)"
   ]
  },
  {
   "cell_type": "markdown",
   "id": "b567140f",
   "metadata": {},
   "source": [
    "### 3. Predict Test Set"
   ]
  },
  {
   "cell_type": "code",
   "execution_count": 183,
   "id": "e466e324",
   "metadata": {},
   "outputs": [
    {
     "data": {
      "text/plain": [
       "[Prediction(uid='Amazon Customer', iid='Lenovo A6000 (White, 8GB)', r_ui=2.0, est=6.041889330439148, details={'was_impossible': False}),\n",
       " Prediction(uid='Bill', iid='Motorola Moto G (2nd generation) Unlocked Cellphone, 8GB, Black', r_ui=6.0, est=7.5243501554698575, details={'was_impossible': False}),\n",
       " Prediction(uid='Anonymous ', iid='Samsung Galaxy S6 edge 32GB (AT&T)', r_ui=10.0, est=9.108998742405621, details={'was_impossible': False}),\n",
       " Prediction(uid='Alessio', iid='Palm Treo 650', r_ui=0.0, est=1, details={'was_impossible': False}),\n",
       " Prediction(uid='Amazon Customer', iid='Lenovo Vibe K4 Note (White,16GB)', r_ui=10.0, est=7.330073400296547, details={'was_impossible': False}),\n",
       " Prediction(uid='Екатерина', iid='Samsung S7270 Galaxy Ace 3 (белый)', r_ui=10.0, est=6.995853086394605, details={'was_impossible': False}),\n",
       " Prediction(uid='UnKnown', iid='Nokia C6-01', r_ui=10.0, est=7.443165852611888, details={'was_impossible': False}),\n",
       " Prediction(uid=\"Client d'Amazon\", iid='Honor 6X Smartphone portable débloqué 4G (Ecran: 5,5 pouces - 32 Go - emplacement de carte 2-en-1 - Android 6.0 Marshmallow) Gris', r_ui=10.0, est=9.036752490989095, details={'was_impossible': False}),\n",
       " Prediction(uid='Amazon Customer', iid='Lenovo Vibe K4 Note (Black, 16GB)', r_ui=6.0, est=7.414843784858939, details={'was_impossible': False}),\n",
       " Prediction(uid='vincenzo', iid='Asus ZenFone Go 5\" Smartphone, 8 GB, Dual SIM, Bianco [Italia]', r_ui=10.0, est=8.290522374410369, details={'was_impossible': False}),\n",
       " Prediction(uid='Amazon Customer', iid='Apple iPhone 6 Plus GSM Unlocked Cellphone, 64GB, Space Gray', r_ui=6.0, est=8.373295073672775, details={'was_impossible': False}),\n",
       " Prediction(uid='Amazon Kunde', iid='Samsung Galaxy S3 mini I8190 Smartphone (10,2 cm (4 Zoll) AMOLED Display, Dual-Core, 1GHz, 1GB RAM, 5 Megapixel Kamera, Android 4.1) garnet-red', r_ui=8.0, est=6.844813577753615, details={'was_impossible': False}),\n",
       " Prediction(uid='Amazon Kunde', iid='Samsung \\u200bSamsung Galaxy A3 Smartphone (12 cm (4,71 Zoll) HD Super AMOLED Touch-Display, 16 GB, Android 5.1) schwarz', r_ui=8.0, est=7.227864016555781, details={'was_impossible': False}),\n",
       " Prediction(uid='Евгений', iid='Samsung S7270 Galaxy Ace 3 (белый)', r_ui=9.0, est=6.682490253112643, details={'was_impossible': False}),\n",
       " Prediction(uid='Amazon Customer', iid='Tracone Motorola EX431G Prepaid Phone With Triple Minutes (Tracfone)', r_ui=10.0, est=6.581118662998423, details={'was_impossible': False}),\n",
       " Prediction(uid='Amazon Customer', iid='Motorola Droid RAZR MAXX 4G LTE Android Smartphone Verizon Black', r_ui=6.0, est=4.819718806968562, details={'was_impossible': False}),\n",
       " Prediction(uid=\"Client d'Amazon\", iid='Nokia Lumia 930 Smartphone débloqué 4G (Ecran: 5 pouces - 32 Go - Windows Phone 8.1) Blanc', r_ui=8.0, est=8.720544948799576, details={'was_impossible': False}),\n",
       " Prediction(uid='Amazon Customer', iid='Apple iPhone 6 (Silver, 16GB)', r_ui=10.0, est=7.589790505272447, details={'was_impossible': False}),\n",
       " Prediction(uid='Amazon Customer', iid='Doro PhoneEasy 410GSM Easy GSM Sim Free Mobile Phone - White', r_ui=10.0, est=9.084885586675233, details={'was_impossible': False}),\n",
       " Prediction(uid='Олег', iid='Sony Xperia Z (черный)', r_ui=0.0, est=8.869541057767119, details={'was_impossible': False}),\n",
       " Prediction(uid='Анна', iid='Samsung I9082 Galaxy Grand Duos (белый)', r_ui=10.0, est=6.733631008570224, details={'was_impossible': False}),\n",
       " Prediction(uid='UnKnown', iid='Samsung Wave 525 GT-S5250', r_ui=10.0, est=7.398889195676072, details={'was_impossible': False}),\n",
       " Prediction(uid='Manuela', iid='Lenovo Motorola Moto G Smartphone, Display HD 4,5\", Processore Qualcomm, Memoria 8 GB, MicroSIM, Android 4.4 OS, Fotocamera da 5 MP, Nero [Germania]', r_ui=10.0, est=10, details={'was_impossible': False}),\n",
       " Prediction(uid='Amazon Customer', iid='OnePlus 3T (Soft Gold, 6GB RAM + 64GB memory)', r_ui=8.0, est=8.918366731664548, details={'was_impossible': False}),\n",
       " Prediction(uid=\"Client d'Amazon\", iid='Samsung Galaxy Trend Lite Smartphone débloqué 3G+ (Ecran : 4 pouces - 4 Go - Android 4.1 JellyBean) Noir', r_ui=6.0, est=4.390536073223725, details={'was_impossible': False}),\n",
       " Prediction(uid='Александр', iid='Nokia 5230', r_ui=10.0, est=8.606156932694974, details={'was_impossible': False}),\n",
       " Prediction(uid='UnKnown', iid='Apple iPhone 4S 16Gb', r_ui=8.0, est=8.426774762029751, details={'was_impossible': False}),\n",
       " Prediction(uid='Amazon Kunde', iid='Motorola Moto G 3. Generation Smartphone (12,7 cm (5 Zoll ) Touchscreen-Display, 16 GB Speicher, Android 5.1.1...', r_ui=8.0, est=7.266002150749766, details={'was_impossible': False}),\n",
       " Prediction(uid='e-bit', iid='Smartphone Samsung Galaxy S6 Edge SM-G925 32GB', r_ui=10.0, est=9.42611594424085, details={'was_impossible': False}),\n",
       " Prediction(uid='Alessandro', iid='Lenovo Motorola Moto G 4G 3 Generazione Smartphone, Display 5\", Fotocamera 13 MP, Memoria 16 GB, Android 6 Lollipop, Nero [Italia]', r_ui=10.0, est=9.65654965321541, details={'was_impossible': False}),\n",
       " Prediction(uid='Matthew', iid='Samsung Galaxy S6 64 GB UK SIM-Free Smartphone - Gold', r_ui=10.0, est=9.832138284643186, details={'was_impossible': False}),\n",
       " Prediction(uid='Гость', iid='Nokia 5130 XpressMusic', r_ui=10.0, est=8.372153006546931, details={'was_impossible': False}),\n",
       " Prediction(uid='Amazon Customer', iid='Lenovo Phab 2 Plus Smartphone (Grey, JBL earphones)', r_ui=2.0, est=5.51649367068573, details={'was_impossible': False}),\n",
       " Prediction(uid='zehrabalta', iid='Nokia N76 Cep Telefonu', r_ui=0.0, est=1, details={'was_impossible': False}),\n",
       " Prediction(uid='Amazon Customer', iid='Huawei Nexus 6P unlocked smartphone, 32GB Gold (US Warranty)', r_ui=10.0, est=7.1665472860280435, details={'was_impossible': False}),\n",
       " Prediction(uid='Amazon Customer', iid='Lenovo Vibe K4 Note (White,16GB)', r_ui=10.0, est=7.330073400296547, details={'was_impossible': False}),\n",
       " Prediction(uid='Андрей', iid='Samsung Galaxy S5 SM-G900F 16GB (белый)', r_ui=7.0, est=6.610814958502749, details={'was_impossible': False}),\n",
       " Prediction(uid='Amazon Customer', iid='Motorola Moto G 3rd Generation (White, 16GB)', r_ui=10.0, est=7.639861053605365, details={'was_impossible': False}),\n",
       " Prediction(uid='e-bit', iid='Smartphone Samsung Galaxy A5 SM-A510M', r_ui=8.0, est=8.613681216972573, details={'was_impossible': False}),\n",
       " Prediction(uid='Дима', iid='Apple iPhone 5s 16GB (серебристый)', r_ui=10.0, est=7.317096115649779, details={'was_impossible': False}),\n",
       " Prediction(uid='unknown', iid='Apple Apple iPhone 5s - 32GB - Zilver', r_ui=10.0, est=8.847034341797016, details={'was_impossible': False}),\n",
       " Prediction(uid='UnKnown', iid='Nokia Lumia 620', r_ui=8.0, est=7.333297711926632, details={'was_impossible': False}),\n",
       " Prediction(uid='Michelle', iid='ZTE Boost Max Black (Boost Mobile)', r_ui=10.0, est=7.152135215547029, details={'was_impossible': False}),\n",
       " Prediction(uid='Amazon Kunde', iid='Huawei Ascend Y300 Smartphone (10,2 cm (4,0 Zoll) Touchscreen, 5 Megapixel, 4 GB Interner Speicher, Android 4.1 (Jelly Bean)) schwarz', r_ui=2.0, est=6.450697702486603, details={'was_impossible': False}),\n",
       " Prediction(uid=\"Client d'Amazon\", iid='Honor 7 Smartphone débloqué 4G (Ecran: 5,2 pouces - 16 Go - Double Nano SIM - Android 5.0 Lollipop) Argent/Blanc', r_ui=10.0, est=9.132878531278166, details={'was_impossible': False}),\n",
       " Prediction(uid='UnKnown', iid='Samsung Galaxy Ace La Fleur GT-S5830I', r_ui=8.0, est=7.496126998321671, details={'was_impossible': False}),\n",
       " Prediction(uid='Amazon Customer', iid='Lenovo Vibe K4 Note (Black, 16GB)', r_ui=8.0, est=7.414843784858939, details={'was_impossible': False}),\n",
       " Prediction(uid='e-bit', iid='Smartphone Apple iPhone 6 16GB', r_ui=10.0, est=9.019888892548938, details={'was_impossible': False}),\n",
       " Prediction(uid='Angel', iid='BQ Aquaris 5 - Smartphone libre Android (pantalla 5 pulgadas, cámara 8 Mp, 16 GB, Quad-Core 1.2 GHz, 1 GB RAM), blanco', r_ui=2.0, est=9.712264758404077, details={'was_impossible': False}),\n",
       " Prediction(uid='???????????? ????????', iid='Apple iPhone 4S 16Gb', r_ui=10.0, est=8.225729467885545, details={'was_impossible': False}),\n",
       " Prediction(uid='UnKnown', iid='LG Optimus Link Dual Sim P698', r_ui=10.0, est=6.139531613911823, details={'was_impossible': False}),\n",
       " Prediction(uid='manuel', iid='LG G3 D855 - Smartphone libre Android (pantalla 5.5\", cámara 13 Mp, 3 GB RAM (32 GB eMMC) ,Quad-Core 2.5 GHz), negro metalizado (importado)', r_ui=10.0, est=8.761976607471196, details={'was_impossible': False}),\n",
       " Prediction(uid='Luigi', iid='Meizu M2 Note Smartphone, 5.5\" Full HD, 4G, 13MPX, Dual SIM, 16GB, Bianco [EU]', r_ui=8.0, est=8.289357971396598, details={'was_impossible': False}),\n",
       " Prediction(uid='UnKnown', iid='LG G Pro Lite Dual D686', r_ui=6.0, est=6.607999655434369, details={'was_impossible': False}),\n",
       " Prediction(uid='UnKnown', iid='Nokia 5800 XpressMusic', r_ui=8.0, est=8.011480036105512, details={'was_impossible': False}),\n",
       " Prediction(uid='incesaz', iid='Nokia 2630 Cep Telefonu', r_ui=0.0, est=1, details={'was_impossible': False}),\n",
       " Prediction(uid='UnKnown', iid='Samsung Galaxy Ace', r_ui=0.0, est=8.09828855132849, details={'was_impossible': False}),\n",
       " Prediction(uid='Amazon Kunde', iid='LG Electronics Nexus 5X Google Smartphone (13,2 cm (5,2 Zoll) IPS Display, 16 GB, Android 6.0 Marshmallow) Eisblau', r_ui=10.0, est=5.849086302464456, details={'was_impossible': False}),\n",
       " Prediction(uid='einem Kunden', iid='Sony Xperia E5 Smartphone, 12,7 cm (5 Zoll) Display, LTE (4G), Android 6.0 (Marshmallow)', r_ui=10.0, est=8.71937459599782, details={'was_impossible': False}),\n",
       " Prediction(uid='Amazon Customer', iid='OnePlus 3 (Graphite, 64 GB)', r_ui=10.0, est=8.753465227698346, details={'was_impossible': False}),\n",
       " Prediction(uid='Nicole', iid='Samsung Galaxy mini 2 S6500 Smartphone (8,31 cm (3,27 Zoll) TFT-Touchscreen, 3,0 Megapixel Kamera, Android 2.3) modern-black', r_ui=10.0, est=6.727346824771321, details={'was_impossible': False}),\n",
       " Prediction(uid='Amazon Customer', iid='Lenovo Vibe K4 Note (White,16GB)', r_ui=10.0, est=7.330073400296547, details={'was_impossible': False}),\n",
       " Prediction(uid='Amazon Customer', iid='Sony Xperia XA Dual (Lime Gold)', r_ui=8.0, est=6.023596296003245, details={'was_impossible': False}),\n",
       " Prediction(uid='UnKnown', iid='Nokia 2610', r_ui=8.0, est=7.045142059675091, details={'was_impossible': False}),\n",
       " Prediction(uid='Amazon Customer', iid='Samsung Note 4 Standard Li-ion Battery 3220mAh for Galaxy Note 4 - Non-Retail Packaging', r_ui=10.0, est=6.2995552598761915, details={'was_impossible': False}),\n",
       " Prediction(uid='Jennifer', iid='Samsung Instinct', r_ui=7.0, est=5.192250404224625, details={'was_impossible': False}),\n",
       " Prediction(uid='Amazon Customer', iid='OnePlus 3T (Gunmetal, 6GB RAM + 64GB memory)', r_ui=10.0, est=8.189953972636042, details={'was_impossible': False}),\n",
       " Prediction(uid='UnKnown', iid='Samsung Wave 525 GT-S5250', r_ui=4.0, est=7.398889195676072, details={'was_impossible': False}),\n",
       " Prediction(uid='e-bit', iid='Celular Nokia C2-01', r_ui=10.0, est=7.5038264168150635, details={'was_impossible': False}),\n",
       " Prediction(uid='Дмитрий', iid='Sony Xperia C (фиолетовый)', r_ui=6.0, est=7.901342745934217, details={'was_impossible': False}),\n",
       " Prediction(uid='UnKnown', iid='Sony Ericsson C510', r_ui=10.0, est=7.480432580713652, details={'was_impossible': False}),\n",
       " Prediction(uid='UnKnown', iid='Samsung C3050', r_ui=10.0, est=7.529502014433208, details={'was_impossible': False}),\n",
       " Prediction(uid='UnKnown', iid='Nokia 2700 Classic', r_ui=10.0, est=7.902231549992697, details={'was_impossible': False}),\n",
       " Prediction(uid='UnKnown', iid='Samsung Galaxy S4 GT-I9500 16Gb', r_ui=10.0, est=8.029007915820923, details={'was_impossible': False}),\n",
       " Prediction(uid='Alberto', iid='Samsung C3590 Telefono Cellulare, Argento [Italia]', r_ui=10.0, est=8.19087528572014, details={'was_impossible': False}),\n",
       " Prediction(uid='?????�??????', iid='Sony Xperia V (?????�??????)', r_ui=9.0, est=6.886825632465113, details={'was_impossible': False}),\n",
       " Prediction(uid='Alex', iid='Sony Xperia XZ zwart / 32 GB', r_ui=9.0, est=8.995877714358237, details={'was_impossible': False}),\n",
       " Prediction(uid='Amazon Customer', iid='Motorola Moto G, 4th Gen (Black, 2 GB, 16 GB)', r_ui=6.0, est=6.5650704873022905, details={'was_impossible': False}),\n",
       " Prediction(uid='Владимир', iid='Смартфон Apple iPhone 5S 16Gb Space Gray ME432RU/A', r_ui=8.0, est=6.334257719934201, details={'was_impossible': False}),\n",
       " Prediction(uid='Chris', iid='HTC Desire X Wit', r_ui=9.0, est=8.987162327158064, details={'was_impossible': False}),\n",
       " Prediction(uid='Amazon Customer', iid='HTC Desire 620G (Santroni White)', r_ui=8.0, est=5.3497262247761235, details={'was_impossible': False}),\n",
       " Prediction(uid='UnKnown', iid='Nokia N96', r_ui=10.0, est=7.010909098661534, details={'was_impossible': False}),\n",
       " Prediction(uid='Amazon Customer', iid='Lenovo Vibe K4 Note (Black, 16GB)', r_ui=2.0, est=7.414843784858939, details={'was_impossible': False}),\n",
       " Prediction(uid='Amazon Customer', iid='Honor 6X (Grey, 32GB)', r_ui=10.0, est=7.638277381506878, details={'was_impossible': False}),\n",
       " Prediction(uid='Amazon Customer', iid='Micromax Canvas Juice 3 Q392 (Cosmic Grey)', r_ui=6.0, est=5.2256185030801365, details={'was_impossible': False}),\n",
       " Prediction(uid='UnKnown', iid='Apple iPhone 4S 16Gb', r_ui=10.0, est=8.426774762029751, details={'was_impossible': False}),\n",
       " Prediction(uid='Amazon Customer', iid='ASUS ZenFone 3 MAX ZC520TL Smartphone, 5.2-inch, 16GB (Glacier Silver)', r_ui=4.0, est=7.4955381081947206, details={'was_impossible': False}),\n",
       " Prediction(uid='Сергей', iid='Смартфон Asus Zenfone 2 ZE551ML-6J151RU 32Gb, 4Ram, Silver Серебристый', r_ui=10.0, est=1.9345765091295344, details={'was_impossible': False}),\n",
       " Prediction(uid='Claudio', iid='Huawei Honor 5X Unlocked Smartphone, 16GB Dark Grey (US Warranty)', r_ui=10.0, est=9.13743255410828, details={'was_impossible': False}),\n",
       " Prediction(uid='Anonymous ', iid='Samsung Galaxy S7 32GB (T-Mobile)', r_ui=10.0, est=9.726885651331974, details={'was_impossible': False}),\n",
       " Prediction(uid='UnKnown', iid='LG G2 D802 32Gb', r_ui=8.0, est=9.10374230808679, details={'was_impossible': False}),\n",
       " Prediction(uid='Amazon Customer', iid='Micromax Canvas Nitro 4G E455 (Black)', r_ui=10.0, est=6.095470267032409, details={'was_impossible': False}),\n",
       " Prediction(uid='Александр', iid='Samsung Galaxy S4 GT-I9500 16GB (черный)', r_ui=10.0, est=7.775550672045192, details={'was_impossible': False}),\n",
       " Prediction(uid='UnKnown', iid='Samsung Wave 525 GT-S5250', r_ui=6.0, est=7.398889195676072, details={'was_impossible': False}),\n",
       " Prediction(uid='Amazon Customer', iid='Lava Iris X5 (Black)', r_ui=10.0, est=7.551581503508736, details={'was_impossible': True, 'reason': 'User and item are unknown.'}),\n",
       " Prediction(uid='UnKnown', iid='Nokia 1280', r_ui=6.0, est=7.3363029425060216, details={'was_impossible': False}),\n",
       " Prediction(uid='Guido', iid='Lenovo Motorola Moto G 4G (2 Generazione) Smartphone, Display 5 Pollici, LTE, Fotocamera 8 MP, Memoria 8 GB, Android 5 Lollipop, Nero [Italia]', r_ui=8.0, est=8.669911713765451, details={'was_impossible': False}),\n",
       " Prediction(uid='Amazon Customer', iid='Samsung Galaxy S3, White 16GB (Verizon Wireless)', r_ui=2.0, est=8.129056943681313, details={'was_impossible': False}),\n",
       " Prediction(uid='Amazon Customer', iid='Lenovo Vibe X3 (White, 32GB)', r_ui=4.0, est=8.162761470264986, details={'was_impossible': False}),\n",
       " Prediction(uid='G', iid='Nokia 225 UK SIM-Free Mobile Phone - Black', r_ui=2.0, est=5.185789237366686, details={'was_impossible': False}),\n",
       " Prediction(uid='Гость', iid='Nokia 6300', r_ui=0.0, est=1, details={'was_impossible': False}),\n",
       " Prediction(uid='Amazon Kunde', iid='Apple iPhone 6 Gold 128GB SIM-Free Smartphone (Zertifiziert und Generalüberholt)', r_ui=2.0, est=8.04018144787204, details={'was_impossible': False}),\n",
       " Prediction(uid=\"Client d'Amazon\", iid='Samsung Galaxy Core Prime Value Edition Smartphone débloqué 4G (Ecran : 4,5 pouces - 8 Go - Simple MicroSIM - Android 5.1 Lollipop) Blanc', r_ui=8.0, est=6.017503065656147, details={'was_impossible': False}),\n",
       " Prediction(uid='Amazon Customer', iid='Samsung Galaxy Note 4, Charcoal Black 32GB (Verizon Wireless)', r_ui=8.0, est=7.629067808386139, details={'was_impossible': False}),\n",
       " Prediction(uid='einer Kundin', iid='Samsung Galaxy A3 (2016) - A310F Smartphone, 12 cm (4,7 Zoll) Display, LTE (4G)', r_ui=10.0, est=9.553665373438381, details={'was_impossible': False}),\n",
       " Prediction(uid='Andrea', iid='Emporia Elegance Handy (4,6 cm (1,8 Zoll), OLED Farbdisplay, ohne Branding) braun', r_ui=10.0, est=10, details={'was_impossible': False}),\n",
       " Prediction(uid='Amazon Customer', iid='HTC Desire 626G+ (8GB,White Birch)', r_ui=2.0, est=4.885749626094961, details={'was_impossible': False}),\n",
       " Prediction(uid='UnKnown', iid='LG Optimus Black P970', r_ui=10.0, est=7.625573315399941, details={'was_impossible': False}),\n",
       " Prediction(uid='Amazon Customer', iid='Lenovo Vibe K5 (Grey)', r_ui=6.0, est=6.702405210233632, details={'was_impossible': False}),\n",
       " Prediction(uid='e-bit', iid='Smartphone Samsung Galaxy J7 Prime SM-G610M', r_ui=10.0, est=8.725202465567627, details={'was_impossible': False}),\n",
       " Prediction(uid='UnKnown', iid='Nokia 6303i Сlassic', r_ui=10.0, est=7.14524320389781, details={'was_impossible': False}),\n",
       " Prediction(uid='einem Kunden', iid='Samsung Galaxy S7 edge Smartphone, 13,9 cm (5,5 Zoll) Display, LTE (4G)', r_ui=10.0, est=9.03905998370578, details={'was_impossible': False}),\n",
       " Prediction(uid='Amazon Customer', iid='Lenovo Vibe K4 Note (White,16GB)', r_ui=8.0, est=7.330073400296547, details={'was_impossible': False}),\n",
       " Prediction(uid='UnKnown', iid='mobistel Cynus T2 schwarz [2x 1GHz, Dual SIM, 12 MP, TV-Out, microSD, Android 4.0.4]', r_ui=10.0, est=8.376204787628636, details={'was_impossible': False}),\n",
       " Prediction(uid='UnKnown', iid='HTC Desire', r_ui=4.0, est=7.875474008363299, details={'was_impossible': False}),\n",
       " Prediction(uid='Amazon Customer', iid='Lenovo Vibe K5 (Silver, 16GB)', r_ui=2.0, est=6.8753772007770095, details={'was_impossible': False}),\n",
       " Prediction(uid=\"Client d'Amazon\", iid='Samsung Galaxy A3 2016 Smartphone débloqué 4G (Ecran: 4,7 pouces - 16 Go - Simple Nano-SIM - Android 5.1 Lollipop) Blanc', r_ui=10.0, est=7.35218124429254, details={'was_impossible': False}),\n",
       " Prediction(uid='Amazon Customer', iid='Lenovo Vibe K5 (Gold, VoLTE update)', r_ui=10.0, est=6.302295614667292, details={'was_impossible': False}),\n",
       " Prediction(uid='Anonymous', iid='HTC Legend', r_ui=9.0, est=7.3972105584020085, details={'was_impossible': False}),\n",
       " Prediction(uid='Amazon Customer', iid='Apple iPhone 3GS 16GB (White) - AT&T', r_ui=8.0, est=5.2387642527806, details={'was_impossible': False}),\n",
       " Prediction(uid='Sabrina', iid='Samsung GT-I9195ZWAITV Galaxy S4 Mini, Bianco', r_ui=10.0, est=9.422515096417245, details={'was_impossible': False}),\n",
       " Prediction(uid='anonym', iid='Sony Ericsson K550i', r_ui=4.0, est=7.211104235332309, details={'was_impossible': False}),\n",
       " Prediction(uid='Cliente Amazon', iid='Lenovo Motorola Moto G 4G 3 Generazione Smartphone, Display 5\", Fotocamera 13 MP, Memoria 16 GB, Android 6 Lollipop, Nero [Italia]', r_ui=10.0, est=8.790236097658703, details={'was_impossible': False}),\n",
       " Prediction(uid=\"Client d'Amazon\", iid='Meizu M2 Note Smartphone débloqué 4G (Ecran: 5,5 pouces - 16 Go - Double Nano-SIM - Android 5.1 Lollipop) Blanc', r_ui=10.0, est=8.785461471451306, details={'was_impossible': False}),\n",
       " Prediction(uid='UnKnown', iid='OnePlus One 64Gb', r_ui=10.0, est=9.079455853716292, details={'was_impossible': False}),\n",
       " Prediction(uid='Amazon Customer', iid='Lenovo Vibe K4 Note (Black, 16GB)', r_ui=2.0, est=7.414843784858939, details={'was_impossible': False}),\n",
       " Prediction(uid='UnKnown', iid='Nokia Lumia 920', r_ui=2.0, est=6.157829463388482, details={'was_impossible': False}),\n",
       " Prediction(uid='Cliente Amazon', iid='Meizu M2 Note - Smartphone libre Flyme (pantalla de 5.5\", cámara de 13 Mp, 16 GB, Octa-Core de 1.3 GHz, 2 GB RAM), gris', r_ui=8.0, est=9.172604814409935, details={'was_impossible': False}),\n",
       " Prediction(uid='Amazon Customer', iid='Microsoft Lumia 540 (White, 8 GB)', r_ui=2.0, est=7.399273278235498, details={'was_impossible': False}),\n",
       " Prediction(uid='Cristina', iid='Alcatel One Touch Idol 3 Smartphone, 4.7\", Dual SIM, Grigio Scuro [Italia]', r_ui=10.0, est=10, details={'was_impossible': False}),\n",
       " Prediction(uid='Amazon Customer', iid='Xperia Sony Xperia SP SIM-free Android Smartphone - White (discontinued by manufacturer)', r_ui=2.0, est=5.940692442731732, details={'was_impossible': False}),\n",
       " Prediction(uid='Amazon Customer', iid='OnePlus 3T (Gunmetal, 6GB RAM + 64GB memory)', r_ui=10.0, est=8.189953972636042, details={'was_impossible': False}),\n",
       " Prediction(uid='Amazon Customer', iid='OnePlus One (Sandstone Black, 64GB)', r_ui=10.0, est=7.200203637292218, details={'was_impossible': False}),\n",
       " Prediction(uid='UnKnown', iid='Smartphone Asus ZenFone 2 ZE551ML 16GB Z3580', r_ui=2.0, est=7.19241095609912, details={'was_impossible': False}),\n",
       " Prediction(uid='UnKnown', iid='Sony Ericsson K810i', r_ui=10.0, est=8.081409177284515, details={'was_impossible': False}),\n",
       " Prediction(uid='Massimo', iid='Samsung J320 Galaxy J3 (2016) Dual SIM 5\", Quad Core, 8GB LTE, Nero [Italia]', r_ui=10.0, est=8.266900309074584, details={'was_impossible': False}),\n",
       " Prediction(uid='Оксана', iid='Sony Xperia Z (черный)', r_ui=10.0, est=8.281520083444594, details={'was_impossible': False}),\n",
       " Prediction(uid='mrgreg', iid='Sony Ericsson F305', r_ui=6.0, est=5.215250915119943, details={'was_impossible': False}),\n",
       " Prediction(uid='UnKnown', iid='HTC Desire C', r_ui=10.0, est=7.045557235489283, details={'was_impossible': False}),\n",
       " Prediction(uid='Qantas', iid='Nokia Lumia 1520', r_ui=8.0, est=7.542311574467773, details={'was_impossible': False}),\n",
       " Prediction(uid='UnKnown', iid='LG KP500', r_ui=10.0, est=7.839499327077923, details={'was_impossible': False}),\n",
       " Prediction(uid='UnKnown', iid='Nokia 5630 XpressMusic', r_ui=8.0, est=8.409232518011121, details={'was_impossible': False}),\n",
       " Prediction(uid='UnKnown', iid='HTC Desire S', r_ui=8.0, est=7.613728060579851, details={'was_impossible': False}),\n",
       " Prediction(uid='e-bit', iid='Smartphone Samsung Galaxy S7 SM-G930 32GB', r_ui=6.0, est=9.022568435975701, details={'was_impossible': False}),\n",
       " Prediction(uid='Cliente Amazon', iid='LG G4 Smartphone Display IPS 5.5\" QHD, Fotocamera 16 MP, Memoria Interna 32 GB, 3 GB RAM, Colore Marrone', r_ui=10.0, est=8.07248513377423, details={'was_impossible': False}),\n",
       " Prediction(uid='e-bit', iid='Smartphone Motorola Moto X 2ª Geração XT1097 32 GB', r_ui=10.0, est=8.712500397018378, details={'was_impossible': False}),\n",
       " Prediction(uid='Chris', iid='Blackberry Classic Smartphone (3,5 Zoll (8,9 cm) Touch-Display, 16 GB Speicher, Blackberry 10.3.1 OS) schwarz', r_ui=4.0, est=8.89117957709906, details={'was_impossible': False}),\n",
       " Prediction(uid='karol07', iid='Samsung U800 Cep Telefonu', r_ui=0.0, est=1, details={'was_impossible': False}),\n",
       " Prediction(uid='Oliver', iid='Samsung S5230 Tocco Lite Sim Free Mobile Phone - Black', r_ui=10.0, est=9.200232482061194, details={'was_impossible': False}),\n",
       " Prediction(uid='Amazon Customer', iid='Tech Armor Galaxy S6 Screen Protector, Tech Armor High Definition HD-Clear Samsung Galaxy S6 Film Screen Protector [3-Pack]', r_ui=10.0, est=8.934598061384573, details={'was_impossible': False}),\n",
       " Prediction(uid='UnKnown', iid='Samsung Star Wi-Fi GT-S5230W', r_ui=10.0, est=6.965756024795965, details={'was_impossible': False}),\n",
       " Prediction(uid='Amazon Customer', iid='Lenovo Vibe K4 Note (White,16GB)', r_ui=8.0, est=7.330073400296547, details={'was_impossible': False}),\n",
       " Prediction(uid='Amazon Customer', iid='Huawei Honor 8 Unlocked Smartphone 32 GB Dual Camera - US Warranty (Sapphire Blue)', r_ui=10.0, est=8.045816440066952, details={'was_impossible': False}),\n",
       " Prediction(uid='Giovanni', iid='Honor 4X Smartphone 4G, Display 5.5 Pollici, Processore 64-bit Octa-Core Kirin 620, Fotocamera 13 MP, Memoria 8 GB, Android 4.4, Nero', r_ui=10.0, est=9.259572439009597, details={'was_impossible': False}),\n",
       " Prediction(uid='Kunde', iid='Microsoft Nokia Lumia 630 Single-SIM Smartphone (4,5 Zoll (11,4 cm) Touch-Display, 8 GB Speicher, Windows 8.1) gelb', r_ui=10.0, est=8.714527739525895, details={'was_impossible': False}),\n",
       " Prediction(uid='e-bit', iid='Smartphone Nokia Lumia 530', r_ui=8.0, est=8.806911663576784, details={'was_impossible': False}),\n",
       " Prediction(uid='UnKnown', iid='Nokia 7230', r_ui=6.0, est=8.500229808732296, details={'was_impossible': False}),\n",
       " Prediction(uid='UnKnown', iid='Samsung Champ C3300', r_ui=8.0, est=7.396278076587422, details={'was_impossible': False}),\n",
       " Prediction(uid='Amazon Customer', iid='Lenovo Vibe K4 Note (Black, 16GB)', r_ui=10.0, est=7.414843784858939, details={'was_impossible': False}),\n",
       " Prediction(uid='UnKnown', iid='HTC Desire S', r_ui=10.0, est=7.613728060579851, details={'was_impossible': False}),\n",
       " Prediction(uid='paolo', iid=\"Huawei P9 Lite Smartphone, LTE, Display 5.2'' FHD, Processore Octa-Core Kirin 650, 16 GB Memoria Interna, 3GB RAM, Fotocamera 13 MP, Single-SIM, Android 6.0 Marshmallow, Nero [Italia]\", r_ui=10.0, est=9.89052999634914, details={'was_impossible': False}),\n",
       " Prediction(uid='UnKnown', iid='Sony Ericsson Xperia X10 mini', r_ui=2.0, est=6.598983703334053, details={'was_impossible': False}),\n",
       " Prediction(uid='Amazon Customer', iid='Huawei Mate 9 with Amazon Alexa and Leica Dual Camera - 64GB Unlocked Phone - Space Gray (US Warranty)', r_ui=10.0, est=9.312950255205937, details={'was_impossible': False}),\n",
       " Prediction(uid='Amazon Customer', iid='Microsoft Lumia 640 XL (Dual SIM, Orange 8GB)', r_ui=8.0, est=8.530789387892483, details={'was_impossible': False}),\n",
       " Prediction(uid='Amazon Customer', iid='OnePlus 3 (Graphite, 64 GB)', r_ui=10.0, est=8.753465227698346, details={'was_impossible': False}),\n",
       " Prediction(uid='Anonymous ', iid='Samsung Galaxy S7 edge 32GB (T-Mobile)', r_ui=10.0, est=9.821776047855103, details={'was_impossible': False}),\n",
       " Prediction(uid='Kindle-Kunde', iid='Samsung Galaxy S4 Smartphone (12,7 cm (4,9 Zoll) AMOLED-Touchscreen, 16GB interner Speicher, 13 Megapixel Kamera, LTE, Android 5.0) - Schwarz [EU-Version]', r_ui=2.0, est=7.086556126823373, details={'was_impossible': False}),\n",
       " Prediction(uid='jesus', iid='HTC One M8 Unlocked Cellphone, International, 16GB, Gold', r_ui=2.0, est=5.56762376987062, details={'was_impossible': False}),\n",
       " Prediction(uid='Amazon Customer', iid='LG G3 D851 4G LTE, 32GB, (GSM Unlockedx200E;) Smartphone, Metallic Black', r_ui=2.0, est=4.39548704961746, details={'was_impossible': False}),\n",
       " Prediction(uid='Amazon Customer', iid='Asus Zenfone Max ZC550KL-6A068IN (Black, 2GB, 16GB)', r_ui=2.0, est=7.370691904102998, details={'was_impossible': False}),\n",
       " Prediction(uid='UnKnown', iid='Sony Xperia sola', r_ui=2.0, est=5.964823026681116, details={'was_impossible': False}),\n",
       " Prediction(uid='gumusoje', iid='Samsung innov8 (i8510) Cep Telefonu', r_ui=0.0, est=1, details={'was_impossible': False}),\n",
       " Prediction(uid='chris', iid='LG Dare', r_ui=10.0, est=8.316639713601232, details={'was_impossible': False}),\n",
       " Prediction(uid='Amazon Customer', iid='Lenovo Vibe K4 Note (Black, 16GB)', r_ui=2.0, est=7.414843784858939, details={'was_impossible': False}),\n",
       " Prediction(uid='lahr2006', iid='Samsung Galaxy Express I8730', r_ui=10.0, est=1.214151957022482, details={'was_impossible': False}),\n",
       " Prediction(uid='Amazon Customer', iid='Samsung Galaxy Grand Prime Dual Sim Factory Unlocked Phone - Retail Packaging - Gold(International Version)', r_ui=10.0, est=6.400722372882418, details={'was_impossible': False}),\n",
       " Prediction(uid='UnKnown', iid='Lenovo S860', r_ui=2.0, est=6.053510196376239, details={'was_impossible': False}),\n",
       " Prediction(uid='Amazon Customer', iid='YU Yuphoria YU5010A (Black+Silver)', r_ui=8.0, est=6.419122431417083, details={'was_impossible': False}),\n",
       " Prediction(uid='Mirko', iid='Samsung GT-B2710KRADBT B2710 Smartphone (5,1 cm (2 Zoll) TFT-Farbdisplay, V2.1 Bluetooth, 36MB interne Speicher) schwarz/rot', r_ui=10.0, est=8.222202370863545, details={'was_impossible': False}),\n",
       " Prediction(uid='einer Kundin', iid='Samsung Galaxy A3 (2016) - A310F Smartphone, 12 cm (4,7 Zoll) Display, LTE (4G)', r_ui=10.0, est=9.553665373438381, details={'was_impossible': False}),\n",
       " Prediction(uid='UnKnown', iid='Sony Ericsson W580i', r_ui=6.0, est=7.562396657065129, details={'was_impossible': False}),\n",
       " Prediction(uid='Юлия', iid='Samsung Galaxy S5 SM-G900F 16GB (белый)', r_ui=10.0, est=9.703092833886203, details={'was_impossible': False}),\n",
       " Prediction(uid='UnKnown', iid='Nokia 6233', r_ui=8.0, est=8.234091673473536, details={'was_impossible': False}),\n",
       " Prediction(uid='Cliente Amazon', iid='Samsung Galaxy A5 - Smartphone libre Android (pantalla 5\", cámara 13 Mp, 16 GB, Quad-Core 1.2 GHz, 2 GB RAM), plateado (importado de Italia)', r_ui=10.0, est=7.067136988522416, details={'was_impossible': False}),\n",
       " Prediction(uid='Amazon Customer', iid='Lenovo Vibe K5 (Silver, 16GB)', r_ui=4.0, est=6.8753772007770095, details={'was_impossible': False}),\n",
       " Prediction(uid='UnKnown', iid='Alcatel OneTouch IDOL X 6040D', r_ui=10.0, est=8.410736658733207, details={'was_impossible': False}),\n",
       " Prediction(uid='Amazon Customer', iid='ASUS ZenFone 2 Laser Unlocked Smartphone, 3GB RAM, 32GB Storage', r_ui=10.0, est=8.070561169023351, details={'was_impossible': False}),\n",
       " Prediction(uid='Amazon Customer', iid='LG Nexus 5 D820 16GB Unlocked GSM 4G LTE Quad-Core Android Smartphone w/ 5\" True HD IPS+ Multi-Touchscreen -White', r_ui=2.0, est=7.056256355063368, details={'was_impossible': False}),\n",
       " Prediction(uid='Amazon Customer', iid='OnePlus 3 (Graphite, 64 GB)', r_ui=10.0, est=8.753465227698346, details={'was_impossible': False}),\n",
       " Prediction(uid='Amazon Customer', iid='Apple iPhone 6s (Rose Gold, 16GB)', r_ui=2.0, est=6.151256634251021, details={'was_impossible': False}),\n",
       " Prediction(uid='UnKnown', iid='Samsung C5212', r_ui=10.0, est=7.70347323260321, details={'was_impossible': False}),\n",
       " Prediction(uid='UnKnown', iid='Sony Ericsson K500i', r_ui=10.0, est=7.682614887288052, details={'was_impossible': False}),\n",
       " Prediction(uid='UnKnown', iid='Nokia N9', r_ui=8.0, est=6.98330389404043, details={'was_impossible': False}),\n",
       " Prediction(uid='UnKnown', iid='Sony Ericsson Live with Walkman', r_ui=10.0, est=8.603795064108484, details={'was_impossible': False}),\n",
       " Prediction(uid='Amazon Customer', iid='Apple iPhone 6s (Rose Gold, 16GB)', r_ui=10.0, est=6.151256634251021, details={'was_impossible': False}),\n",
       " Prediction(uid=\"Client d'Amazon\", iid='Samsung Galaxy A5 2016 Smartphone débloqué 4G (Ecran: 5,2 pouces - 16 Go - Simple Nano-SIM - Android 5.1 Lollipop) Or (Import Allemagne)', r_ui=10.0, est=7.303394023947061, details={'was_impossible': False}),\n",
       " Prediction(uid='miatamania', iid='Samsung P520 Armani Cep Telefonu', r_ui=0.0, est=1, details={'was_impossible': False}),\n",
       " Prediction(uid='UnKnown', iid='Sony Xperia V', r_ui=4.0, est=7.304643088313095, details={'was_impossible': False}),\n",
       " Prediction(uid='Сергей', iid='Samsung S5620 Monte', r_ui=10.0, est=9.82576782611578, details={'was_impossible': False}),\n",
       " Prediction(uid='Amazon Customer', iid='Sony Xperia Z2 Smartphone (5,2 Zoll (13,2 cm) Touch-Display, 16 GB Speicher, Android 4.4) violett', r_ui=10.0, est=7.3165893847801815, details={'was_impossible': False}),\n",
       " Prediction(uid='Roman', iid='Sony Xperia Z1 (фиолетовый)', r_ui=10.0, est=10, details={'was_impossible': False}),\n",
       " Prediction(uid='Amazon Customer', iid='Sony Xperia Z C6603 Black Factory Unlocked LTE BANDS 1/3/5/7/8/20 International Version No Warranty - Original Sony phone', r_ui=10.0, est=7.551488884034661, details={'was_impossible': False}),\n",
       " Prediction(uid='Андрей', iid='Samsung Galaxy S4 mini GT-I9190 (синий)', r_ui=9.0, est=5.498026040255747, details={'was_impossible': False}),\n",
       " Prediction(uid='UnKnown', iid='HTC Desire C', r_ui=6.0, est=7.045557235489283, details={'was_impossible': False}),\n",
       " Prediction(uid='UnKnown', iid='Nokia 6110', r_ui=10.0, est=8.433453184088789, details={'was_impossible': False}),\n",
       " Prediction(uid='Amazon Customer', iid='Samsung Guru GT-E1200 (White)', r_ui=2.0, est=6.425406603251529, details={'was_impossible': False}),\n",
       " Prediction(uid=\"Client d'Amazon\", iid=\"iVoler Samsung Galaxy A3 (2016) Protection écran, iVoler Film Protection d'écran en Verre Trempé Glass Screen Protector Vitre Tempered pour Samsung Galaxy A3 (2016) SM-A310F- Dureté 9H, Ultra-mince 0.20 mm, 2.5D Bords Arrondis- Anti-rayure, Anti-traces de doigts,\", r_ui=2.0, est=6.2314310797502035, details={'was_impossible': False}),\n",
       " Prediction(uid='Nicole', iid='Samsung GT-B2710KRADBT B2710 Smartphone (5,1 cm (2 Zoll) TFT-Farbdisplay, V2.1 Bluetooth, 36MB interne Speicher) schwarz/rot', r_ui=2.0, est=7.414443430648335, details={'was_impossible': False}),\n",
       " Prediction(uid='Alessandro', iid='Samsung I9301 Galaxy S III Neo Smartphone, 16 GB, Bianco [Italia]', r_ui=8.0, est=8.831341739645929, details={'was_impossible': False}),\n",
       " Prediction(uid='UnKnown', iid='LG Optimus L9 P765', r_ui=8.0, est=7.772038854323497, details={'was_impossible': False}),\n",
       " Prediction(uid='einer Kundin', iid='Samsung Galaxy S7 Smartphone, 12,9 cm (5,1 Zoll) Display, LTE (4G)', r_ui=10.0, est=9.525779197501416, details={'was_impossible': False}),\n",
       " Prediction(uid='Amazon Customer', iid='Samsung Galaxy S5 Active G870a 16GB Unlocked GSM Extremely Durable Smartphone w/ 16MP Camera - Titanium Gray', r_ui=10.0, est=6.784459765577439, details={'was_impossible': False}),\n",
       " Prediction(uid='UnKnown', iid='HTC Touch Diamond', r_ui=10.0, est=7.984960551139117, details={'was_impossible': False}),\n",
       " Prediction(uid='UnKnown', iid='Nokia 5530 XpressMusic', r_ui=8.0, est=8.7161065149112, details={'was_impossible': False}),\n",
       " Prediction(uid='Сергей', iid='Sony Xperia M (фиолетовый)', r_ui=10.0, est=10, details={'was_impossible': False}),\n",
       " Prediction(uid='Alex', iid='Motorola V220', r_ui=4.0, est=8.1376888645463, details={'was_impossible': False}),\n",
       " Prediction(uid='Екатерина', iid='Sony Xperia Z1 (фиолетовый)', r_ui=10.0, est=8.04252414137297, details={'was_impossible': False}),\n",
       " Prediction(uid='Cliente Amazon', iid='Doogee X5 Pro - Smartphone móvil libre 4G Lte Android (Pantalla 5.0\", Quad-Core, 64 bit, 16GB ROM, 2GB RAM, 5 Mp, WiFi, Dual SIM), Negro', r_ui=6.0, est=6.349777705023573, details={'was_impossible': False}),\n",
       " Prediction(uid='UnKnown', iid='Nokia E72', r_ui=10.0, est=7.977139523391684, details={'was_impossible': False}),\n",
       " Prediction(uid='Cliente Amazon', iid=\"Huawei P9 Lite Smartphone, LTE, Display 5.2'' FHD, Processore Octa-Core Kirin 650, 16 GB Memoria Interna, 3GB RAM, Fotocamera 13 MP, Single-SIM, Android 6.0 Marshmallow, Bianco [Italia]\", r_ui=8.0, est=8.48419185526557, details={'was_impossible': False}),\n",
       " Prediction(uid='Amazon-Kunde', iid='Sony Ericsson Vivaz Pro Smartphone (8,1 cm (3,2 Zoll) Touchscreen, QWERTZ-Tastatur, WLAN, 5.1 Megapixel Kamera, GPS, HD-Video 720p) schwarz', r_ui=2.0, est=7.733002961265446, details={'was_impossible': False}),\n",
       " Prediction(uid='UnKnown', iid='HTC Desire S', r_ui=4.0, est=7.613728060579851, details={'was_impossible': False}),\n",
       " Prediction(uid='e-bit', iid='Smartphone Samsung Galaxy J3 SM-J320M', r_ui=8.0, est=8.382111514196193, details={'was_impossible': False}),\n",
       " Prediction(uid='??????????', iid='Sony Ericsson Xperia neo V MT11i', r_ui=10.0, est=9.490212540467214, details={'was_impossible': False}),\n",
       " Prediction(uid='Anonymous', iid='HTC One X', r_ui=8.0, est=7.541204080662602, details={'was_impossible': False}),\n",
       " Prediction(uid='Amazon Customer', iid='Lenovo Used Lenovo Zuk Z1 (Space Grey, 64GB)', r_ui=8.0, est=5.604531722183784, details={'was_impossible': False}),\n",
       " Prediction(uid='Amazon Customer', iid='Samsung Galaxy J7 SM-J700F (Black, 16GB)', r_ui=6.0, est=7.263574591793601, details={'was_impossible': False}),\n",
       " Prediction(uid='Stephen', iid='MICROSOFT Lumia 650 - 16 GB, Black', r_ui=1.0, est=7.016953526323736, details={'was_impossible': False}),\n",
       " Prediction(uid='Amazon Customer', iid='LG G4 H815 32GB Unlocked GSM 4G LTE Hexa-Core Android Smartphone w/ 16MP Camera - White/Gold - International Version No Warranty', r_ui=10.0, est=6.805707042422815, details={'was_impossible': False}),\n",
       " Prediction(uid='Amazon Customer', iid='Samsung Guru GT-E1200 (Indigo Blue)', r_ui=8.0, est=7.831654658209464, details={'was_impossible': False}),\n",
       " Prediction(uid='Amazon Customer', iid='Samsung Galaxy Grand Prime DUOS G531H/DS - Gray (International Version)', r_ui=6.0, est=5.888728379089978, details={'was_impossible': False}),\n",
       " Prediction(uid='Jennifer', iid='Samsung Galaxy S5 mini Smartphone (4,5 Zoll (11,4 cm) Touch-Display, 16 GB Speicher, Android 4.4) gold', r_ui=6.0, est=5.432472188171679, details={'was_impossible': False}),\n",
       " Prediction(uid='einem Kunden', iid='Samsung Galaxy S7 edge Smartphone, 13,9 cm (5,5 Zoll) Display, LTE (4G)', r_ui=10.0, est=9.03905998370578, details={'was_impossible': False}),\n",
       " Prediction(uid='Amazon Customer', iid='Samsung Galaxy S6 G920F 32GB Factory Unlocked GSM 4G LTE Octa-Core Smartphone - Blue Topaz', r_ui=8.0, est=7.910346241911466, details={'was_impossible': False}),\n",
       " Prediction(uid='Amazon Customer', iid='HTC Desire 526G Plus (Glossy Black, 16GB)', r_ui=10.0, est=7.0997876717752515, details={'was_impossible': False}),\n",
       " Prediction(uid='Andreas', iid='Sony Xperia Z3 Compact Smartphone (11,7 cm (4,6 Zoll) HD-TRILUMINOS-Display, 2,5 GHz-Quad-Core-Prozessor, 20,7 Megapixel-Kamera, Android 4.4) meergrün', r_ui=2.0, est=6.176603304879481, details={'was_impossible': False}),\n",
       " Prediction(uid='Алексей', iid='Nokia N95', r_ui=10.0, est=6.177038246601832, details={'was_impossible': False}),\n",
       " Prediction(uid='Amazon Customer', iid='YU Yureka (Moondust Grey,16 GB)', r_ui=4.0, est=5.301146822326777, details={'was_impossible': False}),\n",
       " Prediction(uid='UnKnown', iid='Nokia E51', r_ui=10.0, est=8.098477982417618, details={'was_impossible': False}),\n",
       " Prediction(uid='Amazon Customer', iid='Lenovo Vibe K4 Note (Black, 16GB)', r_ui=10.0, est=7.414843784858939, details={'was_impossible': False}),\n",
       " Prediction(uid=\"Client d'Amazon\", iid='Sony Mobile Etui fenêtre Style-up pour Xperia Z5 Noir', r_ui=8.0, est=7.31982672504803, details={'was_impossible': False}),\n",
       " Prediction(uid='iceblu_78', iid='Sony Xperia M', r_ui=8.0, est=7.073814460988921, details={'was_impossible': False}),\n",
       " Prediction(uid='UnKnown', iid='Nokia 3720 Classic', r_ui=2.0, est=8.49779720088526, details={'was_impossible': False}),\n",
       " Prediction(uid='Paul', iid='Nokia Lumia 610', r_ui=6.0, est=5.851712426043156, details={'was_impossible': False}),\n",
       " Prediction(uid='e-bit', iid='Celular LG Messenger GT360', r_ui=10.0, est=6.561457276441709, details={'was_impossible': False}),\n",
       " Prediction(uid='e-bit', iid='Smartphone Samsung Galaxy S4 Mini GT-I9192', r_ui=8.0, est=8.995715870435845, details={'was_impossible': False}),\n",
       " Prediction(uid='Amazon Customer', iid='HTC Desire 620G (Santroni White)', r_ui=8.0, est=5.3497262247761235, details={'was_impossible': False}),\n",
       " Prediction(uid='Amazon Customer', iid='Motorola Droid RAZR MAXX 4G LTE Android Smartphone Verizon Black', r_ui=4.0, est=4.819718806968562, details={'was_impossible': False}),\n",
       " Prediction(uid='UnKnown', iid='Sony Ericsson K550i', r_ui=4.0, est=8.279179039243273, details={'was_impossible': False}),\n",
       " Prediction(uid='Amazon Customer', iid='Samsung Galaxy S7 Edge Factory Unlocked Phone 32 GB International Version (Black Onyx)', r_ui=10.0, est=7.178353268894439, details={'was_impossible': False}),\n",
       " Prediction(uid='Amazon Customer', iid='Lenovo Vibe K5 (Grey, VoLTE update)', r_ui=2.0, est=6.696442717061985, details={'was_impossible': False}),\n",
       " Prediction(uid='Roberto', iid='Alcatel One Touch Idol Mini Smartphone, Dual SIM, Blu [Italia]', r_ui=10.0, est=8.915590928120608, details={'was_impossible': False}),\n",
       " Prediction(uid='Cliente Amazon', iid='DOOGEE VALENCIA2 Y100 Pro 5.0 Pollici HD Dello Schermo 4G LTE Smartphone Quad Core 13.0MP Fotocamera 2 GB RAM 16GB ROM', r_ui=10.0, est=7.3967623457639124, details={'was_impossible': False}),\n",
       " Prediction(uid='Дмитрий', iid='Apple iPhone 5s 16GB (серебристый)', r_ui=10.0, est=7.969992773969711, details={'was_impossible': False}),\n",
       " Prediction(uid='Nina', iid='Microsoft Nokia Asha 203 Handy Touch and Type (6 cm (2,4 Zoll) Display, 2 Megapixel Kamera, 32GB microSD) silber/weiß', r_ui=6.0, est=4.996419070233431, details={'was_impossible': False}),\n",
       " Prediction(uid='Amazon Customer', iid='Motorola Moto X Developer GSM Edition Factory Unlocked Phone, 32GB, Black/Woven White', r_ui=10.0, est=6.2463358371938345, details={'was_impossible': False}),\n",
       " Prediction(uid='UnKnown', iid='Huawei Honor U8860', r_ui=8.0, est=7.730770464359338, details={'was_impossible': False}),\n",
       " Prediction(uid='Klaus', iid='Doro PhoneEasy 612 GSM-Mobiltelefon Klapphandy (2 Megapixel Kamera, große Tasten, UKW-Radio) schwarz-schwarz', r_ui=8.0, est=6.858776764045405, details={'was_impossible': False}),\n",
       " Prediction(uid='Giovanni', iid='Siemens C65', r_ui=0.0, est=1, details={'was_impossible': False}),\n",
       " Prediction(uid='Massimo', iid='Asus ZenFone 2 Laser Smartphone da 32 GB, Dual SIM, Bianco [Italia]', r_ui=10.0, est=8.051924054794771, details={'was_impossible': False}),\n",
       " Prediction(uid='UnKnown', iid='Sony Ericsson Xperia ray', r_ui=10.0, est=7.599747565073087, details={'was_impossible': False}),\n",
       " Prediction(uid='anonym', iid='Nokia E63', r_ui=10.0, est=9.9519064014539, details={'was_impossible': False}),\n",
       " Prediction(uid='einem Kunden', iid='Samsung Galaxy S7 edge Smartphone, 13,9 cm (5,5 Zoll) Display, LTE (4G)', r_ui=10.0, est=9.03905998370578, details={'was_impossible': False}),\n",
       " Prediction(uid='UnKnown', iid='Nokia 6233', r_ui=10.0, est=8.234091673473536, details={'was_impossible': False}),\n",
       " Prediction(uid='Amazon Customer', iid='Lenovo Vibe K4 Note (White,16GB)', r_ui=4.0, est=7.330073400296547, details={'was_impossible': False}),\n",
       " Prediction(uid='Cristina', iid='Samsung Galaxy S5 G900T T-Mobile Cellphone, 16GB, Shimmery White', r_ui=10.0, est=8.462183316886604, details={'was_impossible': False}),\n",
       " Prediction(uid='luis', iid='Nokia C2-01.5 Unlocked GSM Phone with 3.2 MP Camera and Music and Video Player--U.S. Version with Warranty (Black)', r_ui=10.0, est=8.013265890690825, details={'was_impossible': False}),\n",
       " Prediction(uid=\"Client d'Amazon\", iid='WIKO Fever 4G Smartphone, 16 GB, Dual SIM, Nero/Antracite', r_ui=8.0, est=7.700230755729628, details={'was_impossible': False}),\n",
       " Prediction(uid='Chris', iid='Alcatel OneTouch Idol 3 Global Unlocked 4G LTE Smartphone, 5.5 HD IPS Display, 16GB (GSM - US Warranty)', r_ui=10.0, est=7.978738938398266, details={'was_impossible': False}),\n",
       " Prediction(uid='UnKnown', iid='Siemens CX65', r_ui=8.0, est=8.778556578854829, details={'was_impossible': False}),\n",
       " Prediction(uid='Amazon Customer', iid='ASUS ZenFone 3 MAX ZC520TL Smartphone, 5.2-inch, 16GB (Glacier Silver)', r_ui=10.0, est=7.4955381081947206, details={'was_impossible': False}),\n",
       " Prediction(uid='Amazon Customer', iid='OnePlus 3 (Soft Gold, 64 GB)', r_ui=10.0, est=8.411113210606793, details={'was_impossible': False}),\n",
       " Prediction(uid='Amazon Customer', iid='Apple iPhone 5S UNLOCKED SIM FREE 64GB, Space Grey', r_ui=2.0, est=7.979812627108299, details={'was_impossible': False}),\n",
       " Prediction(uid='Amazon Customer', iid='Apple iPhone 4 Verizon Cellphone, 8GB, White', r_ui=10.0, est=7.21998836092616, details={'was_impossible': False}),\n",
       " Prediction(uid='UnKnown', iid='Samsung Star GT-S5230', r_ui=10.0, est=7.342090290677522, details={'was_impossible': False}),\n",
       " Prediction(uid='Cliente Amazon', iid='LG G4 - Smartphone libre Android (pantalla 5.5\", cámara 16 Mp, 32 GB, Hexa - Core 6 x 1.8GHz (64bits), 3 GB RAM), color gris metálico', r_ui=6.0, est=9.272581459605787, details={'was_impossible': False}),\n",
       " Prediction(uid='david', iid='Samsung Galaxy S4 (I9505) - Smartphone libre Android (pantalla táctil de 4.99\", cámara 13 Mp, 16 GB, Quad-Core 1.9 GHz, 2 GB RAM, LTE), Blanco (Versión Europea)', r_ui=8.0, est=9.230692627388482, details={'was_impossible': False}),\n",
       " Prediction(uid='Amazon Customer', iid='Samsung Galaxy S5 G900T T-Mobile Cellphone, 16GB, Shimmery White', r_ui=10.0, est=6.454524453402454, details={'was_impossible': False}),\n",
       " Prediction(uid='e-bit', iid='Smartphone Samsung Galaxy S4 Mini GT-I9192', r_ui=10.0, est=8.995715870435845, details={'was_impossible': False}),\n",
       " Prediction(uid='Amazon Customer', iid='Samsung Galaxy S6 64 GB UK SIM-Free Smartphone - Gold', r_ui=10.0, est=9.502572424419842, details={'was_impossible': False}),\n",
       " Prediction(uid='Amazon Customer', iid='HTC Desire 620G (Santroni White)', r_ui=4.0, est=5.3497262247761235, details={'was_impossible': False}),\n",
       " Prediction(uid='Andrea', iid='LG D855 G3 Smartphone, 16 GB, Nero Metallico [Italia]', r_ui=2.0, est=9.125364695759684, details={'was_impossible': False}),\n",
       " Prediction(uid='Cliente Amazon', iid='Asus ZenFone 2 Smartphone 5 pollici, RAM 2 GB, 8 GB, 4G/LTE, Nero', r_ui=8.0, est=7.7292428728694915, details={'was_impossible': False}),\n",
       " Prediction(uid='UnKnown', iid='Sony Ericsson Xperia arc', r_ui=0.0, est=6.898797005326351, details={'was_impossible': False}),\n",
       " Prediction(uid='sam', iid='Lenovo Vibe K4 Note (White,16GB)', r_ui=10.0, est=8.049250129690344, details={'was_impossible': False}),\n",
       " Prediction(uid='Marion', iid='Huawei P8lite zwart / 16 GB', r_ui=9.0, est=8.516096712853322, details={'was_impossible': False}),\n",
       " Prediction(uid='e-bit', iid='Smartphone Nokia Asha 500', r_ui=6.0, est=8.173498314436005, details={'was_impossible': False}),\n",
       " Prediction(uid='sezenm', iid='Nokia 6500 Slide Cep Telefonu', r_ui=0.0, est=1, details={'was_impossible': False}),\n",
       " Prediction(uid='Amazon Customer', iid='OnePlus 3 (Soft Gold, 64 GB)', r_ui=2.0, est=8.411113210606793, details={'was_impossible': False}),\n",
       " Prediction(uid='Amazon Customer', iid='Lenovo Vibe K4 Note (White,16GB)', r_ui=2.0, est=7.330073400296547, details={'was_impossible': False}),\n",
       " Prediction(uid='UnKnown', iid='Sony Ericsson Xperia X1', r_ui=4.0, est=7.585128669101523, details={'was_impossible': False}),\n",
       " Prediction(uid=\"Client d'Amazon\", iid='Samsung Galaxy A5 2016 Smartphone débloqué 4G (Ecran: 5,2 pouces - 16 Go - Simple Nano-SIM - Android 5.1 Lollipop) Or (Import Allemagne)', r_ui=8.0, est=7.303394023947061, details={'was_impossible': False}),\n",
       " Prediction(uid='UnKnown', iid='Nokia N97', r_ui=10.0, est=5.6947568112464335, details={'was_impossible': False}),\n",
       " Prediction(uid='Сергей', iid='Nokia X2-02 Bright Red', r_ui=10.0, est=8.68377390206205, details={'was_impossible': False}),\n",
       " Prediction(uid='Amazon Customer', iid='Motorola Moto G (3rd Generation) No Contract Phone (Virgin Mobile) - Retail Packaging', r_ui=2.0, est=3.866817412542937, details={'was_impossible': False}),\n",
       " Prediction(uid='UnKnown', iid='HTC One V', r_ui=2.0, est=7.508143380230922, details={'was_impossible': False}),\n",
       " Prediction(uid='UnKnown', iid='Samsung SGH-E250', r_ui=6.0, est=6.584571239051679, details={'was_impossible': False}),\n",
       " Prediction(uid='Ray', iid='Samsung Galaxy S5 Mini G800F 16GB 4G LTE Unlocked GSM Android Quad-Core Smartphone - Gold', r_ui=6.0, est=10, details={'was_impossible': False}),\n",
       " Prediction(uid='Mario', iid='Doogee X5 3G Smartphone -- 5.0\" IPS Android 5.1 Lollipop MT6580 Quad Core 1.3GHz Dual SIM 1GB RAM 8GB ROM DG Xender Smart Wake Air Gestures GPS Wifi (Bianco)', r_ui=10.0, est=8.550762536893515, details={'was_impossible': False}),\n",
       " Prediction(uid='Luca', iid='Nokia 105 telefono cellulare, Dual SIM, Nero [Italia]', r_ui=8.0, est=8.624877110481279, details={'was_impossible': False}),\n",
       " Prediction(uid='UnKnown', iid='Sony Ericsson Vivaz', r_ui=8.0, est=5.998161318620101, details={'was_impossible': False}),\n",
       " Prediction(uid='Michael', iid='SAMSUNG Galaxy A3 (2017) - 16 GB, Black', r_ui=9.0, est=8.659102943148662, details={'was_impossible': False}),\n",
       " Prediction(uid='Anonymous', iid='Motorola DROID', r_ui=9.0, est=8.904851020201958, details={'was_impossible': False}),\n",
       " Prediction(uid='Ana', iid='LG Nexus 5 - Smartphone libre Android (pantalla 4.95\", cámara 8 Mp, 16 GB, Quad-Core 2.3 GHz, 2 GB RAM), blanco', r_ui=10.0, est=8.640017372060695, details={'was_impossible': False}),\n",
       " Prediction(uid='Amazon Customer', iid='Lenovo Vibe K5 (Grey, VoLTE update)', r_ui=4.0, est=6.696442717061985, details={'was_impossible': False}),\n",
       " Prediction(uid='Amazon Customer', iid='Samsung Guru GT-E1200 (Indigo Blue)', r_ui=8.0, est=7.831654658209464, details={'was_impossible': False}),\n",
       " Prediction(uid='Sven', iid='Samsung Galaxy Note 3 Smartphone (14,5 cm (5,7 Zoll) AMOLED-Touchscreen, 2,3GHz, Quad-Core, 3GB RAM, 13 Megapixel Kamera, Android 4.3) weiß/gold', r_ui=8.0, est=6.804709753604949, details={'was_impossible': False}),\n",
       " Prediction(uid='Amazon Customer', iid='Nokia 130 Dual SIM (Red)', r_ui=10.0, est=7.593763925414106, details={'was_impossible': False}),\n",
       " Prediction(uid='UnKnown', iid='Samsung S6500 Galaxy mini 2 gelb EU [Android 2.3, 3.2MP Kamera, 800 MHz Prozessor]', r_ui=8.0, est=8.754805007293191, details={'was_impossible': False}),\n",
       " Prediction(uid='Amazon Customer', iid='Lenovo Vibe K4 Note (White,16GB)', r_ui=8.0, est=7.330073400296547, details={'was_impossible': False}),\n",
       " Prediction(uid='Alessandra', iid='Nokia Lumia 530 Smartphone, 4 GB, Grigio [Italia]', r_ui=10.0, est=9.14464500037819, details={'was_impossible': False}),\n",
       " Prediction(uid='einem Kunden', iid='Samsung Galaxy S7 Smartphone, 12,9 cm (5,1 Zoll) Display, LTE (4G)', r_ui=10.0, est=9.137480108876797, details={'was_impossible': False}),\n",
       " Prediction(uid='Amazon Customer', iid='Lenovo Vibe K5 (Grey, VoLTE update)', r_ui=2.0, est=6.696442717061985, details={'was_impossible': False}),\n",
       " Prediction(uid='UnKnown', iid='Blackberry Curve 8900', r_ui=8.0, est=6.211414529728965, details={'was_impossible': False}),\n",
       " Prediction(uid='Amazon Customer', iid='Motorola Moto E 2nd Generation (3G, White)', r_ui=10.0, est=7.386846346419628, details={'was_impossible': False}),\n",
       " Prediction(uid='Marco', iid='Samsung C3520I Telefono Cellulare, Argento [Italia]', r_ui=10.0, est=9.341485346597022, details={'was_impossible': False}),\n",
       " Prediction(uid='Vincent', iid='Sony Xperia XZ zwart / 32 GB', r_ui=8.0, est=8.39355111744445, details={'was_impossible': False}),\n",
       " Prediction(uid='Amazon Customer', iid='Honor 6X (Silver, 32GB)', r_ui=6.0, est=8.195547120230511, details={'was_impossible': False}),\n",
       " Prediction(uid='Amazon Customer', iid='OnePlus 3 (Graphite, 64 GB)', r_ui=10.0, est=8.753465227698346, details={'was_impossible': False}),\n",
       " Prediction(uid='Amazon Customer', iid='Lenovo Vibe K5 (Grey)', r_ui=8.0, est=6.702405210233632, details={'was_impossible': False}),\n",
       " Prediction(uid='UnKnown', iid='Sony Ericsson Live with Walkman', r_ui=10.0, est=8.603795064108484, details={'was_impossible': False}),\n",
       " Prediction(uid='ali', iid='BlackBerry 9700 Bold Unlocked Quad-Band 3G Smartphone with 3.2 MP Camera, GPS, Wi-Fi and Bluetooth (Black)', r_ui=2.0, est=4.073458641355897, details={'was_impossible': False}),\n",
       " Prediction(uid='Amazon Customer', iid='LG Nexus 5 D820 Unlocked Cellphone, 16GB, Black', r_ui=10.0, est=4.259267518143623, details={'was_impossible': False}),\n",
       " Prediction(uid='Alessandro', iid='Smartphone LG L70 Dual D325 Preto com Tela de 4,5”, Dual Chip, Android 4.4, Câmera 8MP e Processador Snapdragon 200 1.2 GHz Dual-Core', r_ui=10.0, est=8.032571111005758, details={'was_impossible': False}),\n",
       " Prediction(uid='Amazon Customer', iid='Lenovo Vibe K4 Note (White,16GB)', r_ui=10.0, est=7.330073400296547, details={'was_impossible': False}),\n",
       " Prediction(uid='Daniele', iid='Samsung E1190 Telefono Cellulare [Germania]', r_ui=10.0, est=8.893032781578944, details={'was_impossible': False}),\n",
       " Prediction(uid='Cliente Amazon', iid='Lenovo Moto G4 Play - Smartphone de 5 (4G, RAM de 2 GB, memoria interna de 16 GB, cámara de 8 MP, Android 6), blanco', r_ui=10.0, est=7.575862247116884, details={'was_impossible': False}),\n",
       " Prediction(uid='Maria', iid='Spigen Protection écran ASUS ZenFone 2, 5.5\" (ZE550ML/ZE551ML) en Verre Trempé, Spigen **Easy-Install Kit** [Extreme Résistant aux rayures] **Ultra Clair** protection verre trempé ASUS ZenFone 2, Protection ASUS ZenFone 2 O01GL20595', r_ui=10.0, est=7.264173225972975, details={'was_impossible': False}),\n",
       " Prediction(uid='Amazon Customer', iid='Apple iPhone 7 Unlocked Phone 32 GB - US Version (Gold)', r_ui=10.0, est=7.593200269983736, details={'was_impossible': False}),\n",
       " Prediction(uid='Flo', iid='Microsoft Nokia X6 16GB Smartphone (GPS, WLAN, UMTS, 5 MP, Ovi Karten) black/black', r_ui=2.0, est=7.483001086438955, details={'was_impossible': False}),\n",
       " Prediction(uid='Nicole', iid='Sony Ericsson Xperia X8 Smartphone ( 3.2 MP, Android OS, aGPS, WiFi, 3.5mm Klinkenstecker) weiß/blau', r_ui=2.0, est=8.243862021069004, details={'was_impossible': False}),\n",
       " Prediction(uid='Amazon Customer', iid='Samsung Galaxy S4, Black Mist 16GB (Verizon Wireless)', r_ui=2.0, est=6.335190800415674, details={'was_impossible': False}),\n",
       " Prediction(uid='einer Kundin', iid='Samsung Galaxy S7 edge Smartphone, 13,9 cm (5,5 Zoll) Display, LTE (4G)', r_ui=10.0, est=9.370098307463135, details={'was_impossible': False}),\n",
       " Prediction(uid='David', iid='Lenovo K6 Note Smartphone Dual SIM, Display 5.5 Pollici, LTE, Fotocamera 16 MP, Memoria 32 GB, 3 GB RAM, Argento [Italia]', r_ui=10.0, est=8.279360317310871, details={'was_impossible': False}),\n",
       " Prediction(uid='UnKnown', iid='Mitsubishi Astral', r_ui=2.0, est=6.116895887509266, details={'was_impossible': False}),\n",
       " Prediction(uid='Константин', iid='LG X power (золотистый)', r_ui=0.0, est=1, details={'was_impossible': False}),\n",
       " Prediction(uid='Amazon Customer', iid='OnePlus 3 (Soft Gold, 64 GB)', r_ui=8.0, est=8.411113210606793, details={'was_impossible': False}),\n",
       " Prediction(uid='UnKnown', iid='Nokia Asha 311', r_ui=8.0, est=5.696926175912253, details={'was_impossible': False}),\n",
       " Prediction(uid='Amazon Kunde', iid='Motorola Moto G 3. Generation Smartphone (12,7 cm (5 Zoll ) Touchscreen-Display, 16 GB Speicher, Android 5.1.1...', r_ui=10.0, est=7.266002150749766, details={'was_impossible': False}),\n",
       " Prediction(uid='Виталий', iid='Sony Xperia Z1 (черный)', r_ui=9.0, est=10, details={'was_impossible': False}),\n",
       " Prediction(uid='UK Guest', iid='Nokia 6100', r_ui=10.0, est=9.337225981715502, details={'was_impossible': False}),\n",
       " Prediction(uid='Amazon Customer', iid='Samsung Galaxy J7 Prime (Black, 16GB)', r_ui=8.0, est=7.280828973971147, details={'was_impossible': False}),\n",
       " Prediction(uid='UnKnown', iid='HTC Wildfire', r_ui=6.0, est=6.271576790996617, details={'was_impossible': False}),\n",
       " Prediction(uid='D', iid='Samsung Galaxy Note 4, Charcoal Black 32GB (Verizon Wireless)', r_ui=4.0, est=7.452512878271666, details={'was_impossible': False}),\n",
       " Prediction(uid='Amazon Customer', iid='Samsung Galaxy J5 SM-J500M/DS Factory Unlocked Dual Sim Smartphone - International Version (White)', r_ui=10.0, est=7.988272955225791, details={'was_impossible': False}),\n",
       " Prediction(uid='e-bit', iid='Smartphone LG Optimus L3 E400', r_ui=2.0, est=7.511868892528216, details={'was_impossible': False}),\n",
       " Prediction(uid='Amazon Customer', iid='Motorola Moto G, 4th Gen (White, 2 GB, 16 GB)', r_ui=2.0, est=5.940053611001799, details={'was_impossible': False}),\n",
       " Prediction(uid='UnKnown', iid='HTC Windows Phone 8s', r_ui=8.0, est=6.452315730090554, details={'was_impossible': False}),\n",
       " Prediction(uid='Kindle Customer', iid='Samsung S380C Prepaid Phone (Net10)', r_ui=8.0, est=2.411587491578513, details={'was_impossible': False}),\n",
       " Prediction(uid='Amazon Customer', iid='Lenovo Vibe K5 (Grey, VoLTE update)', r_ui=8.0, est=6.696442717061985, details={'was_impossible': False}),\n",
       " Prediction(uid='Martin', iid='HTC One X White', r_ui=10.0, est=9.60803132343551, details={'was_impossible': False}),\n",
       " Prediction(uid='Amazon Customer', iid='Apple iPhone 6 Plus GSM Unlocked Cellphone, 64GB, Space Gray', r_ui=2.0, est=8.373295073672775, details={'was_impossible': False}),\n",
       " Prediction(uid='einem Kunden', iid='Samsung Galaxy S7 edge Smartphone, 13,9 cm (5,5 Zoll) Display, LTE (4G)', r_ui=10.0, est=9.03905998370578, details={'was_impossible': False}),\n",
       " Prediction(uid='UnKnown', iid='Samsung DuoS SGH-D880', r_ui=10.0, est=8.31981954290368, details={'was_impossible': False}),\n",
       " Prediction(uid='UnKnown', iid='Nokia 7280', r_ui=10.0, est=8.081402423386788, details={'was_impossible': False}),\n",
       " Prediction(uid='UnKnown', iid='Samsung Galaxy Ace II GT-I8160', r_ui=10.0, est=7.625590010869901, details={'was_impossible': False}),\n",
       " Prediction(uid='UnKnown', iid='HTC Windows Phone 8s', r_ui=8.0, est=6.452315730090554, details={'was_impossible': False}),\n",
       " Prediction(uid='UnKnown', iid='Prestigio MultiPhone 4040 DUO', r_ui=8.0, est=5.704665515890246, details={'was_impossible': False}),\n",
       " Prediction(uid='Cliente Amazon', iid=\"Samsung Galaxy J5 - Smartphone de 5'' (Android, 4G, cámara de 13 MP, memoria interna de 8 GB, Super AMOLED), dorado\", r_ui=2.0, est=8.386817963796842, details={'was_impossible': False}),\n",
       " Prediction(uid='Олег', iid='LG K10 (темно-синий)', r_ui=9.0, est=7.376658462401252, details={'was_impossible': False}),\n",
       " Prediction(uid='Paulo', iid='Smartphone LG L70 Dual D325 Branco com Tela de 4,5”, Dual Chip, Android 4.4, Câmera 8MP e Processador Snapdragon 200 1.2 GHz Dual-Core', r_ui=8.0, est=7.3198279227620295, details={'was_impossible': False}),\n",
       " Prediction(uid='einem Kunden', iid='Apple iPhone 7 4,7\" 32 GB', r_ui=10.0, est=9.498842021359547, details={'was_impossible': False}),\n",
       " Prediction(uid='Cliente Amazon', iid='Lenovo K6 Note Smartphone Dual SIM, Display 5.5 Pollici, LTE, Fotocamera 16 MP, Memoria 32 GB, 3 GB RAM, Argento [Italia]', r_ui=10.0, est=9.484224815241339, details={'was_impossible': False}),\n",
       " Prediction(uid='Henry', iid='Huawei Honor 8 Unlocked Smartphone 32 GB Dual Camera - US Warranty (Sapphire Blue)', r_ui=6.0, est=9.795104764489388, details={'was_impossible': False}),\n",
       " Prediction(uid=\"Client d'Amazon\", iid='Doogee X5 Smartphone Débloqué 5.0 Pouce 1920*720 HD Écran 1.5GHz Quad Core Android 5.1 Double SIM Double Caméra 5.0MP & 2.0MP GPS OTG pour plupart Opérateur Europe', r_ui=2.0, est=7.061217367173103, details={'was_impossible': False}),\n",
       " Prediction(uid='einer Kundin', iid='Samsung Galaxy S7 edge Smartphone, 13,9 cm (5,5 Zoll) Display, LTE (4G)', r_ui=10.0, est=9.370098307463135, details={'was_impossible': False}),\n",
       " Prediction(uid='Amazon Customer', iid='OnePlus 3 (Graphite, 64 GB)', r_ui=10.0, est=8.753465227698346, details={'was_impossible': False}),\n",
       " Prediction(uid='einem Kunden', iid='Apple iPhone 7 Plus 5,5\" 128 GB', r_ui=10.0, est=9.062872202187435, details={'was_impossible': False}),\n",
       " Prediction(uid='Amazon Customer', iid='HTC One M8 UK SIM-Free Smartphone - Gunmetal Grey', r_ui=10.0, est=6.778946933369427, details={'was_impossible': False}),\n",
       " Prediction(uid='Екатерина', iid='Samsung S6102 Galaxy Y Duos (черный, \"Связной-Загрузка\")', r_ui=10.0, est=6.272954496373518, details={'was_impossible': False}),\n",
       " Prediction(uid='Amazon Customer', iid='Lenovo Vibe K5 (Grey, VoLTE update)', r_ui=10.0, est=6.696442717061985, details={'was_impossible': False}),\n",
       " Prediction(uid='Cliente Amazon', iid='Asus ZenFone 2 Smartphone, Schermo da 5.5\" Full HD, Processore Quad Core 2,3 GHz, RAM 4 GB, 32 GB, 4G/LTE, Argento', r_ui=10.0, est=8.454670007185427, details={'was_impossible': False}),\n",
       " Prediction(uid='Amazon Customer', iid='OnePlus 3 (Graphite, 64 GB)', r_ui=8.0, est=8.753465227698346, details={'was_impossible': False}),\n",
       " Prediction(uid='Amazon Customer', iid='Lenovo Vibe K4 Note (White,16GB)', r_ui=10.0, est=7.330073400296547, details={'was_impossible': False}),\n",
       " Prediction(uid='Amazon Customer', iid='OnePlus 3 (Soft Gold, 64 GB)', r_ui=10.0, est=8.411113210606793, details={'was_impossible': False}),\n",
       " Prediction(uid='Amazon Customer', iid='Motorola Moto G, 4th Gen (Black, 2 GB, 16 GB)', r_ui=10.0, est=6.5650704873022905, details={'was_impossible': False}),\n",
       " Prediction(uid='Amazon Customer', iid='OnePlus 3T (Gunmetal, 6GB RAM + 64GB memory)', r_ui=8.0, est=8.189953972636042, details={'was_impossible': False}),\n",
       " Prediction(uid='Amazon Customer', iid='OnePlus 3T (Soft Gold, 6GB RAM + 64GB memory)', r_ui=10.0, est=8.918366731664548, details={'was_impossible': False}),\n",
       " Prediction(uid='dunya', iid='Nokia 6300 Cep Telefonu', r_ui=0.0, est=1, details={'was_impossible': False}),\n",
       " Prediction(uid='Paula', iid='BLU Studio 5.0Ce Unlocked Cellphone, 4GB, Blue', r_ui=2.0, est=8.349782776865908, details={'was_impossible': False}),\n",
       " Prediction(uid='UnKnown', iid='Nokia 5130 XpressMusic', r_ui=10.0, est=7.4349030112333905, details={'was_impossible': False}),\n",
       " Prediction(uid='einem Kunden', iid='Samsung Galaxy S7 edge Smartphone, 13,9 cm (5,5 Zoll) Display, LTE (4G)', r_ui=10.0, est=9.03905998370578, details={'was_impossible': False}),\n",
       " Prediction(uid='Amazon Customer', iid='Apple iPhone 6 16GB Factory Unlocked GSM 4G LTE Internal Smartphone - Space Gray', r_ui=2.0, est=7.321906246059742, details={'was_impossible': False}),\n",
       " Prediction(uid='e-bit', iid='Smartphone LG K10 K430TV', r_ui=10.0, est=8.508818246072678, details={'was_impossible': False}),\n",
       " Prediction(uid='Amazon Customer', iid='Mi 4i (Grey, 16GB)', r_ui=10.0, est=6.085624618303026, details={'was_impossible': False}),\n",
       " Prediction(uid='William', iid='Sprint LG Volt White (Sprint Prepaid)', r_ui=8.0, est=7.65540588786245, details={'was_impossible': False}),\n",
       " Prediction(uid='Cliente Amazon', iid=\"Lenovo Moto G4 - Smartphone libre Android (5.5'', Full HD, 4G, 13 MP, 2 GB de RAM, 16 GB), color blanco\", r_ui=2.0, est=8.0606833366685, details={'was_impossible': False}),\n",
       " Prediction(uid='e-bit', iid='Smartphone LG G2 D805', r_ui=10.0, est=9.486705702273596, details={'was_impossible': False}),\n",
       " Prediction(uid='Игорь', iid='Sony Xperia ZR (белый)', r_ui=9.0, est=4.712148883684827, details={'was_impossible': False}),\n",
       " Prediction(uid='Amazon Customer', iid='Lenovo PHAB Plus Tablet (6.8 inch, 32GB, Wi-Fi+ LTE+ Voice Calling), Gunmetal Platinum', r_ui=6.0, est=6.1528671230799254, details={'was_impossible': False}),\n",
       " Prediction(uid='Anonymous ', iid='Samsung Galaxy S6 active 32GB (AT&T)', r_ui=10.0, est=9.304864938597506, details={'was_impossible': False}),\n",
       " Prediction(uid='Илья', iid='Apple iPhone 5s 16GB (серый космос)', r_ui=0.0, est=9.465206059804906, details={'was_impossible': False}),\n",
       " Prediction(uid='Amazon Customer', iid='Lenovo Vibe K4 Note (Black, 16GB)', r_ui=8.0, est=7.414843784858939, details={'was_impossible': False}),\n",
       " Prediction(uid='UnKnown', iid='Nokia 6303 classic', r_ui=10.0, est=7.059302800364456, details={'was_impossible': False}),\n",
       " Prediction(uid='Amazon Customer', iid='Nokia Lumia 530, UK SIM-Free Smartphone - Orange', r_ui=4.0, est=6.214054938438224, details={'was_impossible': False}),\n",
       " Prediction(uid='Amazon Customer', iid='Samsung S5230 Tocco Lite Sim Free Mobile Phone - Black', r_ui=6.0, est=8.240260475358022, details={'was_impossible': False}),\n",
       " Prediction(uid='Matteo', iid='Lenovo Motorola Moto E Smartphone, Display 4.3 pollici qHD, Processore Qualcomm Dual-Core 1.2GHz, Memoria 4GB, 1GB RAM, Fotocamera 5MP, Android 4.4.2 KitKat, Bluetooth, WiFi, Bianco [Spagna]', r_ui=8.0, est=8.82419936439458, details={'was_impossible': False}),\n",
       " Prediction(uid='Sergio', iid='Desconocido Xiaomi Redmi 2 - Smartphone libre Android (pantalla 4.7\", cámara 8 Mp, 8 GB, Quad-Core 1.2 GHz, 1 GB RAM), gris', r_ui=10.0, est=6.416276143321433, details={'was_impossible': False}),\n",
       " Prediction(uid='UnKnown', iid='Nokia X6 32Gb', r_ui=2.0, est=7.892207030777056, details={'was_impossible': False}),\n",
       " Prediction(uid='Cliente Amazon', iid=\"Nokia Microsoft Lumia 550 Smartphone LTE, Display 4.7' Pollici HD LCD (1280x720), 8 GB Memoria interna, Processore Quad Core Snapdragon 210, Bianco [Italia]\", r_ui=8.0, est=9.288307972210532, details={'was_impossible': False}),\n",
       " Prediction(uid='Cliente Amazon', iid='BQ Aquaris X5 - Smartphone de 5\" (WiFi, 2 GB de RAM, memoria interna de 16 GB, cámara 13 MP, Android 5.1) negro y gris antracito - Reacondicionado oficial', r_ui=6.0, est=7.7125640046709165, details={'was_impossible': False}),\n",
       " Prediction(uid='Amazon Customer', iid='YU YUNIQUE YU4711 Smartphone (Black)', r_ui=8.0, est=4.505008924116121, details={'was_impossible': False}),\n",
       " Prediction(uid='david', iid='LG G3 D855 Unlocked Cellphone, International Version, 32GB, Black', r_ui=10.0, est=5.711188962949499, details={'was_impossible': False}),\n",
       " Prediction(uid='Cliente Amazon', iid='Lenovo Motorola Moto G 4G 3 Generazione Smartphone, Display 5\", Fotocamera 13 MP, Memoria 16 GB, Android 6 Lollipop, Nero [Italia]', r_ui=10.0, est=8.790236097658703, details={'was_impossible': False}),\n",
       " Prediction(uid='Mark', iid='LG Neon GT365 Prepaid GoPhone (AT&T)', r_ui=6.0, est=6.516549985343541, details={'was_impossible': False}),\n",
       " Prediction(uid='Victor', iid='BLU Life Pure Unlocked Phone (Black)', r_ui=10.0, est=7.833075445184787, details={'was_impossible': False}),\n",
       " Prediction(uid='UnKnown', iid='Nokia 5200', r_ui=4.0, est=6.6163666386677, details={'was_impossible': False}),\n",
       " Prediction(uid='Amazon Customer', iid='Apple iPhone 4 A1332 16GB White (GSM Unlocked)', r_ui=10.0, est=4.23169351599521, details={'was_impossible': False}),\n",
       " Prediction(uid='Charlie', iid='Nokia 1661 black (UKW-Radio, Organizer, Spiele) Handy', r_ui=10.0, est=8.143354957965764, details={'was_impossible': False}),\n",
       " Prediction(uid='UnKnown', iid='Nokia 5300 XpressMusic', r_ui=10.0, est=6.850128065895866, details={'was_impossible': False}),\n",
       " Prediction(uid='UnKnown', iid='Nokia 5130 XpressMusic', r_ui=10.0, est=7.4349030112333905, details={'was_impossible': False}),\n",
       " Prediction(uid='UnKnown', iid='Samsung Galaxy S4 I9505 schwarz 16GB [12,68cm HD Super AMOLED Display, 1,9GHz Quad-Core Prozessor]', r_ui=10.0, est=8.498826404286676, details={'was_impossible': False}),\n",
       " Prediction(uid='JB', iid='Huawei P8 lite Dual-SIM Smartphone (5 Zoll (12,7 cm) Touch-Display, 16 GB Speicher, Android 5.0) weiß', r_ui=2.0, est=6.971513355535262, details={'was_impossible': False}),\n",
       " Prediction(uid='Amazon Kunde', iid='Samsung Galaxy S6 Edge Smartphone (5,1 Zoll (12,9 cm) Touch-Display, 64 GB Speicher, Android 5.0) gold', r_ui=8.0, est=7.9982086119717675, details={'was_impossible': False}),\n",
       " Prediction(uid='Susan', iid='APPLE iPhone 7 - Silver, 32 GB', r_ui=10.0, est=9.16910899940002, details={'was_impossible': False}),\n",
       " Prediction(uid='Amazon Customer', iid='Lenovo Vibe K5 (Grey, VoLTE update)', r_ui=10.0, est=6.696442717061985, details={'was_impossible': False}),\n",
       " Prediction(uid='Наталья', iid='Apple iPhone 5s 16GB (серебристый)', r_ui=10.0, est=6.992861146812981, details={'was_impossible': False}),\n",
       " Prediction(uid='UnKnown', iid='Nokia N85', r_ui=2.0, est=6.233244958911933, details={'was_impossible': False}),\n",
       " Prediction(uid='UnKnown', iid='Sony Ericsson W890i', r_ui=10.0, est=6.907996520702701, details={'was_impossible': False}),\n",
       " Prediction(uid='emanetcan', iid='Nokia E50 (Metal Black) Cep Telefonu', r_ui=0.0, est=1, details={'was_impossible': False}),\n",
       " Prediction(uid='Amazon Customer', iid='Samsung Galaxy S7 Edge Factory Unlocked Phone 32 GB International Version (Black Onyx)', r_ui=6.0, est=7.178353268894439, details={'was_impossible': False}),\n",
       " Prediction(uid='Amazon Customer', iid='OnePlus 3 (Graphite, 64 GB)', r_ui=10.0, est=8.753465227698346, details={'was_impossible': False}),\n",
       " Prediction(uid='Cliente Amazon', iid='Honor 7 - Smartphone libre de 5.2\" (4G, WiFi, Bluetooth, Dual Nano SIM, HiSilicon Kirin 935, 64 bit Super 8+1 Core, 2.2 GHz, 3 GB de RAM, 16 GB ROM, cámara de 20 MP/8 MP, Android 5.0 con EMUI 3.1), color gris', r_ui=2.0, est=9.292944733808131, details={'was_impossible': False}),\n",
       " Prediction(uid='Amazon Customer', iid='OnePlus X (Onyx, 16GB)', r_ui=10.0, est=7.425082632476295, details={'was_impossible': False}),\n",
       " Prediction(uid='Amazon Kunde', iid='Samsung Galaxy S3 mini (GT-I8200) Smartphone (4 Zoll (10,2 cm) Touch-Display, 8 GB Speicher, Android 4.2) blau', r_ui=10.0, est=7.118321254395758, details={'was_impossible': False}),\n",
       " Prediction(uid='Ken', iid='Apple iPhone 4S 32GB Unlocked GSM Smartphone w/ 8MP Camera w/ Siri & iCloud - Black', r_ui=10.0, est=3.561781186807916, details={'was_impossible': False}),\n",
       " Prediction(uid='UnKnown', iid='Samsung S8500 Wave', r_ui=8.0, est=7.746874999376581, details={'was_impossible': False}),\n",
       " Prediction(uid='UK Guest', iid='Sony Ericsson T610', r_ui=10.0, est=9.13564704728784, details={'was_impossible': False}),\n",
       " Prediction(uid=\"Client d'Amazon\", iid='Spigen Coque Galaxy S6 EDGE, Spigen [Boutons à Effet Métallisé] Coque de Protection pour Galaxy S6 EDGE **NOUVEAU** [Neo Hybrid] [Gunmetal] Coque Bumper / Protection Double-Couche en TPU et Cadre en Polycarbonate pour Galaxy S6 EDGE - Gunmetal (SGP11422)', r_ui=8.0, est=8.960426820885278, details={'was_impossible': False}),\n",
       " Prediction(uid='Cliente Amazon', iid='Huawei Ascend P7 - Smartphone libre Android (pantalla 5\", cámara 13 Mp, 16 GB, Quad-Core 1.8 GHz, 2 GB RAM), blanco', r_ui=4.0, est=4.5159741826942055, details={'was_impossible': False}),\n",
       " Prediction(uid='Amazon Customer', iid='BlackBerry Z30', r_ui=6.0, est=3.9028014170673564, details={'was_impossible': False}),\n",
       " Prediction(uid='UnKnown', iid='HTC Hero', r_ui=10.0, est=7.013456299825492, details={'was_impossible': False}),\n",
       " Prediction(uid='UnKnown', iid='HTC Desire 300', r_ui=10.0, est=6.7694028954221555, details={'was_impossible': False}),\n",
       " Prediction(uid='einer Kundin', iid='Apple iPhone 7 Plus 5,5\" 128 GB', r_ui=10.0, est=9.180887286657082, details={'was_impossible': False}),\n",
       " Prediction(uid='Amazon Kunde', iid='Samsung Galaxy S5 mini Smartphone (4,5 Zoll (11,4 cm) Touch-Display, 16 GB Speicher, Android 4.4) gold', r_ui=8.0, est=6.9304752446072655, details={'was_impossible': False}),\n",
       " Prediction(uid='Amazon Customer', iid='Apple iPhone 6 16GB Factory Unlocked GSM 4G LTE Internal Smartphone - Space Gray', r_ui=10.0, est=7.321906246059742, details={'was_impossible': False}),\n",
       " Prediction(uid='Amazon Customer', iid='Samsung Galaxy J2 4G DUOS (Gold, 8GB)', r_ui=2.0, est=7.84491211851943, details={'was_impossible': False}),\n",
       " Prediction(uid='UnKnown', iid='Sony Ericsson W850i', r_ui=10.0, est=9.027188156169421, details={'was_impossible': False}),\n",
       " Prediction(uid='Юрий', iid='Sony Xperia Z1 (белый)', r_ui=10.0, est=8.947244012933806, details={'was_impossible': False}),\n",
       " Prediction(uid='?????????????????�', iid='Sony Xperia E dual (?????�??????)', r_ui=8.0, est=6.803542128233878, details={'was_impossible': False}),\n",
       " Prediction(uid='UnKnown', iid='Samsung Galaxy S Plus GT-I9001', r_ui=10.0, est=7.892995338575528, details={'was_impossible': False}),\n",
       " Prediction(uid='UnKnown', iid='Nokia 7310 Supernova', r_ui=4.0, est=7.085186865670726, details={'was_impossible': False}),\n",
       " Prediction(uid='ana', iid='Lenovo Motorola Moto G (3a Generación) - Smartphone libre Android (4G, 5\", 13 MP, 8 GB, 1 GB de RAM), color negro', r_ui=10.0, est=6.183314776941956, details={'was_impossible': False}),\n",
       " Prediction(uid='UnKnown', iid='Nokia 3600 Slide', r_ui=10.0, est=8.959291469204476, details={'was_impossible': False}),\n",
       " Prediction(uid='e-bit', iid='Celular Motorola EX115', r_ui=8.0, est=7.081641768036626, details={'was_impossible': False}),\n",
       " Prediction(uid='einer Kundin', iid='Samsung Galaxy S7 edge Smartphone, 13,9 cm (5,5 Zoll) Display, LTE (4G)', r_ui=8.0, est=9.370098307463135, details={'was_impossible': False}),\n",
       " Prediction(uid='Amazon Customer', iid='OnePlus X (Onyx, 16GB)', r_ui=6.0, est=7.425082632476295, details={'was_impossible': False}),\n",
       " Prediction(uid='Marcel', iid='Huawei P8 Lite wit / 16 GB', r_ui=8.0, est=8.747234099057849, details={'was_impossible': False}),\n",
       " Prediction(uid='Kindle Customer', iid='Tracfone LG Optimus Dynamic II - LG39C - Android Prepaid Phone with Triple Minutes (Tracfone)', r_ui=4.0, est=8.128242208901986, details={'was_impossible': False}),\n",
       " Prediction(uid='Екатерина', iid='HTC Desire 620G Dual SIM (серый)', r_ui=10.0, est=2.3534825481520305, details={'was_impossible': False}),\n",
       " Prediction(uid='e-bit', iid='Smartphone Samsung Galaxy Gran Prime TV SM-G530', r_ui=10.0, est=9.260931069452905, details={'was_impossible': False}),\n",
       " Prediction(uid='Илья', iid='Samsung S5830 Galaxy Ace', r_ui=10.0, est=7.978383016767979, details={'was_impossible': False}),\n",
       " Prediction(uid='UnKnown', iid='Lenovo IdeaPhone A706', r_ui=4.0, est=7.225151291692349, details={'was_impossible': False}),\n",
       " Prediction(uid='UnKnown', iid='Nokia N8', r_ui=2.0, est=7.8303813147334544, details={'was_impossible': False}),\n",
       " Prediction(uid='Sam', iid='Apple iPhone 6 Space Grau 128GB SIM-Free Smartphone (Zertifiziert und Generalüberholt)', r_ui=10.0, est=8.35455873243675, details={'was_impossible': False}),\n",
       " Prediction(uid='Amazon Customer', iid='HTC Desire 626S No Contract Phone White (Virgin Mobile)', r_ui=10.0, est=6.370702516584537, details={'was_impossible': False}),\n",
       " Prediction(uid='e-bit', iid='Smartphone Samsung Galaxy Gran Prime SM-G531', r_ui=10.0, est=8.734040920281675, details={'was_impossible': False}),\n",
       " Prediction(uid='UnKnown', iid='Nokia N8', r_ui=10.0, est=7.8303813147334544, details={'was_impossible': False}),\n",
       " Prediction(uid='Paulo', iid='Samsung Ch@t 322', r_ui=10.0, est=7.551581503508736, details={'was_impossible': True, 'reason': 'User and item are unknown.'}),\n",
       " Prediction(uid='einem Kunden', iid='Samsung Galaxy S7 edge Smartphone, 13,9 cm (5,5 Zoll) Display, LTE (4G)', r_ui=10.0, est=9.03905998370578, details={'was_impossible': False}),\n",
       " Prediction(uid='einer Kundin', iid='Apple iPhone 7 4,7\" 32 GB', r_ui=10.0, est=9.93915583123318, details={'was_impossible': False}),\n",
       " Prediction(uid='UnKnown', iid='Nokia 8310', r_ui=10.0, est=7.75433645165572, details={'was_impossible': False}),\n",
       " Prediction(uid='UnKnown', iid='LG Optimus Black P970', r_ui=10.0, est=7.625573315399941, details={'was_impossible': False}),\n",
       " Prediction(uid='einer Kundin', iid='LG Stylus 2 Smartphone, 14,5 cm (5,7 Zoll) Display, LTE (4G), Android 6.0 (Marshmallow)', r_ui=8.0, est=8.978769098276924, details={'was_impossible': False}),\n",
       " Prediction(uid='UnKnown', iid='Samsung Omnia LITE GT-B7300', r_ui=4.0, est=8.498219045044017, details={'was_impossible': False}),\n",
       " Prediction(uid='einem Kunden', iid='Samsung Galaxy S7 edge Smartphone, 13,9 cm (5,5 Zoll) Display, LTE (4G)', r_ui=10.0, est=9.03905998370578, details={'was_impossible': False}),\n",
       " Prediction(uid='Amazon Customer', iid='Mi Xiaomi Mi Max Prime (Gold, 128GB)', r_ui=6.0, est=8.028475792389075, details={'was_impossible': False}),\n",
       " Prediction(uid='Amazon Customer', iid='Apple iPhone 5s (Silver, 16GB)', r_ui=10.0, est=7.590672022464985, details={'was_impossible': False}),\n",
       " Prediction(uid='Angel', iid='Doogee X5 - Smartphone Libre 3G Android 5.1 (Quad Core, 5.0\" IPS 1280*720 HD, 1GB RAM, 8GB ROM, 5.0MP Cámara, Dual SIM, GPS, OTG) Celular, color Negro', r_ui=10.0, est=6.478595354773889, details={'was_impossible': False}),\n",
       " Prediction(uid='Adrian', iid='Samsung Galaxy J7 LTE (2016) J710M/DS 16GB - 5.5\" Dual SIM Factory Unlocked Phone (Black) - International Version', r_ui=10.0, est=9.880947269760874, details={'was_impossible': False}),\n",
       " Prediction(uid='Amazon Customer', iid='Sony Xperia XA Dual (Lime Gold)', r_ui=8.0, est=6.023596296003245, details={'was_impossible': False}),\n",
       " Prediction(uid='Michael', iid='Samsung Galaxy S7 EDGE Smartphone (5,5 Zoll (13,9 cm) Touch-Display, 32GB interner Speicher, Android OS) pink', r_ui=10.0, est=7.944142829260044, details={'was_impossible': False}),\n",
       " Prediction(uid='UnKnown', iid='Nokia N73', r_ui=10.0, est=7.645112502730929, details={'was_impossible': False}),\n",
       " Prediction(uid='UnKnown', iid='Nokia 105', r_ui=6.0, est=5.572114309318103, details={'was_impossible': False}),\n",
       " Prediction(uid='UnKnown', iid='Nokia X6 16Gb', r_ui=10.0, est=7.860747357678824, details={'was_impossible': False}),\n",
       " Prediction(uid='UnKnown', iid='Smartphone LG Optimus L3 Dual E405', r_ui=8.0, est=7.916314422192158, details={'was_impossible': False}),\n",
       " Prediction(uid='Amazon Kunde', iid='Samsung Galaxy S6 Smartphone (5,1 Zoll (12,9 cm) Touch-Display, 64 GB Speicher, Android 5.0) blau (Nur für Europäische SIM-Karte)', r_ui=10.0, est=7.564581112817717, details={'was_impossible': False}),\n",
       " Prediction(uid='UnKnown', iid='Nokia 1616', r_ui=2.0, est=6.048224593191724, details={'was_impossible': False}),\n",
       " Prediction(uid='Vanessa', iid='Apple iPhone 4S 32GB Unlocked GSM Smartphone w/ 8MP Camera w/ Siri & iCloud - Black', r_ui=8.0, est=3.8254555816782423, details={'was_impossible': False}),\n",
       " Prediction(uid='Amazon Kunde', iid='Samsung Galaxy J5 Smartphone (5 Zoll (12,7 cm) Touch-Display, 8 GB Speicher, Android 5.1) gold', r_ui=10.0, est=7.981810042940283, details={'was_impossible': False}),\n",
       " Prediction(uid='einem Kunden', iid='Sony Xperia XA Smartphone, 12,7 cm (5 Zoll) Display, LTE (4G), Android 6.0 (Marshmallow)', r_ui=10.0, est=8.92745670946258, details={'was_impossible': False}),\n",
       " Prediction(uid='Наталья', iid='Samsung Galaxy A5', r_ui=10.0, est=9.480650265133752, details={'was_impossible': False}),\n",
       " Prediction(uid='e-bit', iid='Smartphone LG G3 D855', r_ui=10.0, est=9.028765544701956, details={'was_impossible': False}),\n",
       " Prediction(uid='Amazon Customer', iid='YU Yuphoria YU5010A (Black+Silver)', r_ui=4.0, est=6.419122431417083, details={'was_impossible': False}),\n",
       " Prediction(uid='UnKnown', iid='Nokia C5-03 Cep Telefonu', r_ui=0.0, est=1, details={'was_impossible': False}),\n",
       " Prediction(uid='Дмитрий', iid='Sony Xperia M (черный)', r_ui=10.0, est=8.063421267810686, details={'was_impossible': False}),\n",
       " Prediction(uid='UnKnown', iid='HTC Desire S', r_ui=2.0, est=7.613728060579851, details={'was_impossible': False}),\n",
       " Prediction(uid='Руслан', iid='Nokia Lumia 710', r_ui=8.0, est=9.882542568943318, details={'was_impossible': False}),\n",
       " Prediction(uid='Amazon Customer', iid='Lenovo Phab 2 Plus Smartphone (Grey, JBL earphones)', r_ui=10.0, est=5.51649367068573, details={'was_impossible': False}),\n",
       " Prediction(uid='Anonymous ', iid='Samsung Galaxy S6 32GB (TracFone)', r_ui=10.0, est=9.423880276005946, details={'was_impossible': False}),\n",
       " Prediction(uid='Ravi', iid='Lenovo Zuk Z1 (White, Cyanogen OS)', r_ui=2.0, est=5.147462639071911, details={'was_impossible': False}),\n",
       " Prediction(uid='e-bit', iid='Smartphone Nokia Asha 500', r_ui=6.0, est=8.173498314436005, details={'was_impossible': False}),\n",
       " Prediction(uid='Amazon Customer', iid='Asus Zenfone Max ZC550KL-6A076IN (Black, 3GB, 32GB)', r_ui=8.0, est=7.837294306370448, details={'was_impossible': False}),\n",
       " Prediction(uid='delicate', iid='Nokia N76 Cep Telefonu', r_ui=0.0, est=1, details={'was_impossible': False}),\n",
       " Prediction(uid='Amazon Customer', iid='Samsung Galaxy J2 6 4G DUOS SM-J210FZDDINS (Gold, 8GB)', r_ui=2.0, est=7.7837054695385035, details={'was_impossible': False}),\n",
       " Prediction(uid='Alessandro', iid='Samsung G900 Galaxy S5 Smartphone, 16 GB, Nero [Italia]', r_ui=10.0, est=8.573034214363108, details={'was_impossible': False}),\n",
       " Prediction(uid='Marion', iid='Lenovo Motorola Moto G Smartphone (11,4 cm (4,5 Zoll) HD-Display, 5 Megapixel Kamera, 1,2 GHz Quad-Core-Prozessor, 16 GB interner Speicher, Android 4.3 OS) schwarz', r_ui=2.0, est=8.48654485613875, details={'was_impossible': False}),\n",
       " Prediction(uid='xawi', iid='Samsung M150 Cep Telefonu', r_ui=0.0, est=1, details={'was_impossible': False}),\n",
       " Prediction(uid='UnKnown', iid='Smartphone Nokia Lumia 530', r_ui=8.0, est=5.021919018039213, details={'was_impossible': False}),\n",
       " Prediction(uid='Amazon Customer', iid='Lenovo Vibe K4 Note (Black, 16GB)', r_ui=10.0, est=7.414843784858939, details={'was_impossible': False}),\n",
       " Prediction(uid='Leonardo', iid='Samsung Galaxy A5 (2016)', r_ui=10.0, est=6.3024564437193495, details={'was_impossible': False}),\n",
       " Prediction(uid='einer Kundin', iid='Apple iPhone 7 4,7\" 32 GB', r_ui=10.0, est=9.93915583123318, details={'was_impossible': False}),\n",
       " Prediction(uid=\"Client d'Amazon\", iid='Doogee X5 MAX 3G Smartphone MTK6580 Quad Core Android 6,0 1G + 8G 5.0\" IPS HD 1280 * 720 Pixels d\\'écran 8MP + 8MP Double Caméras Empreintes Digitalesle Geste Intelligent', r_ui=6.0, est=6.908977798233911, details={'was_impossible': False}),\n",
       " Prediction(uid='Кристина', iid='Apple iPhone 5s 16GB (серый космос)', r_ui=10.0, est=9.118680615103218, details={'was_impossible': False}),\n",
       " Prediction(uid='UnKnown', iid='Samsung Xcover GT-B2710', r_ui=10.0, est=8.570016072930086, details={'was_impossible': False}),\n",
       " Prediction(uid='UnKnown', iid='Sony Ericsson S312', r_ui=6.0, est=4.909113726018364, details={'was_impossible': False}),\n",
       " Prediction(uid='UnKnown', iid='HTC HD2', r_ui=10.0, est=7.928344908412778, details={'was_impossible': False}),\n",
       " Prediction(uid='UnKnown', iid='HTC One V', r_ui=6.0, est=7.508143380230922, details={'was_impossible': False}),\n",
       " Prediction(uid='Cliente Amazon', iid='Asus ZenFone 2 Laser Smartphone da 32 GB, Dual SIM, Nero [Italia]', r_ui=10.0, est=7.612361930764074, details={'was_impossible': False}),\n",
       " Prediction(uid='#', iid='Nokia 6700 classic', r_ui=6.0, est=6.5055457710497775, details={'was_impossible': False}),\n",
       " Prediction(uid='Amazon Customer', iid='LG Nexus 5X LG-H791 (16GB, Carbon)', r_ui=6.0, est=5.494379856099879, details={'was_impossible': False}),\n",
       " Prediction(uid='Amazon Customer', iid='Asus Zenfone Max ZC550KL-6A076IN (Black, 3GB, 32GB)', r_ui=6.0, est=7.837294306370448, details={'was_impossible': False}),\n",
       " Prediction(uid='Amazon Customer', iid='OnePlus 3 (Soft Gold, 64 GB)', r_ui=4.0, est=8.411113210606793, details={'was_impossible': False}),\n",
       " Prediction(uid='Pietro', iid=\"Huawei P9 Lite Smartphone, LTE, Display 5.2'' FHD, Processore Octa-Core Kirin 650, 16 GB Memoria Interna, 3GB RAM, Fotocamera 13 MP, Single-SIM, Android 6.0 Marshmallow, Bianco [Italia]\", r_ui=8.0, est=9.79381098135392, details={'was_impossible': False}),\n",
       " Prediction(uid='UnKnown', iid='Nokia C2-01', r_ui=10.0, est=7.670414559310613, details={'was_impossible': False}),\n",
       " Prediction(uid='UnKnown', iid='Samsung GT-S5230', r_ui=4.0, est=8.33373471543902, details={'was_impossible': False}),\n",
       " Prediction(uid='Денис', iid='LG K10 (темно-синий)', r_ui=10.0, est=7.441307852204677, details={'was_impossible': False}),\n",
       " Prediction(uid='Amazon Customer', iid='Samsung Galaxy J7 - No Contract Phone - White - (Virgin Mobile)', r_ui=2.0, est=8.399245185076026, details={'was_impossible': False}),\n",
       " Prediction(uid='Amazon Customer', iid='Apple iPhone 4 A1332 16GB White (GSM Unlocked)', r_ui=10.0, est=4.23169351599521, details={'was_impossible': False}),\n",
       " Prediction(uid='einem Kunden', iid='Samsung Galaxy S7 edge Smartphone, 13,9 cm (5,5 Zoll) Display, LTE (4G)', r_ui=10.0, est=9.03905998370578, details={'was_impossible': False}),\n",
       " Prediction(uid='claudio', iid='Samsung Galaxy S III Smartphone, Bianco [Italia]', r_ui=10.0, est=9.992536113960993, details={'was_impossible': False}),\n",
       " Prediction(uid='UnKnown', iid='Nokia N9', r_ui=10.0, est=6.98330389404043, details={'was_impossible': False}),\n",
       " Prediction(uid='e-bit', iid='Smartphone Samsung Galaxy A5 SM-A510M', r_ui=10.0, est=8.613681216972573, details={'was_impossible': False}),\n",
       " Prediction(uid='UnKnown', iid='Samsung S8500 Wave', r_ui=8.0, est=7.746874999376581, details={'was_impossible': False}),\n",
       " Prediction(uid='Chris', iid='Nokia Lumia 820 SIM-Free Smartphone - White (Windows)', r_ui=10.0, est=7.541259022371197, details={'was_impossible': False}),\n",
       " Prediction(uid='Kevin', iid='Samsung ATIV S', r_ui=10.0, est=10, details={'was_impossible': False}),\n",
       " Prediction(uid='UnKnown', iid='Nokia X3-02', r_ui=2.0, est=6.77325514503172, details={'was_impossible': False}),\n",
       " Prediction(uid='andrea', iid='Asus ZenFone 3 Smartphone, Memoria Interna da 64 GB, Dual-SIM, Bianco [Italia]', r_ui=8.0, est=9.568218150333664, details={'was_impossible': False}),\n",
       " Prediction(uid='Anonymous ', iid='Samsung Galaxy S5 16GB (Verizon)', r_ui=10.0, est=8.99111258817871, details={'was_impossible': False}),\n",
       " Prediction(uid='UnKnown', iid='Samsung S3600', r_ui=10.0, est=7.861001371031369, details={'was_impossible': False}),\n",
       " Prediction(uid='Александр', iid='Samsung Galaxy S4 mini Duos GT-I9192 (белый)', r_ui=10.0, est=6.199908097762957, details={'was_impossible': False}),\n",
       " Prediction(uid='Brian', iid='Apple iPhone 5s GSM Unlocked Cellphone, 16 GB, Space Gray', r_ui=10.0, est=6.806999349567646, details={'was_impossible': False}),\n",
       " Prediction(uid='UnKnown', iid='Sony Ericsson W200i', r_ui=6.0, est=6.747656673363767, details={'was_impossible': False}),\n",
       " Prediction(uid=\"Client d'Amazon\", iid=\"Spigen Coque Samsung Galaxy A5 2017, Spigen [Liquid Air] ** Technologie Coussin d'air ** [Noir] Flexible Soft TPU silicone / Nouveau design & Motif unique / Housse Etui Coque Pour Galaxy A5 2017, Samsung A5 2017- (573CS21143)\", r_ui=8.0, est=9.580176974199563, details={'was_impossible': False}),\n",
       " Prediction(uid='Amazon Customer', iid='OnePlus X (Onyx, 16GB)', r_ui=10.0, est=7.425082632476295, details={'was_impossible': False}),\n",
       " Prediction(uid='Amazon Customer', iid='Nokia 230 Dual Sim (Dark Silver)', r_ui=8.0, est=7.930466264581515, details={'was_impossible': False}),\n",
       " Prediction(uid='Amazon Customer', iid='Asus Zenfone 2 Laser 5.5 ZE550KL-1B122IN (White)', r_ui=10.0, est=6.883378788464512, details={'was_impossible': False}),\n",
       " Prediction(uid='Amazon Customer', iid='Mi Xiaomi Mi 4 (White, 16GB)', r_ui=10.0, est=7.304861753713211, details={'was_impossible': False}),\n",
       " Prediction(uid='Amazon Customer', iid='Samsung Galaxy J5 SM-J500H/DS GSM Factory Unlocked Smartphone, International Version (Gold)', r_ui=10.0, est=7.7265435601676415, details={'was_impossible': False}),\n",
       " Prediction(uid='Ron', iid='Motorola Moto G 4G Smartphone débloqué 4G (Ecran: 4.5 pouces - 8 Go - Android 4.4 KitKat - Micro SD) Blanc', r_ui=10.0, est=7.615806780881011, details={'was_impossible': False}),\n",
       " Prediction(uid='Amazon Customer', iid='YU Yuphoria YU5010A (Black+Silver)', r_ui=10.0, est=6.419122431417083, details={'was_impossible': False}),\n",
       " Prediction(uid='Amazon Customer', iid='Nokia Lumia 928 Verizon GSM 4G LTE Windows 8 Smartphone White', r_ui=2.0, est=4.9960287664956615, details={'was_impossible': False}),\n",
       " Prediction(uid='UnKnown', iid='LG G2 D802 32Gb', r_ui=8.0, est=9.10374230808679, details={'was_impossible': False}),\n",
       " Prediction(uid='Gabriel', iid='Microsoft Lumia 535 - Smartphone libre (pantalla 5\", cámara 5 Mp, 8 GB, 1.2 GHz, 1 GB RAM, Windows), negro (importado)', r_ui=6.0, est=8.267612062387148, details={'was_impossible': False}),\n",
       " Prediction(uid='Roberto', iid='LG K10 Smartphone da 16 GB, Schermo IPS HD da 5.3\", 4G LTE, Fotocamera 13MP con Frontale 5MP, 1.5 GB RAM, Nero [Italia]', r_ui=10.0, est=9.68196561739268, details={'was_impossible': False}),\n",
       " Prediction(uid='Amazon Kunde', iid='Sony Xperia Z Smartphone (5 Zoll (12,7 cm) Touch-Display, 16 GB Speicher, Android 4.1) schwarz', r_ui=2.0, est=6.236719211999853, details={'was_impossible': False}),\n",
       " Prediction(uid='Amazon Customer', iid='Asus Zenfone Max ZC550KL-6A068IN (Black, 2GB, 16GB)', r_ui=10.0, est=7.370691904102998, details={'was_impossible': False}),\n",
       " Prediction(uid='Misafir', iid='Samsung (936) Galaxy Ace S5830I', r_ui=0.0, est=1, details={'was_impossible': False}),\n",
       " Prediction(uid='Виктория', iid='Samsung GT-S5230 La Fleur', r_ui=6.0, est=6.8325816643322534, details={'was_impossible': False}),\n",
       " Prediction(uid='Cliente Amazon', iid='Samsung J320 Galaxy J3 (2016) Dual SIM 5\", Quad Core, 8GB LTE, Nero [Italia]', r_ui=8.0, est=8.800291661336328, details={'was_impossible': False}),\n",
       " Prediction(uid='Amazon Customer', iid='Lenovo Vibe K5 (Grey, VoLTE update)', r_ui=10.0, est=6.696442717061985, details={'was_impossible': False}),\n",
       " Prediction(uid='Елена', iid='Мобильный телефон Samsung J500H/DS Galaxy J5 Duos White (SM-J500HZWDSEK)', r_ui=8.0, est=8.492515575352742, details={'was_impossible': False}),\n",
       " Prediction(uid='Ricardo', iid='Apple iPhone 5 Unlocked Cellphone, 32GB, Black', r_ui=2.0, est=5.883815222990366, details={'was_impossible': False}),\n",
       " Prediction(uid='Rick', iid='Samsung Galaxy Note 4 4G SIM-Free Smartphone - Black', r_ui=6.0, est=9.506358975291386, details={'was_impossible': False}),\n",
       " Prediction(uid='Marco', iid='Wiko Lenny 3 Smartphone, Dual-SIM, Memoria Interna da 16 GB, Oro', r_ui=10.0, est=9.043593667623508, details={'was_impossible': False}),\n",
       " Prediction(uid='UnKnown', iid='Nokia 603', r_ui=6.0, est=8.21875874607722, details={'was_impossible': False}),\n",
       " Prediction(uid='UnKnown', iid='Sony Ericsson Xperia X10', r_ui=2.0, est=8.33749391012934, details={'was_impossible': False}),\n",
       " Prediction(uid='Ray', iid='BlackBerry Torch 9800 Unlocked Phone with 5 MP Camera, Full QWERTY Keyboard and 4 GB Internal Storage - Unlocked Phone - No Warranty - Black', r_ui=4.0, est=7.732179482388849, details={'was_impossible': False}),\n",
       " Prediction(uid='Amazon Customer', iid='Samsung Galaxy J7 SM-J700F (White) - Scheduled/4 Hour Delivery (Brand Fulfilled)', r_ui=2.0, est=6.381105796709717, details={'was_impossible': False}),\n",
       " Prediction(uid='Diego', iid='Samsung Galaxy J7 J700M, 16GB, Dual SIM LTE, Factory Unlocked - Gold (International Version)', r_ui=10.0, est=7.173077370673483, details={'was_impossible': False}),\n",
       " Prediction(uid='Олег', iid='Samsung I8190 Galaxy S III mini 8GB (белый)', r_ui=9.0, est=7.472676820948281, details={'was_impossible': False}),\n",
       " Prediction(uid=\"Client d'Amazon\", iid='Ringke ASUS ZenFone 2 (5.5 Inch) Coque - Ringke FUSION ***Capuchon Anti-Poussière & Chute Protection*** [FREE HD Film][CRYSTAL VIEW] Crystal Clair Panneau de Dos Absorption des Chocs Pare-Chocs dur étui pour ASUS ZenFone 2 [ZE550ML / ZE551ML 5.5\" - Non pour ZE500', r_ui=10.0, est=9.068070987976323, details={'was_impossible': False}),\n",
       " Prediction(uid='Andrew', iid='APPLE iPhone 7 Plus - Gold, 32 GB', r_ui=7.0, est=8.642358865682628, details={'was_impossible': False}),\n",
       " Prediction(uid='Катерина', iid='Sony Xperia M dual', r_ui=4.0, est=5.452054617629587, details={'was_impossible': False}),\n",
       " Prediction(uid='Amazon Customer', iid='Asus Zenfone 2 Laser ZE550KL ( White ,2GB Ram, 16GB )', r_ui=2.0, est=6.324591641448685, details={'was_impossible': False}),\n",
       " Prediction(uid='Anita', iid='Huawei P8 Champagne / 16 GB - Overzicht', r_ui=8.0, est=8.059947416800698, details={'was_impossible': False}),\n",
       " Prediction(uid='Amazon Kunde', iid='Sony Xperia Z3 Compact Smartphone (11,7 cm (4,6 Zoll) HD-TRILUMINOS-Display, 2,5 GHz-Quad-Core-Prozessor, 20,7 Megapixel-Kamera, Android 4.4) meergrün', r_ui=10.0, est=4.996342713167269, details={'was_impossible': False}),\n",
       " Prediction(uid='Amazon Customer', iid='Lenovo A7000 (Black)', r_ui=8.0, est=6.709081960285472, details={'was_impossible': False}),\n",
       " Prediction(uid='UnKnown', iid='LG KM900 Arena', r_ui=10.0, est=7.218316995185185, details={'was_impossible': False}),\n",
       " Prediction(uid='UnKnown', iid='Samsung Galaxy Note GT-N7000', r_ui=6.0, est=8.393241599051274, details={'was_impossible': False}),\n",
       " Prediction(uid='francesco', iid='Samsung I9060i Galaxy Grand Neo Plus Smartphone, 8 GB, Nero [Italia]', r_ui=8.0, est=9.792864107321988, details={'was_impossible': False}),\n",
       " Prediction(uid='Anthony', iid='APPLE iPhone 6s Plus - 128 GB, Rose Gold', r_ui=6.0, est=8.988963081281605, details={'was_impossible': False}),\n",
       " Prediction(uid='Amazon Customer', iid='Samsung Galaxy Note 4, Charcoal Black 32GB (Verizon Wireless)', r_ui=10.0, est=7.629067808386139, details={'was_impossible': False}),\n",
       " Prediction(uid='UnKnown', iid='Sony Ericsson Live with Walkman', r_ui=6.0, est=8.603795064108484, details={'was_impossible': False}),\n",
       " Prediction(uid='Amazon Customer', iid='Lenovo Vibe K5 (Grey)', r_ui=2.0, est=6.702405210233632, details={'was_impossible': False}),\n",
       " Prediction(uid='max', iid='Samsung GT-S5230 La Fleur', r_ui=6.0, est=5.175506833991927, details={'was_impossible': False}),\n",
       " Prediction(uid='Amazon Customer', iid='LG Nexus 5X Smartphone, Display Touch da 5,2\" Full HD, 4G/LTE, 12.3 MP + 5 MP, 2 GB RAM, 32 GB Memoria Interna...', r_ui=10.0, est=8.614667900794263, details={'was_impossible': False}),\n",
       " Prediction(uid='einem Kunden', iid='Samsung Galaxy S7 edge Smartphone, 13,9 cm (5,5 Zoll) Display, LTE (4G)', r_ui=8.0, est=9.03905998370578, details={'was_impossible': False}),\n",
       " Prediction(uid='Amazon Customer', iid='Motorola Moto X Pure Edition Unlocked Smartphone, 64 GB Black XT1575, 5.7\" Quad HD display, 21 MP Camera, Quad-core 1.8GHz', r_ui=10.0, est=8.923773096739696, details={'was_impossible': False}),\n",
       " Prediction(uid='Amazon Customer', iid='Motorola Moto G Turbo (Black, 16GB)', r_ui=8.0, est=6.457202979893483, details={'was_impossible': False}),\n",
       " Prediction(uid='UnKnown', iid='Sony Ericsson W910i', r_ui=10.0, est=7.165069334766314, details={'was_impossible': False}),\n",
       " Prediction(uid='Jordan', iid='Wiko Rainbow Smartphone WI-FI Bluetooth Android(TM) 4.2.2 (Jelly Bean) 4 Go Noir (5 pouces)', r_ui=6.0, est=7.28323924737713, details={'was_impossible': False}),\n",
       " Prediction(uid='Amazon Customer', iid='Samsung S425G Prepaid Phone With Triple Minutes (Tracfone)', r_ui=10.0, est=8.343123020995906, details={'was_impossible': False}),\n",
       " Prediction(uid='Amazon Customer', iid='Apple iPhone 5s (Silver, 16GB)', r_ui=10.0, est=7.590672022464985, details={'was_impossible': False}),\n",
       " Prediction(uid='Amazon Customer', iid='Nokia 225 (Dual SIM, Black)', r_ui=10.0, est=7.681757546112971, details={'was_impossible': False}),\n",
       " Prediction(uid='Abhishek', iid='Lenovo Vibe K5 (Silver, 16GB)', r_ui=8.0, est=7.837939499433872, details={'was_impossible': False}),\n",
       " Prediction(uid='Tobias', iid='Samsung Galaxy S5 Smartphone (5,1 Zoll (12,9 cm) Touch-Display, 16 GB Speicher, Android 4.4) electric blue', r_ui=2.0, est=7.6862101194143335, details={'was_impossible': False}),\n",
       " Prediction(uid='Александр', iid='Samsung N7100 Galaxy Note II 16GB (белый)', r_ui=0.0, est=6.76872680061226, details={'was_impossible': False}),\n",
       " Prediction(uid='Amazon Customer', iid='Lenovo Vibe K5 (Silver, 16GB)', r_ui=2.0, est=6.8753772007770095, details={'was_impossible': False}),\n",
       " Prediction(uid='Amazon Customer', iid='Apple iPhone 5s GSM Unlocked Cellphone, 16 GB, Space Gray', r_ui=10.0, est=5.538141891548915, details={'was_impossible': False}),\n",
       " Prediction(uid='Amazon Customer', iid='OnePlus 3T (Soft Gold, 6GB RAM + 64GB memory)', r_ui=8.0, est=8.918366731664548, details={'was_impossible': False}),\n",
       " Prediction(uid='Amazon Customer', iid='Lenovo Vibe K4 Note (White,16GB)', r_ui=6.0, est=7.330073400296547, details={'was_impossible': False}),\n",
       " Prediction(uid='Paolo', iid='Lenovo Motorola Moto G 4G 3 Generazione Smartphone, Display 5\", Fotocamera 13 MP, Memoria 16 GB, Android 6 Lollipop, Nero [Italia]', r_ui=10.0, est=9.316593563896511, details={'was_impossible': False}),\n",
       " Prediction(uid=\"Client d'Amazon\", iid='Samsung Galaxy J3 Smartphone débloqué 4G (Ecran: 5 Pouces - 8 Go - Micro-SIM - Android Lollipop 5.1) Noir', r_ui=6.0, est=7.670439948731904, details={'was_impossible': False}),\n",
       " Prediction(uid='Henk', iid='Nokia Lumia 800 Cyan Blue', r_ui=8.0, est=9.074226716407109, details={'was_impossible': False}),\n",
       " Prediction(uid='David', iid='Sony Xperia SP Smartphone (11,7 cm (4,6 Zoll) Touchscreen, 1,7GHz, Dual-Core, 1GB RAM, 8GB interner Speicher, 8 Megapixel Kamera, NFC, Android 4.1) weiß', r_ui=10.0, est=7.883683906990251, details={'was_impossible': False}),\n",
       " Prediction(uid='UnKnown', iid='Samsung Star GT-S5230', r_ui=8.0, est=7.342090290677522, details={'was_impossible': False}),\n",
       " Prediction(uid='Amazon Customer', iid='Lenovo A6000 (White, 8GB)', r_ui=10.0, est=6.041889330439148, details={'was_impossible': False}),\n",
       " Prediction(uid='kuzeykizi', iid='Samsung E250 Cep Telefonu - Pembe', r_ui=0.0, est=1, details={'was_impossible': False}),\n",
       " Prediction(uid='UnKnown', iid='Samsung SGH-E250', r_ui=6.0, est=6.584571239051679, details={'was_impossible': False}),\n",
       " Prediction(uid='Linda', iid='Samsung Galaxy Centura Android Prepaid Phone (TracFone)', r_ui=8.0, est=6.59256313401741, details={'was_impossible': False}),\n",
       " Prediction(uid='einem Kunden', iid='Samsung Galaxy S7 edge Smartphone, 13,9 cm (5,5 Zoll) Display, LTE (4G)', r_ui=10.0, est=9.03905998370578, details={'was_impossible': False}),\n",
       " Prediction(uid='Amazon Customer', iid='OnePlus 3T (Soft Gold, 6GB RAM + 64GB memory)', r_ui=10.0, est=8.918366731664548, details={'was_impossible': False}),\n",
       " Prediction(uid='Amazon Customer', iid='Samsung Galaxy J7 SM-J700F (White) - Scheduled/4 Hour Delivery (Brand Fulfilled)', r_ui=4.0, est=6.381105796709717, details={'was_impossible': False}),\n",
       " Prediction(uid='Anonymous', iid='HTC One X+', r_ui=10.0, est=8.974172775350432, details={'was_impossible': False}),\n",
       " Prediction(uid='Andrea', iid='LG G4 Smartphone Display IPS 5.5\" QHD, Fotocamera 16 MP, Memoria Interna 32 GB, 3 GB RAM, Colore Marrone', r_ui=10.0, est=9.032918425700666, details={'was_impossible': False}),\n",
       " Prediction(uid='Amazon Customer', iid='Mi 4i (White, 16GB)', r_ui=8.0, est=7.814508811072404, details={'was_impossible': False}),\n",
       " Prediction(uid='UnKnown', iid='Nokia 7610', r_ui=10.0, est=7.757187065560021, details={'was_impossible': False}),\n",
       " Prediction(uid='Amazon Customer', iid='LG G Flex L23 Unlocked Cellphone, International Version, 32GB, Black', r_ui=10.0, est=6.472473494370915, details={'was_impossible': False}),\n",
       " Prediction(uid='UnKnown', iid='Nokia E52', r_ui=6.0, est=6.504641425298528, details={'was_impossible': False}),\n",
       " Prediction(uid='Amazon Customer', iid='Lenovo Vibe K4 Note (Black, 16GB)', r_ui=6.0, est=7.414843784858939, details={'was_impossible': False}),\n",
       " Prediction(uid='cristina', iid='Lenovo Motorola Moto G 4G 3 Generazione Smartphone, Display 5\", Fotocamera 13 MP, Memoria 16 GB, Android 6 Lollipop, Nero [Italia]', r_ui=10.0, est=8.15644101504363, details={'was_impossible': False}),\n",
       " Prediction(uid='Игорь', iid='LG K7 (черный)', r_ui=0.0, est=1, details={'was_impossible': False}),\n",
       " Prediction(uid='UnKnown', iid='HTC Gratia', r_ui=10.0, est=6.248497993551905, details={'was_impossible': False}),\n",
       " Prediction(uid='UnKnown', iid='Nokia 6700 classic (Chrome)', r_ui=8.0, est=6.966283163524644, details={'was_impossible': False}),\n",
       " Prediction(uid='Amazon Customer', iid='OnePlus 3 (Graphite, 64 GB)', r_ui=10.0, est=8.753465227698346, details={'was_impossible': False}),\n",
       " Prediction(uid='Юлия', iid='Samsung S7270 Galaxy Ace 3 (черный)', r_ui=9.0, est=4.022744864686622, details={'was_impossible': False}),\n",
       " Prediction(uid='Татьяна', iid='Samsung N7100 Galaxy Note II 16GB (белый)', r_ui=0.0, est=6.828927705980919, details={'was_impossible': False}),\n",
       " Prediction(uid='Amazon Customer', iid='Lenovo Vibe K4 Note (Black, 16GB)', r_ui=8.0, est=7.414843784858939, details={'was_impossible': False}),\n",
       " Prediction(uid='andrea', iid='Apple iPhone 5S 16GB Argento [Italia]', r_ui=10.0, est=9.163703089276538, details={'was_impossible': False}),\n",
       " Prediction(uid='Amazon Customer', iid='Nokia 6300 SIM-Free Mobile Phone - Silver', r_ui=8.0, est=6.88649906688892, details={'was_impossible': False}),\n",
       " Prediction(uid='marco', iid='Huawei P8 Lite Smartphone, Display 5\" IPS, Processore Octa-Core 1.5 GHz, Memoria Interna da 16 GB, 2 GB RAM, Fotocamera 13 MP, monoSIM, Android 5.0, Bianco [Italia]', r_ui=8.0, est=7.307037338033673, details={'was_impossible': False}),\n",
       " Prediction(uid='UnKnown', iid='Samsung Galaxy Ace Duos GT-S6802', r_ui=6.0, est=4.984937636474504, details={'was_impossible': False}),\n",
       " Prediction(uid='UnKnown', iid='LG Optimus One P500', r_ui=10.0, est=8.01075405685021, details={'was_impossible': False}),\n",
       " Prediction(uid='Amazon Customer', iid='BLU Studio 6.0 HD - Factory Unlocked (\"Black\")', r_ui=8.0, est=6.757377300298682, details={'was_impossible': False}),\n",
       " Prediction(uid='unknown', iid='Samsung Samsung Galaxy A5 2016 - Wit', r_ui=10.0, est=9.657898427838076, details={'was_impossible': False}),\n",
       " Prediction(uid='einem Kunden', iid='Apple iPhone 7 4,7\" 32 GB', r_ui=10.0, est=9.498842021359547, details={'was_impossible': False}),\n",
       " Prediction(uid='UnKnown', iid='Nokia 5800 XpressMusic', r_ui=10.0, est=8.011480036105512, details={'was_impossible': False}),\n",
       " Prediction(uid='Денис', iid='Nokia Lumia 920 White', r_ui=8.0, est=9.015801254675228, details={'was_impossible': False}),\n",
       " Prediction(uid='sozer', iid='Nokia E51 Cep Telefonu', r_ui=0.0, est=1, details={'was_impossible': False}),\n",
       " Prediction(uid='Paolo', iid=\"Huawei P9 Lite Smartphone, LTE, Display 5.2'' FHD, Processore Octa-Core Kirin 650, 16 GB Memoria Interna, 3GB RAM, Fotocamera 13 MP, Single-SIM, Android 6.0 Marshmallow, Nero [Italia]\", r_ui=8.0, est=9.096900798093007, details={'was_impossible': False}),\n",
       " Prediction(uid='Anonymous ', iid='Samsung Galaxy S5 16GB (T-Mobile)', r_ui=10.0, est=9.20714228244034, details={'was_impossible': False}),\n",
       " Prediction(uid='Amazon Customer', iid='Lenovo Vibe K4 Note (White,16GB)', r_ui=8.0, est=7.330073400296547, details={'was_impossible': False}),\n",
       " Prediction(uid='UnKnown', iid='Samsung Galaxy Nexus GT-I9250', r_ui=8.0, est=8.408289269439654, details={'was_impossible': False}),\n",
       " Prediction(uid='Amazon Customer', iid='VIVO Y51L (Black)', r_ui=10.0, est=8.122190135152458, details={'was_impossible': False}),\n",
       " Prediction(uid='Amazon Customer', iid='OnePlus X (Onyx, 16GB)', r_ui=10.0, est=7.425082632476295, details={'was_impossible': False}),\n",
       " Prediction(uid='Adrian', iid='CT-Miami LLC BLU Life Play Unlocked Dual Sim Phone with Quad-Core 1.2GHz Processor, Android 4.2 JB, 4.7-inch IPS HD Display, 4G HSPA+ up to 42Mbps and 8MP Camera (Blue)', r_ui=10.0, est=7.700553594738325, details={'was_impossible': False}),\n",
       " Prediction(uid='Robin', iid='Samsung Galaxy S6 Smartphone (5,1 Zoll (12,9 cm) Touch-Display, 128 GB Speicher, Android 5.0) gold (Nur für Europäische SIM-Karte)', r_ui=2.0, est=8.024757771882904, details={'was_impossible': False}),\n",
       " Prediction(uid='Amazon Customer', iid='XOLO Q3000 (White)', r_ui=10.0, est=2.9325042375743005, details={'was_impossible': False}),\n",
       " Prediction(uid='e-bit', iid='Smartphone Motorola Moto G 3ª Geração XT1543 8GB', r_ui=10.0, est=8.189843965721318, details={'was_impossible': False}),\n",
       " Prediction(uid='Amazon Customer', iid='Apple iPhone 5C 8GB Factory Unlocked GSM Cell Phone - Blue', r_ui=10.0, est=5.623773881454739, details={'was_impossible': False}),\n",
       " Prediction(uid='Giuseppe', iid='Samsung I9301 Galaxy S III Neo Smartphone, 16 GB, Blu [Italia]', r_ui=10.0, est=6.884076820249036, details={'was_impossible': False}),\n",
       " Prediction(uid='Amazon Customer', iid='Lenovo Vibe K4 Note (Black, 16GB)', r_ui=10.0, est=7.414843784858939, details={'was_impossible': False}),\n",
       " Prediction(uid='UnKnown', iid='Nokia E72', r_ui=10.0, est=7.977139523391684, details={'was_impossible': False}),\n",
       " Prediction(uid='einem Kunden', iid='Samsung Galaxy S7 Smartphone, 12,9 cm (5,1 Zoll) Display, LTE (4G)', r_ui=10.0, est=9.137480108876797, details={'was_impossible': False}),\n",
       " Prediction(uid=\"Client d'Amazon\", iid='Samsung Galaxy A5 2016 Smartphone débloqué 4G (Ecran: 5,2 pouces - 16 Go - Simple Nano-SIM - Android 5.1 Lollipop) Or (Import Allemagne)', r_ui=2.0, est=7.303394023947061, details={'was_impossible': False}),\n",
       " Prediction(uid='Jaime', iid='Honor 7 - Smartphone libre de 5.2\" (4G, WiFi, Bluetooth, Dual Nano SIM, HiSilicon Kirin 935, 64 bit Super 8+1 Core, 2.2 GHz, 3 GB de RAM, 16 GB ROM, cámara de 20 MP/8 MP, Android 5.0 con EMUI 3.1), color gris', r_ui=8.0, est=8.667654692814727, details={'was_impossible': False}),\n",
       " Prediction(uid='e-bit', iid='Smartphone Samsung Galaxy J1 SM-J120H', r_ui=8.0, est=8.848846450837488, details={'was_impossible': False}),\n",
       " Prediction(uid='Amazon Customer', iid='HTC Desire 816G (Dual SIM, White)', r_ui=6.0, est=5.968726580659066, details={'was_impossible': False}),\n",
       " Prediction(uid='Артём', iid='Samsung Galaxy S4 GT-I9500 16GB (белый)', r_ui=8.0, est=6.717475561315346, details={'was_impossible': False}),\n",
       " Prediction(uid='francesco', iid='Acer Liquid E2 Duo Smartphone, Bianco [Francia]', r_ui=10.0, est=9.58813740228663, details={'was_impossible': False}),\n",
       " Prediction(uid='Amazon Customer', iid='Mi 4i (Grey, 16GB)', r_ui=2.0, est=6.085624618303026, details={'was_impossible': False}),\n",
       " Prediction(uid='Amazon Customer', iid='OnePlus 2 (Sandstone Black, 64GB)', r_ui=8.0, est=6.684315003749008, details={'was_impossible': False}),\n",
       " Prediction(uid='Amazon Customer', iid='Lenovo Vibe K5 (Gold, VoLTE update)', r_ui=2.0, est=6.302295614667292, details={'was_impossible': False}),\n",
       " Prediction(uid='Евгений', iid='Sony Xperia Z (черный)', r_ui=10.0, est=5.17621684479788, details={'was_impossible': False}),\n",
       " Prediction(uid='alex', iid='Asus ZenFone 2 Selfie Smartphone, 32 GB, Dual SIM, Aqua Blu [Italia]', r_ui=8.0, est=8.696099459556718, details={'was_impossible': False}),\n",
       " Prediction(uid='Sebastian', iid='Microsoft Lumia 950 XL Smartphone 14,5 cm(5,7 Zoll) (Touch-Display, 32 GB Speicher, Windows 10) schwarz', r_ui=10.0, est=8.115947638715166, details={'was_impossible': False}),\n",
       " Prediction(uid='UnKnown', iid='Sony Ericsson C702i', r_ui=10.0, est=7.820692831479362, details={'was_impossible': False}),\n",
       " Prediction(uid='UnKnown', iid='HTC Incredible S', r_ui=10.0, est=7.737097769959225, details={'was_impossible': False}),\n",
       " Prediction(uid=\"Client d'Amazon\", iid='Honor 8 Smartphone débloqué 4G (Ecran: 5,2 pouces - 32 Go - Double Nano-SIM - Android 6.0) Blanc Nacré', r_ui=10.0, est=9.242833557367177, details={'was_impossible': False}),\n",
       " Prediction(uid='Amazon Kunde', iid='Samsung Galaxy S5 mini Smartphone (4,5 Zoll (11,4 cm) Touch-Display, 16 GB Speicher, Android 4.4) gold', r_ui=10.0, est=6.9304752446072655, details={'was_impossible': False}),\n",
       " Prediction(uid='Amazon Customer', iid='Lenovo Vibe K5 (Grey)', r_ui=8.0, est=6.702405210233632, details={'was_impossible': False}),\n",
       " Prediction(uid='Amazon Customer', iid='Nokia 105 (Black)', r_ui=2.0, est=6.055766711880681, details={'was_impossible': False}),\n",
       " Prediction(uid='UnKnown', iid='ASUS Zenfone 6 16Gb', r_ui=8.0, est=6.732408876778107, details={'was_impossible': False}),\n",
       " Prediction(uid='Jack', iid='Motorola RAZRi UK Sim Free Smartphone', r_ui=10.0, est=8.620792628043862, details={'was_impossible': False}),\n",
       " Prediction(uid='e-bit', iid='Celular Motorola EX115', r_ui=10.0, est=7.081641768036626, details={'was_impossible': False}),\n",
       " Prediction(uid='Alex', iid='HTC One (M8) Smartphone (12,7 cm (5 Zoll) LCD-Display, Quad-Core, 2,3GHz, 2GB RAM, 5 Megapixel Frontkamera, FM-Radio, Android 4.4.2) metallgrau - [T-Mobile-Branding]', r_ui=10.0, est=7.3474129266797945, details={'was_impossible': False}),\n",
       " Prediction(uid='e-bit', iid='Smartphone Samsung Galaxy S5 SM-G900', r_ui=10.0, est=9.031230545687748, details={'was_impossible': False}),\n",
       " Prediction(uid='Amazon Customer', iid='Apple iPhone 6 16GB Factory Unlocked GSM 4G LTE Internal Smartphone - Space Gray', r_ui=4.0, est=7.321906246059742, details={'was_impossible': False}),\n",
       " Prediction(uid='Anonym', iid='Sony Ericsson G900', r_ui=8.0, est=8.901262123588598, details={'was_impossible': False}),\n",
       " Prediction(uid='Amazon Customer', iid='Honor 6X (Gold, 32GB)', r_ui=6.0, est=8.226254828266317, details={'was_impossible': False}),\n",
       " Prediction(uid='Amazon Customer', iid='Kazam Wileyfox Swift UK SIM-Free Smartphone with Swift Hard Case and Screen Protection Card - Sandstone Black', r_ui=10.0, est=8.904637397993262, details={'was_impossible': False}),\n",
       " Prediction(uid='Hans', iid='LG Electronics L40 Smartphone (8,9 cm (3,5 Zoll) Touchscreen, 1,2 GHz Dual-Core-Prozessor, 3 Megapixel Kamera, Android 4.4) weiß', r_ui=10.0, est=7.835368938977905, details={'was_impossible': False}),\n",
       " Prediction(uid='Cliente Amazon', iid='Samsung I9060i Galaxy Grand Neo Plus Smartphone, 8 GB, Bianco [Italia]', r_ui=10.0, est=7.392322536807265, details={'was_impossible': False}),\n",
       " Prediction(uid='Amazon Customer', iid='Apple iPhone 6 16GB Factory Unlocked GSM 4G LTE Internal Smartphone - Space Gray', r_ui=8.0, est=7.321906246059742, details={'was_impossible': False}),\n",
       " Prediction(uid='UnKnown', iid='LG GX300', r_ui=10.0, est=7.206912716142856, details={'was_impossible': False}),\n",
       " Prediction(uid='Amazon Customer', iid='Motorola Moto G, 4th Gen (Black, 2 GB, 16 GB)', r_ui=2.0, est=6.5650704873022905, details={'was_impossible': False}),\n",
       " Prediction(uid='Amazon Customer', iid='Apple iPhone 5s (Silver, 16GB)', r_ui=10.0, est=7.590672022464985, details={'was_impossible': False}),\n",
       " Prediction(uid='UnKnown', iid='Nokia Lumia 800', r_ui=2.0, est=5.609314052479947, details={'was_impossible': False}),\n",
       " Prediction(uid='Amazon Customer', iid='BlackBerry 9650 Bold Unlocked GSM Smartphone with 3 MP Camera, Bluetooth, 3G, Wi-Fi, and MicroSd Slot (Black)', r_ui=2.0, est=6.339227449882658, details={'was_impossible': False}),\n",
       " Prediction(uid='Amazon Customer', iid='Lenovo Vibe K4 Note (White,16GB)', r_ui=8.0, est=7.330073400296547, details={'was_impossible': False}),\n",
       " Prediction(uid='einem Kunden', iid='Apple iPhone 6s 4,7\" 128 GB', r_ui=10.0, est=9.339363240597034, details={'was_impossible': False}),\n",
       " Prediction(uid='Anonymous', iid='Samsung Eternity', r_ui=9.0, est=9.18569597147043, details={'was_impossible': False}),\n",
       " Prediction(uid='Amazon Customer', iid='LEAGOO EASYSMX Leagoo Lead 6 Smart Phone Android 4.4.2 MTK Dual-Core Processer 4.5 inch IPS Display 1600 mAh Lithium Battery Dual Camera 2G/3G Dual SIM Standby White', r_ui=10.0, est=7.086795000924804, details={'was_impossible': False}),\n",
       " Prediction(uid='Amazon Customer', iid='Samsung Flight II A927 GSM 3G Touchscreen / QWERTY Slider Phone - Gray', r_ui=10.0, est=6.499667517934333, details={'was_impossible': False}),\n",
       " Prediction(uid='UnKnown', iid='Samsung E2121B', r_ui=10.0, est=6.299314632734773, details={'was_impossible': False}),\n",
       " Prediction(uid='einem Kunden', iid='Apple iPhone 6s 4,7\" 128 GB', r_ui=10.0, est=9.339363240597034, details={'was_impossible': False}),\n",
       " Prediction(uid='einem Kunden', iid='Samsung Galaxy S8 Plus Smartphone mit 64 GB interner Speicher', r_ui=10.0, est=8.483929934684276, details={'was_impossible': False}),\n",
       " Prediction(uid='Sandra', iid='Samsung Galaxy S7 goud, roze / 32 GB', r_ui=8.0, est=7.997306015389455, details={'was_impossible': False}),\n",
       " Prediction(uid='Anonymous', iid='Sony Ericsson W580', r_ui=7.0, est=6.814464615142983, details={'was_impossible': False}),\n",
       " Prediction(uid='UnKnown', iid='Apple iPhone 4 16GB', r_ui=8.0, est=2.852253064180265, details={'was_impossible': False}),\n",
       " Prediction(uid='Андрей', iid='Samsung Galaxy S4 mini Duos GT-I9192 (черный)', r_ui=0.0, est=7.556672047524355, details={'was_impossible': False}),\n",
       " Prediction(uid='Amazon Customer', iid='HTC Desire 826 (Dual SIM, White Birch, 2GB RAM)', r_ui=2.0, est=3.22207621674438, details={'was_impossible': False}),\n",
       " Prediction(uid='UnKnown', iid='ASUS Zenfone 6 16Gb', r_ui=10.0, est=6.732408876778107, details={'was_impossible': False}),\n",
       " Prediction(uid='UnKnown', iid='OnePlus One 64Gb', r_ui=4.0, est=9.079455853716292, details={'was_impossible': False}),\n",
       " Prediction(uid='UnKnown', iid='HTC One mini', r_ui=10.0, est=7.511815999870342, details={'was_impossible': False}),\n",
       " Prediction(uid='e-bit', iid='Smartphone LG K4 K130', r_ui=10.0, est=8.177763516727088, details={'was_impossible': False}),\n",
       " Prediction(uid=\"Client d'Amazon\", iid='Samsung Galaxy J3 Smartphone débloqué 4G (Ecran: 5 Pouces - 8 Go - Micro-SIM - Android Lollipop 5.1) Noir', r_ui=8.0, est=7.670439948731904, details={'was_impossible': False}),\n",
       " Prediction(uid='Amazon Customer', iid='OnePlus 2 (Sandstone Black, 64GB)', r_ui=2.0, est=6.684315003749008, details={'was_impossible': False}),\n",
       " Prediction(uid='Pat', iid='Pantech Pocket P9060 Unlocked GSM Phone with Android 2.3 OS, Touchscreen, 5MP Camera, Video, GPS, Wi-Fi, SNS integration, MP3/MP4 Player and microSD Slot - Gray', r_ui=8.0, est=7.094856014922289, details={'was_impossible': False}),\n",
       " Prediction(uid='UnKnown', iid='Nokia E90', r_ui=10.0, est=8.455172625605808, details={'was_impossible': False}),\n",
       " Prediction(uid='e-bit', iid='Smartphone Samsung Galaxy S7 SM-G930 32GB', r_ui=8.0, est=9.022568435975701, details={'was_impossible': False}),\n",
       " Prediction(uid='UnKnown', iid='Nokia 5130 XpressMusic', r_ui=8.0, est=7.4349030112333905, details={'was_impossible': False}),\n",
       " Prediction(uid='Сергей', iid='LG P500 Optimus One', r_ui=10.0, est=9.614396993350386, details={'was_impossible': False}),\n",
       " Prediction(uid='UnKnown', iid='Samsung Star GT-S5230', r_ui=10.0, est=7.342090290677522, details={'was_impossible': False}),\n",
       " Prediction(uid='Amazon Customer', iid='Samsung Galaxy J5 SM-J500H/DS GSM Factory Unlocked Smartphone, International Version (Black)', r_ui=8.0, est=7.145412149913377, details={'was_impossible': False}),\n",
       " Prediction(uid='Amazon Customer', iid='BLU Dash JR K Smartphone - Unlocked - Black', r_ui=2.0, est=4.871460031579836, details={'was_impossible': False}),\n",
       " Prediction(uid='e-bit', iid='Celular Motorola EX115', r_ui=6.0, est=7.081641768036626, details={'was_impossible': False}),\n",
       " Prediction(uid='Amazon Customer', iid='Motorola Moto G, 4th Gen (White, 2 GB, 16 GB)', r_ui=6.0, est=5.940053611001799, details={'was_impossible': False}),\n",
       " Prediction(uid='e-bit', iid='Smartphone Samsung Galaxy S5 SM-G900', r_ui=10.0, est=9.031230545687748, details={'was_impossible': False}),\n",
       " Prediction(uid='David', iid='BlackBerry Bold 9700', r_ui=6.0, est=10, details={'was_impossible': False}),\n",
       " Prediction(uid='UnKnown', iid='Samsung B5722', r_ui=6.0, est=6.338370595066831, details={'was_impossible': False}),\n",
       " Prediction(uid='UnKnown', iid='Nokia E6', r_ui=10.0, est=6.563869615961645, details={'was_impossible': False}),\n",
       " Prediction(uid='UnKnown', iid='Nokia Lumia 800', r_ui=6.0, est=5.609314052479947, details={'was_impossible': False}),\n",
       " Prediction(uid='Amazon Customer', iid=\"ZeroLemon [180 days warranty] ZeroLemon Samsung Galaxy S III 7000mAh Extended Battery + Free Black Extended TPU Full Edge Protection Case / ***NFC for S Beam and Google Wallet***- WORLD'S HIGHEST S3 BATTERY CAPACITY - Black\", r_ui=10.0, est=9.09367816955229, details={'was_impossible': False}),\n",
       " Prediction(uid='UnKnown', iid='Nokia X3', r_ui=8.0, est=8.03393318555024, details={'was_impossible': False}),\n",
       " Prediction(uid='einer Kundin', iid='Samsung Galaxy S7 edge Smartphone, 13,9 cm (5,5 Zoll) Display, LTE (4G)', r_ui=10.0, est=9.370098307463135, details={'was_impossible': False}),\n",
       " Prediction(uid='UnKnown', iid='Samsung Galaxy Ace La Fleur GT-S5830I', r_ui=6.0, est=7.496126998321671, details={'was_impossible': False}),\n",
       " Prediction(uid='Amazon Customer', iid='Samsung Galaxy G920F-S6 32GB Factory Unlocked 5.1\" - International Sourced Version - Black', r_ui=2.0, est=5.243769709116876, details={'was_impossible': False}),\n",
       " Prediction(uid='UnKnown', iid='LG KP500', r_ui=10.0, est=7.839499327077923, details={'was_impossible': False}),\n",
       " Prediction(uid='Nicola', iid='Samsung Galaxy S7 Smartphone, 32 GB, Nero', r_ui=2.0, est=9.016217464263033, details={'was_impossible': False}),\n",
       " Prediction(uid='Steven', iid='Motorola Nexus 6 Unlocked Smartphone, 32 GB, U. S. Warranty - Midnight Blue', r_ui=10.0, est=8.545272892331893, details={'was_impossible': False}),\n",
       " Prediction(uid='UnKnown', iid='Nokia X6 8Gb', r_ui=8.0, est=8.104709328376009, details={'was_impossible': False}),\n",
       " Prediction(uid='Amazon Customer', iid=\"Samsung T379 'Gravity TXT' Unlocked Cell Phone - Black/Yellow. (2G: GSM 850 / 900 / 1800 / 1900 )\", r_ui=10.0, est=4.808368843291349, details={'was_impossible': False}),\n",
       " Prediction(uid='Александр', iid='Samsung S7270 Galaxy Ace 3 (черный)', r_ui=9.0, est=8.531382285176186, details={'was_impossible': False}),\n",
       " Prediction(uid='Amazon Customer', iid='HTC Desire 620G (Santroni White)', r_ui=8.0, est=5.3497262247761235, details={'was_impossible': False}),\n",
       " Prediction(uid='UnKnown', iid='HTC One M9', r_ui=9.0, est=8.78862070334123, details={'was_impossible': False}),\n",
       " Prediction(uid='Алина', iid='HTC 7 Mozart', r_ui=8.0, est=8.645706555803136, details={'was_impossible': False}),\n",
       " Prediction(uid='UnKnown', iid='HTC Sensation', r_ui=10.0, est=7.576791896384458, details={'was_impossible': False}),\n",
       " Prediction(uid='Amazon Customer', iid='Huawei Nexus 6P unlocked smartphone, 32GB Gold (US Warranty)', r_ui=10.0, est=7.1665472860280435, details={'was_impossible': False}),\n",
       " Prediction(uid='Amazon Customer', iid='Lenovo Vibe K4 Note (Black, 16GB)', r_ui=4.0, est=7.414843784858939, details={'was_impossible': False}),\n",
       " Prediction(uid='Amazon Customer', iid='Motorola Moto G, 4th Gen (Black, 2 GB, 16 GB)', r_ui=6.0, est=6.5650704873022905, details={'was_impossible': False}),\n",
       " Prediction(uid='Amazon Customer', iid='Sony Xperia E1 UK SIM-Free Smartphone - Black', r_ui=10.0, est=8.00660429170372, details={'was_impossible': False}),\n",
       " Prediction(uid='Amazon Customer', iid='Lenovo Vibe K4 Note (White,16GB)', r_ui=10.0, est=7.330073400296547, details={'was_impossible': False}),\n",
       " Prediction(uid='Amazon Kunde', iid='Samsung Galaxy Xcover 3 Smartphone (11,4cm (4,5 Zoll) Touch-Display, 8 GB Speicher, Android 6) dunkelgrau', r_ui=2.0, est=6.032919777891912, details={'was_impossible': False}),\n",
       " Prediction(uid='Jason', iid='Sony Xperia Z1 C6903 16GB Unlocked GSM 4G LTE WaterProof Smartphone w/ 20MP Camera and Shatter-Proof Glass - White', r_ui=6.0, est=2.9534733147958456, details={'was_impossible': False}),\n",
       " Prediction(uid='Abhishek', iid='Samsung Galaxy Grand Prime 4G SM-G531F (Gold)', r_ui=2.0, est=6.457980900501577, details={'was_impossible': False}),\n",
       " Prediction(uid='Cliente Amazon', iid='Nokia 130 Telefono Cellulare, Display da 1.8\", Dual SIM, Radio FM, Bianco [Italia]', r_ui=10.0, est=7.786786277151528, details={'was_impossible': False}),\n",
       " Prediction(uid='Ирина', iid='Samsung N7100 Galaxy Note II 16GB (серый)', r_ui=9.0, est=7.957356833305304, details={'was_impossible': False}),\n",
       " Prediction(uid='matteo', iid='Huawei Ascend P7 Smartphone, 16 GB, Nero', r_ui=10.0, est=9.219892411296453, details={'was_impossible': False}),\n",
       " Prediction(uid='UnKnown', iid='Samsung Star GT-S5230', r_ui=10.0, est=7.342090290677522, details={'was_impossible': False}),\n",
       " Prediction(uid='Amazon Customer', iid='Lenovo Used Lenovo Zuk Z1 (Space Grey, 64GB)', r_ui=8.0, est=5.604531722183784, details={'was_impossible': False}),\n",
       " Prediction(uid='Amazon Customer', iid='Lenovo Vibe K4 Note (White,16GB)', r_ui=10.0, est=7.330073400296547, details={'was_impossible': False}),\n",
       " Prediction(uid='Gast', iid='Motorola Milestone', r_ui=1.0, est=2.558677868557404, details={'was_impossible': False}),\n",
       " Prediction(uid='UnKnown', iid='Samsung C3322', r_ui=4.0, est=7.44336887667692, details={'was_impossible': False}),\n",
       " Prediction(uid='sergio', iid='BQ Aquaris E4.5 - Smartphone libre Android (pantalla 4.5 pulgadas, cámara 8 Mp, 8 GB, Quad-Core 1.3 GHz, 1 GB RAM, Android 4.4 KitKat), negro', r_ui=10.0, est=8.542509534987815, details={'was_impossible': False}),\n",
       " Prediction(uid='deliyaz', iid='Nokia 5630 XpressMusic', r_ui=0.0, est=1, details={'was_impossible': False}),\n",
       " Prediction(uid='marco', iid='Samsung A500 Galaxy A5 Smartphone, 16 GB, Nero [Italia]', r_ui=10.0, est=8.860267829268183, details={'was_impossible': False}),\n",
       " Prediction(uid='Amazon Customer', iid='Asus Zenfone Max ZC550KL-6A068IN (Black, 2GB, 16GB)', r_ui=10.0, est=7.370691904102998, details={'was_impossible': False}),\n",
       " Prediction(uid='Amazon Customer', iid='Nokia 130 (Dual SIM, White)', r_ui=8.0, est=7.069061512313518, details={'was_impossible': False}),\n",
       " Prediction(uid='Christine', iid='Lenovo Motorola Gleam Handy (ohne Branding, 6,1 cm (2,4 Zoll) TFT-Display, 2 Megapixel Kamera) grau', r_ui=6.0, est=4.797253306300373, details={'was_impossible': False}),\n",
       " Prediction(uid='carlos', iid='BLU Studio 5.0 C HD Unlocked Cellphone, Black', r_ui=8.0, est=7.05191178322706, details={'was_impossible': False}),\n",
       " Prediction(uid='Amazon Customer', iid='Lenovo Vibe K4 Note (White,16GB)', r_ui=10.0, est=7.330073400296547, details={'was_impossible': False}),\n",
       " Prediction(uid='Amazon Customer', iid='Apple iPhone 4S 16GB (Black) - Locked to Sprint', r_ui=6.0, est=6.454129891524853, details={'was_impossible': False}),\n",
       " Prediction(uid='Amazon Customer', iid='Samsung Galaxy J2 4G DUOS (Gold, 8GB)', r_ui=10.0, est=7.84491211851943, details={'was_impossible': False}),\n",
       " Prediction(uid='UnKnown', iid='Sony Ericsson K550i', r_ui=8.0, est=8.279179039243273, details={'was_impossible': False}),\n",
       " Prediction(uid='Cliente Amazon', iid='Samsung G935 Galaxy S7 Edge Smartphone da 32GB, Argento [Italia]', r_ui=10.0, est=7.728646157680071, details={'was_impossible': False}),\n",
       " Prediction(uid='Amazon Customer', iid='YU Yuphoria YU5010A (Black+Silver)', r_ui=8.0, est=6.419122431417083, details={'was_impossible': False}),\n",
       " Prediction(uid='Harry', iid='Huawei P8 Champagne / 16 GB - Overzicht', r_ui=9.0, est=7.759213177596098, details={'was_impossible': False}),\n",
       " Prediction(uid='UnKnown', iid='LG Optimus L3 E400', r_ui=2.0, est=7.4494160887757594, details={'was_impossible': False}),\n",
       " Prediction(uid='Cliente Amazon', iid='Samsung J710 Galaxy J7 Smartphone da 16 GB, Nero [Italia]', r_ui=2.0, est=9.297469391462258, details={'was_impossible': False}),\n",
       " Prediction(uid='Катерина', iid='Samsung S7270 Galaxy Ace 3 (красный)', r_ui=10.0, est=6.166903398727132, details={'was_impossible': False}),\n",
       " Prediction(uid='Amazon Customer', iid='HTC T8788 7 Surround Unlocked Phone with Windows 7, Surround Sound, 5MP Camera and HD Video - US Warranty - Black', r_ui=8.0, est=3.227672555536647, details={'was_impossible': False}),\n",
       " Prediction(uid='Amazon Customer', iid='Lenovo A850 (White)', r_ui=2.0, est=6.5555972591742915, details={'was_impossible': False}),\n",
       " Prediction(uid='UnKnown', iid='Nokia 5800 XpressMusic', r_ui=10.0, est=8.011480036105512, details={'was_impossible': False}),\n",
       " Prediction(uid='Дмитрий', iid='Apple iPhone 5s 16GB (серый космос)', r_ui=9.0, est=9.697200685308538, details={'was_impossible': False}),\n",
       " Prediction(uid='Amazon Customer', iid='Sony Xperia Z Ultra C6833 Factory Unlocked International Version No Warranty LTE LTE 800 / 850 / 900 / 1700 / 1800 / 1900 / 2100 / 2600 3G 850/1900/1700/900/2100 White', r_ui=10.0, est=7.7760789022219505, details={'was_impossible': False}),\n",
       " Prediction(uid='UnKnown', iid='Samsung Galaxy W GT-I8150', r_ui=10.0, est=5.596646456839399, details={'was_impossible': False}),\n",
       " Prediction(uid='Amazon Customer', iid='Lenovo Used Lenovo Zuk Z1 (Space Grey, 64GB)', r_ui=10.0, est=5.604531722183784, details={'was_impossible': False}),\n",
       " Prediction(uid='Lee', iid='Samsung Galaxy J3 2016 Sim Free Mobile Phone - Black', r_ui=10.0, est=8.907522486222632, details={'was_impossible': False}),\n",
       " Prediction(uid='Amazon Customer', iid='Samsung Galaxy J7 - No Contract Phone - White - (Virgin Mobile)', r_ui=10.0, est=8.399245185076026, details={'was_impossible': False}),\n",
       " Prediction(uid='UnKnown', iid='HTC Sensation', r_ui=8.0, est=7.576791896384458, details={'was_impossible': False}),\n",
       " Prediction(uid='scofield', iid='Nokia E90 Cep Telefonu', r_ui=0.0, est=1, details={'was_impossible': False}),\n",
       " Prediction(uid=\"Client d'Amazon\", iid='ebestStar pour Samsung Galaxy S7 edge SM-G935F G935 - Film protection écran en VERRE Trempé INCURVE anti casse anti-rayures, Couleur Transparent', r_ui=10.0, est=3.163135388173629, details={'was_impossible': False}),\n",
       " Prediction(uid='UnKnown', iid='Samsung C3530', r_ui=6.0, est=6.625055841867425, details={'was_impossible': False}),\n",
       " Prediction(uid='UnKnown', iid='Nokia C5-03', r_ui=4.0, est=6.976156105333219, details={'was_impossible': False}),\n",
       " Prediction(uid='Amazon-Kunde', iid='Sony Ericsson Mix Walkman Smartphone (7,6 cm (3,0 Zoll) Display, Touchscreen, 3,15 Megapixel Kamera) grün/schwarz', r_ui=2.0, est=7.6166958769849415, details={'was_impossible': False}),\n",
       " Prediction(uid='UnKnown', iid='Sony Ericsson M600i', r_ui=10.0, est=7.904091574676043, details={'was_impossible': False}),\n",
       " Prediction(uid='Amazon Customer', iid='Mi 4i (White, 16GB)', r_ui=2.0, est=7.814508811072404, details={'was_impossible': False}),\n",
       " Prediction(uid='UnKnown', iid='Nokia 5800 XpressMusic', r_ui=10.0, est=8.011480036105512, details={'was_impossible': False}),\n",
       " Prediction(uid='UnKnown', iid='Nokia X6 32Gb', r_ui=8.0, est=7.892207030777056, details={'was_impossible': False}),\n",
       " Prediction(uid='UnKnown', iid='Sony Ericsson W705', r_ui=10.0, est=8.350996778917159, details={'was_impossible': False}),\n",
       " Prediction(uid='christian', iid='Asus ZenFone 2 Laser Smartphone da 32 GB, Dual SIM, Bianco [Italia]', r_ui=10.0, est=9.025572981413326, details={'was_impossible': False}),\n",
       " Prediction(uid='UnKnown', iid='Nokia Lumia 820', r_ui=4.0, est=7.412311007242348, details={'was_impossible': False}),\n",
       " Prediction(uid='Amazon Customer', iid='OnePlus One (Sandstone Black, 64GB)', r_ui=2.0, est=7.200203637292218, details={'was_impossible': False}),\n",
       " Prediction(uid='Amazon Customer', iid='Motorola Moto G 3rd Generation (Black, 8GB)', r_ui=6.0, est=7.6665075688513795, details={'was_impossible': False}),\n",
       " Prediction(uid='Rahul', iid='Motorola ROKR EM30', r_ui=0.0, est=5.136708708662468, details={'was_impossible': False}),\n",
       " Prediction(uid='Светлана', iid='Sony Xperia C (черный)', r_ui=8.0, est=7.0399929243861346, details={'was_impossible': False}),\n",
       " Prediction(uid='Amazon Customer', iid='OnePlus 3 (Soft Gold, 64 GB)', r_ui=10.0, est=8.411113210606793, details={'was_impossible': False}),\n",
       " Prediction(uid='UnKnown', iid='Motorola RAZR MAXX', r_ui=6.0, est=7.675549554404753, details={'was_impossible': False}),\n",
       " Prediction(uid='Amazon Customer', iid='Samsung Guru GT-E1200 (Indigo Blue)', r_ui=8.0, est=7.831654658209464, details={'was_impossible': False}),\n",
       " Prediction(uid='Amazon Customer', iid='Lenovo Vibe X3 (White, 32GB)', r_ui=10.0, est=8.162761470264986, details={'was_impossible': False}),\n",
       " Prediction(uid='UnKnown', iid='Lenovo A316i', r_ui=2.0, est=6.295226879172778, details={'was_impossible': False}),\n",
       " Prediction(uid='Amazon Customer', iid='Lenovo Vibe K5 (Gold, VoLTE update)', r_ui=8.0, est=6.302295614667292, details={'was_impossible': False}),\n",
       " Prediction(uid='Cliente Amazon', iid='LG D855 G3 Smartphone, 16 GB, Nero Metallico [Italia]', r_ui=6.0, est=8.713862885734855, details={'was_impossible': False}),\n",
       " Prediction(uid='Luis', iid='Samsung Galaxy S5 G900F Unlocked Cellphone, International Version, Retail Packaging, White', r_ui=10.0, est=8.295937887227353, details={'was_impossible': False}),\n",
       " Prediction(uid='Валерий', iid='Samsung Galaxy S4 mini GT-I9190 (белый)', r_ui=8.0, est=6.875042873086155, details={'was_impossible': False}),\n",
       " Prediction(uid='Filippo', iid='Huawei P8 lite Smartphone, Display 5.0\" IPS, Dual Sim, Processore Octa-Core, Memoria 16 GB, Fotocamera 13 MP, Android 5.0, Bianco', r_ui=10.0, est=8.562294448165712, details={'was_impossible': False}),\n",
       " Prediction(uid='Amazon Customer', iid='ASUS ZenFone 3 MAX ZC520TL Smartphone, 5.2-inch, 16GB (Glacier Silver)', r_ui=10.0, est=7.4955381081947206, details={'was_impossible': False}),\n",
       " Prediction(uid='Cliente Amazon', iid='Samsung Galaxy S7 Smartphone, 32 GB, Nero', r_ui=10.0, est=8.547099665762747, details={'was_impossible': False}),\n",
       " Prediction(uid='Amazon Customer', iid='Samsung Galaxy S4 GT-I9500 (White Frost, 16GB)', r_ui=10.0, est=6.713182887225519, details={'was_impossible': False}),\n",
       " Prediction(uid='Anonymous', iid='LG RUMOR', r_ui=7.0, est=5.076898210893653, details={'was_impossible': False}),\n",
       " Prediction(uid='Cliente Amazon', iid='BQ Aquaris X5 - Smartphone de 5\" (WiFi, 2 GB de RAM, memoria interna de 16 GB, cámara 13 MP, Android 5.1) negro y gris antracito - Reacondicionado oficial', r_ui=2.0, est=7.7125640046709165, details={'was_impossible': False}),\n",
       " Prediction(uid='Amazon Customer', iid='OnePlus 3T (Gunmetal, 6GB RAM + 64GB memory)', r_ui=10.0, est=8.189953972636042, details={'was_impossible': False}),\n",
       " Prediction(uid='UnKnown', iid='Siemens CX65', r_ui=10.0, est=8.778556578854829, details={'was_impossible': False}),\n",
       " Prediction(uid='UnKnown', iid='SCH-A530', r_ui=10.0, est=8.295598182381154, details={'was_impossible': False}),\n",
       " Prediction(uid='UnKnown', iid='Lenovo K900 16Gb', r_ui=10.0, est=7.928378139150655, details={'was_impossible': False}),\n",
       " Prediction(uid='UnKnown', iid='Nokia X2 Dual sim', r_ui=10.0, est=5.958046145382037, details={'was_impossible': False}),\n",
       " Prediction(uid='Chris', iid='ASUS ZenFone 2 Unlocked Cellphone, 64GB, Black (U.S. Warranty)', r_ui=8.0, est=6.474613956154382, details={'was_impossible': False}),\n",
       " Prediction(uid='Александр', iid='Samsung N7100 Galaxy Note II 16GB (белый)', r_ui=10.0, est=6.76872680061226, details={'was_impossible': False}),\n",
       " Prediction(uid='Amazon Customer', iid='Microsoft Nokia X6 16GB Smartphone (GPS, WLAN, UMTS, 5 MP, Ovi Karten) black/black', r_ui=10.0, est=4.788798081556528, details={'was_impossible': False}),\n",
       " Prediction(uid='UnKnown', iid='Alcatel OneTouch 708', r_ui=8.0, est=7.280610324545216, details={'was_impossible': False}),\n",
       " Prediction(uid='UnKnown', iid='Sony Ericsson G700', r_ui=10.0, est=7.596215701920694, details={'was_impossible': False}),\n",
       " Prediction(uid='Amazon Customer', iid='Nokia 130 (Dual SIM, Black)', r_ui=2.0, est=6.356925558791584, details={'was_impossible': False}),\n",
       " Prediction(uid='UnKnown', iid='HTC One V', r_ui=8.0, est=7.508143380230922, details={'was_impossible': False}),\n",
       " Prediction(uid='Anita', iid='Huawei P8 Lite Negro de 16GB con 4G, Dual SIM, pantalla HD de 5 pulgadas y cámara de 13 mpx', r_ui=4.0, est=7.551581503508736, details={'was_impossible': True, 'reason': 'User and item are unknown.'}),\n",
       " Prediction(uid='Amazon Kunde', iid='Huawei Ascend G 615 Smartphone (11,4 cm (4,5 Zoll) Touchscreen, 8 Megapixel Kamera, 8 GB Interner Speicher, Android 4.0) schwarz', r_ui=6.0, est=4.184618649084035, details={'was_impossible': False}),\n",
       " Prediction(uid='Matthew', iid='Samsung Galaxy S III (S3) (Virgin Mobile)', r_ui=8.0, est=8.42405064105977, details={'was_impossible': False}),\n",
       " Prediction(uid='Amazon Customer', iid='OnePlus One (Sandstone Black, 64GB)', r_ui=6.0, est=7.200203637292218, details={'was_impossible': False}),\n",
       " Prediction(uid='Amazon Customer', iid='Lenovo Vibe K4 Note (Black, 16GB)', r_ui=8.0, est=7.414843784858939, details={'was_impossible': False}),\n",
       " Prediction(uid='UnKnown', iid='Samsung Galaxy Ace II GT-I8160', r_ui=10.0, est=7.625590010869901, details={'was_impossible': False}),\n",
       " Prediction(uid='Amazon Kunde', iid='Sony Xperia Z Smartphone (12,7 cm (5 Zoll) Touchscreen, Quad-Core, 1,5GHz, 2GB RAM, 16GB HDD, 13 Megapixel Kamera, Android 4.1) violett', r_ui=2.0, est=5.577014731999268, details={'was_impossible': False}),\n",
       " Prediction(uid='Cliente Amazon', iid='Lenovo Motorola Moto E 2a Generazione Smartphone, LTE, 8 GB, RAM 1 GB, Bianco [Italia]', r_ui=10.0, est=8.460345293639612, details={'was_impossible': False}),\n",
       " Prediction(uid='Amazon Customer', iid='Motorola Moto X Pure Edition Unlocked Smartphone, 64 GB Black XT1575, 5.7\" Quad HD display, 21 MP Camera, Quad-core 1.8GHz', r_ui=10.0, est=8.923773096739696, details={'was_impossible': False}),\n",
       " Prediction(uid='Dennis', iid='TP-Link AC1300 Wireless Dual Band PCI-Express Adapter (Archer T6E)', r_ui=10.0, est=10, details={'was_impossible': False}),\n",
       " Prediction(uid='?????????????????�', iid='Samsung i8160 Galaxy Ace 2', r_ui=10.0, est=8.625642679196556, details={'was_impossible': False}),\n",
       " Prediction(uid='Amazon Customer', iid='Samsung Galaxy Note 4 N910a 32GB Unlocked GSM 4G LTE Smartphone White', r_ui=10.0, est=5.0836109347768375, details={'was_impossible': False}),\n",
       " Prediction(uid='Amazon Customer', iid='VIVO V5 (Crown gold, 32 GB) (4 GB RAM)', r_ui=4.0, est=7.487461993840325, details={'was_impossible': False}),\n",
       " Prediction(uid='UnKnown', iid='HTC Desire 601', r_ui=8.0, est=7.546100295381597, details={'was_impossible': False}),\n",
       " Prediction(uid='Amazon Customer', iid='Asus ZenFone 2 Unlocked Cellphone, 64GB, Red (U.S. Warranty)', r_ui=8.0, est=4.078450802884873, details={'was_impossible': False}),\n",
       " Prediction(uid='UnKnown', iid='Samsung C3530', r_ui=8.0, est=6.625055841867425, details={'was_impossible': False}),\n",
       " Prediction(uid='Victor', iid='Nokia N82', r_ui=8.0, est=8.628775003536052, details={'was_impossible': False}),\n",
       " Prediction(uid='UnKnown', iid='Nokia 5130 XpressMusic', r_ui=10.0, est=7.4349030112333905, details={'was_impossible': False}),\n",
       " Prediction(uid='Amazon Customer', iid='Microsoft Lumia 640 (Black, 8GB)', r_ui=8.0, est=8.768523321486931, details={'was_impossible': False}),\n",
       " Prediction(uid='Екатерина', iid='Samsung I8190 Galaxy S III mini 8GB (синий)', r_ui=9.0, est=7.539046641909074, details={'was_impossible': False}),\n",
       " Prediction(uid='Claudia', iid='Sony Xperia V Smartphone (10,9 cm (4,3 Zoll) Touchscreen, Qualcomm Krait, Dual-Core, 1,5GHz, 1GB RAM, 8GB HDD, 13 Megapixel Kamera, Android 4.0) schwarz', r_ui=10.0, est=8.461688491504487, details={'was_impossible': False}),\n",
       " Prediction(uid='Amazon Customer', iid='Lenovo Vibe K5 (Silver, 16GB)', r_ui=2.0, est=6.8753772007770095, details={'was_impossible': False}),\n",
       " Prediction(uid='Amazon Customer', iid='OnePlus 3 (Soft Gold, 64 GB)', r_ui=6.0, est=8.411113210606793, details={'was_impossible': False}),\n",
       " Prediction(uid='Amazon Customer', iid='OnePlus 3T (Gunmetal, 6GB RAM + 64GB memory)', r_ui=10.0, est=8.189953972636042, details={'was_impossible': False}),\n",
       " Prediction(uid='UnKnown', iid='Apple iPhone 5 16Gb', r_ui=10.0, est=7.2590309272551465, details={'was_impossible': False}),\n",
       " Prediction(uid='UnKnown', iid='Huawei Ascend P1 XL', r_ui=8.0, est=8.439203839725614, details={'was_impossible': False}),\n",
       " Prediction(uid='Roman', iid='Samsung Galaxy S5 Mini G800H Unlocked Cellphone, International Version, 16GB, Black', r_ui=10.0, est=8.925523042128262, details={'was_impossible': False}),\n",
       " Prediction(uid='UnKnown', iid='Nokia Lumia 925', r_ui=4.0, est=7.875581159760436, details={'was_impossible': False}),\n",
       " Prediction(uid='Jose', iid='Sony Xperia L - Smartphone libre Android (pantalla 4.3\", cámara 8 Mp, 8 GB, Dual-Core 1 GHz, 1 GB RAM), blanco (importado)', r_ui=10.0, est=7.261024724952496, details={'was_impossible': False}),\n",
       " Prediction(uid='Amazon Customer', iid='OnePlus 3 (Graphite, 64 GB)', r_ui=2.0, est=8.753465227698346, details={'was_impossible': False}),\n",
       " Prediction(uid='Martin', iid='Nokia C1-01', r_ui=6.0, est=1, details={'was_impossible': False}),\n",
       " Prediction(uid='Amazon Customer', iid='ZTE Z222 Unlocked Flip Phone with Camera', r_ui=2.0, est=6.817601677026081, details={'was_impossible': False}),\n",
       " Prediction(uid='Amazon Kunde', iid='Samsung Galaxy S5 neo Smartphone (5,1 Zoll (12,9 cm) Touch-Display, 16 GB Speicher, Android 5.1) silber', r_ui=10.0, est=6.543970644561883, details={'was_impossible': False}),\n",
       " Prediction(uid='Amazon Customer', iid='OnePlus 3 (Soft Gold, 64 GB)', r_ui=10.0, est=8.411113210606793, details={'was_impossible': False}),\n",
       " Prediction(uid='UnKnown', iid='Nokia 6101', r_ui=8.0, est=8.3164740936374, details={'was_impossible': False}),\n",
       " Prediction(uid='Алексей', iid='Lenovo A1000 (белый)', r_ui=9.0, est=6.827516426438764, details={'was_impossible': False}),\n",
       " Prediction(uid='Amazon Customer', iid='Lenovo Vibe K5 (Gold, VoLTE update)', r_ui=2.0, est=6.302295614667292, details={'was_impossible': False}),\n",
       " Prediction(uid='Amazon Customer', iid='OnePlus 3 (Soft Gold, 64 GB)', r_ui=10.0, est=8.411113210606793, details={'was_impossible': False}),\n",
       " Prediction(uid='Christian', iid='Samsung E1100 Handy black', r_ui=10.0, est=9.000556162264084, details={'was_impossible': False}),\n",
       " Prediction(uid='UnKnown', iid='Nokia 3100', r_ui=10.0, est=9.11134577956325, details={'was_impossible': False}),\n",
       " Prediction(uid='jorge', iid='Samsung Galaxy S4 Mini - Smartphone libre Android (pantalla 4.3\", cámara 8 Mp, 8 GB, 1.7 GHz, 1.5 GB RAM), negro', r_ui=2.0, est=8.355738906755612, details={'was_impossible': False}),\n",
       " Prediction(uid='Amazon Customer', iid='Lenovo A6000 (White, 8GB)', r_ui=2.0, est=6.041889330439148, details={'was_impossible': False}),\n",
       " Prediction(uid='einer Kundin', iid='Sony Xperia XA Smartphone, 12,7 cm (5 Zoll) Display, LTE (4G), Android 6.0 (Marshmallow)', r_ui=8.0, est=9.406381960548003, details={'was_impossible': False}),\n",
       " Prediction(uid='Anonymous ', iid='Samsung Galaxy S III 16GB (Boost Mobile)', r_ui=10.0, est=9.490014533547178, details={'was_impossible': False}),\n",
       " Prediction(uid='Amazon Kunde', iid='Samsung SGH-U800 Soul (3MP Kamera, Bluetooth, MP3-Player) soul-grey Handy ohne Vertrag, ohne Branding, kein Simlock', r_ui=10.0, est=8.137855887986792, details={'was_impossible': False}),\n",
       " Prediction(uid='UnKnown', iid='LG KP500', r_ui=10.0, est=7.839499327077923, details={'was_impossible': False}),\n",
       " Prediction(uid='Amazon Customer', iid='Motorola Moto G, 4th Gen (Black, 2 GB, 16 GB)', r_ui=2.0, est=6.5650704873022905, details={'was_impossible': False}),\n",
       " Prediction(uid='UnKnown', iid='Sony Ericsson Xperia ray', r_ui=10.0, est=7.599747565073087, details={'was_impossible': False}),\n",
       " Prediction(uid='Amazon Customer', iid='Motorola Moto E 2nd Generation (4G, Black)', r_ui=8.0, est=6.7114294990365755, details={'was_impossible': False}),\n",
       " Prediction(uid='Lee', iid='Samsung Galaxy S3, Blue 16GB (Verizon Wireless)', r_ui=2.0, est=5.222356282237796, details={'was_impossible': False}),\n",
       " Prediction(uid='Amazon Customer', iid='Apple iPhone 5s (Silver, 16GB)', r_ui=2.0, est=7.590672022464985, details={'was_impossible': False}),\n",
       " Prediction(uid='claudia', iid='Nokia C2-05', r_ui=10.0, est=6.938276036609278, details={'was_impossible': False}),\n",
       " Prediction(uid='Dave', iid='Nokia Lumia 920 RM-821 32GB Black Windows 8 Smartphone 4G LTE (GSM Factory Unlocked)', r_ui=10.0, est=7.5309090931938565, details={'was_impossible': False}),\n",
       " Prediction(uid='Александра', iid='Apple iPhone 5s 16GB (серебристый)', r_ui=10.0, est=8.098886179015672, details={'was_impossible': False}),\n",
       " Prediction(uid='UnKnown', iid='LG KS20', r_ui=10.0, est=7.018861204625301, details={'was_impossible': False}),\n",
       " Prediction(uid='Amazon Customer', iid='OnePlus 3 (Graphite, 64 GB)', r_ui=10.0, est=8.753465227698346, details={'was_impossible': False}),\n",
       " Prediction(uid='Amazon Customer', iid='Samsung Galaxy S5 SM-G900T 4G LTE 16GB Smartphone, Black (T-Mobile)', r_ui=8.0, est=7.035537676357313, details={'was_impossible': False}),\n",
       " Prediction(uid='UnKnown', iid='Nokia 6730 Classic', r_ui=8.0, est=7.875175599247551, details={'was_impossible': False}),\n",
       " Prediction(uid='Amazon Customer', iid='OnePlus 3T (Gunmetal, 6GB RAM + 64GB memory)', r_ui=2.0, est=8.189953972636042, details={'was_impossible': False}),\n",
       " Prediction(uid='???????????? ??????????????', iid='Samsung Galaxy S Advance GT-I9070 8Gb', r_ui=8.0, est=7.662781433500501, details={'was_impossible': False}),\n",
       " Prediction(uid='e-bit', iid='Smartphone Samsung Galaxy S7 Edge SM-G935 32GB', r_ui=10.0, est=8.86730603569507, details={'was_impossible': False}),\n",
       " Prediction(uid='UnKnown', iid='Nokia Lumia 620', r_ui=8.0, est=7.333297711926632, details={'was_impossible': False}),\n",
       " Prediction(uid='Amazon Customer', iid='LG G4 Unlocked Smartphone with 32GB Internal Memory, 16 MP Camera and 5.5-Inch IPS Quantum Display for GSM and CDMA, US Warranty (Black Leather)', r_ui=4.0, est=6.841545404261948, details={'was_impossible': False}),\n",
       " Prediction(uid='Amazon Customer', iid='BlackBerry Passport (Black, 32GB)', r_ui=8.0, est=7.952726739799982, details={'was_impossible': False}),\n",
       " Prediction(uid='sergio', iid='Nokia - 106.3 Negro/black Unlocked Dualband GSM 850/1900', r_ui=10.0, est=3.024313459014193, details={'was_impossible': False}),\n",
       " Prediction(uid='Andrea', iid='Asus ZE551ML-2A760WW Smartphone ZenFone 2 Deluxe, 5.5\", 4 GB RAM, 64 GB, Intel Quad-Core Z3580, Dual SIM, Illusion Purple', r_ui=10.0, est=10, details={'was_impossible': False}),\n",
       " Prediction(uid='Amazon Customer', iid='Lenovo Zuk Z1 (White, Cyanogen OS)', r_ui=8.0, est=3.774796970080746, details={'was_impossible': False}),\n",
       " Prediction(uid='Amazon Kunde', iid='Samsung Galaxy Y S5360 Smartphone (7,62 cm (3 Zoll) Display, Touchscreen, 2 Megapixel Kamera, Android 2.3) pure-white', r_ui=10.0, est=4.448966257320722, details={'was_impossible': False}),\n",
       " Prediction(uid='Amazon Customer', iid='OnePlus 2 (Sandstone Black, 16GB)', r_ui=6.0, est=5.504802365315966, details={'was_impossible': False}),\n",
       " Prediction(uid='Amazon Customer', iid='Lenovo Vibe X3 (White, 32GB)', r_ui=10.0, est=8.162761470264986, details={'was_impossible': False}),\n",
       " Prediction(uid='Cliente Amazon', iid=\"Huawei P9 Lite Smartphone, LTE, Display 5.2'' FHD, Processore Octa-Core Kirin 650, 16 GB Memoria Interna, 3GB RAM, Fotocamera 13 MP, Single-SIM, Android 6.0 Marshmallow, Bianco [Italia]\", r_ui=8.0, est=8.48419185526557, details={'was_impossible': False}),\n",
       " Prediction(uid='Anonymous', iid='LG None None', r_ui=10.0, est=8.234824535022955, details={'was_impossible': False}),\n",
       " Prediction(uid='e-bit', iid='Smartphone LG K10 K430TV', r_ui=6.0, est=8.508818246072678, details={'was_impossible': False}),\n",
       " Prediction(uid='#', iid='Nokia C3', r_ui=8.0, est=9.585289946097124, details={'was_impossible': False}),\n",
       " Prediction(uid='K', iid='Sim Free Motorola Moto E 3rd Generation Mobile Phone', r_ui=10.0, est=7.069329047217192, details={'was_impossible': False}),\n",
       " Prediction(uid='dilemma21', iid='Blackberry 8820 PDA Cep Telefonu', r_ui=0.0, est=1, details={'was_impossible': False}),\n",
       " Prediction(uid='UnKnown', iid='Nokia 5130 XpressMusic', r_ui=10.0, est=7.4349030112333905, details={'was_impossible': False}),\n",
       " Prediction(uid='Cliente Amazon', iid='LG Nexus 5X - Smartphone libre Android (pantalla 5.2\", cámara 12.3 MP, 2 GB de RAM, 16 GB), color negro', r_ui=8.0, est=9.216482989712087, details={'was_impossible': False}),\n",
       " Prediction(uid='????????', iid='Samsung i8160 Galaxy Ace 2', r_ui=8.0, est=7.203085384643735, details={'was_impossible': False}),\n",
       " Prediction(uid='UnKnown', iid='Sony Ericsson Xperia arc S', r_ui=10.0, est=8.310854227243942, details={'was_impossible': False}),\n",
       " Prediction(uid='Amazon Customer', iid='OnePlus 3T (Soft Gold, 6GB RAM + 64GB memory)', r_ui=8.0, est=8.918366731664548, details={'was_impossible': False}),\n",
       " Prediction(uid='kyef', iid='Nokia N73 Cep Telefonu', r_ui=0.0, est=1, details={'was_impossible': False}),\n",
       " Prediction(uid='Amazon Customer', iid='Lenovo Vibe K4 Note (White,16GB)', r_ui=8.0, est=7.330073400296547, details={'was_impossible': False}),\n",
       " Prediction(uid='UnKnown', iid='Samsung S3600', r_ui=10.0, est=7.861001371031369, details={'was_impossible': False}),\n",
       " Prediction(uid='Carlos', iid='Samsung Galaxy S4 mini GT-I9190 8GB, 3G, Unlocked International Version No Warranty, Black', r_ui=10.0, est=5.892869952315529, details={'was_impossible': False}),\n",
       " Prediction(uid='Fabrizio', iid='Huawei P8 Lite Smartphone, Display 5\" IPS, Processore Octa-Core 1.5 GHz, Memoria Interna da 16 GB, 2 GB RAM, Fotocamera 13 MP, monoSIM, Android 5.0, Bianco [Italia]', r_ui=10.0, est=7.676340579728285, details={'was_impossible': False}),\n",
       " Prediction(uid='e-bit', iid='Smartphone Lenovo Vibe K5', r_ui=8.0, est=8.894022934473131, details={'was_impossible': False}),\n",
       " Prediction(uid='Amazon Customer', iid='MOTOROLA Moto G XT 1032 8 GB Black (Charger sold seperately)', r_ui=10.0, est=8.857345981415504, details={'was_impossible': False}),\n",
       " Prediction(uid='Артем', iid='Samsung S5660 Galaxy Gio', r_ui=10.0, est=8.714593301568785, details={'was_impossible': False}),\n",
       " Prediction(uid='Massimo', iid='Huawei Ascend G525 Smartphone, 4 GB, Dual SIM, Bianco', r_ui=8.0, est=8.361830207180569, details={'was_impossible': False}),\n",
       " Prediction(uid='Amazon Customer', iid='Mi 4i (Grey, 16GB)', r_ui=4.0, est=6.085624618303026, details={'was_impossible': False}),\n",
       " Prediction(uid='Amazon Customer', iid='LG Nexus 5X Unlocked Smartphone with 5.2-Inch 32GB H790 4G LTE (Carbon Black)', r_ui=8.0, est=7.938547034509304, details={'was_impossible': False}),\n",
       " Prediction(uid='Дмитрий', iid='Samsung Galaxy A7', r_ui=10.0, est=8.95646131900272, details={'was_impossible': False}),\n",
       " Prediction(uid='UnKnown', iid='Samsung Galaxy Nexus GT-I9250', r_ui=10.0, est=8.408289269439654, details={'was_impossible': False}),\n",
       " Prediction(uid='Anonymous', iid='Samsung Galaxy S6 Edge 32gb Black (6750A)', r_ui=10.0, est=9.131297909018933, details={'was_impossible': False}),\n",
       " Prediction(uid='Emanuele', iid='Lenovo Motorola Moto G LTE Smartphone, Display 4.5\", Fotocamera 5 MP, Memoria 8 GB, Quad-Core 1.2 GHz, 1 GB RAM, Micro SD, Android 4.4.3, Bianco [Italia]', r_ui=10.0, est=9.46664750855496, details={'was_impossible': False}),\n",
       " Prediction(uid='Amazon Customer', iid='Oppo F1 (Gold, 3GB)', r_ui=8.0, est=7.773859039216312, details={'was_impossible': False}),\n",
       " Prediction(uid='Amazon Customer', iid='Motorola Moto G, 4th Gen (White, 16GB) - Android 7.0 Nougat Update Available Now', r_ui=10.0, est=6.824079723965669, details={'was_impossible': False}),\n",
       " Prediction(uid='e-bit', iid='Smartphone Samsung Galaxy J5 SM-J510M', r_ui=10.0, est=8.890786471234165, details={'was_impossible': False}),\n",
       " Prediction(uid='Kelly', iid='HUAWEI ASCEND P9 LITE BLACK', r_ui=10.0, est=10, details={'was_impossible': False}),\n",
       " Prediction(uid='Amazon Customer', iid='Motorola Moto G 3rd Generation (Black, 16GB)', r_ui=8.0, est=8.291381264741403, details={'was_impossible': False}),\n",
       " Prediction(uid='Amazon Customer', iid='OnePlus X (Onyx, 16GB)', r_ui=10.0, est=7.425082632476295, details={'was_impossible': False}),\n",
       " Prediction(uid='Евгений', iid='Samsung Galaxy S4 mini (I9190)', r_ui=4.0, est=9.1022587645953, details={'was_impossible': False}),\n",
       " Prediction(uid='Мария', iid='Sony Xperia M (белый)', r_ui=5.0, est=6.72982402755494, details={'was_impossible': False}),\n",
       " Prediction(uid='e-bit', iid='Smartphone Nokia Lumia 530', r_ui=6.0, est=8.806911663576784, details={'was_impossible': False}),\n",
       " Prediction(uid='Amazon Kunde', iid='LG Electronics E610 Optimus L5 Smartphone (10,2 cm (4 Zoll) Touchscreen, 5 Megapixel Kamera, UMTS, WiFi, Android 4.0) wei??', r_ui=10.0, est=7.261296538554564, details={'was_impossible': False}),\n",
       " Prediction(uid='UnKnown', iid='Huawei Ascend P6', r_ui=10.0, est=7.831983038426072, details={'was_impossible': False}),\n",
       " Prediction(uid='Cliente Amazon', iid=\"Nokia Microsoft Lumia 550 Smartphone LTE, Display 4.7' Pollici HD LCD (1280x720), 8 GB Memoria interna, Processore Quad Core Snapdragon 210, Bianco [Italia]\", r_ui=4.0, est=9.288307972210532, details={'was_impossible': False}),\n",
       " Prediction(uid='yusuf60', iid='Nokia 8800 Arte Cep Telefonu', r_ui=0.0, est=1, details={'was_impossible': False}),\n",
       " Prediction(uid='einem Kunden', iid='Samsung Galaxy S7 edge Smartphone, 13,9 cm (5,5 Zoll) Display, LTE (4G)', r_ui=10.0, est=9.03905998370578, details={'was_impossible': False}),\n",
       " Prediction(uid='anonym', iid='Philips Savvy', r_ui=4.0, est=6.225470787332828, details={'was_impossible': False}),\n",
       " Prediction(uid='Amazon Kunde', iid='Samsung SGH-U700 UMTS Handy silber (ohne Simlock)', r_ui=2.0, est=1.8028090985229765, details={'was_impossible': False}),\n",
       " Prediction(uid='Simon', iid='Palm Pre', r_ui=5.0, est=7.747056519731712, details={'was_impossible': False}),\n",
       " Prediction(uid='Amazon Customer', iid='OnePlus 3 (Soft Gold, 64 GB)', r_ui=10.0, est=8.411113210606793, details={'was_impossible': False}),\n",
       " Prediction(uid='Ирина', iid='Samsung Galaxy S5 SM-G900F 16GB (золотистый)', r_ui=9.0, est=9.542820524357122, details={'was_impossible': False}),\n",
       " Prediction(uid='UnKnown', iid='Sony Ericsson Xperia arc S', r_ui=8.0, est=8.310854227243942, details={'was_impossible': False}),\n",
       " Prediction(uid='Francisco', iid='Samsung Galaxy S II i9100 16 GB Unlocked GSM Smartphone, Noble Black', r_ui=2.0, est=7.48942629315091, details={'was_impossible': False}),\n",
       " Prediction(uid='Erkek', iid='Nokia Lumia 630', r_ui=10.0, est=10, details={'was_impossible': False}),\n",
       " Prediction(uid='Cliente Amazon', iid='Asus ZenFone 3 Max Smartphone, Memoria Interna da 32 GB, Dual-SIM, Argento [Italia]', r_ui=8.0, est=8.69376568294291, details={'was_impossible': False}),\n",
       " Prediction(uid='Amazon Customer', iid='Honor 6X (Silver, 32GB)', r_ui=8.0, est=8.195547120230511, details={'was_impossible': False}),\n",
       " Prediction(uid='einem Kunden', iid='Samsung Galaxy S7 Smartphone, 12,9 cm (5,1 Zoll) Display, LTE (4G)', r_ui=8.0, est=9.137480108876797, details={'was_impossible': False}),\n",
       " Prediction(uid='Matteo', iid='Asus ZenFone 2 Laser 5.5\" Smartphone, 16 GB, Dual SIM, Nero [Italia]', r_ui=8.0, est=9.430377492691834, details={'was_impossible': False}),\n",
       " Prediction(uid='Alan', iid='Nokia 6301', r_ui=10.0, est=4.58516592805349, details={'was_impossible': False}),\n",
       " Prediction(uid='Amazon Customer', iid='Samsung Galaxy Rugby Pro 4G LTE I547 Unlocked Android Ruggedized Smart Phone', r_ui=2.0, est=6.747066868173123, details={'was_impossible': False}),\n",
       " Prediction(uid='UnKnown', iid='Nokia 5530 XpressMusic', r_ui=10.0, est=8.7161065149112, details={'was_impossible': False}),\n",
       " Prediction(uid='UnKnown', iid='Samsung S5560', r_ui=10.0, est=7.038557716897943, details={'was_impossible': False}),\n",
       " Prediction(uid='Francesco', iid='Samsung Galaxy A5 2016 Smartphone LTE, 16GB, Nero', r_ui=10.0, est=9.835084518640937, details={'was_impossible': False}),\n",
       " Prediction(uid='huliye', iid='Nokia N82 Cep Telefonu', r_ui=0.0, est=1, details={'was_impossible': False}),\n",
       " Prediction(uid='Amazon Customer', iid='BlackBerry Curve 9310 Prepaid Phone (Boost Mobile)', r_ui=10.0, est=6.006931960987934, details={'was_impossible': False}),\n",
       " Prediction(uid='UnKnown', iid='Sony Ericsson K810i', r_ui=6.0, est=8.081409177284515, details={'was_impossible': False}),\n",
       " Prediction(uid='Amazon Customer', iid='OnePlus 3T (Gunmetal, 6GB RAM + 64GB memory)', r_ui=2.0, est=8.189953972636042, details={'was_impossible': False}),\n",
       " Prediction(uid='Amazon Customer', iid='Lenovo Vibe K5 (Grey)', r_ui=8.0, est=6.702405210233632, details={'was_impossible': False}),\n",
       " Prediction(uid='UnKnown', iid='Nokia X2-00', r_ui=10.0, est=7.023542260856737, details={'was_impossible': False}),\n",
       " Prediction(uid='Amazon Customer', iid='Lenovo K3 Note (Black)', r_ui=4.0, est=5.057495046811351, details={'was_impossible': False}),\n",
       " Prediction(uid='Amazon Customer', iid='HTC Desire 820 (Santorini White, 16GB)', r_ui=2.0, est=5.829584286145215, details={'was_impossible': False}),\n",
       " Prediction(uid='UnKnown', iid='Sony Ericsson W705', r_ui=10.0, est=8.350996778917159, details={'was_impossible': False}),\n",
       " Prediction(uid='john', iid='XOLO Q3000 (White)', r_ui=8.0, est=2.107422418248891, details={'was_impossible': False}),\n",
       " Prediction(uid='UnKnown', iid='Samsung Galaxy Note 3 SM-N9005 32Gb', r_ui=10.0, est=9.04800975882864, details={'was_impossible': False}),\n",
       " Prediction(uid='Сергей', iid='Мобильный телефон Caterpillar CAT B25', r_ui=8.0, est=7.627290913268363, details={'was_impossible': False}),\n",
       " Prediction(uid='UnKnown', iid='Nokia 6555', r_ui=4.0, est=6.40702739497946, details={'was_impossible': False}),\n",
       " Prediction(uid='Amazon Kunde', iid='Samsung Galaxy S7 Smartphone (12,92 cm (5,1 Zoll) Touch-Display, 32GB interner Speicher, Android OS) pink', r_ui=2.0, est=6.761715318847594, details={'was_impossible': False}),\n",
       " Prediction(uid='Cliente Amazon', iid='Microsoft Lumia 640 LTE RM 1072 Smartphone, Marchio TIM, Nero [Italia]', r_ui=8.0, est=9.089898246314936, details={'was_impossible': False}),\n",
       " Prediction(uid='Cliente Amazon', iid=\"Huawei P9 Lite Smartphone, LTE, Display 5.2'' FHD, Processore Octa-Core Kirin 650, 16 GB Memoria Interna, 3GB RAM, Fotocamera 13 MP, Single-SIM, Android 6.0 Marshmallow, Bianco [Italia]\", r_ui=10.0, est=8.48419185526557, details={'was_impossible': False}),\n",
       " Prediction(uid='Amazon Customer', iid='Motorola Moto G, 4th Gen (White, 16GB) - Android 7.0 Nougat Update Available Now', r_ui=2.0, est=6.824079723965669, details={'was_impossible': False}),\n",
       " Prediction(uid='Amazon Customer', iid='OnePlus One (Sandstone Black, 64GB)', r_ui=2.0, est=7.200203637292218, details={'was_impossible': False}),\n",
       " Prediction(uid='Cliente Amazon', iid='Huawei P8 Lite Smartphone, Display 5\" IPS, Processore Octa-Core 1.5 GHz, Memoria Interna da 16 GB, 2 GB RAM, Fotocamera 13 MP, monoSIM, Android 5.0, Bianco [Italia]', r_ui=10.0, est=8.339755326166554, details={'was_impossible': False}),\n",
       " Prediction(uid='Anonymous ', iid='Samsung Galaxy S7 32GB (T-Mobile)', r_ui=7.0, est=9.726885651331974, details={'was_impossible': False}),\n",
       " Prediction(uid='UnKnown', iid='Sony Ericsson Xperia arc', r_ui=10.0, est=6.898797005326351, details={'was_impossible': False}),\n",
       " Prediction(uid='UnKnown', iid='Siemens MC60', r_ui=10.0, est=6.143850569071372, details={'was_impossible': False}),\n",
       " Prediction(uid='Michael', iid='SAMSUNG Galaxy A3 (2017) - 16 GB, Black', r_ui=10.0, est=8.659102943148662, details={'was_impossible': False}),\n",
       " Prediction(uid='Jeff', iid='Samsung Gusto 2 SCH-U365 Flip Phone (Verizon Wireless) - Gray', r_ui=10.0, est=8.7822593153305, details={'was_impossible': False}),\n",
       " Prediction(uid='UnKnown', iid='Nokia Lumia 630', r_ui=10.0, est=8.48912501896625, details={'was_impossible': False}),\n",
       " Prediction(uid='Amazon Customer', iid='OnePlus One (Sandstone Black, 64GB)', r_ui=2.0, est=7.200203637292218, details={'was_impossible': False}),\n",
       " Prediction(uid='Amazon Customer', iid='Samsung Galaxy S7 Dual Sim Factory Unlocked Phone 32 GB - Internationally Sourced (Middle East/Afican/Asia) Version G930FD Dual Sim- Black Oynx', r_ui=10.0, est=7.291148438272016, details={'was_impossible': False}),\n",
       " Prediction(uid='Gabriele', iid='Lenovo Motorola Moto G 4G 3 Generazione Smartphone, Display 5\", Fotocamera 13 MP, Memoria 16 GB, Android 6 Lollipop, Nero [Italia]', r_ui=4.0, est=9.361184358958258, details={'was_impossible': False}),\n",
       " Prediction(uid='UnKnown', iid='Sony Ericsson W380i', r_ui=8.0, est=5.048247117448796, details={'was_impossible': False}),\n",
       " Prediction(uid='carlos', iid='Apple iPhone 5 A1428 Factory Unlocked Cellphone, 16GB, Black', r_ui=2.0, est=6.216394653265481, details={'was_impossible': False}),\n",
       " Prediction(uid='e-bit', iid='Smartphone Samsung Galaxy J3 SM-J320M', r_ui=8.0, est=8.382111514196193, details={'was_impossible': False}),\n",
       " Prediction(uid='Надежда', iid='Samsung GT-S5230 La Fleur', r_ui=4.0, est=8.774240648041673, details={'was_impossible': False}),\n",
       " Prediction(uid='Владимир', iid='Sony Xperia C (черный)', r_ui=10.0, est=7.6209848823104505, details={'was_impossible': False}),\n",
       " Prediction(uid='UnKnown', iid='HTC Desire X', r_ui=10.0, est=8.39651207496038, details={'was_impossible': False}),\n",
       " Prediction(uid='????????????', iid='Huawei U8860 Honor', r_ui=2.0, est=7.651595766116182, details={'was_impossible': False}),\n",
       " Prediction(uid='UnKnown', iid='Apple iPhone 4S 64Gb', r_ui=8.0, est=8.442241595234027, details={'was_impossible': False}),\n",
       " Prediction(uid='Julia', iid='Samsung Galaxy Gio (S5660) Smartphone (8,13 cm (3,2 Zoll) Touchscreen, 3 Megapixel Kamera, Android 2.3.3) silber', r_ui=8.0, est=8.496046141556777, details={'was_impossible': False}),\n",
       " Prediction(uid='luca', iid='Samsung GT-S6310ZWNITV Galaxy Young, Bianco [Italia]', r_ui=10.0, est=7.783882884734025, details={'was_impossible': False}),\n",
       " Prediction(uid='UnKnown', iid='HTC Desire HD', r_ui=10.0, est=7.8052942452852765, details={'was_impossible': False}),\n",
       " Prediction(uid='UnKnown', iid='Nokia 2730 classic', r_ui=10.0, est=7.690018819275277, details={'was_impossible': False}),\n",
       " Prediction(uid='Cliente Amazon', iid=\"Huawei P9 Lite Smartphone, LTE, Display 5.2'' FHD, Processore Octa-Core Kirin 650, 16 GB Memoria Interna, 3GB RAM, Fotocamera 13 MP, Single-SIM, Android 6.0 Marshmallow, Nero [Italia]\", r_ui=8.0, est=9.0451664987736, details={'was_impossible': False}),\n",
       " Prediction(uid='UnKnown', iid='Sony Xperia L (черный)', r_ui=0.0, est=6.357209481279215, details={'was_impossible': False}),\n",
       " Prediction(uid='Angelo', iid='Samsung Galaxy S7 Smartphone, 32 GB, Nero', r_ui=8.0, est=9.769944929201353, details={'was_impossible': False}),\n",
       " Prediction(uid='Mario', iid='Samsung Galaxy Alpha Smartphone (4,7 Zoll (11,9 cm) Touch-Display, 32 GB Speicher, Android 4.4) blau', r_ui=10.0, est=7.903716858269061, details={'was_impossible': False}),\n",
       " Prediction(uid='Amazon Customer', iid='YU Yureka (Moondust Grey,16 GB)', r_ui=2.0, est=5.301146822326777, details={'was_impossible': False}),\n",
       " Prediction(uid='Amazon Customer', iid='OnePlus 3 (Graphite, 64 GB)', r_ui=6.0, est=8.753465227698346, details={'was_impossible': False}),\n",
       " Prediction(uid='Amazon Customer', iid='Lenovo Vibe K4 Note (White,16GB)', r_ui=8.0, est=7.330073400296547, details={'was_impossible': False}),\n",
       " Prediction(uid='Victor', iid='Apple iPhone 3G 16Gb', r_ui=10.0, est=3.698199284189159, details={'was_impossible': False}),\n",
       " Prediction(uid='Amazon Customer', iid='YU Yuphoria YU5010A (Black+Silver)', r_ui=10.0, est=6.419122431417083, details={'was_impossible': False}),\n",
       " Prediction(uid='Олег', iid='Sony Xperia L', r_ui=10.0, est=7.655745945733877, details={'was_impossible': False}),\n",
       " Prediction(uid='Christian', iid='Samsung Galaxy S7 EDGE Smartphone (5,5 Zoll (13,9 cm) Touch-Display, 32GB interner Speicher, Android OS) pink', r_ui=2.0, est=7.832072103065489, details={'was_impossible': False}),\n",
       " Prediction(uid='UnKnown', iid='Samsung SGH-i710', r_ui=10.0, est=8.290186346569179, details={'was_impossible': False}),\n",
       " Prediction(uid='UnKnown', iid='Nokia Lumia 620', r_ui=6.0, est=7.333297711926632, details={'was_impossible': False}),\n",
       " Prediction(uid='??????????????', iid='HTC Desire SV T326e Black 4710937389005 UACRF', r_ui=8.0, est=8.968049610974537, details={'was_impossible': False}),\n",
       " Prediction(uid='einem Kunden', iid='Samsung Galaxy A3 (2016) - A310F Smartphone, 12 cm (4,7 Zoll) Display, LTE (4G)', r_ui=10.0, est=9.202598523251309, details={'was_impossible': False}),\n",
       " Prediction(uid='Марина', iid='Sony Xperia Z1 Compact (черный)', r_ui=10.0, est=3.8631485357445055, details={'was_impossible': False}),\n",
       " Prediction(uid='UnKnown', iid='Nokia N82', r_ui=8.0, est=8.149462724255727, details={'was_impossible': False}),\n",
       " Prediction(uid='Amazon Customer', iid='Microsoft Lumia 435 (Dual SIM, White)', r_ui=2.0, est=7.670394828503418, details={'was_impossible': False}),\n",
       " ...]"
      ]
     },
     "execution_count": 183,
     "metadata": {},
     "output_type": "execute_result"
    }
   ],
   "source": [
    "test_pred = svd_model.test(testset)\n",
    "test_pred"
   ]
  },
  {
   "cell_type": "markdown",
   "id": "d5986045",
   "metadata": {},
   "source": [
    "### 4. Evaluate the accuracy"
   ]
  },
  {
   "cell_type": "code",
   "execution_count": 184,
   "id": "5cdd8101",
   "metadata": {},
   "outputs": [
    {
     "name": "stdout",
     "output_type": "stream",
     "text": [
      "RMSE: 2.7837\n",
      "2.7836629220590767\n"
     ]
    }
   ],
   "source": [
    "# compute RMSE\n",
    "svd_rmse=accuracy.rmse(test_pred)\n",
    "print(svd_rmse)"
   ]
  },
  {
   "cell_type": "markdown",
   "id": "f4bd6b25",
   "metadata": {},
   "source": [
    "## 2. KNNWithMeans Model"
   ]
  },
  {
   "cell_type": "markdown",
   "id": "1808f3a1",
   "metadata": {},
   "source": [
    "* KNN algorithms look at the nearest neighbors to determine which product to predict.\n",
    "* KNN takes in different hyperparameters than SVD:  the similarity measure (example: cosine vs. pearson), \n",
    "    whether it is “user based” or not, with or without “min support”, and the minimum number of neighbors to take into account\n",
    "    (denoted by “min k”). \n",
    "    "
   ]
  },
  {
   "cell_type": "markdown",
   "id": "c6be4303",
   "metadata": {},
   "source": [
    "## Item Based KNN"
   ]
  },
  {
   "cell_type": "markdown",
   "id": "23e0d96c",
   "metadata": {},
   "source": [
    "### 1.instantiate the model"
   ]
  },
  {
   "cell_type": "code",
   "execution_count": 190,
   "id": "91613b9a",
   "metadata": {},
   "outputs": [],
   "source": [
    "from surprise import KNNWithMeans\n",
    "from surprise import accuracy\n",
    "## Instantiate and Fit The Model\n",
    "knn_model_item_based = KNNWithMeans(k=10, sim_options={ 'name':'cosine','user_based': False})\n"
   ]
  },
  {
   "cell_type": "markdown",
   "id": "b3fd566d",
   "metadata": {},
   "source": [
    "### 2.Fit Train set"
   ]
  },
  {
   "cell_type": "code",
   "execution_count": 191,
   "id": "8e06d773",
   "metadata": {},
   "outputs": [
    {
     "name": "stdout",
     "output_type": "stream",
     "text": [
      "Computing the cosine similarity matrix...\n",
      "Done computing similarity matrix.\n"
     ]
    },
    {
     "data": {
      "text/plain": [
       "<surprise.prediction_algorithms.knns.KNNWithMeans at 0x16a15b86160>"
      ]
     },
     "execution_count": 191,
     "metadata": {},
     "output_type": "execute_result"
    }
   ],
   "source": [
    "knn_model_item_based.fit(trainset)"
   ]
  },
  {
   "cell_type": "markdown",
   "id": "5eb9f03b",
   "metadata": {},
   "source": [
    "### 3.Predict with Test Set"
   ]
  },
  {
   "cell_type": "code",
   "execution_count": 192,
   "id": "a0043507",
   "metadata": {},
   "outputs": [],
   "source": [
    "knn_item_test_pred=knn_model_item_based.test(testset)"
   ]
  },
  {
   "cell_type": "markdown",
   "id": "ac0b5091",
   "metadata": {},
   "source": [
    "### 4.Evaluate Accuracy"
   ]
  },
  {
   "cell_type": "code",
   "execution_count": 193,
   "id": "fae1e745",
   "metadata": {},
   "outputs": [
    {
     "name": "stdout",
     "output_type": "stream",
     "text": [
      "RMSE: 2.7991\n"
     ]
    }
   ],
   "source": [
    "knn_item_rmse=accuracy.rmse(knn_item_test_pred)"
   ]
  },
  {
   "cell_type": "markdown",
   "id": "b0f4005a",
   "metadata": {},
   "source": [
    "## User Based KNN Collaboration System"
   ]
  },
  {
   "cell_type": "markdown",
   "id": "1342edd1",
   "metadata": {},
   "source": [
    "### 1.instantiate the model and Fit Trainset"
   ]
  },
  {
   "cell_type": "code",
   "execution_count": 195,
   "id": "cb59c658",
   "metadata": {},
   "outputs": [
    {
     "name": "stdout",
     "output_type": "stream",
     "text": [
      "Computing the cosine similarity matrix...\n",
      "Done computing similarity matrix.\n"
     ]
    },
    {
     "data": {
      "text/plain": [
       "<surprise.prediction_algorithms.knns.KNNWithMeans at 0x16a173d7850>"
      ]
     },
     "execution_count": 195,
     "metadata": {},
     "output_type": "execute_result"
    }
   ],
   "source": [
    "knn_model_user = KNNWithMeans(k=10, sim_options={ 'name':'cosine','user_based': True})\n",
    "knn_model_user.fit(trainset)"
   ]
  },
  {
   "cell_type": "markdown",
   "id": "300f8bd7",
   "metadata": {},
   "source": [
    "### 2.Predict with Test Set"
   ]
  },
  {
   "cell_type": "code",
   "execution_count": 196,
   "id": "dfc0991a",
   "metadata": {},
   "outputs": [],
   "source": [
    "knn_user_test_pred=knn_model_user.test(testset)"
   ]
  },
  {
   "cell_type": "markdown",
   "id": "7e9e1d0c",
   "metadata": {},
   "source": [
    "### 3.Evaluate accuracy"
   ]
  },
  {
   "cell_type": "code",
   "execution_count": 199,
   "id": "7e72ace3",
   "metadata": {},
   "outputs": [
    {
     "name": "stdout",
     "output_type": "stream",
     "text": [
      "RMSE: 2.7869\n"
     ]
    }
   ],
   "source": [
    "knn_user_rmse=accuracy.rmse(knn_user_test_pred)"
   ]
  },
  {
   "cell_type": "markdown",
   "id": "72465b53",
   "metadata": {},
   "source": [
    "In this case, the RMSE is 2.78, meaning that our model’s predictions miss the actual ratings by approximately 2.7 points. On a rating scale of 1-10, which was used for this model, this result is not too bad (a rating of 5.0 vs. 7.7 doesn’t drastically change whether or not we can assume that someone liked a product or not)."
   ]
  },
  {
   "cell_type": "markdown",
   "id": "d6463620",
   "metadata": {},
   "source": [
    "<span style=\"font-family: Arial; font-weight:bold;font-size:1.5em;color:#00b3e5;\">5.Evaluate the collaborative model. Print RMSE value. [2 Marks]"
   ]
  },
  {
   "cell_type": "code",
   "execution_count": 207,
   "id": "bfd59cb8",
   "metadata": {},
   "outputs": [
    {
     "data": {
      "text/plain": [
       "<AxesSubplot:>"
      ]
     },
     "execution_count": 207,
     "metadata": {},
     "output_type": "execute_result"
    },
    {
     "data": {
      "image/png": "[encoded data removed]",
      "text/plain": [
       "<Figure size 720x504 with 1 Axes>"
      ]
     },
     "metadata": {},
     "output_type": "display_data"
    }
   ],
   "source": [
    "# Evaluate the Collaborative model by comparing RMSE\n",
    "#width = [0.5]\n",
    "sns.barplot(x=['svd_rmse','knn_item_rmse', 'knn_user_rmse'],y=[svd_rmse,knn_item_rmse, knn_user_rmse])"
   ]
  },
  {
   "cell_type": "code",
   "execution_count": 210,
   "id": "e303ab21",
   "metadata": {},
   "outputs": [
    {
     "data": {
      "text/plain": [
       "'SVD Model'"
      ]
     },
     "metadata": {},
     "output_type": "display_data"
    },
    {
     "data": {
      "text/plain": [
       "2.7836629220590767"
      ]
     },
     "metadata": {},
     "output_type": "display_data"
    },
    {
     "data": {
      "text/plain": [
       "'knn_item_based'"
      ]
     },
     "metadata": {},
     "output_type": "display_data"
    },
    {
     "data": {
      "text/plain": [
       "2.799089194270173"
      ]
     },
     "metadata": {},
     "output_type": "display_data"
    },
    {
     "data": {
      "text/plain": [
       "'knn_user_based'"
      ]
     },
     "metadata": {},
     "output_type": "display_data"
    },
    {
     "data": {
      "text/plain": [
       "2.7869441853582773"
      ]
     },
     "metadata": {},
     "output_type": "display_data"
    }
   ],
   "source": [
    "display('SVD Model',svd_rmse,'knn_item_based',knn_item_rmse, 'knn_user_based',knn_user_rmse)"
   ]
  },
  {
   "cell_type": "markdown",
   "id": "7a295f02",
   "metadata": {},
   "source": [
    "### Comments: <br>\n",
    "    Almost all 3 models have nearly same RMSE value. Comparatively SVD has less RMSE. We will try wit Cross validation to reduce the RMSE\n",
    "    "
   ]
  },
  {
   "cell_type": "markdown",
   "id": "b16fb3f7",
   "metadata": {},
   "source": [
    "<span style=\"font-family: Arial; font-weight:bold;font-size:1.5em;color:#00b3e5;\">6. Predict score (average rating) for test users. [2 Marks]"
   ]
  },
  {
   "cell_type": "markdown",
   "id": "c6636d67",
   "metadata": {},
   "source": [
    "### Test Prediction of SVD"
   ]
  },
  {
   "cell_type": "code",
   "execution_count": 224,
   "id": "91280eab",
   "metadata": {},
   "outputs": [
    {
     "name": "stdout",
     "output_type": "stream",
     "text": [
      "average prediction for test users:  7.541643226695413\n",
      "average rating  by test users:  7.547351524879614\n",
      "average prediction error for test users:  2.1905550704899417\n"
     ]
    }
   ],
   "source": [
    "svd_pred_df=pd.DataFrame(test_pred, columns=['uid', 'iid', 'rui', 'est', 'details'])\n",
    "print('average prediction for test users: ',svd_pred_df['est'].mean())\n",
    "print('average rating  by test users: ',svd_pred_df['rui'].mean())\n",
    "print('average prediction error for test users: ',(svd_pred_df['rui']-svd_pred_df['est']).abs().mean())"
   ]
  },
  {
   "cell_type": "markdown",
   "id": "328b0e12",
   "metadata": {},
   "source": [
    "### Test Prediction of Knn Item Based"
   ]
  },
  {
   "cell_type": "code",
   "execution_count": 226,
   "id": "4b64ef20",
   "metadata": {},
   "outputs": [
    {
     "name": "stdout",
     "output_type": "stream",
     "text": [
      "average prediction for test users:  7.551543652436459\n",
      "average rating  by test users:  7.547351524879614\n",
      "average prediction error for test users:  2.1825913589705097\n"
     ]
    }
   ],
   "source": [
    "knn_item_pred_df=pd.DataFrame(knn_item_test_pred, columns=['uid', 'iid', 'rui', 'est', 'details'])\n",
    "print('average prediction for test users: ',knn_item_pred_df['est'].mean())\n",
    "print('average rating  by test users: ',knn_item_pred_df['rui'].mean())\n",
    "print('average prediction error for test users: ',(knn_item_pred_df['rui']-knn_item_pred_df['est']).abs().mean())"
   ]
  },
  {
   "cell_type": "markdown",
   "id": "353348fa",
   "metadata": {},
   "source": [
    "### Test Prediction of Knn user Based"
   ]
  },
  {
   "cell_type": "code",
   "execution_count": 228,
   "id": "12d3df5a",
   "metadata": {},
   "outputs": [
    {
     "name": "stdout",
     "output_type": "stream",
     "text": [
      "average prediction for test users:  7.560485119879121\n",
      "average rating  by test users:  7.547351524879614\n",
      "average prediction error for test users:  2.1707934724006113\n"
     ]
    }
   ],
   "source": [
    "knn_user_pred_df=pd.DataFrame(knn_user_test_pred, columns=['uid', 'iid', 'rui', 'est', 'details'])\n",
    "print('average prediction for test users: ',knn_user_pred_df['est'].mean())\n",
    "print('average rating  by test users: ',knn_user_pred_df['rui'].mean())\n",
    "print('average prediction error for test users: ',(knn_user_pred_df['rui']-knn_user_pred_df['est']).abs().mean())"
   ]
  },
  {
   "cell_type": "markdown",
   "id": "03b7ed2c",
   "metadata": {},
   "source": [
    "### Comments:\n",
    "\n",
    "Average predictions for test users is **7.5** in alll 3 models. Error is prediction is approaximately *2.17* in user based model which is little lesser than other two models"
   ]
  },
  {
   "cell_type": "markdown",
   "id": "9dafb1bc",
   "metadata": {},
   "source": [
    "\n",
    "<span style=\"font-family: Arial; font-weight:bold;font-size:1.5em;color:#00b3e5;\">7. Report your findings and inferences. [2 Marks]"
   ]
  },
  {
   "cell_type": "markdown",
   "id": "0cd16ded",
   "metadata": {},
   "source": [
    "S.No | Model Name     | Average Prediction Test User | Average Rating by Test User | Average Prediction Error\n",
    "-----|----------------|------------------------------|-----------------------------| --------------------------\n",
    "1    | SVD Model      | 7.541643226695413            |  7.547351524879614          | 2.1905550704899417\n",
    "2    | KNN item based | 7.551543652436459            | 7.547351524879614           | 2.1825913589705097\n",
    "3    | Knn User based | 7.560485119879121            | 7.547351524879614           | 2.1707934724006113"
   ]
  },
  {
   "cell_type": "markdown",
   "id": "f94914da",
   "metadata": {},
   "source": [
    "#### Observations:\n",
    "    \n",
    "* Among three models after prediction, the Knn user based have lesser error compared to other 2 models\n",
    "* Surprisingly average rating for Test users are same for all 3 models\n",
    "* Based on most popular model **Apple iPhone 7 4,7 32 G ** has the highest averge score among all\n",
    "* People scored to even numbers rather than odd numbers it might be due to rating received in 5 scale and converted to 10 score\n",
    "* User based recommendation with KNN performs better during prediction\n"
   ]
  },
  {
   "cell_type": "markdown",
   "id": "6e4e91c3",
   "metadata": {},
   "source": [
    "<span style=\"font-family: Arial; font-weight:bold;font-size:1.5em;color:#00b3e5;\">8. Try and recommend top 5 products for test users. [5 Marks]"
   ]
  },
  {
   "cell_type": "code",
   "execution_count": 234,
   "id": "19c5203a",
   "metadata": {},
   "outputs": [],
   "source": [
    "# Objective: To get top_n recommendation for each user\n",
    "from collections import defaultdict\n",
    "def get_top_n(predictions, n=5):\n",
    "    # First map the predictions to each user.\n",
    "    top_n = defaultdict(list)\n",
    "    for uid, iid, true_r, est, _ in predictions:\n",
    "        top_n[uid].append((iid, est))\n",
    "\n",
    "    # Then sort the predictions for each user and retrieve the n highest ones.\n",
    "    for uid, user_ratings in top_n.items():\n",
    "        user_ratings.sort(key=lambda x: x[1], reverse=True)\n",
    "        top_n[uid] = user_ratings[:n]\n",
    "\n",
    "    return top_n"
   ]
  },
  {
   "cell_type": "code",
   "execution_count": 236,
   "id": "65ef256a",
   "metadata": {},
   "outputs": [
    {
     "name": "stdout",
     "output_type": "stream",
     "text": [
      "Top 5 recommendations for all test users are: \n",
      "\n",
      "Amazon Customer ->  [('Samsung Galaxy Grand Prime SM-G530H (Grey, 8GB)', 10), ('Apple iPhone SE Unlocked Phone - 64 GB Retail Packaging - Rose Gold', 10), ('Samsung Galaxy S III, Purple 16GB (Sprint)', 10), ('Motorola Atrix HD MB886 4G LTE Android Smart Phone (GSM Unlocked) - Dual-Core, 8MP Camera - Black', 10), ('Samsung Galaxy S III, Purple 16GB (Sprint)', 10)] \n",
      "\n",
      "Bill ->  [('Samsung Galaxy Discover', 10), ('Samsung Eternity', 9.337707786526684), ('Sim Free Motorola Moto G4 Play- Black', 8.56738954133397), ('Huawei Honor 8 Unlocked Smartphone 32 GB Dual Camera - US Warranty (Sapphire Blue)', 8.165986679110294), ('BLU VIVO 5R Refresh Smartphone - 5.5-Inch Display 4G LTE GSM Unlocked, GOLD', 7.972468120625523)] \n",
      "\n",
      "Anonymous  ->  [('LG D855', 10), ('Samsung Galaxy S III 16GB (Verizon)', 10), ('Samsung Galaxy S III 16GB (Verizon)', 10), ('LG D855', 10), ('Samsung Galaxy S6 edge+ 32GB (Sprint)', 10)] \n",
      "\n",
      "Alessio ->  [('Lenovo Motorola Moto G LTE Smartphone, Display 4.5\", Fotocamera 5 MP, Memoria 8 GB, Quad-Core 1.2 GHz, 1 GB RAM, Micro SD, Android 4.4.3, Bianco [Italia]', 10), ('Huawei Ascend P8 Smartphone, Display 5.2\" FHD, Memoria RAM da 3 GB, Processore HiSilicon Kirin 930 Octa-Core, Fotocamera Principale 13 MP, Grigio', 9.846422071719592), ('Nokia Lumia 625 Smartphone, Nero [Italia]', 9.74421551664842), ('Lenovo Motorola Moto E Smartphone, Display 4.3 pollici qHD, Processore Qualcomm Dual-Core 1.2GHz, Memoria 4GB, 1GB RAM, Fotocamera 5MP, Android 4.4.2 KitKat, Bluetooth, WiFi, Bianco [Spagna]', 9.621033326274834), ('Lenovo Motorola Moto G 4G (2 Generazione) Smartphone, Display 5 Pollici, LTE, Fotocamera 8 MP, Memoria 8 GB, Android 5 Lollipop, Nero [Italia]', 9.61368877646158)] \n",
      "\n",
      "Екатерина ->  [('Sony Xperia Z1 (белый)', 9.13421265774707), ('Sony Xperia Z1 (белый)', 9.13421265774707), ('Sony Xperia Z1 (белый)', 9.13421265774707), ('Sony Xperia Z (черный)', 9.015056664521605), ('Sony Xperia Z (черный)', 9.015056664521605)] \n",
      "\n",
      "UnKnown ->  [('Blackberry Curve 8900', 10), ('Sony Ericsson W810i', 10), ('LG G2 mini D618', 10), ('Sony Ericsson Xperia X8', 10), ('Sony Ericsson W810i', 10)] \n",
      "\n",
      "Client d'Amazon ->  [('Honor 8 Smartphone débloqué 4G (Ecran: 5,2 pouces - 32 Go - Double Nano-SIM - Android 6.0) Blanc Nacré', 10), ('Honor 8 Smartphone débloqué 4G (Ecran: 5,2 pouces - 32 Go - Double Nano-SIM - Android 6.0) Blanc Nacré', 10), ('Honor 8 Smartphone débloqué 4G (Ecran: 5,2 pouces - 32 Go - Double Nano-SIM - Android 6.0) Blanc Nacré', 10), ('CUBOT 3G Smartphone CUBOT GT72+ GT72 PLUS avec 4,0 Pouces Ecran 512Mo RAM+4Go ROM Dual Core MTK6572 1.2GHz Google Android 4.4 KitKat Dual SIM WIFI FM Bluetooth-résolution 800 x 480 mégapixel- Blanc- pour opérateur orange SFR Bouygues Virgin Free ISYS Lebara Nume', 10), ('AICEK Coque ASUS ZenFone 3 Max ZC520TL, AICEK Etui Silicone Gel ASUS ZenFone 3 Max Housse Antichoc ZenFone 3 Max Transparente Souple Coque de Protection pour ASUS ZenFone 3 Max(5.2 Pouces)', 10)] \n",
      "\n",
      "vincenzo ->  [('Lenovo Motorola Moto G Smartphone, 4,5 pollici display HD, processore Qualcomm, memoria 16GB, MicroSIM, Android 4.3 OS, fotocamera da 5 MP, Nero [Germania]', 10), ('Nokia Lumia 625 Smartphone, Bianco [Italia]', 9.650112952000278), ('Samsung E1200 Telefono Cellulare, Nero [Italia]', 9.208657374903952), ('Alcatel One Touch Pop C9 Smartphone, Dual SIM, 4 GB, Bianco [Italia]', 9.127372356643763), ('Alcatel Onetouch Pop C7 Smartphone, 4 GB, Dual SIM, Nero [Italia]', 8.475269946259964)] \n",
      "\n",
      "Amazon Kunde ->  [('Honor 8 Smartphone (13,2 cm (5,2 Zoll) Touchscreen, 32GB interner Speicher, Android OS) weiß', 10), ('Honor 8 Smartphone (13,2 cm (5,2 Zoll) Touchscreen, 32GB interner Speicher, Android OS) weiß', 10), ('HTC One M9 Smartphone (5 Zoll (12,7 cm) Touch-Display, 32 GB Speicher, Android 5.0.2) dunkelgrau', 9.83538886467882), ('HTC One M9 Smartphone (5 Zoll (12,7 cm) Touch-Display, 32 GB Speicher, Android 5.0.2) dunkelgrau', 9.83538886467882), ('Honor 7 Smartphone (13,2 cm (5,2 Zoll) Touchscreen, 16GB interner Speicher, Android OS) grau', 9.8)] \n",
      "\n",
      "Евгений ->  [('Sony Xperia Z1 (белый)', 9.89047583762723), ('Sony Xperia Z1 (белый)', 9.89047583762723), ('Huawei Ascend P7', 9.769875950309093), ('Samsung N7100 Galaxy Note II 16GB (серый)', 9.634169741882467), ('Huawei Ascend G600 (U8950)', 9.590607791553973)] \n",
      "\n",
      "Олег ->  [('Apple iPhone 5s 16GB (серебристый)', 9.001924243530082), ('Apple iPhone 5s 16GB (серебристый)', 9.001924243530082), ('Apple iPhone 5s 16GB (серебристый)', 9.001924243530082), ('Nokia 5230 Navigation Edition', 8.889150331346912), ('Samsung Galaxy A5', 8.747177000945943)] \n",
      "\n",
      "Анна ->  [('Sony Xperia Z1 Compact (черный)', 9.36073202549994), ('Sony Xperia Z1 Compact (белый)', 9.18127842498443), ('Sony Xperia Z1 Compact (белый)', 9.18127842498443), ('Nokia 3250', 9.16107725821889), ('Samsung Galaxy A5', 9.135501531559198)] \n",
      "\n",
      "Manuela ->  [('Samsung C3350 Handy (5,6 cm (2,2 Zoll) Display, 2 Megapixel Kamera) steel-gray', 10), ('Samsung C3350 Handy (5,6 cm (2,2 Zoll) Display, 2 Megapixel Kamera) steel-gray', 10), ('Samsung Galaxy SIII Mini UK SIM-Free Smartphone - White (discontinued by manufacturer)', 9.989256954802316), ('Smartphone Samsung Galaxy Win Duos Grafite com Dual Chip, Tela de 4.7\", Android 4.1, Processador Quad Core, 3G, Wi-Fi e Câmera de 5MP', 9.84926217494624), ('Lenovo Motorola Moto G Smartphone, Display HD 4,5\", Processore Qualcomm, Memoria 8 GB, MicroSIM, Android 4.4 OS, Fotocamera da 5 MP, Nero [Germania]', 9.60496594220666)] \n",
      "\n",
      "Александр ->  [('Samsung Galaxy S7', 10), ('Samsung S8530 Wave II', 9.93137059747191), ('Samsung Galaxy A5', 9.852546978541422), ('Samsung Galaxy Note5', 9.694829502255171), ('LG Optimus L7 P705 Black', 9.627686384147507)] \n",
      "\n",
      "e-bit ->  [('Smartphone Samsung Galaxy S6 Edge SM-G925 32GB', 10), ('Smartphone Samsung Galaxy S7 Edge SM-G935 32GB', 10), ('Smartphone Samsung Galaxy S7 Edge SM-G935 32GB', 10), ('Smartphone Samsung Galaxy S7 Edge SM-G935 32GB', 10), ('Smartphone Samsung Galaxy S7 Edge SM-G935 32GB', 10)] \n",
      "\n",
      "Alessandro ->  [('Alcatel One Touch Idol 3 Smartphone, 4.7\", Dual SIM, Grigio Scuro [Italia]', 10), ('Lenovo Motorola Moto G Smartphone, Display HD 4,5\", Processore Qualcomm, Memoria 8 GB, MicroSIM, Android 4.4 OS, Fotocamera da 5 MP, Nero [Germania]', 10), ('Asus ZenFone 3 Max Smartphone, Memoria Interna da 32 GB, Dual-SIM, Grigio [Italia]', 10), ('Lenovo Motorola Moto G Smartphone, Display HD 4,5\", Processore Qualcomm, Memoria 8 GB, MicroSIM, Android 4.4 OS, Fotocamera da 5 MP, Nero [Germania]', 10), ('Motorola MOTOFONE F3', 9.971349214756323)] \n",
      "\n",
      "Matthew ->  [('Samsung Galaxy S6 64 GB UK SIM-Free Smartphone - Gold', 9.410990956159273), ('Nokia Lumia 635 (AT&T Go Phone) No Annual Contract', 9.03749217522197), ('Sim Free Motorola Moto G 4th Generation Mobile Phone - Black', 8.998805520058381), ('Microsoft Lumia 535 (Bright Green, 8GB)', 8.461024462321458), ('Motorola Photon 4G Android Phone (Sprint)', 8.091485507246377)] \n",
      "\n",
      "Гость ->  [('Samsung Galaxy A3', 9.065479918889011), ('Samsung Galaxy A3', 9.065479918889011), ('Samsung GT-S5230 Star', 9.0), ('Samsung GT-S5230 Star', 9.0), ('Samsung GT-S5230 Star', 9.0)] \n",
      "\n",
      "zehrabalta ->  [('Nokia N76 Cep Telefonu', 1), ('Samsung U900 1GB Cep Telefonu', 1), ('Samsung M620 Cep Telefonu', 1), ('Nokia 5800 XpressMusic Cep Telefonu', 1), ('Sony Ericsson K850i Cep Telefonu', 1)] \n",
      "\n",
      "Андрей ->  [('Sony Xperia Z (черный)', 9.475756205696907), ('Samsung Galaxy Note5', 9.462215687970783), ('Samsung S8530 Wave II', 9.38198819069081), ('LG Optimus L7 P705 Black', 9.128857859399337), ('Samsung N7100 Galaxy Note II 16GB (белый)', 8.993078555293867)] \n",
      "\n",
      "Дима ->  [('Samsung S5620 Monte', 10), ('Nokia 5230 Navigation Edition', 10), ('Sony Xperia Z (белый)', 10), ('Sony Xperia SP (красный)', 9.759254139731278), ('Apple iPhone 5s 16GB (серебристый)', 9.739792129128602)] \n",
      "\n",
      "unknown ->  [('Apple iPhone 5s (Gold, 16GB)', 10), ('Microsoft Nokia Lumia 830 Smartphone (5 Zoll (12,7 cm) Touch-Display, 16 GB Speicher, Windows 8.1) schwarz', 10), ('Samsung Samsung Galaxy A5 2016 - Wit', 9.8), ('Samsung Samsung Galaxy A5 2016 - Wit', 9.8), ('Samsung Samsung Galaxy A5 2016 - Wit', 9.8)] \n",
      "\n",
      "Michelle ->  [('APPLE iPhone 6s Plus - 128 GB, Rose Gold', 10), ('LG Optimus V Prepaid Android Phone (Virgin Mobile)', 9.90352056089942), ('Nokia Microsoft Nokia Lumia 640 LTE RM-1072 8GB 5\" Unlocked GSM Windows 8MP Camera Smartphone - Black - International Version No Warranty', 9.352431151595347), ('BLU Life Play 2, 1.3GHz Quad Core, Android 4.4 KK, 4G HSPA+ with 8MP Camera - Unlocked (White)', 9.269856981639983), ('Samsung Galaxy S7 goud, roze / 32 GB', 9.250542607454152)] \n",
      "\n",
      "Angel ->  [('Smartphone Samsung Galaxy S III Neo Duos Branco com Tela 4.8\", Dual Chip, Câmera 8MP, Android 4.3, 3G e Processador Quad-Core de 1.4 Ghz', 9.91875315572188), ('Lenovo Moto G4 Play - Smartphone de 5 (4G, RAM de 2 GB, memoria interna de 16 GB, cámara de 8 MP, Android 6), blanco', 9.670326282537998), ('Doro PhoneEasy 612 Mobiltelefon Klapphandy (2 Megapixel Kamera, großen Tasten, UKW-Radio) aubergine', 9.443451264630076), ('Samsung Galaxy Y Duos S6102 - Smartphone libre (pantalla táctil de 3,14\" 240 x 320, cámara 3.15 Mp, 160.0 MB, procesador de 832 MHz, 290 MB de RAM, dual SIM, S.O. Android 2.3), negro (importado)', 8.988852882065961), ('Samsung Galaxy S5 SM-G900F 16GB Factory Unlocked Cellphone International Version, Retail Packaging, Black', 8.96948117349611)] \n",
      "\n",
      "???????????? ???????? ->  [('Nokia 808 PureView', 8.904551997450953), ('Apple iPhone 4S 16Gb', 8.194244706455418), ('Apple iPhone 5 16Gb', 7.710845234594118), ('Nokia Asha 302', 7.664997550380654), ('HTC One X 16Gb', 7.514898703742773)] \n",
      "\n",
      "manuel ->  [('Samsung Galaxy S III mini (I8190) - Smartphone libre Android (pantalla 4\", cámara 5 Mp, 8 GB, Dual-Core 1 GHz, 1 GB RAM), blanco', 10), ('LG G2 - Smartphone libre Android (pantalla 5.2\", cámara 13 Mp, 16 GB, Quad-Core 2.3 GHz), negro', 9.543814870443336), ('Motorola Moto G (3ª Generación) + Carcasa Oficial color turquesa - Smartphone libre Android 6 (4G, pantalla 5\", cámara 13 Mp, 16 GB, Quad Core 1.4 GHz, 2 GB de RAM), negro', 9.317486045155944), ('Huawei P8 Lite - Smartphone libre Android (pantalla 5\", cámara 13 Mp, 16 GB, Octa-Core 1.2 GHz, 2 GB RAM), color dorado', 8.992619723738112), ('LG G3 D855 - Smartphone libre Android (pantalla 5.5\", cámara 13 Mp, 3 GB RAM (32 GB eMMC) ,Quad-Core 2.5 GHz), negro metalizado (importado)', 8.008862744518446)] \n",
      "\n",
      "Luigi ->  [('Lenovo Motorola Moto G Smartphone, Display HD 4,5\", Processore Qualcomm, Memoria 8 GB, MicroSIM, Android 4.4 OS, Fotocamera da 5 MP, Nero [Germania]', 9.963596477049771), (\"Huawei P9 Lite Smartphone, LTE, Display 5.2'' FHD, Processore Octa-Core Kirin 650, 16 GB Memoria Interna, 3GB RAM, Fotocamera 13 MP, Single-SIM, Android 6.0 Marshmallow, Bianco [Italia]\", 9.836997111891481), ('LG D802 G2 Smartphone, 32 GB, Black Exclusive [Italia]', 9.631728040046049), ('Samsung SM-N910F Galaxy Note 4 Smartphone, 32 GB, Bianco [Italia]', 9.459290695744148), ('Huawei P8 lite Smartphone, Display 5.0\" IPS, Dual Sim, Processore Octa-Core, Memoria 16 GB, Fotocamera 13 MP, Android 5.0, Bianco', 8.996697847013934)] \n",
      "\n",
      "incesaz ->  [('Nokia 2630 Cep Telefonu', 1), ('Apple iphone 3G 16GB Cep Telefonu', 1), ('Samsung Omnia (i900) Cep Telefonu', 1), ('Nokia N81 Cep Telefonu', 1), ('Nokia 8800 Arte Cep Telefonu', 1)] \n",
      "\n",
      "einem Kunden ->  [('Samsung Galaxy S7 Smartphone, 12,9 cm (5,1 Zoll) Display, LTE (4G)', 10), ('Samsung Galaxy S7 Smartphone, 12,9 cm (5,1 Zoll) Display, LTE (4G)', 10), ('Samsung Galaxy S7 Smartphone, 12,9 cm (5,1 Zoll) Display, LTE (4G)', 10), ('Sony Xperia XZ Smartphone, 13,2 cm (5,2 Zoll) Display, LTE (4G), Android 6.0 (Marshmallow)', 10), ('Samsung Galaxy S7 Smartphone, 12,9 cm (5,1 Zoll) Display, LTE (4G)', 10)] \n",
      "\n",
      "Nicole ->  [('Sony Ericsson Xperia X8 Smartphone ( 3.2 MP, Android OS, aGPS, WiFi, 3.5mm Klinkenstecker) weiß/blau', 9.02582792148614), ('Microsoft Nokia 3720 classic Handy (Outdoor, Bluetooth, E-Mail, Ovi, Kamera mit 2 MP) grey', 8.770017971673953), ('Samsung Galaxy S4 SCH-I545 16GB Arctic Blue - Verizon Wireless', 8.572553425599336), ('LG D855 G3 Smartphone, 16 GB, Nero Metallico [Italia]', 8.522592593185218), ('Samsung Galaxy S4 Smartphone (12,7 cm (4,9 Zoll) AMOLED-Touchscreen, 16GB interner Speicher, 13 Megapixel Kamera, LTE, Android 5.0) - Schwarz [EU-Version]', 8.055403045985095)] \n",
      "\n",
      "Jennifer ->  [('LG Electronics E975 Optimus G Smartphone (11,9 cm (4,7 Zoll) Touchscreen, Quad-Core, 1,5GHz, 13 Megapixel Kamera, microUSB, Android 4.1) schwarz', 10), ('BLU Studio 5.0 C HD Quad Core - Unlocked Cell Phone - (White)', 8.302400258694169), ('BlackBerry 8520 Unlocked Phone with 2 MP Camera, Bluetooth, Wi-Fi--International Version with No Warranty (Black)', 8.039516350438955), ('Samsung Galaxy Note, i717 16GB Unlocked GSM 4G LTE 8MP Camera Smartphone with S Pen Stylus - White', 7.265533812715645), ('Microsoft Nokia Lumia 520 Smartphone (10,1 cm (4,0 Zoll) WVGA ClearBlack LCD Touchscreen, 5,0 Megapixel Auto Fokus Kamera, 1,0 GHz Dual-Core-Prozessor, Windows Phone 8) rot', 6.54949961167832)] \n",
      "\n",
      "Дмитрий ->  [('LG Optimus L9', 10), ('Samsung Galaxy S7', 10), ('Nokia 6303i Classic', 10), ('Samsung Galaxy Alpha', 9.702918528138824), ('Sony Ericsson Cedar', 9.654583751725383)] \n",
      "\n",
      "Alberto ->  [('Nokia 113', 10), ('Samsung Galaxy S3 I9300 Blanco Libre', 10), ('Samsung Galaxy S3 I9300 Blanco Libre', 10), ('Lenovo Motorola Moto G Smartphone, 4,5 pollici display HD, processore Qualcomm, memoria 16GB, MicroSIM, Android 4.3 OS, fotocamera da 5 MP, Nero [Germania]', 9.965294237961665), ('Lenovo Moto G4 Play - Smartphone de 5 (4G, RAM de 2 GB, memoria interna de 16 GB, cámara de 8 MP, Android 6), blanco', 9.917378038864479)] \n",
      "\n",
      "?????�?????? ->  [('Samsung i8160 Galaxy Ace 2', 8.231429127852781), ('Nokia 603', 7.888989100744745), ('Apple iPhone 5 16Gb', 7.880999894331947), ('LG Optimus L5 E612 White', 7.412556039617794), ('Sony Xperia V (?�????????????)', 7.3)] \n",
      "\n",
      "Alex ->  [('Microsoft Lumia 640 5 inch SIM-Free Smartphone - Black', 10), ('Sim Free Apple iPhone SE 64GB Mobile Phone - Space Grey', 10), ('Huawei P8 Smartphone (5,2 Zoll (13,2 cm) Touch-Display, 16 GB Speicher, Android 5.0) grau', 10), ('Sony Xperia Z1 (фиолетовый)', 10), ('Huawei Honor 5X Unlocked Smartphone, 16GB Dark Grey (US Warranty)', 10)] \n",
      "\n",
      "Владимир ->  [('Samsung Galaxy Note5', 9.735316450698924), ('LG Optimus L7 P705 Black', 9.250194961312465), ('LG Optimus L7 P705 Black', 9.250194961312465), ('Samsung S7270 Galaxy Ace 3 (белый)', 9.170104289742648), ('Nokia X2-02 Bright Red', 9.144633219379312)] \n",
      "\n",
      "Chris ->  [('Sim Free Samsung Galaxy S7 Edge Mobile Phone - Black.', 9.818152342749626), ('Sim Free Apple iPhone 5S 16GB Mobile Phone - Space Grey', 9.78984880129367), ('APPLE iPhone 7 Plus - Gold, 32 GB', 9.74484787322257), ('Sim Free Apple iPhone 5S 16GB Mobile Phone - Silver', 9.736623483056864), ('Samsung Galaxy A5 (2016) Smartphone (5,2 Zoll (13,22 cm) Touch-Display, 16 GB Speicher, Android 5.1) gold', 9.467956758846588)] \n",
      "\n",
      "Сергей ->  [('Сотовый телефон Asus ZenFone 2', 10), ('Samsung Galaxy Note5', 9.856323578139218), ('LG P500 Optimus One', 9.47761255112251), ('Samsung Galaxy S4 mini Duos GT-I9192 (черный)', 9.477056090443154), ('Samsung Galaxy S4 mini Duos GT-I9192 (черный)', 9.477056090443154)] \n",
      "\n",
      "Claudio ->  [('Huawei Honor 5X Unlocked Smartphone, 16GB Dark Grey (US Warranty)', 10), ('Samsung G935 Galaxy S7 Edge Smartphone da 32GB, Argento [Italia]', 10), ('Samsung Galaxy Grand Duos i9082 Smartphone (Blue) - Factory Unlocked, 5\" Screen, Dual Sim, Dual-core 1.2 GHz, Dual Cameras (8MP Rare), Wi-Fi and GPS', 10), ('Microsoft Lumia 640 Smartphone, 8 GB, Marchio TIM, Bianco [Italia]', 9.849768749212904), ('Huawei Ascend Y550 Smartphone, 4 GB, Nero', 9.641473798205178)] \n",
      "\n",
      "Guido ->  [('Huawei P8lite zwart / 16 GB', 9.564108997101036), ('Huawei P8lite zwart / 16 GB', 9.564108997101036), ('Nokia Lumia 800 Cyan Blue', 9.448006008977774), ('Alcatel One Touch Idol Mini Smartphone, Dual SIM, Blu [Italia]', 9.390452436029962), ('elephone P9000 4G FDD-LTE TDD-LTE Smartphone Android 6.0 Octa Core MTK6755 5.5\" 1.6mm Ultra Narrow OGS Screen 2.0GHz 4GB RAM 32GB ROM Dual Cameras 8MP 13MP (Black)', 9.357421537021253)] \n",
      "\n",
      "G ->  [('Samsung Galaxy J3 (8GB)', 8.689334093773306), ('Nokia E71', 6.901644944642296), ('LG Extravert Prepaid Phone (Verizon Wireless)', 5.161231442810616), ('Nokia 225 UK SIM-Free Mobile Phone - Black', 4.477737107099005), ('Samsung Galaxy S III T999 16GB T-Mobile GSM Android Smartphone- Pebbel Blue', 3.620378375671386)] \n",
      "\n",
      "einer Kundin ->  [('Apple iPhone 7 4,7\" 32 GB', 10), ('Apple iPhone 7 4,7\" 32 GB', 10), ('Apple iPhone 7 4,7\" 32 GB', 10), ('Apple iPhone 7 4,7\" 32 GB', 10), ('Apple iPhone 6s 4,7\" 128 GB', 10)] \n",
      "\n",
      "Andrea ->  [('Lenovo Motorola Moto G 4G 3 Generazione Smartphone, Display 5\", Fotocamera 13 MP, Memoria 16 GB, Android 6 Lollipop, Nero [Italia]', 10), ('Lenovo Motorola Moto G (3a Generación) - Smartphone libre Android (4G, 5\", 13 MP, 16 GB, 2 GB RAM), color negro', 10), ('Lenovo Motorola Moto G 4G 3 Generazione Smartphone, Display 5\", Fotocamera 13 MP, Memoria 16 GB, Android 6 Lollipop, Nero [Italia]', 10), ('Lenovo Motorola Moto G 4G 3 Generazione Smartphone, Display 5\", Fotocamera 13 MP, Memoria 16 GB, Android 6 Lollipop, Nero [Italia]', 10), ('Lenovo Motorola Moto G 4G 3 Generazione Smartphone, Display 5\", Fotocamera 13 MP, Memoria 16 GB, Android 6 Lollipop, Nero [Italia]', 10)] \n",
      "\n",
      "Anonymous ->  [('LG None None', 10), ('HTC Windows Phone 8X by HTC', 10), ('HTC Windows Phone 8X by HTC', 10), ('Apple iPhone 7, 32Gb - Rose Gold', 10), ('Apple iPhone 7 Plus', 10)] \n",
      "\n",
      "Sabrina ->  [('WIKO Fever 4G Smartphone, 16 GB, Dual SIM, Nero/Oro', 9.302414062609854), ('Sony Ericsson Xperia X8 Smartphone ( 3.2 MP, Android OS, aGPS, WiFi, 3.5mm Klinkenstecker) weiß/blau', 8.499098780730103), ('HTC Evo 3D Smartphone (10,9 cm (4,3 Zoll) Display, Touchscreen, 5 Megapixel Kamera, Android 2.3 OS) schwarz', 8.492389527157881), ('Samsung S7710 Galaxy Xcover 2 Smartphone (10,2 cm (4 Zoll) Touchscreen, 1GHz, Dual-Core, 1GB RAM, 4GB, 5 Megapixel Kamera, Android 4.1) titan/grau', 8.178360169334965), ('Microsoft Lumia 930 Smartphone (5 Zoll (12,7 cm) Touch-Display, 32 GB Speicher, Windows 8.1) weiß', 7.997931225379709)] \n",
      "\n",
      "anonym ->  [('Siemens C45', 9.109524195014025), ('Sony Ericsson W810i', 9.000595008354173), ('Sony Ericsson K800i', 8.955114403868938), ('Nokia 7210', 8.880611116722346), ('Siemens C35i', 8.83256154215147)] \n",
      "\n",
      "Cliente Amazon ->  [('Huawei Ascend P7 Smartphone, 16 GB, Nero', 9.899255996385829), (\"Huawei P9 Lite Smartphone, LTE, Display 5.2'' FHD, Processore Octa-Core Kirin 650, 16 GB Memoria Interna, 3GB RAM, Fotocamera 13 MP, Single-SIM, Android 6.0 Marshmallow, Nero [Italia]\", 9.8), (\"Huawei P9 Lite Smartphone, LTE, Display 5.2'' FHD, Processore Octa-Core Kirin 650, 16 GB Memoria Interna, 3GB RAM, Fotocamera 13 MP, Single-SIM, Android 6.0 Marshmallow, Nero [Italia]\", 9.8), ('Asus ZE551ML-2A760WW Smartphone ZenFone 2 Deluxe, 5.5\", 4 GB RAM, 64 GB, Intel Quad-Core Z3580, Dual SIM, Illusion Purple', 9.8), ('Honor 7 Smartphone 4G, Display Full HD 5.2 Pollici, Processore Kirin 935 Octa Core 2.2 GHz, 16 GB Memoria Interna, 3 GB RAM, Fotocamera 20 MP, Argento', 9.8)] \n",
      "\n",
      "Cristina ->  [('Motorola Moto G (3ª Generación) + Carcasa Oficial color turquesa - Smartphone libre Android 6 (4G, pantalla 5\", cámara 13 Mp, 16 GB, Quad Core 1.4 GHz, 2 GB de RAM), negro', 9.017794774838189), ('Lenovo Motorola Moto G 4G 3 Generazione Smartphone, Display 5\", Fotocamera 13 MP, Memoria 16 GB, Android 6 Lollipop, Nero [Italia]', 8.897172037909257), ('Alcatel One Touch Idol 3 Smartphone, 4.7\", Dual SIM, Grigio Scuro [Italia]', 8.818828930148825), ('Motorola Moto E - Smartphone libre Android (4.5\", 5 Mp, 8 GB, 1 GB RAM, 4G), color blanco', 8.588745323036626), ('Lenovo Motorola Moto G Smartphone, 4,5 pollici display HD, processore Qualcomm, memoria 16GB, MicroSIM, Android 4.3 OS, fotocamera da 5 MP, Nero [Germania]', 8.50697524197446)] \n",
      "\n",
      "Massimo ->  [('Asus ZenFone 2 Smartphone 5.5 pollici HD, RAM 2 GB, 16 GB, 4G/LTE, Bianco', 9.972849922838813), ('Lenovo Motorola Moto G 4G (2 Generazione) Smartphone, Display 5 Pollici, LTE, Fotocamera 8 MP, Memoria 8 GB, Android 5 Lollipop, Nero [Italia]', 9.784137743796723), ('Samsung I9060i Galaxy Grand Neo Plus Smartphone, 8 GB, Nero [Italia]', 9.619402016007937), ('Asus ZenFone 3 Smartphone, Memoria Interna da 64 GB, Dual-SIM, Bianco [Italia]', 9.551304635749181), ('Asus ZenFone 5 Smartphone, 16 GB, RAM 2 GB, Nero/Antracite [Italia]', 9.531877250404268)] \n",
      "\n",
      "Оксана ->  [('Sony Xperia Z (черный)', 8.342947643693314), ('Apple iPhone 5s 16GB (серебристый)', 8.014300105025388), ('LG Optimus L7 P705 Black', 7.620899493596749), ('Samsung Galaxy S4 GT-I9500 16GB (черный)', 7.561871843398208), ('Sony Xperia C (фиолетовый)', 7.394409043360898)] \n",
      "\n",
      "mrgreg ->  [('Nokia 2730 classic', 7.127627253308829), ('Nokia Asha 306', 5.636834833976466), ('Nokia 105', 5.636834833976466), ('Sony Ericsson F305', 5.236834833976466)] \n",
      "\n",
      "Qantas ->  [('Apple iPhone 5 64GB', 10), ('LG Optimus Black P970', 7.916834833976465), ('Apple iPhone 5s', 7.551581503508736), ('Sony Ericsson P1i', 7.516834833976465), ('Nokia Lumia 620', 7.466394795334779)] \n",
      "\n",
      "karol07 ->  [('Samsung U800 Cep Telefonu', 1), ('Nokia N82 Cep Telefonu', 1), ('Nokia 5310 Cep Telefonu', 1), ('Nokia N95 8 GB Cep Telefonu', 1), ('Samsung M150 Cep Telefonu', 1)] \n",
      "\n",
      "Oliver ->  [('Blackberry Z30 Smartphone ( 12,7 cm (5 Zoll) AMOLED Touchscreen, 8 Megapixel Kamera, 2GB RAM, 16GB Speicher) schwarz', 10), ('Huawei Ascend Mate 7 Smartphone (6 Zoll (15,2 cm) Touch-Display, 16 GB Speicher, Android 4.4) silber', 10), ('Microsoft Nokia 3110 classic black (Bluetooth, UKW Radio, MP3, Kamera mit 1,3 MP) Handy', 10), ('Samsung S5230 Tocco Lite Sim Free Mobile Phone - Black', 9.84418383833871), ('Nexus LG Nexus 5 UK Smartphone - White (16GB)', 9.572135573432568)] \n",
      "\n",
      "Giovanni ->  [('Samsung Galaxy S7 edge SM-G935F 32GB Smartphone (Unlocked, Blue)', 10), ('Lenovo Motorola Moto G LTE Smartphone, Display 4.5\", Fotocamera 5 MP, Memoria 8 GB, Quad-Core 1.2 GHz, 1 GB RAM, Micro SD, Android 4.4.3, Bianco [Italia]', 9.376616066091168), ('Nokia Lumia 520 Smartphone, Black [Italia]', 9.312787013379236), ('Nokia Lumia 520 Smartphone, Black [Italia]', 9.312787013379236), ('Huawei Ascend P6 Smartphone, 8 GB, Fotocamera 8 MP, Display 4.7 Pollici HD, Wi-Fi, Rosa', 9.199349270286904)] \n",
      "\n",
      "Kunde ->  [('Blackberry Z30 Smartphone ( 12,7 cm (5 Zoll) AMOLED Touchscreen, 8 Megapixel Kamera, 2GB RAM, 16GB Speicher) schwarz', 10), ('HTC 10 Smartphone (13,2 cm (5,2 Zoll) Super LCD 5 Display, 1440 x 2560 Pixel, 12 Ultrapixel, 32 GB, Android) glacier silber', 10), ('Nokia 500 Smartphone (8,1 cm (3,2 Zoll) Display, Touchscreen, 5 Megapixel Kamera, 2GB Speicher) schwarz', 10), ('Samsung Galaxy S III Neo Smartphone (4,8 Zoll (12,2 cm) Touch-Display, 16 GB Speicher, Android 4.4) schwarz', 9.961797594329694), ('Samsung Galaxy J5 Smartphone (5 Zoll (12,7 cm) Touch-Display, 8 GB Speicher, Android 5.1) gold', 9.687363844734467)] \n",
      "\n",
      "paolo ->  [(\"Huawei P9 Lite Smartphone, LTE, Display 5.2'' FHD, Processore Octa-Core Kirin 650, 16 GB Memoria Interna, 3GB RAM, Fotocamera 13 MP, Single-SIM, Android 6.0 Marshmallow, Nero [Italia]\", 10), ('Samsung N9005 Galaxy Note 3 Smartphone, 32 GB, Nero [Italia]', 10), ('Samsung Factory Unlocked Samsung Galaxy Mega 6.3 I9205 LTE White Phone', 10), ('Samsung I9192 Galaxy S4 Mini Duos Smartphone, Nero [Europa]', 10), ('Alcatel One Touch Idol Mini Smartphone, Dual SIM, Blu [Italia]', 9.418005333633092)] \n",
      "\n",
      "Kindle-Kunde ->  [('LG Electronics G2 Smartphone ( 13,2 cm (5,2 Zoll) Touchscreen, Quad-Core, 13 Megapixel Kamera, 16GB Speicher, Android 4.2) weiß', 8.681091869936058), ('Samsung Galaxy S III Neo Smartphone (4,8 Zoll (12,2 cm) Touch-Display, 16 GB Speicher, Android 4.4) schwarz', 8.542170316992278), ('Samsung Galaxy Ace 3 Smartphone (10,2 cm (4 Zoll) Touchscreen, Dual-Core, 1,2 GHz, 1GB RAM, 5 Megapixel Kamera, Android 4.2) weiß', 8.489936789056951), ('Alcatel One Touch 918D Smartphone (8,1 cm (3,2 Zoll) Touchscreen, 3,2 Megapixel Kamera, Dual-SIM, Android 2.3) schwarz', 8.37672373383269), ('Sony Ericsson Xperia active Smartphone (7,6 cm (3 Zoll) Touchscreen Display, 5 Megapixel Kamera, GMS, UMTS, GPRS, microSD, WiFi, Android 2.3 OS) schwarz/orange', 8.37627253844554)] \n",
      "\n",
      "jesus ->  [('Dell Venue Pro Phone 8 GB with Windows 7 Operating System, 5MP Camera for ATT Network', 8.487039423672872), ('Microsoft Lumia 535 - Smartphone libre (pantalla 5\", cámara 5 Mp, 8 GB, 1.2 GHz, 1 GB RAM, Windows), negro (importado)', 8.484806782039286), ('Motorola Moto G (3ª Generación) + Carcasa Oficial color turquesa - Smartphone libre Android 6 (4G, pantalla 5\", cámara 13 Mp, 16 GB, Quad Core 1.4 GHz, 2 GB de RAM), negro', 8.355463678556449), ('Sony Xperia XA Ultra unlocked smartphone,16GB Black (US Warranty)', 7.689984555301318), ('Samsung Galaxy Ace 2, 96.5 mm (3.8 \"), 480 x 800 Pixeles, 16.0 M, multi-touch, capacitive, 2.1 GB con NFC (importado de Alemania)', 6.960286578442171)] \n",
      "\n",
      "gumusoje ->  [('Samsung innov8 (i8510) Cep Telefonu', 1), ('Samsung Omnia (i900) Cep Telefonu', 1), ('Apple iPhone 3GS 32GB', 1), ('Samsung I560 Cep Telefonu', 1), ('Sony Ericsson K850i Cep Telefonu', 1)] \n",
      "\n",
      "chris ->  [('Samsung Galaxy S4 zoom - Smartphone (10,9 cm (4,27 Zoll) Super-AMOLED-Touchscreen, 8 GB interner Speicher, 16 Megapixel Kamera, 10fach optischer Zoom, Android 4.2), weiß', 10), ('LG Electronics G5 Smartphone (5,3 Zoll (13,5 cm) Touch-Screen, 32GB interner Speicher, Android 6.0) titan', 9.641173072455118), ('Motorola Moto G 4G SIM-Free Smartphone - Black (8GB) - Discontinued by manufacturer', 9.616330153873445), ('Nokia C2-01 Sim Free Mobile Phone 3G - Black', 9.440747733302674), ('Blackberry Bold 9790 Smartphone 8GB (6,4 cm (2,5 Zoll) Touchscreen, 5 Megapixel Kamera, QWERTZ) schwarz', 9.401717383378076)] \n",
      "\n",
      "lahr2006 ->  [('Apple iPhone 4S 16GB', 7.551581503508736), ('Apple iPhone 6 16GB', 4.414040469359817), ('Samsung S5260 Star II', 4.155791635998064), ('Samsung Galaxy Express I8730', 1), ('Samsung Galaxy Express I8730', 1)] \n",
      "\n",
      "Mirko ->  [('Lenovo Motorola Moto G Smartphone, 4,5 pollici display HD, processore Qualcomm, memoria 16GB, MicroSIM, Android 4.3 OS, fotocamera da 5 MP, Nero [Germania]', 10), ('Lenovo Motorola Moto G Smartphone, 4,5 pollici display HD, processore Qualcomm, memoria 16GB, MicroSIM, Android 4.3 OS, fotocamera da 5 MP, Nero [Germania]', 10), ('Samsung Galaxy S III Smartphone, Bianco [Italia]', 10), ('Samsung Galaxy S3 mini I8190 Smartphone (10,2 cm (4 Zoll) AMOLED Display, Dual-Core, 1GHz, 1GB RAM, 5 Megapixel Kamera, Android 4.1) marble-white', 10), ('Samsung Galaxy J5 Smartphone, Nero [Italia]', 9.706977230227224)] \n",
      "\n",
      "Юлия ->  [('Samsung N7100 Galaxy Note II 16GB (серый)', 9.277394360087508), ('Samsung N7100 Galaxy Note II 16GB (серый)', 9.277394360087508), ('Samsung S5260 Star II', 9.276089101749744), ('Sony Xperia Z (белый)', 9.221720050139622), ('Samsung N7100 Galaxy Note II 16GB (белый)', 9.105212285862402)] \n",
      "\n",
      "miatamania ->  [('Samsung P520 Armani Cep Telefonu', 1), ('Samsung U800 Cep Telefonu', 1), ('Nokia E51 Cep Telefonu', 1), ('Nokia N96 Cep telefonu', 1), ('Nokia N95 Cep Telefonu', 1)] \n",
      "\n",
      "Roman ->  [('Sony Xperia Z1 (фиолетовый)', 9.48476355043752), ('Huawei P8 Smartphone (5,2 Zoll (13,2 cm) Touch-Display, 16 GB Speicher, Android 5.0) grau', 8.78020030992636), ('Nokia N82', 8.353352373957687), ('Samsung Galaxy S5 Mini G800H Unlocked Cellphone, International Version, 16GB, Black', 7.899247275961612), ('Sony Xperia Z2 - Smartphone libre Android (pantalla 5.2\", cámara 20.7 Mp, 16 GB, Quad-Core 2.3 GHz, 3 GB RAM), negro (importado)', 7.557765179588578)] \n",
      "\n",
      "Amazon-Kunde ->  [('Samsung E1150i Klapphandy 3,6 cm (1,43 Zoll) Display ruby-red', 10), ('Samsung S5610 Handy (6.1 cm (2.4 Zoll) Display, 5 Megapixel Kamera, 108 MB interner Speicher) metallic-silber', 9.956925675675675), ('BlackBerry Passport Smartphone (11,4 cm (4,5 Zoll) Display, Nano-SIM, QWERTZ, 32GB interner Speicher, 13 Megapixel...', 9.83366779602061), ('Honor 8 Smartphone (13,2 cm (5,2 Zoll) Touchscreen, 32GB interner Speicher, Android OS) weiß', 9.625827521386803), ('Wiko Rainbow Smartphone (12,7 cm (5 Zoll) Display , 8 GB interner Speicher, Android 4.4.2 KitKat) neongelb', 9.574285456217146)] \n",
      "\n",
      "?????????? ->  [('Sony Ericsson Xperia neo V MT11i', 9.649123003928898), ('Sony Xperia S LT26i', 9.133165824289527), ('Samsung S7562 Galaxy S Duos', 8.964143129155527), ('Samsung S7562 Galaxy S Duos', 8.964143129155527), ('LG Optimus L5 E612 White', 8.788387043541867)] \n",
      "\n",
      "Stephen ->  [('APPLE iPhone 6s Plus - 128 GB, Rose Gold', 9.663359447432427), ('Huawei Honor 5X Unlocked Smartphone, 16GB Dark Grey (US Warranty)', 9.03384585708461), ('Huawei Mate 9 with Amazon Alexa and Leica Dual Camera - 64GB Unlocked Phone - Space Gray (US Warranty)', 8.710426874275282), ('Huawei P8 grijs / 16 GB', 8.603949830993976), ('Huawei P9 grijs, zwart / 32 GB', 8.324304326863933)] \n",
      "\n",
      "Andreas ->  [('Samsung Galaxy Note II N7100 Smartphone 16GB (14 cm (5,5 Zoll) AMOLED-Touchscreen, Quad-core, 1,6GHz, 8 Megapixel Kamera, Android 4.1) blue', 9.986149279787739), ('Huawei Ascend G700 Smartphone (12,7 cm (5 Zoll) Touchscreen, 8 Megapixel Kamera, 8 GB Interner Speicher, Android 4.2) weiß', 9.933815367749883), ('LG Electronics G4 Smartphone 14 cm (5,5 Zoll) (Touch-Display, 32 GB Speicher, Android 6) braune Lederversion', 9.90541983023154), ('LG Electronics G4 Smartphone 14 cm (5,5 Zoll) (Touch-Display, 32 GB Speicher, Android 6) braune Lederversion', 9.90541983023154), ('Samsung Galaxy A5 (2016) Smartphone (5,2 Zoll (13,22 cm) Touch-Display, 16 GB Speicher, Android 5.1) pink-gold', 9.451117086620583)] \n",
      "\n",
      "Алексей ->  [('Samsung Galaxy S7', 10), ('Samsung Galaxy S7', 10), ('Samsung Galaxy S7', 10), ('Samsung Galaxy A5', 9.777413278883438), ('Sony Xperia Z1 (черный)', 9.456875498022688)] \n",
      "\n",
      "iceblu_78 ->  [('LG Optimus L4 II E440', 8.303501500643133), ('HTC Explorer', 7.637609364458002), ('Sony Ericsson Xperia Play', 7.503501500643132), ('Huawei Mate S', 7.333333333333333), ('Sony Xperia M', 7.3086319528152)] \n",
      "\n",
      "Paul ->  [('Apple iPhone 6 Unlocked Cellphone, 16GB, Gold', 10), ('BlackBerry Q5 SQR100-2 8GB Unlocked GSM 4G LTE Dual-Core OS 10.2 Smartphone - Red', 10), ('Samsung Galaxy S4 zoom - Smartphone (10,9 cm (4,27 Zoll) Super-AMOLED-Touchscreen, 8 GB interner Speicher, 16 Megapixel Kamera, 10fach optischer Zoom, Android 4.2), weiß', 10), ('Motorola Moto G 3rd Generation LTE UK SIM-Free Smartphone - Black', 9.964198184362058), ('APPLE iPhone 6s Plus - 128 GB, Rose Gold', 9.931531325296623)] \n",
      "\n",
      "Roberto ->  [('Cubot P9 Unlocked 5.0 inch Android 4.2 3G Smartphone MTK6572 Dual Core Dual SIM Dual Standby 3G android mobile...', 10), ('Nokia 3100', 10), ('Asus ZE551ML-2A760WW Smartphone ZenFone 2 Deluxe, 5.5\", 4 GB RAM, 64 GB, Intel Quad-Core Z3580, Dual SIM, Illusion Purple', 9.769521855599505), ('Apple iPhone 5 Unlocked Cellphone, 32GB, Black', 9.537142579736184), ('Sony Xperia SP SIM-free Android Smartphone - Black (discontinued by manufacturer)', 9.49909859321958)] \n",
      "\n",
      "Nina ->  [('Wiko Rainbow Smartphone (12,7 cm (5 Zoll) Display , 8 GB interner Speicher, Android 4.4.2 KitKat) neongelb', 9.861110246335414), ('HUAWEI ASCEND P9 LITE BLACK', 9.651684170838456), ('Sony Xperia Z2 5.2 inch SIM-free Smartphone UK Stock - Black - Discontinued by manufacturer', 9.483834621504712), ('HUAWEI P9 Lite - 16 GB, Black', 8.778511553149652), ('Samsung \\u200bSamsung Galaxy A3 Smartphone (12 cm (4,71 Zoll) HD Super AMOLED Touch-Display, 16 GB, Android 5.1) schwarz', 8.778263199779731)] \n",
      "\n",
      "Klaus ->  [('Microsoft Lumia 532 Smartphone Dual-SIM (10,16 cm (4 Zoll) Display, 5 Megapixel Kamera, Qualcomm Snapdragon Prozessor, 1,2GHz, micro-USB 2.0, Bluetooth 4.0, 1GB RAM, Win 8.1) schwarz', 10), ('Samsung SGH-E250i pink Handy', 9.873104300971463), ('Samsung Galaxy Ace S5830 Smartphone (8,9 cm (3,5 Zoll) Display, Touchscreen, Android OS, 5 Megapixel Kamera) weiß', 9.507606181184322), ('Samsung Galaxy S3 mini I8190 Smartphone (10,2 cm (4 Zoll) AMOLED Display, Dual-Core, 1GHz, 1GB RAM, 5 Megapixel Kamera, Android 4.1) garnet-red', 9.154210418470921), ('Sony Xperia Z1 Compact Smartphone (4,3 Zoll (10,9 cm) Touch-Display, 16 GB Speicher, Android 4.3) pink', 8.843814385929287)] \n",
      "\n",
      "luis ->  [('Nokia C2-01.5 Unlocked GSM Phone with 3.2 MP Camera and Music and Video Player--U.S. Version with Warranty (Black)', 9.76726659167604), ('Wiko Rainbow Smartphone (12,7 cm (5 Zoll) Display , 8 GB interner Speicher, Android 4.4.2 KitKat) neongelb', 9.292881901432724), ('Smartphone LG L70 Dual D325 Preto com Tela de 4,5”, Dual Chip, Android 4.4, Câmera 8MP e Processador Snapdragon 200 1.2 GHz Dual-Core', 8.1579185520362), ('Sony Xperia Z1 - Smartphone libre Android (pantalla 5\", cámara 20.7 Mp, 16 GB, 2.2 GHz, 2 GB RAM), blanco (importado)', 8.024337463564004), ('Samsung Galaxy S 5 16GB NFC LTE - Smartphone (importado)', 6.907545911933004)] \n",
      "\n",
      "david ->  [('Huawei - P8 - Smartphone Débloqué - 4G (Ecran : 5,2 pouces - 16 Go - Simple SIM - Android 5.0 Lollipop) - Mystic Champagne', 9.906834139491341), ('Sim Free Samsung Galaxy S7 Edge Mobile Phone - Black.', 9.6790308810834), ('Microsoft Nokia Lumia 635 4G UK SIM-Free Smartphone - Black (Windows, 4.5-inch, 512MB RAM and 8GB storage)', 9.23209607490887), ('Samsung Galaxy S3 I9300 Blanco Libre', 8.872233374073973), ('Samsung Galaxy S3 I9300 Blanco Libre', 8.872233374073973)] \n",
      "\n",
      "sam ->  [('Doro Matra Phone Easy 612 GSM téléphone portable débloqué Noir', 8.388666555802212), ('Smartphone Samsung Galaxy S Duos 2 Preto com Dual Chip, Tela 4\", C??mera 5MP, Android 4.2, 3G, Wi-Fi, GPS e Processador Dual Core de 1,2 Ghz', 8.364872572301408), ('Nokia 5700 XpressMusic', 8.073198470340103), ('Microsoft Lumia 950 XL (Black, 32GB)', 7.664054765351761), ('Sidekick AT&T QuickFire', 7.458585858585859)] \n",
      "\n",
      "Marion ->  [('Emporia Elegance Handy (4,6 cm (1,8 Zoll), OLED Farbdisplay, ohne Branding) braun', 9.511206966276667), ('Huawei P8lite zwart / 16 GB', 8.81353656717922), ('Samsung Galaxy A5 (2017) zwart / 32 GB', 8.722891846251054), ('Lenovo Motorola Moto G Smartphone (11,4 cm (4,5 Zoll) HD-Display, 5 Megapixel Kamera, 1,2 GHz Quad-Core-Prozessor, 16 GB interner Speicher, Android 4.3 OS) schwarz', 8.527256584320556), ('HUAWEI P9 Lite - 16 GB, Black', 8.519716714490244)] \n",
      "\n",
      "sezenm ->  [('Nokia 6500 Slide Cep Telefonu', 1), ('Nokia N97 mini Cep Telefonu', 1), ('Nokia 6288 Cep Telefonu', 1), ('Nokia N76 Cep Telefonu', 1), ('Nokia 2630 Cep Telefonu', 1)] \n",
      "\n",
      "Ray ->  [('Samsung Galaxy S5 Mini G800F 16GB 4G LTE Unlocked GSM Android Quad-Core Smartphone - Gold', 10), ('Samsung I9205 Galaxy Mega 6.3 inch 8GB Sim Free Smartphone - Black', 10), ('TP-Link AC1300 Wireless Dual Band PCI-Express Adapter (Archer T6E)', 10), ('BlackBerry Passport Factory Unlocked Cellphone, 32GB, Black', 10), ('Sony Xperia Z5 Premium goud / 32 GB - Overzicht', 9.846112903921712)] \n",
      "\n",
      "Mario ->  [('LG Electronics G4 Smartphone (5,5 Zoll (14 cm) Touch-Display, 32 GB Speicher, Android 5.1) gold', 9.907284946393068), ('Microsoft Nokia 2710 Navigation Edition Handy (GPS, Ovi Karten, 2 MP, Gerätehalter CR-118, KFZ-Ladekabel DC-4) jet black', 9.69830614388018), ('Lenovo Moto G4 Play - Smartphone de 5 (4G, RAM de 2 GB, memoria interna de 16 GB, cámara de 8 MP, Android 6), blanco', 9.654508958087636), ('Lenovo Motorola Moto G Smartphone, 4,5 pollici display HD, processore Qualcomm, memoria 16GB, MicroSIM, Android 4.3 OS, fotocamera da 5 MP, Nero [Germania]', 9.424839382703823), ('Lenovo Motorola Moto G Smartphone, 4,5 pollici display HD, processore Qualcomm, memoria 16GB, MicroSIM, Android 4.3 OS, fotocamera da 5 MP, Nero [Germania]', 9.424839382703823)] \n",
      "\n",
      "Luca ->  [('Huawei P9 lite Vodafone, Nero [Italia]', 10), ('Huawei Ascend P7 Smartphone, 16 GB, Nero', 10), ('Sony Xperia Z3 Compact Smartphone, 16 GB, Nero [Italia]-Nano Sim', 10), ('Samsung G935 Galaxy S7 Edge Smartphone da 32GB, Argento [Italia]', 10), ('Lenovo Motorola Moto G Smartphone, 4,5 pollici display HD, processore Qualcomm, memoria 16GB, MicroSIM, Android 4.3 OS, fotocamera da 5 MP, Nero [Germania]', 10)] \n",
      "\n",
      "Michael ->  [('Samsung Galaxy Note 4, Frosted White 32GB (Sprint)', 10), ('Apple iPhone 6s Plus Unlocked GSM 4G LTE Smartphone with 12MP Camera, 64 GB, Rose Gold', 10), ('LG Electronics L70 Smartphone (11,4 cm (4,5 Zoll) Touchscreen, 1GB RAM, 4GB Flash-Speicher, 5 Megapixel Kamera, Android 4.4) schwarz', 10), ('Sony Ericsson Cedar Handy (UMTS, HSDPA, 2MP, 3.5mm Klinkenstecker, Micro-USB Anschluss) schwarz/silber', 10), ('Honor 7 Smartphone débloqué 4G (Ecran: 5,2 pouces - 16 Go - Double Nano SIM - Android 5.0 Lollipop) Argent/Blanc', 9.420509353166555)] \n",
      "\n",
      "Ana ->  [('Samsung Galaxy S7 edge SM-G935F 32GB Smartphone (Unlocked, Blue)', 10), ('Huawei P8 Lite - Smartphone de 5\" (cámara 13 MP, 16 GB, HiSilicon Kirin 620 Octa Core 1.2 GHz, 2 GB RAM, Android L), color blanco', 9.785960640733997), ('Samsung Galaxy S5 Mini G800F 16GB 4G LTE Unlocked GSM Android Quad-Core Smartphone - Gold', 9.523462150977949), ('Smartphone Samsung Galaxy Win Duos Grafite com Dual Chip, Tela de 4.7\", Android 4.1, Processador Quad Core, 3G, Wi-Fi e Câmera de 5MP', 8.858461551848846), ('Smartphone Nokia Lumia 630 Preto Dual Sim, Tv Digital ,Windows Phone 8.1, Tela 4.5\", QuadCore 1.2GHz, Câm. 5MP, WiFi, Bluetooth e A-Gps -Tim', 8.7314356406347)] \n",
      "\n",
      "Sven ->  [('Sony Xperia S Smartphone (10,9 cm (4,3 Zoll) Touchscreen, Dual Core, 1,5GHz, 1GB RAM, 32GB eMMC, 12,1 Megapixel Kamera, Android 4.0) silber-grau', 9.414736915021049), ('Microsoft Nokia 3720 classic Handy (Outdoor, Bluetooth, E-Mail, Ovi, Kamera mit 2 MP) grey', 8.790326292229967), ('Huawei Mate 9 (20 MP + 12 MP Leica Dual-Kamera, 14,9 cm (5,9 Zoll), Kirin 960 Prozessor, mit HUAWEI SuperCharge...', 8.787887330036904), ('Samsung Galaxy S3 mini I8190 Smartphone (10,2 cm (4 Zoll) AMOLED Display, Dual-Core, 1GHz, 1GB RAM, 5 Megapixel Kamera, Android 4.1) garnet-red', 8.20959537236815), ('Samsung Galaxy Ace Plus S7500 Smartphone (9,3 cm (3,7 Zoll) Touchscreen, 5 Megapixel Kamera, Android 2.3) chic-white', 8.109602577626562)] \n",
      "\n",
      "Alessandra ->  [('Nokia Lumia 530 Smartphone, 4 GB, Grigio [Italia]', 8.839262992741162), ('Samsung E1200 Telefono Cellulare, Nero [Italia]', 8.771554601338588), ('Samsung Galaxy S3 mini I8190 Smartphone, Display AMOLED da 10.2 cm (4 Pollici), Dual Core, 1 GHz, 1 GB RAM, Fotocamera 5 Megapixel, Android 4.1, Bianco marmo [Germania]', 8.257514481156717), ('Lenovo Motorola Moto G 4G (2 Generazione) Smartphone, Display 5 Pollici, LTE, Fotocamera 8 MP, Memoria 8 GB, Android 5 Lollipop, Nero [Italia]', 8.022204540211588)] \n",
      "\n",
      "Marco ->  [('Nokia 3250', 10), ('Sprint Samsung Galaxy S5 White 16GB (Sprint Prepaid)', 10), ('Lenovo Motorola Moto G Smartphone, 4,5 pollici display HD, processore Qualcomm, memoria 16GB, MicroSIM, Android 4.3 OS, fotocamera da 5 MP, Nero [Germania]', 10), (\"Huawei P9 Lite Smartphone, LTE, Display 5.2'' FHD, Processore Octa-Core Kirin 650, 16 GB Memoria Interna, 3GB RAM, Fotocamera 13 MP, Single-SIM, Android 6.0 Marshmallow, Nero [Italia]\", 10), (\"Huawei P9 Lite Smartphone, LTE, Display 5.2'' FHD, Processore Octa-Core Kirin 650, 16 GB Memoria Interna, 3GB RAM, Fotocamera 13 MP, Single-SIM, Android 6.0 Marshmallow, Nero [Italia]\", 10)] \n",
      "\n",
      "Vincent ->  [('Samsung Galaxy A5 2016 Smartphone débloqué 4G (Ecran: 5,2 pouces - 16 Go - Simple Nano-SIM - Android 5.1 Lollipop) Or (Import Allemagne)', 10), ('LG Electronics G2D802 UK SIM-Free Smartphone - Black (Android, 16GB)', 10), ('Sony Ericsson C 510 radiation silver Handy', 10), ('BlackBerry Passport', 10), ('Samsung Galaxy Y Blanc', 9.674605644736788)] \n",
      "\n",
      "ali ->  [('BlackBerry 9700 Bold Unlocked Quad-Band 3G Smartphone with 3.2 MP Camera, GPS, Wi-Fi and Bluetooth (Black)', 3.0625), ('Alcatel One Touch Idol 3 - Terminal libre (Android L, pantalla de 4.7\" HD, cámara de 13 MP, 8 GB, Quad Core 1.2 GHz, 1.5 GB de RAM), Gris oscuro', 3.0625), ('Sony (83) Xperia go', 3.0625), ('Samsung (936) Galaxy Ace S5830I', 3.0625), ('Vodafone (69) 858 Smart', 1)] \n",
      "\n",
      "Daniele ->  [('Asus ZenFone 2 Laser Smartphone, Display da 5\", 16 GB, Dual SIM, Nero [Italia]', 10), (\"Huawei P9 Lite Smartphone, LTE, Display 5.2'' FHD, Processore Octa-Core Kirin 650, 16 GB Memoria Interna, 3GB RAM, Fotocamera 13 MP, Single-SIM, Android 6.0 Marshmallow, Bianco [Italia]\", 10), ('Asus ZenFone 5 Smartphone, 8 GB, RAM 2 GB, Nero [Italia]', 10), ('Asus ZenFone 2 Laser Smartphone da 32 GB, Dual SIM, Bianco [Italia]', 10), ('Asus ZenFone 2 Laser Smartphone, Display da 5\", 16 GB, Dual SIM, Nero [Italia]', 10)] \n",
      "\n",
      "Maria ->  [('Smartphone Samsung Galaxy S III Neo Duos Branco com Tela 4.8\", Dual Chip, Câmera 8MP, Android 4.3, 3G e Processador Quad-Core de 1.4 Ghz', 9.389561126076691), ('Samsung Galaxy S5 Mini G800F 16GB 4G LTE Unlocked GSM Android Quad-Core Smartphone - Gold', 9.033226702991316), ('Samsung Galaxy S7 G930 Black', 8.972386492541258), ('Asus ZenFone 2 Selfie Smartphone, 32 GB, Dual SIM, Aqua Blu [Italia]', 8.790235575229845), ('Samsung E1200 Sim Free Mobile Phone - Discontinued by manufacturer', 8.660086898430423)] \n",
      "\n",
      "Flo ->  [('Samsung Galaxy S III (S3) (Virgin Mobile)', 8.699005141420844), ('Doro Matra Phone Easy 612 GSM téléphone portable débloqué Noir', 7.806310837645372), ('Microsoft Nokia X6 16GB Smartphone (GPS, WLAN, UMTS, 5 MP, Ovi Karten) black/black', 6.808745963139055), (\"Samsung B500BE Batterie d'origine pour Samsung Galaxy S4 Mini Noir\", 4.948134306321348), ('Samsung U600', 4.646544394127643)] \n",
      "\n",
      "David ->  [('Apple iPhone 5s T-Mobile Cellphone, 16GB, Space Gray', 10), ('LG Electronics E975 Optimus G Smartphone (11,9 cm (4,7 Zoll) Touchscreen, Quad-Core, 1,5GHz, 13 Megapixel Kamera, microUSB, Android 4.1) schwarz', 10), ('Xperia Sony Xperia M SIM-Free Smartphone - Black (Android)', 10), ('Microsoft Nokia Lumia 1020 Smartphone (4,5 Zoll (11,4 cm) Touch-Display, 32 GB Speicher, Windows 8) schwarz', 10), ('Sim Free Apple iPhone 5S 16GB Mobile Phone - Space Grey', 10)] \n",
      "\n",
      "Константин ->  [('Sony Xperia Z1 Compact (черный)', 9.359740539125369), ('Nokia C7-00', 9.207260984034694), ('Samsung Galaxy S4 GT-I9500 16GB (черный)', 8.703588084092893), ('Sony Xperia M (черный)', 7.964005670604775), ('Samsung Galaxy S4 GT-I9500 16GB (белый)', 7.5070076557141405)] \n",
      "\n",
      "Виталий ->  [('Samsung Galaxy S7', 10), ('Samsung Galaxy Note5', 9.988832015171774), ('Nokia Lumia 920 White', 9.974851893714423), ('Sony Xperia Z1 Compact (розовый)', 9.822438212740668), ('Sony Xperia Z1 (черный)', 9.700445270890796)] \n",
      "\n",
      "UK Guest ->  [('Nokia 1100', 10), ('Sony Ericsson T68i', 10), ('Sony Ericsson T68i', 10), ('Nokia 6100', 9.868345497422293), ('Nokia 6100', 9.868345497422293)] \n",
      "\n",
      "D ->  [('Sim Free Motorola Moto G 4th Generation Mobile Phone - Black', 9.095528676570343), ('Eco-Fused Samsung Galaxy S3 Screen Replacement Kit including 1 Replacement Screen for Samsung Galaxy S3 9300 / 1 Pair of Tweezers / 1 Roll of Adhesive Tape / 1 Tool Kit / 1 ECO-FUSED Microfiber Cleaning Cloth (Black)', 8.561443994017633), ('Asus Zenfone 2 Laser ZE550KL (Black, 16 GB)', 7.65), ('Samsung Galaxy Note 4, Charcoal Black 32GB (Verizon Wireless)', 7.632852446263047), ('Microsoft Nokia Lumia 920 Smartphone (11,4 cm (4,5 Zoll) WXGA HD IPS LCD Touchscreen, 8 Megapixel Kamera, 1,5 GHz Dual-Core-Prozessor, NFC, LTE-fähig, Windows Phone 8) matt black', 7.519867126616928)] \n",
      "\n",
      "Kindle Customer ->  [('Samsung Factory Unlocked Samsung Galaxy Mega 6.3 I9205 LTE White Phone', 8.975001720945803), ('Amazon Fire Phone, 32 GB (O2)', 8.87881336576256), ('BlackBerry Q5 SQR100-2 8GB Unlocked GSM 4G LTE Dual-Core OS 10.2 Smartphone - Red', 8.845781445412822), ('LG G Vista 4G Unlocked 4G LTE Android 8MP Camera Smartphone w/ Quad-Core CPU - Black', 8.600861789219994), ('LG Optimus G Pro E980 32GB Unlocked GSM 4G LTE Android Phone - Black', 8.366345203650914)] \n",
      "\n",
      "Martin ->  [('Microsoft Nokia 1616 Handy (UKW-Radio, Farbdisplay, Flashlight) ohne Vertrag, ohne Branding, kein Simlock schwarz', 10), ('Microsoft Nokia Lumia 1020 Smartphone (4,5 Zoll (11,4 cm) Touch-Display, 32 GB Speicher, Windows 8) schwarz', 10), ('Microsoft Nokia 3310 Handy', 9.94213954374083), ('Microsoft Lumia 535 5 inch UK SIM-Free Smartphone - Black (Qualcomm Snapdragon 200 1.2GHz, 1Gb RAM, 8Gb storage, Wi-Fi, BT, Camera, Windows 8.1)', 9.87364582154476), ('Samsung Galaxy Note N7000 16GB Sim Free Mobile Phone - Dark Blue', 9.85135944049434)] \n",
      "\n",
      "Paulo ->  [('Samsung Ch@t 322', 7.551581503508736), ('Smartphone LG L70 Dual D325 Branco com Tela de 4,5”, Dual Chip, Android 4.4, Câmera 8MP e Processador Snapdragon 200 1.2 GHz Dual-Core', 6.696830419695183), ('Smartphone Samsung Galaxy S Duos 2 Branco com Dual Chip, Tela 4\", C??mera 5MP, Android 4.2, 3G, Wi-Fi, GPS e Processador Dual Core de 1,2 Ghz', 6.271217849732391), ('Samsung Galaxy S III mini', 6.153846153846154), ('Smartphone LG Optimus L5 Preto E615 com Dual Chip, Tela de 4?�?, Android 4.0, C??mera 5MP, 3G, Wi-Fi, aGPS, Bluetooth, FM, MP3 e Fone - Oi', 6.153846153846154)] \n",
      "\n",
      "Henry ->  [('Motorola Moto G 4G SIM-Free Smartphone - Black (8GB) - Discontinued by manufacturer', 10), ('HTC Incredible S Smartphone (10.2cm (4 Zoll) Display, Touchscreen, 8 Megapixel Kamera, Android OS) muted black', 9.959989942124515), ('Sim Free Motorola Moto G 4th Generation Mobile Phone - Black', 9.593233364244071), ('Samsung Galaxy S7 goud, roze / 32 GB', 9.323369711856824), ('Huawei Honor 8 Unlocked Smartphone 32 GB Dual Camera - US Warranty (Sapphire Blue)', 8.86837570818928)] \n",
      "\n",
      "dunya ->  [('Nokia 6300 Cep Telefonu', 1), ('Nokia 5800 XpressMusic Cep Telefonu', 1), ('Apple iPhone 3GS 16GB', 1), ('Apple iPhone 3GS 16GB', 1), ('Nokia 6600i Slide Cep Telefonu', 1)] \n",
      "\n",
      "Paula ->  [('Samsung Galaxy J3 2016 Sim Free Mobile Phone - White', 8.073820635304642), ('BLU Studio 5.0Ce Unlocked Cellphone, 4GB, Blue', 7.981609727694325), ('Sony Xperia Neo V - Smartphone libre Android (pantalla t??ctil de 3,7\" 854 x 480, c??mara 5 MP, 320 MB de capacidad) color negro [importado de Alemania]', 7.129962535012142), ('LG T375 Cookie Smart', 5.01718326520982), ('Nokia E5-00 Unlocked GSM Phone with Easy Email Setup, IM, QWERTY, 5 MP Camera, Ovi Store with Apps, and Free Ovi Maps Navigation (White)', 4.231427593289969)] \n",
      "\n",
      "William ->  [('LG D802 G2 Smartphone, 16 GB, Nero [Italia]', 9.631544480125413), ('Apple iPhone 4S 16GB SIM-Free - Black', 8.997482479650275), ('Sprint LG Volt White (Sprint Prepaid)', 8.9065736109645), ('Nokia 108 UK Sim Free Mobile Phone - Black', 8.393694358019914), ('Apple iPhone 5s GSM Unlocked Cellphone, 16 GB, Space Gray', 8.212026075494634)] \n",
      "\n",
      "Игорь ->  [('Samsung Galaxy S4 mini GT-I9190 (синий)', 9.678365115687503), ('Sony Xperia Z1 Compact (лайм)', 9.279165792775602), ('Sony Xperia Z1 Compact (лайм)', 9.279165792775602), ('Sony Xperia TX (черный)', 9.2361988904643), ('Sony Xperia Z1 Compact (белый)', 9.146926124392975)] \n",
      "\n",
      "Илья ->  [('Sony Xperia L (красный)', 9.583846118894549), ('Sony Xperia L (красный)', 9.583846118894549), ('Sony Xperia Z1 (белый)', 9.525007949549435), ('Samsung S5570 Galaxy Mini', 9.459752866504562), ('Sony Xperia SP (белый)', 9.169781365118725)] \n",
      "\n",
      "Matteo ->  [('Lenovo Motorola Moto G Smartphone, 4,5 pollici display HD, processore Qualcomm, memoria 16GB, MicroSIM, Android 4.3 OS, fotocamera da 5 MP, Nero [Germania]', 10), ('Huawei Ascend P7 Smartphone, 16 GB, Nero', 10), ('Lenovo Motorola Moto G Smartphone, 4,5 pollici display HD, processore Qualcomm, memoria 16GB, MicroSIM, Android 4.3 OS, fotocamera da 5 MP, Nero [Germania]', 10), ('Asus ZenFone 3 Smartphone, Display da 5.2\", Memoria Interna da 64 GB, 4 GB RAM, Dual-SIM, Nero [Italia]', 10), ('Samsung I9301 Galaxy S III Neo Smartphone, 16 GB, Bianco [Italia]', 9.809094802825967)] \n",
      "\n",
      "Sergio ->  [('Samsung Galaxy Note 3 - Smartphone libre Android (pantalla 5.7\", cámara 13 Mp, 32 GB, Quad-Core 2.3 GHz, 3 GB RAM), negro', 10), ('Sony Ericsson Xperia X8', 10), ('Motorola Moto G (3ª Generación) + Carcasa Oficial color turquesa - Smartphone libre Android 6 (4G, pantalla 5\", cámara 13 Mp, 16 GB, Quad Core 1.4 GHz, 2 GB de RAM), negro', 9.942720268288994), ('Samsung Galaxy Note 3 LTE N9005 - Smartphone libre Android (pantalla 5.7\", cámara 13 Mp, 32 GB, Quad-Core 2.3 GHz, 3 GB RAM), negro (versión europea)', 9.90818672600155), ('Desconocido Xiaomi MI 3 - Smartphone libre Android (pantalla 5\", cámara 13 Mp, 16 GB, Quad-Core 2.3 GHz, 2 GB RAM), blanco', 9.841761249450943)] \n",
      "\n",
      "Mark ->  [('Apple iPhone 7, 32Gb - Rose Gold', 10), ('Motorola Moto G 4G SIM-Free Smartphone - Black (8GB) - Discontinued by manufacturer', 10), ('Samsung Galaxy Note | White or Black', 9.731640356897735), ('HTC One 32GB UK SIM Free Smartphone - Black - Discontunued by Manfucacturer', 9.68502126628737), ('Huawei Honor 5X Unlocked Smartphone, 16GB Dark Grey (US Warranty)', 9.401831845872708)] \n",
      "\n",
      "Victor ->  [('Doro PhoneEasy 612 Mobiltelefon Klapphandy (2 Megapixel Kamera, großen Tasten, UKW-Radio) aubergine', 10), ('Motorola Moto G (3ª Generación) + Carcasa Oficial color turquesa - Smartphone libre Android 6 (4G, pantalla 5\", cámara 13 Mp, 16 GB, Quad Core 1.4 GHz, 2 GB de RAM), negro', 8.838452824698349), ('BQ Aquaris E4.5 - Smartphone libre Android (pantalla 4.5 pulgadas, cámara 8 Mp, 8 GB, Quad-Core 1.3 GHz, 1 GB RAM, Android 4.4 KitKat), negro', 8.57235590698086), ('Nokia N82', 8.487635892165207), ('Apple iPhone 3G 16Gb', 8.458440482558844)] \n",
      "\n",
      "Charlie ->  [('Sim Free Motorola Moto G 4th Generation Mobile Phone - Black', 10), ('Sim Free Apple iPhone 5S 16GB Mobile Phone - Space Grey', 9.983921964812927), ('Nokia 1661 black (UKW-Radio, Organizer, Spiele) Handy', 9.553757187509357), ('Motorola Moto X Pure Edition Unlocked Smartphone, 64 GB Black XT1575, 5.7\" Quad HD display, 21 MP Camera, Quad-core 1.8GHz', 8.772120331543531), ('LG KU990 Viewty Handy (UMTS, HSDPA, 5 Megapixel)', 8.608695652173912)] \n",
      "\n",
      "JB ->  [('Samsung Galaxy S5 Smartphone - Blue', 10), ('Samsung Galaxy S7 zwart / 32 GB', 9.237391640435796), ('Huawei P8lite zwart / 16 GB', 8.504542142123546), ('EE Nokia 130 Mobile Phone - Black', 8.068965517241379), ('HTC Sensation Z710E Unlocked GSM Android Smartphone with 8 MP Camera, Wi-Fi and GPS - No Warranty - Black', 7.903852317729356)] \n",
      "\n",
      "Susan ->  [('Samsung Galaxy S5 SM-G900A 16GB AT&T Branded Smartphone (Unlocked, Copper Gold)', 9.035964356736812), ('Sim Free Apple iPhone 6 64GB Mobile Phone - Space Grey', 8.574269716160678), ('Samsung Galaxy S III (S3) (Virgin Mobile)', 7.975552657053098), ('APPLE iPhone 7 - Silver, 32 GB', 7.203882558497934), ('Sony Ericsson K550i', 6.587815226133328)] \n",
      "\n",
      "Наталья ->  [('Sony Xperia Z (белый)', 9.030801595268098), ('Samsung Galaxy A5', 8.833400323440564), ('Samsung Galaxy J7 (2016)', 8.752841665707422), ('Apple iPhone 5s 16GB (серебристый)', 8.700000000000001), ('Apple iPhone 5s 16GB (серебристый)', 8.700000000000001)] \n",
      "\n",
      "emanetcan ->  [('Nokia E50 (Metal Black) Cep Telefonu', 1), ('Samsung Omnia (i900) Cep Telefonu', 1), ('Nokia N82 Cep Telefonu', 1), ('Samsung Omnia (i900) Cep Telefonu', 1), ('Nokia N73 Cep Telefonu', 1)] \n",
      "\n",
      "Ken ->  [('Sim Free Apple iPhone 5S 16GB Mobile Phone - Space Grey', 8.907394015664376), ('Sony Xperia M2 4G UK Sim Free Smartphone - Black', 7.469195416381239), ('Tracfone Motorola Moto E Android Prepaid Phone with Triple Minutes (Tracfone)', 7.447974978137182), ('BlackBerry Curve 8900 Sim Free Smartphone', 7.405430480864444), ('LG 620G Prepaid Phone (Net10)', 7.2275094624128915)] \n",
      "\n",
      "Юрий ->  [('Samsung Galaxy A5', 10), ('Samsung Galaxy A5 (2016)', 9.772603920662519), ('Samsung N7100 Galaxy Note II 16GB (серый)', 9.692178233062267), ('Sony Xperia Z1 Compact (розовый)', 9.601247592651816), ('Sony Xperia Z1 Compact (белый)', 9.575831502660407)] \n",
      "\n",
      "?????????????????� ->  [('Sony Xperia V (?????�??????)', 9.012338756515291), ('Sony Xperia V (?????�??????)', 9.012338756515291), ('Sony Xperia V (?????�??????)', 9.012338756515291), ('Huawei Honor U8860', 8.950018695778681), ('Samsung i8160 Galaxy Ace 2', 8.712965551519034)] \n",
      "\n",
      "ana ->  [('Huawei P8 Lite Negro de 16GB con 4G, Dual SIM, pantalla HD de 5 pulgadas y cámara de 13 mpx', 7.551581503508736), ('Smartphone LG L70 Dual D325 Preto com Tela de 4,5”, Dual Chip, Android 4.4, Câmera 8MP e Processador Snapdragon 200 1.2 GHz Dual-Core', 6.945157391061452), ('Smartphone LG Optimus L3 Dual E405', 6.4649067021741455), ('Huawei Ascend P6 - Smartphone libre Android (pantalla 4.7\", cámara 8 Mp, 8 GB, 1.5 GHz, 2 GB RAM), blanco', 6.204533743056665), ('Lenovo Motorola Moto G (3a Generación) - Smartphone libre Android (4G, 5\", 13 MP, 8 GB, 1 GB de RAM), color negro', 4.457027744628501)] \n",
      "\n",
      "Marcel ->  [('Lenovo Moto G4 Smartphone débloqué 4G (Ecran: 5,5 pouces - 16 Go - 2 Go RAM - Android 6.0) Blanc', 10), ('HTC Evo 3D', 10), ('Huawei P9 Lite (3GB) zwart / 16 GB', 9.281549994682813), ('LG Electronics P760 Optimus L9 Smartphone (Dual Core, 1GHz, 11,9 cm (4,7 Zoll) Touchscreen, 5 Megapixel Kamera, 1GB RAM, Android 4.0) weiß', 8.963736742955586), ('Samsung Galaxy S7 Edge zwart / 32 GB', 8.691842358442203)] \n",
      "\n",
      "Sam ->  [('Samsung Galaxy S7 edge SM-G935F 32GB Smartphone (Unlocked, Blue)', 10), ('OnePlus 3T (Gunmetal, 6GB RAM + 64GB memory)', 10), ('Sim Free Apple iPhone 5S 16GB Mobile Phone - Space Grey', 10), ('Sim Free Apple iPhone 5S 16GB Mobile Phone - Space Grey', 10), ('Sony Ericsson W810', 9.803108194238446)] \n",
      "\n",
      "Adrian ->  [('Samsung Galaxy J7 LTE (2016) J710M/DS 16GB - 5.5\" Dual SIM Factory Unlocked Phone (Black) - International Version', 10), ('CT-Miami LLC BLU Life Play Unlocked Dual Sim Phone with Quad-Core 1.2GHz Processor, Android 4.2 JB, 4.7-inch IPS HD Display, 4G HSPA+ up to 42Mbps and 8MP Camera (Blue)', 10), ('Lenovo Motorola Moto G Smartphone (11,4 cm (4,5 Zoll) HD-Display, 5 Megapixel Kamera, 1,2 GHz Quad-Core-Prozessor, 8 GB interner Speicher, Android 4.3 OS) schwarz', 10), ('Sony Ericsson Xperia X8 Smartphone ( 3.2 MP, Android OS, aGPS, WiFi, 3.5mm Klinkenstecker) weiß/blau', 10), ('Wiko Rainbow Smartphone (12,7 cm (5 Zoll) Display 4 GB interner Speicher, Android 4.2) pink', 9.955589606841436)] \n",
      "\n",
      "Vanessa ->  [('HTC One S Grey', 8.948620600605821), ('Nokia Lumia 520 Smartphone, Black [Italia]', 8.662421356675441), ('Microsoft Lumia 550 Smartphone (4,7 Zoll (11,9 cm) Touch-Display, 8 GB Speicher, Windows 10) schwarz', 8.043890542569386), (\"Huawei P9 Lite Smartphone, LTE, Display 5.2'' FHD, Processore Octa-Core Kirin 650, 16 GB Memoria Interna, 3GB RAM, Fotocamera 13 MP, Single-SIM, Android 6.0 Marshmallow, Nero [Italia]\", 7.937676738873547), ('Sony Xperia Z1 - Smartphone libre Android (pantalla 5\", cámara 20.7 Mp, 16 GB, 2.2 GHz, 2 GB RAM), blanco (importado)', 7.531016769383231)] \n",
      "\n",
      "Руслан ->  [('Apple iPhone 5s 16GB (серебристый)', 8.732662120769142), ('Sony Xperia SP (белый)', 8.662396318113814), ('Samsung Galaxy S4 GT-I9500 16GB (черный)', 8.250174608872939), ('Samsung Galaxy S6', 8.245415944545389), ('Nokia N8', 8.197078732459167)] \n",
      "\n",
      "Ravi ->  [('Samsung Galaxy J7 Prime', 8.376794258373206), ('Samsung Galaxy J3 (8GB)', 7.743036360997735), ('Samsung Galaxy J3 (8GB)', 7.743036360997735), ('Samsung Galaxy J7', 7.551581503508736), ('OnePlus 3T (Gunmetal, 6GB RAM + 128GB memory)', 7.4305128210093585)] \n",
      "\n",
      "delicate ->  [('Nokia N76 Cep Telefonu', 1), ('Nokia 6120c Cep Telefonu', 1), ('Nokia 5800 XpressMusic Cep Telefonu', 1), ('Nokia N96 Cep telefonu', 1), ('Nokia N76 Cep Telefonu', 1)] \n",
      "\n",
      "xawi ->  [('Samsung M150 Cep Telefonu', 1), ('Samsung E250 Cep Telefonu - Pembe', 1), ('Nokia 5610 Cep Telefonu', 1), ('Nokia E52', 1), ('Nokia 6600i Slide Cep Telefonu', 1)] \n",
      "\n",
      "Leonardo ->  [('Samsung Galaxy A5 (2016)', 10), ('Asus ZE551ML-2A760WW Smartphone ZenFone 2 Deluxe, 5.5\", 4 GB RAM, 64 GB, Intel Quad-Core Z3580, Dual SIM, Illusion Purple', 9.915713996380807), ('Asus ZenFone 2 Laser Smartphone, Display da 5\", 16 GB, Dual SIM, Nero [Italia]', 9.564830220933706), ('Oukitel U7 Plus - 5,5 pollici HD Android 6.0 4G smartphone quad-core a 1,3 GHz 2 GB di RAM 16 GB ROM scanner di impronte digitali GPS Dual SIM 13 MP - Grigio', 9.439112306203072), ('Lenovo Motorola Moto E 2a Generazione Smartphone, LTE, 8 GB, RAM 1 GB, Bianco [Italia]', 9.430377213052203)] \n",
      "\n",
      "Кристина ->  [('Apple iPhone 5s 16GB (серебристый)', 9.470851655013146), ('Apple iPhone 5s 16GB (серебристый)', 9.470851655013146), ('Apple iPhone 5s 16GB (серебристый)', 9.470851655013146), ('Nokia 6303i classic', 9.336725907237085), ('Sony Xperia Z (белый)', 9.265097989302035)] \n",
      "\n",
      "# ->  [('Nokia X3', 10), ('Nokia 6303i classic', 10), ('Nokia C6-01', 9.81329607603774), ('Nokia 6233', 9.757810263071148), ('Nokia 6700 classic', 9.75262277016048)] \n",
      "\n",
      "Pietro ->  [(\"Huawei P9 Lite Smartphone, LTE, Display 5.2'' FHD, Processore Octa-Core Kirin 650, 16 GB Memoria Interna, 3GB RAM, Fotocamera 13 MP, Single-SIM, Android 6.0 Marshmallow, Bianco [Italia]\", 10), ('Alcatel One Touch 20-04G Telefono Cellulare, Nero', 10), ('Lenovo Motorola Moto X Play Smartphone, 5.5\", Fotocamera 21 MP, 16 GB, RAM 2 GB, Android 5.1.1 Lollipop, Nero [Italia]', 10), ('Samsung Galaxy Ace S5830 Smartphone (8,9 cm (3,5 Zoll) Display, Touchscreen, Android OS, 5 Megapixel Kamera) weiß', 10), ('LG G3 8806084954985 4G 16GB Black smartphone - smartphones (2560 x 1440 pixels, Multi-touch, Capacitive, Qualcomm...', 9.722683801510222)] \n",
      "\n",
      "Денис ->  [('Samsung Galaxy J7 (2016)', 9.303239490500058), ('Apple iPhone 5s 16GB (серебристый)', 9.220217473244364), ('Apple iPhone 5s 16GB (серебристый)', 9.220217473244364), ('Apple iPhone 5s 16GB (серебристый)', 9.220217473244364), ('Samsung N7100 Galaxy Note II 16GB (белый)', 9.101213619978148)] \n",
      "\n",
      "claudio ->  [(\"Huawei P9 Lite Smartphone, LTE, Display 5.2'' FHD, Processore Octa-Core Kirin 650, 16 GB Memoria Interna, 3GB RAM, Fotocamera 13 MP, Single-SIM, Android 6.0 Marshmallow, Nero [Italia]\", 10), ('Lenovo Motorola Moto G Smartphone, Display HD 4,5\", Processore Qualcomm, Memoria 8 GB, MicroSIM, Android 4.4 OS, Fotocamera da 5 MP, Nero [Germania]', 10), ('Samsung I9192 Galaxy S4 Mini Duos Smartphone, Nero [Europa]', 10), ('Samsung A5 2016 Smartphone LTE, 16 GB, Oro [Italia]', 9.73491443470434), ('Smartphone LG L70 Dual D325 Preto com Tela de 4,5”, Dual Chip, Android 4.4, Câmera 8MP e Processador Snapdragon 200 1.2 GHz Dual-Core', 9.49416964829985)] \n",
      "\n",
      "Kevin ->  [('Samsung ATIV S', 10), ('Sony Xperia Z5 Premium goud / 32 GB - Overzicht', 9.196055251405344), ('SAMSUNG Galaxy A3 (2017) - 16 GB, Black', 9.079086720226918), ('Huawei Ascend Y530 Smartphone (4,5 Zoll (11,4 cm) Touch-Display, 4 GB Speicher, Android 4.3) weiß', 9.008033543276907), ('Motorola Moto X 32GB Developer Editon - Verizon + GSM Unlocked, 4G LTE, Black/Woven White', 8.999431972330061)] \n",
      "\n",
      "andrea ->  [('Huawei Ascend Mate Smartphone (15,5 cm (6,1 Zoll) Touchscreen, 8 Megapixel Kamera, 8 GB Interner Speicher, Android 4.1) schwarz', 10), ('Apple iPhone 6 Unlocked Cellphone, 16GB, Gold', 10), ('Motorola Moto G 4G SIM-Free Smartphone - Black (8GB) - Discontinued by manufacturer', 10), ('Lenovo Motorola Moto G Smartphone, 4,5 pollici display HD, processore Qualcomm, memoria 16GB, MicroSIM, Android 4.3 OS, fotocamera da 5 MP, Nero [Germania]', 9.973481975680984), ('Lenovo Motorola Moto G Smartphone, 4,5 pollici display HD, processore Qualcomm, memoria 16GB, MicroSIM, Android 4.3 OS, fotocamera da 5 MP, Nero [Germania]', 9.973481975680984)] \n",
      "\n",
      "Brian ->  [('Samsung Galaxy S6 64 GB UK SIM-Free Smartphone - Gold', 9.302983831110902), ('Sim Free Motorola Moto G 4th Generation Mobile Phone - Black', 8.573483470908132), ('Doro PhoneEasy 612i GSM Sim Free Mobile Phone - Aubergine', 8.28048494696655), ('Huawei P8 Lite goud, wit / 16 GB', 7.878467843987243), ('BlackBerry Z30 Unlocked Cellphone, 16GB, Black', 7.631166885358371)] \n",
      "\n",
      "Ron ->  [('טלפון סלולרי LG G4 H815', 10), ('Samsung T369 Prepaid Phone (T-Mobile)', 9.989595890892886), ('Motorola Moto Z Play - Black - 32GB (U.S. Warranty)', 9.892758083506886), ('Samsung Galaxy S5 SIM-Free Smartphone, SM-G900F - White', 9.669904943807902), ('Samsung Galaxy S7 goud, roze / 32 GB', 9.489446642942918)] \n",
      "\n",
      "Gabriel ->  [('Nokia Microsoft Lumia 640 Windows 8.1 Phone, 4G LTE 5 Inch Display 1GB RAM 8GB ROM (AT&T Go Phone No Annual Contract)', 9.328231206466649), ('Samsung Galaxy S3 mini (GT-I8200) Smartphone (4 Zoll (10,2 cm) Touch-Display, 8 GB Speicher, Android 4.2) blau', 9.047289409936468), ('Honor 6 - Smartphone libre (pantalla de 5\", 16GB, 3 GB de RAM, cámara trasera de 13 MP y delantera de 5 MP, Android OS, v4.4.2 KitKat, LTE) blanco', 8.995895872350408), ('Nokia Lumia 920', 8.750021976100495), ('Meizu M3S 16GB Gris libre', 8.697368421052632)] \n",
      "\n",
      "Misafir ->  [('Samsung (936) Galaxy Ace S5830I', 1), ('Vodafone (69) 945', 1), ('Vodafone (69) 858 Smart', 1), ('Sony (83) Xperia go', 1), ('Samsung (936) I9500 Galaxy S 4', 1)] \n",
      "\n",
      "Виктория ->  [('Sony Xperia L (черный)', 8.274854544516932), ('Sony Xperia L (белый)', 8.25157529287), ('Apple iPhone 5s 16GB (серебристый)', 7.744169889263603), ('Sony Xperia J (черный)', 7.5482560347514225), ('Sony Xperia SP (красный)', 7.5482343274744)] \n",
      "\n",
      "Елена ->  [('Sony Xperia Z (черный)', 9.705184566368382), ('Sony Xperia L (красный)', 9.57134490852085), ('Sony Xperia Z1 (фиолетовый)', 9.414318852126799), ('HTC Desire S', 9.045171095499448), ('Samsung Galaxy S4 GT-I9500 16GB (черный)', 8.82827205803651)] \n",
      "\n",
      "Ricardo ->  [('Nokia Asha 302', 8.46671989144773), ('Alcatel One Touch Idol 3 - Terminal libre (Android L, pantalla de 4.7\" HD, cámara de 13 MP, 8 GB, Quad Core 1.2 GHz, 1.5 GB de RAM), Gris oscuro', 7.322190273670611), ('BLU Studio 5.0 C HD Unlocked Cellphone, Black', 7.2916821566346774), ('Apple iPhone 5 Unlocked Cellphone, 32GB, Black', 6.756315457182557), ('Apple iPhone 5 Unlocked Cellphone, 32GB, Black', 6.756315457182557)] \n",
      "\n",
      "Rick ->  [('Motorola Moto X 32GB Developer Editon - Verizon + GSM Unlocked, 4G LTE, Black/Woven White', 10), ('Samsung Galaxy S4 Mini, Black 16GB (AT&T)', 9.859717272778973), ('Huawei P8 Champagne / 16 GB - Overzicht', 9.811294010554002), ('Motorola Moto G 3rd Generation LTE UK SIM-Free Smartphone - White', 9.800792355978267), ('Samsung Galaxy Note 4 4G SIM-Free Smartphone - Black', 9.553076250929317)] \n",
      "\n",
      "Diego ->  [('Samsung Galaxy J5 SM-J500M/DS Factory Unlocked Dual Sim Smartphone - International Version (White)', 9.962794266344073), ('Nokia 6510', 9.610687179220522), ('LG G2 - Smartphone libre Android (pantalla 5.2\", cámara 13 Mp, 16 GB, Quad-Core 2.3 GHz, 2 GB RAM), blanco', 8.879861953505234), ('LG G2 - Smartphone libre Android (pantalla 5.2\", cámara 13 Mp, 16 GB, Quad-Core 2.3 GHz, 2 GB RAM), blanco', 8.879861953505234), ('Huawei Mate S Smartphone, Display 5,5 pollici, Memoria 32 GB, Android 5.1, Champagne', 8.801494763415125)] \n",
      "\n",
      "Andrew ->  [('Apple iPhone 6, Silver, 128 GB (Verizon)', 10), ('APPLE iPhone 6s Plus - 128 GB, Rose Gold', 10), ('APPLE iPhone 6s Plus - 128 GB, Rose Gold', 10), ('Sim Free Apple iPhone SE 64GB Mobile Phone - Space Grey', 10), ('APPLE iPhone 7 Plus - Gold, 32 GB', 9.837409987911547)] \n",
      "\n",
      "Катерина ->  [('Samsung S5260 Star II', 8.06305160824286), ('Samsung Galaxy S7 edge', 7.43591491008807), ('Apple iPhone 5s 16GB (серый космос)', 7.280587311132858), ('Apple iPhone 5s 16GB (серебристый)', 7.028273548739679), ('Samsung S7270 Galaxy Ace 3 (красный)', 6.7996526443866205)] \n",
      "\n",
      "Anita ->  [('Lenovo Motorola Moto X 2. Generation Smartphone (13,2 cm (5,2 Zoll) Full HD-Display, Touchscreen, 13 Megapixel Kamera, WiFi, 16GB interner Speicher, Android KitKat 4.4.4) schwarz', 10), ('Huawei P8 Champagne / 16 GB - Overzicht', 8.812247820136786), ('Huawei P8 Champagne / 16 GB', 8.79659273802217), ('Samsung Galaxy A5 (2017) zwart / 32 GB', 8.720934693587074), ('Huawei Ascend Y330 Smartphone (10,1 cm (4 Zoll) TFT-Touchscreen, 3 Megapixel Kamera, 4 GB Interner Speicher, Android 4.2) weiß', 8.537575489636742)] \n",
      "\n",
      "francesco ->  [(\"Huawei P9 Lite Smartphone, LTE, Display 5.2'' FHD, Processore Octa-Core Kirin 650, 16 GB Memoria Interna, 3GB RAM, Fotocamera 13 MP, Single-SIM, Android 6.0 Marshmallow, Bianco [Italia]\", 10), (\"Huawei P9 Lite Smartphone, LTE, Display 5.2'' FHD, Processore Octa-Core Kirin 650, 16 GB Memoria Interna, 3GB RAM, Fotocamera 13 MP, Single-SIM, Android 6.0 Marshmallow, Bianco [Italia]\", 10), ('Samsung I9060i Galaxy Grand Neo Plus Smartphone, 8 GB, Nero [Italia]', 9.7979888607612), ('Acer Liquid E2 Duo Smartphone, Bianco [Francia]', 9.713755157743407), ('Lenovo Motorola Moto G Smartphone, Display HD 4,5\", Processore Qualcomm, Memoria 8 GB, MicroSIM, Android 4.4 OS, Fotocamera da 5 MP, Nero [Germania]', 9.563369441876093)] \n",
      "\n",
      "Anthony ->  [('Sony Ericsson K800i Sim Free Mobile Phone - Black', 10), ('APPLE iPhone 6s Plus - 128 GB, Rose Gold', 9.189598962577396), ('TP-Link AC1300 Wireless Dual Band PCI-Express Adapter (Archer T6E)', 9.004919597441633), ('APPLE iPhone 7 - Silver, 128 GB', 8.276532966815232), ('HUAWEI P9 Lite - 16 GB, Black', 7.962253820369177)] \n",
      "\n",
      "max ->  [('Nokia 5230 Navigation Edition', 8.765470081543647), ('LG Electronics P760 Optimus L9 Smartphone (Dual Core, 1GHz, 11,9 cm (4,7 Zoll) Touchscreen, 5 Megapixel Kamera, 1GB RAM, Android 4.0) weiß', 8.636096413874192), ('Samsung GT-S5230 La Fleur', 7.95785725583081), ('Lenovo Motorola Moto G 4G 3 Generazione Smartphone, Display 5\", Fotocamera 13 MP, Memoria 16 GB, Android 6 Lollipop, Nero [Italia]', 7.953930255217713), ('Asus ZenFone 3 Smartphone, Memoria Interna da 64 GB, Dual-SIM, Bianco [Italia]', 7.671770977279389)] \n",
      "\n",
      "Jordan ->  [('LG Dare', 7.922122343692897), ('Sony Xperia X Compact - Unlocked Smartphone - 32GB - Black (US Warranty)', 7.745233323110953), ('Wiko Rainbow Smartphone WI-FI Bluetooth Android(TM) 4.2.2 (Jelly Bean) 4 Go Noir (5 pouces)', 7.701186369304748), ('Motorola Nexus 6 Unlocked Smartphone, 32 GB, U. S. Warranty - Midnight Blue', 7.047870643801932), ('Apple iPhone 4S 16GB (Black) - Locked to Sprint', 6.770385246497198)] \n",
      "\n",
      "Abhishek ->  [('Micromax Canvas 4 A210 (Grey)', 10), ('Sony Xperia Z1 (Purple, 16GB)', 9.961024462321458), ('OnePlus 3T (Gunmetal, 6GB RAM + 64GB memory)', 9.783704118110183), ('Samsung Galaxy J3 (8GB)', 9.114773819176255), ('Motorola Moto X Pure Edition Unlocked Smartphone, 64 GB Black XT1575, 5.7\" Quad HD display, 21 MP Camera, Quad-core 1.8GHz', 8.453931971603295)] \n",
      "\n",
      "Tobias ->  [('HTC Incredible S Smartphone (10.2cm (4 Zoll) Display, Touchscreen, 8 Megapixel Kamera, Android OS) muted black', 9.02698643175643), ('Huawei P9 lite Smartphone (13,2 cm (5,2 Zoll) Touch-Display, 16GB interner Speicher, 3GB RAM, Android 6) weiß', 7.10289087823543), ('Samsung Galaxy S5 Smartphone (5,1 Zoll (12,9 cm) Touch-Display, 16 GB Speicher, Android 4.4) electric blue', 6.959865954874261), ('Sony Xperia P Smartphone (10,2 cm (4 Zoll) Touchscreen, 8 Megapixel Kamera, Android 4.0 OS) rot', 6.057777165142183), ('Samsung Galaxy S II (i9100) DualCore Smartphone (10,9 cm (4,3 Zoll) Display, Touchscreen, Android 2,3, 8 Megapixel Kamera, Full-HD Kamera, 2 Megapixel Frontkamera) [EU-Version] ceramic weiß', 4.0482161496911955)] \n",
      "\n",
      "Paolo ->  [('Nokia Cellulare Nokia 105 Dual Sim Cyan Blu', 10), ('LG D802 G2 Smartphone, 32 GB, Black Exclusive [Italia]', 10), ('Samsung Galaxy S III Smartphone, Bianco [Italia]', 10), (\"Huawei P9 Lite Smartphone, LTE, Display 5.2'' FHD, Processore Octa-Core Kirin 650, 16 GB Memoria Interna, 3GB RAM, Fotocamera 13 MP, Single-SIM, Android 6.0 Marshmallow, Nero [Italia]\", 9.758098532829418), (\"Huawei P9 Lite Smartphone, LTE, Display 5.2'' FHD, Processore Octa-Core Kirin 650, 16 GB Memoria Interna, 3GB RAM, Fotocamera 13 MP, Single-SIM, Android 6.0 Marshmallow, Nero [Italia]\", 9.758098532829418)] \n",
      "\n",
      "Henk ->  [('Nokia Lumia 800 Cyan Blue', 9.841721597386949), ('Nokia Lumia 800 Cyan Blue', 9.841721597386949), ('Huawei P8 Lite wit / 16 GB', 9.491190904643691), ('Huawei P8 Lite wit / 16 GB', 9.491190904643691), ('Huawei P8 Champagne / 16 GB - Overzicht', 9.367089506361323)] \n",
      "\n",
      "kuzeykizi ->  [('Samsung E250 Cep Telefonu - Pembe', 1), ('Samsung innov8 (i8510) Cep Telefonu', 1), ('Nokia E90 Cep Telefonu', 1), ('Samsung F250 Cep Telefonu', 1), ('Nokia 5800 XpressMusic Cep Telefonu', 1)] \n",
      "\n",
      "Linda ->  [('Motorola Moto G (1st Generation) - Black - 8 GB - US GSM Unlocked Phone', 10), ('Tracfone Motorola Moto E Android Prepaid Phone with Triple Minutes (Tracfone)', 9.59584668871787), ('HTC Wildfire S Silver White', 9.548607444256168), ('Motorola Moto X Pure Edition Unlocked Smartphone, 64 GB Black XT1575, 5.7\" Quad HD display, 21 MP Camera, Quad-core 1.8GHz', 9.426987471307157), ('Samsung Galaxy S7 Edge zwart / 32 GB', 9.401659899529356)] \n",
      "\n",
      "cristina ->  [('Lenovo Motorola Moto G 4G 3 Generazione Smartphone, Display 5\", Fotocamera 13 MP, Memoria 16 GB, Android 6 Lollipop, Nero [Italia]', 8.203870808489572), ('LG K10 Smartphone da 16 GB, Schermo IPS HD da 5.3\", 4G LTE, Fotocamera 13MP con Frontale 5MP, 1.5 GB RAM, Bianco [Italia]', 7.988278408376759), ('Honor 6 Smartphone (5 pollici, Touchscreen, Octa-Core, 3GB RAM, 16GB ROM, fotocamera principale da 13MP, fotocamera frontale da 5MP, LTE CAT6, Android 4.4, EmotionUI 2.3, SIM singola) Bianco', 7.725459166453655), ('Huawei P8 lite Smartphone, Display 5.0\" IPS, Dual Sim, Processore Octa-Core, Memoria 16 GB, Fotocamera 13 MP, Android 5.0, Bianco', 7.455946566869267), ('Huawei P8 lite Smartphone, 5,0 pollici IPS, Dual sim, Processore Octa-Core, 16 GB, 13 MP, Android 5.0, Nero', 7.242380527050541)] \n",
      "\n",
      "Татьяна ->  [('Samsung Galaxy A5', 9.636142912580667), ('Apple iPhone 5s 16GB (серый космос)', 9.411102251575148), ('Sony Xperia Z1 (белый)', 9.083456999470608), ('Sony Xperia Z1 (черный)', 8.82751068778119), ('Samsung Galaxy A3', 8.796922700304469)] \n",
      "\n",
      "marco ->  [('Samsung E1200 Handy (3,9 cm (1,52 Zoll) Display, Dual-Band, Worterkennung) black', 10), (\"Huawei P9 Lite Smartphone, LTE, Display 5.2'' FHD, Processore Octa-Core Kirin 650, 16 GB Memoria Interna, 3GB RAM, Fotocamera 13 MP, Single-SIM, Android 6.0 Marshmallow, Bianco [Italia]\", 9.442709918557917), (\"Huawei P9 Lite Smartphone, LTE, Display 5.2'' FHD, Processore Octa-Core Kirin 650, 16 GB Memoria Interna, 3GB RAM, Fotocamera 13 MP, Single-SIM, Android 6.0 Marshmallow, Bianco [Italia]\", 9.442709918557917), (\"Huawei P9 Lite Smartphone, LTE, Display 5.2'' FHD, Processore Octa-Core Kirin 650, 16 GB Memoria Interna, 3GB RAM, Fotocamera 13 MP, Single-SIM, Android 6.0 Marshmallow, Bianco [Italia]\", 9.442709918557917), ('Huawei P9 Lite Smartphone, LTE, Display 5,2” FHD, IPS, Processore Kirin 650, 3 GB RAM, Fotocamera 13 MP, Nero, (Marchio TIM) [Versione Italia]', 9.266322000465316)] \n",
      "\n",
      "sozer ->  [('Nokia E51 Cep Telefonu', 1), ('Nokia 8800 Arte Cep Telefonu', 1), ('Nokia E51 Cep Telefonu', 1), ('Nokia N73 Cep Telefonu', 1), ('Nokia E51 Cep Telefonu', 1)] \n",
      "\n",
      "Robin ->  [('Honor 8 Smartphone débloqué 4G (Ecran: 5,2 pouces - 32 Go - Double Nano-SIM - Android 6.0) Blanc Nacré', 9.829845848682968), ('Nokia Lumia 630', 8.87900192448221), ('Huawei P9 grijs, zwart / 32 GB', 8.825216797513423), ('Huawei P9 grijs, zwart / 32 GB', 8.825216797513423), ('Huawei P8lite zwart / 16 GB', 8.20807919951407)] \n",
      "\n",
      "Giuseppe ->  [('Lenovo Motorola Moto G Smartphone, 4,5 pollici display HD, processore Qualcomm, memoria 16GB, MicroSIM, Android 4.3 OS, fotocamera da 5 MP, Nero [Germania]', 10), (\"Huawei P9 Lite Smartphone, LTE, Display 5.2'' FHD, Processore Octa-Core Kirin 650, 16 GB Memoria Interna, 3GB RAM, Fotocamera 13 MP, Single-SIM, Android 6.0 Marshmallow, Nero [Italia]\", 10), ('Lenovo Motorola Moto G Smartphone, 4,5 pollici display HD, processore Qualcomm, memoria 16GB, MicroSIM, Android 4.3 OS, fotocamera da 5 MP, Nero [Germania]', 10), ('Lenovo Motorola Moto G Smartphone, Display HD 4,5\", Processore Qualcomm, Memoria 8 GB, MicroSIM, Android 4.4 OS, Fotocamera da 5 MP, Nero [Germania]', 9.985298336965812), ('LG D802 G2 Smartphone, 32 GB, Black Exclusive [Italia]', 9.964220470890107)] \n",
      "\n",
      "Jaime ->  [('LG VX9700 Dare Verizon', 9.663120650830411), ('Lenovo Motorola Moto G (2nda Generación) - Smartphone libre Android (pantalla 5\", cámara 8 Mp, 8 GB, Quad-Core 1.2 GHz, 1 GB RAM), blanco', 8.706218061150535), ('LG G2 32GB - D802 - Unlocked GSM Smartphone - Black - International Version No Warranty', 8.238268256944721), ('LG G3 - Smartphone libre Android (pantalla 5.5\", cámara 13 Mp, 16 GB, Quad-Core 2.5 GHz, 2 GB RAM), gris titanio', 8.08264791380232), ('Honor 7 - Smartphone libre de 5.2\" (4G, WiFi, Bluetooth, Dual Nano SIM, HiSilicon Kirin 935, 64 bit Super 8+1 Core, 2.2 GHz, 3 GB de RAM, 16 GB ROM, cámara de 20 MP/8 MP, Android 5.0 con EMUI 3.1), color gris', 7.784289516550693)] \n",
      "\n",
      "Артём ->  [('Sony Xperia Z (белый)', 9.584377541698395), ('Samsung S6102 Galaxy Y Duos (белый, \"Связной-Загрузка\")', 8.979029202426966), ('HTC Desire S', 8.78097897812061), ('Samsung Galaxy S4 GT-I9500 16GB (черный)', 8.777705718540933), ('Apple iPhone 5s 16GB (серый космос)', 8.645951986562213)] \n",
      "\n",
      "alex ->  [('Samsung Galaxy A5 (2016) Smartphone (5,2 Zoll (13,22 cm) Touch-Display, 16 GB Speicher, Android 5.1) gold', 8.698166047893851), ('Samsung Galaxy Note 4, Charcoal Black 32GB (Verizon Wireless)', 8.55010644769758), ('Asus ZenFone 2 Selfie Smartphone, 32 GB, Dual SIM, Aqua Blu [Italia]', 8.464920479514607), ('Samsung Galaxy J5 Smartphone, Nero [Italia]', 8.374027159014359), ('LG G4 - Smartphone libre Android (pantalla 5.5\", cámara 16 Mp, 32 GB, Hexa - Core 6 x 1.8GHz (64bits), 3 GB RAM), color gris metálico', 8.248523951635432)] \n",
      "\n",
      "Sebastian ->  [('HTC Touch Diamond II Smartphone (Windows Mobile 6.5, GPS, Kamera mit 5 MP, Bluetooth)', 10), ('HTC HD2 Smartphone (HTC Sense, 5MP, LED Flash, Windows Mobile 6.5)', 9.127536906599339), ('Sony Xperia Z1 Smartphone (5 Zoll (12,7 cm) Touch-Display, 16 GB Speicher, Android 4.2) schwarz', 8.685566560960533), ('Microsoft Lumia 950 XL Smartphone 14,5 cm(5,7 Zoll) (Touch-Display, 32 GB Speicher, Windows 10) schwarz', 8.441214820777377), ('Huawei Ascend P7 - L10 - Smartphone libre Android (pantalla 5\", cámara 13 MP, 16 GB, Quad-Core 1.8 GHz, 2.0 GB RAM) negro', 8.180145639871798)] \n",
      "\n",
      "Jack ->  [('Samsung S7 Unlocked GSM Smartphone, Gold, 32GB', 10), ('Sony Xperia M (Single SIM, White)', 8.832819334116328), ('Samsung Galaxy Xcover 3 Smartphone (11,4cm (4,5 Zoll) Touch-Display, 8 GB Speicher, Android 6) dunkelgrau', 8.560530182383099), ('Samsung Galaxy S7 Edge zwart / 32 GB', 8.461452064192398), ('Huawei P8 grijs / 16 GB', 8.455214672754714)] \n",
      "\n",
      "Anonym ->  [('Sony Ericsson S500i', 8.88236239834936), ('LG Electronics GS290 Cookie Fresh Handy (7.6cm (3\") Display, Touchscreen, 2MP, 3.5mm Anschluss) silver', 8.858829856760126), ('Huawei Y6 Smartphone (5 Zoll (12,7 cm) Touch-Display, 8 GB interner Speicher, Android 5.1) weiß', 8.696543300226773), ('Microsoft Nokia 3720 classic Handy (Outdoor, Bluetooth, E-Mail, Ovi, Kamera mit 2 MP) grey', 8.665962363800665), ('Sony Ericsson W580i', 8.408681702486053)] \n",
      "\n",
      "Hans ->  [('Apple iPhone 4S 16 GB White', 9.298130946216787), ('HTC HD7 Smartphone (10,9 cm (4,3 Zoll) Touchscreen, Windows Phone 7 OS, 5MP Kamera, GPS, Dolby Mobile, 8 GB interner Speicher, ohne Branding) schwarz', 9.123540268819415), ('Huawei P8 grijs / 16 GB', 9.046461848841954), ('Huawei Y6 Smartphone (5 Zoll (12,7 cm) Touch-Display, 8 GB interner Speicher, Android 5.1) weiß', 8.9851150799883), ('Huawei P8 Lite goud, wit / 16 GB', 8.84606669006671)] \n",
      "\n",
      "Sandra ->  [('Samsung Factory Unlocked Samsung Galaxy Mega 6.3 I9205 LTE White Phone', 9.893710432581386), ('Nokia 6303 Classic', 9.377860475002107), ('Samsung Galaxy S III Neo Smartphone (4,8 Zoll (12,2 cm) Touch-Display, 16 GB Speicher, Android 4.4) schwarz', 9.370030627721853), ('Samsung E 1270 - Móvil libre (pantalla 1.77\", 0.4 GB), negro', 9.138097856292498), ('Samsung Galaxy S7 goud, roze / 32 GB', 9.112371887276929)] \n",
      "\n",
      "Pat ->  [('Huawei - P8 - Smartphone Débloqué - 4G (Ecran : 5,2 pouces - 16 Go - Simple SIM - Android 5.0 Lollipop) - Mystic Champagne', 9.850688778892579), ('Huawei P8 Smartphone (5,2 Zoll (13,2 cm) Touch-Display, 16 GB Speicher, Android 5.0) grau', 8.746361673001266), ('Apple iPhone 5 Unlocked Cellphone, 32GB, Black', 8.620080669467855), ('Huawei P8 Lite wit / 16 GB', 8.601195667917095), ('LG Google Nexus 5X H798 16GB Factory Unlocked GSM 4G LTE Hexa-Core Android Smartphone w/ 12.3MP Camera - Carbon/Black', 8.561918145671523)] \n",
      "\n",
      "Nicola ->  [('Samsung Galaxy S III Smartphone, Bianco [Italia]', 9.862670450531365), ('Asus ZenFone 3 Smartphone, Memoria Interna da 64 GB, Dual-SIM, Bianco [Italia]', 9.684753503443863), ('Huawei Ascend P8 Smartphone, Display 5.2\" FHD, Memoria RAM da 3 GB, Processore HiSilicon Kirin 930 Octa-Core, Fotocamera Principale 13 MP, Grigio', 9.394047904320265), ('Samsung E1200 Telefono Cellulare, Nero [Italia]', 9.225180739817432), ('LG G5 Smartphone da 32 GB, 5.3\" QHD, 4G LTE, Fotocamera da 16 MP e 8 MP, 4 GB RAM, Titanio', 9.072367104085746)] \n",
      "\n",
      "Steven ->  [('LG Electronics G2 Smartphone ( 13,2 cm (5,2 Zoll) Touchscreen, Quad-Core, 13 Megapixel Kamera, 16GB Speicher, Android 4.2) weiß', 9.573308298942484), ('Huawei Honor 8 32GB Smartphone (Unlocked, Midnight Black)', 9.569093112854402), ('Samsung Galaxy J5 Smartphone (5 Zoll (12,7 cm) Touch-Display, 8 GB Speicher, Android 5.1) gold', 9.463260889885756), ('Motorola Nexus 6 Unlocked Smartphone, 32 GB, U. S. Warranty - Midnight Blue', 9.20019283444739), ('Samsung Galaxy S7 goud, roze / 32 GB', 8.660846051962737)] \n",
      "\n",
      "Алина ->  [('Sony Xperia Z1 Compact (белый)', 10), ('Apple iPhone 5s 16GB (серебристый)', 9.82577802310254), ('Samsung S7270 Galaxy Ace 3 (черный)', 9.76287072080148), ('Samsung Galaxy A3 (2016)', 9.460571669473062), ('Sony Xperia C (фиолетовый)', 9.459465604158675)] \n",
      "\n",
      "Jason ->  [('Motorola Moto G (1st Generation) - Black - 8 GB - US GSM Unlocked Phone', 8.68173851008142), ('Sony Ericsson W810', 7.699759592596961), ('APPLE iPhone 6s Plus - 128 GB, Rose Gold', 7.694159140278831), ('Samsung Galaxy Grand Prime DUOS G531H/DS - White (International Version)', 7.160432501223675), ('Motorola Moto X Pure Edition Unlocked Smartphone, 64 GB Black XT1575, 5.7\" Quad HD display, 21 MP Camera, Quad-core 1.8GHz', 7.117434954670425)] \n",
      "\n",
      "Ирина ->  [('Samsung Galaxy A5', 9.99821982632217), ('Sony Xperia Z (белый)', 9.792698838402519), ('Sony Xperia Z (белый)', 9.792698838402519), ('Sony Xperia Z (белый)', 9.792698838402519), ('Sony Xperia Z1 Compact (лайм)', 9.480446775476423)] \n",
      "\n",
      "matteo ->  [('Lenovo Motorola Moto G Smartphone, 4,5 pollici display HD, processore Qualcomm, memoria 16GB, MicroSIM, Android 4.3 OS, fotocamera da 5 MP, Nero [Germania]', 10), ('Lenovo Motorola Moto G Smartphone, 4,5 pollici display HD, processore Qualcomm, memoria 16GB, MicroSIM, Android 4.3 OS, fotocamera da 5 MP, Nero [Germania]', 10), ('Huawei Ascend P7 Smartphone, 16 GB, Nero', 9.900594887087578), ('LG D802 G2 Smartphone, 16 GB, Nero [Italia]', 9.445011601556114), ('Huawei Ascend G700 Smartphone Dual SIM, Nero', 8.658582630582924)] \n",
      "\n",
      "Gast ->  [('Sony Ericsson Xperia X8', 5.287815226133329), ('HTC Desire', 4.275401143114175), ('HTC Wildfire', 3.8878152261333287), ('LG KS20', 2.0222592297918522), ('LG KS20', 2.0222592297918522)] \n",
      "\n",
      "sergio ->  [('Samsung Galaxy S3 I9300 Blanco Libre', 9.42419503492806), (\"Lenovo Moto G4 - Smartphone libre Android (5.5'', Full HD, 4G, 13 MP, 2 GB de RAM, 16 GB), color blanco\", 9.18105405318169), ('Asus ZenFone 2 Laser 5.5\" Smartphone, 16 GB, Dual SIM, Nero [Italia]', 9.018873233039937), ('Huawei Ascend P8 Smartphone, Display 5.2\" FHD, Memoria RAM da 3 GB, Processore HiSilicon Kirin 930 Octa-Core, Fotocamera Principale 13 MP, Grigio', 8.609274910152745), ('Samsung G920 Galaxy S6 Smartphone, 32 GB, Nero [Italia]', 8.161977277298009)] \n",
      "\n",
      "deliyaz ->  [('Nokia 5630 XpressMusic', 1), ('Nokia N73 Cep Telefonu', 1), ('Nokia E51 Cep Telefonu', 1), ('Nokia 6131 Cep Telefonu', 1), ('Nokia N72 Cep Telefonu', 1)] \n",
      "\n",
      "Christine ->  [('BLU Vivo XL Smartphone - 5.5\" 4G LTE - GSM Unlocked - Rose Gold', 9.805889822816955), ('Motorola Moto G 4G SIM-Free Smartphone - Black (8GB) - Discontinued by manufacturer', 9.541756225864834), ('APPLE iPhone 7 - Silver, 32 GB', 9.296634629694582), ('Sony Ericsson C905', 9.071433454271304), ('LG G2 32GB - D802 - Unlocked GSM Smartphone - Black - International Version No Warranty', 8.894926629929403)] \n",
      "\n",
      "carlos ->  [('BLU Studio 5.0 C HD Unlocked Cellphone, Black', 9.901728118336148), ('Smartphone Samsung Galaxy S III Neo Duos Branco com Tela 4.8\", Dual Chip, Câmera 8MP, Android 4.3, 3G e Processador Quad-Core de 1.4 Ghz', 9.559003768498924), ('Samsung Galaxy S7 edge SM-G935F 32GB 4G Pink gold - Smartphone (SIM única, Android, NanoSIM, GSM, UMTS, WCDMA, LTE)', 9.08105698395642), ('Motorola Moto G (3ª Generación) + Carcasa Oficial color turquesa - Smartphone libre Android 6 (4G, pantalla 5\", cámara 13 Mp, 16 GB, Quad Core 1.4 GHz, 2 GB de RAM), negro', 9.055039384809684), ('Nokia C2-05', 8.819879532524592)] \n",
      "\n",
      "Harry ->  [('Nokia E63-2 Unlocked Phone with 2 MP Camera, 3G, Wi-Fi, Media Player, and MicroSD Slot--U.S. Version with Warranty (Ultramarine Blue)', 10), ('LG 235C Prepaid Phone With Double Minutes (Tracfone)', 9.682854981885335), ('Sim Free Samsung Galaxy S7 Edge Mobile Phone - Black.', 9.222792038038552), ('Apple iPhone 5, White, 16GB', 8.90839288337409), ('LG Electronics G4 Smartphone (5,5 Zoll (14 cm) Touch-Display, 32 GB Speicher, Android 5.1) gold', 8.813041643347244)] \n",
      "\n",
      "Lee ->  [('LG 840G Prepaid Phone (Net10)', 10), ('Sony Phones Xperia T James Bond UK Sim Free Smartphone - Black (discontinued by manufacturer)', 9.409916363501763), ('Huawei W1 Stainless Steel Classic Smartwatch with Leather Strap [Energy Class A+++]', 9.371676931508963), ('APPLE iPhone 6s Plus - 128 GB, Rose Gold', 9.245946273157514), ('HUAWEI P9 Lite - 16 GB, Black', 9.105434309985167)] \n",
      "\n",
      "scofield ->  [('Nokia E90 Cep Telefonu', 1), ('Blackberry 8820 PDA Cep Telefonu', 1), ('Nokia N76 Cep Telefonu', 1), ('Nokia N82 Cep Telefonu', 1), ('Nokia N81 Cep Telefonu', 1)] \n",
      "\n",
      "christian ->  [('LG Electronics Nexus 5X Google Smartphone (13,2 cm (5,2 Zoll) IPS Display, 16 GB, Android 6.0 Marshmallow) Carbon', 10), ('Motorola Moto G 3. Generation Smartphone (12,7 cm (5 Zoll ) Touchscreen-Display, 16 GB Speicher, Android 5.1.1...', 9.310435528720033), ('Sony Xperia Z Ultra C6833 Factory Unlocked International Version No Warranty LTE LTE 800 / 850 / 900 / 1700 / 1800 / 1900 / 2100 / 2600 3G 850/1900/1700/900/2100 White', 9.238854457113868), ('Sony Ericsson V630i', 8.571428571428571), ('Doogee X5 Smartphone Débloqué 5.0 Pouce 1280 x 720 HD Écran 1.3GHz Quad Core Android 5.1 Double SIM Double Caméra 5.0MP & 2.0MP GPS pour plupart Opérateur Europe - Blanc', 8.337145719119587)] \n",
      "\n",
      "Rahul ->  [('Blu Win JR LTE (Grey, 4GB)', 8.89043622702734), ('Honor 6X (Silver, 32GB)', 8.790194729937726), ('Honor 6X (Silver, 32GB)', 8.790194729937726), ('Samsung Galaxy Note, i717 16GB Unlocked GSM 4G LTE 8MP Camera Smartphone with S Pen Stylus - White', 8.673683692679145), ('OnePlus 3T (Gunmetal, 6GB RAM + 64GB memory)', 8.577568354838332)] \n",
      "\n",
      "Светлана ->  [('Nokia 6303i classic', 8.90223760818782), ('Sony Xperia Z1 Compact (черный)', 8.810780174708734), ('Sony Xperia Z1 Compact (розовый)', 8.790473561336729), ('Sony Xperia Z1 Compact (лайм)', 8.63037312908933), ('Sony Xperia Z1 Compact (лайм)', 8.63037312908933)] \n",
      "\n",
      "Luis ->  [(\"Lenovo Moto G4 - Smartphone libre Android (5.5'', Full HD, 4G, 13 MP, 2 GB de RAM, 16 GB), color blanco\", 10), ('Motorola Moto G 3ème génération Smartphone débloqué 4G (Ecran: 5 pouces - 16 Go - 2 Go RAM - Simple Micro-SIM - Android 6.0 Marshmallow) Noir', 9.95971715910864), ('Motorola Moto G (3rd Generation) - Black - 16 GB - Global GSM Unlocked Phone', 9.727352681745987), ('LG Optimus L7 II Unlocked Phone P715, 4 GB, White - International Version No Warranty', 9.337631891378365), ('Samsung Galaxy S7 Edge Factory Unlocked Phone 32 GB International Version (Black Onyx)', 9.254908363062729)] \n",
      "\n",
      "Валерий ->  [('Samsung Galaxy S7 edge', 8.942033686656613), ('Sony Xperia SP (белый)', 8.432104418987416), ('Samsung Galaxy S3 mini', 8.29370859380388), ('Samsung Galaxy A3', 8.151861539563162), ('Samsung Galaxy S5', 7.988473279469859)] \n",
      "\n",
      "Filippo ->  [('Asus ZenFone 3 Smartphone, Display da 5.2\", Memoria Interna da 64 GB, 4 GB RAM, Dual-SIM, Nero [Italia]', 9.974684165242826), ('Lenovo Motorola Moto G Smartphone, Display HD 4,5\", Processore Qualcomm, Memoria 8 GB, MicroSIM, Android 4.4 OS, Fotocamera da 5 MP, Nero [Germania]', 9.695899010010997), (\"Huawei P9 Lite Smartphone, LTE, Display 5.2'' FHD, Processore Octa-Core Kirin 650, 16 GB Memoria Interna, 3GB RAM, Fotocamera 13 MP, Single-SIM, Android 6.0 Marshmallow, Nero [Italia]\", 9.651125178356173), ('Huawei P8 lite Smartphone, Display 5.0\" IPS, Dual Sim, Processore Octa-Core, Memoria 16 GB, Fotocamera 13 MP, Android 5.0, Bianco', 9.594891086452606), ('Lenovo Motorola Moto G 4G (2 Generazione) Smartphone, Display 5 Pollici, LTE, Fotocamera 8 MP, Memoria 8 GB, Android 5 Lollipop, Nero [Italia]', 9.5748746749516)] \n",
      "\n",
      "Dennis ->  [('TP-Link AC1300 Wireless Dual Band PCI-Express Adapter (Archer T6E)', 10), ('HTC HD7', 10), ('Nokia C2-01 Sim Free Mobile Phone 3G - Black', 9.748118710351251), ('Apple iPhone 5S 16GB Space Gray', 9.389277232545231), ('Huawei P8 Lite goud, wit / 16 GB', 9.003367405858297)] \n",
      "\n",
      "Claudia ->  [('Apple iPhone 4 16GB (White) Smartphone - AT&T', 10), ('Nokia Lumia 735 Smartphone, 8 GB, Grigio [Italia]', 9.941746057450386), ('Samsung i9505 Galaxy S4 Smartphone, 16 GB, Nero [Italia] [Classe di efficienza energetica A+++]', 9.792698643613782), ('Lenovo Motorola Moto G Smartphone (11,4 cm (4,5 Zoll) HD-Display, 5 Megapixel Kamera, 1,2 GHz Quad-Core-Prozessor, 16 GB interner Speicher, Android 4.3 OS) schwarz', 9.738134274816844), ('Huawei U8860 Smartphone (10,2 cm (4 Zoll) Display, 8 Megapixel Kamera, UMTS, Android 2.3) wei??', 9.198570274062646)] \n",
      "\n",
      "Jose ->  [('Samsung Galaxy Note 3 - Smartphone libre Android (pantalla 5.7\", cámara 13 Mp, 32 GB, Quad-Core 2.3 GHz, 3 GB RAM), negro', 10), ('Samsung i997 Infuse 4G, 8MP,16GB, WIFI, GPS, Super AMOLED Plus, Gorilla Glass Capacitive Touchscreen AT&T Unlocked World Mobile Smartphone', 10), ('Motorola Moto G (3ª Generación) + Carcasa Oficial color turquesa - Smartphone libre Android 6 (4G, pantalla 5\", cámara 13 Mp, 16 GB, Quad Core 1.4 GHz, 2 GB de RAM), negro', 10), ('Motorola Moto G (3ª Generación) + Carcasa Oficial color turquesa - Smartphone libre Android 6 (4G, pantalla 5\", cámara 13 Mp, 16 GB, Quad Core 1.4 GHz, 2 GB de RAM), negro', 10), ('Lenovo Motorola Moto G (2nda Generación) - Smartphone libre Android (pantalla 5\", cámara 8 Mp, 8 GB, Quad-Core 1.2 GHz, 1 GB RAM), blanco', 9.898350405456686)] \n",
      "\n",
      "Christian ->  [('Huawei Ascend Mate Smartphone (15,5 cm (6,1 Zoll) Touchscreen, 8 Megapixel Kamera, 8 GB Interner Speicher, Android 4.1) schwarz', 9.987481364698091), ('Honor 8 Smartphone (13,2 cm (5,2 Zoll) Touchscreen, 32GB interner Speicher, Android OS) weiß', 9.889281353217651), ('Samsung Galaxy Pocket S5300 Smartphone (7,1 cm (2,8 Zoll) Touchscreen, 2 Megapixel Kamera, Android 2.3) white', 9.878360063561349), ('Samsung E1100 Handy black', 9.502349102044612), ('Samsung Galaxy S III Neo Smartphone (4,8 Zoll (12,2 cm) Touch-Display, 16 GB Speicher, Android 4.4) schwarz', 9.454909631298033)] \n",
      "\n",
      "jorge ->  [('Samsung Galaxy S7 edge SM-G935F 32GB Smartphone (Unlocked, Blue)', 9.391676376234326), ('Elephone P6000 Pro Smartphone 4G, 5.0 Pulgadas 64bit Android 5.1 MTK6753 1.5GHz Octa Core 3GB 16GB Doble Cámaras (Blanco)', 8.812118792093042), ('Samsung Galaxy Ace', 8.37799801024796), ('Elephone P8000 - Smartphone libre Android (pantalla 5.5\", cámara 13 Mp, 16 GB, Octa-Core 1.3 GHz, 3 GB RAM), gris', 8.075392317916021), ('Motorola Moto G XT1072 (2ª Generación) 4G - Smartphone libre Android (pantalla 5\", cámara 8 Mp, 8 GB, Quad-Core 1.2 GHz, 1 GB RAM), negro', 8.014941859656835)] \n",
      "\n",
      "claudia ->  [('Asus ZE551ML-2A760WW Smartphone ZenFone 2 Deluxe, 5.5\", 4 GB RAM, 64 GB, Intel Quad-Core Z3580, Dual SIM, Illusion Purple', 9.462129618045786), ('Huawei P8 lite Smartphone, Display 5.0\" IPS, Dual Sim, Processore Octa-Core, Memoria 16 GB, Fotocamera 13 MP, Android 5.0, Bianco', 9.375105969299517), ('Nokia C2-05', 9.181327042417752), ('Huawei P8lite zwart / 16 GB', 8.95766754944327), ('Samsung G800 Galaxy S5 Mini Smartphone, 16 GB, Nero [Italia]', 8.60984429694228)] \n",
      "\n",
      "Dave ->  [('Microsoft Lumia 535 5 inch UK SIM-Free Smartphone - Black (Qualcomm Snapdragon 200 1.2GHz, 1Gb RAM, 8Gb storage, Wi-Fi, BT, Camera, Windows 8.1)', 10), ('Sim Free Apple iPhone 5S 16GB Mobile Phone - Silver', 9.550056574066161), ('Samsung Galaxy S5 Smartphone - Blue', 9.425955285195458), ('Sony Xperia Z5 Premium goud / 32 GB - Overzicht', 9.348349412575697), ('Samsung Galaxy S7 32GB UK SIM-Free Smartphone - Gold', 8.98831424630198)] \n",
      "\n",
      "Александра ->  [('Apple iPhone 5s 16GB (серебристый)', 10), ('Samsung Galaxy Note5', 10), ('Sony Xperia Z1 Compact (черный)', 10), ('Apple iPhone 5s 16GB (серебристый)', 10), ('Samsung Galaxy S7', 10)] \n",
      "\n",
      "???????????? ?????????????? ->  [('Apple iPhone 4S 16Gb', 9.720874864237834), ('HTC Desire SV T326e Black 4710937389005 UACRF', 9.15294879494709), ('Samsung Galaxy Nexus GT-I9250', 8.831484110076252), ('Samsung Galaxy S Advance GT-I9070 8Gb', 8.47192618225599), ('Apple iPhone 5 32Gb', 8.440930168426757)] \n",
      "\n",
      "K ->  [('ZTE Unlocked ZTE Z222 Flip Phone With Camera For ATT, T-Mobile and Other Supported GSM Networks. Internet, Bluetooth 2.0+EDR', 10), ('Tech Armor Samsung Galaxy S3 S III Premium Anti-Glare & Anti-Fingerprint (Matte) Screen Protectors with Lifetime Replacement Warranty [3-PACK] - Retail Packaging', 9.728885323483457), ('Samsung Galaxy J5 2016 Sim Free Mobile Phone - White', 9.344333553987303), ('Sim Free Samsung Galaxy A3 2016 Mobile Phone - Black', 9.289164779451061), ('HTC Wildfire S Silver White', 9.14862079476973)] \n",
      "\n",
      "dilemma21 ->  [('Blackberry 8820 PDA Cep Telefonu', 1), ('Nokia N95 8 GB Cep Telefonu', 1), ('Nokia N73 Cep Telefonu', 1), ('Nokia N76 Cep Telefonu', 1), ('Nokia 5800 XpressMusic Cep Telefonu', 1)] \n",
      "\n",
      "???????? ->  [('Sony Ericsson Xperia neo V MT11i', 8.943109948906795), ('Sony Ericsson Xperia neo V MT11i', 8.943109948906795), ('HTC Sensation XL', 8.629722026909242), ('Sony Xperia S LT26i', 8.555917167840365), ('Sony Xperia S', 8.520271608969114)] \n",
      "\n",
      "kyef ->  [('Nokia N73 Cep Telefonu', 1), ('Samsung Omnia (i900) Cep Telefonu', 1), ('Nokia N95 8 GB Cep Telefonu', 1), ('Nokia C5-03 Cep Telefonu', 1), ('Nokia E52', 1)] \n",
      "\n",
      "Carlos ->  [('Motorola Moto G (1st Generation) - Black - 16GB - Global GSM Unlocked Phone', 9.171390141616396), ('LG Electronics G2D802 UK SIM-Free Smartphone - Black (Android, 16GB)', 9.129216579324789), ('LG G3 - Smartphone libre Android (pantalla 5.5\", cámara 13 Mp, 16 GB, Quad-Core 2.5 GHz, 2 GB RAM), dorado', 9.10540487853825), ('Samsung Galaxy S III mini (I8190) - Smartphone libre Android (pantalla 4\", cámara 5 Mp, 8 GB, Dual-Core 1 GHz, 1 GB RAM), blanco', 8.936047658434463), ('Lenovo Moto G4 Plus Smartphone (14 cm (5,5 Zoll), 16GB, Android) schwarz', 8.916365455672219)] \n",
      "\n",
      "Fabrizio ->  [('Samsung SM-N910F Galaxy Note 4 Smartphone, 32 GB, Bianco [Italia]', 9.428826467230124), ('Asus ZenFone 5 Smartphone, 16 GB, RAM 2 GB, Nero/Antracite [Italia]', 9.290499147766331), ('Huawei P8 Lite Smartphone, Display 5\" IPS, Processore Octa-Core 1.5 GHz, Memoria Interna da 16 GB, 2 GB RAM, Fotocamera 13 MP, monoSIM, Android 5.0, Bianco [Italia]', 9.125129520488617), ('Samsung C3520I Telefono Cellulare, Argento [Italia]', 8.954555429855029), ('Huawei P9 Lite Smartphone, 5.2\" Full hd, 3 GB RAM, 16 GB, Nero, Garanzia Europa', 8.872566995775173)] \n",
      "\n",
      "Артем ->  [('Sony Xperia Z1 Compact (черный)', 9.167563056983065), ('Sony Xperia Z1 Compact (черный)', 9.167563056983065), ('Sony Xperia Z1 Compact (розовый)', 9.152118897767412), ('Sony Xperia Z1 Compact (лайм)', 8.937216364436459), ('Sony Xperia Z1 Compact (лайм)', 8.937216364436459)] \n",
      "\n",
      "Emanuele ->  [('Lenovo Motorola Moto G LTE Smartphone, Display 4.5\", Fotocamera 5 MP, Memoria 8 GB, Quad-Core 1.2 GHz, 1 GB RAM, Micro SD, Android 4.4.3, Bianco [Italia]', 10), ('LG D802 G2 Smartphone, 16 GB, Nero [Italia]', 10), ('Lenovo Motorola Moto G Smartphone, 4,5 pollici display HD, processore Qualcomm, memoria 16GB, MicroSIM, Android 4.3 OS, fotocamera da 5 MP, Nero [Germania]', 10), ('Lenovo Motorola Moto G LTE Smartphone, Display 4.5\", Fotocamera 5 MP, Memoria 8 GB, Quad-Core 1.2 GHz, 1 GB RAM, Micro SD, Android 4.4.3, Bianco [Italia]', 10), ('Huawei P8 Lite Smartphone, Display 5\" IPS, Processore Octa-Core 1.5 GHz, Memoria Interna da 16 GB, 2 GB RAM, Fotocamera 13 MP, monoSIM, Android 5.0, Bianco [Italia]', 9.749007488876343)] \n",
      "\n",
      "Kelly ->  [('Samsung Galaxy Prevail M820 No Contract 3G Touch Android Smartphone Boost Mobile', 10), ('Samsung Galaxy S7 goud, roze / 32 GB', 10), ('Samsung Galaxy S7 zwart / 32 GB', 10), ('Motorola Moto X Pure Edition Unlocked Smartphone, 64 GB Black XT1575, 5.7\" Quad HD display, 21 MP Camera, Quad-core 1.8GHz', 10), ('Samsung Galaxy J7 No Contract Phone, 16GB ROM / 2GB RAM, 5.5 Inch - White - (Boost Mobile)', 10)] \n",
      "\n",
      "Мария ->  [('Samsung Galaxy A5', 9.314959062858522), ('Sony Xperia Z (белый)', 9.149625495338999), ('Sony Xperia Z (белый)', 9.149625495338999), ('Samsung Galaxy A7', 9.032882714583957), ('Sony Xperia Z1 (черный)', 8.469962871519257)] \n",
      "\n",
      "yusuf60 ->  [('Nokia 8800 Arte Cep Telefonu', 1)] \n",
      "\n",
      "Simon ->  [('LG Electronics E975 Optimus G Smartphone (11,9 cm (4,7 Zoll) Touchscreen, Quad-Core, 1,5GHz, 13 Megapixel Kamera, microUSB, Android 4.1) schwarz', 10), ('Sim Free Apple iPhone 5S 16GB Mobile Phone - Space Grey', 9.81408803929128), ('Sony Ericsson P1i', 9.734555752246255), ('Sim Free Apple iPhone 5S 16GB Mobile Phone - Silver', 9.675686756580015), ('WIKO Fever 4G Smartphone, 16 GB, Dual SIM, Bianco', 9.360693328842798)] \n",
      "\n",
      "Francisco ->  [('LG G2 D801 Unlocked Cellphone, 32GB, Black', 9.588336379613967), ('Lenovo Motorola Moto G (2nda Generación) - Smartphone libre Android (pantalla 5\", cámara 8 Mp, 8 GB, Quad-Core 1.2 GHz, 1 GB RAM), blanco', 9.360267518863372), ('Samsung Galaxy S II i9100 16 GB Unlocked GSM Smartphone, Noble Black', 9.288560798743038), ('Huawei P8 Champagne / 16 GB - Overzicht', 9.12068520597972), ('Smartphone Sony Xperia C Preto com Dual Chip, Tela de 5\", Câmera 8MP, Processador Quad-core de 1.2 GHz, Android 4.2, 3G, Wi-Fi e aGPS', 8.978976593869092)] \n",
      "\n",
      "Erkek ->  [('Nokia Lumia 630', 10), ('Sony Xperia Z2', 10), ('Nokia Lumia 920', 10), ('Nokia Lumia 630', 10), ('Nokia Lumia 620', 9.824962255386847)] \n",
      "\n",
      "Alan ->  [('Motorola Moto X - 16GB, Unlocked Phone - US Warranty - Black', 10), ('Motorola W220', 10), ('Samsung i9100 Galaxy S2 Smartphone Android 3G+ Wifi 16 Go Noir', 10), ('Samsung Galaxy J5 2016 Sim Free Mobile Phone - White', 9.467680216224522), ('Samsung Galaxy J7 - No Contract Phone - White - (Virgin Mobile)', 9.110243131044088)] \n",
      "\n",
      "Francesco ->  [('Samsung Galaxy A5 2016 Smartphone LTE, 16GB, Nero', 10), ('Sony Xperia Z2 5.2 inch SIM-free Smartphone UK Stock - Black - Discontinued by manufacturer', 10), ('Huawei Ascend P6 Smartphone, 8 GB, Fotocamera 8 MP, Display 4.7 Pollici HD, Wi-Fi, Rosa', 10), ('Huawei P9 Lite Smartphone, 5.2\" Full hd, 3 GB RAM, 16 GB, Nero, Garanzia Europa', 10), ('Samsung Galaxy A5 2016 Smartphone LTE, 16GB, Nero', 10)] \n",
      "\n",
      "huliye ->  [('Nokia N82 Cep Telefonu', 1), ('Nokia 6500c Cep Telefonu', 1), ('Nokia N72 Cep Telefonu', 1), ('Nokia N70 Cep Telefonu SILVER BLACK', 1), ('Nokia 6300 Cep Telefonu', 1)] \n",
      "\n",
      "john ->  [('Huawei P8 grijs / 16 GB', 8.74898679214128), ('Nokia N81', 8.574922977740048), ('SAMSUNG Galaxy A3 (2017) - 16 GB, Black', 8.255613357702627), ('BlackBerry Curve 8520', 7.5070021255170625), ('Sony Xperia Z C6603 Black Factory Unlocked LTE BANDS 1/3/5/7/8/20 International Version No Warranty - Original Sony phone', 7.400343816153081)] \n",
      "\n",
      "Jeff ->  [('Samsung Galaxy S7 edge SM-G935F 32GB Smartphone (Unlocked, Blue)', 10), ('Honor Huawei Honor 6X Dual Camera Unlocked Smartphone, 32GB Gray (US Warranty)', 9.476163245906097), ('Samsung Gusto 2 SCH-U365 Flip Phone (Verizon Wireless) - Gray', 9.259576379162045), ('HTC 8X Unlocked Smartphone C620E, 16 GB, Blue', 9.21284854723233), ('Microsoft Lumia 640 XL LTE Dual Sim Orange 8GB (RM-1096) Unlocked international model- no warranty', 8.809784867610052)] \n",
      "\n",
      "Gabriele ->  [('Lenovo Motorola Moto G 4G 3 Generazione Smartphone, Display 5\", Fotocamera 13 MP, Memoria 16 GB, Android 6 Lollipop, Nero [Italia]', 10), ('Asus ZenFone 2 Smartphone, Schermo da 5.5\" Full HD, Processore Quad Core 2,3 GHz, RAM 4 GB, 32 GB, 4G/LTE, Argento', 10), ('Asus ZenFone 2 Laser 5.5\" Smartphone, 16 GB, Dual SIM, Nero [Italia]', 10), ('Lenovo Motorola Moto G Smartphone, Display HD 4,5\", Processore Qualcomm, Memoria 8 GB, MicroSIM, Android 4.4 OS, Fotocamera da 5 MP, Nero [Germania]', 10), ('Huawei Ascend Y330 Smartphone, 4 GB, Bianco', 9.386413076161563)] \n",
      "\n",
      "Надежда ->  [('Sony Xperia Z1 Compact (белый)', 9.318328705151522), ('Sony Xperia Z1 (черный)', 9.274071077427006), ('Sony Xperia L (белый)', 8.82876091547977), ('Samsung S5620 Monte', 8.226981282588048), ('Sony Xperia Z1 (фиолетовый)', 7.912000220337835)] \n",
      "\n",
      "???????????? ->  [('Sony Ericsson Xperia neo V MT11i', 9.358310033958443), ('Huawei Ascend G300', 9.309953113546358), ('Samsung i8160 Galaxy Ace 2', 9.023284948322711), ('LG Optimus L5 E612 White', 8.556400877592258), ('Sony Xperia E dual (?????�??????)', 8.373548715300506)] \n",
      "\n",
      "Julia ->  [('Honor 8 Smartphone (13,2 cm (5,2 Zoll) Touchscreen, 32GB interner Speicher, Android OS) weiß', 9.746003341048294), ('Sony Ericsson Xperia X8 Smartphone ( 3.2 MP, Android OS, aGPS, WiFi, 3.5mm Klinkenstecker) weiß/blau', 9.360694949711068), ('LG Electronics Google Nexus 5 Smartphone (4,95 Zoll (12,6 cm) Touch-Display, 16 GB Speicher, Android 4.4) weiß', 9.232381906236192), ('Samsung Galaxy Gio (S5660) Smartphone (8,13 cm (3,2 Zoll) Touchscreen, 3 Megapixel Kamera, Android 2.3.3) silber', 9.179582370473176), ('Huawei Ascend Y530 Smartphone (4,5 Zoll (11,4 cm) Touch-Display, 4 GB Speicher, Android 4.3) weiß', 9.009919438367966)] \n",
      "\n",
      "luca ->  [('Huawei Ascend G620s Smartphone, Display 5.0\", 16M Colori, Memoria RAM da 1 GB, Processore 1.2 GHz Quad-Core Qualcomm, Nero', 8.963641717973658), ('Nokia Lumia 625 Smartphone, Bianco [Italia]', 8.901045879641897), ('Samsung Galaxy J5 Smartphone, Nero [Italia]', 8.84331710808091), ('Asus ZenFone Go 5\" Smartphone, 8 GB, Dual SIM, Bianco [Italia]', 8.783244262877203), ('LG K10 Smartphone da 16 GB, Schermo IPS HD da 5.3\", 4G LTE, Fotocamera 13MP con Frontale 5MP, 1.5 GB RAM, Bianco [Italia]', 8.608814348667718)] \n",
      "\n",
      "Angelo ->  [('Samsung Galaxy S7 Smartphone, 32 GB, Nero', 10), ('Asus ZenFone 2 Smartphone, Schermo da 5.5\" Full HD, Processore Quad Core 2,3 GHz, RAM 4 GB, 32 GB, 4G/LTE, Argento', 10), ('Asus ZenFone 2 Laser Smartphone, Display da 5\", 16 GB, Dual SIM, Nero [Italia]', 10), ('Asus ZenFone 2 Laser Smartphone, Display da 5\", 16 GB, Dual SIM, Nero [Italia]', 10), ('elephone P9000 5.5 \"Smartphone 2.0GHz 4G FDD-LTE TDD-LTE Android 6.0 Octa Nucleo MTK6755 1,6 millimetri Ultra Narrow schermo OGS con KKmoon basamento del telefono', 10)] \n",
      "\n",
      "?????????????? ->  [('Apple iPhone 4s (8GB)', 10), ('Sony Ericsson Xperia neo V MT11i', 9.438454231465025), ('Samsung C3322 (?????�??????)', 9.206729504852538), ('Samsung C3322 (?????�??????)', 9.206729504852538), ('Samsung i8160 Galaxy Ace 2', 9.086357513763117)] \n",
      "\n",
      "Марина ->  [('Apple iPhone 5s 16GB (серебристый)', 9.086643391633377), ('Apple iPhone 5s 16GB (серебристый)', 9.086643391633377), ('Sony Xperia Z1 (белый)', 8.869328956190767), ('Sony Xperia Z1 (черный)', 8.477875437584128), ('Samsung Galaxy S5 SM-G900F 16GB (белый)', 8.368312352775616)] \n",
      "\n",
      "Riccardo ->  [('Lenovo Motorola Moto G Smartphone, 4,5 pollici display HD, processore Qualcomm, memoria 16GB, MicroSIM, Android 4.3 OS, fotocamera da 5 MP, Nero [Germania]', 10), ('Asus ZenFone 2 Laser 5.5\" Smartphone, 16 GB, Dual SIM, Nero [Italia]', 9.990094253928648), ('Nokia Lumia 520 Smartphone, Black [Italia]', 9.621883733255592), ('Nokia Lumia 520 Smartphone, Black [Italia]', 9.621883733255592), ('LG D855 G3 Smartphone, 32 GB, Nero Metallico [Italia]', 9.600112860773715)] \n",
      "\n",
      "Jenny ->  [('HUAWEI ASCEND P9 LITE BLACK', 10), ('Microsoft Lumia 532 Smartphone Dual-SIM (10,16 cm (4 Zoll) Display, 5 Megapixel Kamera, Qualcomm Snapdragon Prozessor, 1,2GHz, micro-USB 2.0, Bluetooth 4.0, 1GB RAM, Win 8.1) schwarz', 9.816393145685584), ('Microsoft Nokia C2-05 Slider-Handy (5,1 cm (2 Zoll) Display, VGA-Kamera) blau', 9.653459281274703), ('Huawei P8 Champagne / 16 GB - Overzicht', 9.488138180847509), ('Samsung Galaxy S7 goud, roze / 32 GB', 9.427208864683509)] \n",
      "\n",
      "rick2809 ->  [('Smartphone Asus ZenFone 2 ZE551ML 16GB Z3580', 10), ('Smartphone Motorola Moto X Play XT1563 16GB', 10), ('Smartphone Motorola Moto E 2ª Geração XT1506', 10), ('Smartphone Motorola Moto G 4 XT1626', 10), ('Smartphone Samsung Galaxy J3 SM-J320M', 10)] \n",
      "\n",
      "ivan ->  [('Lenovo Motorola Moto G Smartphone, Display HD 4,5\", Processore Qualcomm, Memoria 8 GB, MicroSIM, Android 4.4 OS, Fotocamera da 5 MP, Nero [Germania]', 9.993207281849733), ('Lenovo Motorola Moto G 4G (2 Generazione) Smartphone, Display 5 Pollici, LTE, Fotocamera 8 MP, Memoria 8 GB, Android 5 Lollipop, Nero [Francia]', 9.527099632950216), ('LG G4 Smartphone Display IPS 5.5\" QHD, Fotocamera 16 MP, Memoria Interna 32 GB, 3 GB RAM, Colore Nero', 9.51002876317418), (\"Samsung Galaxy J5 - Smartphone de 5'' (Android, 4G, cámara de 13 MP, memoria interna de 8 GB, Super AMOLED), dorado\", 9.03902352203672)] \n",
      "\n",
      "Patrick ->  [('Samsung Galaxy Note N7000 16GB Unlocked Android Smartphone - Dark Blue', 10), ('Samsung Galaxy Express GoPhone (AT&T)', 10), ('HTC Titan Smartphone (11,9 cm (4,7 Zoll) Touchscreen Display, 8 Megapixel Kamera, GSM, UMTS, HSDPA, WiFi, Windows Phone 7.5 OS) schwarz', 9.885648008566088), ('Samsung Galaxy Gio (S5660) Smartphone (8,13 cm (3,2 Zoll) Touchscreen, 3 Megapixel Kamera, Android 2.3.3) silber', 8.990154155373231), ('Sony Xperia XZ blauw / 32 GB', 8.759749838341506)] \n",
      "\n",
      "Ryan ->  [('Samsung Galaxy S5 SM-G900H 16GB Factory Unlocked, No Warranty - International Version (Black)', 8.4966221197133), ('apple Iphone 4 Back glass cover (Black)', 8.417896811953893), ('SONY XPERIA Z3 COMPACT D5803 16GB (FACTORY UNLOCKED) INTERNATIONAL MODEL- WHITE No-Warranty', 7.888607889140311), ('Motorola Moto G 16GB SIM-Free Smartphone - Black (discontinued by manufacturer)', 7.544370785467131), ('HTC EVO Shift 4G Android Smartphone Blue - Sprint', 7.075108936699137)] \n",
      "\n",
      "Rob ->  [('Microsoft Lumia 640 UK SIM-free 5 inch Windows Smartphone - Orange', 10), ('Motorola Moto G 5-Inch (2nd Gen UK Stock) Dual Sim 8GB SIM-Free Smartphone Black - Discontinued by Manufacturer', 10), ('HTC Wildfire S Silver White', 10), ('Sim Free Samsung Galaxy A3 2016 Mobile Phone - Black', 10), ('APPLE iPhone 6s Plus - 128 GB, Rose Gold', 10)] \n",
      "\n",
      "Антон ->  [('Samsung S5570 Galaxy Mini', 10), ('Sony Xperia Z (черный)', 9.803714606398955), ('Sony Xperia SP (белый)', 9.643777831794193), ('Sony Xperia Z (белый)', 9.562371248559735), ('LG GT540 Optimus', 9.539902582466164)] \n",
      "\n",
      "michele ->  [('Asus ZenFone 3 Smartphone, Memoria Interna da 64 GB, Dual-SIM, Bianco [Italia]', 10), ('HTC Desire', 9.653081788635966), ('Lenovo Motorola Moto X Play Smartphone, 5.5\", Fotocamera 21 MP, 16 GB, RAM 2 GB, Android 5.1.1 Lollipop, BIANCO [Italia]', 9.509052708776915), ('Huawei Ascend Y550 Smartphone, 4 GB, Nero', 9.299665903995848), ('Huawei Ascend Y550 Smartphone, 4 GB, Nero', 9.299665903995848)] \n",
      "\n",
      "Bernd ->  [('Honor 6 Smartphone (5 Zoll (12,7 cm) Touch-Display, 16 GB Speicher, Android 4.4) schwarz', 9.245855437723744), ('Honor 7 Smartphone (13,2 cm (5,2 Zoll) Touchscreen, 16GB interner Speicher, Android OS) grau', 8.627542040774816), ('Sony Xperia U White + Yellow Cap', 8.551971326164875), ('HTC Sensation Smartphone (Android OS, 1.2 GHz dual core Prozessor, 8 MP Kamera) dunkelgrau', 8.122314784902102), ('Microsoft Lumia 640 Dual-SIM Smartphone (5 Zoll (12,7 cm) Touch-Display, 8 GB Speicher, Windows 8.1) schwarz', 7.417715205732611)] \n",
      "\n",
      "Lisa ->  [('Samsung Galaxy Note 3 N900A 32GB White - Unlocked', 9.299058854197803), ('Samsung Galaxy S5 Mini Smartphone débloqué 4G (Ecran: 4.5 pouces - 16 Go - Android Kitkat 4.4) Blanc', 8.948475880596938), ('APPLE iPhone 7 - Silver, 32 GB', 8.873912809046168), ('Sprint LG Volt White (Sprint Prepaid)', 8.77613100142135), ('ZTE Axon 7 Unlocked Smartphone,64GB Ion Gold (US Warranty)', 8.754363211055196)] \n",
      "\n",
      "Nick ->  [('Sim Free Apple iPhone SE 64GB Mobile Phone - Space Grey', 10), ('Samsung Galaxy Note II', 10), ('Sim Free Apple iPhone 5S 16GB Mobile Phone - Silver', 9.931296873033242), ('Motorola V197 Unlocked Phone with Quad-Band GSM and Bluetooth--International Version (Charcoal)', 9.572745541559645), ('HTC One S Grey', 9.44558026455095)] \n",
      "\n",
      "Anne ->  [('Samsung GT-C3520 Klapphandy (2,2 Zoll) Display, 1,3 Megapixel Kamera) charcoal-gray', 9.584106595491795), ('APPLE iPhone 7 - Silver, 128 GB', 9.541486275250222), ('Samsung Galaxy S7 Edge goud / 32 GB', 9.43548229083863), ('SAMSUNG Galaxy A3 (2017) - 16 GB, Black', 9.207627776583381), ('Samsung Galaxy Prevail M820 No Contract 3G Touch Android Smartphone Boost Mobile', 9.152403744344664)] \n",
      "\n",
      "Daniel ->  [('Cubot P9 Unlocked 5.0 inch Android 4.2 3G Smartphone MTK6572 Dual Core Dual SIM Dual Standby 3G android mobile...', 9.79198918985413), ('HUAWEI P9 Lite - 16 GB, Black', 9.477901709501525), ('Sony Ericsson Xperia arc S Smartphone (10.7 cm (4.2 Zoll) Touchscreen, 8.1 Megapixel Kamera, Android 2.3 OS, 1GB Speicher) schwarz', 9.392440749885724), ('LG Electronics G2 Smartphone ( 13,2 cm (5,2 Zoll) Touchscreen, Quad-Core, 13 Megapixel Kamera, 16GB Speicher, Android 4.2) weiß', 9.384457295809941), ('Samsung E1100 Handy black', 9.368601459359288)] \n",
      "\n",
      "Pierre ->  [('Honor 8 Smartphone débloqué 4G (Ecran: 5,2 pouces - 32 Go - Double Nano-SIM - Android 6.0) Blanc Nacré', 9.973413657056707), ('Acer Liquid E2 Duo Smartphone, Nero [Francia]', 9.485128925566427), ('Samsung Galaxy A5 2016 Smartphone débloqué 4G (Ecran: 5,2 pouces - 16 Go - Simple Nano-SIM - Android 5.1 Lollipop) Or (Import Allemagne)', 9.413689502113609), ('Nokia 101', 6.752697866549907), ('Huawei Ascend Mate 7 Smartphone Débloqué 4G Argent', 5.7546363372935385)] \n",
      "\n",
      "Jon ->  [('Motorola Moto G (3ª Generación) + Carcasa Oficial color turquesa - Smartphone libre Android 6 (4G, pantalla 5\", cámara 13 Mp, 16 GB, Quad Core 1.4 GHz, 2 GB de RAM), negro', 10), ('Samsung J1 (Verizon LTE Prepaid)', 10), ('Sony Xperia Z2 5.2 inch SIM-free Smartphone UK Stock - Black - Discontinued by manufacturer', 9.972397155046552), ('Microsoft Nokia N95 8 GB black (UMTS, MP3, GPS, HSDPA, Kamera mit 5 MP) Smartphone', 9.919984894286799), ('Samsung Galaxy S5 SM-G900A 16GB AT&T Branded Smartphone (Unlocked, Copper Gold)', 9.828541223970323)] \n",
      "\n",
      "Jane ->  [('SAMSUNG Galaxy A3 (2017) - 16 GB, Black', 8.381048123140488), ('Nokia 6350 Unlocked GSM Flip Phone with Second External TFT Display, 2MP Camera, Video, Internet Browser, GPS, Bluetooth, MP3/MP4 Player and microSD Slot - Red', 8.18324668454368), ('Nokia 7610 Supernova', 8.085846341505368), ('Sony Ericsson Txt pro Smartphone (7,6 cm (3,0 Zoll) Touchscreen, QWERTZ-Tastatur, 3 MP Kamera) weiß', 7.29666914673901), ('Samsung Galaxy Note, i717 16GB Unlocked GSM 4G LTE 8MP Camera Smartphone with S Pen Stylus - White', 7.24152013225283)] \n",
      "\n",
      "giuseppe ->  [(\"Huawei P9 Lite Smartphone, LTE, Display 5.2'' FHD, Processore Octa-Core Kirin 650, 16 GB Memoria Interna, 3GB RAM, Fotocamera 13 MP, Single-SIM, Android 6.0 Marshmallow, Bianco [Italia]\", 10), ('Samsung I9192 Galaxy S4 Mini Duos Smartphone, Nero [Europa]', 10), ('Alcatel One Touch Pop C5 Smartphone, Dual SIM, 4 GB, Bianco [Italia]', 9.910039368237623), ('HTC Desire', 9.763746127846503), ('Samsung GT-I8260CWAITV Galaxy Core Smartphone, Bianco [Italia]', 9.690020227568908)] \n",
      "\n",
      "Tim ->  [('Samsung I9250 Galaxy Nexus 16GB (Unlocked)', 10), ('Apple iPhone 5C Smartphone (4 Zoll (10,2 cm) Touch-Display, 16 GB Speicher, iOS) Pink', 10), ('Honor 6 4G UK Smartphone (5 inch, Touchscreen, Octa-Core, 3GB RAM, 16GB ROM, 13MP rear camera, 5MP front camera, LTE CAT6, Android 4.4, Emotion UI 2.3) White', 10), ('Samsung Galaxy S III Neo Smartphone (4,8 Zoll (12,2 cm) Touch-Display, 16 GB Speicher, Android 4.4) schwarz', 9.920129835194267), ('Apple iPhone 6S 16GB Black', 9.90825587069574)] \n",
      "\n",
      "Rajesh ->  [('Apple iPhone 5c (White, 8GB)', 9.057770541300018), ('OnePlus 3 (Graphite, 64 GB)', 8.259927862752937), ('Lenovo Vibe K4 Note (Black, 16GB)', 7.847668089183426), ('Apple iPhone 7 (Rose Gold, 128GB)', 7.7287663978053285), ('Asus Zenfone Max ZC550KL-6A068IN (Black, 2GB, 16GB)', 6.7287663978053285)] \n",
      "\n",
      "sandra ->  [('Honor 6X Smartphone portable débloqué 4G (Ecran: 5,5 pouces - 32 Go - emplacement de carte 2-en-1 - Android 6.0 Marshmallow) Gris', 8.943316810307007), ('Smartphone Apple iPhone 6 16GB', 8.2608194098495), ('Samsung Galaxy S7 Edge zwart / 32 GB', 8.137970210763202), ('Huawei P8 Lite wit / 16 GB', 7.91133116601457), ('Huawei P8 Lite wit / 16 GB', 7.91133116601457)] \n",
      "\n",
      "antonio ->  [('Sony Xperia P - Smartphone libre (pantalla t??ctil de 4\" 540 x 960, c??mara 8 Mp, 16 GB, 2 procesadores de 1 GHz, 1 GB de RAM, S.O. Android 2.3), negro', 10), ('Lenovo Motorola Moto G Smartphone, 4,5 pollici display HD, processore Qualcomm, memoria 16GB, MicroSIM, Android 4.3 OS, fotocamera da 5 MP, Nero [Germania]', 10), ('Samsung Galaxy S7 Edge', 10), ('Samsung Galaxy Note 4 - Smartphone de 5.7\" (2560 x 1440 pixeles, Super AMOLED, 2,7 GHz, 3072 MB), negro', 9.666107552336433), ('Oukitel U7 Plus - 5,5 pollici HD Android 6.0 4G smartphone quad-core a 1,3 GHz 2 GB di RAM 16 GB ROM scanner di impronte digitali GPS Dual SIM 13 MP - Grigio', 9.376995042302461)] \n",
      "\n",
      "Вячеслав ->  [('Samsung Galaxy Note5', 8.973208591079425), ('Samsung N7100 Galaxy Note II 16GB (белый)', 8.293425975155623), ('Samsung Galaxy Note 2', 7.918153312388657), ('Sony Xperia Z1 Compact (розовый)', 7.82720546912023), ('Sony Xperia Z1 Compact (розовый)', 7.82720546912023)] \n",
      "\n",
      "Antonio ->  [('Motorola Moto G 16 GB - Smartphone libre Android (pantalla 4.5\", cámara 5 Mp, 16 GB, Quad-Core 1.2 GHz), negro (importado)', 10), (\"Huawei P9 Lite Smartphone, LTE, Display 5.2'' FHD, Processore Octa-Core Kirin 650, 16 GB Memoria Interna, 3GB RAM, Fotocamera 13 MP, Single-SIM, Android 6.0 Marshmallow, Nero [Italia]\", 9.97970373547523), ('Lenovo Motorola Moto G Smartphone, 4,5 pollici display HD, processore Qualcomm, memoria 16GB, MicroSIM, Android 4.3 OS, fotocamera da 5 MP, Nero [Germania]', 9.87900345662164), ('Motorola Moto G (3ª Generación) + Carcasa Oficial color turquesa - Smartphone libre Android 6 (4G, pantalla 5\", cámara 13 Mp, 16 GB, Quad Core 1.4 GHz, 2 GB de RAM), negro', 9.8744686006619), ('Motorola Moto G 4G SIM-Free Smartphone - Black (8GB) - Discontinued by manufacturer', 9.72795210526113)] \n",
      "\n",
      "Ольга ->  [('Samsung N7100 Galaxy Note II 16GB (серый)', 9.513911820197361), ('Samsung Galaxy Note5', 9.335372681048115), ('Sony Xperia Z1 (черный)', 9.232079334013312), ('Samsung N7100 Galaxy Note II 16GB (белый)', 9.20633164611096), ('Sony Xperia Z1 Compact (белый)', 9.034411423355753)] \n",
      "\n",
      "juan ->  [('Motorola Moto G (3ª Generación) + Carcasa Oficial color turquesa - Smartphone libre Android 6 (4G, pantalla 5\", cámara 13 Mp, 16 GB, Quad Core 1.4 GHz, 2 GB de RAM), negro', 7.934382343617385), ('Samsung Galaxy J5 - Smartphone libre Android (pantalla 5\", cámara 13 Mp, 8 GB, Quad-Core 1.2 GHz, 1.5 GB RAM), negro', 7.807143203020543), ('Huawei P8 Lite-AM08 - Pack Smartphone Huawei P8 Lite negro con Altavoz portátil AM08 Gold (2 GB de RAM, 16 GB de memoria interna, cámara 13 Mpxs/8Mpx), color negro', 7.72966712928288), (\"Lenovo Motorola Moto G4 - Smartphone libre Android 6 (pantalla de 5.5'' Full HD, 4G, cámara de 13 MP, 2 GB de RAM, 16 GB, Qualcomm Snapdragon 1.5 GHz), color negro\", 7.359931217361178), ('LG Optimus L9 (P760) - Smartphone libre Android (pantalla 4.7\", cámara 5 Mp, 4 GB, 1 GHz, 1 GB RAM), blanco (importado)', 7.214090716634757)] \n",
      "\n",
      "bumudur ->  [('Nokia C5-03 Cep Telefonu', 1), ('Nokia N70 Cep Telefonu SILVER BLACK', 1), ('Nokia 6288 Cep Telefonu', 1), ('Apple iPhone 3GS 16GB', 1), ('Nokia N76 Cep Telefonu', 1)] \n",
      "\n",
      "Pen Name ->  [('Samsung Galaxy S III 4G LTE Prepaid Android Phone (MetroPCS)', 10), ('Samsung Galaxy S III (S3) Triband White (Boost Mobile)', 9.262748941317566), ('Apple iPhone 4 16GB (White) Smartphone - AT&T', 9.178609864692932), ('Sony Xperia Z3 UK SIM-Free Smartphone - Copper', 9.019426677934545), ('LG Nexus 4 Android Smartphone 16GB Sim-Free', 8.444957653609496)] \n",
      "\n",
      "Fran ->  [('Lenovo Motorola Moto G (3a Generación) - Smartphone libre Android (4G, 5\", 13 MP, 16 GB, 2 GB RAM), color negro', 9.93705104574297), ('Samsung Galaxy S4 GT-I9505 - Smartphone libre Android, 16 GB, Blanco Reacondicionado', 9.51027191208705), ('Nokia E5-00 Unlocked GSM Phone with Easy E-mail Setup, IM, QWERTY, 5 MP Camera, Ovi Store with Apps, and Free Ovi Maps Navigation (Black)', 9.03055286353661), (\"Desconocido Xiaomi Redmi Note 2 - Smartphone libre (Android, pantalla 5.5'' FHD, cámara 13MP, 16GB, 4G LTE, Dual Sim, MIUI 6 Octa Core 2.0GHz, 2GB RAM), blanco\", 8.423074915066298), ('Samsung Galaxy S III mini (I8190) - Smartphone libre Android (pantalla 4\", cámara 5 Mp, 8 GB, Dual-Core 1 GHz, 1 GB RAM), azul', 8.326318007230908)] \n",
      "\n",
      "anna ->  [('Asus ZenFone Go 5\" Smartphone, 8 GB, Dual SIM, Bianco [Italia]', 7.502473622236471), ('Huawei P8 Lite Smartphone, Display 5\" IPS, Processore Octa-Core 1.5 GHz, Memoria Interna da 16 GB, 2 GB RAM, Fotocamera 13 MP, monoSIM, Android 5.0, Bianco [Italia]', 6.951307563231972), ('Samsung G900 Galaxy S5 Smartphone, 16 GB, Nero [Italia]', 6.686460998224883), ('Huawei P8 grijs / 16 GB', 6.580005755153348), ('LG G2 Smartphone (13,2 cm (5,2 pollici), Touchscreen, Quad-Core, 2,3 GHz, Fotocamera da 13 Megapixel, microUSB...', 5.365367349845362)] \n",
      "\n",
      "Max ->  [('Lenovo Motorola Moto G Smartphone (11,4 cm (4,5 Zoll) HD-Display, 5 Megapixel Kamera, 1,2 GHz Quad-Core-Prozessor, 8 GB interner Speicher, Android 4.3 OS) schwarz', 10), (\"Huawei P9 Lite Smartphone, LTE, Display 5.2'' FHD, Processore Octa-Core Kirin 650, 16 GB Memoria Interna, 3GB RAM, Fotocamera 13 MP, Single-SIM, Android 6.0 Marshmallow, Bianco [Italia]\", 9.794210642465186), (\"Huawei P9 Lite Smartphone, LTE, Display 5.2'' FHD, Processore Octa-Core Kirin 650, 16 GB Memoria Interna, 3GB RAM, Fotocamera 13 MP, Single-SIM, Android 6.0 Marshmallow, Bianco [Italia]\", 9.794210642465186), ('Samsung Galaxy J5 2016 Sim Free Mobile Phone - White', 9.132128632158278), ('Samsung Galaxy S4 SGH-i545 16GB, Bianco', 9.109138304922427)] \n",
      "\n",
      "Marina ->  [(\"Cubot X12 5.0'' IPS Android 5.1 Unlocked LTE 4G Smartphone Quad Core 1GB/8GB Dual SIM Cellphone Phablet (Golden)\", 10), ('Nokia Lumia 620', 9.335115977610933), ('Huawei P8 Lite-AM08 - Pack Smartphone Huawei P8 Lite negro con Altavoz portátil AM08 Gold (2 GB de RAM, 16 GB de memoria interna, cámara 13 Mpxs/8Mpx), color negro', 9.110742036741533), ('Microsoft Lumia 640 LTE RM 1072 Smartphone, Marchio TIM, Nero [Italia]', 9.040168817921506), (\"Huawei P9 Lite Smartphone, LTE, Display 5.2'' FHD, Processore Octa-Core Kirin 650, 16 GB Memoria Interna, 3GB RAM, Fotocamera 13 MP, Single-SIM, Android 6.0 Marshmallow, Bianco [Italia]\", 8.810790236883651)] \n",
      "\n",
      "ozlemce108 ->  [('Nokia 5310 Cep Telefonu', 1), ('Nokia E51 Cep Telefonu', 1), ('Nokia N72 Cep Telefonu', 1), ('Nokia N81 Cep Telefonu', 1), ('Samsung U800 Cep Telefonu', 1)] \n",
      "\n",
      "Federico ->  [('Alcatel One Touch Idol Smartphone, Dual SIM, Silver [Italia]', 10), ('Lenovo Motorola Moto G LTE Smartphone, Display 4.5\", Fotocamera 5 MP, Memoria 8 GB, Quad-Core 1.2 GHz, 1 GB RAM, Micro SD, Android 4.4.3, Bianco [Italia]', 10), ('Lenovo Motorola Moto G Smartphone, 4,5 pollici display HD, processore Qualcomm, memoria 16GB, MicroSIM, Android 4.3 OS, fotocamera da 5 MP, Nero [Germania]', 10), ('Asus ZenFone 2 Smartphone, Schermo da 5.5\" Full HD, Processore Quad Core 2,3 GHz, RAM 4 GB, 32 GB, 4G/LTE, Argento', 9.929345627080535), ('Asus ZenFone 2 Smartphone, Schermo da 5.5\" Full HD, Processore Quad Core 2,3 GHz, RAM 4 GB, 32 GB, 4G/LTE, Argento', 9.929345627080535)] \n",
      "\n",
      "Phil ->  [('HTC Touch Diamond II Smartphone (Windows Mobile 6.5, GPS, Kamera mit 5 MP, Bluetooth)', 10), ('Samsung SGH-U800 Soul (3MP Kamera, Bluetooth, MP3-Player) soul-grey Handy ohne Vertrag, ohne Branding, kein Simlock', 9.535618279569892), ('Doro PhoneEasy 612i GSM Sim Free Mobile Phone - Aubergine', 9.499278340575206), ('Microsoft Nokia Lumia 920 Smartphone (11,4 cm (4,5 Zoll) WXGA HD IPS LCD Touchscreen, 8 Megapixel Kamera, 1,5 GHz Dual-Core-Prozessor, NFC, LTE-fähig, Windows Phone 8) matt black', 8.443398526408714), ('HTC 8X Blauw', 7.795756425737451)] \n",
      "\n",
      "davide ->  [('Lenovo Motorola Moto E Smartphone, Display 4.3 pollici qHD, Processore Qualcomm Dual-Core 1.2GHz, Memoria 4GB, 1GB RAM, Fotocamera 5MP, Android 4.4.2 KitKat, Bluetooth, WiFi, Bianco [Spagna]', 9.055802194324626), ('Nokia Lumia 920 Smartphone, Nero [Italia]', 8.767702782730057), ('Huawei P9 Smartphone, LTE, Display 5.2\" FHD, Memoria Interna 32 GB, 3 GB RAM, Processore Kirin 955, Fotocamera 12 MP, Argento [Versione EU Ovest]', 8.27125893744261), ('Huawei P9 Smartphone, LTE, Display 5.2\" FHD, Memoria Interna 32 GB, 3 GB RAM, Processore Kirin 955, Fotocamera 12 MP, Argento [Versione EU Ovest]', 8.27125893744261), ('Huawei P8 Lite Smartphone, Display 5\" IPS, Processore Octa-Core 1.5 GHz, Memoria Interna da 16 GB, 2 GB RAM, Fotocamera 13 MP, monoSIM, Android 5.0, Bianco [Italia]', 7.795636725333055)] \n",
      "\n",
      "dilekh ->  [('Nokia N82 Cep Telefonu', 1), ('Nokia 6288 Cep Telefonu', 1), ('Nokia N82 Cep Telefonu', 1), ('Nokia N73 Cep Telefonu', 1), ('Sony Ericsson K850i Cep Telefonu', 1)] \n",
      "\n",
      "javier ->  [('Motorola Moto G (3ª Generación) + Carcasa Oficial color turquesa - Smartphone libre Android 6 (4G, pantalla 5\", cámara 13 Mp, 16 GB, Quad Core 1.4 GHz, 2 GB de RAM), negro', 9.262171609715995), ('ASUS ZenFone 2 Laser Unlocked Smartphone, 3GB RAM, 32GB Storage', 8.733386525994304), ('Desconocido Xiaomi MI 4 - Smartphone libre Android (pantalla 5\", cámara 13 Mp, 16 GB, 3 GB RAM), blanco', 8.522130808241334), ('Meizu M2 Note - Smartphone libre Flyme (pantalla de 5.5\", cámara de 13 Mp, 16 GB, Octa-Core de 1.3 GHz, 2 GB RAM), gris', 8.318436527746188), ('BlackBerry Q10', 8.3)] \n",
      "\n",
      "Raul ->  [('LG G3 - Smartphone libre Android (pantalla 5.5\", cámara 13 Mp, 16 GB, Quad-Core 2.5 GHz, 2 GB RAM), dorado', 9.306374583224516), ('Smartphone LG L90 Dual D410 Preto com Tela de 4.7”, Dual Chip, Android 4.4, Câmera 8MP e Processador Quad Core de 1.2 GHz', 8.164873009040035), ('Nokia E5', 8.140882499610738), ('BLU Studio 5.0Ce Unlocked Cellphone, 4GB, Black', 7.6835228624329535), ('BlackBerry Bold 9000', 7.324613931307995)] \n",
      "\n",
      "maria ->  [('Samsung Galaxy S3 I9300 Blanco Libre', 9.19446429446754), ('Wiko Lenny 3 Smartphone, Dual-SIM, Memoria Interna da 16 GB, Oro', 9.19212345183954), ('LG Nexus 5 Smartphone, memoria 16GB, Android 4.4, Nero [Italia]', 8.864823791756033), (\"Huawei P9 Lite Smartphone, LTE, Display 5.2'' FHD, Processore Octa-Core Kirin 650, 16 GB Memoria Interna, 3GB RAM, Fotocamera 13 MP, Single-SIM, Android 6.0 Marshmallow, Bianco [Italia]\", 8.48925903438088), ('Samsung Galaxy Ace II Smartphone, Bianco [Italia]', 7.967684710095232)] \n",
      "\n",
      "Fernando ->  [('Motorola Moto G (3ª Generación) + Carcasa Oficial color turquesa - Smartphone libre Android 6 (4G, pantalla 5\", cámara 13 Mp, 16 GB, Quad Core 1.4 GHz, 2 GB de RAM), negro', 10), ('Smartphone LG L90 Dual D410 Branco com Tela de 4.7”, Dual Chip, Android 4.4, Câmera 8MP e Processador Quad Core de 1.2 GHz', 9.81677275764033), (\"Lenovo Motorola Moto G4 - Smartphone libre Android 6 (pantalla de 5.5'' Full HD, 4G, cámara de 13 MP, 2 GB de RAM, 16 GB, Qualcomm Snapdragon 1.5 GHz), color negro\", 9.61220094044419), ('Meizu M3S 16GB Gris libre', 8.83890611308257), ('Sprint LG Volt White (Sprint Prepaid)', 8.55423308615858)] \n",
      "\n",
      "Pascal ->  [('Sony Mobile Xperia Z3 Compact Smartphone Débloqué 4G (Ecran : 4.6 pouces - 16 Go - IP65 / IP68 - Android 4.4 KitKat) Blanc', 9.528572819345213), ('Samsung Galaxy S3 mini I8190 Smartphone (10,2 cm (4 Zoll) AMOLED Display, Dual-Core, 1GHz, 1GB RAM, 5 Megapixel Kamera, Android 4.1) marble-white', 9.167795685146615), ('Motorola MOTO G 8Go NOIR', 9.0525911030419), ('Samsung Galaxy S7 Edge goud / 32 GB', 9.044867730409518), ('Huawei Ascend P6 Smartphone (11,9 cm (4,7 Zoll) Touchscreen, 8 Megapixel, 8GB Speicher, Android 4.2) weiß', 8.604803734505628)] \n",
      "\n",
      "maurizio ->  [('Alcatel One Touch Idol Smartphone, Dual SIM, Silver [Italia]', 9.477820539806759), ('Asus ZenFone 2 Laser 5.5\" Smartphone, 16 GB, Dual SIM, Nero [Italia]', 9.062826685182607), ('Asus ZenFone Max Smartphone, Schermo da 5.5\" HD, 16 GB, RAM 2 GB, Dual SIM, Nero [Italia]', 8.851961690505222), ('Asus ZenFone Go 5\" Smartphone, 8 GB, Dual SIM, Bianco [Italia]', 8.671327255641279), ('elephone P8000 Smartphone 4G FDD-LTE 64bit MTK6753 Otta Nucleo FHD 5.5 \"IPS Android 5.1 3GB+16GB 5MP 13mp Due telecamere il tocco a 360 ° ID imporonta digitale', 8.392322193411305)] \n",
      "\n",
      "Andi ->  [('Sony Ericsson Cedar Handy (UMTS, HSDPA, 2MP, 3.5mm Klinkenstecker, Micro-USB Anschluss) schwarz/silber', 10), ('Samsung E1150 Handy (extralange Akkulaufzeit) titanium-silver', 9.855452529820733), ('Lenovo Motorola Moto G Smartphone (11,4 cm (4,5 Zoll) HD-Display, 5 Megapixel Kamera, 1,2 GHz Quad-Core-Prozessor, 16 GB interner Speicher, Android 4.3 OS) schwarz', 9.062362777034627), ('Samsung Galaxy Trend Plus Smartphone (10,1 cm (4 Zoll) TFT-Display, 1,2GHz Prozessor, 786MB RAM, 5 Megapixel Kamera, 4GB interne Speicher, Android 4.2.2) schwarz', 8.653581701367957), ('HTC Desire X Smartphone (1 GHz Dual-Core Prozessor, 10,2 cm (4 Zoll) Touchscreen, 5 Megapixel Kamera, 4 GB interner Speicher, microSD-Kartenslot, Android 4.0.4) neutral weiß', 8.033067954104427)] \n",
      "\n",
      "Peter ->  [('Huawei W1 Stainless Steel Classic Smartwatch with Leather Strap [Energy Class A+++]', 9.910511022135848), ('Huawei Mate S', 9.430755056437343), ('SAMSUNG Galaxy A3 (2017) - 16 GB, Black', 9.244066064500181), ('SAMSUNG Galaxy A3 (2017) - 16 GB, Black', 9.244066064500181), ('APPLE iPhone 7 - Silver, 128 GB', 9.240814181827707)] \n",
      "\n",
      "Anna ->  [('Huawei Ascend P6 Smartphone (11,9 cm (4,7 Zoll) Touchscreen, 8 Megapixel, 8GB Speicher, Android 4.2) schwarz', 10), ('Motorola Moto G 4G SIM-Free Smartphone - Black (8GB) - Discontinued by manufacturer', 9.773405390347879), ('LG Electronics P970 Optimus Smartphone (10,2 cm (4 Zoll) Display, Touchscreen, Android OS, 5 Megapixel Kamera) weiß', 9.579787343621389), ('Huawei Smartphone Honor 7 16 Go Double SIM Gris et Noir', 9.161222049993462), ('Samsung Galaxy Gio (S5660) Smartphone (8,13 cm (3,2 Zoll) Touchscreen, 3 Megapixel Kamera, Android 2.3.3) silber', 9.160808712595303)] \n",
      "\n",
      "rpv ->  [('Nokia Lumia 920 32GB Unlocked 4G LTE Windows Smartphone w/ PureView Technology 8MP Camera - Black', 9.42243451093487), ('Samsung Galaxy Note 3 N900A Unlocked Cellphone, 32GB, White', 9.352574225257872), ('LG Nexus 5 D820 16GB Unlocked GSM 4G LTE Quad-Core Android Smartphone w/ 5\" True HD IPS+ Multi-Touchscreen -White', 8.503730506679883), ('Nokia Lumia 920 RM-821 32GB Black Windows 8 Smartphone 4G LTE (GSM Factory Unlocked)', 7.851535694725837), ('Nokia Lumia 920 RM-821 32GB Black Windows 8 Smartphone 4G LTE (GSM Factory Unlocked)', 7.851535694725837)] \n",
      "\n",
      "Tony ->  [('Sim Free Samsung Galaxy S6 Edge Mobile Phone - Gold', 10), ('Lenovo Vibe K4 Note (Black, 16GB)', 9.991798871306075), ('Lenovo Motorola Moto G Smartphone, Display HD 4,5\", Processore Qualcomm, Memoria 8 GB, MicroSIM, Android 4.4 OS, Fotocamera da 5 MP, Nero [Germania]', 9.886421621651266), ('Sony Xperia Z5 Premium E6853 5.5-Inch 4K UHD Display Factory Unlocked (BLACK) - International Stock No Warranty', 9.66782646599309), ('BlackBerry Z30 Unlocked Cellphone, 16GB, Black', 9.55044691991179)] \n",
      "\n",
      "Jesus ->  [('Samsung Galaxy Note 3 LTE N9005 - Smartphone libre Android (pantalla 5.7\", cámara 13 Mp, 32 GB, Quad-Core 2.3 GHz, 3 GB RAM), negro (versión europea)', 10), ('Motorola Moto G (3ª Generación) + Carcasa Oficial color turquesa - Smartphone libre Android 6 (4G, pantalla 5\", cámara 13 Mp, 16 GB, Quad Core 1.4 GHz, 2 GB de RAM), negro', 9.642840587396847), ('Motorola Moto G (3ª Generación) + Carcasa Oficial color turquesa - Smartphone libre Android 6 (4G, pantalla 5\", cámara 13 Mp, 16 GB, Quad Core 1.4 GHz, 2 GB de RAM), negro', 9.642840587396847), ('Alcatel OneTouch Idol 3 Global Unlocked 4G LTE Smartphone, 5.5 HD IPS Display, 16GB (GSM - US Warranty)', 9.13822345025505), ('Elephone P6000 Pro Smartphone 4G, 5.0 Pulgadas 64bit Android 5.1 MTK6753 1.5GHz Octa Core 3GB 16GB Doble Cámaras (Blanco)', 9.049381237342246)] \n",
      "\n",
      "Павел ->  [('Samsung S8530 Wave II', 9.458708194279735), ('Samsung Galaxy A5', 9.382918396777967), ('Samsung N7100 Galaxy Note II 16GB (белый)', 9.290676486944403), ('Apple iPhone 5s 16GB (серый космос)', 8.994746068562403), ('Samsung Galaxy A5 (2017)', 8.340731545738334)] \n",
      "\n",
      "Кирилл ->  [('LG Optimus L7 P705 Black', 9.969817002014754), ('Samsung Galaxy A5', 9.944172676480893), ('Nokia 6303 Classic', 9.7451681673098), ('Sony Xperia Z (белый)', 9.681506538663642), ('LG GT540 Optimus', 9.239475694681001)] \n",
      "\n",
      "Felix ->  [('Huawei P8 Champagne / 16 GB - Overzicht', 8.835552050833709), ('Samsung Galaxy S4 Smartphone (12,7 cm (4,9 Zoll) AMOLED-Touchscreen, 16GB interner Speicher, 13 Megapixel Kamera, LTE, Android 5.0) - Schwarz [EU-Version]', 8.738102774124739), ('Huawei P8 Champagne / 16 GB', 8.651392167923708), ('Samsung Galaxy S II Mini - Smartphone libre (pantalla t??ctil de 3,27\" 320 x 480, c??mara 3.2 Mp, 2.71 GB, procesador de 800 MHz, 512Mb de RAM, S.O. Android 2.3+), negro [importado]', 8.637788079141199), ('Microsoft Lumia 950 XL Smartphone 14,5 cm(5,7 Zoll) (Touch-Display, 32 GB Speicher, Windows 10) schwarz', 8.305196894823016)] \n",
      "\n",
      "Scott ->  [('Huawei Mate 9 with Amazon Alexa and Leica Dual Camera - 64GB Unlocked Phone - Space Gray (US Warranty)', 10), ('BLU Studio 5.5S Unlocked Cellphone, White', 10), ('APPLE iPhone 7 - Silver, 32 GB', 8.955737508938862), ('Sony Xperia Z3 UK SIM-Free Smartphone - Copper', 8.939897455528115), ('Samsung Galaxy J5 2016 Sim Free Mobile Phone - White', 8.869379407947704)] \n",
      "\n",
      "paul ->  [('Doro PhoneEasy 612 GSM Sim Free Mobile Phone - Black', 8.989350199252948), ('Microsoft Lumia 950 5.2-Inch 32 GB SIM-Free Smartphone - White', 8.119101931059653), ('BlackBerry 9320 Curve Unlocked GSM Quad-Band Smartphone with 3.2 MP Camera, Wi-Fi, GPS and 7.1 Blackberry OS - No Warranty - Black', 7.607240243895246), ('Vodafone Smart First 6 Pay As You Go Handset Smartphone - Black', 6.610364688799127), ('ZTE Warp Android Smartphone (Boost Mobile)', 5.46660488542661)] \n",
      "\n",
      "Joshua ->  [('Motorola Moto Z Play - Black - 32GB (U.S. Warranty)', 9.857194846189008), ('APPLE iPhone 7 - Silver, 128 GB', 9.447639530097966), ('Wileyfox Swift 4G Dual SIM-Free Smartphone - White', 9.077192066166646), ('Tech Armor Samsung Galaxy S3 S III Premium High Definition (HD) Clear Screen Protectors with Lifetime Replacement Warranty [3-PACK] - Retail Packaging', 8.989970260105483), ('Sony Xperia X zwart / 32 GB', 8.554725456051944)] \n",
      "\n",
      "MM Reviews ->  [('Asus ZenFone 2 Selfie Smartphone, 32 GB, Dual SIM, Aqua Blu [Italia]', 9.794519352498332), ('Samsung J710 Galaxy J7 Smartphone da 16 GB, Oro [Italia]', 7.907016370631466)] \n",
      "\n",
      "Michele ->  [('Samsung T139 Unlocked Phone with Camera, Bluetooth and Speakerphone - Unlocked Phone - US Warranty - Gray', 10), (\"Huawei P9 Lite Smartphone, LTE, Display 5.2'' FHD, Processore Octa-Core Kirin 650, 16 GB Memoria Interna, 3GB RAM, Fotocamera 13 MP, Single-SIM, Android 6.0 Marshmallow, Bianco [Italia]\", 10), ('Honor 3C Smartphone, Dual SIM, Display 5 Pollici, Quad-Core, 2 GB di RAM, 8 GB di ROM, Bianco', 10), ('APPLE iPhone 7 Plus - Gold, 32 GB', 10), ('Lenovo Motorola Moto G Smartphone, 4,5 pollici display HD, processore Qualcomm, memoria 16GB, MicroSIM, Android 4.3 OS, fotocamera da 5 MP, Nero [Germania]', 10)] \n",
      "\n",
      "Dani ->  [('Nokia 6230i', 9.207689183301408), ('Microsoft Nokia C5-03 Smartphone (8.1cm (3.2 Zoll) Touchscreen, 3.5mm Klinkenbuchse, Ovi Karten, GPS) lime green', 9.118322943543692), ('Sony Xperia P - Smartphone libre (pantalla t??ctil de 4\" 540 x 960, c??mara 8 Mp, 16 GB, 2 procesadores de 1 GHz, 1 GB de RAM, S.O. Android 2.3), negro', 9.096762022363672), ('Motorola Moto E - Smartphone libre Android (4.5\", 5 Mp, 8 GB, 1 GB RAM, 4G), color blanco', 9.015310815097205), ('Honor 6 - Smartphone libre (pantalla de 5\", 16GB, 3 GB de RAM, cámara trasera de 13 MP y delantera de 5 MP, Android OS, v4.4.2 KitKat, LTE) negro', 8.807891712653204)] \n",
      "\n",
      "stefano ->  [('Asus ZenFone 2 Smartphone, Schermo da 5.5\" Full HD, Processore Quad Core 2,3 GHz, RAM 4 GB, 32 GB, 4G/LTE, Rosso', 8.573717520678306), ('Huawei P8 lite Smartphone, Display 5.0\" IPS, Dual Sim, Processore Octa-Core, Memoria 16 GB, Fotocamera 13 MP, Android 5.0, Bianco', 8.517318207431908), ('Lenovo Motorola Moto G LTE Smartphone, Display 4.5\", Fotocamera 5 MP, Memoria 8 GB, Quad-Core 1.2 GHz, 1 GB RAM, Micro SD, Android 4.4.3, Bianco [Italia]', 7.9559849803628815), ('Huawei Ascend G525 Smartphone, Dual SIM, Nero', 7.8828156886426255), ('Apple iPhone 6s 64GB 4G Oro', 7.637872657122202)] \n",
      "\n",
      "J ->  [('Samsung Galaxy J3 (8GB)', 8.991444041936537), ('Sony Xperia Z2 - Smartphone libre Android (pantalla 5.2\", cámara 20.7 Mp, 16 GB, Quad-Core 2.3 GHz, 3 GB RAM), negro (importado)', 8.940207659231252), ('LG Prime GS390 Feature SmartPhone (Unlocked)', 8.813596354396863), ('Nokia Lumia 800 Cyan Blue', 8.143849181207031), ('Samsung Galaxy S Blaze 4G SGH-T769 GSM Black - Unlocked International Version - Use With Any SIM', 7.956708952184328)] \n",
      "\n",
      "Amazon Kundenrezensionen ->  [('Microsoft Nokia Lumia 1020 Smartphone (11,8 cm (4.5 Zoll) PureMotion HD+ OLED Touchscreen mit ClearBlack Technologie, 41 Megapixel, 32 GB, Windows 8) gelb', 9.81432819680995), ('Samsung Galaxy Note 3 Smartphone (14,5 cm (5,7 Zoll) AMOLED-Touchscreen, 2,3GHz, Quad-Core, 3GB RAM, 13 Megapixel Kamera, Android 4.3) weiß', 9.763966507956585), ('BenQ-Siemens S68 brushed aluminium Handy', 9.54174719046209), ('Huawei P8 Smartphone (5,2 Zoll (13,2 cm) Touch-Display, 16 GB Speicher, Android 5.0) grau', 9.462029200640599), ('Microsoft Nokia Lumia 630 Single-SIM Smartphone (4,5 Zoll (11,4 cm) Touch-Display, 8 GB Speicher, Windows 8.1) gelb', 9.30098942035817)] \n",
      "\n",
      "joe ->  [('LG Optimus L7 P705 Factory Unlocked International Version No Warranty Gsm Android Phone, White', 10), ('Sim Free Motorola Moto G 4th Generation Mobile Phone - Black', 9.695217187155894), ('Sim Free Apple iPhone 6 64GB Mobile Phone - Space Grey', 9.028538903155917), ('Samsung Galaxy J3 2016 Sim Free Mobile Phone - Black', 8.08785506584031), ('Samsung Galaxy Core Prime SM-G360/G361 (Charcoal Grey, 8GB)', 8.084249375623404)] \n",
      "\n",
      "xceday ->  [('Apple iphone 3G 16GB Cep Telefonu', 1), ('Nokia E51 Cep Telefonu', 1), ('Apple iphone 3G 16GB Cep Telefonu', 1), ('Samsung Omnia (i900) Cep Telefonu', 1), ('Samsung M150 Cep Telefonu', 1)] \n",
      "\n",
      "alessandro ->  [('Huawei P8 lite Smartphone, Display 5.0\" IPS, Dual Sim, Processore Octa-Core, Memoria 16 GB, Fotocamera 13 MP, Android 5.0, Bianco', 9.794085038166502), ('Samsung SM-N910F Galaxy Note 4 Smartphone, 32 GB, Bianco [Italia]', 9.713157042690012), ('Lenovo Motorola Moto G Smartphone, 4,5 pollici display HD, processore Qualcomm, memoria 16GB, MicroSIM, Android 4.3 OS, fotocamera da 5 MP, Nero [Germania]', 9.600289831136605), ('Huawei Ascend P6 Smartphone, 8 GB, Fotocamera 8 MP, Display 4.7 Pollici HD, Wi-Fi, Rosa', 9.580165345995404), ('Alcatel One Touch Pop C9 Smartphone, Dual SIM, 4 GB, Bianco [Italia]', 8.924892944905713)] \n",
      "\n",
      "Alejandro ->  [('Samsung Galaxy Note 3 - Smartphone libre Android (pantalla 5.7\", cámara 13 Mp, 32 GB, Quad-Core 2.3 GHz, 3 GB RAM), negro', 10), ('Huawei P8 Lite-AM08 - Pack Smartphone Huawei P8 Lite negro con Altavoz portátil AM08 Gold (2 GB de RAM, 16 GB de memoria interna, cámara 13 Mpxs/8Mpx), color negro', 9.490532699572627), ('Samsung Galaxy S3 Neo - Smartphone libre Android (pantalla 4.8\", cámara 8 Mp, 16 GB, Quad-Core 1.4 GHz, 1536 MB RAM), azul (importado)', 9.407152811320096), ('Elephone P8000 - Smartphone libre Android (pantalla 5.5\", cámara 13 Mp, 16 GB, Octa-Core 1.3 GHz, 3 GB RAM), gris', 9.34829109050639), ('Meizu M3S 16GB Gris libre', 9.104951758295341)] \n",
      "\n",
      "osmntyr ->  [('Nokia N73 Cep Telefonu', 1), ('Samsung Omnia (i900) Cep Telefonu', 1), ('Samsung F250 Cep Telefonu', 1), ('Nokia 6600i Slide Cep Telefonu', 1), ('Samsung I560 Cep Telefonu', 1)] \n",
      "\n",
      "Manuel ->  [('Desconocido Xiaomi MI 3 - Smartphone libre Android (pantalla 5\", cámara 13 Mp, 16 GB, Quad-Core 2.3 GHz, 2 GB RAM), blanco', 9.74530082942547), ('Lenovo Motorola Moto G LTE Smartphone, Display 4.5\", Fotocamera 5 MP, Memoria 8 GB, Quad-Core 1.2 GHz, 1 GB RAM, Micro SD, Android 4.4.3, Bianco [Italia]', 9.704945822761413), ('Samsung Galaxy S8 Zwart', 8.999723176781153), ('Honor 4X Smartphone 4G, Display 5.5 Pollici, Processore 64-bit Octa-Core Kirin 620, Fotocamera 13 MP, Memoria 8 GB, Android 4.4, Nero', 8.74179195431032), ('Nokia E5-00 Unlocked GSM Phone with Easy E-mail Setup, IM, QWERTY, 5 MP Camera, Ovi Store with Apps, and Free Ovi Maps Navigation (Black)', 8.696758421853403)] \n",
      "\n",
      "Samuel ->  [('Huawei Ascend Mate 7 Smartphone (6 Zoll (15,2 cm) Touch-Display, 16 GB Speicher, Android 4.4) silber', 10), ('August EP635 Auriculares Bluetooth Inalámbricos - Auriculares On-ear con micrófono integrado, Almohadillas de Cuero y Batería interna recargable - Compatible con iPhone 5S, 5, 4S, Samsung 5S, 4, iPads, Ordenadores, Tablets, Smartphones', 9.574409955184267), ('August EP635 Auriculares Bluetooth Inalámbricos - Auriculares On-ear con micrófono integrado, Almohadillas de Cuero y Batería interna recargable - Compatible con iPhone 5S, 5, 4S, Samsung 5S, 4, iPads, Ordenadores, Tablets, Smartphones', 9.574409955184267), ('Alcatel Onetouch 2004G - Móvil libre (pantalla 2.4\", 512 MB RAM, teclas grandes), blanco', 9.351927330781464), ('Acer Liquid E2 Duo Smartphone, Nero [Francia]', 8.88520441711792)] \n",
      "\n",
      "Patricia ->  [('LG D855 G3 Smartphone, 16 GB, Nero Metallico [Italia]', 9.502124238084638), ('Samsung Galaxy S7 Edge zwart / 32 GB', 9.214301076104167), ('Samsung Galaxy S7 goud, roze / 32 GB', 8.911701563856736), ('Samsung GT-I9300RWDBTU Unlocked Galaxy S3 i9300, 16GB (Marble White)', 8.73518458377475), ('Huawei Ascend Y330 - Smartphone libre Android (pantalla 4\", cámara 3.15 Mp, 4 GB, Dual-Core 1.3 GHz, 512 MB de RAM), color blanco', 8.5299668577875)] \n",
      "\n",
      "ozer ->  [('Apple iPhone 3GS 32GB', 1), ('Nokia 5310 Cep Telefonu', 1), ('Nokia N70 Cep Telefonu SILVER BLACK', 1), ('Nokia 2630 Cep Telefonu', 1), ('Nokia N95 8 GB Cep Telefonu', 1)] \n",
      "\n",
      "Никита ->  [('Sony Xperia ZR (черный)', 9.70926126667231), ('Sony Xperia ZR (белый)', 9.511019403571582), ('Samsung Galaxy A3', 9.399395587911815), ('HTC HD7', 9.26426416485327), ('LG GT540 Optimus', 9.168038596506417)] \n",
      "\n",
      "ozer1299 ->  [('Samsung innov8 (i8510) Cep Telefonu', 1), ('Nokia N8 Cep Telefonu', 1), ('Samsung Omnia (i900) Cep Telefonu', 1)] \n",
      "\n",
      "Максим ->  [('Samsung Galaxy S7', 9.521186329322356), ('Apple iPhone 5s 16GB (серебристый)', 8.855955119941903), ('Apple iPhone 5s 16GB (серебристый)', 8.855955119941903), ('Sony Xperia M (белый)', 8.795868106143255), ('Sony Xperia L (черный)', 8.538168169662505)] \n",
      "\n",
      "Franco ->  [('Samsung Galaxy S III Smartphone, Bianco [Italia]', 9.553974248126183), ('Nokia Microsoft Lumia 535 5 inch UK SIM-Free Smartphone (Qualcomm Snapdragon 200 1.2GHz, 1Gb RAM, 8Gb storage, Wi-Fi, BT, Camera, Windows 8.1) - Orange', 9.098590599887595), ('Lenovo Motorola Moto G LTE Smartphone, Display 4.5\", Fotocamera 5 MP, Memoria 8 GB, Quad-Core 1.2 GHz, 1 GB RAM, Micro SD, Android 4.4.3, Bianco [Italia]', 8.998596146983244), ('Huawei Ascend G525 Smartphone, 4 GB, Dual SIM, Bianco', 8.746195331977482), ('Samsung C3520I Telefono Cellulare, Argento [Italia]', 8.674505034586655)] \n",
      "\n",
      "Florian ->  [('Lenovo Moto X Play Smartphone (13,9 cm (5,5 Zoll) Display, 16 GB Speicher, Android 5.1) weiß', 8.494785369518382), ('Sony Ericsson XPERIA X10 Smartphone (Android OS,Timescape, Mediascape, 8.1 MP Kamera, GPS) Luster White', 8.26685797347067), ('Samsung Galaxy S4 Smartphone (12,7 cm (4,9 Zoll) AMOLED-Touchscreen, 16GB interner Speicher, 13 Megapixel Kamera, LTE, Android 5.0) - Schwarz [EU-Version]', 7.890537720694374), ('Huawei P8 Smartphone (5,2 Zoll (13,2 cm) Touch-Display, 16 GB Speicher, Android 5.0) grau', 7.8825576959117), ('Sony Xperia Z2 Smartphone (5,2 Zoll (13,2 cm) Touch-Display, 16 GB Speicher, Android 4.4) violett', 7.399630310765266)] \n",
      "\n",
      "cinderella ->  [('Nokia N95 8 GB Cep Telefonu', 1), ('Nokia 6500c Cep Telefonu', 1), ('Nokia 2630 Cep Telefonu', 1)] \n",
      "\n",
      "Valentina ->  [('Asus ZenFone 2 Laser 5.5\" Smartphone, 16 GB, Dual SIM, Nero [Italia]', 10), (\"Huawei P9 Lite Smartphone, LTE, Display 5.2'' FHD, Processore Octa-Core Kirin 650, 16 GB Memoria Interna, 3GB RAM, Fotocamera 13 MP, Single-SIM, Android 6.0 Marshmallow, Bianco [Italia]\", 10), ('LG Optimus L5 II E460 Smartphone, Nero [Italia]', 10), ('Wiko Lenny 3 Smartphone, Dual-SIM, Memoria Interna da 16 GB, Oro', 10), ('Samsung I9301 Galaxy S III Neo Smartphone, 16 GB, Blu [Italia]', 10)] \n",
      "\n",
      "Simone ->  [('Samsung G935 Galaxy S7 Edge Smartphone da 32GB, Argento [Italia]', 10), ('Lenovo Motorola Moto G Smartphone, 4,5 pollici display HD, processore Qualcomm, memoria 16GB, MicroSIM, Android 4.3 OS, fotocamera da 5 MP, Nero [Germania]', 10), ('Alcatel One Touch Idol 3 Smartphone, 4.7\", Dual SIM, Grigio Scuro [Italia]', 10), ('Samsung GT-S6310DBNITV Galaxy Young, Blu [Italia]', 9.729929575369118), ('Apple iPhone 6s 64GB 4G Oro', 9.528967090723718)] \n",
      "\n",
      "Stephanie ->  [('Samsung Galaxy A3 Téléphone portable débloqué 4G (Ecran: 4,5 pouces - 16 Go - Simple SIM - Android 4.4 KitKat) Argent', 8.420454545454547), ('Huawei P8 Lite 16GB, Black, Unlocked 4G LTE Smartphone, International Version, No Warranty', 8.030094764793926), ('Sony Xperia Z C6603 Black Factory Unlocked LTE BANDS 1/3/5/7/8/20 International Version No Warranty - Original Sony phone', 8.003661055387209), ('Huawei Mate S', 7.890007830189353), ('HTC PHONE VERIZON HTC ANDROID ERIS 1.5 OS; GOOGLE EXP DEV DUALL BAND CDMA 2000 1xRTT/1xEVDO/1xEVDO Rev A', 7.551581503508736)] \n",
      "\n",
      "Aksisey ->  [('Nokia N97 mini Cep Telefonu', 1), ('Nokia N97 mini Cep Telefonu', 1), ('Nokia N96 Cep telefonu', 1), ('Samsung M620 Cep Telefonu', 1), ('Samsung M620 Cep Telefonu', 1)] \n",
      "\n",
      "Paola ->  [('Samsung Galaxy S7 goud, roze / 32 GB', 9.782586087599041), (\"Huawei P9 Lite Smartphone, LTE, Display 5.2'' FHD, Processore Octa-Core Kirin 650, 16 GB Memoria Interna, 3GB RAM, Fotocamera 13 MP, Single-SIM, Android 6.0 Marshmallow, Bianco [Italia]\", 9.471476930189093), ('Huawei P8 lite Smartphone, Display 5.0\" IPS, Dual Sim, Processore Octa-Core, Memoria 16 GB, Fotocamera 13 MP, Android 5.0, Bianco', 8.48402942338233), ('Samsung I9060i Galaxy Grand Neo Plus Smartphone, 8 GB, Bianco [Italia]', 8.341018431066994), ('Samsung Code SCH I220', 8.285714285714286)] \n",
      "\n",
      "daniel ->  [('Lumia Microsoft Nokia Lumia 640 RM-1073 Unlocked Phone (Black)', 9.710569541470463), ('Nokia 6101', 9.577559477544197), ('Tech Armor Samsung Galaxy S3 S III Premium High Definition (HD) Clear Screen Protectors with Lifetime Replacement Warranty [3-PACK] - Retail Packaging', 9.365309482981896), ('Smartphone Motorola Moto X 2ª Geração XT1097 32 GB', 9.210445626598705), ('APPLE iPhone 7 - Silver, 128 GB', 9.131000506089142)] \n",
      "\n",
      "Sandy ->  [('Samsung Galaxy S7 G930F 32GB Factory Unlocked GSM Smartphone International Version (Black) - NO WARRANTY', 9.67647877192533), ('Nokia 6600', 9.548141221965913), ('Sim Free Sony E5 Mobile Phone', 9.486707824589464), ('Sony Xperia L Smartphone (10,9 cm (4,3 Zoll) Touchcreen, 1GHz, Dual-Core, 1GB RAM, 8 Megapixel Kamera, NFC, Android 4.1) schwarz', 8.26777622661471), ('Samsung Galaxy S6', 8.038524122051447)] \n",
      "\n",
      "Виктор ->  [('Nokia X2-02 Bright Red', 9.480034767122838), ('Sony Xperia SP (белый)', 9.051384563260147), ('Nokia 101 Premium Black', 9.049008167078027), ('Sony Xperia Z (черный)', 8.962378248318332), ('Sony Xperia Z (черный)', 8.962378248318332)] \n",
      "\n",
      "Mattia ->  [('Lenovo Motorola Moto G LTE Smartphone, Display 4.5\", Fotocamera 5 MP, Memoria 8 GB, Quad-Core 1.2 GHz, 1 GB RAM, Micro SD, Android 4.4.3, Bianco [Italia]', 10), ('Huawei P8 lite Smartphone, Display 5.0\" IPS, Dual Sim, Processore Octa-Core, Memoria 16 GB, Fotocamera 13 MP, Android 5.0, Bianco', 9.82396599311186), ('Asus ZE551ML-2A760WW Smartphone ZenFone 2 Deluxe, 5.5\", 4 GB RAM, 64 GB, Intel Quad-Core Z3580, Dual SIM, Illusion Purple', 9.775565395189526), ('Huawei 771657 P8 Lite Smart Smartphone 16GB, Marchio Tim, Grigio Titanio', 9.669326089757206), ('elephone P8000 Smartphone 4G FDD-LTE 64bit MTK6753 Otta Nucleo FHD 5.5 \"IPS Android 5.1 3GB+16GB 5MP 13mp Due telecamere il tocco a 360 ° ID imporonta digitale', 9.576542001624771)] \n",
      "\n",
      "Samantha ->  [('Lenovo Motorola Moto G Smartphone, Display HD 4,5\", Processore Qualcomm, Memoria 8 GB, MicroSIM, Android 4.4 OS, Fotocamera da 5 MP, Nero [Germania]', 9.173295690136717), ('Tech Armor Samsung Galaxy S3 S III Premium Anti-Glare & Anti-Fingerprint (Matte) Screen Protectors with Lifetime Replacement Warranty [3-PACK] - Retail Packaging', 8.627139896224522), ('Samsung Galaxy S3 Neo - Smartphone libre Android (pantalla 4.8\", cámara 8 Mp, 16 GB, Quad-Core 1.4 GHz, 1.5 GB RAM), blanco', 7.349829269687461), ('Apple iPhone 5C Factory Unlocked Cellphone, 8GB, White', 6.5118642104873405), ('Nokia N97', 6.441173308017216)] \n",
      "\n",
      "Thomas ->  [('Samsung Galaxy Mega GT-i9205 Smartphone (16 cm (6,3 Zoll) Touchscreen, Cortex A15, Dual-Core, 1,7GHz, 1,5GB RAM, 8 Megapixel Kamera, Android 4.2) schwarz', 10), ('HUAWEI ASCEND P9 LITE BLACK', 9.599575328844612), ('Sony Ericsson W810i Fusion White Handy', 9.568214285714287), ('Samsung Galaxy Note II N7100 Smartphone 16GB (14 cm (5,5 Zoll) AMOLED-Touchscreen, Quad-core, 1,6GHz, 8 Megapixel Kamera, Android 4.1) blue', 9.493720679652288), ('Motorola Moto G (1st Generation) - Black - 16GB - Global GSM Unlocked Phone', 9.488842702155473)] \n",
      "\n",
      ". ->  [('HTC 10 Smartphone (13,2 cm (5,2 Zoll) Super LCD 5 Display, 1440 x 2560 Pixel, 12 Ultrapixel, 32 GB, Android) glacier silber', 7.400672456546782), ('Samsung Galaxy S7 zwart / 32 GB', 7.030838558786359), ('Samsung Galaxy S7 goud, roze / 32 GB', 6.75824752310451), ('Samsung Galaxy Ace S5830 Smartphone (8,9 cm (3,5 Zoll) Display, Touchscreen, Android OS, 5 Megapixel Kamera) weiß', 6.552328842392249), ('Samsung Galaxy S4 5 inch UK SIM-free Smartphone - Black Mist', 6.178256807701858)] \n",
      "\n",
      "Carlo ->  [('Huawei Nexus 6P Smartphone, Display 5.7 Pollici, Memoria interna 32 GB, 3 GB da RAM, Fotocamera 12.3 MP, Android 6.0, Grigio', 9.871621851989273), ('Alcatel One Touch 20-04G Telefono Cellulare, Nero', 9.561421137837776), ('LG Nexus 4 Smartphone, Nero [Italia]', 9.36519147703212), ('Asus ZenFone 2 Smartphone, Schermo da 5.5\" Full HD, Processore Quad Core 2,3 GHz, RAM 4 GB, 32 GB, 4G/LTE, Argento', 9.29543367949514), ('Huawei Ascend G700 Smartphone Dual SIM, Nero', 9.1792119049852)] \n",
      "\n",
      "Lucia ->  [('Samsung Galaxy S6 G920I Factory Unlocked Cellphone, 32GB, Platinum Gold', 9.074189253381466), ('LG G4 - Smartphone libre Android (pantalla 5.5\", cámara 16 Mp, 32 GB, Hexa - Core 6 x 1.8GHz (64bits), 3 GB RAM), color gris metálico', 8.894336703450806), ('Alcatel One Touch Pop C9 Smartphone, Dual SIM, 4 GB, Bianco [Italia]', 8.873977004882), ('Samsung Galaxy J5 Smartphone, Oro [Italia]', 8.856806541847481), (\"Huawei P9 Lite Smartphone, LTE, Display 5.2'' FHD, Processore Octa-Core Kirin 650, 16 GB Memoria Interna, 3GB RAM, Fotocamera 13 MP, Single-SIM, Android 6.0 Marshmallow, Nero [Italia]\", 8.854911076229355)] \n",
      "\n",
      "massimo ->  [('Asus ZenFone 2 Laser Smartphone, Display da 5\", 16 GB, Dual SIM, Nero [Italia]', 10), ('Asus ZenFone 2 Laser Smartphone, Display da 5\", 16 GB, Dual SIM, Nero [Italia]', 10), ('Samsung Galaxy J5 Smartphone, Oro [Italia]', 10), ('Lenovo Motorola Moto G Smartphone, 4,5 pollici display HD, processore Qualcomm, memoria 16GB, MicroSIM, Android 4.3 OS, fotocamera da 5 MP, Nero [Germania]', 10), ('Lenovo Motorola Moto G Smartphone, 4,5 pollici display HD, processore Qualcomm, memoria 16GB, MicroSIM, Android 4.3 OS, fotocamera da 5 MP, Nero [Germania]', 10)] \n",
      "\n",
      "Enrico ->  [('Samsung Galaxy A5 2016 Smartphone LTE, 16GB, Nero', 9.151581825324186), ('Samsung Galaxy Note 2 Wit', 9.14709581945986), ('Samsung Galaxy Note 2 Wit', 9.14709581945986), ('Lenovo Motorola Moto G LTE Smartphone, Display 4.5\", Fotocamera 5 MP, Memoria 8 GB, Quad-Core 1.2 GHz, 1 GB RAM, Micro SD, Android 4.4.3, Bianco [Italia]', 8.83694311897787), ('Honor 6X Smartphone 4G LTE, Diplay 5.5 pollici FHD, 32 GB ROM, 3 GB RAM, Dual Camera 12 Megapixel, Sensore Fingerprint, Android, Grigio', 8.788124985918506)] \n",
      "\n",
      "Davide ->  [('Huawei P8 lite Smartphone, Display 5.0\" IPS, Dual Sim, Processore Octa-Core, Memoria 16 GB, Fotocamera 13 MP, Android 5.0, Bianco', 10), ('Lenovo Motorola Moto G LTE Smartphone, Display 4.5\", Fotocamera 5 MP, Memoria 8 GB, Quad-Core 1.2 GHz, 1 GB RAM, Micro SD, Android 4.4.3, Bianco [Italia]', 10), (\"Huawei P9 Lite Smartphone, LTE, Display 5.2'' FHD, Processore Octa-Core Kirin 650, 16 GB Memoria Interna, 3GB RAM, Fotocamera 13 MP, Single-SIM, Android 6.0 Marshmallow, Nero [Italia]\", 10), ('WIKO Fever 4G Smartphone, 16 GB, Dual SIM, Bianco', 10), ('Huawei Ascend P6 Smartphone, 8 GB, Fotocamera 8 MP, Display 4.7 Pollici HD, Wi-Fi, Rosa', 10)] \n",
      "\n",
      "Роман ->  [('Sony Xperia TX (черный)', 9.558329893394589), ('Nokia 6303i classic', 9.423612441141232), ('Sony Xperia Z1 (фиолетовый)', 9.249175183078552), ('Sony Xperia Z1 (фиолетовый)', 9.249175183078552), ('Sony Xperia Z1 (фиолетовый)', 9.249175183078552)] \n",
      "\n",
      "Николай ->  [('Samsung Galaxy Note5', 9.904165807430642), ('Samsung Galaxy Note5', 9.904165807430642), ('Samsung U600', 9.565062445845346), ('Apple iPhone 5s 16GB (серый космос)', 9.377655651010464), ('Samsung N7100 Galaxy Note II 16GB (серый)', 9.344297436838021)] \n",
      "\n",
      "Al ->  [('Samsung N9005 Galaxy Note 3 Smartphone, 32 GB, Nero [Italia]', 10), ('Tech Armor Galaxy S6 Screen Protector, Tech Armor High Definition HD-Clear Samsung Galaxy S6 Film Screen Protector [3-Pack]', 10), ('BLU Vivo XL Smartphone - 5.5\" 4G LTE - GSM Unlocked - Solid Gold', 9.689330845199898), ('Lenovo Moto G4 Smartphone débloqué 4G (Ecran: 5,5 pouces - 16 Go - 2 Go RAM - Android 6.0) Blanc', 9.553842686499888), ('Samsung Galaxy J5 2016 Sim Free Mobile Phone - White', 9.398141621401061)] \n",
      "\n",
      "Client Amazon ->  [('Honor 8 Smartphone débloqué 4G (Ecran: 5,2 pouces - 32 Go - Double Nano-SIM - Android 6.0) Blanc Nacré', 9.154550098346162), ('Honor 8 Smartphone débloqué 4G (Ecran: 5,2 pouces - 32 Go - Double Nano-SIM - Android 6.0) Blanc Nacré', 9.154550098346162), ('AICEK Coque ASUS ZenFone 3 ZE520KL, AICEK Etui Silicone Gel ASUS ZenFone 3 Housse Antichoc ZenFone 3 Transparente Souple Coque de Protection pour ASUS ZenFone 3(5.2 Pouces)', 8.395112527769728), ('Doro Matra Phone Easy 612 GSM téléphone portable débloqué Noir', 8.313315435204911), ('Microsoft Lumia 640 Smartphone débloqué 4G (Ecran : 5 pouces - 8 Go - Double SIM - Windows Phone 8.1) Noir', 7.877857242311796)] \n",
      "\n",
      "Robert ->  [('LG Electronics G2 Smartphone ( 13,2 cm (5,2 Zoll) Touchscreen, Quad-Core, 13 Megapixel Kamera, 16GB Speicher, Android 4.2) weiß', 10), ('Nokia Asha 210 SIM-Free Mobile Phone - Black', 10), ('Emporia Elegance Handy (4,6 cm (1,8 Zoll), OLED Farbdisplay, ohne Branding) braun', 10), ('Lenovo Motorola Moto X 2. Generation Smartphone (13,2 cm (5,2 Zoll) Full HD-Display, Touchscreen, 13 Megapixel Kamera, WiFi, 16GB interner Speicher, Android KitKat 4.4.4) schwarz', 10), ('Samsung Galaxy S II i9100 DualCore Smartphone (10,9 cm (4,3 Zoll) Touchscreen Display, Android 4.0 oder höher, 8 MP Full-HD Kamera, 2 MP Frontkamera) ceramic-white', 10)] \n",
      "\n",
      "Mike ->  [('Doro PhoneEasy 610 Mobile Phone (Black)', 10), ('Sony Xperia SP SIM-free Android Smartphone - Black (discontinued by manufacturer)', 10), ('Samsung Galaxy Nexus i9250 Smartphone (11,8 cm (4,65 Zoll) Touchscreen, 16GB interner Speicher, 5 Megapixel Kamera, Android 4.0) chic-white', 10), ('Microsoft Lumia 535 5 inch UK SIM-Free Smartphone - Black (Qualcomm Snapdragon 200 1.2GHz, 1Gb RAM, 8Gb storage, Wi-Fi, BT, Camera, Windows 8.1)', 9.958222455389585), ('Huawei Ascend Y530 Smartphone (4,5 Zoll (11,4 cm) Touch-Display, 4 GB Speicher, Android 4.3) schwarz', 9.889803318650378)] \n",
      "\n",
      "Влад ->  [('Nokia X2-02 Bright Red', 8.730477090358999), ('Samsung Galaxy S4 GT-I9500 16GB (черный)', 8.139215846593181), ('Sony Xperia M (черный)', 7.385367817357434), ('Samsung Galaxy S4 GT-I9500 16GB (белый)', 7.110679686726258), ('Apple iPhone 5s 16GB (серый космос)', 7.089232794304423)] \n",
      "\n",
      "Alfonso ->  [(\"Lenovo Motorola Moto G4 - Smartphone libre Android 6 (pantalla de 5.5'' Full HD, 4G, cámara de 13 MP, 2 GB de RAM, 16 GB, Qualcomm Snapdragon 1.5 GHz), color negro\", 10), ('Motorola Moto G (3ª Generación) + Carcasa Oficial color turquesa - Smartphone libre Android 6 (4G, pantalla 5\", cámara 13 Mp, 16 GB, Quad Core 1.4 GHz, 2 GB de RAM), negro', 9.988002439253213), ('Huawei Ascend P8 Smartphone, Display 5.2\" FHD, Memoria RAM da 3 GB, Processore HiSilicon Kirin 930 Octa-Core, Fotocamera Principale 13 MP, Grigio', 9.80271179894406), ('Microsoft Lumia 640 - Smartphone libre Windows Phone (pantalla 5\", 8 GB, Quad-Core 1.2 GHz, 1 GB RAM), blanco', 9.424692869878024), ('Nokia 108 Telefono Cellulare, Dual SIM, Bianco [Italia]', 8.297057829939646)] \n",
      "\n",
      "Frank ->  [('Microsoft Nokia 2710 Navigation Edition Handy (GPS, Ovi Karten, 2 MP, Gerätehalter CR-118, KFZ-Ladekabel DC-4) jet black', 10), ('Samsung Galaxy S7 goud, roze / 32 GB', 9.865447372427807), ('Huawei Honor 8 32GB Smartphone (Unlocked, Midnight Black)', 9.817018035075291), ('Samsung Galaxy S3 mini I8190 Smartphone (10,2 cm (4 Zoll) AMOLED Display, Dual-Core, 1GHz, 1GB RAM, 5 Megapixel Kamera, Android 4.1) garnet-red', 9.79481400537583), ('Samsung Galaxy S7 Edge zwart / 32 GB', 9.520417236150788)] \n",
      "\n",
      "Chiara ->  [('Lenovo Motorola Moto G LTE Smartphone, Display 4.5\", Fotocamera 5 MP, Memoria 8 GB, Quad-Core 1.2 GHz, 1 GB RAM, Micro SD, Android 4.4.3, Bianco [Italia]', 9.470433191835918), ('Lenovo Motorola Moto G 4G (2 Generazione) Smartphone, Display 5 Pollici, LTE, Fotocamera 8 MP, Memoria 8 GB, Android 5 Lollipop, Nero [Italia]', 9.243024709432197), ('Asus ZenFone 2 Selfie Smartphone, 32 GB, Dual SIM, Aqua Blu [Italia]', 9.22470338975692), ('Nokia Lumia 1320 Smartphone, 8 GB, Nero [Italia]', 9.120956585986074), ('Apple iPhone 6 16GB (Argento)', 8.593217386078859)] \n",
      "\n",
      "Barbara ->  [('Microsoft Nokia C3-00 Smartphone (6.1 cm (2.4 Zoll) Display, Bluetooth, 2 Megapixel Kamera, QWERTZ-Tastatur) pink', 10), ('Samsung Galaxy Pocket S5300 Smartphone (7,1 cm (2,8 Zoll) Touchscreen, 2 Megapixel Kamera, Android 2.3) white', 10), ('Huawei P9 lite Vodafone, Nero [Italia]', 9.86229563433615), ('Huawei P9 Lite Smartphone, LTE, Display 5,2” FHD, IPS, Processore Kirin 650, 3 GB RAM, Fotocamera 13 MP, Nero, (Marchio TIM) [Versione Italia]', 9.818862449921507), ('Nokia Lumia 635 8GB Unlocked GSM 4G LTE Windows 8.1 Quad-Core Phone - Black', 9.745491737630578)] \n",
      "\n",
      "Angela ->  [('Samsung \\u200bSamsung Galaxy A3 Smartphone (12 cm (4,71 Zoll) HD Super AMOLED Touch-Display, 16 GB, Android 5.1) schwarz', 9.426919024398721), ('Alcatel One Touch Idol 3 Smartphone,4.7\", Single SIM, Grigio Scuro [Italia]', 8.667638521357704), ('Kyocera Kona Black (Virgin Mobile)', 8.165945341312243), ('Microsoft Lumia 950 5.2-Inch 32 GB SIM-Free Smartphone - White', 8.137399309261953), ('Sim Free Samsung A3 2016 Mobile Phone - White', 7.855584082156611)] \n",
      "\n",
      "angelo ->  [('Smartphone LG G3 D855', 10), ('LG D802 G2 Smartphone, 32 GB, Black Exclusive [Italia]', 9.644822766879784), ('Lenovo Motorola Moto G Smartphone, 4,5 pollici display HD, processore Qualcomm, memoria 16GB, MicroSIM, Android 4.3 OS, fotocamera da 5 MP, Nero [Germania]', 8.806606860858995), ('Huawei P8 lite Smartphone, Display 5.0\" IPS, Dual Sim, Processore Octa-Core, Memoria 16 GB, Fotocamera 13 MP, Android 5.0, Bianco', 8.60809607197114), ('Cubot Note S 3G Smartphone - 5.5\" pollici IPS HD Screen Android 5.1 MT6580 Quad Core 1.3GHz 2GB RAM+16GB ROM Dual SIM HotKnot WiFi Cellulare (Nero)', 8.319388320595728)] \n",
      "\n",
      "Marc ->  [('Lenovo Motorola Moto G (3a Generación) - Smartphone libre Android (4G, 5\", 13 MP, 16 GB, 2 GB RAM), color negro', 9.772854623645625), ('Lenovo Motorola Moto G (3a Generación) - Smartphone libre Android (4G, 5\", 13 MP, 16 GB, 2 GB RAM), color negro', 9.772854623645625), ('Motorola Moto G (3ª Generación) + Carcasa Oficial color turquesa - Smartphone libre Android 6 (4G, pantalla 5\", cámara 13 Mp, 16 GB, Quad Core 1.4 GHz, 2 GB de RAM), negro', 9.463669157796781), ('Motorola Moto G 3ème génération Smartphone débloqué 4G (Ecran: 5 pouces - 16 Go - 2 Go RAM - Simple Micro-SIM - Android 6.0 Marshmallow) Noir', 9.132945195808764), ('Honor 6 Smartphone (5 Zoll (12,7 cm) Touch-Display, 16 GB Speicher, Android 4.4) schwarz', 9.115047766814175)] \n",
      "\n",
      "Fabio ->  [('Nokia Cellulare Nokia 105 Dual Sim Cyan Blu', 10), ('Samsung G935 Galaxy S7 Edge Smartphone da 32GB, Argento [Italia]', 10), ('Alcatel One Touch Pop C5 Smartphone, Dual SIM, 4 GB, Bianco [Italia]', 10), ('Samsung G935 Galaxy S7 Edge Smartphone da 32GB, Argento [Italia]', 10), ('Lenovo Motorola Moto X Play Smartphone, 5.5\", Fotocamera 21 MP, 16 GB, RAM 2 GB, Android 5.1.1 Lollipop, Nero [Italia]', 10)] \n",
      "\n",
      "Dee ->  [('BlackBerry Passport - Factory Unlocked Smartphone - White (U.S. Warranty)', 8.660231036423026), ('Samsung Galaxy J3 2016 Sim Free Mobile Phone - Black', 8.076854990063273), ('Cubot X15 5.5 inch IPS FHD 4G FDD-LTE Android 5.1 Smartphone 2GB 16GB 64bit MTK6735 Quad Core 8MP 16.0MP 2750mAh Cellphone', 7.991585956133827), ('LG Optimus L90 D415 4G GSM Android Smartphone, T-Mobile, Grey', 7.930259121490579), ('VERIZON LG OCTANE CELL PHONE!', 7.705385364577097)] \n",
      "\n",
      "Marcus ->  [('Samsung Galaxy S3 mini I8190 Smartphone (10,2 cm (4 Zoll) AMOLED Display, Dual-Core, 1GHz, 1GB RAM, 5 Megapixel Kamera, Android 4.1) garnet-red', 9.711407163715592), ('Nokia 5530 XpressMusic', 9.589979036641944), ('Honor 7 Smartphone 4G, Display Full HD 5.2 Pollici, Processore Kirin 935 Octa Core 2.2 GHz, 16 GB Memoria Interna, 3 GB RAM, Fotocamera 20 MP, Grigio', 9.40775976980602), ('Sony Ericsson Xperia mini pro Smartphone (7,6 cm (3 Zoll) Display, QWERTZ-Tastatur, Touchscreen, 5 MP Kamera, Android 2.3 OS) schwarz', 9.327491395739706), ('Samsung Galaxy S3 mini I8190 Smartphone (10,2 cm (4 Zoll) AMOLED Display, Dual-Core, 1GHz, 1GB RAM, 5 Megapixel Kamera, Android 4.1) marble-white', 9.260092452304656)] \n",
      "\n",
      "Albert ->  [('HTC Incredible S Smartphone (10.2cm (4 Zoll) Display, Touchscreen, 8 Megapixel Kamera, Android OS) muted black', 10), ('Huawei Ascend P6 Smartphone (11,9 cm (4,7 Zoll) Touchscreen, 8 Megapixel, 8GB Speicher, Android 4.2) schwarz', 10), ('Samsung Galaxy S III mini (I8190) - Smartphone libre Android (pantalla 4\", cámara 5 Mp, 8 GB, Dual-Core 1 GHz, 1 GB RAM), blanco', 10), ('Microsoft Lumia 950 XL 5.7 inch 32 GB SIM Smartphone - White', 10), ('טלפון סלולרי LG G4 H815', 10)] \n",
      "\n",
      "Mauro ->  [('Samsung Galaxy A5 2016 Smartphone LTE, 16GB, Nero', 9.311005163112153), ('LG G4 US991 32GB Smartphone (Unlocked, Black Leather)', 9.06487403795196), ('Samsung Galaxy S7 edge SM-G935F 32GB Smartphone (Unlocked, Blue)', 9.028499123358365), ('Huawei 771657 P8 Lite Smart Smartphone 16GB, Marchio Tim, Grigio Titanio', 8.72696630996694), ('Huawei P8 lite Smartphone, Display 5.0\" IPS, Dual Sim, Processore Octa-Core, Memoria 16 GB, Fotocamera 13 MP, Android 5.0, Bianco', 8.625602078539048)] \n",
      "\n",
      "jose ->  [('Nokia Lumia 635 8GB Unlocked GSM 4G LTE Windows 8.1 Quad-Core Smartphone - Black', 10), ('Honor 6 - Smartphone libre (pantalla de 5\", 16GB, 3 GB de RAM, cámara trasera de 13 MP y delantera de 5 MP, Android OS, v4.4.2 KitKat, LTE) negro', 9.345496646886446), ('Elephone P6000 Pro - Smartphone Libre 4G LTE Android 5.1 (Octa Core,5\" IPS OGS, RAM 3GB, ROM 16G, Cámara 2MP/13MP, Dual SIM, G-Sensor, GPS) - Blanco', 8.834992453061714), ('Honor 3C - Smartphone libre Android Dual SIM , pantalla 5.0\", cámara 8 Mp, 8 GB, Quad-Core 1.3 GHz, 2 GB RAM, gris/ negro', 8.8230815185228), ('Lenovo Motorola Moto X Play - Smartphone de 5.5\" (Full HD, 4G, 1.7 GHz Octa Core, 2 GB RAM, 16 GB, cámaras de 21/5 MP, Android 6) color blanco', 8.637997807504437)] \n",
      "\n",
      "JD ->  [('Samsung Galaxy S5 SIM-Free Smartphone, SM-G900F - Black', 9.33257254262372), (\"Casio G'zOne C781 Ravine 2 Verizon Cell Phone / Rugged Flip Phone / Black\", 8.96186106403677), ('Vodafone E1200 Pay As You Go Samsung Handset - Black', 8.443663970483893), ('Samsung a157 GoPhone (AT&T)', 7.740581265339463), ('BLU Life Pure Unlocked Phone 32GB ROM, 2GB RAM (White)', 7.195378075757343)] \n",
      "\n",
      "Tuvok ->  [('Samsung Galaxy Express I8730', 1.0000000000000002), ('Samsung Galaxy Express I8730', 1.0000000000000002), ('Samsung Galaxy Express I8730', 1.0000000000000002), ('Samsung Galaxy Express I8730', 1.0000000000000002), ('Samsung Galaxy Express I8730', 1.0000000000000002)] \n",
      "\n",
      "Matt ->  [('Sim Free Apple iPhone SE 64GB Mobile Phone - Space Grey', 9.286034670194766), ('TP-Link AC1300 Wireless Dual Band PCI-Express Adapter (Archer T6E)', 9.252623332325973), ('LG VX9700 Dare Verizon', 9.213671181893648), ('Sim Free Samsung Galaxy A3 2016 Mobile Phone - Black', 9.04422595260744), ('HTC 8X Unlocked Smartphone C620E, 16 GB, Blue', 8.841469480811002)] \n",
      "\n",
      "Francesca ->  [('Asus ZenFone 2 Laser Smartphone, Display da 5\", 16 GB, Dual SIM, Nero [Italia]', 10), (\"Huawei P9 Lite Smartphone, LTE, Display 5.2'' FHD, Processore Octa-Core Kirin 650, 16 GB Memoria Interna, 3GB RAM, Fotocamera 13 MP, Single-SIM, Android 6.0 Marshmallow, Bianco [Italia]\", 10), ('Alcatel One Touch 20-04G Telefono Cellulare, Nero', 10), ('Sony Xperia Z5 zwart / 32 GB', 9.50641603729117), ('Samsung A5 2016 Smartphone LTE, 16 GB, Oro [Italia]', 9.411133574489124)] \n",
      "\n",
      "Brandon ->  [('Samsung Galaxy J7 No Contract Phone, 16GB ROM / 2GB RAM, 5.5 Inch - White - (Boost Mobile)', 7.910219919048758), (\"Casio G'zOne C781 Ravine 2 Verizon Cell Phone / Rugged Flip Phone / Black\", 7.37404739474265), ('HTC Desire 816 Black (Virgin mobile) - 5.5 inch S-LCD Display', 7.356421212698343), ('ZTE Axon 7 64GB Smartphone (Unlocked, Quartz Gray)', 6.784974442154181), ('LG Google Nexus 5 D821 Factory Unlocked Phone, 32GB, Black - No 4G in USA - International Version No Warranty', 6.142790176511629)] \n",
      "\n",
      "Richard ->  [('Samsung Galaxy S6 64 GB UK SIM-Free Smartphone - Gold', 10), ('Sim Free Samsung Galaxy S7 Edge Mobile Phone - Black.', 10), ('Huawei Ascend P6 Smartphone (11,9 cm (4,7 Zoll) Touchscreen, 8 Megapixel, 8GB Speicher, Android 4.2) schwarz', 10), ('Samsung Factory Unlocked Samsung Galaxy Mega 6.3 I9205 LTE White Phone', 10), ('HTC One 32GB UK SIM Free Smartphone - Black - Discontunued by Manfucacturer', 9.972315851526341)] \n",
      "\n",
      "robert ->  [('LG 840G Prepaid Phone (Net10)', 10), ('Samsung Galaxy Light Smartphone SGH-T399 - Brown (T-Mobile)', 7.397918201060612), ('LG Electronics G3 Stylus D690 Dual SIM - Factory Unlocked Phone - Retail Packaging (Black Titanium)', 7.288479162830535), ('BLU Vivo XL Smartphone - 5.5\" 4G LTE - GSM Unlocked - Solid Gold', 7.208028981997752), ('Nokia Lumia 810 T-Mobile Phone, 4.3-Inch. 8GB with Windows 8 OS, 8MP Camera, Seconday 1.2MP Camera, Dual-Core Processor, Amoled Touchscreen, GPS, Wi-Fi, Bluetooth, Micro SD Slot Upto 64GB - Black', 6.865705119941357)] \n",
      "\n",
      "Arun ->  [('Binatone The Brick Mobile Phone', 8.939275399068476), ('BlackBerry Z30', 8.632668167309799), ('Lenovo A680 (Black)', 8.630420628405448), ('Samsung Galaxy J7 SM-J700F (Black, 16GB)', 8.22986376390196), ('Motorola Moto E 2nd Generation (4G, Black)', 7.83141633450047)] \n",
      "\n",
      "tiro ->  [('Samsung U900 1GB Cep Telefonu', 1), ('Samsung P520 Armani Cep Telefonu', 1), ('Samsung U900 1GB Cep Telefonu', 1), ('Samsung E250 Cep Telefonu - Pembe', 1), ('Apple iPhone 3GS 32GB', 1)] \n",
      "\n",
      "silvia ->  [('Motorola Moto G (3ª Generación) + Carcasa Oficial color turquesa - Smartphone libre Android 6 (4G, pantalla 5\", cámara 13 Mp, 16 GB, Quad Core 1.4 GHz, 2 GB de RAM), negro', 9.563250776201999), ('LG H410 Wine Smartphone, 4 GB, Marchio TIM, Rosso/Nero [Italia]', 9.090024398610865), ('Huawei P8 Lite Smartphone, Display 5\" IPS, Processore Octa-Core 1.5 GHz, Memoria Interna da 16 GB, 2 GB RAM, Fotocamera 13 MP, monoSIM, Android 5.0, Bianco [Italia]', 8.996928033254083), ('Lenovo Motorola Moto G LTE Smartphone, Display 4.5\", Fotocamera 5 MP, Memoria 8 GB, Quad-Core 1.2 GHz, 1 GB RAM, Micro SD, Android 4.4.3, Bianco [Italia]', 8.567502212460761), ('Lenovo Motorola Moto G 4G 3 Generazione Smartphone, Display 5\", Fotocamera 13 MP, Memoria 16 GB, Android 6 Lollipop, Nero [Italia]', 8.561722216287352)] \n",
      "\n",
      "Bart ->  [('HTC One S Grey', 9.803366725217293), ('HTC Desire X Wit', 9.376328289236861), ('HTC Desire X Wit', 9.376328289236861), ('Huawei P8 Lite wit / 16 GB', 8.875575072954826), ('LG G4 H815 wit / 32 GB - Overzicht', 8.688891365015195)] \n",
      "\n",
      "Ashley ->  [('APPLE iPhone 6s Plus - 128 GB, Rose Gold', 8.566244775102827), ('HTC EVO Design 4G Prepaid Android Phone (Boost Mobile)', 8.066134335036564), ('Sprint LG Volt White (Sprint Prepaid)', 7.668608653107396), ('Apple iPhone 4S AT&T Cellphone, 16GB, Black', 7.43780068493166), ('LG Cosmos VN250 Verizon Phone (POST PAID)', 7.099494236138829)] \n",
      "\n",
      "Евгения ->  [('Sony Xperia Z1 Compact (белый)', 9.85234992138242), ('Sony Xperia Z1 Compact (белый)', 9.85234992138242), ('Samsung Galaxy Note 2', 9.523892749024322), ('Apple iPhone 5s 16GB (серебристый)', 9.429671050726766), ('Sony Xperia M (черный)', 9.117642714341908)] \n",
      "\n",
      "Anônimo ->  [('Samsung Smartphone Samsung Galaxy Win Duos Dual Chip Desbloqueado Android 4.1...', 10), ('Samsung Smartphone Samsung Galaxy Win Duos Dual Chip Desbloqueado Android 4.1...', 10), ('Samsung Smartphone Samsung Galaxy S4 Mini Duos Dual Chip Desbloqueado Android...', 10), ('LG Smartphone Tri Chip LG Optimus L4 II Desbloqueado Branco Android 3G Wi-Fi Câmera Memória Interna 4GB TV Digital', 10), ('Samsung Smartphone Samsung Galaxy S4 Mini Duos Dual Chip Desbloqueado Android...', 10)] \n",
      "\n",
      "Matthias ->  [('Huawei Ascend P6 Smartphone (11,9 cm (4,7 Zoll) Touchscreen, 8 Megapixel, 8GB Speicher, Android 4.2) schwarz', 10), ('Emporia LIFE plus Handy (Seniorenhandy, Hörgeräte tauglich, mit Notruf-Funktion) silber', 10), ('Sony Xperia Z1', 8.710116289256852), ('Lenovo Moto G4 Smartphone (14 cm (5,5 Zoll), 16GB, Android) weiß', 8.685329934059038), ('Huawei Ascend Y530 Smartphone (4,5 Zoll (11,4 cm) Touch-Display, 4 GB Speicher, Android 4.3) weiß', 8.586545158483563)] \n",
      "\n",
      "An??nimo ->  [('Sony Xperia E', 10), ('Motorola Smartphone Motorola RAZR i Branco - Tela 4.3, Touchscreen, Android 4.0, C??mera de 8MP, 3G, Wi-Fi, Bluetooth, GPS, NFC, Mem??ria Interna 8GB', 10), ('Nokia Smartphone Nokia Asha 311 Desbloqueado Vivo, Cinza, C??mera de 3.2 MP, Processador de 1GHz, 3G, Wi-Fi', 9.4), ('Nokia Smartphone Nokia Asha 311 Desbloqueado Vivo, Cinza, C??mera de 3.2 MP, Processador de 1GHz, 3G, Wi-Fi', 9.4), ('Nokia Smartphone Nokia Asha 311 Desbloqueado Vivo, Cinza, C??mera de 3.2 MP, Processador de 1GHz, 3G, Wi-Fi', 9.4)] \n",
      "\n",
      "Erik ->  [('Samsung Galaxy S Advance Wit', 8.971754349821886), ('Apple iPhone 5S 16GB Black', 8.873425198132951), ('Sony Xperia Z5 Premium chroom / 32 GB', 8.825553451256283), ('Huawei Honor 5X Unlocked Smartphone, 16GB Dark Grey (US Warranty)', 8.775135859126408), ('Sony Xperia Z5 zwart / 32 GB', 8.49843127241746)] \n",
      "\n",
      "Alice ->  [('Apple iPhone 4S Smartphone, Bianco [Italia]', 7.871483317573218), ('Doro Phone Easy 605 GSM Sim Free Mobile Telephone - Dark Grey', 7.551581503508736), ('Nokia Lumia 925 Smartphone, Nero [Italia]', 7.517289992292308), ('Lenovo Motorola Moto G Smartphone, Display HD 4,5\", Processore Qualcomm, Memoria 8 GB, MicroSIM, Android 4.4 OS, Fotocamera da 5 MP, Nero [Germania]', 7.367742843329324), ('Motorola Moto X - 16GB, Unlocked Phone - US Warranty - White', 7.358595898373176)] \n",
      "\n",
      "Rene ->  [('Huawei Mate 9 (20 MP + 12 MP Leica Dual-Kamera, 14,9 cm (5,9 Zoll), Kirin 960 Prozessor, mit HUAWEI SuperCharge...', 9.343247516961359), ('Samsung Galaxy Note 2 Wit', 9.085238677574239), ('Samsung Galaxy Note 2 Wit', 9.085238677574239), ('Samsung Galaxy S3 mini (GT-I8200) Smartphone (4 Zoll (10,2 cm) Touch-Display, 8 GB Speicher, Android 4.2) blau', 8.995203209634049), ('Huawei P8 Lite wit / 16 GB', 8.496557801362991)] \n",
      "\n",
      "John ->  [('Nokia Lumia 920 32GB Unlocked GSM 4G LTE Windows Smartphone - White', 10), ('Motorola Moto G 3rd Generation LTE UK SIM-Free Smartphone - Black', 10), ('Asus Zenfone Max ZC550KL (16 GB)', 10), ('Motorola Moto G 4G SIM-Free Smartphone - Black (8GB) - Discontinued by manufacturer', 10), ('Tech Armor Samsung Galaxy S3 S III Premium High Definition (HD) Clear Screen Protectors with Lifetime Replacement Warranty [3-PACK] - Retail Packaging', 9.948317370441998)] \n",
      "\n",
      "simone ->  [(\"Huawei P9 Lite Smartphone, LTE, Display 5.2'' FHD, Processore Octa-Core Kirin 650, 16 GB Memoria Interna, 3GB RAM, Fotocamera 13 MP, Single-SIM, Android 6.0 Marshmallow, Bianco [Italia]\", 10), ('Samsung Galaxy A5 2016 Smartphone LTE, 16GB, Nero', 9.367130074669218), ('Lenovo Motorola Moto G 4G (2 Generazione) Smartphone, Display 5 Pollici, LTE, Fotocamera 8 MP, Memoria 8 GB, Android 5 Lollipop, Nero [Italia]', 9.304305833193514), ('Huawei P8 lite Smartphone, Display 5.0\" IPS, Dual Sim, Processore Octa-Core, Memoria 16 GB, Fotocamera 13 MP, Android 5.0, Bianco', 9.268765179676027), ('Huawei P8 lite Smartphone, Display 5.0\" IPS, Dual Sim, Processore Octa-Core, Memoria 16 GB, Fotocamera 13 MP, Android 5.0, Bianco', 9.268765179676027)] \n",
      "\n",
      "S ->  [('Samsung Galaxy Note 4 N910C Unlocked Cellphone, International Version, 32GB, Black', 8.738087464743169), ('Huawei P8lite zwart / 16 GB', 8.351959372380861), ('Nokia 130 (Dual SIM, Black)', 8.17194825752442), ('Sony Ericsson W705', 8.0501681673098), ('Sony Mobile Xperia Z3 Compact Smartphone Débloqué 4G (Ecran : 4.6 pouces - 16 Go - IP65 / IP68 - Android 4.4 KitKat) Noir', 7.551581503508736)] \n",
      "\n",
      "fabio ->  [('Lenovo Motorola Moto G Smartphone, 4,5 pollici display HD, processore Qualcomm, memoria 16GB, MicroSIM, Android 4.3 OS, fotocamera da 5 MP, Nero [Germania]', 9.563161699765052), ('Smartphone LG L90 Dual D410 Branco com Tela de 4.7”, Dual Chip, Android 4.4, Câmera 8MP e Processador Quad Core de 1.2 GHz', 9.252041480910771), ('Huawei Ascend P6 Smartphone, 8 GB, Fotocamera 8 MP, Display 4.7 Pollici HD, Wi-Fi, Rosa', 9.041384384566989), ('Samsung i9505 Galaxy S4 Smartphone, 16 GB, Nero [Italia] [Classe di efficienza energetica A+++]', 8.773013937275799), ('Asus ZenFone 3 Smartphone, Display da 5.2\", Memoria Interna da 64 GB, 4 GB RAM, Dual-SIM, Nero [Italia]', 8.643340828467064)] \n",
      "\n",
      "sumeyyehavvaay ->  [('Samsung M150 Cep Telefonu', 1), ('Samsung Omnia (i900) Cep Telefonu', 1), ('Nokia 6288 Cep Telefonu', 1), ('Nokia 6500c Cep Telefonu', 1)] \n",
      "\n",
      "Bob ->  [('Sim Free Motorola Moto G4 Play- Black', 9.773978754970006), ('Wiko Cink Slim Smartphone Android Bluetooth WiFi GPS Noir', 8.84625247034037), ('Tracfone LG Optimus Dynamic II - LG39C - Android Prepaid Phone with Triple Minutes (Tracfone)', 8.650112370312536), ('Huawei P8 grijs / 16 GB', 8.63798533488942), ('Motorola Moto E 4GB SIM-Free Smartphone - Black', 8.372371640856084)] \n",
      "\n",
      "Ivan ->  [('Sony Xperia Z1 (черный)', 9.316828569629845), ('Nokia 5530 XpressMusic', 8.757754881164736), ('Asus ZE551ML-2A760WW Smartphone ZenFone 2 Deluxe, 5.5\", 4 GB RAM, 64 GB, Intel Quad-Core Z3580, Dual SIM, Illusion Purple', 8.744808527207908), ('Samsung Galaxy S7 edge SM-G935F 32GB 4G Pink gold - Smartphone (SIM única, Android, NanoSIM, GSM, UMTS, WCDMA, LTE)', 8.312293903552293), ('ZTE Axon 7 64GB Smartphone (Unlocked, Quartz Gray)', 7.741250260427389)] \n",
      "\n",
      "thomas ->  [('Smartphone Samsung Galaxy J7 SM-J700M', 9.715622712764345), ('Honor 6 Smartphone (5 pollici, Touchscreen, Octa-Core, 3GB RAM, 16GB ROM, fotocamera principale da 13MP, fotocamera frontale da 5MP, 4G/LTE CAT6, Android 4.4, EmotionUI 2.3, SIM singola) Nero', 8.93205907278712), ('Samsung Galaxy S5 Smartphone (5,1 Zoll (12,9 cm) Touch-Display, 16 GB Speicher, Android 4.4) electric blue', 8.282397995411532), ('Samsung Galaxy A5', 7.36419042763211), ('Sony Ericsson Live mit Walkman Smartphone (8,1 cm (3,2 Zoll) Display, Touchscreen, Android 2,3, 5 Megapixel Kamera) schwarz', 6.82954986993969)] \n",
      "\n",
      "kardelen ->  [('Nokia 5800 XpressMusic Cep Telefonu', 1), ('Nokia 5610 Cep Telefonu', 1), ('Nokia 6500 Slide Cep Telefonu', 1), ('Nokia 5800 XpressMusic Cep Telefonu', 1), ('Nokia 5800 XpressMusic Cep Telefonu', 1)] \n",
      "\n",
      "pikacu ->  [('Samsung M150 Cep Telefonu', 1), ('Nokia E51 Cep Telefonu', 1), ('Nokia E90 Cep Telefonu', 1)] \n",
      "\n",
      "Cristian ->  [('LG Nexus 5X - Smartphone libre Android (pantalla 5.2\", cámara 12.3 MP, 2 GB de RAM, 16 GB), color negro', 10), ('APPLE iPhone 7 Plus - Gold, 32 GB', 10), ('Siemens M35i', 9.93939893654057), ('Sony Xperia Z3 Compact Smartphone, 16 GB, Nero [Italia]-Nano Sim', 9.663731676435425), (\"Huawei P9 Lite Smartphone, LTE, Display 5.2'' FHD, Processore Octa-Core Kirin 650, 16 GB Memoria Interna, 3GB RAM, Fotocamera 13 MP, Single-SIM, Android 6.0 Marshmallow, Bianco [Italia]\", 9.322167134628154)] \n",
      "\n",
      "cikolata ->  [('Nokia 5300 XpressMusic Cep Telefonu', 1), ('Nokia N73 Cep Telefonu', 1), ('Nokia N95 8 GB Cep Telefonu', 1), ('Samsung F250 Cep Telefonu', 1), ('Nokia 6131 Cep Telefonu', 1)] \n",
      "\n",
      "Joseph ->  [('LG 840G Prepaid Phone (Net10)', 9.59435779565479), ('Nokia Lumia 822 GSM Unlocked GSM Windows Phone - White', 8.84359532234431), ('Samsung Galaxy S6 Edge Plus SM-G928c 32GB Factory Unlocked White', 7.734839088799195), ('Motorola Moto X Pure Edition Unlocked Smartphone, 64 GB Black XT1575, 5.7\" Quad HD display, 21 MP Camera, Quad-core 1.8GHz', 7.4446215975388474), ('Samsung J710 Galaxy J7 Smartphone da 16 GB, Oro [Italia]', 7.182606729961893)] \n",
      "\n",
      "ozerbjk ->  [('Nokia N97 mini Cep Telefonu', 1), ('Nokia 6600i Slide Cep Telefonu', 1), ('Samsung Omnia (i900) Cep Telefonu', 1), ('Nokia 5300 XpressMusic Cep Telefonu', 1), ('Samsung I560 Cep Telefonu', 1)] \n",
      "\n",
      "Melanie ->  [('Samsung Galaxy S7 zwart / 32 GB', 9.445731834968203), ('Microsoft Nokia Lumia 710 Smartphone (9,4 cm (3,7 Zoll) Touchscreen, 5 Megapixel Kamera, Windows Phone Mango OS) schwarz', 9.33963315970598), ('Samsung SGH-E250i pink Handy', 9.142156020788022), ('SAMSUNG Galaxy A3 (2017) - 16 GB, Black', 8.775723943632444), ('Nokia Lumia 920 32GB Unlocked 4G LTE Windows Smartphone w/ PureView Technology 8MP Camera - Black', 8.531483599948848)] \n",
      "\n",
      "Massimiliano ->  [(\"Huawei P9 Lite Smartphone, LTE, Display 5.2'' FHD, Processore Octa-Core Kirin 650, 16 GB Memoria Interna, 3GB RAM, Fotocamera 13 MP, Single-SIM, Android 6.0 Marshmallow, Bianco [Italia]\", 10), (\"Huawei P9 Lite Smartphone, LTE, Display 5.2'' FHD, Processore Octa-Core Kirin 650, 16 GB Memoria Interna, 3GB RAM, Fotocamera 13 MP, Single-SIM, Android 6.0 Marshmallow, Bianco [Italia]\", 10), ('LG D802 G2 Smartphone, 16 GB, Nero [Italia]', 9.806257000289923), ('Huawei Ascend G620s Smartphone, Display 5.0\", 16M Colori, Memoria RAM da 1 GB, Processore 1.2 GHz Quad-Core Qualcomm, Nero', 9.755902960998617), ('Samsung J320 Galaxy J3 (2016) Dual SIM 5\", Quad Core, 8GB LTE, Nero [Italia]', 9.354126821518749)] \n",
      "\n",
      "barbiella ->  [('Nokia N70 Cep Telefonu SILVER BLACK', 1), ('Nokia 5630 XpressMusic', 1), ('Nokia 6500c Cep Telefonu', 1), ('Nokia 2630 Cep Telefonu', 1), ('Nokia N72 Cep Telefonu', 1)] \n",
      "\n",
      "Laura ->  [('Sim Free Samsung Galaxy S6 Edge Mobile Phone - Gold', 9.044352445878534), ('Samsung Galaxy S5 Smartphone - Blue', 8.834963904661064), ('Samsung Galaxy Note 4 - Smartphone de 5.7\" (2560 x 1440 pixeles, Super AMOLED, 2,7 GHz, 3072 MB), negro', 8.630897885494024), ('Samsung Galaxy S III mini (I8190) - Smartphone libre Android (pantalla 4\", cámara 5 Mp, 8 GB, Dual-Core 1 GHz, 1 GB RAM), blanco', 8.622824910573351), ('Elephone P8000 - Smartphone libre Android (pantalla 5.5\", cámara 13 Mp, 16 GB, Octa-Core 1.3 GHz, 3 GB RAM), gris', 8.612355248117241)] \n",
      "\n",
      "Anonyme ->  [('LG Optimus L7 noir', 7.551581503508736), ('Sony Ericsson Xperia X8', 5.946667161344635), ('BlackBerry Bold 9900', 4.051960604037589), ('LG KF700', 3.0215195186611505), ('Sony Ericsson C510', 1.2215195186611507)] \n",
      "\n",
      "Lucas ->  [('HTC Sensation XE Smartphone mit Beats Audio (10.9 cm (4.3 Zoll) Touchscreen, Android 2.3 OS, 1.5 GHz Dual Core Prozessor, 8 MP Kamera) schwarz', 9.6283519863895), ('LG Optimus L9 Unlocked GSM 4.5\" Touch Screen w/ 5MP Camera - Black', 9.58293480996728), ('Sony Xperia Z5 zwart / 32 GB - Overzicht', 8.073440440108087), ('Smartphone Motorola RAZR D1 Preto com TV, Dual Chip, Processador de 1.0GHz, Android 4.1, Câmera 5MP, 3G, Wi-Fi, Bluetooth e Serviços Google', 8.06636953765564), ('Samsung Galaxy Note I', 7.7483747232584825)] \n",
      "\n",
      "black ->  [('Samsung U800 Cep Telefonu', 1), ('Nokia E52', 1), ('Nokia 6288 Cep Telefonu', 1), ('Blackberry 8820 PDA Cep Telefonu', 1), ('Nokia 5630 XpressMusic', 1)] \n",
      "\n",
      "Leo ->  [('Sony Xperia Z (белый)', 9.903788512707257), ('Samsung Galaxy S II White', 9.33447778412722), ('Samsung Galaxy S7 Edge wit / 32 GB', 8.913608179000558), ('Mi Xiaomi Mi 4 (White, 16GB)', 6.964874397341974), ('Microsoft Lumia 550 Smartphone (4,7 Zoll (11,9 cm) Touch-Display, 8 GB Speicher, Windows 10) schwarz', 6.492817187761042)] \n",
      "\n",
      "Jay ->  [('Sprint Samsung Galaxy S5 White 16GB (Sprint Prepaid)', 10), ('Samsung 5-Feet Micro-USB 3.0 Charging Data Cable for Galaxy S5 and Note 3 N9000 - Non-Retail Packaging - White', 9.638898532462806), ('Samsung I9100 Galaxy S II 16 GB Sim Free Smartphone', 9.211757348672982), ('ZTE Axon 7 Unlocked Smartphone,64GB Ion Gold (US Warranty)', 9.119859029011515), ('Tracfone LG TracFone 306G No Contract, 2.0 megapixel Camera, 3.2-Inch screen, Black, Retail Packaging', 8.88173251837259)] \n",
      "\n",
      "Domenico ->  [('Samsung Galaxy A5 2016 Smartphone LTE, 16GB, Nero', 10), ('Lenovo Motorola Moto G Smartphone, 4,5 pollici display HD, processore Qualcomm, memoria 16GB, MicroSIM, Android 4.3 OS, fotocamera da 5 MP, Nero [Germania]', 10), ('Nokia Lumia 820 Smartphone, Nero [Italia]', 10), ('Huawei Nexus 6P Smartphone, Display 5.7 Pollici, Memoria interna 32 GB, 3 GB da RAM, Fotocamera 12.3 MP, Android 6.0, Grigio', 10), ('Huawei P8 Lite Smartphone, Display 5\" IPS, Processore Octa-Core 1.5 GHz, Memoria Interna da 16 GB, 2 GB RAM, Fotocamera 13 MP, monoSIM, Android 5.0, Bianco [Italia]', 10)] \n",
      "\n",
      "?????????????? ?????????????? ->  [('Apple iPhone 5 16Gb', 8.245328443887486), ('Nokia 603', 8.100091811799212), ('Sony Xperia V', 7.967056630387823), ('LG Optimus L5 E612', 7.8845555909351965), ('Huawei Ascend W1', 7.7808808488489785)] \n",
      "\n",
      "Jordi ->  [('Desconocido Xiaomi MI 3 - Smartphone libre Android (pantalla 5\", cámara 13 Mp, 16 GB, Quad-Core 2.3 GHz, 2 GB RAM), blanco', 10), ('LG Nexus 5X - Smartphone de 5.2\" (WiFi, DLNA, procesador Qualcomm Snapdragon 808 de 64 bits y 6 núcleos, memoria interna de 32 GB, memoria RAM 2 GB, Android Marshmallow), color negro', 8.93921410972327), ('Honor 6 - Smartphone libre (pantalla de 5\", 16GB, 3 GB de RAM, cámara trasera de 13 MP y delantera de 5 MP, Android OS, v4.4.2 KitKat, LTE) blanco', 8.874471575436019), ('Samsung Galaxy S7 edge SM-G935F 32GB 4G Pink gold - Smartphone (SIM única, Android, NanoSIM, GSM, UMTS, WCDMA, LTE)', 8.85419476824919), ('Sony Xperia L - Smartphone libre Android (pantalla 4.3\", cámara 8 Mp, 8 GB, Dual-Core 1 GHz, 1 GB RAM), blanco (importado)', 7.151344658872606)] \n",
      "\n",
      "mauro ->  [('Asus ZenFone 2 Smartphone, 64 GB, Blu Fusion [Italia]', 9.417756301648494), ('Lenovo Motorola Moto G Smartphone, 4,5 pollici display HD, processore Qualcomm, memoria 16GB, MicroSIM, Android 4.3 OS, fotocamera da 5 MP, Nero [Germania]', 9.40727009832273), ('Samsung I9192 Galaxy S4 Mini Duos Smartphone, Nero [Europa]', 9.344105648287496), ('Asus ZenFone 2 Laser Smartphone, Display da 5\", 16 GB, Dual SIM, Nero [Italia]', 9.315156833860197), ('Lenovo Motorola Moto G Smartphone, Display HD 4,5\", Processore Qualcomm, Memoria 8 GB, MicroSIM, Android 4.4 OS, Fotocamera da 5 MP, Nero [Germania]', 8.916409583178373)] \n",
      "\n",
      "Lukas ->  [('Honor 6 4G UK Smartphone (5 inch, Touchscreen, Octa-Core, 3GB RAM, 16GB ROM, 13MP rear camera, 5MP front camera, LTE CAT6, Android 4.4, Emotion UI 2.3) White', 10), ('HTC One X+ Smartphone (11,9 cm (4,7 Zoll) Touchscreen, NVIDIA Tegra 3, 8 Megapixel Kamera, 64 GB, 1,7 GHz Quad-Core Prozessor, Android 4.1 OS) schwarz', 9.263350370802833), ('Microsoft Lumia 640 Dual-SIM Smartphone (5 Zoll (12,7 cm) Touch-Display, 8 GB Speicher, Windows 8.1) schwarz', 8.909605814546836), ('Samsung Galaxy S7 Smartphone (5,1 Zoll (12,9 cm) Touch-Display, 32GB interner Speicher, Android OS) weiß', 8.835282414591298), ('Microsoft Lumia 930 Smartphone (5 Zoll (12,7 cm) Touch-Display, 32 GB Speicher, Windows 8.1) weiß', 8.752069765512093)] \n",
      "\n",
      "karabocuk ->  [('Samsung I560 Cep Telefonu', 1), ('Nokia N95 Cep Telefonu', 1), ('Nokia N76 Cep Telefonu', 1), ('Nokia 6120c Cep Telefonu', 1), ('Nokia E90 Cep Telefonu', 1)] \n",
      "\n",
      "Denis ->  [('Asus ZenFone 3 Smartphone, Memoria Interna da 64 GB, Dual-SIM, Bianco [Italia]', 10), ('Microsoft Nokia 101 Dual-SIM Handy (4,6 cm (1,8 Zoll) TFT-Bildschirm, FM-Radio) rot', 9.970703574481181), ('Lenovo Motorola Moto G Smartphone, 4,5 pollici display HD, processore Qualcomm, memoria 16GB, MicroSIM, Android 4.3 OS, fotocamera da 5 MP, Nero [Germania]', 9.961680083934898), ('Microsoft Nokia X3-02 Handy (Ohne Branding, 6,1 cm (2,4 Zoll) Display, Touchscreen, 5 Megapixel Kamera) pink', 9.194865295373717), ('Oukitel U7 Plus - 5,5 pollici HD Android 6.0 4G smartphone quad-core a 1,3 GHz 2 GB di RAM 16 GB ROM scanner di impronte digitali GPS Dual SIM 13 MP - Grigio', 9.191602549323173)] \n",
      "\n",
      "Justin ->  [('Motorola Moto X Pure Edition Unlocked Smartphone, 64 GB Black XT1575, 5.7\" Quad HD display, 21 MP Camera, Quad-core 1.8GHz', 7.980149427506973), ('HTC EVO Design 4G Prepaid Android Phone (Boost Mobile)', 7.686001982859374), ('Sprint Prepaid HTC Desire 816 Android Prepaid Smartphone - Sprint Prepaid', 7.618167319464314), ('Asus Zenfone 2 Laser ZE500KL (Black, 16GB)', 7.618167319464314), ('Samsung Galaxy Note II N7100 16GB Gray-Unlocked International Phone', 7.501665547706461)] \n",
      "\n",
      "Stefan ->  [('Samsung E1200 Handy (3,9 cm (1,52 Zoll) Display, Dual-Band, Worterkennung) black', 9.994040547528174), ('Samsung Galaxy Note II N7100 Smartphone 16GB (14 cm (5,5 Zoll) AMOLED-Touchscreen, Quad-core, 1,6GHz, 8 Megapixel Kamera, Android 4.1) blue', 9.470698338673344), ('Motorola RAZR V3x', 9.468207382996074), ('Nokia 6310i silver (GPRS, Bluetooth, HSCSD, WAP, Java) Handy', 9.344443007476135), ('Nokia N8', 9.217553117944131)] \n",
      "\n",
      "luigi ->  [('Lenovo Motorola Moto G Smartphone, 4,5 pollici display HD, processore Qualcomm, memoria 16GB, MicroSIM, Android 4.3 OS, fotocamera da 5 MP, Nero [Germania]', 9.456669529336956), ('Samsung I9082 Galaxy Grand Duos Smartphone, Dual Sim, Blu [EU]', 9.067329171130634), (\"ZUK Z1 Smartphone 4G 5.5 pollici IPS Schermo Cyanogen OS 12.1 USB3.0 Connettore di Tipo-C Qualcomm Snapdragon 801 2.5GHz Doppia Fotocamera Identificazione dell'impronta Digitale\", 8.971977183889067), ('Microsoft Lumia 640 XL LTE Smartphone, 8 GB, Nero [Italia]', 8.804287138508666), ('Huawei Ascend P8 Smartphone, Display 5.2\" FHD, Memoria RAM da 3 GB, Processore HiSilicon Kirin 930 Octa-Core, Fotocamera Principale 13 MP, Grigio', 8.66433887611054)] \n",
      "\n",
      "laura ->  [('Apple iPhone 4 16GB Black', 9.357420858717855), ('Verizon LG VX8300 No Contract Camera Cell Phone', 8.690754192051187), ('Huawei P8 Lite-AM08 - Pack Smartphone Huawei P8 Lite negro con Altavoz portátil AM08 Gold (2 GB de RAM, 16 GB de memoria interna, cámara 13 Mpxs/8Mpx), color negro', 8.544590361995025), ('Huawei Ascend G525 Smartphone, 4 GB, Dual SIM, Bianco', 8.26799292480338), ('Microsoft Lumia 640 LTE RM 1072 Smartphone, Marchio TIM, Nero [Italia]', 7.812466094981196)] \n",
      "\n",
      "Jonas ->  [('Smartphone Samsung Galaxy Win Duos Grafite com Dual Chip, Tela de 4.7\", Android 4.1, Processador Quad Core, 3G, Wi-Fi e Câmera de 5MP', 10), ('HTC 10 Smartphone (13,2 cm (5,2 Zoll) Super LCD 5 Display, 1440 x 2560 Pixel, 12 Ultrapixel, 32 GB, Android) glacier silber', 9.6879266381472), ('Lenovo Motorola Moto X Smartphone (11,9 cm (4,7 Zoll) AMOLED-Touchscreen, 10 Megapixel Kamera, 2GB RAM, 16GB interner Speicher, Nano-SIM-Steckplatz, Android 4.4) weiß', 9.242487153151043), ('Samsung Galaxy Note 3 Smartphone (14,5 cm (5,7 Zoll) AMOLED-Touchscreen, 2,3GHz, Quad-Core, 3GB RAM, 13 Megapixel Kamera, Android 4.3) weiß', 9.030220755044256), ('Samsung Galaxy S7 Edge wit / 32 GB', 8.823697461091761)] \n",
      "\n",
      "Дарья ->  [('Apple iPhone 5s 16GB (серебристый)', 9.10334555005792), ('Apple iPhone 5s 16GB (серебристый)', 9.10334555005792), ('Sony Xperia Z1 Compact (лайм)', 9.082197800260367), ('Sony Xperia Z1 Compact (лайм)', 9.082197800260367), ('Samsung Galaxy Note 2', 9.078038175638756)] \n",
      "\n",
      "Jorge ->  [('Motorola V66', 9.581932873192152), ('Motorola Moto E (2nd Gen.) - Smartphone libre de 4.5\" (Quad Core 1.2 GHz, 1 GB de RAM, 8 GB, cámara 5 MP, Android) color negro', 8.158749376879111), ('Motorola Moto G (3ª Generación) + Carcasa Oficial color turquesa - Smartphone libre Android 6 (4G, pantalla 5\", cámara 13 Mp, 16 GB, Quad Core 1.4 GHz, 2 GB de RAM), negro', 8.01007373473077), ('Huawei Ascend Ascend Y320 Black GSM Unlocked Android Phone', 7.551581503508736), ('BQ Aquaris E5 LTE - Smartphone libre Android (pantalla 5 pulgadas, cámara 13 Mp. 16 GB, Qualcomn Snapdragon 410 Quad-Core A53, 2 GB RAM), color negro', 7.470253721804752)] \n",
      "\n",
      "Rachel ->  [('Apple iPhone 5c GSM Unlocked Cellphone, 16GB, Pink', 8.871011887412292), ('Tech Armor Samsung Galaxy S3 S III Premium Anti-Glare & Anti-Fingerprint (Matte) Screen Protectors with Lifetime Replacement Warranty [3-PACK] - Retail Packaging', 8.753569020894645), ('ZTE Axon 7 64GB Smartphone (Unlocked, Quartz Gray)', 8.41333568546505), ('Meizu M3S 16GB Plata libre', 7.305550954655144), ('Motorola RAZR V3 Unlocked Phone with Camera, and Video Player--International Version with No Warranty (Magenta Pink)', 6.156047057441918)] \n",
      "\n",
      "iboibo ->  [('Nokia 5610 Cep Telefonu', 1), ('Nokia 5610 Cep Telefonu', 1), ('Nokia E90 Cep Telefonu', 1), ('Nokia E51 Cep Telefonu', 1), ('Nokia N97 mini Cep Telefonu', 1)] \n",
      "\n",
      "Julie ->  [('Doro PhoneEasy 610 Mobile Phone (Black)', 10), ('Samsung T369 Prepaid Phone (T-Mobile)', 9.884101385398381), ('APPLE iPhone 6s Plus - 128 GB, Rose Gold', 9.831073291317317), ('HUAWEI P9 Lite - 16 GB, Black', 9.4470349190972), ('HUAWEI P9 Lite - 16 GB, Black', 9.4470349190972)] \n",
      "\n",
      "Roy ->  [('Sony Xperia M2 - Smartphone libre Android (Pantalla 4.8\", cámara 8 Mp, 8 GB, Quad-Core 1.2 GHz, 1024 MB RAM), púrpura (importado)', 10), ('Sim Free Apple iPhone SE 64GB Mobile Phone - Space Grey', 9.95660264963792), ('HTC Desire Z Sim Free Mobile Phone', 9.658074872535513), ('Siemens CX65', 9.336834833976464), ('Huawei P8 Champagne / 16 GB - Overzicht', 8.992630496940782)] \n",
      "\n",
      "Marta ->  [('Motorola Moto G (3ª Generación) + Carcasa Oficial color turquesa - Smartphone libre Android 6 (4G, pantalla 5\", cámara 13 Mp, 16 GB, Quad Core 1.4 GHz, 2 GB de RAM), negro', 10), ('Samsung Galaxy Note 4 - Smartphone de 5.7\" (2560 x 1440 pixeles, Super AMOLED, 2,7 GHz, 3072 MB), negro', 9.336717901265121), (\"Huawei P9 Lite Smartphone, LTE, Display 5.2'' FHD, Processore Octa-Core Kirin 650, 16 GB Memoria Interna, 3GB RAM, Fotocamera 13 MP, Single-SIM, Android 6.0 Marshmallow, Bianco [Italia]\", 9.206692496392026), ('Alcatel One Touch Idol Mini Smartphone, Dual SIM, Blu [Italia]', 9.119778977967494), ('BQ Aquaris X5 - Smartphone de 5\" (WiFi, 2 GB de RAM, memoria interna de 16 GB, cámara 13 MP, Android 5.1) negro y gris antracito - Reacondicionado oficial', 9.047135774510524)] \n",
      "\n",
      "Владислав ->  [('Samsung Galaxy S7', 10), ('Sony Xperia Z1 (фиолетовый)', 9.84570272919704), ('Samsung Galaxy S GT-I9000', 9.801540716329406), ('Samsung N7100 Galaxy Note II 16GB (серый)', 9.487692793726858), ('Apple iPhone 5s 16GB (серебристый)', 9.462023916270024)] \n",
      "\n",
      "Markus ->  [('LG Electronics G4 Smartphone (5,5 Zoll (14 cm) Touch-Display, 32 GB Speicher, Android 5.1) gold', 9.800187470602424), ('Microsoft Lumia 532 Smartphone Dual-SIM (10,16 cm (4 Zoll) Display, 5 Megapixel Kamera, Qualcomm Snapdragon Prozessor, 1,2GHz, micro-USB 2.0, Bluetooth 4.0, 1GB RAM, Win 8.1) schwarz', 9.583181151222151), ('Nokia 6233', 9.40316784827336), ('HTC Sensation XE Smartphone mit Beats Audio (10.9 cm (4.3 Zoll) Touchscreen, Android 2.3 OS, 1.5 GHz Dual Core Prozessor, 8 MP Kamera) schwarz', 9.041849587425645), ('Lenovo Moto G4 Smartphone (14 cm (5,5 Zoll), 16GB, Android) weiß', 8.923558745597289)] \n",
      "\n",
      "Melissa ->  [('SPIGEN Neo Hybrid Galaxy S6 Edge Case with Flexible Inner TPU and Reinforced Hard Bumper Frame for Samsung Galaxy S6 Edge 2015 - Gunmetal', 8.449964885894229), ('Apple iPhone 4S AT&T Cellphone, 16GB, Black', 8.061017089274092), ('LG G5 Smartphone da 32 GB, 5.3\" QHD, 4G LTE, Fotocamera da 16 MP e 8 MP, 4 GB RAM, Titanio', 7.380372955866885), ('Huawei P8 Lite goud, wit / 16 GB', 7.33048758784419), ('Huawei P8 Lite goud, wit / 16 GB', 7.33048758784419)] \n",
      "\n",
      "Andres ->  [('Motorola Moto G 16 GB - Smartphone libre Android (pantalla 4.5\", cámara 5 Mp, 16 GB, Quad-Core 1.2 GHz), negro (importado)', 9.04593026165148), ('Motorola Moto G 4G - Smartphone libre (pantalla 4.5\", cámara 5 Mp, 8 GB, Quad-Core 1.2 GHz, 1 GB RAM, Android 4.4.3) blanco', 8.424564627728165), ('JIAYU G4S - Smartphone libre Android (pantalla 4.7\", cámara de 13 MP, 16 GB, 2 GB de RAM), negro', 7.929262129967372), ('Samsung Galaxy S5 SM-G900F 16GB Factory Unlocked Cellphone International Version, Retail Packaging, Black', 7.70247173659461), ('Nokia Lumia 920 32GB Unlocked 4G LTE Windows Smartphone w/ PureView Technology 8MP Camera - Black', 7.590876268113445)] \n",
      "\n",
      "Tom ->  [('LG G2 Verizon VS980 White', 10), ('Sim Free LG G4 Mobile Phone - Grey', 9.356730047846947), ('Huawei P9 grijs, zwart / 32 GB', 9.217623827292812), ('Motorola Droid RAZR M XT907 Verizon Wireless, 8GB, White', 9.130404461519728), ('Samsung Galaxy Y Blanc', 9.127186480455087)] \n",
      "\n",
      "Heather ->  [('Nokia X2 Prepaid Phone (T-Mobile)', 9.471474358974358), ('SPIGEN Neo Hybrid Galaxy S6 Edge Case with Flexible Inner TPU and Reinforced Hard Bumper Frame for Samsung Galaxy S6 Edge 2015 - Gunmetal', 9.317975291264979), ('Apple iPhone 5s GSM Unlocked Cellphone, 16 GB, Space Gray', 8.64681297659854), ('Apple iPhone 5c 32GB (Green) - Verizon Wireless', 8.447259395353036), ('HTC EVO V 4G Prepaid Android Phone (Virgin Mobile)', 8.044116845367501)] \n",
      "\n",
      "Stephan ->  [('Huawei U8860 Smartphone (10,2 cm (4 Zoll) Display, 8 Megapixel Kamera, UMTS, Android 2.3) schwarz', 8.858003030071673), ('Samsung E1080w Handy (Ohne Branding, 3,6 cm (1,4 Zoll) Display) black', 8.729258930963429), ('Microsoft Nokia 2730 classic Handy (MP3, UMTS, Opera Mini, Bluetooth) black', 8.497964398013076), ('Archos 35 HC Internet-Radio 4 GB 8,89 cm (3.5 Zoll) Touchscreen, Android 2.2,WiFi-n, Akkubetrieb, microSD, Frontcam, Weckfunktion', 8.382352941176471), ('Huawei Ascend P1 Smartphone (10,9 cm (4,3 Zoll) Touchscreen, 8 Megapixel Kamera, 4 GB Interner Speicher, Android 4.0) schwarz', 8.306763409275108)] \n",
      "\n",
      "Alfredo ->  [('Motorola Moto X Pure Edition Unlocked Smartphone, 64 GB Black XT1575, 5.7\" Quad HD display, 21 MP Camera, Quad-core 1.8GHz', 9.468160716548072), ('Huawei P9 Lite Smartphone, 5.2\" Full hd, 3 GB RAM, 16 GB, Nero, Garanzia Europa', 8.854867444628447), ('Motorola Moto G', 8.8), ('Honor 4X Smartphone 4G, Display 5.5 Pollici, Processore 64-bit Octa-Core Kirin 620, Fotocamera 13 MP, Memoria 8 GB, Android 4.4, Nero', 8.776416940356611), ('BQ Aquaris X5 - Smartphone de 5\" (WiFi, 2 GB de RAM, memoria interna de 16 GB, cámara 13 MP, Android 5.1) negro y gris antracito - Reacondicionado oficial', 7.8565276840455045)] \n",
      "\n",
      "Jessica ->  [('Nokia X2 Prepaid Phone (T-Mobile)', 10), ('elephone P8000 Smartphone 4G FDD-LTE 64bit MTK6753 Otta Nucleo FHD 5.5 \"IPS Android 5.1 3GB+16GB 5MP 13mp Due telecamere il tocco a 360 ° ID imporonta digitale', 9.491631334159607), ('Huawei P8 Lite wit / 16 GB', 9.40827930677177), ('Honor 6 - Smartphone libre (pantalla de 5\", 16GB, 3 GB de RAM, cámara trasera de 13 MP y delantera de 5 MP, Android OS, v4.4.2 KitKat, LTE) blanco', 9.392325250494594), ('Asus ZenFone 2 Smartphone, 64 GB, Blu Fusion [Italia]', 9.183226412111006)] \n",
      "\n",
      "anonymous ->  [('LG Dare', 7.397756670043904), ('Nokia 230 Dual Sim (Dark Silver)', 6.093616314691961), ('Blackberry 8520 Curve', 5.866666666666666), ('Apple iPhone 6 Plus GSM Unlocked Cellphone, 64GB, Space Gray', 4.440492330730653), ('BLU Win Jr LTE - GSM Unlocked Windows Smartphone - Pink', 4.4276911289881244)] \n",
      "\n",
      "Jimmy ->  [('Samsung I9250 Galaxy Nexus 16GB (Unlocked)', 10), ('LG Electronics G2D802 UK SIM-Free Smartphone - Black (Android, 16GB)', 9.640674712420086), ('Sim Free Motorola Moto G 4th Generation Mobile Phone - Black', 9.541430607074677), ('Sony Xperia Z5 goud / 32 GB', 8.96647203162754), ('Huawei Nexus 6P unlocked smartphone, 32GB Gold (US Warranty)', 8.762379868332559)] \n",
      "\n",
      "Bert ->  [('Motorola X Style White UK Sim Free Smartphone', 10), ('Huawei P8 Champagne / 16 GB - Overzicht', 9.77742613254373), ('Samsung Galaxy S7 goud / 32 GB', 9.633527908921858), ('Huawei P8 Champagne / 16 GB', 9.480662466908703), ('Huawei P8 Lite wit / 16 GB', 9.462996440971716)] \n",
      "\n",
      "Silvia ->  [('Samsung Galaxy J5 2016 Sim Free Mobile Phone - Black', 9.990586083977707), ('Sony Xperia P - Smartphone libre (pantalla t??ctil de 4\" 540 x 960, c??mara 8 Mp, 16 GB, 2 procesadores de 1 GHz, 1 GB de RAM, S.O. Android 2.3), negro', 9.860942289741685), ('Huawei Ascend G620s Smartphone, 8 GB, Nero', 9.487482909913547), ('Asus ZenFone 2 Selfie Smartphone, 32 GB, Dual SIM, Aqua Blu [Italia]', 9.389612918408282), ('Apple iPhone 6s 64GB 4G Oro', 9.235906676957372)] \n",
      "\n",
      "Kim ->  [('Samsung Galaxy J7 No Contract Phone, 16GB ROM / 2GB RAM, 5.5 Inch - White - (Boost Mobile)', 9.816199919409195), ('Samsung Galaxy S7 goud, roze / 32 GB', 9.50573259174767), ('Huawei P8lite zwart / 16 GB', 8.827622557942382), ('Huawei P8lite zwart / 16 GB', 8.827622557942382), ('BlackBerry Bb-storm-9530-pb-r', 8.328015670723202)] \n",
      "\n",
      "Саша ->  [('Samsung N7100 Galaxy Note II 16GB (белый)', 9.633393446996207), ('Sony Xperia Z3', 9.342919520435341), ('Nokia 101 Premium Black', 8.869886602832969), ('Nokia 5250', 8.055785540780743), ('Samsung S7270 Galaxy Ace 3 (красный)', 8.011768939038124)] \n",
      "\n",
      "michael ->  [('Samsung Galaxy J5 Sim-Free Smartphone - White, 8GB (SM-J500F)', 10), ('Huawei Ascend Mate 7 Smartphone Débloqué 4G Or', 10), ('Microsoft Nokia C1-01 Handy (4,6 cm (1,8 Zoll) Display, Micro USB, VGA Kamera) dark grey', 9.510688773024805), ('Sony Ericsson W995', 8.94159673873837), ('Sony Xperia E Smartphone (8,9 cm (3,5 Zoll) Touchscreen, Qualcomm, 1GHz, 512MB RAM, 4GB HDD, 3,2 Megapixel Kamera, Android 4.1) wei??', 8.661146046173236)] \n",
      "\n",
      "Pseudonym ->  [('Lenovo Motorola Moto G 2. Generation Dual-Sim Smartphone (5 Zoll (12,7 cm) Touch-Display, 8 GB Speicher, Android 5.02) schwarz', 9.987778759350537), ('Apple iPhone 5C Smartphone (4 Zoll (10,2 cm) Touch-Display, 16 GB Speicher, iOS) Pink', 9.247808214146483), ('Huawei Ascend P7 Smartphone (5 Zoll (12,7 cm) Touch-Display, 16 GB Speicher, Android 4.4.2) schwarz', 9.209721041684556), ('Samsung Galaxy S7 EDGE Smartphone (5,5 Zoll (13,9 cm) Touch-Display, 32GB interner Speicher, Android OS) pink', 8.553030375298851), ('Wiko Rainbow Smartphone (12,7 cm (5 Zoll) Display 4 GB interner Speicher, Android 4.2) pink', 7.709817448371413)] \n",
      "\n",
      "Valerio ->  [('Lenovo Motorola Moto G LTE Smartphone, Display 4.5\", Fotocamera 5 MP, Memoria 8 GB, Quad-Core 1.2 GHz, 1 GB RAM, Micro SD, Android 4.4.3, Bianco [Italia]', 9.517056253627874), ('Huawei Y6 (2GB) Smartphone Dual SIM, Display 5 Pollici, 2 GB RAM, 8 GB Memoria, Android 5.1, Bianco', 9.216753707243004), ('LG Nexus 5X Smartphone, Display Touch da 5,2\" Full HD, 4G/LTE, 12.3 MP + 5 MP, 2 GB RAM, 32 GB Memoria Interna...', 8.701760027168056), ('Samsung Galaxy J5 Smartphone, Bianco [Italia]', 8.346895716248593), ('Samsung J320 Galaxy J3 (2016) Dual SIM 5\", Quad Core, 8GB LTE, Nero [Italia]', 7.5734652021686655)] \n",
      "\n",
      "Juan ->  [('BlackBerry Classic', 9.507641839800485), ('LG G2 mini - Smartphone libre Android (Pantalla 4.7\", cámara 8 Mp, 8 GB, Quad-Core 1.2 GHz, 1 GB RAM), blanco (importado)', 8.773492594368399), ('Motorola Moto G (3rd Generation) - Black - 8 GB - Global GSM Unlocked Phone', 8.67574057726831), ('Huawei Honor 5X Unlocked Smartphone, 16GB Dark Grey (US Warranty)', 8.255599666408846), ('Nokia Lumia 925', 8.203044319096637)] \n",
      "\n",
      "Martina ->  [('Nokia Lumia 800 Sim-free Windows Smartphone 16GB - Matte Black', 8.91340541470241), ('Microsoft Nokia N95 8 GB black (UMTS, MP3, GPS, HSDPA, Kamera mit 5 MP) Smartphone', 8.760510872172837), ('Samsung Galaxy S6 Smartphone (5,1 Zoll (12,9 cm) Touch-Display, 128 GB Speicher, Android 5.0) gold (Nur für Europäische SIM-Karte)', 8.497697448113188), ('HTC Wildfire S Black', 8.385343363626134), ('Microsoft Lumia 950 Dual-SIM Smartphone (5,2 Zoll (13,2 cm) Touch-Display, 32 GB Speicher, Windows 10) weiß', 8.126191922551898)] \n",
      "\n",
      "Alexander ->  [('HTC Touch Diamond II Smartphone (Windows Mobile 6.5, GPS, Kamera mit 5 MP, Bluetooth)', 10), ('Microsoft Nokia 3110 classic black (Bluetooth, UKW Radio, MP3, Kamera mit 1,3 MP) Handy', 9.646739094648563), ('HTC One Smartphone (11,9 cm (4,7 Zoll) Touchscreen, Ultrapixel Kamera, 1,7 GHz, 2 GB RAM, LTE, NFC-fähig, BlinkFeed, BoomSound, MicroSIM, Android OS) schwarz', 9.419504039114088), ('Samsung Galaxy A5 (2016) Smartphone (5,2 Zoll (13,22 cm) Touch-Display, 16 GB Speicher, Android 5.1) pink-gold', 9.067925436171587), ('Asus ZE551ML-2A760WW Smartphone ZenFone 2 Deluxe, 5.5\", 4 GB RAM, 64 GB, Intel Quad-Core Z3580, Dual SIM, Illusion Purple', 9.050943093559281)] \n",
      "\n",
      "Adam ->  [('Nokia Lumia 635 (AT&T Go Phone) No Annual Contract', 9.737677590394869), ('Microsoft Lumia 640 5 inch SIM-Free Smartphone - Black', 9.702571554783978), ('Apple iPhone 5S 16GB Black', 9.402974076947704), ('Samsung Galaxy S III / SGH-i747 16GB GSM Unlocked LTE Android Smartphone Blue', 8.781729734278732), ('Apple iPhone 4S AT&T Cellphone, 16GB, Black', 8.429576609522972)] \n",
      "\n",
      "patrick ->  [('Samsung Galaxy S7 Edge wit / 32 GB', 7.792322346888056), ('Sony Ericsson XPERIA X10 Smartphone (Android OS,Timescape, Mediascape, 8.1 MP Kamera, GPS) Luster White', 7.747317262315799), ('Huawei P8lite zwart / 16 GB', 7.654441911138559), ('Apple iPhone 4 Smartphone débloqué 3.5 pouces 16 GB iOS 6 Noir', 7.3125), ('Cubot P9 Grand écran Smartphone 3G 5.0 pouces écran QHD Android 4.2 MTK6572W Dual Core, Dual SIM, Dual Caméra 8.0M & 2.0M support GPS WiFi Blanc', 7.3125)] \n",
      "\n",
      "Pedro ->  [('Motorola Moto G (3ª Generación) + Carcasa Oficial color turquesa - Smartphone libre Android 6 (4G, pantalla 5\", cámara 13 Mp, 16 GB, Quad Core 1.4 GHz, 2 GB de RAM), negro', 9.851191827031538), ('Sim Free Motorola Moto G 4th Generation Mobile Phone - Black', 9.384077637197324), (\"Lenovo Motorola Moto G4 - Smartphone libre Android 6 (pantalla de 5.5'' Full HD, 4G, cámara de 13 MP, 2 GB de RAM, 16 GB, Qualcomm Snapdragon 1.5 GHz), color negro\", 9.344736000567039), ('Samsung Star', 8.810202673990583), ('Huawei P8 Lite - Smartphone de 5\" (cámara 13 MP, 16 GB, HiSilicon Kirin 620 Octa Core 1.2 GHz, 2 GB RAM, Android L), color negro', 8.629959659900322)] \n",
      "\n",
      "Christopher ->  [('Wileyfox Swift 4G Dual SIM-Free Smartphone - White', 9.358749067681453), ('ZTE Axon 7 64GB Smartphone (Unlocked, Quartz Gray)', 9.091421326490767), ('Samsung Galaxy S6, Black Sapphire 32GB (Verizon Wireless)', 8.928902313501771), ('Sony Xperia Z3 UK SIM-Free Smartphone - Copper', 8.822272273703055), ('Samsung Galaxy S7 Edge 32GB UK SIM-Free Smartphone - Gold', 8.351613619105414)] \n",
      "\n",
      "Анатолий ->  [('Apple iPhone 5s 16GB (серый космос)', 9.93546942251314), ('Sony Xperia Z1 Compact (белый)', 9.372709030533278), ('Samsung Galaxy S4 GT-I9500 16GB (черный)', 9.090049104985939), ('Samsung Galaxy A7', 8.235213675175258), ('Sony Xperia C', 7.659057056198688)] \n",
      "\n",
      "Philippe ->  [('HTC Windows Phone 8X', 9.743706519578613), ('BlackBerry Priv STV100-1 Unlocked Android Smartphone-Retail Packaging', 9.710078632434445), ('Motorola MOTO G 8Go NOIR', 9.182072021937604), ('Huawei Ascend G620S Smartphone débloqué 4G (Ecran : 5 pouces HD - 8 Go - Simple SIM - Android 4.4 KitKat) Noir', 8.836594444198347), ('Samsung Galaxy Note 3 Smartphone débloqué 4G (Ecran 5.7 pouces - 32 Go - Android 4.3 Jelly Bean) Noir', 8.3125)] \n",
      "\n",
      "carlo ->  [('Samsung N9005 Galaxy Note 3 Smartphone, 32 GB, Nero [Italia]', 9.909563064444317), (\"Huawei P9 Lite Smartphone, LTE, Display 5.2'' FHD, Processore Octa-Core Kirin 650, 16 GB Memoria Interna, 3GB RAM, Fotocamera 13 MP, Single-SIM, Android 6.0 Marshmallow, Bianco [Italia]\", 9.238335161215073), ('Samsung Galaxy S7 Edge Factory Unlocked Phone 32 GB International Version (Black Onyx)', 9.180300242239811), ('Huawei P8 Lite Smartphone, Display 5\" IPS, Processore Octa-Core 1.5 GHz, Memoria Interna da 16 GB, 2 GB RAM, Fotocamera 13 MP, monoSIM, Android 5.0, Bianco [Italia]', 8.893829627709822), ('Huawei Ascend P6 Smartphone, 8 GB, Fotocamera 8 MP, Display 4.7 Pollici HD, Wi-Fi, Rosa', 8.609211992843607)] \n",
      "\n",
      "???????????????? ?????????????? ->  [('Nokia C2-05', 9.016344561136032), ('HTC One X 32Gb', 7.698900558746988), ('Lenovo K900 16Gb', 7.450834349283345), ('Samsung Galaxy S Duos GT-S7562', 6.9507058541210895), ('Samsung Galaxy S Duos GT-S7562', 6.9507058541210895)] \n",
      "\n",
      "Михаил ->  [('Samsung Galaxy A5', 10), ('Sony Xperia Z (белый)', 9.85679153035166), ('Sony Xperia Z (белый)', 9.85679153035166), ('Sony Xperia Z', 9.570332820723241), ('Sony Xperia Z1 Compact (розовый)', 9.534858610253819)] \n",
      "\n",
      "Sara ->  [('Samsung I9192 Galaxy S4 Mini Duos Smartphone, Nero [Europa]', 9.315476326303143), ('Honor 6 Smartphone (5 pollici, Touchscreen, Octa-Core, 3GB RAM, 16GB ROM, fotocamera principale da 13MP, fotocamera frontale da 5MP, LTE CAT6, Android 4.4, EmotionUI 2.3, SIM singola) Bianco', 9.239976686412884), ('Lenovo Motorola Moto G Smartphone, 4,5 pollici display HD, processore Qualcomm, memoria 16GB, MicroSIM, Android 4.3 OS, fotocamera da 5 MP, Nero [Germania]', 9.231660930846983), ('BlackBerry Passport 4.5-Inch SIM-Free Smartphone - Black', 9.131226288812908), ('Nokia Lumia 735 Smartphone, 8 GB, Grigio [Italia]', 9.091351434573658)] \n",
      "\n",
      "Andre ->  [('Linke Power Bank , Linke Smartcharger Portable Charger External Battery Power Bank for Mobile Device, Cell Phone, iPhone, iPad, Samsung Galaxy, Blackberry, iPod, MP3, PSP, PDA, GPS and Most USB Devices (20000 mAh)', 9.104676706307304), ('Sony Ericsson W395', 8.038918167309799), ('Huawei P8 Lite 16GB, Black, Unlocked 4G LTE Smartphone, International Version, No Warranty', 7.845566557784234), ('Apple iPhone SE Unlocked Phone -16 GB Retail Packaging - Silver', 7.761555941235272), ('LG G4 Unlocked Smartphone with 32GB Internal Memory, 16 MP Camera and 5.5-Inch IPS Quantum Display for GSM and CDMA, US Warranty (Black Leather)', 7.67180589568841)] \n",
      "\n",
      "Dan ->  [('HTC One 32GB UK SIM Free Smartphone - Black - Discontunued by Manfucacturer', 9.712644284833008), ('Sim Free Samsung Galaxy S7 Mobile Phone - Black', 9.486063624222353), ('MOTCB Moto G Black (Boost Mobile)', 8.54789170617585), ('Samsung Galaxy Centura Android Prepaid Phone (TracFone)', 8.480652395355861), ('Samsung Galaxy SIII UK SIM-Free Smartphone - Pebble Blue (16GB) - Discontinued by manufacturer', 8.44935324724317)] \n",
      "\n",
      "Tina ->  [('LG Electronics G4 Smartphone (5,5 Zoll (14 cm) Touch-Display, 32 GB Speicher, Android 5.1) gold', 10), ('LG Electronics G2 Smartphone ( 13,2 cm (5,2 Zoll) Touchscreen, Quad-Core, 13 Megapixel Kamera, 16GB Speicher, Android 4.2) weiß', 9.799774954323484), ('Microsoft Nokia C3-01 Touch and Type Handy (6,1 cm (2,4 Zoll) Touchscreen, 5 Megapixel Kamera) grau', 9.502169942042975), ('Nokia 500 Smartphone (8,1 cm (3,2 Zoll) Display, Touchscreen, 5 Megapixel Kamera, 2GB Speicher) schwarz', 9.31578947368421), ('Samsung Galaxy S4 mini Smartphone (10,9 cm (4,3 Zoll) Touch-Display, 8 GB Speicher, Android 4.2) schwarz', 8.267124007392733)] \n",
      "\n",
      "Gaurav ->  [('LG Pop GD510', 8.420247469066366), ('ZTE Axon 7 64GB Smartphone (Unlocked, Quartz Gray)', 8.214500156223826), ('OnePlus One (Sandstone Black, 64GB)', 8.202706435452109), ('Mi Xiaomi Mi Max (Gold, 32GB)', 7.381175555094345), ('OnePlus 3 (Soft Gold, 64 GB)', 7.372470241943229)] \n",
      "\n",
      "?????????????? ?????????? ->  [('Huawei Honor U8860', 9.284710996078275), ('Alcatel OneTouch 918D', 8.597195194336825), ('Huawei Ascend D1 U9500', 8.197195194336825), ('Nokia Lumia 820', 7.536034991284157), ('Nokia Lumia 820', 7.536034991284157)] \n",
      "\n",
      "Jo ->  [('Huawei Ascend P6 Smartphone (11,9 cm (4,7 Zoll) Touchscreen, 8 Megapixel, 8GB Speicher, Android 4.2) schwarz', 10), ('LG Electronics Nexus 5 UK Smartphone - Black (16GB)', 10), ('Samsung Galaxy SIII Mini UK SIM-Free Smartphone - Blue - discontinued by manufacturer', 9.863719554574661), ('Huawei Ascend Y550 Smartphone (11,4 cm (4,5 Zoll) IPS-Display, 5 Megapixel-Kamera, 4GB Interner Speicher, Android 4.4) schwarz', 9.41575095377683), ('Asus ZenFone 2 Laser 5.5\" Smartphone, 16 GB, Dual SIM, Nero [Italia]', 8.960583236882801)] \n",
      "\n",
      "Javier ->  [(\"Lenovo Moto G4 - Smartphone libre Android (5.5'', Full HD, 4G, 13 MP, 2 GB de RAM, 16 GB), color blanco\", 9.891337702475829), ('Lenovo Moto G4 Play - Smartphone de 5 (4G, RAM de 2 GB, memoria interna de 16 GB, cámara de 8 MP, Android 6), blanco', 9.806535586315555), ('Samsung Galaxy S3 Neo - Smartphone libre Android (pantalla 4.8\", cámara 8 Mp, 16 GB, Quad-Core 1.4 GHz, 1536 MB RAM), azul (importado)', 9.486640707508439), ('Samsung Galaxy S3 Neo - Smartphone libre Android (pantalla 4.8\", cámara 8 Mp, 16 GB, Quad-Core 1.4 GHz, 1536 MB RAM), azul (importado)', 9.486640707508439), ('Apple iPhone 4S 32GB negro', 9.457133322517471)] \n",
      "\n",
      "Jake ->  [('Nokia Asha 210 SIM-Free Mobile Phone - Black', 10), ('Honor Huawei Honor 6X Dual Camera Unlocked Smartphone, 32GB Gray (US Warranty)', 10), ('Samsung Galaxy J7 SM-J700H/DS GSM Factory Unlocked Smartphone-Android 5.1, 5.5-Inch - Gold', 10), ('Sim Free Apple iPhone 5S 16GB Mobile Phone - Silver', 9.980772769385245), ('Samsung S390G Prepaid Phone With Triple Minutes (Tracfone)', 9.943424316950756)] \n",
      "\n",
      "mike ->  [('Microsoft Nokia 2710 Navigation Edition Handy (GPS, Ovi Karten, 2 MP, Gerätehalter CR-118, KFZ-Ladekabel DC-4) jet black', 9.92920935143392), ('Sony Xperia Z (черный)', 9.690902874917487), ('Samsung Galaxy S7 goud, roze / 32 GB', 9.37357629914024), ('HTC One Smartphone, Display 4.7 Pollici, Fotocamera Ultrapixel, 32 GB, Processore Quad Core da 1.7 GHz, 2 GB RAM...', 9.058704944210902), ('Microsoft Nokia Lumia 630 Dual-SIM Smartphone (4,5 Zoll (11,4 cm) Touch-Display, 8 GB Speicher, Windows 8) gelb', 8.12604691454464)] \n",
      "\n",
      "Oks ->  [('Nokia 6500 slide', 10), ('Nokia 3110 classic', 9.7701681673098), ('Nokia 5530 XpressMusic', 9.51865318299225), ('Nokia 6120 classic', 9.478628783661144), ('Nokia N8', 9.393838417975886)] \n",
      "\n",
      "Fred ->  [('Nokia C2-01.5 Unlocked GSM Phone with 3.2 MP Camera and Music and Video Player--U.S. Version with Warranty (Black)', 9.24710487692709), ('Sony Mobile Xperia Z3 Compact Smartphone Débloqué 4G (Ecran : 4.6 pouces - 16 Go - IP65 / IP68 - Android 4.4 KitKat) Blanc', 8.768890785804237), ('BlackBerry Storm 9530', 8.491676040494939), ('Huawei P8lite zwart / 16 GB', 8.45668589137759), ('Motorola Moto X - 16GB, Unlocked Phone - US Warranty - Black', 8.247173672165939)] \n",
      "\n",
      "Ruben ->  [('BQ Aquaris E4.5 - Smartphone libre Android (pantalla 4.5 pulgadas, cámara 8 Mp, 8 GB, Quad-Core 1.3 GHz, 1 GB RAM, Android 4.4 KitKat), negro', 8.710296746583241), ('Samsung Galaxy S II Mini - Smartphone libre (pantalla t??ctil de 3,27\" 320 x 480, c??mara 3.2 Mp, 2.71 GB, procesador de 800 MHz, 512Mb de RAM, S.O. Android 2.3+), negro [importado]', 8.459906631493757), ('BQ Aquaris E4.5 - Smartphone libre Android (pantalla 4.5 pulgadas, cámara 8 Mp, 8 GB, Quad-Core 1.3 GHz, 1 GB RAM, Android 4.4 KitKat), blanco y negro', 8.169106855583058), ('Microsoft Lumia 950 Dual-SIM Smartphone (5,2 Zoll (13,2 cm) Touch-Display, 32 GB Speicher, Windows 10) schwarz', 7.215057514640035)] \n",
      "\n",
      "Raffaele ->  [('Nokia Lumia 625 Smartphone, Bianco [Italia]', 10), ('Samsung i9505 Galaxy S4 Smartphone, 16 GB, Nero [Italia] [Classe di efficienza energetica A+++]', 10), ('Lenovo Motorola Moto G Smartphone, 4,5 pollici display HD, processore Qualcomm, memoria 16GB, MicroSIM, Android 4.3 OS, fotocamera da 5 MP, Nero [Germania]', 10), ('Samsung I9192 Galaxy S4 Mini Duos Smartphone, Nero [Europa]', 10), ('Huawei Ascend G525 Smartphone, Dual SIM, Nero', 9.908695458188724)] \n",
      "\n",
      "Diana ->  [('Nokia 105 SIM-Free Mobile Phone, Black', 9.260421810157753), ('Huawei P8 Champagne / 16 GB', 8.98227636258265), ('Sony Xperia Z2 5.2 inch SIM-free Smartphone UK Stock - Black - Discontinued by manufacturer', 8.627864292831388), ('HTC DROID INCREDIBLE ADR 6300 3G Android Phone Black (Verizon Wireless)', 8.561024462321457), ('Samsung Galaxy S4 mini i9195 Sim Free Smartphone - White', 8.512020832803655)] \n",
      "\n",
      "Carmen ->  [('Lenovo Motorola Moto G Smartphone (11,4 cm (4,5 Zoll) HD-Display, 5 Megapixel Kamera, 1,2 GHz Quad-Core-Prozessor, 4G LTE, 1GB RAM, 8 GB interner Speicher, Micro-SIM-Steckplatz, Android 4.4.3 Kitkat OS) schwarz', 9.714995626031879), ('Apple iPhone 4S 16 GB White', 8.82070001756397), ('Honor 6 - Smartphone libre (pantalla de 5\", 16GB, 3 GB de RAM, cámara trasera de 13 MP y delantera de 5 MP, Android OS, v4.4.2 KitKat, LTE) blanco', 8.369045256775983), ('Honor 7 - Smartphone libre de 5.2\" (4G, WiFi, Bluetooth, Dual Nano SIM, HiSilicon Kirin 935, 64 bit Super 8+1 Core, 2.2 GHz, 3 GB de RAM, 16 GB ROM, cámara de 20 MP/8 MP, Android 5.0 con EMUI 3.1), color gris', 8.321834887102932), (\"Casio G'zOne C781 Ravine 2 Verizon Cell Phone / Rugged Flip Phone / Black\", 8.28452230060673)] \n",
      "\n",
      "victor ->  [('Samsung Galaxy S III mini (I8190) - Smartphone libre Android (pantalla 4\", cámara 5 Mp, 8 GB, Dual-Core 1 GHz, 1 GB RAM), blanco', 9.319442073055807), ('טלפון סלולרי LG G4 H815', 7.75), ('טלפון סלולרי LG G4 H815', 7.75), ('BlackBerry 9100 Pearl 3G Unlocked Phone with 3 MP Camera, Wi-Fi, Bluetooth, Optical Trackpad and GPS - Unlocked Phone - Black', 7.75), ('Samsung Galaxy S III S3 SGH-T999 T-Mobile 4G LTE 16GB GSM WiFi Android Smartphone - White', 7.111024462321458)] \n",
      "\n",
      "Flipkart Customer ->  [('SAMSUNG Galaxy J5 - 6 (New 2016 Edition) (Gold, 16 GB)', 9.523903197074963), ('Asus Zenfone 2 Laser ZE550KL (Black, 16 GB)', 9.4), ('Asus Zenfone 2 Laser ZE550KL (Black, 16 GB)', 9.4), ('SAMSUNG Galaxy S5 (Copper Gold, 16 GB)', 9.00962464024212), ('SAMSUNG Galaxy S5 (Copper Gold, 16 GB)', 9.00962464024212)] \n",
      "\n",
      "Jesús ->  [('Microsoft Lumia 640 - Smartphone libre Windows Phone (pantalla 5\", 8 GB, Quad-Core 1.2 GHz, 1 GB RAM), blanco', 9.504862874920905), ('Huawei P8 Grace - Smartphone libre Android (pantalla 5.2\", Octa-core, cámara 13 Mp, 16 GB, 3 GB RAM), color champán', 9.18436791410665), ('Samsung Galaxy J5 - Smartphone libre Android (pantalla 5\", cámara 13 Mp, 8 GB, Quad-Core 1.2 GHz, 1.5 GB RAM), blanco', 8.559492763258785), (\"Lenovo Moto G4 - Smartphone libre Android (5.5'', Full HD, 4G, 13 MP, 2 GB de RAM, 16 GB), color blanco\", 8.279480805241286), ('Doogee X5 - Smartphone libre Android (pantalla 5\", cámara 8 Mp, 8 GB, Quad-Core 1.3 GHZ, 1 GB RAM), color blanco', 7.950819022349476)] \n",
      "\n",
      "Oscar ->  [('Huawei P8 Lite 16GB, Black, Unlocked 4G LTE Smartphone, International Version, No Warranty', 9.361398810391359), ('Motorola Moto G (3ª Generación) + Carcasa Oficial color turquesa - Smartphone libre Android 6 (4G, pantalla 5\", cámara 13 Mp, 16 GB, Quad Core 1.4 GHz, 2 GB de RAM), negro', 8.953281782110496), ('Huawei Ascend P7 - L10 - Smartphone libre Android (pantalla 5\", cámara 13 MP, 16 GB, Quad-Core 1.8 GHz, 2.0 GB RAM) negro', 8.166562387033496), ('HTC Windows Phone 8s Smartphone Windows 8 Wifi Bluetooth Noir', 8.064516129032258), ('Doogee X5 Pro - Smartphone Libre 4G Android 5.1 (Quad Core, 5.0\" IPS 1280*720 HD, 2GB RAM, 16GB ROM, 5.0MP Cámara, Dual SIM, GPS, OTG) Celular (Negro)', 6.781282754282688)] \n",
      "\n",
      "Giorgio ->  [('Lenovo Motorola Moto G Smartphone, Display HD 4,5\", Processore Qualcomm, Memoria 8 GB, MicroSIM, Android 4.4 OS, Fotocamera da 5 MP, Nero [Germania]', 10), (\"Huawei P9 Lite Smartphone, LTE, Display 5.2'' FHD, Processore Octa-Core Kirin 650, 16 GB Memoria Interna, 3GB RAM, Fotocamera 13 MP, Single-SIM, Android 6.0 Marshmallow, Bianco [Italia]\", 10), (\"Huawei P9 Lite Smartphone, LTE, Display 5.2'' FHD, Processore Octa-Core Kirin 650, 16 GB Memoria Interna, 3GB RAM, Fotocamera 13 MP, Single-SIM, Android 6.0 Marshmallow, Bianco [Italia]\", 10), ('Samsung Galaxy S II | Black', 9.87371794871795), (\"Nokia Lumia 830 Smartphone, 16 GB, Fotocamera da 10 MP, Display da 5'', LTE, Nero\", 9.492425945041255)] \n",
      "\n",
      "Joe ->  [('Motorola Moto G 3rd Generation LTE UK SIM-Free Smartphone - Black', 9.997377818787896), ('Sim Free Apple iPhone 5S 16GB Mobile Phone - Silver', 9.926270848023321), ('Samsung Galaxy S6 64 GB UK SIM-Free Smartphone - Gold', 9.887407755178677), ('Motorola Moto X Pure Edition Unlocked Smartphone, 64 GB Black XT1575, 5.7\" Quad HD display, 21 MP Camera, Quad-core 1.8GHz', 8.733659077013979), (\"Sony Mobile Station d'accueil DK48 - s'adapte Xperia Z3, Xperia Z3 Compact\", 8.511727648619129)] \n",
      "\n",
      "Anoniem ->  [('Samsung Galaxy S7 Edge zwart / 32 GB', 10), ('Samsung Galaxy S7 Edge zwart / 32 GB', 10), ('Sony Xperia X zwart / 32 GB', 9.611952876525667), ('Huawei P8lite zwart / 16 GB', 9.522162998367028), ('Huawei P8lite zwart / 16 GB', 9.522162998367028)] \n",
      "\n",
      "Zákazník ->  [('HTC One M9', 10)] \n",
      "\n",
      "Stefano ->  [('Alcatel One Touch Idol 3 Smartphone, 4.7\", Dual SIM, Grigio Scuro [Italia]', 10), ('Lenovo Motorola Moto G Smartphone, 4,5 pollici display HD, processore Qualcomm, memoria 16GB, MicroSIM, Android 4.3 OS, fotocamera da 5 MP, Nero [Germania]', 10), (\"Huawei P9 Lite Smartphone, LTE, Display 5.2'' FHD, Processore Octa-Core Kirin 650, 16 GB Memoria Interna, 3GB RAM, Fotocamera 13 MP, Single-SIM, Android 6.0 Marshmallow, Bianco [Italia]\", 10), ('Lenovo Motorola Moto G LTE Smartphone, Display 4.5\", Fotocamera 5 MP, Memoria 8 GB, Quad-Core 1.2 GHz, 1 GB RAM, Micro SD, Android 4.4.3, Bianco [Italia]', 10), (\"Huawei P9 Lite Smartphone, LTE, Display 5.2'' FHD, Processore Octa-Core Kirin 650, 16 GB Memoria Interna, 3GB RAM, Fotocamera 13 MP, Single-SIM, Android 6.0 Marshmallow, Bianco [Italia]\", 10)] \n",
      "\n",
      "Cindy ->  [('HUAWEI ASCEND P9 LITE BLACK', 8.322505202802086), ('HUAWEI ASCEND P9 LITE BLACK', 8.322505202802086), ('Huawei P10 zwart / 64 GB', 8.196872452472075), ('Huawei P10 zwart / 64 GB', 8.196872452472075), ('Huawei P8lite zwart / 16 GB', 7.956374719338895)] \n",
      "\n",
      "Anton ->  [('Lenovo Motorola Moto G Smartphone (11,4 cm (4,5 Zoll) HD-Display, 5 Megapixel Kamera, 1,2 GHz Quad-Core-Prozessor, 8 GB interner Speicher, Android 4.3 OS) schwarz', 9.31446641245574), ('Huawei P8lite zwart / 16 GB', 7.244438351468428), ('Huawei P8lite zwart / 16 GB', 7.244438351468428), ('LG Nexus 5 - Smartphone libre Android (pantalla 4.95\", cámara 8 Mp, 16 GB, Quad-Core 2.3 GHz, 2 GB RAM), blanco', 6.569766941864465), ('Sony Xperia SP Smartphone (11,7 cm (4,6 Zoll) Touchscreen, 1,7GHz, Dual-Core, 1GB RAM, 8GB interner Speicher, 8 Megapixel Kamera, NFC, Android 4.1) weiß', 5.728131472691616)] \n",
      "\n",
      "Daniela ->  [('Apple iPhone 6 64GB Grigio [Italia]', 8.718433081782239), (\"Huawei P9 Lite Smartphone, LTE, Display 5.2'' FHD, Processore Octa-Core Kirin 650, 16 GB Memoria Interna, 3GB RAM, Fotocamera 13 MP, Single-SIM, Android 6.0 Marshmallow, Bianco [Italia]\", 8.53510748038711), ('LG D855 G3 Smartphone, 32 GB, Nero Metallico [Italia]', 8.518565597284761), ('Samsung Wave II S8530 Smartphone (9,5 cm (3,7 Zoll) Display, Super Clear LCD Touchscreen, 5 Megapixel Kamera) ebony-gray', 8.276838234813768), ('Huawei P8 Lite Smartphone, Display 5\" IPS, Processore Octa-Core 1.5 GHz, Memoria Interna da 16 GB, 2 GB RAM, Fotocamera 13 MP, monoSIM, Android 5.0, Bianco [Italia]', 8.089155342026997)] \n",
      "\n",
      "ciklet ->  [('Nokia N73 Cep Telefonu', 1), ('Nokia N73 Cep Telefonu', 1), ('Nokia N70 Cep Telefonu SILVER BLACK', 1), ('Nokia 6500c Cep Telefonu', 1), ('Nokia N76 Cep Telefonu', 1)] \n",
      "\n",
      "martin ->  [('Nokia Lumia 920 32GB Unlocked GSM 4G LTE Windows Smartphone - White', 9.91797140912185), ('HTC Windows Phone 8S Smartphone (Qualcomm 1 GHz S4 Prozessor, 10,2 cm (4 Zoll) Touchscreen, 5 Megapixel Kamera, 512 MB RAM) Atlantic blau', 8.660901066856518), ('Huawei Ascend P1 Smartphone (10,9 cm (4,3 Zoll) Touchscreen, 8 Megapixel Kamera, 4 GB Interner Speicher, Android 4.0) schwarz', 8.532354123397994), ('Samsung Galaxy Young S6310N Smartphone (8,1 cm (3,2 Zoll) Touchscreen, Cortex A5, 1GHz, 768MB RAM, 4GB interner Speicher, 3,2 Megapixel Kamera, Android 4.1) weiß', 5.153332154629149), ('HTC One Mini Smartphone (10,9 cm (4,3 Zoll) LCD-Display, 1,4GHz, Dual-Core, 1GB RAM, Ultrapixel Kamera, Android 4.2) hellblau', 5.110961341742883)] \n",
      "\n",
      "Josh ->  [('Sony Xperia Z C6603 Black Factory Unlocked LTE BANDS 1/3/5/7/8/20 International Version No Warranty - Original Sony phone', 10), ('HTC Touch', 9.416322013463645), ('BlackBerry Passport - Factory Unlocked Smartphone - White (U.S. Warranty)', 8.757598033630002), ('LG Nexus 5X Unlocked Smartphone with 5.2-Inch 32GB H790 4G LTE (Carbon Black)', 7.995400029021579)] \n",
      "\n",
      "Tommy ->  [('Sim Free Apple iPhone 6 64GB Mobile Phone - Space Grey', 9.676744186046513), ('Sim Free Motorola Moto G 4th Generation Mobile Phone - Black', 8.635412284757445), ('Sony Xperia Z1', 7.2), ('Huawei Nexus 6P unlocked smartphone, 32GB Silver (US Warranty)', 6.90932724872595), ('HTC One M7 Unlocked Cellphone, 32GB, Silver', 6.680375372562153)] \n",
      "\n",
      "Иван ->  [('Sony Xperia Z1 Compact (розовый)', 9.052179673360818), ('Sony Xperia Z1 Compact (черный)', 8.821377841425242), ('Sony Xperia Z (белый)', 8.765679772305026), ('Sony Xperia Z1 (фиолетовый)', 8.686205411273887), ('Sony Xperia Z1 (белый)', 8.3200789669136)] \n",
      "\n",
      "JJ ->  [('Motorola Moto G 3. Generation Smartphone (12,7 cm (5 Zoll ) Touchscreen-Display, 16 GB Speicher, Android 5.1.1...', 7.953483600798179), ('Tracfone LG Optimus Dynamic II - LG39C - Android Prepaid Phone with Triple Minutes (Tracfone)', 7.726610420244898), ('Tech Armor Samsung Galaxy S3 S III Premium High Definition (HD) Clear Screen Protectors with Lifetime Replacement Warranty [3-PACK] - Retail Packaging', 7.398920328807748), ('Tech Armor Samsung Galaxy S3 S III Premium High Definition (HD) Clear Screen Protectors with Lifetime Replacement Warranty [3-PACK] - Retail Packaging', 7.398920328807748), ('LG G2 D800 GSM 4G LTE Unlocked Smartphone with 13MP Camera, 32GB, Black', 6.263947754981828)] \n",
      "\n",
      "Juan Carlos ->  [('Honor 6 - Smartphone libre (pantalla de 5\", 16GB, 3 GB de RAM, cámara trasera de 13 MP y delantera de 5 MP, Android OS, v4.4.2 KitKat, LTE) blanco', 10), ('Samsung Galaxy S7 edge SM-G935F 32GB 4G Pink gold - Smartphone (SIM única, Android, NanoSIM, GSM, UMTS, WCDMA, LTE)', 9.909884349087934), ('Huawei P9 lite - Smartphone libre Android (pantalla 5.2\", cámara 13 MP, 16 GB, Octa-Core 2 GHz, 3 GB RAM), oro', 8.786775086962363), ('LG G2 - Smartphone libre Android (pantalla 5.2\", cámara 13 Mp, 16 GB, Quad-Core 2.3 GHz), negro', 8.562327412149022), ('Elephone P6000 Pro - Smartphone libre Android (pantalla 5\", cámara 13 Mp, 16 GB, Octa-Core 1.3 GHz, 3 GB RAM), color negro', 6.248810976999456)] \n",
      "\n",
      "Ronald ->  [('Sony Xperia Z5 E6653 3GB/32GB 23MP 5.2-inch 4G LTE Factory Unlocked (WHITE) - International Stock No Warranty', 10), ('Huawei P8 Champagne / 16 GB - Overzicht', 9.89688949856487), ('LG OPTIMUS L7 II DUAL P715 Factory Unlocked International Version - BLACK (No-Warranty)', 9.643807202906466), ('Samsung Galaxy A5 (2017) zwart / 32 GB', 9.452699366135237), ('Samsung Galaxy S7 Edge zwart / 32 GB', 9.300217945648276)] \n",
      "\n",
      "Lorenzo ->  [('Huawei P9 Lite Smartphone, 5.2\" Full hd, 3 GB RAM, 16 GB, Nero, Garanzia Europa', 9.995137894155972), (\"Huawei P9 Lite Smartphone, LTE, Display 5.2'' FHD, Processore Octa-Core Kirin 650, 16 GB Memoria Interna, 3GB RAM, Fotocamera 13 MP, Single-SIM, Android 6.0 Marshmallow, Bianco [Italia]\", 9.883184171245016), ('Lenovo Moto G4 Play - Smartphone de 5 (4G, RAM de 2 GB, memoria interna de 16 GB, cámara de 8 MP, Android 6), blanco', 9.812877794621542), ('HTC Desire Z', 9.462971682455526), ('Nokia Lumia 720 Smartphone, Dual Core, Windows 8, Bianco [Italia]', 9.414156663442428)] \n",
      "\n",
      "okuyan ->  [('Nokia N82 Cep Telefonu', 1), ('Nokia 5300 XpressMusic Cep Telefonu', 1), ('Samsung G810 Cep Telefonu', 1), ('Nokia 6288 Cep Telefonu', 1), ('Sony Ericsson K850i Cep Telefonu', 1)] \n",
      "\n",
      "mario ->  [('Alcatel One Touch 20-04G Telefono Cellulare, Nero', 9.052738551414523), ('Asus ZenFone 3 Smartphone, Memoria Interna da 64 GB, Dual-SIM, Bianco [Italia]', 9.021906954133316), ('Nokia Asha 305 Smartphone, Dual Band, Dual SIM, Display da 3\", Rosso [Italia]', 8.543264502211315), ('Samsung GT-I9195ZWAITV Galaxy S4 Mini, Bianco', 8.502481919054354), ('Samsung I9192 Galaxy S4 Mini Duos Smartphone, Bianco [Europa]', 8.29424996496158)] \n",
      "\n",
      "sara ->  [('Lenovo Motorola Moto G Smartphone, 4,5 pollici display HD, processore Qualcomm, memoria 16GB, MicroSIM, Android 4.3 OS, fotocamera da 5 MP, Nero [Germania]', 8.504279269991788), ('Lenovo Motorola Moto G Smartphone, 4,5 pollici display HD, processore Qualcomm, memoria 16GB, MicroSIM, Android 4.3 OS, fotocamera da 5 MP, Nero [Germania]', 8.504279269991788), ('OnePlus 3 (Soft Gold, 64 GB)', 8.473511314724242), ('Huawei P8 lite Smartphone, Display 5.0\" IPS, Dual Sim, Processore Octa-Core, Memoria 16 GB, Fotocamera 13 MP, Android 5.0, Bianco', 7.751371406925687), ('Smartphone Nokia Lumia 630 Preto Dual Sim, Tv Digital ,Windows Phone 8.1, Tela 4.5\", QuadCore 1.2GHz, Câm. 5MP, WiFi, Bluetooth e A-Gps -Tim', 7.051995913171968)] \n",
      "\n",
      "daniele ->  [('Samsung Galaxy S III Smartphone, Blu [Italia]', 10), ('Honor 6 Smartphone (5 pollici, Touchscreen, Octa-Core, 3GB RAM, 16GB ROM, fotocamera principale da 13MP, fotocamera frontale da 5MP, 4G/LTE CAT6, Android 4.4, EmotionUI 2.3, SIM singola) Nero', 10), ('Lenovo Motorola Moto G LTE Smartphone, Display 4.5\", Fotocamera 5 MP, Memoria 8 GB, Quad-Core 1.2 GHz, 1 GB RAM, Micro SD, Android 4.4.3, Bianco [Italia]', 10), ('Smartphone Samsung Galaxy Gran Prime TV SM-G530', 10), ('Alcatel One Touch 20-04G Telefono Cellulare, Nero', 9.943619855465696)] \n",
      "\n",
      "Gianluca ->  [('Huawei Ascend P7 Smartphone, 16 GB, Nero', 10), ('LG K10 Smartphone da 16 GB, Schermo IPS HD da 5.3\", 4G LTE, Fotocamera 13MP con Frontale 5MP, 1.5 GB RAM, Nero [Italia]', 10), ('Samsung I9082 Galaxy Grand Duos Smartphone, Dual Sim, Blu [EU]', 10), ('Huawei P8 lite Smartphone, Display 5.0\" IPS, Dual Sim, Processore Octa-Core, Memoria 16 GB, Fotocamera 13 MP, Android 5.0, Bianco', 10), ('LG Nexus 5X Smartphone da 16 GB, Android 6.0, Display Full HD IPS da 5.2\", 4G, Bianco [Italia]', 10)] \n",
      "\n",
      "apaci ->  [('Nokia E51 Cep Telefonu', 1), ('Apple iphone 3G 16GB Cep Telefonu', 1), ('Apple iPhone 3GS 16GB', 1)] \n",
      "\n",
      "Miguel ->  [('Tech Armor Samsung Galaxy S3 S III Premium Anti-Glare & Anti-Fingerprint (Matte) Screen Protectors with Lifetime Replacement Warranty [3-PACK] - Retail Packaging', 10), ('Tech Armor Samsung Galaxy S3 S III Premium Anti-Glare & Anti-Fingerprint (Matte) Screen Protectors with Lifetime Replacement Warranty [3-PACK] - Retail Packaging', 10), (\"Lenovo Moto G4 - Smartphone libre Android (5.5'', Full HD, 4G, 13 MP, 2 GB de RAM, 16 GB), color blanco\", 9.312567199927123), ('Sony Xperia Z3', 8.787189443905543), ('Huawei P8 Lite-AM08 - Pack Smartphone Huawei P8 Lite negro con Altavoz portátil AM08 Gold (2 GB de RAM, 16 GB de memoria interna, cámara 13 Mpxs/8Mpx), color negro', 8.736325479514845)] \n",
      "\n",
      "hawwa ->  [('Nokia 5610 Cep Telefonu', 1), ('Nokia 6288 Cep Telefonu', 1), ('Nokia 6500 Slide Cep Telefonu', 1), ('Samsung M150 Cep Telefonu', 1), ('Nokia N97 mini Cep Telefonu', 1)] \n",
      "\n",
      "Eric ->  [('Samsung i9100 Galaxy S2 Smartphone Android 3G+ Wifi 16 Go Noir', 10), ('HTC One M8 - Factory Unlocked 32GB - US Warranty (Glacial Silver)', 9.787754219568058), ('Samsung Galaxy S7 Edge Factory Unlocked Phone 32 GB International Version (Black Onyx)', 9.578460247779343), ('Nokia 220 RM-971 Unlocked Cell Phone with 2MP Camera (White)', 9.553925154435035), ('Huawei P8 Lite 16GB, Black, Unlocked 4G LTE Smartphone, International Version, No Warranty', 8.936055458099878)] \n",
      "\n",
      "Toni ->  [('Sim Free Samsung Galaxy S7 Edge Mobile Phone - Gold', 9.63230636760627), ('Apple iPhone 5s GSM Unlocked Cellphone, 16 GB, Space Gray', 8.263502428875567), ('Apple iPhone 5 - 16GB Black - Sim Free Smartphone', 8.26247712168337), ('JIAYU G4S - Smartphone libre Android (pantalla 4.7\", cámara de 13 MP, 16 GB, 2 GB de RAM), negro', 8.133210057246991), ('Desconocido Xiaomi MI 4 - Smartphone libre Android (pantalla 5\", cámara 13 Mp, 16 GB, 3 GB RAM), blanco', 8.107061792937953)] \n",
      "\n",
      "enrico ->  [('Huawei Ascend G700 Smartphone Dual SIM, Nero', 8.164355197238324), ('Apple iPhone 5S 16GB Grigio [Italia]', 8.141073699856019), ('Huawei P8 lite Smartphone, Display 5.0\" IPS, Dual Sim, Processore Octa-Core, Memoria 16 GB, Fotocamera 13 MP, Android 5.0, Bianco', 8.102078709001274), ('Lenovo Motorola Moto G Smartphone, Display HD 4,5\", Processore Qualcomm, Memoria 8 GB, MicroSIM, Android 4.4 OS, Fotocamera da 5 MP, Nero [Germania]', 7.958004417048797), ('Lenovo Motorola Moto G Smartphone, Display HD 4,5\", Processore Qualcomm, Memoria 8 GB, MicroSIM, Android 4.4 OS, Fotocamera da 5 MP, Nero [Germania]', 7.958004417048797)] \n",
      "\n",
      "Un anonyme ->  [('Microsoft Lumia 950', 10), ('Nokia Lumia 1320', 9.178877630557102), ('Nokia 6230i', 9.177331292921522), ('Nokia 6230i', 9.177331292921522), ('Siemens SL55', 8.75690286118735)] \n",
      "\n",
      "Emilio ->  [('Huawei P8lite zwart / 16 GB', 9.917144647724921), ('Samsung Galaxy S4 (I9505) - Smartphone libre Android (pantalla táctil de 4.99\", cámara 13 Mp, 16 GB, Quad-Core 1.9 GHz, 2 GB RAM, LTE), Blanco (Versión Europea)', 9.876053593549576), ('LG G3 8806084954985 4G 16GB Black smartphone - smartphones (2560 x 1440 pixels, Multi-touch, Capacitive, Qualcomm...', 9.809666777088747), ('Nokia Lumia 720 Smartphone, Dual Core, Windows 8, Bianco [Italia]', 9.773634090847732), ('Cubot NOTE S 4150 mAh Big Battery 3G Unlocked Dual Sim Smartphone 5.5 Inch HD Quad Core 1.3 GHz Android 5.1 Lollipop OS Sim Free Smart Phone 2GB RAM 16GB ROM Dual Camera WIFI GPS Bluetooth(Gold)', 9.744824287950546)] \n",
      "\n",
      "salvatore ->  [('Asus ZenFone 2 Selfie Smartphone, 32 GB, Dual SIM, Aqua Blu [Italia]', 9.166164322614641), ('Samsung G935 Galaxy S7 Edge Smartphone da 32GB, Argento [Italia]', 8.554547783239146), ('Samsung G935 Galaxy S7 Edge Smartphone da 32GB, Argento [Italia]', 8.554547783239146), ('Asus ZenFone 2 Smartphone, Schermo da 5.5\" Full HD, Processore Quad Core 2,3 GHz, RAM 4 GB, 32 GB, 4G/LTE, Argento', 8.07044595133734), ('Samsung G900 Galaxy S5 Smartphone, 16 GB, Nero [Italia]', 7.089844852109686)] \n",
      "\n",
      "Alvaro ->  [('Nokia 6680', 9.972755816907531), ('Huawei Ascend Y330 - Smartphone libre Android (pantalla 4\", cámara 3.15 Mp, 4 GB, Dual-Core 1.3 GHz, 512 MB de RAM), color blanco', 8.791221120101168), ('Samsung ATIV S (i8750) - Smartphone libre Windows Phone (pantalla 4.8\", cámara 8 Mp, 16 GB, Dual-Core 1.5 GHz, 1 GB RAM), plateado', 8.686134435908242), ('Sony Ericsson T630', 8.25252110848627), ('Motorola Moto E (2nd Gen.) - Smartphone libre de 4.5\" (Quad Core 1.2 GHz, 1 GB de RAM, 8 GB, cámara 5 MP, Android) color negro', 7.942056313847071)] \n",
      "\n",
      "Carol ->  [('Samsung Ch@t 335', 8.72489990458218), ('MICROSOFT Lumia 650 - 16 GB, Black', 7.35974773782244), ('LG Glimmer', 6.765651837074958)] \n",
      "\n",
      "Vincenzo ->  [('Asus ZenFone 3 Smartphone, Memoria Interna da 64 GB, Dual-SIM, Bianco [Italia]', 10), ('Lenovo Motorola Moto G Smartphone, 4,5 pollici display HD, processore Qualcomm, memoria 16GB, MicroSIM, Android 4.3 OS, fotocamera da 5 MP, Nero [Germania]', 10), ('Lenovo Motorola Moto G Smartphone, 4,5 pollici display HD, processore Qualcomm, memoria 16GB, MicroSIM, Android 4.3 OS, fotocamera da 5 MP, Nero [Germania]', 10), ('Huawei P9 lite Vodafone, Nero [Italia]', 10), ('Asus ZenFone 2 Laser Smartphone da 32 GB, Dual SIM, Bianco [Italia]', 10)] \n",
      "\n",
      "Пользователь скрыл свои данные ->  [('BlackBerry Classic', 9.654039135051734), ('HTC One M9', 8.73644884791183), ('Samsung Galaxy S5 mini SM-G800F', 7.654039135051734), ('HTC Desire 530', 7.551581503508736), ('Sony Xperia Z3 (D6603)', 6.998378886339806)] \n",
      "\n",
      "Emily ->  [('Motorola Moto G 4G SIM-Free Smartphone - Black (8GB) - Discontinued by manufacturer', 9.020657475151244), ('Samsung Galaxy J5 Smartphone (5 Zoll (12,7 cm) Touch-Display, 8 GB Speicher, Android 5.1) gold', 8.113796247003073), ('Huawei P8 Lite White', 7.767506617994672), ('HTC One M7 - 32GB UK SIM-Free Smartphone - Silver (discontinued by manufacturer)', 7.309191695718318), ('Samsung Captivate, Black 16GB (AT&T)', 7.104260203699967)] \n",
      "\n",
      "Jim ->  [('Sim Free Apple iPhone 5S 16GB Mobile Phone - Space Grey', 9.733085706932327), ('Asus Zenfone Max ZC550KL (16 GB)', 9.289915966386555), ('Sim Free Motorola Moto G 4th Generation Mobile Phone - Black', 9.192203874495542), ('Samsung Galaxy S3 I535 16GB Verizon Wireless 4G LTE Smartphone - Blue', 8.516826829079681), ('BLU Studio 5.0 Unlocked Dual Sim Phone--U.S. Warranty (Black)', 8.346129123808609)] \n",
      "\n"
     ]
    },
    {
     "name": "stdout",
     "output_type": "stream",
     "text": [
      "Kate ->  [('Motorola Moto G 3rd Generation LTE UK SIM-Free Smartphone - Black', 10), ('Samsung Galaxy J5 2016 Sim Free Mobile Phone - White', 8.822814188762669), ('HUAWEI P9 Lite - 16 GB, Black', 8.814637362378548), ('HUAWEI P9 Lite - 16 GB, Black', 8.814637362378548), ('Samsung Galaxy J3 2016 Sim Free Mobile Phone - Black', 8.331408875242216)] \n",
      "\n",
      "lethe ->  [('Nokia N82 Cep Telefonu', 1), ('Samsung U900 1GB Cep Telefonu', 1), ('Nokia 5310 Cep Telefonu', 1), ('Nokia 6300 Cep Telefonu', 1), ('Nokia 5310 Cep Telefonu', 1)] \n",
      "\n",
      "bedduamiz ->  [('Nokia E90 Cep Telefonu', 1), ('Nokia 5300 XpressMusic Cep Telefonu', 1), ('Nokia 6288 Cep Telefonu', 1), ('Nokia N70 Cep Telefonu SILVER BLACK', 1), ('Nokia 6300 Cep Telefonu', 1)] \n",
      "\n",
      "schreef ->  [('Samsung Galaxy S7 edge', 10), ('Samsung Galaxy A5 (2016)', 10), ('Samsung Galaxy S7 edge', 10), ('Samsung Galaxy J3 (2016)', 9.4), ('Samsung Galaxy J3 (2016)', 9.4)] \n",
      "\n",
      "pedro ->  [('Lenovo Motorola Moto G (3a Generación) - Smartphone libre Android (4G, 5\", 13 MP, 16 GB, 2 GB RAM), color negro', 9.632574762306158), ('BLU Studio 5.0 Unlocked Dual Sim Phone--U.S. Warranty (Black)', 8.734101643433641), ('Nokia N900', 8.25252110848627), ('LG Optimus L3 II Dual E435', 7.5742210654543864), ('Smartphone Motorola Razr XT910', 7.266113069391194)] \n",
      "\n",
      "Amanda ->  [('Samsung Galaxy Mega 6.3 I9200 8GB Unlocked GSM Dual-Core Android Smartphone w/ 8 MP Camera - White', 10), ('Smartphone Samsung Galaxy S III Neo Duos Branco com Tela 4.8\", Dual Chip, Câmera 8MP, Android 4.3, 3G e Processador Quad-Core de 1.4 Ghz', 9.763736263736263), ('Motorola - MOTO G 2nd Gen XT1068 Unlocked GSM Dual-SIM Quad-Core Phone-White', 7.802212477004908), ('LG Electronics G4 5.5-Inch UK SIM-Free Smartphone - Gold', 7.485133773806429), ('Samsung Galaxy Note 3/S5 USB 3.0 5-Feet Data Cable, Non-Retail Packaging', 6.922406428352629)] \n",
      "\n",
      "anneme ->  [('Nokia 5310 Cep Telefonu', 1), ('Nokia 2630 Cep Telefonu', 1), ('Nokia 5300 XpressMusic Cep Telefonu', 1), ('Nokia 8800 Arte Cep Telefonu', 1), ('Blackberry 8820 PDA Cep Telefonu', 1)] \n",
      "\n",
      "James ->  [('Samsung Galaxy S7 edge SM-G935F 32GB Smartphone (Unlocked, Blue)', 10), ('Sim Free Apple iPhone 5S 16GB Mobile Phone - Space Grey', 9.710074464858977), ('Sim Free Alcatel PIXI 4 4G Mobile Phone - Black', 9.703396857854221), ('Sim Free Apple iPhone 6s 64GB Mobile Phone - Space Grey', 9.589425869546073), ('Pantech P8000 Crossover Adventure Phone (Identical to Moon & Bannik) Unlocked GSM 3G for AT&T Touchscreen Plus QWERTY Android 2.2 Froyo 3MP Camera, WIFI, GPS', 9.401203376998932)] \n",
      "\n",
      "fernando ->  [('Samsung Galaxy Prevail M820 No Contract 3G Touch Android Smartphone Boost Mobile', 9.38894620657482), ('Lenovo Motorola Moto E Smartphone, Display 4.3 pollici qHD, Processore Qualcomm Dual-Core 1.2GHz, Memoria 4GB, 1GB RAM, Fotocamera 5MP, Android 4.4.2 KitKat, Bluetooth, WiFi, Bianco [Spagna]', 8.22012595591543), ('Samsung G935 Galaxy S7 Edge Smartphone da 32GB, Argento [Italia]', 7.836481552335117), ('HTC One M8 Unlocked Cellphone, International, 16GB, Gold', 7.488802240099235), ('Smartphone LG Optimus L3 E400', 7.379990659222957)] \n",
      "\n",
      "dal07 ->  [('Samsung M150 Cep Telefonu', 1), ('Samsung M620 Cep Telefonu', 1), ('Nokia E90 Cep Telefonu', 1), ('Nokia 6300 Cep Telefonu', 1), ('Nokia N81 Cep Telefonu', 1)] \n",
      "\n",
      "giovanni ->  [('Lenovo Motorola Moto G Smartphone, 4,5 pollici display HD, processore Qualcomm, memoria 16GB, MicroSIM, Android 4.3 OS, fotocamera da 5 MP, Nero [Germania]', 10), ('Asus ZE551ML-2A760WW Smartphone ZenFone 2 Deluxe, 5.5\", 4 GB RAM, 64 GB, Intel Quad-Core Z3580, Dual SIM, Illusion Purple', 9.866021061161625), (\"DOOGEE 5.0''DOOGEE X5 MAX PRO IPS 4G Smartphone Android 6.0 Marshmallow MT6737 Quad Core 1.3GHz Cellulare 2GB di RAM 16GB ROM Aria Gestione Impronte Digitali 4000mAh Dual ID GPS WIFI Bianco\", 9.379693651511243), ('Sony Xperia J Smartphone, 4 Pollici, Nero [Italia]', 9.372463248248588), ('Alcatel One Touch Pop C9 Smartphone, Dual SIM, 4 GB, Bianco [Italia]', 9.145359438700234)] \n",
      "\n",
      "Ian ->  [('APPLE iPhone 6s Plus - 128 GB, Rose Gold', 10), ('Lenovo Motorola Moto X 2. Generation Smartphone (13,2 cm (5,2 Zoll) Full HD-Display, Touchscreen, 13 Megapixel Kamera, WiFi, 16GB interner Speicher, Android KitKat 4.4.4) schwarz', 10), ('Samsung I9000 Galaxy S Sim Free Mobile Phone', 9.787722637678263), ('Motorola Moto E 4GB SIM-Free Smartphone - Black', 9.610890816579584), ('APPLE iPhone 7 Plus - Gold, 32 GB', 9.59867930696175)] \n",
      "\n",
      "Mary ->  [('Sim Free Samsung Galaxy S7 Edge Mobile Phone - Gold', 9.962384731378785), ('Samsung Galaxy Note 3 N900A 32GB White - Unlocked', 9.62784095375318), ('Binatone The Brick GSM Sim-Free Mobile Phone', 9.548739524694106), ('LG Prime GS390 Feature SmartPhone (Unlocked)', 9.448435329436867), ('Huawei Honor 5X Unlocked Smartphone, 16GB Dark Grey (US Warranty)', 8.883460328055447)] \n",
      "\n",
      "Sarah ->  [(\"CUBOT NOTE S Unlocked 3G 5.5'' Smartphone Dual Sim Smartphone Android 5.1 MT6580 Quad Core 1.3GHz Mobile Phone 2GB RAM+16GB ROM Dual SIM HotKnot (Gold)\", 9.527275187568229), ('Microsoft Nokia 3310 Handy', 9.400488325300387), ('APPLE iPhone 7 - Silver, 32 GB', 9.152989052299004), ('APPLE iPhone 7 - Silver, 32 GB', 9.152989052299004), ('APPLE iPhone 7 - Silver, 32 GB', 9.152989052299004)] \n",
      "\n",
      "Amy ->  [('Doro PhoneEasy 410GSM Easy GSM Sim Free Mobile Phone - White', 8.031367425376555), ('APPLE iPhone 7 - Silver, 128 GB', 6.570598508818432), ('Apple iPhone 5s GSM Unlocked Cellphone, 16 GB, Space Gray', 6.560105308645349), ('Samsung Galaxy S6 G920I Factory Unlocked Cellphone, 32GB, Platinum Gold', 6.545843166828758), ('LG G2 Mini 3G DUAL D618 8GB Unlocked GSM Dual-SIM Android 4.4 (KitKat) Quad-Core Smartphone - Titan Black - International Version No Warranty', 6.517092428737177)] \n",
      "\n",
      "Alias ->  [('Motorola V300', 8.6701681673098), ('Lenovo Motorola Moto G Smartphone, 4,5 pollici display HD, processore Qualcomm, memoria 16GB, MicroSIM, Android 4.3 OS, fotocamera da 5 MP, Nero [Germania]', 8.583538084687211), ('Huawei Ascend P6 Smartphone, 8 GB, Fotocamera 8 MP, Display 4.7 Pollici HD, Wi-Fi, Rosa', 8.122862805381612), ('Huawei P8 lite Smartphone, Display 5.0\" IPS, Dual Sim, Processore Octa-Core, Memoria 16 GB, Fotocamera 13 MP, Android 5.0, Bianco', 8.044027759817233), ('Samsung Galaxy J5 Smartphone, Oro [Italia]', 7.522035657160995)] \n",
      "\n",
      "Maurizio ->  [('Lenovo Motorola Moto G Smartphone, 4,5 pollici display HD, processore Qualcomm, memoria 16GB, MicroSIM, Android 4.3 OS, fotocamera da 5 MP, Nero [Germania]', 10), (\"Huawei P9 Lite Smartphone, LTE, Display 5.2'' FHD, Processore Octa-Core Kirin 650, 16 GB Memoria Interna, 3GB RAM, Fotocamera 13 MP, Single-SIM, Android 6.0 Marshmallow, Bianco [Italia]\", 10), ('Honor 4X Smartphone 4G, Display 5.5 Pollici, Processore 64-bit Octa-Core Kirin 620, Fotocamera 13 MP, Memoria 8 GB, Android 4.4, Nero', 9.71552104073032), ('Huawei P8 Lite Smartphone, Display 5\" IPS, Processore Octa-Core 1.5 GHz, Memoria Interna da 16 GB, 2 GB RAM, Fotocamera 13 MP, monoSIM, Android 5.0, Bianco [Italia]', 9.659814875431506), ('Alcatel One Touch 20-04G Telefono Cellulare, Nero', 9.654271560594145)] \n",
      "\n",
      "Greg ->  [('Samsung Factory Unlocked Samsung Galaxy Mega 6.3 I9205 LTE White Phone', 10), ('Samsung B2100 Solid Extreme Sim Free Mobile Phone', 9.855036004004356), ('Samsung Galaxy S7 Edge SM-G935UZSAXAA Unlocked smartphone, 32 GB, US Warranty - Silver', 9.559110018816531), ('Samsung Galaxy Note II N7100 16GB Gray-Unlocked International Phone', 8.558186452773926), ('HTC Touch HD', 8.180579922300852)] \n",
      "\n",
      "sonia ->  [('Lenovo Motorola Moto G Smartphone, 4,5 pollici display HD, processore Qualcomm, memoria 16GB, MicroSIM, Android 4.3 OS, fotocamera da 5 MP, Nero [Germania]', 7.497754525344865), ('Nokia Lumia 625 Smartphone, Bianco [Italia]', 7.449282763916326), ('Samsung Galaxy S3 Neo - Smartphone libre Android (pantalla 4.8\", cámara 8 Mp, 16 GB, Quad-Core 1.4 GHz, 1536 MB RAM), azul (importado)', 7.299087202631234), ('Samsung 903 Galaxy S5 Neo Smartphone, 16 GB, Marchio TIM, Nero [Italia]', 7.192698653094163), ('Lenovo Motorola Moto E 2a Generazione Smartphone, LTE, 8 GB, RAM 1 GB, Bianco [Italia]', 6.902525432981443)] \n",
      "\n",
      "?????????�???? ->  [('Sony Xperia V (?�????????????)', 8.972634627961597), ('Sony Xperia V (?????�??????)', 8.939594458466157), ('HTC Sensation XE', 8.398036084733723), ('Samsung Galaxy Ace 2', 8.058338298945161), ('Samsung Galaxy Ace II GT-I8160', 7.570007694914954)] \n",
      "\n",
      "Jeremy ->  [('BLU Studio 5.0 C HD Unlocked Cellphone, Black', 9.7084083654931), ('HTC PHONE VERIZON HTC ANDROID ERIS 1.5 OS; GOOGLE EXP DEV DUALL BAND CDMA 2000 1xRTT/1xEVDO/1xEVDO Rev A', 7.551581503508736), ('LG Electronics G3 4G Smartphone 16 GB (UK SIM-Free, Android, 5.5 inch) - Black', 7.19994096205819), ('Sony Xperia Z3 Compact UK SIM-Free Smartphone - Black', 6.911455376445662), ('Samsung Galaxy S4 Zoom 16MP Camera Android Smartphone - White (International Version)', 5.116611317867337)] \n",
      "\n",
      "dolunay ->  [('Samsung I560 Cep Telefonu', 1), ('Samsung E250 Cep Telefonu - Pembe', 1), ('Nokia N72 Cep Telefonu', 1), ('Nokia N73 Cep Telefonu', 1), ('Blackberry 8820 PDA Cep Telefonu', 1)] \n",
      "\n",
      "Ксения ->  [('Apple iPhone 5s 16GB (серый космос)', 9.868113261786576), ('Sony Xperia Z1 Compact (розовый)', 9.632518694893186), ('Sony Xperia Z (черный)', 9.545121581028562), ('Samsung I8190 Galaxy S III mini 8GB (белый)', 9.514138193656828), ('Samsung I8190 Galaxy S III mini 8GB (черный)', 9.44611039832757)] \n",
      "\n",
      "Will ->  [('Sony Phones Xperia T James Bond UK Sim Free Smartphone - Black (discontinued by manufacturer)', 10), ('Samsung Galaxy Prevail 1 m820 No Contract Android Smartphone (Boost Mobile)', 9.061384668123804), ('Samsung Galaxy Note 3 Smartphone débloqué 4G (Ecran 5.7 pouces - 32 Go - Android 4.3 Jelly Bean) Noir', 8.225806451612904), ('LG Nexus 5 D820 16GB Unlocked GSM 4G LTE Quad-Core Android Smartphone w/ 5\" True HD IPS+ Multi-Touchscreen -White', 7.881483366315689), ('Samsung Galaxy S5 SM-G900A GSM Unlocked Cellphone, 16GB, Black', 7.480856944677917)] \n",
      "\n",
      "zeynep34 ->  [('Nokia 2630 Cep Telefonu', 1), ('Nokia N81 Cep Telefonu', 1), ('Nokia 6288 Cep Telefonu', 1), ('Nokia N72 Cep Telefonu', 1)] \n",
      "\n",
      "Walter ->  [('HTC One S Grey', 9.019880471889856), ('Sony Xperia L Smartphone (10,9 cm (4,3 Zoll) Touchcreen, 1GHz, Dual-Core, 1GB RAM, 8 Megapixel Kamera, NFC, Android 4.1) schwarz', 8.662783369109984), ('Samsung Galaxy Ace S5830 Smartphone (8,9 cm (3,5 Zoll) Display, Touchscreen, Android OS, 5 Megapixel Kamera) weiß', 7.909340647751044), ('Samsung J320 Galaxy J3 (2016) Dual SIM 5\", Quad Core, 8GB LTE, Nero [Italia]', 7.630521106262579), ('Lenovo Motorola Gleam+ Klapphandy (6,1 cm (2,4 Zoll) TFT-Display, 2 Megapixel Kamera, USB 2.0) dunkel silber', 7.476190476190476)] \n",
      "\n",
      "?????????????? ???????????? ->  [('Huawei Ascend P1 XL', 9.226790669979877), ('Huawei Ascend P1', 9.220168167309799), ('LG Optimus Sol E730', 9.00718470794536), ('Apple iPhone 5 16Gb', 8.93173276852145), ('Apple iPhone 5 16Gb', 8.93173276852145)] \n",
      "\n",
      "Pablo ->  [('Samsung Galaxy S7 SM-G930F 32GB Smartphone (Unlocked, Black)', 10), ('Huawei G7 - Smartphone libre Android 4.4+ Emotion UI 3.0 (pantalla 5.5\", cámara 13 Mp, 16 GB, Quad-Core 1.2 GHz, 2 GB RAM), gris', 10), ('Microsoft Nokia Lumia 630 Single-SIM Smartphone (4,5 Zoll (11,4 cm) Touch-Display, 8 GB Speicher, Windows 8.1) gelb', 9.617103480920617), ('Motorola Moto G (3ª Generación) + Carcasa Oficial color turquesa - Smartphone libre Android 6 (4G, pantalla 5\", cámara 13 Mp, 16 GB, Quad Core 1.4 GHz, 2 GB de RAM), negro', 9.0692208767868), ('Samsung Galaxy S II Plus (I9105P) - Smartphone libre Android (pantalla 4.3\", cámara 8 Mp, 8 GB, 1.2 GHz, 1 GB RAM), blanco [importado]', 8.846186511512037)] \n",
      "\n",
      "Анастасия ->  [('Samsung Galaxy S7', 9.809569527261791), ('Сотовый телефон Asus ZenFone 2', 9.66751707201012), ('Samsung Galaxy Alpha', 8.971102860264537), ('Sony Xperia Z1 (черный)', 8.732937664022943), ('Samsung I9082 Galaxy Grand Duos (белый)', 8.66835414032134)] \n",
      "\n",
      "Karen ->  [('APPLE iPhone 6s Plus - 128 GB, Rose Gold', 9.59868070723579), ('Samsung Galaxy J7 SM-J700H/DS GSM Factory Unlocked Smartphone-Android 5.1, 5.5-Inch - Gold', 9.468491440956273), ('Samsung Gusto 2 SCH-U365 Flip Phone (Verizon Wireless) - Gray', 8.448180673296166), ('LG KP500 Cookie Unlocked Phone with 3.2 MP Camera and Digital Media Player--International Version (Black), No-Warranty', 8.40020376393357), ('APPLE iPhone 7 - Silver, 32 GB', 7.2646216262822625)] \n",
      "\n",
      "Ali ->  [('Doro PhoneEasy 612 GSM Sim Free Mobile Phone - Black', 8.929276747613516), ('Sim Free Samsung Galaxy S7 Mobile Phone - Black', 8.590199572401744), ('Samsung Galaxy S6 zwart / 32 GB', 8.506464427467597), ('Nokia 6230i', 8.25102214433065), ('Samsung Galaxy A5 (2016) Smartphone (5,2 Zoll (13,22 cm) Touch-Display, 16 GB Speicher, Android 5.1) pink-gold', 8.14921390301133)] \n",
      "\n",
      "Marcello ->  [('Lenovo Motorola Moto G Smartphone, Display HD 4,5\", Processore Qualcomm, Memoria 8 GB, MicroSIM, Android 4.4 OS, Fotocamera da 5 MP, Nero [Germania]', 10), ('HTC One (M8) Smartphone (12,7 cm (5 Zoll) LCD-Display, Quad-Core, 2,3GHz, 2GB RAM, 5 Megapixel Frontkamera, FM-Radio, Android 4.4.2) metallgrau - [T-Mobile-Branding]', 9.928766397805328), ('Huawei P8 Lite Smartphone, Display 5\" IPS, Processore Octa-Core 1.5 GHz, Memoria Interna da 16 GB, 2 GB RAM, Fotocamera 13 MP, monoSIM, Android 5.0, Bianco [Italia]', 9.834533885513094), ('Samsung G920 Galaxy S6 Smartphone, 32 GB, Nero [Italia]', 9.656841620276518), ('Asus ZenFone 2 Smartphone 5 pollici, RAM 2 GB, 8 GB, 4G/LTE, Nero', 9.59240458752242)] \n",
      "\n",
      "Nico ->  [('Lenovo Motorola Moto G LTE Smartphone, Display 4.5\", Fotocamera 5 MP, Memoria 8 GB, Quad-Core 1.2 GHz, 1 GB RAM, Micro SD, Android 4.4.3, Bianco [Italia]', 9.03370355610987), ('HTC One X+ Smartphone (11,9 cm (4,7 Zoll) Touchscreen, NVIDIA Tegra 3, 8 Megapixel Kamera, 64 GB, 1,7 GHz Quad-Core Prozessor, Android 4.1 OS) schwarz', 8.171408414218307), ('Samsung Galaxy S5 Smartphone, Display 5.1 Pollici, Processore Quad-Core 2,5 GHz, RAM 2GB, Memoria Fotocamera 16MP, Android 4.4, Nero [Germania]', 7.641696956905017), ('HTC Desire S Smartphone (9,4 cm (3,7 Zoll) Display, Touchscreen, 5 Megapixel Kamera, Android OS) muted black', 7.317196618484001), ('Huawei P8 lite Dual-SIM Smartphone (5 Zoll (12,7 cm) Touch-Display, 16 GB Speicher, Android 5.0) schwarz', 6.878653009627975)] \n",
      "\n",
      "Егор ->  [('Sony Xperia C (черный)', 9.500017495238701), ('Samsung Galaxy S II GT-I9100', 9.484453881595513), ('Sony Xperia L', 9.423781838938124), ('Sony Xperia Z (черный)', 8.722479064718096), ('Sony Xperia SP (белый)', 8.666584780590624)] \n",
      "\n",
      "Cliente de Amazon ->  [('Samsung Galaxy Note 3 - Smartphone libre Android (pantalla 5.7\", cámara 13 Mp, 32 GB, Quad-Core 2.3 GHz, 3 GB RAM), negro', 9.699551358582438), ('Samsung Galaxy Note 3 - Smartphone libre Android (pantalla 5.7\", cámara 13 Mp, 32 GB, Quad-Core 2.3 GHz, 3 GB RAM), negro', 9.699551358582438), ('Honor 6 - Smartphone libre (pantalla de 5\", 16GB, 3 GB de RAM, cámara trasera de 13 MP y delantera de 5 MP, Android OS, v4.4.2 KitKat, LTE) blanco', 9.197179981437117), ('Huawei P8 Lite-AM08 - Pack Smartphone Huawei P8 Lite negro con Altavoz portátil AM08 Gold (2 GB de RAM, 16 GB de memoria interna, cámara 13 Mpxs/8Mpx), color negro', 9.075403669991905), ('ASUS ZenFone 2 Laser Unlocked Smartphone, 3GB RAM, 32GB Storage', 8.753089019518203)] \n",
      "\n",
      "anonimo ->  [('HTC One Smartphone, Display 4.7 Pollici, Fotocamera Ultrapixel, 32 GB, Processore Quad Core da 1.7 GHz, 2 GB RAM...', 9.00166393244844), ('Meizu M3S 16GB Gris libre', 9.0), ('Meizu M3S 16GB Gris libre', 9.0), ('Alcatel One Touch 997D - Smartphone libre (pantalla táctil de 4,3\" 480 x 800, cámara 8 Mp, 4 GB, procesador de 1 GHz, 1 GB de RAM), Plateado (importado)', 8.819140292574282), ('Honor 7 Smartphone 4G, Display Full HD 5.2 Pollici, Processore Kirin 935 Octa Core 2.2 GHz, 16 GB Memoria Interna, 3 GB RAM, Fotocamera 20 MP, Grigio', 8.176923166112921)] \n",
      "\n",
      "Ann ->  [('Doro PhoneEasy 410GSM Easy GSM Sim Free Mobile Phone - White', 9.228828887141338), ('Motorola Moto G 4G SIM-Free Smartphone - Black (8GB) - Discontinued by manufacturer', 8.227788240261722), ('Huawei P8lite zwart / 16 GB', 7.634877766006983), ('Samsung Galaxy S6 Edge Plus SM-G928c 32GB Factory Unlocked White', 7.525089849582368), ('APPLE iPhone 7 - Silver, 128 GB', 7.184593707886134)] \n",
      "\n",
      "Ben ->  [('Samsung Galaxy S III 4G LTE Prepaid Android Phone (MetroPCS)', 10), ('Sim Free Apple iPhone SE 64GB Mobile Phone - Space Grey', 9.689297916958497), ('Sim Free Apple iPhone 5S 16GB Mobile Phone - Space Grey', 9.328872753340745), ('Nokia 6230i', 8.971420485398522), ('LG - G3 - Smartphone Débloqué 4G (Ecran 5,5 Pouces - 16 Go - Android 4.4.2 KitKat) - Titane', 8.95190400950531)] \n",
      "\n",
      "Wolfgang ->  [('Lenovo Motorola Moto G Smartphone (11,4 cm (4,5 Zoll) HD-Display, 5 Megapixel Kamera, 1,2 GHz Quad-Core-Prozessor, 16 GB interner Speicher, Android 4.3 OS) schwarz', 8.382504475856807), ('Microsoft Nokia Lumia 630 Single-SIM Smartphone (4,5 Zoll (11,4 cm) Touch-Display, 8 GB Speicher, Windows 8.1) gelb', 6.839855416935543), ('LG Electronics GD510 POP Smartphone (EDGE, MP3, 3 MP Kamera, Bluetooth) black', 6.713237776863983)] \n",
      "\n",
      "José ->  [('BlackBerry Z10 4G LTE - Móvil libre Blackberry (pantalla 4.2\", cámara 8 Mp, 16 GB, 1.5 GHz, 2 GB RAM), blanco [importado]', 8.775478530087508), ('Meizu M3S 16GB Gris libre', 8.627580356119529)] \n",
      "\n",
      "Marie ->  [('LG Electronics L70 Smartphone (11,4 cm (4,5 Zoll) Touchscreen, 1GB RAM, 4GB Flash-Speicher, 5 Megapixel Kamera, Android 4.4) schwarz', 10), ('Nokia 3250', 9.487559471657626), ('Microsoft Nokia 108 Dual-SIM Handy (4,5 cm (1,8 Zoll) Farbdisplay, 0,3 Megapixel Kamera, UKW-Radio, Bluetooth) rot', 8.797896722468808), ('Linke Power Bank , Linke Smartcharger Portable Charger External Battery Power Bank for Mobile Device, Cell Phone, iPhone, iPad, Samsung Galaxy, Blackberry, iPod, MP3, PSP, PDA, GPS and Most USB Devices (20000 mAh)', 8.58175094111013), ('SAMSUNG Galaxy A3 (2017) - 16 GB, Black', 8.575606448016686)] \n",
      "\n",
      "tony ->  [('LG Electronics G2D802 UK SIM-Free Smartphone - Black (Android, 16GB)', 9.69345166873676), ('Samsung N9005 Galaxy Note 3 Smartphone, 32 GB, Nero [Italia]', 9.48936090795732), ('Huawei U8860 Smartphone (10,2 cm (4 Zoll) Display, 8 Megapixel Kamera, UMTS, Android 2.3) schwarz', 8.996236785739375), ('Oukitel U7 Plus - 5,5 pollici HD Android 6.0 4G smartphone quad-core a 1,3 GHz 2 GB di RAM 16 GB ROM scanner di impronte digitali GPS Dual SIM 13 MP - Grigio', 8.494056410959683), ('Asus ZenFone 3 Laser 5.5-inch Glacier Silver [ZC551KL] Laser auto-focus, 13MP Rear / 8MP Front camera, IPS FHD display, 2GB RAM, 32GB storage', 7.220311050266624)] \n",
      "\n",
      "mehmet ->  [('Samsung Galaxy S7 Edge wit / 32 GB', 1), ('Vodafone (69) 858 Smart', 1)] \n",
      "\n",
      "Yvonne ->  [('HTC One X White', 10), ('Samsung E1310 Handy (WAP, Bluetooth) absolut-black', 10), ('Huawei P8 grijs / 16 GB', 9.983174617383852), ('Sony Ericsson Xperia mini pro Smartphone (7,6 cm (3 Zoll) Display, QWERTZ-Tastatur, Touchscreen, 5 MP Kamera, Android 2.3 OS) schwarz', 9.980739489273796), ('Huawei P8lite zwart / 16 GB', 9.305836491228181)] \n",
      "\n",
      "George ->  [('Nokia Microsoft Nokia Lumia 640 LTE RM-1072 8GB 5\" Unlocked GSM Windows 8MP Camera Smartphone - Black - International Version No Warranty', 8.87136631723002), ('Samsung Galaxy S7 Edge wit / 32 GB', 8.713743300594293), ('Apple iPhone 5c 32GB (Green) - Verizon Wireless', 7.729203344478515), ('LG G3 D855 - Smartphone libre Android (pantalla 5.5\", cámara 13 Mp, 3 GB RAM (32 GB eMMC) ,Quad-Core 2.5 GHz), negro metalizado (importado)', 7.528970938853863), ('Samsung Galaxy Note GT-N7000 Unlocked Phone--International Version (Blue)', 7.438501939798935)] \n",
      "\n",
      "Sean ->  [('APPLE iPhone 7 - Silver, 32 GB', 10), (\"ZeroLemon [180 days warranty] ZeroLemon Samsung Galaxy S III 7000mAh Extended Battery + Free Black Extended TPU Full Edge Protection Case / ***NFC for S Beam and Google Wallet***- WORLD'S HIGHEST S3 BATTERY CAPACITY - Black\", 10), ('LG Google Nexus 5 D820 32GB Unlocked GSM 4G LTE Android Phone - Red', 10), ('Samsung Galaxy S II X | Black', 10), ('Motorola Nexus 6 Unlocked Smartphone, 32 GB, U. S. Warranty - Midnight Blue', 9.943991124789497)] \n",
      "\n",
      "streghe_1965 ->  [('LG Optimus L3 E400', 8.697440894582527), ('Nokia C7-00', 8.150988873060058), ('Apple iPhone 5 16GB', 4.897440894582527)] \n",
      "\n",
      "Denise ->  [('HTC Desire', 10), ('Samsung GT-E1050 (Handy ohne Branding black)', 10), ('Huawei P8 Champagne / 16 GB', 9.01139749572619), ('Vodafone Nokia 108 Pay as you go Handset - Black', 8.673843556551482), ('Apple iPhone 7 Unlocked Phone 32 GB - US Version (Gold)', 8.53520206937272)] \n",
      "\n",
      "Deepak ->  [('Mi Xiaomi Mi Max (Gold, 32GB)', 9.218962416939279), ('OnePlus 3T (Soft Gold, 6GB RAM + 64GB memory)', 8.529885749222995), ('Lenovo Vibe X3 (White, 32GB)', 8.171036407745168), ('Nokia N70', 8.142950523425519), ('Motorola Moto G Turbo (White, 16GB)', 7.97866013828176)] \n",
      "\n",
      "???????????????? ->  [('Apple iPhone 4s (8GB)', 9.899493828798672), ('HTC Desire C White 4710937380293', 8.596484813538687), ('HTC Desire C White 4710937380293', 8.596484813538687), ('Sony Xperia E (??????????)', 8.36619043033177), ('Sony Xperia E (??????????)', 8.36619043033177)] \n",
      "\n",
      "Ed ->  [('HTC One X Plus 64GB', 10), ('Motorola Nexus 6 Unlocked Smartphone, 32 GB, U. S. Warranty - Midnight Blue', 9.916987638436705), ('Samsung Galaxy S II White', 9.675873238217834), ('Apple iPhone 5 Unlocked Cellphone, 32GB, Black', 8.948493340276023), ('Samsung Galaxy Prevail 1 m820 No Contract Android Smartphone (Boost Mobile)', 8.130419797651037)] \n",
      "\n",
      "Bruno ->  [('Smartphone Samsung Galaxy Win Duos Grafite com Dual Chip, Tela de 4.7\", Android 4.1, Processador Quad Core, 3G, Wi-Fi e Câmera de 5MP', 8.967107368659692), ('Smartphone Motorola RAZR D1 Preto com TV, Dual Chip, Processador de 1.0GHz, Android 4.1, Câmera 5MP, 3G, Wi-Fi, Bluetooth e Serviços Google', 8.897747041601125), ('elephone P9000 5.5 \"Smartphone 2.0GHz 4G FDD-LTE TDD-LTE Android 6.0 Octa Nucleo MTK6755 1,6 millimetri Ultra Narrow schermo OGS con KKmoon basamento del telefono', 8.786195155790288), ('Lenovo Motorola Moto G 8 GB - Smartphone libre Android (pantalla 4.5\", cámara 5 Mp, 8 GB, Quad-Core 1.2 GHz), negro', 8.70550867105321), ('Lenovo Motorola Moto G 4G (2 Generazione) Smartphone, Display 5 Pollici, LTE, Fotocamera 8 MP, Memoria 8 GB, Android 5 Lollipop, Nero [Italia]', 8.67247932075653)] \n",
      "\n",
      "Luciano ->  [('Lenovo Motorola Moto G Smartphone, 4,5 pollici display HD, processore Qualcomm, memoria 16GB, MicroSIM, Android 4.3 OS, fotocamera da 5 MP, Nero [Germania]', 9.268762588936053), ('Honor 3C Smartphone, Dual SIM, Display 5 Pollici, Quad-Core, 2 GB di RAM, 8 GB di ROM, Bianco', 8.990672364753468), ('Samsung Galaxy S4 Mini GT-i9195i Unlocked Cellphone, Retail Packaging, White Frost', 8.667135151046294), ('Asus ZenFone 2 Laser 5.5\" Smartphone, 16 GB, Dual SIM, Nero [Italia]', 8.291880412374583), ('Smartphone Samsung Galaxy S Duos 2 Branco com Dual Chip, Tela 4\", C??mera 5MP, Android 4.2, 3G, Wi-Fi, GPS e Processador Dual Core de 1,2 Ghz', 8.102909491723683)] \n",
      "\n",
      "Steve ->  [('Samsung S7 Unlocked GSM Smartphone, Gold, 32GB', 10), ('Honor 6 4G UK Smartphone (5 inch, Touchscreen, Octa-Core, 3GB RAM, 16GB ROM, 13MP rear camera, 5MP front camera, LTE CAT6, Android 4.4, Emotion UI 2.3) White', 10), ('BlackBerry Passport Factory Unlocked Cellphone, 32GB, Black', 10), ('Sim Free Motorola Moto G 4th Generation Mobile Phone - Black', 9.600133177008177), ('Sim Free Motorola Moto G 4th Generation Mobile Phone - Black', 9.600133177008177)] \n",
      "\n",
      "???????�???? ->  [('Sony Xperia S LT26i', 9.879761529318952), ('HTC Desire SV T326e Black 4710937389005 UACRF', 9.282822323623755), ('Sony Xperia V (?????�??????)', 9.077008182143743), ('Sony Xperia V (?�????????????)', 9.053755928505211), ('LG Optimus L5 E612 White', 8.888399119914236)] \n",
      "\n",
      "Andy ->  [('Samsung Galaxy Mega GT-i9205 Smartphone (16 cm (6,3 Zoll) Touchscreen, Cortex A15, Dual-Core, 1,7GHz, 1,5GB RAM, 8 Megapixel Kamera, Android 4.2) schwarz', 10), ('Samsung Galaxy Note N7000 16GB Sim Free Mobile Phone - Dark Blue', 9.839640505404697), ('Samsung E1080i Sim Free Mobile Phone (discontinued by manufacturer)', 9.595652173913043), ('Apple iPhone 7, 32Gb - Black', 9.416036405225563), ('HTC Desire HD Sim Free Mobile Phone - Mocha', 9.372559688471377)] \n",
      "\n",
      "Alexis ->  [('LG Prime GS390 Feature SmartPhone (Unlocked)', 7.627691128988125), ('Sony Ericsson W595', 7.270175899350927), ('Lenovo Motorola Moto G 8 GB - Smartphone libre Android (pantalla 4.5\", cámara 5 Mp, 8 GB, Quad-Core 1.2 GHz), negro', 7.236380256344965), ('Samsung \\u200bSamsung Galaxy A3 Smartphone (12 cm (4,71 Zoll) HD Super AMOLED Touch-Display, 16 GB, Android 5.1) schwarz', 6.0710821122246745), ('HTC Desire 626S No Contract Phone White (Virgin Mobile)', 5.526323060459919)] \n",
      "\n",
      "Elena ->  [('Asus ZenFone 2 Laser Smartphone, Display da 5\", 16 GB, Dual SIM, Nero [Italia]', 9.642844089253618), ('Asus ZenFone 2 Laser Smartphone, Display da 5\", 16 GB, Dual SIM, Nero [Italia]', 9.642844089253618), ('Apple iPhone 5s 16GB (серебристый)', 9.177139455134109), ('Samsung Galaxy J5 Smartphone, Oro [Italia]', 8.660134382070876), ('Huawei P8 grijs / 16 GB', 8.596858726058269)] \n",
      "\n",
      "Enrique ->  [('August EP635 Auriculares Bluetooth Inalámbricos - Auriculares On-ear con micrófono integrado, Almohadillas de Cuero y Batería interna recargable - Compatible con iPhone 5S, 5, 4S, Samsung 5S, 4, iPads, Ordenadores, Tablets, Smartphones', 10), ('Alcatel Onetouch 2004G - Móvil libre (pantalla 2.4\", 512 MB RAM, teclas grandes), blanco', 9.724851343108195), ('Samsung Galaxy Note 4 - Smartphone de 5.7\" (2560 x 1440 pixeles, Super AMOLED, 2,7 GHz, 3072 MB), negro', 9.661992518431722), ('ASUS ZenFone 2 Deluxe Special Edition, Unlocked Cellphone, 4GB RAM, 128GB (U.S. Warranty) (Discontinued by Manufacturer)', 9.568787857064319), ('Sony Xperia M2 - Smartphone libre Android (Pantalla 4.8\", cámara 8 Mp, 8 GB, Quad-Core 1.2 GHz, 1024 MB RAM), púrpura (importado)', 9.359247559573172)] \n",
      "\n",
      "Jonathan ->  [('Samsung Galaxy S7 edge SM-G935F 32GB Smartphone (Unlocked, Blue)', 10), ('HTC One M9', 9.6301681673098), (\"Lenovo Motorola Moto G4 - Smartphone libre Android 6 (pantalla de 5.5'' Full HD, 4G, cámara de 13 MP, 2 GB de RAM, 16 GB, Qualcomm Snapdragon 1.5 GHz), color negro\", 9.382906348164608), ('Huawei Ascend Y550 Smartphone (11,4 cm (4,5 Zoll) IPS-Display, 5 Megapixel-Kamera, 4GB Interner Speicher, Android 4.4) schwarz', 9.043409622731199), ('Samsung Transform Ultra (Boost Mobile)', 8.844376326598601)] \n",
      "\n",
      "Dario ->  [('HTC Sensation XE Smartphone mit Beats Audio (10.9 cm (4.3 Zoll) Touchscreen, Android 2.3 OS, 1.5 GHz Dual Core Prozessor, 8 MP Kamera) schwarz', 10), ('LG D802 G2 Smartphone, 16 GB, Nero [Italia]', 9.885847430379876), ('LG D802 G2 Smartphone, 32 GB, Black Exclusive [Italia]', 9.752224125009239), ('Samsung G935 Galaxy S7 Edge Smartphone da 32GB, Argento [Italia]', 9.727977340940903), ('Samsung G935 Galaxy S7 Edge Smartphone da 32GB, Argento [Italia]', 9.727977340940903)] \n",
      "\n",
      "Mac Reviews ->  [('Sony Xperia M (Single SIM, White)', 7.5064790077760035), ('Asus Zenfone Max ZC550KL-6A068IN (Black, 2GB, 16GB)', 6.306479007776003), ('Lenovo A850 (White)', 6.198930774628677), ('Motorola Moto E 2nd Generation (4G, White)', 5.670264437970534), ('Samsung Galaxy Star Pro GT-S7262 (Midnight Black)', 4.225354722570305)] \n",
      "\n",
      "Gianni ->  [('Lenovo Motorola Moto G 4G 3 Generazione Smartphone, Display 5\", Fotocamera 13 MP, Memoria 16 GB, Android 6 Lollipop, Nero [Italia]', 10), ('Lenovo Motorola Moto E 2a Generazione Smartphone, LTE, 8 GB, RAM 1 GB, Nero [Italia]', 10), ('Nokia Lumia 630 Smartphone, 8 GB, Nero [Italia]', 9.894162375483168), ('Cubot Note S 3G Smartphone - 5.5\" pollici IPS HD Screen Android 5.1 MT6580 Quad Core 1.3GHz 2GB RAM+16GB ROM Dual SIM HotKnot WiFi Cellulare (Nero)', 9.338720254279718), ('LG G4 Smartphone Display IPS 5.5\" QHD, Fotocamera 16 MP, Memoria Interna 32 GB, 3 GB RAM, Colore Marrone', 9.270583754587168)] \n",
      "\n",
      "Petra ->  [('Apple iPhone 5C 16GB - sbloccato - blu / ciano', 8.229419781766333), ('Microsoft Nokia X3-02 Handy (Ohne Branding, 6,1 cm (2,4 Zoll) Display, Touchscreen, 5 Megapixel Kamera) pink', 8.219841966011412), ('Sony Xperia XZ zwart / 32 GB', 7.4891617907094306)] \n",
      "\n",
      "M ->  [('Samsung Galaxy S7 goud, roze / 32 GB', 9.234470155793685), ('SAMSUNG Galaxy A3 (2017) - 16 GB, Black', 8.385112093732783), ('Lenovo Vibe K4 Note (Black, 16GB)', 8.07322504365345), ('Sony Xperia XZ zwart / 32 GB', 7.881175056328461), ('Sony Xperia XZ zwart / 32 GB', 7.881175056328461)] \n",
      "\n",
      "roberto ->  [('BlackBerry Curve 9320', 9.475723722865355), ('Huawei Ascend P8 Smartphone, Display 5.2\" FHD, Memoria RAM da 3 GB, Processore HiSilicon Kirin 930 Octa-Core, Fotocamera Principale 13 MP, Champagne', 9.383340450575366), ('Lenovo Motorola Moto G Smartphone, 4,5 pollici display HD, processore Qualcomm, memoria 16GB, MicroSIM, Android 4.3 OS, fotocamera da 5 MP, Nero [Germania]', 9.264513620722024), (\"Huawei P9 Lite Smartphone, LTE, Display 5.2'' FHD, Processore Octa-Core Kirin 650, 16 GB Memoria Interna, 3GB RAM, Fotocamera 13 MP, Single-SIM, Android 6.0 Marshmallow, Bianco [Italia]\", 9.201862146249688), ('Honor 7 Smartphone 4G, Display Full HD 5.2 Pollici, Processore Kirin 935 Octa Core 2.2 GHz, 16 GB Memoria Interna, 3 GB RAM, Fotocamera 20 MP, Grigio', 9.07542754825104)] \n",
      "\n",
      "salame ->  [('Nokia N8 Cep Telefonu', 1), ('Nokia 6288 Cep Telefonu', 1), ('Apple iphone 3G 16GB Cep Telefonu', 1), ('Nokia C5-03 Cep Telefonu', 1), ('Blackberry 8820 PDA Cep Telefonu', 1)] \n",
      "\n",
      "Nicolas ->  [('Samsung Galaxy A3 Téléphone portable débloqué 4G (Ecran: 4,5 pouces - 16 Go - Simple SIM - Android 4.4 KitKat) Argent', 10), ('Samsung i9100 Galaxy S2 Smartphone Android 3G+ Wifi 16 Go Noir', 10), (\"Spigen Coque Samsung Galaxy A5 2017, Spigen [Liquid Air] ** Technologie Coussin d'air ** [Noir] Flexible Soft TPU silicone / Nouveau design & Motif unique / Housse Etui Coque Pour Galaxy A5 2017, Samsung A5 2017- (573CS21143)\", 10), ('Huawei P8 Lite Smartphone, Display 5\" IPS, Processore Octa-Core 1.5 GHz, Memoria Interna da 16 GB, 2 GB RAM, Fotocamera 13 MP, monoSIM, Android 5.0, Bianco [Italia]', 9.996967632341182), ('Huawei P8 lite Smartphone, Display 5.0\" IPS, Dual Sim, Processore Octa-Core, Memoria 16 GB, Fotocamera 13 MP, Android 5.0, Bianco', 9.225190015382495)] \n",
      "\n",
      "Philipp ->  [('Lenovo Motorola Moto G Smartphone (11,4 cm (4,5 Zoll) HD-Display, 5 Megapixel Kamera, 1,2 GHz Quad-Core-Prozessor, 8 GB interner Speicher, Android 4.3 OS) schwarz', 9.760461717924201), ('Sony Ericsson C905 Handy (8MP, GPS, WLAN) Night Black', 9.204266813572405), ('Microsoft Nokia Lumia 820 Smartphone (10,9 cm (4,3 Zoll) Touchscreen, Snapdragon S4, Dual-Core, 1,5GHz, 1GB RAM, 8 Megapixel Kamera, Win 8) gl??nzend gelb', 8.891761076584043), ('Lenovo Motorola Moto E Smartphone (10,9 cm (4,3 Zoll) TFT-Display mit 256 PPI, 5 Megapixel Kamera, 1,2 GHz Dual-Core-Prozessor, 1GB RAM, 4GB interner Speicher, MicroSIM, MicroSD-Slot, Android 4.4.2 KitKat) schwarz', 7.685254703719465), ('Apple iPhone 5S Gold 64GB SIM-Free Smartphone (Zertifiziert und Generalüberholt)', 7.186442487741574)] \n",
      "\n",
      "Monica ->  [('Samsung Galaxy S III Smartphone, Bianco [Italia]', 10), ('Huawei P8 Lite - Smartphone de 5\" (cámara 13 MP, 16 GB, HiSilicon Kirin 620 Octa Core 1.2 GHz, 2 GB RAM, Android L), color blanco', 8.84595260979793), ('BlackBerry 8520 Unlocked Phone with 2 MP Camera, Bluetooth, Wi-Fi--International Version with No Warranty (Black)', 7.265064086977709), ('BlackBerry 8520 Unlocked Phone with 2 MP Camera, Bluetooth, Wi-Fi--International Version with No Warranty (Black)', 7.265064086977709)] \n",
      "\n",
      "Kris ->  [('Sim Free Sony E5 Mobile Phone', 9.68922208118509), ('Nokia Lumia 635 (AT&T Go Phone) No Annual Contract', 9.6278333109015), ('Kazam Wileyfox Swift UK SIM-Free Smartphone with Swift Hard Case and Screen Protection Card - Sandstone Black', 9.572724656329026), ('Samsung Galaxy S5 SM-G900A 16GB AT&T Branded Smartphone (Unlocked, Copper Gold)', 8.5290620017137), ('Kyocera DuraXV, Dark Grey 4GB (Verizon Wireless)', 7.825686116456797)] \n",
      "\n",
      "oscar ->  [('Huawei Nexus 6P unlocked smartphone, 32GB Gold (US Warranty)', 8.421111160387467), ('Samsung Galaxy Note 4 - Smartphone de 5.7\" (2560 x 1440 pixeles, Super AMOLED, 2,7 GHz, 3072 MB), negro', 7.938970675147233), ('Nokia Lumia 925 Smartphone, Nero [Italia]', 7.848139150977835), ('Sony Xperia SP C5303 - Smartphone libre Android (pantalla 4.6\", cámara 8 Mp, 8 GB, Dual-Core 1.7 GHz, 1 GB RAM), negro (importado)', 7.547995893009885), ('Nokia 8210', 7.486966541062027)] \n",
      "\n",
      "Capyto ->  [('Nokia 2630 Cep Telefonu', 1), ('Nokia N73 Cep Telefonu', 1), ('Samsung F250 Cep Telefonu', 1), ('Nokia N70 Cep Telefonu SILVER BLACK', 1), ('Nokia 6288 Cep Telefonu', 1)] \n",
      "\n",
      "Guest ->  [('Asus Zenfone Max ZC550KL (16 GB)', 10), ('Samsung Galaxy J3 (8GB)', 8.2), ('Samsung Galaxy J3 (8GB)', 8.2)] \n",
      "\n",
      "Marcos ->  [('Meizu M3S 16GB Gris libre', 9.242147907696042), ('Smartphone Motorola RAZR D1 Preto com TV, Dual Chip, Processador de 1.0GHz, Android 4.1, Câmera 5MP, 3G, Wi-Fi, Bluetooth e Serviços Google', 8.565381639848878), ('Alcatel One Touch 997D - Smartphone libre (pantalla táctil de 4,3\" 480 x 800, cámara 8 Mp, 4 GB, procesador de 1 GHz, 1 GB de RAM), Plateado (importado)', 8.4932069024528), ('Alcatel One Touch 997D - Smartphone libre (pantalla táctil de 4,3\" 480 x 800, cámara 8 Mp, 4 GB, procesador de 1 GHz, 1 GB de RAM), Plateado (importado)', 8.4932069024528), ('Huawei Ascend P7 - L10 - Smartphone libre Android (pantalla 5\", cámara 13 MP, 16 GB, Quad-Core 1.8 GHz, 2.0 GB RAM) negro', 8.480745996166837)] \n",
      "\n",
      "Charles ->  [('Samsung Galaxy S Blaze 4G SGH-T769 GSM Black - Unlocked International Version - Use With Any SIM', 9.480865009061473), ('MICROSOFT Lumia 650 - 16 GB, Black', 9.461962190522796), ('Samsung Galaxy S II White', 9.45427891564311), ('Samsung Galaxy J3 (8GB)', 9.0857086355275), ('Microsoft Nokia Lumia 530 Smartphone inkl. Hülle (10,2 cm (4 Zoll), Dual-SIM, 1,2GHz Snapdragon Quad-Core Prozessor, 512MB RAM, 5 Megapixel Kamera, Bluetooth, USB 2.0, Win 8) grün', 8.964868816762326)] \n",
      "\n",
      "Giacomo ->  [('Huawei Ascend P8 Smartphone, Display 5.2\" FHD, Memoria RAM da 3 GB, Processore HiSilicon Kirin 930 Octa-Core, Fotocamera Principale 13 MP, Grigio', 9.554298436873237), ('LG G5 Smartphone da 32 GB, 5.3\" QHD, 4G LTE, Fotocamera da 16 MP e 8 MP, 4 GB RAM, Oro [Italia]', 9.461747703065305), ('LG G4 Smartphone Display IPS 5.5\" QHD, Fotocamera 16 MP, Memoria Interna 32 GB, 3 GB RAM, Colore Marrone', 8.8779379193899), ('Samsung Galaxy Ace II Smartphone, Nero [Italia]', 8.562253522136718), ('Samsung Galaxy S3 mini I8190 Smartphone, Display AMOLED da 10.2 cm (4 Pollici), Dual Core, 1 GHz, 1 GB RAM, Fotocamera 5 Megapixel, Android 4.1, Bianco marmo [Germania]', 7.757909226282125)] \n",
      "\n",
      "Raj ->  [('Samsung Galaxy S7 edge SM-G935F 32GB Smartphone (Unlocked, Blue)', 9.189207852334185), ('Sim Free Samsung Galaxy S7 Edge Mobile Phone - Gold', 8.978397201716625), ('OnePlus 3 (Graphite, 64 GB)', 8.519746848959976), ('Samsung Galaxy J3 (8GB)', 8.170810822912225), ('Motorola Moto G 3rd Generation (Black, 8GB)', 8.103919872330007)] \n",
      "\n",
      "Ralf ->  [('Samsung Galaxy Young DUOS Smartphone (8,3 cm (3,3 Zoll) Display, Quadband, 1GHz, 3 Megapixel Kamera, Bluetooth, Dual-SIM, Android 4.1) white', 8.926315789473684), ('Microsoft Nokia Lumia 1520 Smartphone (6 Zoll (15,2 cm) Touch-Display, 32 GB Speicher, Windows 8) gelb', 8.571311348910253), ('Samsung Galaxy S8 Zwart', 8.432557582603676), ('BenQ-Siemens EF81', 8.142792619955838), ('Microsoft Nokia Lumia 630 Single-SIM Smartphone (4,5 Zoll (11,4 cm) Touch-Display, 8 GB Speicher, Windows 8.1) gelb', 7.379397287873467)] \n",
      "\n",
      "Jan ->  [('Samsung Galaxy Note II N7100 Smartphone 16GB (14 cm (5,5 Zoll) AMOLED-Touchscreen, Quad-core, 1,6GHz, 8 Megapixel Kamera, Android 4.1) blue', 10), ('LG Electronics G Flex 2 Smartphone (13,97 cm (5,5 Zoll) Full-HD-POLED-Display, Qualcomm Snapdragon 810 2-GHz-Octa-Core-Prozessor, 13-Megapixelkamera, 16 GB interner Speicher, Android 5.0) Platinum Silver', 10), ('Nokia 3250', 10), ('Apple iPhone 4 32GB schwarz ohne Simlock', 9.656109159141712), ('Huawei P10 zilver / 64 GB', 9.525293374604827)] \n",
      "\n",
      "Roland ->  [('Samsung Galaxy S III i9300 Smartphone 16 GB (12,2 cm (4,8 Zoll) HD Super-AMOLED-Touchscreen, 8 Megapixel Kamera, Micro-SIM, Android 4.0) schwarz', 9.22290988379536), ('Sony Ericsson Xperia mini pro Smartphone (7,6 cm (3 Zoll) Display, QWERTZ-Tastatur, Touchscreen, 5 MP Kamera, Android 2.3 OS) schwarz', 9.06908896592704), ('Samsung Galaxy A3 Smartphone (4,5 Zoll (11,4 cm) Touch-Display, 16 GB Speicher, Android 4.4) champagne-gold', 9.045507642190804), ('Huawei P8lite zwart / 16 GB', 8.921660894084877), ('Microsoft Lumia 950 XL Smartphone 14,5 cm(5,7 Zoll) (Touch-Display, 32 GB Speicher, Windows 10) schwarz', 8.813376177455947)] \n",
      "\n",
      "Eduardo ->  [('Asus ZenFone 2 Laser 5.5\" Smartphone, 16 GB, Dual SIM, Nero [Italia]', 9.021723724355375), ('Sony Xperia Tipo - Smartphone libre (pantalla táctil de 3,2\" 320 x 480, cámara 3.2 Mp, 2.9 GB, procesador de 800 MHz, 512 MB de RAM, S.O. Android 4.0.4), negro', 8.204105148744306), ('Nokia 6151', 7.958403461427446), ('LG Nexus 5X - Smartphone de 5.2\" (WiFi, DLNA, procesador Qualcomm Snapdragon 808 de 64 bits y 6 núcleos, memoria interna de 32 GB, memoria RAM 2 GB, Android Marshmallow), color negro', 7.719378752471844), ('Apple iPhone 7 Unlocked Phone 128 GB - US Version (Black)', 7.570508140407112)] \n",
      "\n",
      "Terry ->  [('Sony Ericsson C 510 radiation silver Handy', 9.619070182407238), ('Apple iPhone 5 - 16GB Black - Sim Free Smartphone', 8.647896536720145), ('Asus Zenfone Max ZC550KL-6A076IN (Black, 3GB, 32GB)', 8.402691128988124), ('SAMSUNG Galaxy A3 (2017) - 16 GB, Black', 7.946832676271749), ('Samsung Galaxy Note GT-N7000 Unlocked Phone--International Version (Blue)', 7.669357795654791)] \n",
      "\n",
      "Rose ->  [('Nokia Asha 210 SIM-Free Mobile Phone - Black', 10), ('Samsung Galaxy S III (S3) (Virgin Mobile)', 9.403821013767772), ('Samsung Galaxy S III (S3) (Virgin Mobile)', 9.403821013767772), ('HTC Desire 610 (AT&T Go Phone) No Annual Contract', 8.857711777144855), ('Samsung Galaxy S4 SGH-I337 GSM Smartphone, 16GB, Frost White - AT&T - No Warranty', 7.41727628504993)] \n",
      "\n",
      "Julian ->  [('Samsung Galaxy A5 2016 Smartphone débloqué 4G (Ecran: 5,2 pouces - 16 Go - Simple Nano-SIM - Android 5.1 Lollipop) Or (Import Allemagne)', 9.70747740091529), ('Motorola Moto G (3ª Generación) + Carcasa Oficial color turquesa - Smartphone libre Android 6 (4G, pantalla 5\", cámara 13 Mp, 16 GB, Quad Core 1.4 GHz, 2 GB de RAM), negro', 9.035282299014817), ('Apple iPhone 5S Gold 64GB SIM-Free Smartphone (Zertifiziert und Generalüberholt)', 8.318950373528772), ('Sony Xperia Z2 Smartphone (5,2 Zoll (13,2 cm) Touch-Display, 16 GB Speicher, Android 4.4) violett', 6.903790268025814), ('Apple iPhone 6s Plus Unlocked GSM 4G LTE Smartphone with 12MP Camera, 16 GB (Rose Gold)', 5.750015385986197)] \n",
      "\n",
      "Danny ->  [('Lenovo Motorola Moto X 2a Generazione Smartphone, Memoria 16 GB, 2 GB RAM, 4G/LTE, Wi-Fi, Nero Resina [Italia]', 9.870025692150989), ('HUAWEI ASCEND P9 LITE BLACK', 9.607839509797142), ('Sony Xperia Z5 Premium chroom / 32 GB', 8.957562613604363), ('Samsung Galaxy Trend Plus Smartphone (10,1 cm (4 Zoll) TFT-Display, 1,2GHz Prozessor, 786MB RAM, 5 Megapixel Kamera, 4GB interne Speicher, Android 4.2.2) schwarz', 8.929830232992423), ('Huawei P8 Champagne / 16 GB', 8.783609732057963)] \n",
      "\n",
      "AJ ->  [('Nokia 215 (Dual SIM, Black)', 9.726012623875816), ('LG Electronics P710 Optimus L7 II Smartphone (10,9 cm (4,3 Zoll) Touchscreen, 1GHz, Dual-Core, 4GB, 768MB RAM, 8-Megapixel-Kamera, Android 4.1) metallisch-schwarz', 9.122332291547043), ('Sim Free Motorola Moto G 4th Generation Mobile Phone - Black', 9.073923163367436), ('BLU Studio 5.5S Unlocked Cellphone, White', 8.767627067403458), ('Samsung Galaxy J3 2016 Sim Free Mobile Phone - Black', 7.975274954062803)] \n",
      "\n",
      "Manu ->  [('Nokia N72', 8.060564796287728), ('Huawei Ascend Y330 - Smartphone libre Android (pantalla 4\", cámara 3.15 Mp, 4 GB, Dual-Core 1.3 GHz, 512 MB de RAM), color blanco', 7.946695589095125), ('Nokia C1-01', 7.474515993396755), ('Motorola Moto E (2nd Gen.) - Smartphone libre de 4.5\" (Quad Core 1.2 GHz, 1 GB de RAM, 8 GB, cámara 5 MP, Android) color negro', 7.221129772103951), ('Samsung Star S5230 Smartphone (Touchscreen, 3MP Kamera, Video, MP3-Player, Bluetooth) black gold', 6.420346085660594)] \n",
      "\n",
      "Renato ->  [('Apple iPhone 6s 64GB 4G Oro', 8.386528081640867), ('Honor 7 Smartphone 4G, Display Full HD 5.2 Pollici, Processore Kirin 935 Octa Core 2.2 GHz, 16 GB Memoria Interna, 3 GB RAM, Fotocamera 20 MP, Grigio', 8.178933847837072), ('Huawei Ascend G620s Smartphone, 8 GB, Nero', 8.076126748012896), ('Huawei Ascend Y300 Smartphone, 4 GB, Nero', 7.748695159253617), ('Samsung I9105P Galaxy S II Plus DualCore - Smartphone con Schermo Super AMOLED da 10.9 cm (4.3 Pollici), Fotocamera da 8 Mpixel, video Full-HD, Wi-Fi dual band, NFC, Android 4.1.2, Grigio/Blu [Germania]', 7.263222882245671)] \n",
      "\n",
      "Dirk ->  [('Samsung Galaxy Note 3 Smartphone (14,5 cm (5,7 Zoll) AMOLED-Touchscreen, 2,3GHz, Quad-Core, 3GB RAM, 13 Megapixel Kamera, Android 4.3) weiß', 9.884127810526717), ('Samsung Galaxy S3 mini I8190 Smartphone (10,2 cm (4 Zoll) AMOLED Display, Dual-Core, 1GHz, 1GB RAM, 5 Megapixel Kamera, Android 4.1) marble-white', 9.73086776337163), ('Samsung Galaxy S Advance I9070 Smartphone (10,2 cm (4 Zoll) AMOLED-Touchscreen, 5 Megapixel Kamera, Android 2.3, NFC) ceramic-wei??', 9.56216520243603), ('Motorola Moto G 3. Generation Smartphone (12,7 cm (5 Zoll ) Touchscreen-Display, 16 GB Speicher, Android 5.1.1...', 9.341712382400084), ('Honor 7 Smartphone (13,2 cm (5,2 Zoll) Touchscreen, 16GB interner Speicher, Android OS) grau', 8.918808311100596)] \n",
      "\n",
      "Nathan ->  [('Apple iPhone 5c 32GB (Green) - Verizon Wireless', 8.60808328585087), ('AICEK Coque Samsung Galaxy J3 2016, AICEK Etui Silicone Gel Samsung Galaxy J3 2016 (J320F) Housse Antichoc Samsung J3 Transparente Souple Coque De Protection Pour Samsung Galaxy J3 2016 (5,0 Pouces)', 7.647058823529412), ('Nokia C6-01 Unlocked GSM Phone with 8 MP Camera, 720p Video Recording, and Ovi Maps Navigation--U.S. Version with Warranty (Black)', 6.812574082957772)] \n",
      "\n",
      "Monique ->  [('Samsung Galaxy S7 goud, roze / 32 GB', 9.552968748437873), ('Nokia Lumia 635 Smartphone débloqué 4G (Ecran: 4.5 pouces - 8 Go - Simple Micro SIM - Windows Phone 8.1 - 512 Mo RAM) Noir', 9.131422703524427), ('Sony Xperia Z5 goud / 32 GB', 9.007962467059023), ('Apple iPhone 5S 16GB Space Gray', 8.850317236642926), ('Huawei P8lite zwart / 16 GB', 8.31489231464878)] \n",
      "\n",
      "fabrizio ->  [('Lenovo Motorola Moto G Smartphone, 4,5 pollici display HD, processore Qualcomm, memoria 16GB, MicroSIM, Android 4.3 OS, fotocamera da 5 MP, Nero [Germania]', 10), ('Huawei 771657 P8 Lite Smart Smartphone 16GB, Marchio Tim, Grigio Titanio', 9.894862866391575), ('Samsung Galaxy S III Smartphone, schermo touchscreen Super AMOLED da 12,2 cm (4,8 pollici), fotocamera da 8 Megapixel, Android OS, Nero [Germania]', 9.637404076389275), ('Huawei Ascend G620s Smartphone, Display 5.0\", 16M Colori, Memoria RAM da 1 GB, Processore 1.2 GHz Quad-Core Qualcomm, Nero', 9.00848254551559), ('Samsung GT-I9195 Galaxy S4 Mini Smartphone, LTE, Display 4.27\" SAMOLED, Memoria Interna 8 GB, Processore Dual-Core 1.7 GHz, Bianco [Germania]', 8.974811977672774)] \n",
      "\n",
      "giorgio ->  [('Lenovo Motorola Moto G Smartphone, 4,5 pollici display HD, processore Qualcomm, memoria 16GB, MicroSIM, Android 4.3 OS, fotocamera da 5 MP, Nero [Germania]', 10), ('Lenovo Motorola Moto G Smartphone, 4,5 pollici display HD, processore Qualcomm, memoria 16GB, MicroSIM, Android 4.3 OS, fotocamera da 5 MP, Nero [Germania]', 10), ('Samsung I9082 Galaxy Grand Duos Smartphone, Dual Sim, Blu [EU]', 10), ('LG K10 Smartphone da 16 GB, Schermo IPS HD da 5.3\", 4G LTE, Fotocamera 13MP con Frontale 5MP, 1.5 GB RAM, Bianco [Italia]', 9.806378566679472), ('Huawei Y6 Smartphone, Display 5.0\" HD, IPS, 2 GB RAM, 8 GB Memoria Interna, Dual SIM, Fotocamera 8 MP, Android 5.1, Nero', 9.541488673558295)] \n",
      "\n",
      "Gustavo ->  [('BlackBerry Passport Factory Unlocked Cellphone, 32GB, Black', 10), ('APPLE iPhone 6s Plus - 128 GB, Rose Gold', 10), ('LG Optimus L7 P705 Factory Unlocked International Version No Warranty Gsm Android Phone, White', 10), ('Motorola XT390', 2.285594646326218)] \n",
      "\n",
      "mark ->  [('Samsung Galaxy S III Smartphone, Blu [Italia]', 9.995357516047171), ('SAMSUNG Galaxy A3 (2017) - 16 GB, Black', 9.402703502484973), ('HTC One Smartphone, Display 4.7 Pollici, Fotocamera Ultrapixel, 32 GB, Processore Quad Core da 1.7 GHz, 2 GB RAM...', 9.282240966620762), ('Sony Ericsson Xperia mini pro Smartphone (7,6 cm (3 Zoll) Display, QWERTZ-Tastatur, Touchscreen, 5 MP Kamera, Android 2.3 OS) schwarz', 8.961198363477367), ('BlackBerry Z10 16Gb White WiFi Touchscreen Unlocked GSM QuadBand Cell Phone', 8.890667079832626)] \n",
      "\n",
      "ahmet ->  [('Samsung (936) Galaxy Ace S5830I', 1), ('Vodafone (69) 858 Smart', 1), ('Vodafone (69) 858 Smart', 1), ('Vodafone (69) 858 Smart', 1), ('Samsung (936) Galaxy Ace S5830I', 1)] \n",
      "\n",
      "Артур ->  [('Sony Xperia Z1 Compact (лайм)', 9.874052872120902), ('Sony Xperia Z1 Compact (черный)', 9.804736112884111), ('Sony Xperia SP (красный)', 9.63653389576417), ('Sony Xperia SP (черный)', 9.30045078010837), ('Samsung Galaxy A3', 9.25212347847431)] \n",
      "\n",
      "Rebecca ->  [('Motorola Moto G 4G 5-Inch 2nd Generation UK SIM-Free Smartphone - Black', 8.03598942515147), ('HTC Desire 610 (AT&T Go Phone) No Annual Contract', 7.700443706285908), ('T-Mobile Prism II Prepaid Phone (T-Mobile)', 7.516641315508997), ('Huawei Ascend Y300 Smartphone (10,2 cm (4,0 Zoll) Touchscreen, 5 Megapixel, 4 GB Interner Speicher, Android 4.1.1 (Jelly Bean)) weiß', 6.959833200832148), ('Samsung Galaxy Reverb (Virgin Mobile)', 5.370461859012354)] \n",
      "\n",
      "Elisa ->  [('Samsung i9505 Galaxy S4 Smartphone, 16 GB, Nero [Italia] [Classe di efficienza energetica A+++]', 8.98440769394355), ('Huawei P8 Lite Smart Smartphone, 16GB, Argento', 8.951786335526954), ('Wiko Lenny 3 Smartphone, Dual-SIM, Memoria Interna da 16 GB, Oro', 8.943798206046413), ('Samsung J710 Galaxy J7 Smartphone da 16 GB, Oro [Italia]', 8.63343354994867), ('Huawei Ascend G525 Smartphone, Dual SIM, Nero', 8.363270392692634)] \n",
      "\n",
      "Василий ->  [('Samsung Galaxy J7 (2016)', 8.626061959934795), ('Nokia 5230 Navigation Edition', 8.414179648459148), ('Samsung N7100 Galaxy Note II 16GB (белый)', 8.349476863165135), ('Sony Xperia L (красный)', 8.081440644982111), ('Sony Xperia J (черный)', 6.860745376428907)] \n",
      "\n",
      "Вадим ->  [('Apple iPhone 5s 16GB (серый космос)', 9.404169579689214), ('Nokia X2-02 Bright Red', 9.396493003759284), ('Apple iPhone 5s 16GB (серебристый)', 9.318289965489003), ('Samsung S7270 Galaxy Ace 3 (красный)', 9.132353058608718), ('Samsung N7100 Galaxy Note II 16GB (серый)', 8.998297130522232)] \n",
      "\n",
      "Alexandra ->  [('Sony Ericsson Cedar Handy (UMTS, HSDPA, 2MP, 3.5mm Klinkenstecker, Micro-USB Anschluss) schwarz/silber', 10), ('Apple iPhone 5S 16GB Argento [Italia]', 8.823720735604107), ('Huawei P8lite zwart / 16 GB', 8.573596941561117), ('Apple iPhone 5C Factory Unlocked Cellphone, 8GB, White', 7.170852569424333)] \n",
      "\n",
      "Amit ->  [('OnePlus 3T (Gunmetal, 6GB RAM + 64GB memory)', 8.553653110734226), ('Mi Xiaomi Mi Max (Gold, 32GB)', 7.842684965507559), ('OnePlus X (Onyx, 16GB)', 7.727212993834588), ('Samsung Galaxy J7', 7.551581503508736), ('Lenovo A1000 (White)', 7.434708672847774)] \n",
      "\n",
      "Javi ->  [('LG G2 mini - Smartphone libre Android (Pantalla 4.7\", cámara 8 Mp, 8 GB, Quad-Core 1.2 GHz, 1 GB RAM), blanco (importado)', 7.591915241950649), (\"Samsung Galaxy A5 (2016) - Smartphone libre Android (5.2'', 13 MP, 2 GB RAM, 16 GB, 4G), color dorado\", 7.000304586847188), ('LG G3 - Smartphone libre Android (pantalla 5.5\", cámara 13 Mp, 16 GB, Quad-Core 2.5 GHz, 2 GB RAM), dorado', 6.792637462714881), ('Samsung Galaxy A5 - Smartphone libre Android (pantalla 5\", cámara 13 Mp, 16 GB, Quad-Core 1.2 GHz, 2 GB RAM), plateado (importado de Italia)', 6.443979455983012), ('Sony Xperia E1', 6.170168167309799)] \n",
      "\n",
      "sewut ->  [('Nokia N73 Cep Telefonu', 1), ('Samsung G810 Cep Telefonu', 1), ('Samsung innov8 (i8510) Cep Telefonu', 1), ('Sony Ericsson K850i Cep Telefonu', 1), ('Nokia 8800 Arte Cep Telefonu', 1)] \n",
      "\n",
      "Julien ->  [('HTC Desire', 9.989826613399677), ('HTC Desire', 9.989826613399677), ('Spigen Coque Galaxy S6 EDGE, Spigen [Boutons à Effet Métallisé] Coque de Protection pour Galaxy S6 EDGE **NOUVEAU** [Neo Hybrid] [Gunmetal] Coque Bumper / Protection Double-Couche en TPU et Cadre en Polycarbonate pour Galaxy S6 EDGE - Gunmetal (SGP11422)', 9.785127725006575), ('Samsung Galaxy S6 Smartphone débloqué 4G (5.1 pouces - 64 Go - Android 5.0 Lollipop) Noir (import Allemagne)', 8.515195343504718), ('Sony Mobile Xperia M4 Aqua Smartphone débloqué 4G (Ecran: 5 pouces - 16 Go - Double Nano-SIM - Android 5.0 Lollipop) Corail', 8.515195343504718)] \n",
      "\n",
      "Rafael ->  [('Nokia 6210 Navigator', 9.499200425374315), ('Huawei P8 Lite - Smartphone de 5\" (cámara 13 MP, 16 GB, HiSilicon Kirin 620 Octa Core 1.2 GHz, 2 GB RAM, Android L), color negro', 8.318788886077888), ('Samsung Galaxy SII HD LTE | Black', 8.129032258064516), ('Desconocido Xiaomi RedMi Note 4G LTE - Smartphone libre Android (pantalla 5.5\", cámara 13 Mp, 8 GB, Quad-Core 1.2 GHz, 1 GB RAM), blanco', 7.633597180150334), ('LG K10', 6.8604841063532795)] \n",
      "\n",
      "mustafa ->  [('Samsung I9190 Galaxy S4 Mini White', 9.602083333333333), ('Samsung I9500 Galaxy S4 White', 7.551581503508736), ('Nokia 5800 XpressMusic Cep Telefonu', 2.2666666666666666), ('Galaxy Ace S5830', 1), ('Vodafone (69) 858 Smart', 1)] \n",
      "\n",
      "kenankilic ->  [('Apple iPhone 3GS 16GB', 1)] \n",
      "\n",
      "Eva ->  [('Samsung Galaxy S3 Neo - Smartphone libre Android (pantalla 4.8\", cámara 8 Mp, 16 GB, Quad-Core 1.4 GHz, 1536 MB RAM), azul (importado)', 7.997777710576736), ('Nokia Lumia 635 (AT&T Go Phone) No Annual Contract', 7.80266145439994), ('Samsung Galaxy Y Duos S6102 - Smartphone libre (pantalla táctil de 3,14\" 240 x 320, cámara 3.15 Mp, 160.0 MB, procesador de 832 MHz, 290 MB de RAM, dual SIM, S.O. Android 2.3), negro (importado)', 7.751663740296861)] \n",
      "\n",
      "Emma ->  [('Huawei Honor 5X Unlocked Smartphone, 16GB Dark Grey (US Warranty)', 9.517757685089439), ('Samsung Rant', 9.16533854921279), ('Nokia Lumia 520 UK Sim Free Smartphone - Red', 8.095462476998698), ('Samsung Galaxy Light Smartphone SGH-T399 - Brown (T-Mobile)', 7.430204877200696), ('Kyocera Hydro C5170 PrePaid - Boost Mobile (discontinued by manufacturer)', 5.741658064455362)] \n",
      "\n",
      "Sunny ->  [('LG Electronics L70 Smartphone (11,4 cm (4,5 Zoll) Touchscreen, 1GB RAM, 4GB Flash-Speicher, 5 Megapixel Kamera, Android 4.4) schwarz', 10), ('Microsoft Nokia X3-02 Handy (Ohne Branding, 6,1 cm (2,4 Zoll) Display, Touchscreen, 5 Megapixel Kamera) pink', 7.952274885207345), ('HTC Desire X Smartphone (1 GHz Dual-Core Prozessor, 10,2 cm (4 Zoll) Touchscreen, 5 Megapixel Kamera, 4 GB interner Speicher, microSD-Kartenslot, Android 4.0.4) neutral weiß', 7.919162010408453), ('XOLO Q1000 Opus (Black)', 7.782608695652174), ('OnePlus 3 (Soft Gold, 64 GB)', 7.703937549099607)] \n",
      "\n",
      "Benjamin ->  [('Motorola RAZR V3x', 10), ('Samsung Galaxy S7 Edge zwart / 32 GB', 9.454499792811323), ('Huawei P8 Lite goud, wit / 16 GB', 8.769297513870221), ('HTC Sensation Smartphone (Android OS, 1.2 GHz dual core Prozessor, 8 MP Kamera) dunkelgrau', 8.072914142728337), ('Pantech Pocket P9060 Unlocked GSM Phone with Android 2.3 OS, Touchscreen, 5MP Camera, Video, GPS, Wi-Fi, SNS integration, MP3/MP4 Player and microSD Slot - Gray', 7.998463578225902)] \n",
      "\n",
      "diego ->  [('Huawei Ascend P6 Smartphone, 8 GB, Fotocamera 8 MP, Display 4.7 Pollici HD, Wi-Fi, Rosa', 9.655356271042558), ('Smartphone Samsung Galaxy Gran Prime TV SM-G530', 8.784224248869696), ('Smartphone LG L70 Dual D325 Preto com Tela de 4,5”, Dual Chip, Android 4.4, Câmera 8MP e Processador Snapdragon 200 1.2 GHz Dual-Core', 8.50986694569413), ('Nokia 3310', 7.975892383986414), ('Huawei P8 Lite-AM08 - Pack Smartphone Huawei P8 Lite negro con Altavoz portátil AM08 Gold (2 GB de RAM, 16 GB de memoria interna, cámara 13 Mpxs/8Mpx), color negro', 7.533546238227496)] \n",
      "\n",
      "nicola ->  [('Lenovo Motorola Moto G LTE Smartphone, Display 4.5\", Fotocamera 5 MP, Memoria 8 GB, Quad-Core 1.2 GHz, 1 GB RAM, Micro SD, Android 4.4.3, Bianco [Italia]', 9.164626947888351), ('Huawei Ascend G525 Smartphone, 4 GB, Dual SIM, Bianco', 8.2119931946968), ('Asus ZenFone 2 Laser Smartphone, Display da 5\", 16 GB, Dual SIM, Nero [Italia]', 7.625114165355245), ('Sony Ericsson C702i', 7.529411764705882), ('Samsung J100 Galaxy J1 Smartphone, 4GB, Bianco [Italia]', 7.170138712117138)] \n",
      "\n",
      "gulayy ->  [('Sony Ericsson K850i Cep Telefonu', 1), ('Nokia 6300 Cep Telefonu', 1), ('Nokia 6131 Cep Telefonu', 1), ('Sony Ericsson K850i Cep Telefonu', 1)] \n",
      "\n",
      "Salvatore ->  [('Lenovo Motorola Moto G 4G 3 Generazione Smartphone, Display 5\", Fotocamera 13 MP, Memoria 16 GB, Android 6 Lollipop, Nero [Italia]', 10), ('Lenovo Motorola Moto G Smartphone, 4,5 pollici display HD, processore Qualcomm, memoria 16GB, MicroSIM, Android 4.3 OS, fotocamera da 5 MP, Nero [Germania]', 10), ('Samsung J320 Galaxy J3 (2016) Dual SIM 5\", Quad Core, 8GB LTE, Nero [Italia]', 9.545825011031097), ('Samsung E1190 Telefono Cellulare [Germania]', 9.434090381071984), ('Nokia 105 Telefono Cellulare, Cyan [Italia]', 9.144628738328082)] \n",
      "\n",
      "peter ->  [('Huawei P8 grijs / 16 GB', 9.164338638448607), ('Sony Xperia Z5 zwart / 32 GB', 8.867991403132757), ('Huawei P8lite zwart / 16 GB', 8.739682240554497), ('Microsoft Nokia X3-02 Handy (Ohne Branding, 6,1 cm (2,4 Zoll) Display, Touchscreen, 5 Megapixel Kamera) pink', 8.51153083493912), ('Nokia Lumia 810 T-Mobile Phone, 4.3-Inch. 8GB with Windows 8 OS, 8MP Camera, Seconday 1.2MP Camera, Dual-Core Processor, Amoled Touchscreen, GPS, Wi-Fi, Bluetooth, Micro SD Slot Upto 64GB - Black', 7.613417585543086)] \n",
      "\n",
      "Pete ->  [('Nokia Lumia 630 UK SIM-Free Smartphone - Green (Windows, 4.5-inch, 8GB)', 10), ('Nokia 5800', 10), ('apple Iphone 4 Back glass cover (Black)', 9.976410519656977), ('Sony Ericsson P990i', 8.90075775464395), ('HTC One M7 - 32GB UK SIM-Free Smartphone - Silver (discontinued by manufacturer)', 8.16038542212676)] \n",
      "\n",
      "Flype (Felipe) ->  [('Elephone P6000 Pro Smartphone 4G, 5.0 Pulgadas 64bit Android 5.1 MTK6753 1.5GHz Octa Core 3GB 16GB Doble Cámaras (Blanco)', 8.440766905011582), (\"Lenovo Moto Moto G 5ª Generación - Smartphone libre Android 7 (pantalla de 5'' Full HD, 4G, cámara de 13 MP, 2 GB de RAM, 16 GB, Qualcomm Snapdragon 1.4 GHz), color dorado\", 7.7162029303715975)] \n",
      "\n",
      "Wendy ->  [('Vodafone Smart 4 Mini Pay as you go Handset - White', 10), ('LG G4 US991 32GB Smartphone (Unlocked, Black Leather)', 9.007017159827479), ('HTC Wildfire S Black', 8.649506962137325), ('LG Rumor Touch Prepaid Phone (Virgin Mobile)', 8.211024462321458), ('Samsung Galaxy S III i9300 Smartphone 16 GB (12,2 cm (4,8 Zoll) HD Super-AMOLED-Touchscreen, 8 Megapixel Kamera, Micro-SIM, Android 4.0) schwarz', 7.253838531484663)] \n",
      "\n",
      "Jerry ->  [('Samsung Galaxy S4 Smartphone, LTE, Schermo Full HD Super AMOLED da 5 pollici, Memoria Interna 16GB, Fotocamera 13 Mpixel, Android 4.2.2, Non Brandizzato, Colore Nero [Germania]', 9.84096662473906), ('Sony Xperia Z5 zwart / 32 GB', 9.497478056722485), ('Samsung Galaxy A5 (2016) zwart / 16 GB', 8.208762270092967)] \n",
      "\n",
      "Michel ->  [('Huawei P8 grijs / 16 GB', 8.398794308711242), ('Sony Xperia X zwart / 32 GB', 8.388920240431268), ('Doogee X5 Smartphone Débloqué 5.0 Pouce 1280 x 720 HD Écran 1.3GHz Quad Core Android 5.1 Double SIM Double Caméra 5.0MP & 2.0MP GPS pour plupart Opérateur Europe - Blanc', 8.103130292209492), ('Samsung Galaxy S7 Edge Factory Unlocked Phone 32 GB International Version (Black Onyx)', 7.429017774180572), ('Apple iPhone 6 Gold 128GB SIM-Free Smartphone (Zertifiziert und Generalüberholt)', 7.347781206070133)] \n",
      "\n",
      "angarali ->  [('Nokia N82 Cep Telefonu', 1), ('Apple iPhone 3GS 16GB', 1), ('Nokia N97 mini Cep Telefonu', 1), ('Nokia N82 Cep Telefonu', 1), ('Apple iPhone 3GS 16GB', 1)] \n",
      "\n",
      "patricia ->  [('ZTE Skate', 8.3701681673098), ('LG T385 Téléphone portable Ecran 3,2 pouces Bluetooth WiFi Noir', 7.0)] \n",
      "\n",
      "M. ->  [('LG Electronics P760 Optimus L9 Smartphone (Dual Core, 1GHz, 11,9 cm (4,7 Zoll) Touchscreen, 5 Megapixel Kamera, 1GB RAM, Android 4.0) weiß', 9.06668272173563), ('Microsoft Nokia N8 Smartphone (8,9 cm (3,5 Zoll) Touchscreen, 12 Megapixel Kamera, Pinch-Zoom, Ovi Karten) bronze', 9.018392050587172), ('Samsung Galaxy S5 mini Smartphone (4,5 Zoll (11,4 cm) Touch-Display, 16 GB Speicher, Android 4.4) gold', 8.002432342240024), ('Huawei Ascend Y300 Smartphone (10,2 cm (4,0 Zoll) Touchscreen, 5 Megapixel, 4 GB Interner Speicher, Android 4.1.1 (Jelly Bean)) weiß', 7.67199269547199), ('Samsung Galaxy Note 4 Smartphone (5,7 Zoll (14,5 cm) Touch-Display, 32 GB Speicher, Android 4.4) weiß', 7.439338752103396)] \n",
      "\n",
      "Danilo ->  [('Apple iPhone 4 32GB schwarz ohne Simlock', 10), ('Huawei P8 lite Smartphone, Display 5.0\" IPS, Dual Sim, Processore Octa-Core, Memoria 16 GB, Fotocamera 13 MP, Android 5.0, Bianco', 9.019177151502095), ('Apple iPhone 5 16GB bianco', 4.703210036282053)] \n",
      "\n",
      "Marcelo ->  [('LG A290', 9.483715185031208), ('Samsung Galaxy Y GT-S5360t Unlocked GSM Quadband Phone - Grey(International Version No Warranty)', 9.461024462321458), ('Smartphone Nokia Lumia 630 Preto Dual Sim, Tv Digital ,Windows Phone 8.1, Tela 4.5\", QuadCore 1.2GHz, Câm. 5MP, WiFi, Bluetooth e A-Gps -Tim', 6.9868141099137535), ('Samsung Galaxy Ace', 6.929386077896541), ('Nokia C2-06', 3.8303894080859795)] \n",
      "\n",
      "DAVID ->  [('APPLE iPhone 7 - Silver, 32 GB', 9.537896113449994), ('HUAWEI P9 Lite - 16 GB, Black', 8.706410568212988), ('SAMSUNG Galaxy A3 (2017) - 16 GB, Black', 8.403312512941268), ('HTC Desire 610 8GB Unlocked GSM 4G LTE Quad-Core Android Smartphone', 6.084995560207833)] \n",
      "\n",
      "ceren2006 ->  [('Samsung M150 Cep Telefonu', 1), ('Samsung M620 Cep Telefonu', 1)] \n",
      "\n",
      "Johnny ->  [('APPLE iPhone 6s Plus - 128 GB, Rose Gold', 10), ('Samsung Galaxy S5 Neo', 8.68421052631579), ('Samsung Galaxy Reverb (Virgin Mobile)', 7.198367467484395), ('BLU Jenny TV 2.8 T276T Unlocked GSM Dual-SIM Cell Phone w/ 1.3MP Camera - Unlocked Cell Phones - Retail Packaging - Black Blue', 7.160587215419429), ('HTC TyTN II', 4.558160106147723)] \n",
      "\n",
      "Anónimo  ->  [('LG G3 D855', 10), ('LG G3 D855', 10), ('LG G3 D855', 10), ('LG G3 D855', 10), ('LG G3 D855', 10)] \n",
      "\n",
      "emre ->  [('Huawei (178) U8850 Vision', 1), ('Vodafone (69) 945', 1), ('Samsung Galaxy Note5', 1), ('Nokia (438) C5-03', 1), ('Nokia 5800 XpressMusic Cep Telefonu', 1)] \n",
      "\n",
      "narn3049 ->  [('Rumor / Scoop / UX-260', 7.551581503508736), ('Curve 8330', 7.551581503508736), ('W385', 7.551581503508736)] \n",
      "\n",
      "Aaron ->  [('LG Motion 4G LTE Prepaid Android Phone (MetroPCS)', 7.751185227924337), ('LG G2 T-Mobile D801', 7.1917820881758106), ('HTC One M8 UK SIM-Free Smartphone - Gunmetal Grey', 5.883779049992367)] \n",
      "\n",
      "bruno ->  [('Lenovo Motorola Moto G Smartphone, Display HD 4,5\", Processore Qualcomm, Memoria 8 GB, MicroSIM, Android 4.4 OS, Fotocamera da 5 MP, Nero [Germania]', 8.373317072985962), ('Smartphone LG G2 D805', 8.353123962738547), ('Sony Ericsson K750i schwarz Handy', 8.310519044502781), ('Oukitel U7 Plus - 5,5 pollici HD Android 6.0 4G smartphone quad-core a 1,3 GHz 2 GB di RAM 16 GB ROM scanner di impronte digitali GPS Dual SIM 13 MP - Grigio', 8.15182456442529), (\"DOOGEE 5.0''DOOGEE X5 MAX PRO IPS 4G Smartphone Android 6.0 Marshmallow MT6737 Quad Core 1.3GHz Cellulare 2GB di RAM 16GB ROM Aria Gestione Impronte Digitali 4000mAh Dual ID GPS WIFI Bianco\", 7.896753386620032)] \n",
      "\n",
      "Roger ->  [('SAMSUNG Galaxy A3 (2017) - 16 GB, Black', 9.538696046041824), ('Samsung Galaxy A3 (2016)', 9.020439904903911), ('Sony Xperia Z5 zwart / 32 GB', 8.952671524636592), ('LG Electronics Google Nexus 5X Smartphone (5,2 Zoll (13,2 cm) Touch-Display, 16 GB interner Speicher, Android 6.0) quarz', 8.120710547313253), ('Vodafone Nokia 108 Mobile Phone - Black', 7.918586789554531)] \n",
      "\n",
      "kevin ->  [('LG G4 Smartphone Display IPS 5.5\" QHD, Fotocamera 16 MP, Memoria Interna 32 GB, 3 GB RAM, Colore Marrone', 7.90322611803342), ('Samsung E1200 Sim Free Mobile Phone - Discontinued by manufacturer', 7.662314360911914), ('Pantech P8000 Crossover Adventure Phone (Identical to Moon & Bannik) Unlocked GSM 3G for AT&T Touchscreen Plus QWERTY Android 2.2 Froyo 3MP Camera, WIFI, GPS', 7.625209260618372), ('Samsung Galaxy S4 Mini, 16GB (Verizon Wireless)', 6.675310176607172), ('Samsung Galaxy S5 SM-G900A GSM Unlocked Cellphone, 16GB, Black', 6.330681357859102)] \n",
      "\n",
      "Jean ->  [('Doro PhoneEasy 612i GSM Sim Free Mobile Phone - Aubergine', 8.309776459437034), ('Samsung Galaxy S7 Edge Factory Unlocked Phone 32 GB International Version (Black Onyx)', 4.925835337170544)] \n",
      "\n",
      "Gary ->  [('ZTE Axon 7 64GB Smartphone (Unlocked, Quartz Gray)', 9.527363231917644), ('Motorola Moto X Play UK SIM-Free Smartphone - White', 9.211475704420009)] \n",
      "\n",
      "DJ ->  [('Doro PhoneEasy 610 Mobile Phone (Black)', 9.461024462321458), ('Samsung Galaxy J3 (8GB)', 8.647817378103312), ('Samsung Galaxy S7 edge SM-G935F 32GB 4G Pink gold - Smartphone (SIM única, Android, NanoSIM, GSM, UMTS, WCDMA, LTE)', 6.516775824328411)] \n",
      "\n",
      "alberto ->  [('Honor 6 - Smartphone libre (pantalla de 5\", 16GB, 3 GB de RAM, cámara trasera de 13 MP y delantera de 5 MP, Android OS, v4.4.2 KitKat, LTE) negro', 9.116159291061816), ('Huawei P9 Lite Smartphone, LTE, Display 5,2” FHD, IPS, Processore Kirin 650, 3 GB RAM, Fotocamera 13 MP, Nero, (Marchio TIM) [Versione Italia]', 8.600711483950267), ('Microsoft Lumia 640 Smartphone, Dual-SIM, Display HD-IPS 5 Pollici, Processore Quad-Core 1,2GHz, Fotocamera 8 MP, Memoria 8GB, Win 8.1, Bianco [Germania]', 8.550002090092923), ('Sony Xperia Z1 Compact D5503 Android Smartphone (Black) International Version No Warranty', 8.443257257097217), ('Samsung Galaxy A3 (2016) 16GB White', 8.16352023804023)] \n",
      "\n",
      "umoo ->  [('Samsung innov8 (i8510) Cep Telefonu', 1), ('Nokia N81 Cep Telefonu', 1), ('Samsung Omnia (i900) Cep Telefonu', 1), ('Nokia E51 Cep Telefonu', 1)] \n",
      "\n",
      "Guillermo ->  [('Nokia 220 RM-971 Unlocked Cell Phone with 2MP Camera (White)', 10), ('LG Nexus 5X Unlocked Smartphone - White 32GB (U.S. Warranty)', 7.126702301290796), ('Jiayu G4S', 5.644031000432946)] \n",
      "\n",
      "Christina ->  [('SAMSUNG Galaxy A3 (2017) - 16 GB, Black', 9.048338507963203), ('Tracfone LG TracFone 306G No Contract, 2.0 megapixel Camera, 3.2-Inch screen, Black, Retail Packaging', 8.597246596734951), ('Samsung C3050 Handy (VGA-Kamera, MP3-Player, WAP, Quad Band) [EU-Version] midnight-black', 7.578099907824335), ('Huawei Sonic U8650 Smartphone (8,8 cm (3,5 Zoll) Display, 3,2 Megapixel Kamera, 512 MB Interner Speicher, Android 2.3) schwarz', 7.1556043835273355), ('LG Google Nexus 5 Unlocked Phone D821, 16 GB, Black - No 4G in USA - International Version No Warranty', 6.590245817574624)] \n",
      "\n",
      "retkit ->  [('Nokia E51 Cep Telefonu', 1)] \n",
      "\n",
      "sadik ->  [('Nokia N82 Cep Telefonu', 1.6), ('Nokia N97 mini Cep Telefonu', 1)] \n",
      "\n",
      "Olivier ->  [('Nokia 108 Telefono Cellulare, Dual SIM, Bianco [Italia]', 4.329702929092878)] \n",
      "\n"
     ]
    }
   ],
   "source": [
    "\n",
    "#recommend top 5 products for test users\n",
    "top_5 = get_top_n(knn_user_test_pred,5)\n",
    "print('Top 5 recommendations for all test users are: \\n')\n",
    "for key,value in top_5.items(): print(key,'-> ',value,'\\n')"
   ]
  },
  {
   "cell_type": "markdown",
   "id": "5a5c86fa",
   "metadata": {},
   "source": [
    "<span style=\"font-family: Arial; font-weight:bold;font-size:1.5em;color:#00b3e5;\">9. Try other techniques (Example: cross validation) to get better results. [3 Marks]"
   ]
  },
  {
   "cell_type": "markdown",
   "id": "4306572e",
   "metadata": {},
   "source": [
    "## Cross valiation for SVD model, KNN item based and User Based"
   ]
  },
  {
   "cell_type": "code",
   "execution_count": 243,
   "id": "6b2f80cb",
   "metadata": {},
   "outputs": [],
   "source": [
    "# cross validation score\n",
    "from surprise.model_selection import cross_validate"
   ]
  },
  {
   "cell_type": "code",
   "execution_count": 242,
   "id": "889e798e",
   "metadata": {},
   "outputs": [
    {
     "name": "stdout",
     "output_type": "stream",
     "text": [
      "\n",
      " Mean svd cv score: 2.8 \n",
      "\n"
     ]
    },
    {
     "data": {
      "text/plain": [
       "{'test_rmse': array([2.80099296, 2.82149012, 2.81702757, 2.79625825, 2.76155505]),\n",
       " 'fit_time': (1.7068333625793457,\n",
       "  1.5659844875335693,\n",
       "  1.6708228588104248,\n",
       "  1.5976626873016357,\n",
       "  1.6296942234039307),\n",
       " 'test_time': (0.16436004638671875,\n",
       "  1.4984261989593506,\n",
       "  0.12366437911987305,\n",
       "  0.1186823844909668,\n",
       "  0.13959622383117676)}"
      ]
     },
     "execution_count": 242,
     "metadata": {},
     "output_type": "execute_result"
    }
   ],
   "source": [
    "svd_cv = cross_validate(svd_model,data, measures=['RMSE'], cv=5, verbose=False)\n",
    "print('\\n Mean svd cv score:', round(svd_cv['test_rmse'].mean(),2),'\\n')\n",
    "svd_cv"
   ]
  },
  {
   "cell_type": "code",
   "execution_count": 248,
   "id": "72ed6e87",
   "metadata": {},
   "outputs": [
    {
     "name": "stdout",
     "output_type": "stream",
     "text": [
      "Computing the cosine similarity matrix...\n",
      "Done computing similarity matrix.\n",
      "Computing the cosine similarity matrix...\n",
      "Done computing similarity matrix.\n",
      "Computing the cosine similarity matrix...\n",
      "Done computing similarity matrix.\n",
      "Computing the cosine similarity matrix...\n",
      "Done computing similarity matrix.\n",
      "Computing the cosine similarity matrix...\n",
      "Done computing similarity matrix.\n",
      "\n",
      " Mean of cv_knn_item_based score: 2.82 \n",
      "\n"
     ]
    },
    {
     "data": {
      "text/plain": [
       "{'test_rmse': array([2.7933582 , 2.85103829, 2.80876801, 2.8267198 , 2.82988761]),\n",
       " 'fit_time': (206.3041868209839,\n",
       "  213.7365643978119,\n",
       "  197.35248351097107,\n",
       "  203.11611413955688,\n",
       "  211.90627670288086),\n",
       " 'test_time': (245.0111768245697,\n",
       "  238.41536808013916,\n",
       "  237.9913785457611,\n",
       "  233.53376245498657,\n",
       "  270.4068486690521)}"
      ]
     },
     "execution_count": 248,
     "metadata": {},
     "output_type": "execute_result"
    }
   ],
   "source": [
    "cv_knn_item_based = cross_validate(knn_model_item_based,data, measures=['RMSE'], cv=5, verbose=False)\n",
    "print('\\n Mean of cv_knn_item_based score:', round(cv_knn_item_based['test_rmse'].mean(),2),'\\n')\n",
    "cv_knn_item_based"
   ]
  },
  {
   "cell_type": "code",
   "execution_count": null,
   "id": "9a1dbd5d",
   "metadata": {},
   "outputs": [],
   "source": [
    "## User based\n"
   ]
  },
  {
   "cell_type": "code",
   "execution_count": 249,
   "id": "fc2f56e9",
   "metadata": {},
   "outputs": [
    {
     "name": "stdout",
     "output_type": "stream",
     "text": [
      "Computing the cosine similarity matrix...\n",
      "Done computing similarity matrix.\n",
      "Computing the cosine similarity matrix...\n",
      "Done computing similarity matrix.\n",
      "Computing the cosine similarity matrix...\n",
      "Done computing similarity matrix.\n",
      "Computing the cosine similarity matrix...\n",
      "Done computing similarity matrix.\n",
      "Computing the cosine similarity matrix...\n",
      "Done computing similarity matrix.\n",
      "\n",
      " Mean of cv_knn_user_based score: 2.81 \n",
      "\n"
     ]
    },
    {
     "data": {
      "text/plain": [
       "{'test_rmse': array([2.82732006, 2.82454761, 2.79596615, 2.80644652, 2.81468267]),\n",
       " 'fit_time': (1.7616562843322754,\n",
       "  1.7695260047912598,\n",
       "  1.6451025009155273,\n",
       "  1.6276087760925293,\n",
       "  1.640866994857788),\n",
       " 'test_time': (2.6302740573883057,\n",
       "  2.5974507331848145,\n",
       "  2.596815586090088,\n",
       "  2.5951087474823,\n",
       "  2.5511322021484375)}"
      ]
     },
     "execution_count": 249,
     "metadata": {},
     "output_type": "execute_result"
    }
   ],
   "source": [
    "cv_knn_user_based = cross_validate(knn_model_user,data, measures=['RMSE'], cv=5, verbose=False)\n",
    "print('\\n Mean of cv_knn_user_based score:', round(cv_knn_user_based['test_rmse'].mean(),2),'\\n')\n",
    "cv_knn_user_based\n"
   ]
  },
  {
   "cell_type": "markdown",
   "id": "a9893c8a",
   "metadata": {},
   "source": [
    "### Comments:"
   ]
  },
  {
   "cell_type": "markdown",
   "id": "4527d1e2",
   "metadata": {},
   "source": [
    "* Cross validation is done for all the 3 models, the mean RMSE is as follows"
   ]
  },
  {
   "cell_type": "markdown",
   "id": "e97ed533",
   "metadata": {},
   "source": [
    "Mode Name | Mean RMSE on Cross validation\n",
    "------------- | -------------\n",
    "SVD model  |2.8\n",
    "KNN item based |2.82\n",
    "KNN user based | 2.81"
   ]
  },
  {
   "cell_type": "markdown",
   "id": "85e42225",
   "metadata": {},
   "source": [
    "All the 3 models RMSE_mean after Cross validation almost same. But SVD model(**2.8**) is best comparted to other two.<br>\n",
    "* However, Item based approach is usually **preferred** over user-based approach. <br>\n",
    "* **User-based approach** is often **harder to scale**because of the dynamic nature of users,<br>\n",
    "* whereas items usually don’t change much, and item based approach often can be computed offline and served without constantly re-training.<br>"
   ]
  },
  {
   "cell_type": "markdown",
   "id": "a7d24657",
   "metadata": {},
   "source": [
    "<span style=\"font-family: Arial; font-weight:bold;font-size:1.5em;color:#00b3e5;\">10. In what business scenario you should use popularity based Recommendation Systems ? [2 Marks]"
   ]
  },
  {
   "cell_type": "markdown",
   "id": "dd7beffd",
   "metadata": {},
   "source": [
    "Popularity based recommendation system helps to find the popular item or item in Trend. \n",
    "* This Recommendation system can be used in pleothera of domains\n",
    "* In **media**, it helps to recommend popular movies , songs, audio books, videos etc\n",
    "* In **Job search** sites, it would help to recommend popular vacancies or job recommendations\n",
    "* In **telecom industry** also this can be used. As telecom products and services are less, its simple recommendation system.\n",
    "* In **travel and tourism**, this can be used to recommend popular tourist spots\n",
    "* In **online food delivery**, the popular food can be recommended for newly signed up users\n",
    "* Most **popular restaurants** or hotels on city can be recommended.\n",
    "\n",
    "The above list describes the possible domains where popularity based recommender system is used.\n",
    "\n",
    "Apart from the above, following are the business scenarios to use Popularity based Recommendation system.\n",
    "\n",
    "**Scenario 1: Customer retention or customer engagement** :<br>\n",
    "If you want to retain the customer from going away to another product or site by recommending the best products available.\n",
    "For example, the Netflix can recommend the popular movies available, so the user will think of adding that into watchlist rather than looking for good movies in other site.\n",
    "\n",
    "**Scenario 2: Product Reach** :<br>\n",
    "To increase the product Reach. For example this recommendation system,recommending popular items product reach to customer is made easy.\n",
    "\n",
    "\n",
    "**Scenario 3: Improve Return on Investment** :<br>\n",
    "By simply recomending the popular items, makes the customer to purchase more rather than any other specific advertisement which will increase the Return on Investment on Business.\n",
    "\n",
    "**Scenario 4: Influnce clueless Shopper** : <br>\n",
    "While a shopper is clueless the poularity based RS is like a boon persuading him for the right purchase"
   ]
  },
  {
   "cell_type": "markdown",
   "id": "ce8c1bc4",
   "metadata": {},
   "source": [
    "<span style=\"font-family: Arial; font-weight:bold;font-size:1.5em;color:#00b3e5;\">11. In what business scenario you should use CF based Recommendation Systems ? [2 Marks]"
   ]
  },
  {
   "cell_type": "markdown",
   "id": "3eeb2c88",
   "metadata": {},
   "source": [
    "Collaborative Filtering is a very powerful mechanism which works on product user data based on the User Affinities and user shopping behaviour."
   ]
  },
  {
   "cell_type": "markdown",
   "id": "1b6fda92",
   "metadata": {},
   "source": [
    "**Scenario 1 : To Recommend Product** <br>\n",
    "Based on the user history and behaviour prodcucts can be recommeneded based on the similiar user behaviour.\n",
    "\n",
    "**Scenario 2 : Improve user experience** <br>\n",
    "As products or services are recommended based on his preferences or choices made before, user wil be delighted to see the recommendations coming up automatically with his interest.\n",
    "\n",
    "**Scenario 3 : Increase sales and cross selling** <br>\n",
    "As items can be recommmended based on user behaviour, when we need to increase more sales, the recommendation system can be usee.\n",
    "\n",
    "coming up automatically with his interest.\n",
    "\n",
    "**Scenario 4 : To improve the related learning** <br>\n",
    "Recommendation systems can be used when you suggest some thing related to the knowledge base user is looking for. Example the course can be recommended based on the user baheviour and interest so he can make best choices. Similarly in college or schools this systems can be used to suggest related books and subject that would help individual to gain the depth of knowledge as we recommend what kind of books or courses the similar user is going through.\n",
    "\n"
   ]
  },
  {
   "cell_type": "markdown",
   "id": "43c69554",
   "metadata": {},
   "source": [
    "<span style=\"font-family: Arial; font-weight:bold;font-size:1.5em;color:#00b3e5;\">12. What other possible methods can you think of which can further improve the recommendation for different users ? [2 Marks]"
   ]
  },
  {
   "cell_type": "markdown",
   "id": "7bbe1ae2",
   "metadata": {},
   "source": [
    " Recommendation system is having wide scope. This can be either more specialized or generalised as per needs Following are some of the possible methods I can think of\n",
    "    \n",
    "* Giving recommendation based on Demography, as choices vary according to the demography\n",
    "* Recommend options based on the experience/ qualification  a user have , so the recommendation can be more specific to him.\n",
    "* Hybrid systems to give both popularity based and personalised to improve their experience\n",
    "* Interactive Recommendation to cope up users current expectation\n",
    "* Context based recommendations rather than general one\n",
    "* In health care Recommendation systems would be helpful for the doctors to analyse the patient health based on similar patients health history\n"
   ]
  }
 ],
 "metadata": {
  "kernelspec": {
   "display_name": "Python 3",
   "language": "python",
   "name": "python3"
  },
  "language_info": {
   "codemirror_mode": {
    "name": "ipython",
    "version": 3
   },
   "file_extension": ".py",
   "mimetype": "text/x-python",
   "name": "python",
   "nbconvert_exporter": "python",
   "pygments_lexer": "ipython3",
   "version": "3.8.8"
  }
 },
 "nbformat": 4,
 "nbformat_minor": 5
}
