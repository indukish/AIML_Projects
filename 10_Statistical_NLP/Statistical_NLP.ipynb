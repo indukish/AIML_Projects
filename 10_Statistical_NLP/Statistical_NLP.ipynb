{
 "cells": [
  {
   "cell_type": "markdown",
   "id": "dfbd7b03",
   "metadata": {},
   "source": [
    "## Author : Indumathi Pandiyan"
   ]
  },
  {
   "cell_type": "markdown",
   "id": "60e0e443",
   "metadata": {},
   "source": [
    "<span style=\"font-family: Arial; font-weight:bold;font-size:1.5em;color:#00008B;\">**Project on Statistical NLP** (Module 1) submitted for PGP-AIML Great Learning on 02-July-2022"
   ]
  },
  {
   "cell_type": "markdown",
   "id": "ffe17c9a",
   "metadata": {},
   "source": [
    "## Part A - 40 Marks"
   ]
  },
  {
   "cell_type": "markdown",
   "id": "48af4082",
   "metadata": {},
   "source": [
    "• **DOMAIN:** Digital content management"
   ]
  },
  {
   "cell_type": "markdown",
   "id": "5f1e5839",
   "metadata": {},
   "source": [
    "• **CONTEXT:** Classification is probably the most popular task that you would deal with in real life. Text in the form of blogs, posts, articles, etc. are written every second. It is a challenge to predict the information about the writer without knowing about him/her. We are going to create a classifier that predicts multiple features of the author of a given text. We have designed it as a Multi label classification problem"
   ]
  },
  {
   "cell_type": "markdown",
   "id": "eca06c61",
   "metadata": {},
   "source": [
    "• **DATA DESCRIPTION:** Over 600,000 posts from more than 19 thousand bloggers The Blog Authorship Corpus consists of the collected posts of \n",
    "19,320 bloggers gathered from blogger.com in August 2004. The corpus incorporates a total of 681,288 posts and over 140 million words - or \n",
    "approximately 35 posts and 7250 words per person. Each blog is presented as a separate file, the name of which indicates a blogger id# and \n",
    "the blogger’s self-provided gender, age, industry, and astrological sign. (All are labelled for gender and age but for many, industry and/or sign is \n",
    "marked as unknown.) All bloggers included in the corpus fall into one of three age groups:\n",
    "• 8240 \"10s\" blogs (ages 13-17),\n",
    "• 8086 \"20s\" blogs(ages 23-27) and\n",
    "• 2994 \"30s\" blogs (ages 33-47)\n",
    "• For each age group, there is an equal number of male and female bloggers. Each blog in the corpus includes at least 200 occurrences of \n",
    "common English words. All formatting has been stripped with two exceptions. Individual posts within a single blogger are separated by the \n",
    "date of the following post and links within a post are denoted by the label url lin"
   ]
  },
  {
   "cell_type": "markdown",
   "id": "7ee3ccad",
   "metadata": {},
   "source": [
    "**PROJECT OBJECTIVE:** To build a NLP classifier which can use input text parameters to determine the label/s of the blog. Specific to this case \n",
    "study, you can consider the text of the blog: ‘text’ feature as independent variable and ‘topic’ as dependent variable"
   ]
  },
  {
   "cell_type": "markdown",
   "id": "e5885659",
   "metadata": {},
   "source": [
    "### Steps and tasks: [ Total Score: 40 Marks]"
   ]
  },
  {
   "cell_type": "code",
   "execution_count": 160,
   "id": "8384b343",
   "metadata": {},
   "outputs": [],
   "source": [
    "import numpy as np # linear algebra\n",
    "import pandas as pd # data processing, CSV file I/O (e.g. pd.read_csv)"
   ]
  },
  {
   "cell_type": "code",
   "execution_count": 551,
   "id": "d53f4a0d",
   "metadata": {},
   "outputs": [],
   "source": [
    "#for text pre-processing\n",
    "import re, string\n",
    "import nltk\n",
    "from nltk.tokenize import word_tokenize\n",
    "from nltk.corpus import stopwords\n",
    "from nltk.tokenize import word_tokenize\n",
    "from nltk.stem import SnowballStemmer\n",
    "from nltk.corpus import wordnet\n",
    "from nltk.stem import WordNetLemmatizer\n",
    "\n",
    "\n",
    "#for model-building\n",
    "from sklearn.model_selection import train_test_split\n",
    "from sklearn.linear_model import LogisticRegression\n",
    "from sklearn.naive_bayes import MultinomialNB\n",
    "from sklearn.metrics import classification_report, f1_score, accuracy_score, confusion_matrix\n",
    "from sklearn.metrics import roc_curve, auc, roc_auc_score\n",
    "\n",
    "# bag of words\n",
    "from sklearn.feature_extraction.text import TfidfVectorizer\n",
    "from sklearn.feature_extraction.text import CountVectorizer\n",
    "\n",
    "#for word embedding\n",
    "import gensim\n",
    "from gensim.models import Word2Vec"
   ]
  },
  {
   "cell_type": "code",
   "execution_count": 552,
   "id": "f61bbada",
   "metadata": {},
   "outputs": [
    {
     "name": "stderr",
     "output_type": "stream",
     "text": [
      "[nltk_data] Downloading package punkt to\n",
      "[nltk_data]     C:\\Users\\indukishen\\AppData\\Roaming\\nltk_data...\n",
      "[nltk_data]   Package punkt is already up-to-date!\n",
      "[nltk_data] Downloading package averaged_perceptron_tagger to\n",
      "[nltk_data]     C:\\Users\\indukishen\\AppData\\Roaming\\nltk_data...\n",
      "[nltk_data]   Package averaged_perceptron_tagger is already up-to-\n",
      "[nltk_data]       date!\n",
      "[nltk_data] Downloading package wordnet to\n",
      "[nltk_data]     C:\\Users\\indukishen\\AppData\\Roaming\\nltk_data...\n",
      "[nltk_data]   Package wordnet is already up-to-date!\n"
     ]
    },
    {
     "data": {
      "text/plain": [
       "True"
      ]
     },
     "execution_count": 552,
     "metadata": {},
     "output_type": "execute_result"
    }
   ],
   "source": [
    "\n",
    "nltk.download('punkt')\n",
    "nltk.download('averaged_perceptron_tagger')\n",
    "nltk.download('wordnet')"
   ]
  },
  {
   "cell_type": "markdown",
   "id": "4544906f",
   "metadata": {},
   "source": [
    "<span style=\"font-family: Arial; font-weight:bold;font-size:1.5em;color:#00b3e5;\">1. Read and Analyse Dataset. [5 Marks]"
   ]
  },
  {
   "cell_type": "markdown",
   "id": "452d00fa",
   "metadata": {},
   "source": [
    "### Load the contents of the zip File"
   ]
  },
  {
   "cell_type": "code",
   "execution_count": 553,
   "id": "4809465a",
   "metadata": {},
   "outputs": [],
   "source": [
    "from zipfile import ZipFile\n",
    "\n",
    "with ZipFile('blogs.zip', 'r') as zipdata:\n",
    "    data_csv = zipdata.open('blogtext.csv')"
   ]
  },
  {
   "cell_type": "markdown",
   "id": "5e64527f",
   "metadata": {},
   "source": [
    "### Set the csv to local dataframe"
   ]
  },
  {
   "cell_type": "code",
   "execution_count": 554,
   "id": "d8e12c23",
   "metadata": {},
   "outputs": [],
   "source": [
    "# First Reading csv File\n",
    "blog_text=pd.read_csv(data_csv)"
   ]
  },
  {
   "cell_type": "code",
   "execution_count": 555,
   "id": "ce22d1ed",
   "metadata": {},
   "outputs": [
    {
     "data": {
      "text/html": [
       "<div>\n",
       "<style scoped>\n",
       "    .dataframe tbody tr th:only-of-type {\n",
       "        vertical-align: middle;\n",
       "    }\n",
       "\n",
       "    .dataframe tbody tr th {\n",
       "        vertical-align: top;\n",
       "    }\n",
       "\n",
       "    .dataframe thead th {\n",
       "        text-align: right;\n",
       "    }\n",
       "</style>\n",
       "<table border=\"1\" class=\"dataframe\">\n",
       "  <thead>\n",
       "    <tr style=\"text-align: right;\">\n",
       "      <th></th>\n",
       "      <th>id</th>\n",
       "      <th>gender</th>\n",
       "      <th>age</th>\n",
       "      <th>topic</th>\n",
       "      <th>sign</th>\n",
       "      <th>date</th>\n",
       "      <th>text</th>\n",
       "    </tr>\n",
       "  </thead>\n",
       "  <tbody>\n",
       "    <tr>\n",
       "      <th>0</th>\n",
       "      <td>2059027</td>\n",
       "      <td>male</td>\n",
       "      <td>15</td>\n",
       "      <td>Student</td>\n",
       "      <td>Leo</td>\n",
       "      <td>14,May,2004</td>\n",
       "      <td>Info has been found (+/- 100 pages,...</td>\n",
       "    </tr>\n",
       "    <tr>\n",
       "      <th>1</th>\n",
       "      <td>2059027</td>\n",
       "      <td>male</td>\n",
       "      <td>15</td>\n",
       "      <td>Student</td>\n",
       "      <td>Leo</td>\n",
       "      <td>13,May,2004</td>\n",
       "      <td>These are the team members:   Drewe...</td>\n",
       "    </tr>\n",
       "    <tr>\n",
       "      <th>2</th>\n",
       "      <td>2059027</td>\n",
       "      <td>male</td>\n",
       "      <td>15</td>\n",
       "      <td>Student</td>\n",
       "      <td>Leo</td>\n",
       "      <td>12,May,2004</td>\n",
       "      <td>In het kader van kernfusie op aarde...</td>\n",
       "    </tr>\n",
       "    <tr>\n",
       "      <th>3</th>\n",
       "      <td>2059027</td>\n",
       "      <td>male</td>\n",
       "      <td>15</td>\n",
       "      <td>Student</td>\n",
       "      <td>Leo</td>\n",
       "      <td>12,May,2004</td>\n",
       "      <td>testing!!!  testing!!!</td>\n",
       "    </tr>\n",
       "    <tr>\n",
       "      <th>4</th>\n",
       "      <td>3581210</td>\n",
       "      <td>male</td>\n",
       "      <td>33</td>\n",
       "      <td>InvestmentBanking</td>\n",
       "      <td>Aquarius</td>\n",
       "      <td>11,June,2004</td>\n",
       "      <td>Thanks to Yahoo!'s Toolbar I can ...</td>\n",
       "    </tr>\n",
       "    <tr>\n",
       "      <th>5</th>\n",
       "      <td>3581210</td>\n",
       "      <td>male</td>\n",
       "      <td>33</td>\n",
       "      <td>InvestmentBanking</td>\n",
       "      <td>Aquarius</td>\n",
       "      <td>10,June,2004</td>\n",
       "      <td>I had an interesting conversation...</td>\n",
       "    </tr>\n",
       "    <tr>\n",
       "      <th>6</th>\n",
       "      <td>3581210</td>\n",
       "      <td>male</td>\n",
       "      <td>33</td>\n",
       "      <td>InvestmentBanking</td>\n",
       "      <td>Aquarius</td>\n",
       "      <td>10,June,2004</td>\n",
       "      <td>Somehow Coca-Cola has a way of su...</td>\n",
       "    </tr>\n",
       "    <tr>\n",
       "      <th>7</th>\n",
       "      <td>3581210</td>\n",
       "      <td>male</td>\n",
       "      <td>33</td>\n",
       "      <td>InvestmentBanking</td>\n",
       "      <td>Aquarius</td>\n",
       "      <td>10,June,2004</td>\n",
       "      <td>If anything, Korea is a country o...</td>\n",
       "    </tr>\n",
       "    <tr>\n",
       "      <th>8</th>\n",
       "      <td>3581210</td>\n",
       "      <td>male</td>\n",
       "      <td>33</td>\n",
       "      <td>InvestmentBanking</td>\n",
       "      <td>Aquarius</td>\n",
       "      <td>10,June,2004</td>\n",
       "      <td>Take a read of this news article ...</td>\n",
       "    </tr>\n",
       "    <tr>\n",
       "      <th>9</th>\n",
       "      <td>3581210</td>\n",
       "      <td>male</td>\n",
       "      <td>33</td>\n",
       "      <td>InvestmentBanking</td>\n",
       "      <td>Aquarius</td>\n",
       "      <td>09,June,2004</td>\n",
       "      <td>I surf the English news sites a l...</td>\n",
       "    </tr>\n",
       "  </tbody>\n",
       "</table>\n",
       "</div>"
      ],
      "text/plain": [
       "        id gender  age              topic      sign          date  \\\n",
       "0  2059027   male   15            Student       Leo   14,May,2004   \n",
       "1  2059027   male   15            Student       Leo   13,May,2004   \n",
       "2  2059027   male   15            Student       Leo   12,May,2004   \n",
       "3  2059027   male   15            Student       Leo   12,May,2004   \n",
       "4  3581210   male   33  InvestmentBanking  Aquarius  11,June,2004   \n",
       "5  3581210   male   33  InvestmentBanking  Aquarius  10,June,2004   \n",
       "6  3581210   male   33  InvestmentBanking  Aquarius  10,June,2004   \n",
       "7  3581210   male   33  InvestmentBanking  Aquarius  10,June,2004   \n",
       "8  3581210   male   33  InvestmentBanking  Aquarius  10,June,2004   \n",
       "9  3581210   male   33  InvestmentBanking  Aquarius  09,June,2004   \n",
       "\n",
       "                                                text  \n",
       "0             Info has been found (+/- 100 pages,...  \n",
       "1             These are the team members:   Drewe...  \n",
       "2             In het kader van kernfusie op aarde...  \n",
       "3                   testing!!!  testing!!!            \n",
       "4               Thanks to Yahoo!'s Toolbar I can ...  \n",
       "5               I had an interesting conversation...  \n",
       "6               Somehow Coca-Cola has a way of su...  \n",
       "7               If anything, Korea is a country o...  \n",
       "8               Take a read of this news article ...  \n",
       "9               I surf the English news sites a l...  "
      ]
     },
     "execution_count": 555,
     "metadata": {},
     "output_type": "execute_result"
    }
   ],
   "source": [
    "\n",
    "blog_text.head(10)"
   ]
  },
  {
   "cell_type": "code",
   "execution_count": 556,
   "id": "0d9e8324",
   "metadata": {},
   "outputs": [
    {
     "data": {
      "text/html": [
       "<div>\n",
       "<style scoped>\n",
       "    .dataframe tbody tr th:only-of-type {\n",
       "        vertical-align: middle;\n",
       "    }\n",
       "\n",
       "    .dataframe tbody tr th {\n",
       "        vertical-align: top;\n",
       "    }\n",
       "\n",
       "    .dataframe thead th {\n",
       "        text-align: right;\n",
       "    }\n",
       "</style>\n",
       "<table border=\"1\" class=\"dataframe\">\n",
       "  <thead>\n",
       "    <tr style=\"text-align: right;\">\n",
       "      <th></th>\n",
       "      <th>0</th>\n",
       "      <th>1</th>\n",
       "      <th>2</th>\n",
       "    </tr>\n",
       "  </thead>\n",
       "  <tbody>\n",
       "    <tr>\n",
       "      <th>id</th>\n",
       "      <td>2059027</td>\n",
       "      <td>2059027</td>\n",
       "      <td>2059027</td>\n",
       "    </tr>\n",
       "    <tr>\n",
       "      <th>gender</th>\n",
       "      <td>male</td>\n",
       "      <td>male</td>\n",
       "      <td>male</td>\n",
       "    </tr>\n",
       "    <tr>\n",
       "      <th>age</th>\n",
       "      <td>15</td>\n",
       "      <td>15</td>\n",
       "      <td>15</td>\n",
       "    </tr>\n",
       "    <tr>\n",
       "      <th>topic</th>\n",
       "      <td>Student</td>\n",
       "      <td>Student</td>\n",
       "      <td>Student</td>\n",
       "    </tr>\n",
       "    <tr>\n",
       "      <th>sign</th>\n",
       "      <td>Leo</td>\n",
       "      <td>Leo</td>\n",
       "      <td>Leo</td>\n",
       "    </tr>\n",
       "    <tr>\n",
       "      <th>date</th>\n",
       "      <td>14,May,2004</td>\n",
       "      <td>13,May,2004</td>\n",
       "      <td>12,May,2004</td>\n",
       "    </tr>\n",
       "    <tr>\n",
       "      <th>text</th>\n",
       "      <td>Info has been found (+/- 100 pages,...</td>\n",
       "      <td>These are the team members:   Drewe...</td>\n",
       "      <td>In het kader van kernfusie op aarde...</td>\n",
       "    </tr>\n",
       "  </tbody>\n",
       "</table>\n",
       "</div>"
      ],
      "text/plain": [
       "                                                        0  \\\n",
       "id                                                2059027   \n",
       "gender                                               male   \n",
       "age                                                    15   \n",
       "topic                                             Student   \n",
       "sign                                                  Leo   \n",
       "date                                          14,May,2004   \n",
       "text               Info has been found (+/- 100 pages,...   \n",
       "\n",
       "                                                        1  \\\n",
       "id                                                2059027   \n",
       "gender                                               male   \n",
       "age                                                    15   \n",
       "topic                                             Student   \n",
       "sign                                                  Leo   \n",
       "date                                          13,May,2004   \n",
       "text               These are the team members:   Drewe...   \n",
       "\n",
       "                                                        2  \n",
       "id                                                2059027  \n",
       "gender                                               male  \n",
       "age                                                    15  \n",
       "topic                                             Student  \n",
       "sign                                                  Leo  \n",
       "date                                          12,May,2004  \n",
       "text               In het kader van kernfusie op aarde...  "
      ]
     },
     "execution_count": 556,
     "metadata": {},
     "output_type": "execute_result"
    }
   ],
   "source": [
    "blog_text.head(3).T"
   ]
  },
  {
   "cell_type": "markdown",
   "id": "88739132",
   "metadata": {},
   "source": [
    "### Delete the csv to free memory"
   ]
  },
  {
   "cell_type": "code",
   "execution_count": 557,
   "id": "7e7382b6",
   "metadata": {},
   "outputs": [],
   "source": [
    "del data_csv"
   ]
  },
  {
   "cell_type": "code",
   "execution_count": 558,
   "id": "2715f5a5",
   "metadata": {},
   "outputs": [],
   "source": [
    "##"
   ]
  },
  {
   "cell_type": "markdown",
   "id": "9425abc1",
   "metadata": {},
   "source": [
    "<span style=\"font-family: Arial; font-weight:bold;font-size:1.5em;color:#00b3e5;\">A. Clearly write outcome of data analysis(Minimum 2 points) [2 Marks]"
   ]
  },
  {
   "cell_type": "markdown",
   "id": "255ed391",
   "metadata": {},
   "source": [
    "## Data Analysis"
   ]
  },
  {
   "cell_type": "markdown",
   "id": "b9026a3a",
   "metadata": {},
   "source": [
    "### Get the names of columns"
   ]
  },
  {
   "cell_type": "code",
   "execution_count": 559,
   "id": "11557669",
   "metadata": {},
   "outputs": [
    {
     "data": {
      "text/plain": [
       "Index(['id', 'gender', 'age', 'topic', 'sign', 'date', 'text'], dtype='object')"
      ]
     },
     "execution_count": 559,
     "metadata": {},
     "output_type": "execute_result"
    }
   ],
   "source": [
    "blog_text.columns"
   ]
  },
  {
   "cell_type": "code",
   "execution_count": 560,
   "id": "7d21854d",
   "metadata": {},
   "outputs": [
    {
     "data": {
      "text/html": [
       "<div>\n",
       "<style scoped>\n",
       "    .dataframe tbody tr th:only-of-type {\n",
       "        vertical-align: middle;\n",
       "    }\n",
       "\n",
       "    .dataframe tbody tr th {\n",
       "        vertical-align: top;\n",
       "    }\n",
       "\n",
       "    .dataframe thead th {\n",
       "        text-align: right;\n",
       "    }\n",
       "</style>\n",
       "<table border=\"1\" class=\"dataframe\">\n",
       "  <thead>\n",
       "    <tr style=\"text-align: right;\">\n",
       "      <th></th>\n",
       "      <th>id</th>\n",
       "      <th>gender</th>\n",
       "      <th>age</th>\n",
       "      <th>topic</th>\n",
       "      <th>sign</th>\n",
       "      <th>date</th>\n",
       "      <th>text</th>\n",
       "    </tr>\n",
       "  </thead>\n",
       "  <tbody>\n",
       "    <tr>\n",
       "      <th>0</th>\n",
       "      <td>2059027</td>\n",
       "      <td>male</td>\n",
       "      <td>15</td>\n",
       "      <td>Student</td>\n",
       "      <td>Leo</td>\n",
       "      <td>14,May,2004</td>\n",
       "      <td>Info has been found (+/- 100 pages,...</td>\n",
       "    </tr>\n",
       "    <tr>\n",
       "      <th>1</th>\n",
       "      <td>2059027</td>\n",
       "      <td>male</td>\n",
       "      <td>15</td>\n",
       "      <td>Student</td>\n",
       "      <td>Leo</td>\n",
       "      <td>13,May,2004</td>\n",
       "      <td>These are the team members:   Drewe...</td>\n",
       "    </tr>\n",
       "    <tr>\n",
       "      <th>2</th>\n",
       "      <td>2059027</td>\n",
       "      <td>male</td>\n",
       "      <td>15</td>\n",
       "      <td>Student</td>\n",
       "      <td>Leo</td>\n",
       "      <td>12,May,2004</td>\n",
       "      <td>In het kader van kernfusie op aarde...</td>\n",
       "    </tr>\n",
       "    <tr>\n",
       "      <th>3</th>\n",
       "      <td>2059027</td>\n",
       "      <td>male</td>\n",
       "      <td>15</td>\n",
       "      <td>Student</td>\n",
       "      <td>Leo</td>\n",
       "      <td>12,May,2004</td>\n",
       "      <td>testing!!!  testing!!!</td>\n",
       "    </tr>\n",
       "    <tr>\n",
       "      <th>4</th>\n",
       "      <td>3581210</td>\n",
       "      <td>male</td>\n",
       "      <td>33</td>\n",
       "      <td>InvestmentBanking</td>\n",
       "      <td>Aquarius</td>\n",
       "      <td>11,June,2004</td>\n",
       "      <td>Thanks to Yahoo!'s Toolbar I can ...</td>\n",
       "    </tr>\n",
       "  </tbody>\n",
       "</table>\n",
       "</div>"
      ],
      "text/plain": [
       "        id gender  age              topic      sign          date  \\\n",
       "0  2059027   male   15            Student       Leo   14,May,2004   \n",
       "1  2059027   male   15            Student       Leo   13,May,2004   \n",
       "2  2059027   male   15            Student       Leo   12,May,2004   \n",
       "3  2059027   male   15            Student       Leo   12,May,2004   \n",
       "4  3581210   male   33  InvestmentBanking  Aquarius  11,June,2004   \n",
       "\n",
       "                                                text  \n",
       "0             Info has been found (+/- 100 pages,...  \n",
       "1             These are the team members:   Drewe...  \n",
       "2             In het kader van kernfusie op aarde...  \n",
       "3                   testing!!!  testing!!!            \n",
       "4               Thanks to Yahoo!'s Toolbar I can ...  "
      ]
     },
     "execution_count": 560,
     "metadata": {},
     "output_type": "execute_result"
    }
   ],
   "source": [
    "blog_text.head(5)"
   ]
  },
  {
   "cell_type": "code",
   "execution_count": 561,
   "id": "ece40eae",
   "metadata": {},
   "outputs": [
    {
     "data": {
      "text/plain": [
       "\"           In het kader van kernfusie op aarde:  MAAK JE EIGEN WATERSTOFBOM   How to build an H-Bomb From: ascott@tartarus.uwa.edu.au (Andrew Scott) Newsgroups: rec.humor Subject: How To Build An H-Bomb (humorous!) Date: 7 Feb 1994 07:41:14 GMT Organization: The University of Western Australia  Original file dated 12th November 1990. Seemed to be a transcript of a 'Seven Days' article. Poorly formatted and corrupted. I have added the text between 'examine under a microscope' and 'malleable, like gold,' as it was missing. If anyone has the full text, please distribute. I am not responsible for the accuracy of this information. Converted to HTML by Dionisio@InfiNet.com 11/13/98. (Did a little spell-checking and some minor edits too.) Stolen from  urlLink http://my.ohio.voyager.net/~dionisio/fun/m...own-h-bomb.html  and reformatted the HTML. It now validates to XHTML 1.0 Strict. How to Build an H-Bomb Making and owning an H-bomb is the kind of challenge real Americans seek. Who wants to be a passive victim of nuclear war when, with a little effort, you can be an active participant? Bomb shelters are for losers. Who wants to huddle together underground eating canned Spam? Winners want to push the button themselves. Making your own H-bomb is a big step in nuclear assertiveness training -- it's called Taking Charge. We're sure you'll enjoy the risks and the heady thrill of playing nuclear chicken. Introduction When the Feds clamped down on The Progressive magazine for attempting to publish an article on the manufacture of the hydrogen bomb, it piqued our curiosity. Was it really true that atomic and hydrogen bomb technology was so simple you could build an H-bomb in your own kitchen? Seven Days decided to find out. Food editor Barbara Ehrenreich, investigative reporter Peter Biskind, Photographer Jane Melnick and nuclear scientist Michio Kaku were given three days to cook up a workable H-bomb. They did and we have decided to share their culinary secrets with you. Not that Seven Days supports nuclear terrorism. We don't. We would prefer to die slowly from familiar poisons like low-level radiation, microwaves, DDT, DBCP, aflatoxins, PBBs, PBCs, or food dyes, rather than unexpectedly, say as hostage to a Latvian nationalist brandishing a homemade bomb. In our view the real terrorists are the governments, American, Soviet, French, Chinese, and British, that are hoarding H-bombs for their own use, and worse still, those governments (U.S., French and German) that are eagerly peddling advanced nuclear technology to countries like South Africa, Brazil, and Argentina so that they can make their own bombs. When these bombs are used, and they will be, it will be the world's big-time nuclear peddlers, along with corporate suppliers like General Electric, Westinghouse, and Gulf Oil, that we can thank for it. Gagging The Progressive will do no more for national security than backyard bomb shelters because like it or not the news is out. The heart of the successful H-bomb is the successful A-bomb. Once you've got your A-bombs made the rest is frosting on the cake. All you have to do is set them up so that when they detonate they'll start off a hydrogen-fusion reaction.  Part 1: Making Your Bomb Step 1: Getting the Ingredients Uranium is the basic ingredient of the A-bomb. When a uranium atom's nucleus splits apart, it releases a tremendous amount of energy (for its size), and it emits neutrons which go on to split other nearby uranium nuclei, releasing more energy, in what is called a 'chain reaction'. (When atoms split, matter is converted into energy according to Einstein's equation E=MC2. What better way to mark his birthday than with your own atomic fireworks?) There are two kinds (isotopes) of uranium: the rare U-235, used in bombs, and the more common, heavier, but useless U-238. Natural uranium contains less than 1 percent U-235 and in order to be usable in bombs it has to be 'enriched' to 90 percent U-235 and only 10 percent U-238. Plutonium-239 can also be used in bombs as a substitute for U-235. Ten pounds of U-235 (or slightly less plutonium) is all that is necessary for a bomb. Less than ten pounds won't give you a critical mass. So purifying or enriching naturally occurring uranium is likely to be your first big hurdle. It is infinitely easy to steal ready-to-use enriched uranium or plutonium than to enrich some yourself. And stealing uranium is not as hard as it sounds. There are at least three sources of enriched uranium or plutonium... Enriched uranium is manufactured at a gaseous diffusion plant in Portsmouth, Ohio. From there it is shipped in 10 liter bottles by airplane and trucks to conversion plants that turn it into uranium oxide or uranium metal. Each 10 liter bottle contains 7 kilograms of U-235, and there are 20 bottles to a typical shipment. Conversion facilities exist at Hematite, Missouri; Apollo, Pennsylvania; and Erwin, Tennessee. The Kerr-McGee plant at Crescent Oklahoma -- where Karen Silkwood worked -- was a conversion plant that 'lost' 40 lbs of plutonium. Enriched uranium can be stolen from these plants or from fuel-fabricating plants like those in New Haven, San Diego; or Lynchburg, Virginia. (A former Kerr-McGee supervisor, James V. Smith, when asked at the Silkwood trial if there were any security precautions at the plant to prevent theft, testified that 'There were none of any kind, no guards, no fences, no nothing.') Plutonium can be obtained from places like United Nuclear in Pawling, New York; Nuclear Fuel Services in Erwin, Tennessee; General Electric in Pleasanton, California; Westinghouse in Cheswick, Pennsylvania; Nuclear Materials and Equipment Corporation (NUMEC) in Leechburg, Pennsylvania; and plants in Hanfford, Washington and Morris, Illinois. According to Rolling Stone magazine the Israelis were involved in the theft of plutonium from NUMEC. Finally you can steal enriched uranium or plutonium while it's en-route from conversion plants to fuel fabricating plants. It is usually transported (by air or truck) in the form of uranium oxide, a brownish powder resembling instant coffee, or as a metal, coming in small chunks called 'broken buttons.' Both forms are shipped in small cans stacked in 5-inch cylinders braced with welded struts in the center of ordinary 55 gallon steel drums. The drums weigh about 100 pounds and are clearly marked 'Fissible Material' or 'Danger, Plutonium.' A typical shipment might go from the enrichment plant at Portsmouth, Ohio to the conversion plant in Hematite Missouri then to Kansas City by truck where it would be flown to Los Angeles and then trucked down to the General Atomic plant in San Diego. The plans for the General Atomic plant are on file at the Nuclear Regulatory Commission's reading room at 1717 H Street NW Washington. A Xerox machine is provided for the convenience of the public. If you can't get hold of any enriched uranium you'll have to settle for commercial grade (20 percent U-235). This can be stolen from university reactors of a type called TRIGA Mark II, where security is even more casual than at commercial plants. If stealing uranium seems too tacky you can buy it. Unenriched uranium is available at any chemical supply house for $23 a pound. Commercial grade (3 to 20 percent enriched) is available for $40 a pound from Gulf Atomic. You'll have to enrich it further yourself. Quite frankly this can be something of a pain in the ass. You'll need to start with a little more than 50 pounds of commercial-grade uranium. (It's only 20 percent U-235 at best, and you need 10 pounds of U-235 so... ) But with a little kitchen-table chemistry you'll be able to convert the solid uranium oxide you've purchased into a liquid form. Once you've done that, you'll be able to separate the U-235 that you'll need from the U-238. First pour a few gallons of concentrated hydrofluoric acid into your uranium oxide, converting it to uranium tetrafluoride. (Safety note: Concentrated hydrofluoric acid is so corrosive that it will eat its way through glass, so store it only in plastic. Used 1-gallon plastic milk containers will do.) Now you have to convert your uranium tetrafluoride to uranium hexafluoride, the gaseous form of uranium, which is convenient for separating out the isotope U-235 from U-238. To get the hexafluoride form, bubble fluorine gas into your container of uranium tetrafluoride. Fluorine is available in pressurized tanks from chemical-supply firms. Be careful how you use it though because fluorine is several times more deadly than chlorine, the classic World War I poison gas. Chemists recommend that you carry out this step under a stove hood (the kind used to remove unpleasant cooking odors). If you've done your chemistry right you should now have a generous supply of uranium hexafluoride ready for enriching. In the old horse-and-buggy days of A-bomb manufacture the enrichment was carried out by passing the uranium hexafluoride through hundreds of miles of pipes, tubes, and membranes, until the U-235 was eventually separated from the U-238. This gaseous-diffusion process, as it was called is difficult, time-consuming, and expensive. Gaseous-diffusion plants cover hundreds of acres and cost in the neighborhood of $2-billion each. So forget it. There are easier, and cheaper, ways to enrich your uranium. First transform the gas into a liquid by subjecting it to pressure. You can use a bicycle pump for this. Then make a simple home centrifuge. Fill a standard-size bucket one-quarter full of liquid uranium hexafluoride. Attach a six-foot rope to the bucket handle. Now swing the rope (and attached bucket) around your head as fast as possible. Keep this up for about 45 minutes. Slow down gradually, and very gently put the bucket on the floor. The U-235, which is lighter, will have risen to the top, where it can be skimmed off like cream. Repeat this step until you have the required 10 pounds of uranium. (Safety note: Don't put all your enriched uranium hexafluoride in one bucket. Use at least two or three buckets and keep them in separate corners of the room. This will prevent the premature build-up of a critical mass.) Now it's time to convert your enriched uranium back to metal form. This is easily enough accomplished by spooning several ladlefuls of calcium (available in tablet form from your drugstore) into each bucket of uranium. The calcium will react with the uranium hexafluoride to produce calcium fluoride, a colorless salt which can be easily be separated from your pure enriched uranium metal. A few precautions: • While uranium is not dangerously radioactive in the amounts you'll be handling, if you plan to make more than one bomb it might be wise to wear gloves and a lead apron, the kind you can buy in dental supply stores. • Plutonium is one of the most toxic substances known. If inhaled, a thousandth of a gram can cause massive fibrosis of the lungs, a painful way to go. Even a millionth of a gram in the lungs will cause cancer. If eaten plutonium is metabolized like calcium. It goes straight to the bones where it gives out alpha particles preventing bone marrow from manufacturing red blood cells. The best way to avoid inhaling plutonium is to hold your breath while handling it. If this is too difficult wear a mask. To avoid ingesting plutonium orally follow this simple rule: never make an A-bomb on an empty stomach. • If you find yourself dozing off while you're working, or if you begin to glow in the dark, it might be wise to take a blood count. Prick your finger with a sterile pin, place a drop of blood on a microscope slide, cover it with a cover slip, and examine under a microscope. (Best results are obtained in the early morning.) When you get leukemia, immature cells are released into the bloodstream, and usually the number of white cells increases (though this increase might take almost 2 weeks). Red blood cells look kind of like donuts (without the hole), and are slightly smaller than the white cells, each of which has a nucleus. Immature red cells look similar to white cells (i.e.. slightly larger and have a nucleus). If you have more than about 1 white cell (including immature ones) to 400 red cells then start to worry. But, depending upon your plans for the eventual use of the bomb, a short life expectancy might not be a problem.  Step 2: Assembling the A-Bomb Now that you've acquired the enriched uranium, all that's left is to assemble your A-bomb. Go find a couple of stainless steel salad bowls. You also want to separate your 10 pounds of U-235 into two hunks. (Keep them apart!) The idea is to push each half your uranium into the inside of a bowl. Take one hunk of your uranium and beat it into the inside of the first bowl. Uranium is malleable, like gold, so you should have no trouble hammering it into the bowl to get a good fit. Take another five-pound hunk of uranium and fit it into a second stainless steel bowl. These two bowls of U-235 are the 'subcritical masses' which, when brought together forcefully, will provide the critical mass that makes your A-bomb go. Keep them a respectful distance apart while working because you don't want them to 'go critical' on you... At least not yet. Now hollow out the body of an old vacuum cleaner and place your two hemispherical bowls inside, open ends facing each other, no less than seven inches apart, using masking tape to set them up in position. The reason for the steel bowls and the vacuum cleaner, in case you're wondering, is that these help reflect the neutrons back into the uranium for a more efficient explosion. 'A loose neutron is a useless neutron' as the A-bomb pioneers used to say. As far as the A-bomb goes, you're almost done. The final problem is to figure out how to get the two U-235 hemispheres to smash into each other with sufficient force to set off a truly effective fission reaction. Almost any type of explosive can be used to drive them together. Gunpowder, for example, is easily made at home from potassium nitrate, sulfur, and carbon. Or, you can get some blasting caps or TNT. (Buy them or steal them from a construction site.) Best of all is C4 plastic explosive. You can mold it around your bowls, and it's fairly safe to work with. (But, it might be wise to shape it around an extra salad bowl in another room, and THEN fit it to your uranium-packed bowls. This is particularly true in winter, when a stray static electrical charge might induce ignition in the C4. A responsible bomb maker considers it impolite to accidentally destroy more of the neighborhood than absolutely necessary.) Once the explosives are in place all you need to do is hook up a simple detonation device with a few batteries, a switch, and some wire. Remember though that it is essential that the two charges -- one on each side of the casing -- go off simultaneously. Now put the whole thing in the casing of an old Hoover vacuum cleaner and you're finished with this part of the process. The rest is easy.  Step 3: Make More A-Bombs Following the Directions Above  A Word to the Wise About Wastes After your A-bomb is completed you'll have a pile of moderately fatal radioactive wastes like U-238. These are not dangerous, but you do have to get rid of them. You can flush leftovers down the toilet. (Don't worry about polluting the ocean, there is already so much radioactive waste there, a few more bucketfuls won't make any waves whatsoever.) If you're the fastidious type -- the kind who never leaves gum under their seat at the movies -- you can seal the nasty stuff in coffee cans and bury it in the backyard, just like Uncle Sam does. If the neighbor kids have a habit of trampling the lawn, tell them to play over by the waste. You'll soon find that they're spending most of their time in bed.  Going First Class If you're like us, you're feeling the economic pinch, and you'll want to make your bomb as inexpensively as possible, consonant of course with reasonable yield. The recipe we've given is for a budget-pleasing H-bomb, no frills, no flourishes; it's just a simple 5-megaton bomb, capable of wiping out the New York metropolitan area, the San Francisco Bay area, or Boston. But don't forget, your H-bomb will only be as good as the A-bombs in it. If you want to spend a little more money you can punch-up your A-bomb considerably. Instead of centrifuging your uranium by hand, you can buy a commercial centrifuge. (Fisher Scientific sells one for about $1000.) You also might want to be fussier about your design. The Hiroshima bomb, a relatively crude one, only fissioned 1 percent of it's uranium and yielded only 13 kilotons. In order to fission more of the uranium, the force of your explosive 'trigger' needs to be evenly diffused around the sphere; the same pressure has to be exerted on every point of the sphere simultaneously. (It was a technique for producing this sort of simultaneous detonation by fashioning the explosives into lenses that the government accused Julius and Ethel Rosenberg of trying to steal).  Part 2: Putting Your H-Bomb Together The heart of the H-bomb is the fusion process. Several A-bombs are detonated in such a way as to create the extremely high temperature (100 million degrees C) necessary to fuse lithium deuteride (LiD) into helium. When the lithium nucleus slams into the deuterium nucleus, two helium nuclei are created, and if this happens to enough deuterium nuclei rapidly enough, the result is an enormous amount of energy: the energy of the H-bomb. You don't have to worry about stealing lithium deuteride, it can be purchased from any chemical-supply house. It costs $1000 a pound. If your budget won't allow it you can substitute lithium hydride at $40 a pound. You will need at least 100 pounds. It's a corrosive and toxic powder so be careful. Place the lithium deuteride or hydride in glass jars and surround it with four A-bombs in their casings. Attach them to the same detonator so that they will go off simultaneously. The container for the whole thing is no problem. They can be placed anywhere: Inside an old stereo console, a discarded refrigerator, etc... When the detonator sets off the four A-bombs all eight hemispheres of fissionable material will slam into each other at the same time creating four critical masses and four detonations. This will raise the temperature of the lithium deuteride to 100 million degrees C fast enough (a few billionths of a second) so that the lithium will not be blown all over the neighborhood before the nuclei have time to fuse. The result, at least 1000 times the punch of the puny A-bomb that leveled Hiroshima (20 million tons of TNT vs. 20 thousand tons.)  Part 3: What to do With Your Bomb Now that you have a fully assembled H-bomb housed in an attractive console of your choice you may be wondering, 'What should I do with it?' Every family will have to answer this question according to its own tastes and preferences, but you may want to explore some possibilities which have been successfully pioneered by the American government. 1. Sell Your Bomb and Make a Pile of Money In these days of rising inflation, increasing unemployment, and an uncertain economic outlook, few businesses make as much sense as weapons production. If your career forecast is cloudy, bomb sales may be the only sure way to avoid the humiliation of receiving welfare, or unemployment. Regardless of your present income level, a home H-bomb business can be an invaluable income supplement, and certainly a profitable alternative to selling Tupperware or pirated Girl Scout cookies. Unfortunately for the family bomb business, big government has already cornered a large part of the world market. But this does not mean that there is a shortage of potential customers. The raid on Entebee was the Waterloo of hijacking, and many nationalist groups are now on the alert for new means to get their message across. They'd jump at the chance to get hold of an H-bomb. Emerging nations which can't ante up enough rice or sugar to buy themselves a reactor from G.E. or Westinghouse are also shopping around. You may wonder about the ethics of selling to nations, or groups, whose goals you may disapprove of. But here again, take a tip from our government: forget ideology -- it's cash that counts. And remember, H-bomb sales have a way of escalating, almost like a chain reaction. Suppose you make a sale to South Yemen which you believe to be a Soviet puppet. Well within a few days some discrete inquiries from North Yemen and possibly the Saudis, the Egyptians and the Ethiopians as well can be expected. Similarly, a sale to the IRA will generate a sale to the Ulster government; and a sale to the Tanzanians will bring the Ugandans running, and so forth. It doesn't matter WHICH side you're on, only how many sides there are. Don't forget about the possibility of repeat sales to the same customer. As the experience of both the U.S. and the U.S.S.R. has shown, each individual nation has a potentially infinite need for H-bombs. No customer -- no matter how small -- can ever have too many. 2. Use Your Bomb at Home Many families are attracted to the H-bomb simply as a 'deterrent.' A discrete sticker on the door or on the living room window saying 'This Home Protected by H-bomb' will discourage IRS investigators, census takers, and Jehovah's Witnesses. You'll be surprised how fast the crime rate will go down and property values will go up. And once the news gets out that you are a home H-bomb owner you'll find that you have unexpected leverage in neighborhood disputes over everything from parking places and stereo noise levels to school tax rates. So relax and enjoy the pride and excitement of home H-bomb ownership!  Is It For You? Let's be honest. The H-bomb isn't for everyone. Frankly there are people who can't handle it. They break out in hives at the very mention of mega-death, fallout, or radiation sickness. The following quiz will help you find out whether you have what it takes for home H-bomb ownership. If you can answer 'yes' to six or more of these questions, then you're emotionally eligible to join the nuclear club. If not, a more conventional weapon may be more your cup of tea, try botulism-toxin, laser rays, or nerve gas. 1. I ignore the demands of others. 2. I subscribe to one or more of the following: Soldier of Fortune, Hustler, Popular Mechanics, Self. 3. Though I have many interesting acquaintances, I am my own best friend. 4. I know what to say after you say 'Hello,' but I am seldom interested in pursuing the conversation. 5. I have seen the movie 'The Deer Hunter' more than once. 6. I know that everyone can be a winner if they want to, and I resent whiners. 7. I own one or more of the following: handgun, video game, trash compactor, snowmobile. 8. I am convinced that leukemia is psychosomatic. 9. I am aware that most vegetarians are sexually impotent. 10. I have read evidence that solar energy is a Communist conspiracy.  Myths About Nuclear War Ever since the first mushroom cloud over Hiroshima ushered in the atomic age, a small group of nay-sayers and doom-mongers has lobbied, campaigned and demonstrated to convince Americans that H-bomb ownership, along with nuclear power, is dangerous and unhealthy. Using their virtual stranglehold over the media, these people have tried to discredit everything nuclear from energy to war. They have vastly overrated the risks of nuclear bombs and left many Americans feeling demoralized and indecisive; not sure where the truth lies. Well, here are the myths, and here are the facts. Myth: After a nuclear exchange the earth will no longer be suitable for human habitation. Fact: This is completely false. According to one scientist (quoted in John McPee's The Curve of Binding Energy) 'The largest bomb that has ever been exploded anywhere was 60 megatons, and that is one-thousandth the force of an earthquake, one-thousandth the force of a hurricane. We have lived with earthquakes and hurricanes for a long time.' Another scientist adds, 'It is often assumed that a full blown nuclear war would be the end of life on earth. That is far from the truth. To end life on earth would take at least a thousand times the total yield of all the nuclear explosives existing in the world, and probably a lot more.' Even if humans succumbed, many forms of life would survive a nuclear free-for-all, cockroaches, certain forms of bacteria, and lichens, for instance. Myth: Radiation is bad for you. Fact: Everything is bad for you if you have too much of it. If you eat too many bananas you'll get a stomach-ache. If you get too much sun you can get sunburned (or even skin cancer). Same thing with radiation. Too much may make you feel under the weather, but nuclear industry officials insist that there is no evidence that low-level radiation has any really serious adverse effects. And, high-level radiation may bring unexpected benefits. It speeds up evolution by weeding out unwanted genetic types and creating new ones. (Remember the old saying, 'Two heads are better than one.') Nearer to home, it's plain that radiation will get rid of pesky crab grass and weeds, and teenagers will find that brief exposure to a nuclear burst vaporizes acne and other skin blemishes. (Many survivors of the Hiroshima bomb found that they were free from skin and it's attendant problems forever.) We hope this clears up any misconceptions you may have had. Enjoy your H-Bomb!           \""
      ]
     },
     "execution_count": 561,
     "metadata": {},
     "output_type": "execute_result"
    }
   ],
   "source": [
    "blog_text['text'][2]"
   ]
  },
  {
   "cell_type": "code",
   "execution_count": 562,
   "id": "037a8118",
   "metadata": {},
   "outputs": [
    {
     "data": {
      "text/plain": [
       "\"             Thanks to Yahoo!'s Toolbar I can now 'capture' the URLs of popups...which means now I can show you some cool links to Korean Pop (K-Pop) audio and video without the need to relate instructions like: 'go to the site, click on the pop-audio button then choose...'.  So, without further ado here is the link to 24-hour K-Pop  urlLink audio  and the  urlLink video  streaming.  Enjoy.         \""
      ]
     },
     "execution_count": 562,
     "metadata": {},
     "output_type": "execute_result"
    }
   ],
   "source": [
    "blog_text['text'][4]"
   ]
  },
  {
   "cell_type": "code",
   "execution_count": 563,
   "id": "621765dd",
   "metadata": {},
   "outputs": [
    {
     "data": {
      "text/plain": [
       "'InvestmentBanking'"
      ]
     },
     "execution_count": 563,
     "metadata": {},
     "output_type": "execute_result"
    }
   ],
   "source": [
    "blog_text['topic'][4]"
   ]
  },
  {
   "cell_type": "code",
   "execution_count": 564,
   "id": "d02b36b9",
   "metadata": {},
   "outputs": [
    {
     "data": {
      "text/plain": [
       "array(['Student', 'InvestmentBanking', 'indUnk', 'Non-Profit', 'Banking',\n",
       "       'Education', 'Engineering', 'Science', 'Communications-Media',\n",
       "       'BusinessServices', 'Sports-Recreation', 'Arts', 'Internet',\n",
       "       'Museums-Libraries', 'Accounting', 'Technology', 'Law',\n",
       "       'Consulting', 'Automotive', 'Religion', 'Fashion', 'Publishing',\n",
       "       'Marketing', 'LawEnforcement-Security', 'HumanResources',\n",
       "       'Telecommunications', 'Military', 'Government', 'Transportation',\n",
       "       'Architecture', 'Advertising', 'Agriculture', 'Biotech',\n",
       "       'RealEstate', 'Manufacturing', 'Construction', 'Chemicals',\n",
       "       'Maritime', 'Tourism', 'Environment'], dtype=object)"
      ]
     },
     "execution_count": 564,
     "metadata": {},
     "output_type": "execute_result"
    }
   ],
   "source": [
    "blog_text['topic'].unique()"
   ]
  },
  {
   "cell_type": "code",
   "execution_count": 565,
   "id": "b6f14bd0",
   "metadata": {},
   "outputs": [
    {
     "data": {
      "text/plain": [
       "40"
      ]
     },
     "execution_count": 565,
     "metadata": {},
     "output_type": "execute_result"
    }
   ],
   "source": [
    "blog_text['topic'].nunique()"
   ]
  },
  {
   "cell_type": "code",
   "execution_count": 566,
   "id": "77f8e629",
   "metadata": {},
   "outputs": [
    {
     "data": {
      "text/plain": [
       "(681284, 7)"
      ]
     },
     "execution_count": 566,
     "metadata": {},
     "output_type": "execute_result"
    }
   ],
   "source": [
    "blog_text.shape"
   ]
  },
  {
   "cell_type": "code",
   "execution_count": 567,
   "id": "cc721b61",
   "metadata": {},
   "outputs": [
    {
     "data": {
      "text/html": [
       "<div>\n",
       "<style scoped>\n",
       "    .dataframe tbody tr th:only-of-type {\n",
       "        vertical-align: middle;\n",
       "    }\n",
       "\n",
       "    .dataframe tbody tr th {\n",
       "        vertical-align: top;\n",
       "    }\n",
       "\n",
       "    .dataframe thead th {\n",
       "        text-align: right;\n",
       "    }\n",
       "</style>\n",
       "<table border=\"1\" class=\"dataframe\">\n",
       "  <thead>\n",
       "    <tr style=\"text-align: right;\">\n",
       "      <th></th>\n",
       "      <th>id</th>\n",
       "      <th>gender</th>\n",
       "      <th>age</th>\n",
       "      <th>topic</th>\n",
       "      <th>sign</th>\n",
       "      <th>date</th>\n",
       "      <th>text</th>\n",
       "    </tr>\n",
       "  </thead>\n",
       "  <tbody>\n",
       "    <tr>\n",
       "      <th>0</th>\n",
       "      <td>2059027</td>\n",
       "      <td>male</td>\n",
       "      <td>15</td>\n",
       "      <td>Student</td>\n",
       "      <td>Leo</td>\n",
       "      <td>14,May,2004</td>\n",
       "      <td>Info has been found (+/- 100 pages,...</td>\n",
       "    </tr>\n",
       "    <tr>\n",
       "      <th>1</th>\n",
       "      <td>2059027</td>\n",
       "      <td>male</td>\n",
       "      <td>15</td>\n",
       "      <td>Student</td>\n",
       "      <td>Leo</td>\n",
       "      <td>13,May,2004</td>\n",
       "      <td>These are the team members:   Drewe...</td>\n",
       "    </tr>\n",
       "    <tr>\n",
       "      <th>2</th>\n",
       "      <td>2059027</td>\n",
       "      <td>male</td>\n",
       "      <td>15</td>\n",
       "      <td>Student</td>\n",
       "      <td>Leo</td>\n",
       "      <td>12,May,2004</td>\n",
       "      <td>In het kader van kernfusie op aarde...</td>\n",
       "    </tr>\n",
       "    <tr>\n",
       "      <th>3</th>\n",
       "      <td>2059027</td>\n",
       "      <td>male</td>\n",
       "      <td>15</td>\n",
       "      <td>Student</td>\n",
       "      <td>Leo</td>\n",
       "      <td>12,May,2004</td>\n",
       "      <td>testing!!!  testing!!!</td>\n",
       "    </tr>\n",
       "    <tr>\n",
       "      <th>4</th>\n",
       "      <td>3581210</td>\n",
       "      <td>male</td>\n",
       "      <td>33</td>\n",
       "      <td>InvestmentBanking</td>\n",
       "      <td>Aquarius</td>\n",
       "      <td>11,June,2004</td>\n",
       "      <td>Thanks to Yahoo!'s Toolbar I can ...</td>\n",
       "    </tr>\n",
       "  </tbody>\n",
       "</table>\n",
       "</div>"
      ],
      "text/plain": [
       "        id gender  age              topic      sign          date  \\\n",
       "0  2059027   male   15            Student       Leo   14,May,2004   \n",
       "1  2059027   male   15            Student       Leo   13,May,2004   \n",
       "2  2059027   male   15            Student       Leo   12,May,2004   \n",
       "3  2059027   male   15            Student       Leo   12,May,2004   \n",
       "4  3581210   male   33  InvestmentBanking  Aquarius  11,June,2004   \n",
       "\n",
       "                                                text  \n",
       "0             Info has been found (+/- 100 pages,...  \n",
       "1             These are the team members:   Drewe...  \n",
       "2             In het kader van kernfusie op aarde...  \n",
       "3                   testing!!!  testing!!!            \n",
       "4               Thanks to Yahoo!'s Toolbar I can ...  "
      ]
     },
     "execution_count": 567,
     "metadata": {},
     "output_type": "execute_result"
    }
   ],
   "source": [
    "blog_text.head(5)"
   ]
  },
  {
   "cell_type": "code",
   "execution_count": 568,
   "id": "e0bf61b1",
   "metadata": {},
   "outputs": [
    {
     "data": {
      "text/html": [
       "<div>\n",
       "<style scoped>\n",
       "    .dataframe tbody tr th:only-of-type {\n",
       "        vertical-align: middle;\n",
       "    }\n",
       "\n",
       "    .dataframe tbody tr th {\n",
       "        vertical-align: top;\n",
       "    }\n",
       "\n",
       "    .dataframe thead th {\n",
       "        text-align: right;\n",
       "    }\n",
       "</style>\n",
       "<table border=\"1\" class=\"dataframe\">\n",
       "  <thead>\n",
       "    <tr style=\"text-align: right;\">\n",
       "      <th></th>\n",
       "      <th>id</th>\n",
       "      <th>gender</th>\n",
       "      <th>age</th>\n",
       "      <th>topic</th>\n",
       "      <th>sign</th>\n",
       "      <th>date</th>\n",
       "      <th>text</th>\n",
       "    </tr>\n",
       "  </thead>\n",
       "  <tbody>\n",
       "    <tr>\n",
       "      <th>681279</th>\n",
       "      <td>1713845</td>\n",
       "      <td>male</td>\n",
       "      <td>23</td>\n",
       "      <td>Student</td>\n",
       "      <td>Taurus</td>\n",
       "      <td>01,July,2004</td>\n",
       "      <td>Dear Susan,  I could write some really ...</td>\n",
       "    </tr>\n",
       "    <tr>\n",
       "      <th>681280</th>\n",
       "      <td>1713845</td>\n",
       "      <td>male</td>\n",
       "      <td>23</td>\n",
       "      <td>Student</td>\n",
       "      <td>Taurus</td>\n",
       "      <td>01,July,2004</td>\n",
       "      <td>Dear Susan,  'I have the second yeast i...</td>\n",
       "    </tr>\n",
       "    <tr>\n",
       "      <th>681281</th>\n",
       "      <td>1713845</td>\n",
       "      <td>male</td>\n",
       "      <td>23</td>\n",
       "      <td>Student</td>\n",
       "      <td>Taurus</td>\n",
       "      <td>01,July,2004</td>\n",
       "      <td>Dear Susan,  Your 'boyfriend' is fuckin...</td>\n",
       "    </tr>\n",
       "    <tr>\n",
       "      <th>681282</th>\n",
       "      <td>1713845</td>\n",
       "      <td>male</td>\n",
       "      <td>23</td>\n",
       "      <td>Student</td>\n",
       "      <td>Taurus</td>\n",
       "      <td>01,July,2004</td>\n",
       "      <td>Dear Susan:    Just to clarify, I am as...</td>\n",
       "    </tr>\n",
       "    <tr>\n",
       "      <th>681283</th>\n",
       "      <td>1713845</td>\n",
       "      <td>male</td>\n",
       "      <td>23</td>\n",
       "      <td>Student</td>\n",
       "      <td>Taurus</td>\n",
       "      <td>01,July,2004</td>\n",
       "      <td>Hey everybody...and Susan,  You might a...</td>\n",
       "    </tr>\n",
       "  </tbody>\n",
       "</table>\n",
       "</div>"
      ],
      "text/plain": [
       "             id gender  age    topic    sign          date  \\\n",
       "681279  1713845   male   23  Student  Taurus  01,July,2004   \n",
       "681280  1713845   male   23  Student  Taurus  01,July,2004   \n",
       "681281  1713845   male   23  Student  Taurus  01,July,2004   \n",
       "681282  1713845   male   23  Student  Taurus  01,July,2004   \n",
       "681283  1713845   male   23  Student  Taurus  01,July,2004   \n",
       "\n",
       "                                                     text  \n",
       "681279         Dear Susan,  I could write some really ...  \n",
       "681280         Dear Susan,  'I have the second yeast i...  \n",
       "681281         Dear Susan,  Your 'boyfriend' is fuckin...  \n",
       "681282         Dear Susan:    Just to clarify, I am as...  \n",
       "681283         Hey everybody...and Susan,  You might a...  "
      ]
     },
     "execution_count": 568,
     "metadata": {},
     "output_type": "execute_result"
    }
   ],
   "source": [
    "blog_text.tail(5)"
   ]
  },
  {
   "cell_type": "code",
   "execution_count": 569,
   "id": "e5af4b7e",
   "metadata": {},
   "outputs": [
    {
     "data": {
      "text/plain": [
       "(681284, 7)"
      ]
     },
     "execution_count": 569,
     "metadata": {},
     "output_type": "execute_result"
    }
   ],
   "source": [
    "blog_text.shape"
   ]
  },
  {
   "cell_type": "code",
   "execution_count": 570,
   "id": "3f876c52",
   "metadata": {},
   "outputs": [
    {
     "data": {
      "text/plain": [
       "2"
      ]
     },
     "execution_count": 570,
     "metadata": {},
     "output_type": "execute_result"
    }
   ],
   "source": [
    "blog_text['gender'].nunique()"
   ]
  },
  {
   "cell_type": "code",
   "execution_count": 571,
   "id": "53f9442e",
   "metadata": {},
   "outputs": [
    {
     "data": {
      "text/plain": [
       "male      345193\n",
       "female    336091\n",
       "Name: gender, dtype: int64"
      ]
     },
     "execution_count": 571,
     "metadata": {},
     "output_type": "execute_result"
    }
   ],
   "source": [
    "blog_text['gender'].value_counts()"
   ]
  },
  {
   "cell_type": "code",
   "execution_count": 572,
   "id": "555afacd",
   "metadata": {},
   "outputs": [
    {
     "data": {
      "text/plain": [
       "26"
      ]
     },
     "execution_count": 572,
     "metadata": {},
     "output_type": "execute_result"
    }
   ],
   "source": [
    "blog_text['age'].nunique()"
   ]
  },
  {
   "cell_type": "code",
   "execution_count": 573,
   "id": "dcef3e84",
   "metadata": {},
   "outputs": [
    {
     "data": {
      "text/plain": [
       "17    80859\n",
       "24    80071\n",
       "23    72889\n",
       "16    72708\n",
       "25    67051\n",
       "26    55312\n",
       "27    46124\n",
       "15    41767\n",
       "14    27400\n",
       "34    21347\n",
       "33    17584\n",
       "35    17462\n",
       "36    14229\n",
       "13    13133\n",
       "37     9317\n",
       "38     7545\n",
       "39     5556\n",
       "40     5016\n",
       "45     4482\n",
       "43     4230\n",
       "41     3738\n",
       "48     3572\n",
       "42     2908\n",
       "46     2733\n",
       "47     2207\n",
       "44     2044\n",
       "Name: age, dtype: int64"
      ]
     },
     "execution_count": 573,
     "metadata": {},
     "output_type": "execute_result"
    }
   ],
   "source": [
    "blog_text['age'].value_counts()"
   ]
  },
  {
   "cell_type": "code",
   "execution_count": 574,
   "id": "4fdddf87",
   "metadata": {},
   "outputs": [
    {
     "data": {
      "text/plain": [
       "indUnk                     251015\n",
       "Student                    153903\n",
       "Technology                  42055\n",
       "Arts                        32449\n",
       "Education                   29633\n",
       "Communications-Media        20140\n",
       "Internet                    16006\n",
       "Non-Profit                  14700\n",
       "Engineering                 11653\n",
       "Law                          9040\n",
       "Publishing                   7753\n",
       "Science                      7269\n",
       "Government                   6907\n",
       "Consulting                   5862\n",
       "Religion                     5235\n",
       "Fashion                      4851\n",
       "Marketing                    4769\n",
       "Advertising                  4676\n",
       "BusinessServices             4500\n",
       "Banking                      4049\n",
       "Chemicals                    3928\n",
       "Telecommunications           3891\n",
       "Accounting                   3832\n",
       "Military                     3128\n",
       "Museums-Libraries            3096\n",
       "Sports-Recreation            3038\n",
       "HumanResources               3010\n",
       "RealEstate                   2870\n",
       "Transportation               2326\n",
       "Manufacturing                2272\n",
       "Biotech                      2234\n",
       "Tourism                      1942\n",
       "LawEnforcement-Security      1878\n",
       "Architecture                 1638\n",
       "InvestmentBanking            1292\n",
       "Automotive                   1244\n",
       "Agriculture                  1235\n",
       "Construction                 1093\n",
       "Environment                   592\n",
       "Maritime                      280\n",
       "Name: topic, dtype: int64"
      ]
     },
     "execution_count": 574,
     "metadata": {},
     "output_type": "execute_result"
    }
   ],
   "source": [
    "blog_text['topic'].value_counts()"
   ]
  },
  {
   "cell_type": "code",
   "execution_count": 575,
   "id": "77d03318",
   "metadata": {},
   "outputs": [
    {
     "data": {
      "text/plain": [
       "indUnk                     36.844400\n",
       "Student                    22.590139\n",
       "Technology                  6.172903\n",
       "Arts                        4.762918\n",
       "Education                   4.349581\n",
       "Communications-Media        2.956183\n",
       "Internet                    2.349387\n",
       "Non-Profit                  2.157690\n",
       "Engineering                 1.710447\n",
       "Law                         1.326906\n",
       "Publishing                  1.137998\n",
       "Science                     1.066956\n",
       "Government                  1.013821\n",
       "Consulting                  0.860434\n",
       "Religion                    0.768402\n",
       "Fashion                     0.712038\n",
       "Marketing                   0.700002\n",
       "Advertising                 0.686351\n",
       "BusinessServices            0.660517\n",
       "Banking                     0.594319\n",
       "Chemicals                   0.576558\n",
       "Telecommunications          0.571127\n",
       "Accounting                  0.562467\n",
       "Military                    0.459133\n",
       "Museums-Libraries           0.454436\n",
       "Sports-Recreation           0.445923\n",
       "HumanResources              0.441813\n",
       "RealEstate                  0.421263\n",
       "Transportation              0.341414\n",
       "Manufacturing               0.333488\n",
       "Biotech                     0.327910\n",
       "Tourism                     0.285050\n",
       "LawEnforcement-Security     0.275656\n",
       "Architecture                0.240428\n",
       "InvestmentBanking           0.189642\n",
       "Automotive                  0.182596\n",
       "Agriculture                 0.181275\n",
       "Construction                0.160432\n",
       "Environment                 0.086895\n",
       "Maritime                    0.041099\n",
       "Name: topic, dtype: float64"
      ]
     },
     "execution_count": 575,
     "metadata": {},
     "output_type": "execute_result"
    }
   ],
   "source": [
    "blog_text['topic'].value_counts(normalize=True)*100"
   ]
  },
  {
   "cell_type": "markdown",
   "id": "9a716001",
   "metadata": {},
   "source": [
    "**Inference** :The data is parsed and few topic has less than 0.1 percentage of total dataset. Hence logically to make it balanced \n",
    "based on distribution topics are combined in below code."
   ]
  },
  {
   "cell_type": "code",
   "execution_count": 576,
   "id": "449d6f60",
   "metadata": {},
   "outputs": [],
   "source": [
    "blog_text_df=blog_text.copy()"
   ]
  },
  {
   "cell_type": "code",
   "execution_count": 577,
   "id": "eea4aa6e",
   "metadata": {},
   "outputs": [
    {
     "data": {
      "text/html": [
       "<div>\n",
       "<style scoped>\n",
       "    .dataframe tbody tr th:only-of-type {\n",
       "        vertical-align: middle;\n",
       "    }\n",
       "\n",
       "    .dataframe tbody tr th {\n",
       "        vertical-align: top;\n",
       "    }\n",
       "\n",
       "    .dataframe thead th {\n",
       "        text-align: right;\n",
       "    }\n",
       "</style>\n",
       "<table border=\"1\" class=\"dataframe\">\n",
       "  <thead>\n",
       "    <tr style=\"text-align: right;\">\n",
       "      <th></th>\n",
       "      <th>id</th>\n",
       "      <th>gender</th>\n",
       "      <th>age</th>\n",
       "      <th>topic</th>\n",
       "      <th>sign</th>\n",
       "      <th>date</th>\n",
       "      <th>text</th>\n",
       "    </tr>\n",
       "  </thead>\n",
       "  <tbody>\n",
       "    <tr>\n",
       "      <th>0</th>\n",
       "      <td>2059027</td>\n",
       "      <td>male</td>\n",
       "      <td>15</td>\n",
       "      <td>Student</td>\n",
       "      <td>Leo</td>\n",
       "      <td>14,May,2004</td>\n",
       "      <td>Info has been found (+/- 100 pages,...</td>\n",
       "    </tr>\n",
       "    <tr>\n",
       "      <th>1</th>\n",
       "      <td>2059027</td>\n",
       "      <td>male</td>\n",
       "      <td>15</td>\n",
       "      <td>Student</td>\n",
       "      <td>Leo</td>\n",
       "      <td>13,May,2004</td>\n",
       "      <td>These are the team members:   Drewe...</td>\n",
       "    </tr>\n",
       "    <tr>\n",
       "      <th>2</th>\n",
       "      <td>2059027</td>\n",
       "      <td>male</td>\n",
       "      <td>15</td>\n",
       "      <td>Student</td>\n",
       "      <td>Leo</td>\n",
       "      <td>12,May,2004</td>\n",
       "      <td>In het kader van kernfusie op aarde...</td>\n",
       "    </tr>\n",
       "    <tr>\n",
       "      <th>3</th>\n",
       "      <td>2059027</td>\n",
       "      <td>male</td>\n",
       "      <td>15</td>\n",
       "      <td>Student</td>\n",
       "      <td>Leo</td>\n",
       "      <td>12,May,2004</td>\n",
       "      <td>testing!!!  testing!!!</td>\n",
       "    </tr>\n",
       "    <tr>\n",
       "      <th>4</th>\n",
       "      <td>3581210</td>\n",
       "      <td>male</td>\n",
       "      <td>33</td>\n",
       "      <td>InvestmentBanking</td>\n",
       "      <td>Aquarius</td>\n",
       "      <td>11,June,2004</td>\n",
       "      <td>Thanks to Yahoo!'s Toolbar I can ...</td>\n",
       "    </tr>\n",
       "  </tbody>\n",
       "</table>\n",
       "</div>"
      ],
      "text/plain": [
       "        id gender  age              topic      sign          date  \\\n",
       "0  2059027   male   15            Student       Leo   14,May,2004   \n",
       "1  2059027   male   15            Student       Leo   13,May,2004   \n",
       "2  2059027   male   15            Student       Leo   12,May,2004   \n",
       "3  2059027   male   15            Student       Leo   12,May,2004   \n",
       "4  3581210   male   33  InvestmentBanking  Aquarius  11,June,2004   \n",
       "\n",
       "                                                text  \n",
       "0             Info has been found (+/- 100 pages,...  \n",
       "1             These are the team members:   Drewe...  \n",
       "2             In het kader van kernfusie op aarde...  \n",
       "3                   testing!!!  testing!!!            \n",
       "4               Thanks to Yahoo!'s Toolbar I can ...  "
      ]
     },
     "execution_count": 577,
     "metadata": {},
     "output_type": "execute_result"
    }
   ],
   "source": [
    "blog_text_df.head()"
   ]
  },
  {
   "cell_type": "code",
   "execution_count": 578,
   "id": "a8641ab5",
   "metadata": {},
   "outputs": [],
   "source": [
    "#'Education','Accounting': 'Education,Accounting'}\n",
    "blog_text_df.replace({'topic': \n",
    "             {'Arts':'Arts and Science',\n",
    "             'Education':'Accounting and Education',\n",
    "             'Communications-Media':'Internet, communication media and Humar Resources',\n",
    "             'Internet':'Internet, communication media and Humar Resources',\n",
    "             'Non-Profit':'Fashion, religion and Non-Profit',\n",
    "             'Engineering':'Engineering and Telecommunications',\n",
    "             'Law':'Government,Law and military',\n",
    "             'Publishing':'Consulting,Marketing,Publishing,Advertising',\n",
    "             'Science':'Arts and Science',\n",
    "             'Government':'Government,Law and military',\n",
    "             'Consulting':'Consulting,Marketing,Publishing,Advertising',\n",
    "             'Religion':'Fashion, religion and Non-Profit',\n",
    "             'Fashion':'Fashion, religion and Non-Profit',\n",
    "            'Marketing':'Consulting,Marketing,Publishing,Advertising',\n",
    "            'Advertising':'Consulting,Marketing,Publishing,Advertising',\n",
    "            'BusinessServices':'Banking,InvestmentBanking,BusinessServices',\n",
    "            'Banking':'Banking,InvestmentBanking,BusinessServices',\n",
    "            'Chemicals':'Chemicals,Manufacturing',\n",
    "            'Telecommunications':'Engineering and Telecommunications',\n",
    "            'Accounting':'Accounting and Education',\n",
    "            'Military':'Government,Law and military',\n",
    "            'Museums-Libraries':'Museums-Libraries,Sports-Recreation,Tourism',\n",
    "            'Sports-Recreation':'Museums-Libraries,Sports-Recreation,Tourism',\n",
    "            'HumanResources':'Internet, communication media and Humar Resources',\n",
    "            'RealEstate':'Architecture,Construction,RealEstate',\n",
    "            'Transportation':'Automotive,Transportation',\n",
    "            'Manufacturing':'Chemicals,Manufacturing',\n",
    "            'Biotech':'Agriculture, Biotech,Environment',\n",
    "            'Tourism':'Museums-Libraries,Sports-Recreation,Tourism',\n",
    "            'LawEnforcement-Security':'Government,Law and military',\n",
    "            'Architecture':'Architecture,Construction,RealEstate',\n",
    "            'InvestmentBanking':'Banking,InvestmentBanking,BusinessServices',\n",
    "            'Automotive':'Automotive,Transportation',\n",
    "            'Agriculture':'Agriculture, Biotech,Environment',\n",
    "            'Construction':'Architecture,Construction,RealEstate',\n",
    "            'Environment':'Agriculture, Biotech,Environment',\n",
    "            'Maritime':'Agriculture, Biotech,Environment',}}, \n",
    "            inplace= True)\n"
   ]
  },
  {
   "cell_type": "code",
   "execution_count": 579,
   "id": "eab1ba74",
   "metadata": {},
   "outputs": [
    {
     "data": {
      "text/plain": [
       "indUnk                                               0.368444\n",
       "Student                                              0.225901\n",
       "Technology                                           0.061729\n",
       "Arts and Science                                     0.058299\n",
       "Internet, communication media and Humar Resources    0.057474\n",
       "Accounting and Education                             0.049120\n",
       "Fashion, religion and Non-Profit                     0.036381\n",
       "Consulting,Marketing,Publishing,Advertising          0.033848\n",
       "Government,Law and military                          0.030755\n",
       "Engineering and Telecommunications                   0.022816\n",
       "Banking,InvestmentBanking,BusinessServices           0.014445\n",
       "Museums-Libraries,Sports-Recreation,Tourism          0.011854\n",
       "Chemicals,Manufacturing                              0.009100\n",
       "Architecture,Construction,RealEstate                 0.008221\n",
       "Agriculture, Biotech,Environment                     0.006372\n",
       "Automotive,Transportation                            0.005240\n",
       "Name: topic, dtype: float64"
      ]
     },
     "execution_count": 579,
     "metadata": {},
     "output_type": "execute_result"
    }
   ],
   "source": [
    "blog_text_df['topic'].value_counts(normalize=True)"
   ]
  },
  {
   "cell_type": "markdown",
   "id": "20c642ca",
   "metadata": {},
   "source": [
    "The data having 36% of IndUnk and 22% student. Rest of the other topics cover nearly 32%. But We have grouped together relavant topic to be useful for model building."
   ]
  },
  {
   "cell_type": "code",
   "execution_count": 580,
   "id": "cf4780fc",
   "metadata": {},
   "outputs": [],
   "source": [
    "blog_text = blog_text_df.copy()"
   ]
  },
  {
   "cell_type": "code",
   "execution_count": 581,
   "id": "2195df05",
   "metadata": {},
   "outputs": [
    {
     "data": {
      "text/plain": [
       "16"
      ]
     },
     "execution_count": 581,
     "metadata": {},
     "output_type": "execute_result"
    }
   ],
   "source": [
    "blog_text['topic'].nunique()"
   ]
  },
  {
   "cell_type": "code",
   "execution_count": 582,
   "id": "bb2454a9",
   "metadata": {},
   "outputs": [
    {
     "data": {
      "text/plain": [
       "array([['Student'],\n",
       "       ['Banking,InvestmentBanking,BusinessServices'],\n",
       "       ['indUnk'],\n",
       "       ['Fashion, religion and Non-Profit'],\n",
       "       ['Accounting and Education'],\n",
       "       ['Engineering and Telecommunications'],\n",
       "       ['Arts and Science'],\n",
       "       ['Internet, communication media and Humar Resources'],\n",
       "       ['Museums-Libraries,Sports-Recreation,Tourism'],\n",
       "       ['Technology'],\n",
       "       ['Government,Law and military'],\n",
       "       ['Consulting,Marketing,Publishing,Advertising'],\n",
       "       ['Automotive,Transportation'],\n",
       "       ['Architecture,Construction,RealEstate'],\n",
       "       ['Agriculture, Biotech,Environment'],\n",
       "       ['Chemicals,Manufacturing']], dtype=object)"
      ]
     },
     "execution_count": 582,
     "metadata": {},
     "output_type": "execute_result"
    }
   ],
   "source": [
    "pd.DataFrame(blog_text.topic.unique()).values"
   ]
  },
  {
   "cell_type": "code",
   "execution_count": 583,
   "id": "e9e6f072",
   "metadata": {},
   "outputs": [
    {
     "data": {
      "text/plain": [
       "12"
      ]
     },
     "execution_count": 583,
     "metadata": {},
     "output_type": "execute_result"
    }
   ],
   "source": [
    "blog_text['sign'].nunique()"
   ]
  },
  {
   "cell_type": "code",
   "execution_count": 584,
   "id": "4fb8b202",
   "metadata": {},
   "outputs": [
    {
     "data": {
      "text/plain": [
       "Cancer         65048\n",
       "Aries          64979\n",
       "Taurus         62561\n",
       "Libra          62363\n",
       "Virgo          60399\n",
       "Scorpio        57161\n",
       "Pisces         54053\n",
       "Leo            53811\n",
       "Gemini         51985\n",
       "Sagittarius    50036\n",
       "Aquarius       49687\n",
       "Capricorn      49201\n",
       "Name: sign, dtype: int64"
      ]
     },
     "execution_count": 584,
     "metadata": {},
     "output_type": "execute_result"
    }
   ],
   "source": [
    "blog_text['sign'].value_counts()"
   ]
  },
  {
   "cell_type": "code",
   "execution_count": 585,
   "id": "c891729f",
   "metadata": {},
   "outputs": [
    {
     "data": {
      "text/plain": [
       "19320"
      ]
     },
     "execution_count": 585,
     "metadata": {},
     "output_type": "execute_result"
    }
   ],
   "source": [
    "blog_text['id'].nunique()"
   ]
  },
  {
   "cell_type": "markdown",
   "id": "9c3eb587",
   "metadata": {},
   "source": [
    "### Outcome of Data Analysis : "
   ]
  },
  {
   "cell_type": "markdown",
   "id": "88e14171",
   "metadata": {},
   "source": [
    "* The dataset has 681284 records with 7 features. \n",
    "* The features are 'id', 'gender', 'age', 'topic', 'sign', 'date', 'text'\n",
    "* 50% belongs to male gender and 50% belongs to female\n",
    "* There are totally 40 topics available that would be the target variable for this multilabel classification problem\n",
    "* Text contains the blog entry from different authors of various age,sign and topic\n"
   ]
  },
  {
   "cell_type": "markdown",
   "id": "4bb401ff",
   "metadata": {},
   "source": [
    "<span style=\"font-family: Arial; font-weight:bold;font-size:1.5em;color:#00b3e5;\">B. Clean the Structured Data [3 Marks]"
   ]
  },
  {
   "cell_type": "markdown",
   "id": "3c616042",
   "metadata": {},
   "source": [
    "<span style=\"font-family: Arial; font-weight:bold;font-size:1.5em;color:#00b3e5;\">i. Missing value analysis and imputation. [1 Marks]"
   ]
  },
  {
   "cell_type": "code",
   "execution_count": 586,
   "id": "d0404a6e",
   "metadata": {},
   "outputs": [
    {
     "data": {
      "text/plain": [
       "id        0\n",
       "gender    0\n",
       "age       0\n",
       "topic     0\n",
       "sign      0\n",
       "date      0\n",
       "text      0\n",
       "dtype: int64"
      ]
     },
     "execution_count": 586,
     "metadata": {},
     "output_type": "execute_result"
    }
   ],
   "source": [
    "blog_text.isnull().sum()"
   ]
  },
  {
   "cell_type": "code",
   "execution_count": 587,
   "id": "df255dba",
   "metadata": {},
   "outputs": [
    {
     "name": "stdout",
     "output_type": "stream",
     "text": [
      "       Feature Name  percent_missing\n",
      "id               id              0.0\n",
      "gender       gender              0.0\n",
      "age             age              0.0\n",
      "topic         topic              0.0\n",
      "sign           sign              0.0\n",
      "date           date              0.0\n",
      "text           text              0.0\n"
     ]
    }
   ],
   "source": [
    "percent_missing = blog_text.isnull().sum() * 100 / len(blog_text)\n",
    "missing_value_data = pd.DataFrame({'Feature Name': blog_text.columns,\n",
    "                                 'percent_missing': percent_missing})\n",
    "print(missing_value_data)"
   ]
  },
  {
   "cell_type": "markdown",
   "id": "3af1e97a",
   "metadata": {},
   "source": [
    "**Note:** There is no missing values observed"
   ]
  },
  {
   "cell_type": "markdown",
   "id": "2f434e0d",
   "metadata": {},
   "source": [
    "Now, for our multi-class text classification task, we will be using only two of these columns out of 7, that is the column with the name ‘Topic’ and the column ‘Text'. Now let us create a new DataFrame to store only these two columns."
   ]
  },
  {
   "cell_type": "code",
   "execution_count": 588,
   "id": "e3dca1aa",
   "metadata": {},
   "outputs": [
    {
     "data": {
      "text/plain": [
       "(681284, 7)"
      ]
     },
     "execution_count": 588,
     "metadata": {},
     "output_type": "execute_result"
    }
   ],
   "source": [
    "blog_text.shape"
   ]
  },
  {
   "cell_type": "code",
   "execution_count": 589,
   "id": "43b667be",
   "metadata": {},
   "outputs": [],
   "source": [
    "# Create a new dataframe with two columns\n",
    "blog_df = blog_text[['topic', 'text']].copy()"
   ]
  },
  {
   "cell_type": "code",
   "execution_count": 590,
   "id": "8872ba8c",
   "metadata": {},
   "outputs": [],
   "source": [
    "blog_df['topic_id'] = blog_df['topic'].factorize()[0]"
   ]
  },
  {
   "cell_type": "code",
   "execution_count": 595,
   "id": "7d612840",
   "metadata": {},
   "outputs": [],
   "source": [
    "blog_id_df = blog_df[['topic', 'topic_id']].drop_duplicates()"
   ]
  },
  {
   "cell_type": "code",
   "execution_count": 596,
   "id": "59569b9d",
   "metadata": {},
   "outputs": [
    {
     "data": {
      "text/plain": [
       "(16, 2)"
      ]
     },
     "execution_count": 596,
     "metadata": {},
     "output_type": "execute_result"
    }
   ],
   "source": [
    "blog_id_df.shape"
   ]
  },
  {
   "cell_type": "code",
   "execution_count": 597,
   "id": "6c01a0b1",
   "metadata": {},
   "outputs": [
    {
     "data": {
      "text/html": [
       "<div>\n",
       "<style scoped>\n",
       "    .dataframe tbody tr th:only-of-type {\n",
       "        vertical-align: middle;\n",
       "    }\n",
       "\n",
       "    .dataframe tbody tr th {\n",
       "        vertical-align: top;\n",
       "    }\n",
       "\n",
       "    .dataframe thead th {\n",
       "        text-align: right;\n",
       "    }\n",
       "</style>\n",
       "<table border=\"1\" class=\"dataframe\">\n",
       "  <thead>\n",
       "    <tr style=\"text-align: right;\">\n",
       "      <th></th>\n",
       "      <th>topic</th>\n",
       "      <th>topic_id</th>\n",
       "    </tr>\n",
       "  </thead>\n",
       "  <tbody>\n",
       "    <tr>\n",
       "      <th>0</th>\n",
       "      <td>Student</td>\n",
       "      <td>0</td>\n",
       "    </tr>\n",
       "    <tr>\n",
       "      <th>4</th>\n",
       "      <td>Banking,InvestmentBanking,BusinessServices</td>\n",
       "      <td>1</td>\n",
       "    </tr>\n",
       "    <tr>\n",
       "      <th>74</th>\n",
       "      <td>indUnk</td>\n",
       "      <td>2</td>\n",
       "    </tr>\n",
       "    <tr>\n",
       "      <th>133</th>\n",
       "      <td>Fashion, religion and Non-Profit</td>\n",
       "      <td>3</td>\n",
       "    </tr>\n",
       "    <tr>\n",
       "      <th>474</th>\n",
       "      <td>Accounting and Education</td>\n",
       "      <td>4</td>\n",
       "    </tr>\n",
       "    <tr>\n",
       "      <th>573</th>\n",
       "      <td>Engineering and Telecommunications</td>\n",
       "      <td>5</td>\n",
       "    </tr>\n",
       "    <tr>\n",
       "      <th>692</th>\n",
       "      <td>Arts and Science</td>\n",
       "      <td>6</td>\n",
       "    </tr>\n",
       "    <tr>\n",
       "      <th>732</th>\n",
       "      <td>Internet, communication media and Humar Resources</td>\n",
       "      <td>7</td>\n",
       "    </tr>\n",
       "    <tr>\n",
       "      <th>851</th>\n",
       "      <td>Museums-Libraries,Sports-Recreation,Tourism</td>\n",
       "      <td>8</td>\n",
       "    </tr>\n",
       "    <tr>\n",
       "      <th>1393</th>\n",
       "      <td>Technology</td>\n",
       "      <td>9</td>\n",
       "    </tr>\n",
       "    <tr>\n",
       "      <th>4035</th>\n",
       "      <td>Government,Law and military</td>\n",
       "      <td>10</td>\n",
       "    </tr>\n",
       "    <tr>\n",
       "      <th>4054</th>\n",
       "      <td>Consulting,Marketing,Publishing,Advertising</td>\n",
       "      <td>11</td>\n",
       "    </tr>\n",
       "    <tr>\n",
       "      <th>4736</th>\n",
       "      <td>Automotive,Transportation</td>\n",
       "      <td>12</td>\n",
       "    </tr>\n",
       "    <tr>\n",
       "      <th>10498</th>\n",
       "      <td>Architecture,Construction,RealEstate</td>\n",
       "      <td>13</td>\n",
       "    </tr>\n",
       "    <tr>\n",
       "      <th>14233</th>\n",
       "      <td>Agriculture, Biotech,Environment</td>\n",
       "      <td>14</td>\n",
       "    </tr>\n",
       "    <tr>\n",
       "      <th>17216</th>\n",
       "      <td>Chemicals,Manufacturing</td>\n",
       "      <td>15</td>\n",
       "    </tr>\n",
       "  </tbody>\n",
       "</table>\n",
       "</div>"
      ],
      "text/plain": [
       "                                                   topic  topic_id\n",
       "0                                                Student         0\n",
       "4             Banking,InvestmentBanking,BusinessServices         1\n",
       "74                                                indUnk         2\n",
       "133                     Fashion, religion and Non-Profit         3\n",
       "474                             Accounting and Education         4\n",
       "573                   Engineering and Telecommunications         5\n",
       "692                                     Arts and Science         6\n",
       "732    Internet, communication media and Humar Resources         7\n",
       "851          Museums-Libraries,Sports-Recreation,Tourism         8\n",
       "1393                                          Technology         9\n",
       "4035                         Government,Law and military        10\n",
       "4054         Consulting,Marketing,Publishing,Advertising        11\n",
       "4736                           Automotive,Transportation        12\n",
       "10498               Architecture,Construction,RealEstate        13\n",
       "14233                   Agriculture, Biotech,Environment        14\n",
       "17216                            Chemicals,Manufacturing        15"
      ]
     },
     "execution_count": 597,
     "metadata": {},
     "output_type": "execute_result"
    }
   ],
   "source": [
    "blog_id_df"
   ]
  },
  {
   "cell_type": "code",
   "execution_count": 598,
   "id": "35389b92",
   "metadata": {},
   "outputs": [
    {
     "data": {
      "text/plain": [
       "indUnk                                               251015\n",
       "Student                                              153903\n",
       "Technology                                            42055\n",
       "Arts and Science                                      39718\n",
       "Internet, communication media and Humar Resources     39156\n",
       "Accounting and Education                              33465\n",
       "Fashion, religion and Non-Profit                      24786\n",
       "Consulting,Marketing,Publishing,Advertising           23060\n",
       "Government,Law and military                           20953\n",
       "Engineering and Telecommunications                    15544\n",
       "Banking,InvestmentBanking,BusinessServices             9841\n",
       "Museums-Libraries,Sports-Recreation,Tourism            8076\n",
       "Chemicals,Manufacturing                                6200\n",
       "Architecture,Construction,RealEstate                   5601\n",
       "Agriculture, Biotech,Environment                       4341\n",
       "Automotive,Transportation                              3570\n",
       "Name: topic, dtype: int64"
      ]
     },
     "execution_count": 598,
     "metadata": {},
     "output_type": "execute_result"
    }
   ],
   "source": [
    "blog_df['topic'].value_counts()"
   ]
  },
  {
   "cell_type": "markdown",
   "id": "b6bc5539",
   "metadata": {},
   "source": [
    "Environment. maritime are having very less values which would not help in predicting. Let us verify later if any of the columns can be combined"
   ]
  },
  {
   "cell_type": "code",
   "execution_count": 200,
   "id": "6f8f32f7",
   "metadata": {},
   "outputs": [
    {
     "data": {
      "text/plain": [
       "(681284, 3)"
      ]
     },
     "execution_count": 200,
     "metadata": {},
     "output_type": "execute_result"
    }
   ],
   "source": [
    "blog_df.shape\n"
   ]
  },
  {
   "cell_type": "code",
   "execution_count": 201,
   "id": "ef25a0b7",
   "metadata": {},
   "outputs": [],
   "source": [
    "### To find imbalance in Data"
   ]
  },
  {
   "cell_type": "code",
   "execution_count": 754,
   "id": "38a9863b",
   "metadata": {},
   "outputs": [
    {
     "data": {
      "image/png": "[encoded data removed]",
      "text/plain": [
       "<Figure size 576x432 with 1 Axes>"
      ]
     },
     "metadata": {
      "needs_background": "light"
     },
     "output_type": "display_data"
    }
   ],
   "source": [
    "fig = plt.figure(figsize=(8,6))\n",
    "colors = ['grey','grey','grey','grey','grey','grey','grey','grey','grey',\n",
    "    'grey','darkblue','darkblue','darkblue','darkblue','darkblue','darkblue']\n",
    "blog_df.groupby('topic').text.count().sort_values().plot.barh(\n",
    "    ylim=0, color=colors, title= 'NUMBER OF TEXT IN EACH TOPIC\\n')\n",
    "plt.xlabel('Number of ocurrences', fontsize = 10);"
   ]
  },
  {
   "cell_type": "code",
   "execution_count": 600,
   "id": "c903e1e9",
   "metadata": {},
   "outputs": [
    {
     "data": {
      "text/html": [
       "<div>\n",
       "<style scoped>\n",
       "    .dataframe tbody tr th:only-of-type {\n",
       "        vertical-align: middle;\n",
       "    }\n",
       "\n",
       "    .dataframe tbody tr th {\n",
       "        vertical-align: top;\n",
       "    }\n",
       "\n",
       "    .dataframe thead th {\n",
       "        text-align: right;\n",
       "    }\n",
       "</style>\n",
       "<table border=\"1\" class=\"dataframe\">\n",
       "  <thead>\n",
       "    <tr style=\"text-align: right;\">\n",
       "      <th></th>\n",
       "      <th>topic</th>\n",
       "      <th>topic_id</th>\n",
       "    </tr>\n",
       "  </thead>\n",
       "  <tbody>\n",
       "    <tr>\n",
       "      <th>0</th>\n",
       "      <td>Student</td>\n",
       "      <td>0</td>\n",
       "    </tr>\n",
       "    <tr>\n",
       "      <th>4</th>\n",
       "      <td>Banking,InvestmentBanking,BusinessServices</td>\n",
       "      <td>1</td>\n",
       "    </tr>\n",
       "    <tr>\n",
       "      <th>74</th>\n",
       "      <td>indUnk</td>\n",
       "      <td>2</td>\n",
       "    </tr>\n",
       "    <tr>\n",
       "      <th>133</th>\n",
       "      <td>Fashion, religion and Non-Profit</td>\n",
       "      <td>3</td>\n",
       "    </tr>\n",
       "    <tr>\n",
       "      <th>474</th>\n",
       "      <td>Accounting and Education</td>\n",
       "      <td>4</td>\n",
       "    </tr>\n",
       "    <tr>\n",
       "      <th>573</th>\n",
       "      <td>Engineering and Telecommunications</td>\n",
       "      <td>5</td>\n",
       "    </tr>\n",
       "    <tr>\n",
       "      <th>692</th>\n",
       "      <td>Arts and Science</td>\n",
       "      <td>6</td>\n",
       "    </tr>\n",
       "    <tr>\n",
       "      <th>732</th>\n",
       "      <td>Internet, communication media and Humar Resources</td>\n",
       "      <td>7</td>\n",
       "    </tr>\n",
       "    <tr>\n",
       "      <th>851</th>\n",
       "      <td>Museums-Libraries,Sports-Recreation,Tourism</td>\n",
       "      <td>8</td>\n",
       "    </tr>\n",
       "    <tr>\n",
       "      <th>1393</th>\n",
       "      <td>Technology</td>\n",
       "      <td>9</td>\n",
       "    </tr>\n",
       "    <tr>\n",
       "      <th>4035</th>\n",
       "      <td>Government,Law and military</td>\n",
       "      <td>10</td>\n",
       "    </tr>\n",
       "    <tr>\n",
       "      <th>4054</th>\n",
       "      <td>Consulting,Marketing,Publishing,Advertising</td>\n",
       "      <td>11</td>\n",
       "    </tr>\n",
       "    <tr>\n",
       "      <th>4736</th>\n",
       "      <td>Automotive,Transportation</td>\n",
       "      <td>12</td>\n",
       "    </tr>\n",
       "    <tr>\n",
       "      <th>10498</th>\n",
       "      <td>Architecture,Construction,RealEstate</td>\n",
       "      <td>13</td>\n",
       "    </tr>\n",
       "    <tr>\n",
       "      <th>14233</th>\n",
       "      <td>Agriculture, Biotech,Environment</td>\n",
       "      <td>14</td>\n",
       "    </tr>\n",
       "    <tr>\n",
       "      <th>17216</th>\n",
       "      <td>Chemicals,Manufacturing</td>\n",
       "      <td>15</td>\n",
       "    </tr>\n",
       "  </tbody>\n",
       "</table>\n",
       "</div>"
      ],
      "text/plain": [
       "                                                   topic  topic_id\n",
       "0                                                Student         0\n",
       "4             Banking,InvestmentBanking,BusinessServices         1\n",
       "74                                                indUnk         2\n",
       "133                     Fashion, religion and Non-Profit         3\n",
       "474                             Accounting and Education         4\n",
       "573                   Engineering and Telecommunications         5\n",
       "692                                     Arts and Science         6\n",
       "732    Internet, communication media and Humar Resources         7\n",
       "851          Museums-Libraries,Sports-Recreation,Tourism         8\n",
       "1393                                          Technology         9\n",
       "4035                         Government,Law and military        10\n",
       "4054         Consulting,Marketing,Publishing,Advertising        11\n",
       "4736                           Automotive,Transportation        12\n",
       "10498               Architecture,Construction,RealEstate        13\n",
       "14233                   Agriculture, Biotech,Environment        14\n",
       "17216                            Chemicals,Manufacturing        15"
      ]
     },
     "execution_count": 600,
     "metadata": {},
     "output_type": "execute_result"
    }
   ],
   "source": [
    "# Dictionaries for future use\n",
    "topic_to_id = dict(blog_id_df.values)\n",
    "id_to_topic = dict(blog_id_df[['topic_id', 'topic']].values)\n",
    "# New dataframe\n",
    "blog_id_df"
   ]
  },
  {
   "cell_type": "markdown",
   "id": "c5301819",
   "metadata": {},
   "source": [
    "<span style=\"font-family: Arial; font-weight:bold;font-size:1.5em;color:#00b3e5;\">ii. Eliminate Non-English textual data. [2 Marks]"
   ]
  },
  {
   "cell_type": "code",
   "execution_count": 474,
   "id": "bf2a012d",
   "metadata": {},
   "outputs": [],
   "source": [
    "### for easy processing first taking first 30000 records"
   ]
  },
  {
   "cell_type": "code",
   "execution_count": 601,
   "id": "760ff5f0",
   "metadata": {},
   "outputs": [],
   "source": [
    "blog_df1=blog_df.copy()"
   ]
  },
  {
   "cell_type": "code",
   "execution_count": 602,
   "id": "ecfee0d0",
   "metadata": {},
   "outputs": [],
   "source": [
    "blog_df = blog_df.head(10000)"
   ]
  },
  {
   "cell_type": "code",
   "execution_count": 603,
   "id": "8eb55d57",
   "metadata": {},
   "outputs": [],
   "source": [
    "blog_df_temp=blog_df.copy()"
   ]
  },
  {
   "cell_type": "markdown",
   "id": "f83378a9",
   "metadata": {},
   "source": [
    "\n",
    "\n",
    "Hint: Refer ‘langdetect’ library to detect language of the input text)"
   ]
  },
  {
   "cell_type": "code",
   "execution_count": 604,
   "id": "d03ca60f",
   "metadata": {},
   "outputs": [
    {
     "name": "stdout",
     "output_type": "stream",
     "text": [
      "Defaulting to user installation because normal site-packages is not writeable\n",
      "Requirement already satisfied: langdetect in c:\\users\\indukishen\\appdata\\roaming\\python\\python39\\site-packages (1.0.9)\n",
      "Requirement already satisfied: six in c:\\programdata\\anaconda3\\lib\\site-packages (from langdetect) (1.16.0)\n"
     ]
    }
   ],
   "source": [
    "!pip install langdetect"
   ]
  },
  {
   "cell_type": "code",
   "execution_count": 605,
   "id": "13008cbb",
   "metadata": {},
   "outputs": [],
   "source": [
    "from langdetect import detect"
   ]
  },
  {
   "cell_type": "code",
   "execution_count": 606,
   "id": "92a4a694",
   "metadata": {},
   "outputs": [],
   "source": [
    "def detect_lang(text):\n",
    "    return detect(text)"
   ]
  },
  {
   "cell_type": "code",
   "execution_count": 607,
   "id": "a0599700",
   "metadata": {},
   "outputs": [],
   "source": [
    "sample_text=blog_df['text'][4]"
   ]
  },
  {
   "cell_type": "code",
   "execution_count": 608,
   "id": "ff3aafa3",
   "metadata": {},
   "outputs": [
    {
     "data": {
      "text/plain": [
       "'en'"
      ]
     },
     "execution_count": 608,
     "metadata": {},
     "output_type": "execute_result"
    }
   ],
   "source": [
    "detect(sample_text)"
   ]
  },
  {
   "cell_type": "markdown",
   "id": "fc3e576c",
   "metadata": {},
   "source": [
    "## Method to detect language of the Text"
   ]
  },
  {
   "cell_type": "code",
   "execution_count": 609,
   "id": "039397ee",
   "metadata": {},
   "outputs": [],
   "source": [
    "def detect_en(text):\n",
    "    try:\n",
    "        return detect(text) == 'en'\n",
    "    except:\n",
    "        return False"
   ]
  },
  {
   "cell_type": "code",
   "execution_count": 610,
   "id": "efc85bac",
   "metadata": {},
   "outputs": [],
   "source": [
    "blog_text_new= blog_df[blog_df['text'].apply(detect_en)]"
   ]
  },
  {
   "cell_type": "code",
   "execution_count": 611,
   "id": "f660fc19",
   "metadata": {},
   "outputs": [
    {
     "data": {
      "text/plain": [
       "(9551, 3)"
      ]
     },
     "execution_count": 611,
     "metadata": {},
     "output_type": "execute_result"
    }
   ],
   "source": [
    "blog_text_new.shape"
   ]
  },
  {
   "cell_type": "code",
   "execution_count": 612,
   "id": "e3d5519e",
   "metadata": {},
   "outputs": [],
   "source": [
    "blog_text_temp_1=blog_text_new.copy()"
   ]
  },
  {
   "cell_type": "code",
   "execution_count": 613,
   "id": "c48fa6c9",
   "metadata": {},
   "outputs": [],
   "source": [
    "blog_df_final=blog_text_temp_1.copy()"
   ]
  },
  {
   "cell_type": "code",
   "execution_count": 651,
   "id": "3ad1e9f6",
   "metadata": {},
   "outputs": [
    {
     "data": {
      "text/plain": [
       "(9551, 3)"
      ]
     },
     "execution_count": 651,
     "metadata": {},
     "output_type": "execute_result"
    }
   ],
   "source": [
    "blog_df_final.shape"
   ]
  },
  {
   "cell_type": "code",
   "execution_count": 652,
   "id": "6ceef4d4",
   "metadata": {},
   "outputs": [
    {
     "data": {
      "text/plain": [
       "13"
      ]
     },
     "execution_count": 652,
     "metadata": {},
     "output_type": "execute_result"
    }
   ],
   "source": [
    "blog_df_final['topic_id'].nunique()"
   ]
  },
  {
   "cell_type": "markdown",
   "id": "65eb4d08",
   "metadata": {},
   "source": [
    "### out of 10000 records taken for sampling only 9551 records belong to english language"
   ]
  },
  {
   "cell_type": "markdown",
   "id": "f936bf73",
   "metadata": {},
   "source": [
    "<span style=\"font-family: Arial; font-weight:bold;font-size:1.5em;color:#00b3e5;\">2. Preprocess unstructured data to make it consumable for model training. [5 Marks]"
   ]
  },
  {
   "cell_type": "markdown",
   "id": "ddcdb86d",
   "metadata": {},
   "source": [
    "<span style=\"font-family: Arial; font-weight:bold;font-size:1.5em;color:#00b3e5;\">A. Eliminate All special Characters and Numbers [2 Marks]"
   ]
  },
  {
   "cell_type": "code",
   "execution_count": 615,
   "id": "2a11c433",
   "metadata": {},
   "outputs": [],
   "source": [
    "import re\n",
    "sample=blog_df_final['text'][4]"
   ]
  },
  {
   "cell_type": "code",
   "execution_count": 616,
   "id": "8206d01d",
   "metadata": {},
   "outputs": [
    {
     "data": {
      "text/plain": [
       "\"             Thanks to Yahoo!'s Toolbar I can now 'capture' the URLs of popups...which means now I can show you some cool links to Korean Pop (K-Pop) audio and video without the need to relate instructions like: 'go to the site, click on the pop-audio button then choose...'.  So, without further ado here is the link to 24-hour K-Pop  urlLink audio  and the  urlLink video  streaming.  Enjoy.         \""
      ]
     },
     "execution_count": 616,
     "metadata": {},
     "output_type": "execute_result"
    }
   ],
   "source": [
    "sample"
   ]
  },
  {
   "cell_type": "code",
   "execution_count": 617,
   "id": "58a5a188",
   "metadata": {},
   "outputs": [],
   "source": [
    "new_sample = re.sub('[^A-Za-z]+', ' ', sample)\n"
   ]
  },
  {
   "cell_type": "code",
   "execution_count": 618,
   "id": "9ad6cc67",
   "metadata": {},
   "outputs": [
    {
     "name": "stdout",
     "output_type": "stream",
     "text": [
      " Thanks to Yahoo s Toolbar I can now capture the URLs of popups which means now I can show you some cool links to Korean Pop K Pop audio and video without the need to relate instructions like go to the site click on the pop audio button then choose So without further ado here is the link to hour K Pop urlLink audio and the urlLink video streaming Enjoy \n"
     ]
    }
   ],
   "source": [
    "print(new_sample)"
   ]
  },
  {
   "cell_type": "code",
   "execution_count": 619,
   "id": "9c2e34ea",
   "metadata": {},
   "outputs": [],
   "source": [
    "# Select only alphabets\n",
    "import re\n",
    "blog_df_final['text']=blog_df_final['text'].apply(lambda x: re.sub('[^A-Za-z]+', ' ', x))"
   ]
  },
  {
   "cell_type": "markdown",
   "id": "d1340def",
   "metadata": {},
   "source": [
    "<span style=\"font-family: Arial; font-weight:bold;font-size:1.5em;color:#00b3e5;\">B. Lowercase all textual data [1 Marks]"
   ]
  },
  {
   "cell_type": "code",
   "execution_count": 620,
   "id": "3a8583ef",
   "metadata": {},
   "outputs": [],
   "source": [
    "blog_df_final['text']=blog_df_final['text'].apply(lambda x: x.lower())"
   ]
  },
  {
   "cell_type": "markdown",
   "id": "b0578320",
   "metadata": {},
   "source": [
    "<span style=\"font-family: Arial; font-weight:bold;font-size:1.5em;color:#00b3e5;\">C. Remove all Stopwords [1 Marks]"
   ]
  },
  {
   "cell_type": "code",
   "execution_count": 621,
   "id": "a276d0e1",
   "metadata": {},
   "outputs": [],
   "source": [
    "# Remove stopwords\n",
    "from nltk.corpus import stopwords\n",
    "stopwords = set(stopwords.words('english'))\n",
    "blog_df_final['text']=blog_df_final['text'].apply(lambda x: ' '.join([word for word in x.split() if word not in stopwords]))"
   ]
  },
  {
   "cell_type": "markdown",
   "id": "f8b5eb8c",
   "metadata": {},
   "source": [
    "<span style=\"font-family: Arial; font-weight:bold;font-size:1.5em;color:#00b3e5;\">D. Remove all extra white spaces [1 Marks]"
   ]
  },
  {
   "cell_type": "code",
   "execution_count": 622,
   "id": "0f32d8f7",
   "metadata": {},
   "outputs": [],
   "source": [
    "# Strip unwanted spaces\n",
    "blog_df_final['text']=blog_df_final['text'].apply(lambda x: x.strip())"
   ]
  },
  {
   "cell_type": "code",
   "execution_count": 623,
   "id": "c07b5f4c",
   "metadata": {
    "scrolled": true
   },
   "outputs": [
    {
     "data": {
      "text/plain": [
       "'thanks yahoo toolbar capture urls popups means show cool links korean pop k pop audio video without need relate instructions like go site click pop audio button choose without ado link hour k pop urllink audio urllink video streaming enjoy'"
      ]
     },
     "execution_count": 623,
     "metadata": {},
     "output_type": "execute_result"
    }
   ],
   "source": [
    "blog_df_final['text'][4]"
   ]
  },
  {
   "cell_type": "code",
   "execution_count": 498,
   "id": "1d5b57f3",
   "metadata": {},
   "outputs": [
    {
     "data": {
      "text/plain": [
       "'somehow coca cola way summing things well early flagship jingle like buy world coke tune like teach world sing pretty much summed post woodstock era well add much sales catchy tune korea coke theme urllink stop thinking feel pretty much sums lot korea koreans look relaxed couple stopped thinking started feeling course high regard education math logic deep think many koreans really like work emotion anything else westerners seem sublimate moreso least display different way maybe scratch westerners koreans probably pretty similar context different anyways think losing korea repeat stop thinking feel stop thinking feel stop thinking feel everything alright'"
      ]
     },
     "execution_count": 498,
     "metadata": {},
     "output_type": "execute_result"
    }
   ],
   "source": [
    "blog_df_final['text'][6]"
   ]
  },
  {
   "cell_type": "markdown",
   "id": "d3f2eb54",
   "metadata": {},
   "source": [
    "### Remove punctuation"
   ]
  },
  {
   "cell_type": "code",
   "execution_count": 626,
   "id": "45d00e0f",
   "metadata": {},
   "outputs": [
    {
     "data": {
      "text/plain": [
       "'!\"#$%&\\'()*+,-./:;<=>?@[\\\\]^_`{|}~'"
      ]
     },
     "execution_count": 626,
     "metadata": {},
     "output_type": "execute_result"
    }
   ],
   "source": [
    "#library that contains punctuation\n",
    "import string\n",
    "string.punctuation"
   ]
  },
  {
   "cell_type": "code",
   "execution_count": 627,
   "id": "94ceefc7",
   "metadata": {},
   "outputs": [],
   "source": [
    "#defining the function to remove punctuation\n",
    "def remove_punctuation(text):\n",
    "    punctuationfree=\"\".join([i for i in text if i not in string.punctuation])\n",
    "    return punctuationfree\n",
    "#storing the puntuation free text\n",
    "blog_df_final['text']=blog_df_final['text'].apply(lambda x:remove_punctuation(x))\n"
   ]
  },
  {
   "cell_type": "code",
   "execution_count": 628,
   "id": "24508fb0",
   "metadata": {},
   "outputs": [
    {
     "data": {
      "text/html": [
       "<div>\n",
       "<style scoped>\n",
       "    .dataframe tbody tr th:only-of-type {\n",
       "        vertical-align: middle;\n",
       "    }\n",
       "\n",
       "    .dataframe tbody tr th {\n",
       "        vertical-align: top;\n",
       "    }\n",
       "\n",
       "    .dataframe thead th {\n",
       "        text-align: right;\n",
       "    }\n",
       "</style>\n",
       "<table border=\"1\" class=\"dataframe\">\n",
       "  <thead>\n",
       "    <tr style=\"text-align: right;\">\n",
       "      <th></th>\n",
       "      <th>topic</th>\n",
       "      <th>text</th>\n",
       "      <th>topic_id</th>\n",
       "    </tr>\n",
       "  </thead>\n",
       "  <tbody>\n",
       "    <tr>\n",
       "      <th>9995</th>\n",
       "      <td>indUnk</td>\n",
       "      <td>take home forever may rest sleep arms forgotte...</td>\n",
       "      <td>2</td>\n",
       "    </tr>\n",
       "    <tr>\n",
       "      <th>9996</th>\n",
       "      <td>indUnk</td>\n",
       "      <td>seductive secretness behind doors warning neve...</td>\n",
       "      <td>2</td>\n",
       "    </tr>\n",
       "    <tr>\n",
       "      <th>9997</th>\n",
       "      <td>indUnk</td>\n",
       "      <td>kind need holding hand petting hair cry bring ...</td>\n",
       "      <td>2</td>\n",
       "    </tr>\n",
       "    <tr>\n",
       "      <th>9998</th>\n",
       "      <td>indUnk</td>\n",
       "      <td>blurry outside sounds people mingle pass darkn...</td>\n",
       "      <td>2</td>\n",
       "    </tr>\n",
       "    <tr>\n",
       "      <th>9999</th>\n",
       "      <td>indUnk</td>\n",
       "      <td>body feels broken mind rejoices thought warmth...</td>\n",
       "      <td>2</td>\n",
       "    </tr>\n",
       "  </tbody>\n",
       "</table>\n",
       "</div>"
      ],
      "text/plain": [
       "       topic                                               text  topic_id\n",
       "9995  indUnk  take home forever may rest sleep arms forgotte...         2\n",
       "9996  indUnk  seductive secretness behind doors warning neve...         2\n",
       "9997  indUnk  kind need holding hand petting hair cry bring ...         2\n",
       "9998  indUnk  blurry outside sounds people mingle pass darkn...         2\n",
       "9999  indUnk  body feels broken mind rejoices thought warmth...         2"
      ]
     },
     "execution_count": 628,
     "metadata": {},
     "output_type": "execute_result"
    }
   ],
   "source": [
    "blog_df_final.tail()"
   ]
  },
  {
   "cell_type": "markdown",
   "id": "3059a177",
   "metadata": {},
   "source": [
    "### Lemmatization"
   ]
  },
  {
   "cell_type": "code",
   "execution_count": 629,
   "id": "28df16e9",
   "metadata": {},
   "outputs": [],
   "source": [
    "# Saving the lemmatizer into an object\n",
    "wordnet_lemmatizer = WordNetLemmatizer()"
   ]
  },
  {
   "cell_type": "code",
   "execution_count": 630,
   "id": "e795deae",
   "metadata": {},
   "outputs": [],
   "source": [
    "nrows = len(blog_df_final)"
   ]
  },
  {
   "cell_type": "code",
   "execution_count": 631,
   "id": "fbb1fa72",
   "metadata": {},
   "outputs": [
    {
     "data": {
      "text/plain": [
       "9551"
      ]
     },
     "execution_count": 631,
     "metadata": {},
     "output_type": "execute_result"
    }
   ],
   "source": [
    "nrows"
   ]
  },
  {
   "cell_type": "code",
   "execution_count": 632,
   "id": "baf50614",
   "metadata": {},
   "outputs": [
    {
     "data": {
      "text/plain": [
       "'nbsp yeah thinking bit nbsp typing nbsp n'"
      ]
     },
     "execution_count": 632,
     "metadata": {},
     "output_type": "execute_result"
    }
   ],
   "source": [
    "blog_df_final.loc[149]['text']"
   ]
  },
  {
   "cell_type": "code",
   "execution_count": 633,
   "id": "afab1efa",
   "metadata": {},
   "outputs": [
    {
     "data": {
      "text/plain": [
       "'incident yesterday girl talking messenger clicked accept webcam feed realising actually wearing top modesty fun saved uncompromising norton pop increasingly answer ah well rain insistent unwelcome mention inappropriate time year good weather following hot chocolate writing songs staying inside shaving okay shaving need also washing pants go mystery blog unfolds sure master plans plural master plan would complete without least one foolproof contingency become clear must go busy ongoing preliminary stages maybe biscuit watch tv hugs themadnesshamster follow n'"
      ]
     },
     "execution_count": 633,
     "metadata": {},
     "output_type": "execute_result"
    }
   ],
   "source": [
    "blog_df_final.loc[140]['text']"
   ]
  },
  {
   "cell_type": "code",
   "execution_count": 634,
   "id": "28426bb1",
   "metadata": {},
   "outputs": [
    {
     "data": {
      "text/plain": [
       "'nbsp wondering whether inclusion links stuff would enhance detract blog one problems old journal people started getting clever clever original double edged sword given choice popular jumping point obscure idiosyncratic choose latter always mind say combine two direct urllink greg nbsp good example hat tipping guy got started nbsp'"
      ]
     },
     "execution_count": 634,
     "metadata": {},
     "output_type": "execute_result"
    }
   ],
   "source": [
    "blog_df_final.loc[151]['text']"
   ]
  },
  {
   "cell_type": "code",
   "execution_count": 636,
   "id": "61c5ff72",
   "metadata": {},
   "outputs": [],
   "source": [
    "#for index, row in blog_df_final.iterrows():\n",
    "   # print(\"***************\")\n",
    "    #print(row['text'])"
   ]
  },
  {
   "cell_type": "code",
   "execution_count": 637,
   "id": "5140952d",
   "metadata": {},
   "outputs": [
    {
     "name": "stdout",
     "output_type": "stream",
     "text": [
      "0       info found pages mb pdf files wait untill team...\n",
      "2       het kader van kernfusie op aarde maak je eigen...\n",
      "3                                         testing testing\n",
      "4       thanks yahoo toolbar capture urls popups means...\n",
      "5       interesting conversation dad morning talking k...\n",
      "                              ...                        \n",
      "9995    take home forever may rest sleep arms forgotte...\n",
      "9996    seductive secretness behind doors warning neve...\n",
      "9997    kind need holding hand petting hair cry bring ...\n",
      "9998    blurry outside sounds people mingle pass darkn...\n",
      "9999    body feels broken mind rejoices thought warmth...\n",
      "Name: text, Length: 9551, dtype: object\n",
      "1\n"
     ]
    }
   ],
   "source": [
    "i=0\n",
    "for col in blog_df_final[['text']]:\n",
    "    if(i<1):\n",
    "        print(blog_df_final[col])\n",
    "        i=i+1\n",
    "        print(i)"
   ]
  },
  {
   "cell_type": "code",
   "execution_count": 638,
   "id": "2f5737fb",
   "metadata": {},
   "outputs": [
    {
     "name": "stderr",
     "output_type": "stream",
     "text": [
      "[nltk_data] Downloading package omw-1.4 to\n",
      "[nltk_data]     C:\\Users\\indukishen\\AppData\\Roaming\\nltk_data...\n",
      "[nltk_data]   Package omw-1.4 is already up-to-date!\n"
     ]
    },
    {
     "data": {
      "text/plain": [
       "True"
      ]
     },
     "execution_count": 638,
     "metadata": {},
     "output_type": "execute_result"
    }
   ],
   "source": [
    "import nltk\n",
    "nltk.download('omw-1.4')"
   ]
  },
  {
   "cell_type": "code",
   "execution_count": 639,
   "id": "5c1f2889",
   "metadata": {},
   "outputs": [],
   "source": [
    "\n",
    "lemmatized_text_list = []\n",
    "\n",
    "for index, row in blog_df_final.iterrows():\n",
    "    \n",
    "    # Create an empty list containing lemmatized words\n",
    "    lemmatized_list = []\n",
    "    \n",
    "    # Save the text and its words into an object\n",
    "    text = row['text']\n",
    "    text_words = text.split(\" \")\n",
    "\n",
    "    # Iterate through every word to lemmatize\n",
    "    for word in text_words:\n",
    "        lemmatized_list.append(wordnet_lemmatizer.lemmatize(word, pos=\"v\"))\n",
    "        \n",
    "    # Join the list\n",
    "    lemmatized_text = \" \".join(lemmatized_list)\n",
    "    \n",
    "    # Append to the list containing the texts\n",
    "    lemmatized_text_list.append(lemmatized_text)"
   ]
  },
  {
   "cell_type": "code",
   "execution_count": 640,
   "id": "ea3c235f",
   "metadata": {},
   "outputs": [],
   "source": [
    "blog_df_final['fin_text'] = lemmatized_text_list"
   ]
  },
  {
   "cell_type": "code",
   "execution_count": 642,
   "id": "6b58135c",
   "metadata": {},
   "outputs": [
    {
     "data": {
      "text/html": [
       "<div>\n",
       "<style scoped>\n",
       "    .dataframe tbody tr th:only-of-type {\n",
       "        vertical-align: middle;\n",
       "    }\n",
       "\n",
       "    .dataframe tbody tr th {\n",
       "        vertical-align: top;\n",
       "    }\n",
       "\n",
       "    .dataframe thead th {\n",
       "        text-align: right;\n",
       "    }\n",
       "</style>\n",
       "<table border=\"1\" class=\"dataframe\">\n",
       "  <thead>\n",
       "    <tr style=\"text-align: right;\">\n",
       "      <th></th>\n",
       "      <th>topic</th>\n",
       "      <th>text</th>\n",
       "      <th>topic_id</th>\n",
       "      <th>fin_text</th>\n",
       "    </tr>\n",
       "  </thead>\n",
       "  <tbody>\n",
       "    <tr>\n",
       "      <th>9990</th>\n",
       "      <td>indUnk</td>\n",
       "      <td>colourful displays affection beaming happiness...</td>\n",
       "      <td>2</td>\n",
       "      <td>colourful display affection beam happiness smi...</td>\n",
       "    </tr>\n",
       "    <tr>\n",
       "      <th>9991</th>\n",
       "      <td>indUnk</td>\n",
       "      <td>want hide away tonight climb darkness warmth b...</td>\n",
       "      <td>2</td>\n",
       "      <td>want hide away tonight climb darkness warmth b...</td>\n",
       "    </tr>\n",
       "    <tr>\n",
       "      <th>9992</th>\n",
       "      <td>indUnk</td>\n",
       "      <td>smile takes away worry strong hands cup hold g...</td>\n",
       "      <td>2</td>\n",
       "      <td>smile take away worry strong hand cup hold gen...</td>\n",
       "    </tr>\n",
       "    <tr>\n",
       "      <th>9993</th>\n",
       "      <td>indUnk</td>\n",
       "      <td>pulling leash urgency face close smell scent e...</td>\n",
       "      <td>2</td>\n",
       "      <td>pull leash urgency face close smell scent ever...</td>\n",
       "    </tr>\n",
       "    <tr>\n",
       "      <th>9994</th>\n",
       "      <td>indUnk</td>\n",
       "      <td>beyond call gods heroes beyond taste salt lips...</td>\n",
       "      <td>2</td>\n",
       "      <td>beyond call gods heroes beyond taste salt lips...</td>\n",
       "    </tr>\n",
       "    <tr>\n",
       "      <th>9995</th>\n",
       "      <td>indUnk</td>\n",
       "      <td>take home forever may rest sleep arms forgotte...</td>\n",
       "      <td>2</td>\n",
       "      <td>take home forever may rest sleep arm forget ca...</td>\n",
       "    </tr>\n",
       "    <tr>\n",
       "      <th>9996</th>\n",
       "      <td>indUnk</td>\n",
       "      <td>seductive secretness behind doors warning neve...</td>\n",
       "      <td>2</td>\n",
       "      <td>seductive secretness behind doors warn never l...</td>\n",
       "    </tr>\n",
       "    <tr>\n",
       "      <th>9997</th>\n",
       "      <td>indUnk</td>\n",
       "      <td>kind need holding hand petting hair cry bring ...</td>\n",
       "      <td>2</td>\n",
       "      <td>kind need hold hand pet hair cry bring water c...</td>\n",
       "    </tr>\n",
       "    <tr>\n",
       "      <th>9998</th>\n",
       "      <td>indUnk</td>\n",
       "      <td>blurry outside sounds people mingle pass darkn...</td>\n",
       "      <td>2</td>\n",
       "      <td>blurry outside sound people mingle pass darkne...</td>\n",
       "    </tr>\n",
       "    <tr>\n",
       "      <th>9999</th>\n",
       "      <td>indUnk</td>\n",
       "      <td>body feels broken mind rejoices thought warmth...</td>\n",
       "      <td>2</td>\n",
       "      <td>body feel break mind rejoice think warmth smil...</td>\n",
       "    </tr>\n",
       "  </tbody>\n",
       "</table>\n",
       "</div>"
      ],
      "text/plain": [
       "       topic                                               text  topic_id  \\\n",
       "9990  indUnk  colourful displays affection beaming happiness...         2   \n",
       "9991  indUnk  want hide away tonight climb darkness warmth b...         2   \n",
       "9992  indUnk  smile takes away worry strong hands cup hold g...         2   \n",
       "9993  indUnk  pulling leash urgency face close smell scent e...         2   \n",
       "9994  indUnk  beyond call gods heroes beyond taste salt lips...         2   \n",
       "9995  indUnk  take home forever may rest sleep arms forgotte...         2   \n",
       "9996  indUnk  seductive secretness behind doors warning neve...         2   \n",
       "9997  indUnk  kind need holding hand petting hair cry bring ...         2   \n",
       "9998  indUnk  blurry outside sounds people mingle pass darkn...         2   \n",
       "9999  indUnk  body feels broken mind rejoices thought warmth...         2   \n",
       "\n",
       "                                               fin_text  \n",
       "9990  colourful display affection beam happiness smi...  \n",
       "9991  want hide away tonight climb darkness warmth b...  \n",
       "9992  smile take away worry strong hand cup hold gen...  \n",
       "9993  pull leash urgency face close smell scent ever...  \n",
       "9994  beyond call gods heroes beyond taste salt lips...  \n",
       "9995  take home forever may rest sleep arm forget ca...  \n",
       "9996  seductive secretness behind doors warn never l...  \n",
       "9997  kind need hold hand pet hair cry bring water c...  \n",
       "9998  blurry outside sound people mingle pass darkne...  \n",
       "9999  body feel break mind rejoice think warmth smil...  "
      ]
     },
     "execution_count": 642,
     "metadata": {},
     "output_type": "execute_result"
    }
   ],
   "source": [
    "blog_df_final.tail(10)"
   ]
  },
  {
   "cell_type": "markdown",
   "id": "812a6ea4",
   "metadata": {},
   "source": [
    "<span style=\"font-family: Arial; font-weight:bold;font-size:1.5em;color:#00b3e5;\">"
   ]
  },
  {
   "cell_type": "markdown",
   "id": "b350c851",
   "metadata": {},
   "source": [
    "<span style=\"font-family: Arial; font-weight:bold;font-size:1.5em;color:#00b3e5;\">3. Build a base Classification model [8 Marks]"
   ]
  },
  {
   "cell_type": "markdown",
   "id": "7bec85eb",
   "metadata": {},
   "source": [
    "<span style=\"font-family: Arial; font-weight:bold;font-size:1.5em;color:#00b3e5;\">A. Create dependent and independent variables [2 Marks]"
   ]
  },
  {
   "cell_type": "code",
   "execution_count": 643,
   "id": "2a805697",
   "metadata": {},
   "outputs": [
    {
     "data": {
      "text/html": [
       "<div>\n",
       "<style scoped>\n",
       "    .dataframe tbody tr th:only-of-type {\n",
       "        vertical-align: middle;\n",
       "    }\n",
       "\n",
       "    .dataframe tbody tr th {\n",
       "        vertical-align: top;\n",
       "    }\n",
       "\n",
       "    .dataframe thead th {\n",
       "        text-align: right;\n",
       "    }\n",
       "</style>\n",
       "<table border=\"1\" class=\"dataframe\">\n",
       "  <thead>\n",
       "    <tr style=\"text-align: right;\">\n",
       "      <th></th>\n",
       "      <th>topic</th>\n",
       "      <th>text</th>\n",
       "      <th>topic_id</th>\n",
       "      <th>fin_text</th>\n",
       "    </tr>\n",
       "  </thead>\n",
       "  <tbody>\n",
       "    <tr>\n",
       "      <th>0</th>\n",
       "      <td>Student</td>\n",
       "      <td>info found pages mb pdf files wait untill team...</td>\n",
       "      <td>0</td>\n",
       "      <td>info find page mb pdf file wait untill team le...</td>\n",
       "    </tr>\n",
       "    <tr>\n",
       "      <th>2</th>\n",
       "      <td>Student</td>\n",
       "      <td>het kader van kernfusie op aarde maak je eigen...</td>\n",
       "      <td>0</td>\n",
       "      <td>het kader van kernfusie op aarde maak je eigen...</td>\n",
       "    </tr>\n",
       "    <tr>\n",
       "      <th>3</th>\n",
       "      <td>Student</td>\n",
       "      <td>testing testing</td>\n",
       "      <td>0</td>\n",
       "      <td>test test</td>\n",
       "    </tr>\n",
       "    <tr>\n",
       "      <th>4</th>\n",
       "      <td>Banking,InvestmentBanking,BusinessServices</td>\n",
       "      <td>thanks yahoo toolbar capture urls popups means...</td>\n",
       "      <td>1</td>\n",
       "      <td>thank yahoo toolbar capture urls popups mean s...</td>\n",
       "    </tr>\n",
       "    <tr>\n",
       "      <th>5</th>\n",
       "      <td>Banking,InvestmentBanking,BusinessServices</td>\n",
       "      <td>interesting conversation dad morning talking k...</td>\n",
       "      <td>1</td>\n",
       "      <td>interest conversation dad morning talk koreans...</td>\n",
       "    </tr>\n",
       "  </tbody>\n",
       "</table>\n",
       "</div>"
      ],
      "text/plain": [
       "                                        topic  \\\n",
       "0                                     Student   \n",
       "2                                     Student   \n",
       "3                                     Student   \n",
       "4  Banking,InvestmentBanking,BusinessServices   \n",
       "5  Banking,InvestmentBanking,BusinessServices   \n",
       "\n",
       "                                                text  topic_id  \\\n",
       "0  info found pages mb pdf files wait untill team...         0   \n",
       "2  het kader van kernfusie op aarde maak je eigen...         0   \n",
       "3                                    testing testing         0   \n",
       "4  thanks yahoo toolbar capture urls popups means...         1   \n",
       "5  interesting conversation dad morning talking k...         1   \n",
       "\n",
       "                                            fin_text  \n",
       "0  info find page mb pdf file wait untill team le...  \n",
       "2  het kader van kernfusie op aarde maak je eigen...  \n",
       "3                                          test test  \n",
       "4  thank yahoo toolbar capture urls popups mean s...  \n",
       "5  interest conversation dad morning talk koreans...  "
      ]
     },
     "execution_count": 643,
     "metadata": {},
     "output_type": "execute_result"
    }
   ],
   "source": [
    "blog_df_final.head()"
   ]
  },
  {
   "cell_type": "markdown",
   "id": "676228ea",
   "metadata": {},
   "source": [
    "**Observation:** After lemmetization the fin_text contains the lemmetized wordks. Found become fine, thanks become thank, interesting become interest"
   ]
  },
  {
   "cell_type": "code",
   "execution_count": 644,
   "id": "51e12283",
   "metadata": {},
   "outputs": [],
   "source": [
    "blog_df_final.drop(columns =['text'],axis=1,inplace = True)"
   ]
  },
  {
   "cell_type": "code",
   "execution_count": 645,
   "id": "7350c1cb",
   "metadata": {},
   "outputs": [
    {
     "data": {
      "text/plain": [
       "(9551, 3)"
      ]
     },
     "execution_count": 645,
     "metadata": {},
     "output_type": "execute_result"
    }
   ],
   "source": [
    "blog_df_final.shape"
   ]
  },
  {
   "cell_type": "code",
   "execution_count": 646,
   "id": "32752031",
   "metadata": {},
   "outputs": [
    {
     "data": {
      "text/html": [
       "<div>\n",
       "<style scoped>\n",
       "    .dataframe tbody tr th:only-of-type {\n",
       "        vertical-align: middle;\n",
       "    }\n",
       "\n",
       "    .dataframe tbody tr th {\n",
       "        vertical-align: top;\n",
       "    }\n",
       "\n",
       "    .dataframe thead th {\n",
       "        text-align: right;\n",
       "    }\n",
       "</style>\n",
       "<table border=\"1\" class=\"dataframe\">\n",
       "  <thead>\n",
       "    <tr style=\"text-align: right;\">\n",
       "      <th></th>\n",
       "      <th>topic</th>\n",
       "      <th>topic_id</th>\n",
       "      <th>fin_text</th>\n",
       "    </tr>\n",
       "  </thead>\n",
       "  <tbody>\n",
       "    <tr>\n",
       "      <th>0</th>\n",
       "      <td>Student</td>\n",
       "      <td>0</td>\n",
       "      <td>info find page mb pdf file wait untill team le...</td>\n",
       "    </tr>\n",
       "    <tr>\n",
       "      <th>2</th>\n",
       "      <td>Student</td>\n",
       "      <td>0</td>\n",
       "      <td>het kader van kernfusie op aarde maak je eigen...</td>\n",
       "    </tr>\n",
       "    <tr>\n",
       "      <th>3</th>\n",
       "      <td>Student</td>\n",
       "      <td>0</td>\n",
       "      <td>test test</td>\n",
       "    </tr>\n",
       "    <tr>\n",
       "      <th>4</th>\n",
       "      <td>Banking,InvestmentBanking,BusinessServices</td>\n",
       "      <td>1</td>\n",
       "      <td>thank yahoo toolbar capture urls popups mean s...</td>\n",
       "    </tr>\n",
       "    <tr>\n",
       "      <th>5</th>\n",
       "      <td>Banking,InvestmentBanking,BusinessServices</td>\n",
       "      <td>1</td>\n",
       "      <td>interest conversation dad morning talk koreans...</td>\n",
       "    </tr>\n",
       "  </tbody>\n",
       "</table>\n",
       "</div>"
      ],
      "text/plain": [
       "                                        topic  topic_id  \\\n",
       "0                                     Student         0   \n",
       "2                                     Student         0   \n",
       "3                                     Student         0   \n",
       "4  Banking,InvestmentBanking,BusinessServices         1   \n",
       "5  Banking,InvestmentBanking,BusinessServices         1   \n",
       "\n",
       "                                            fin_text  \n",
       "0  info find page mb pdf file wait untill team le...  \n",
       "2  het kader van kernfusie op aarde maak je eigen...  \n",
       "3                                          test test  \n",
       "4  thank yahoo toolbar capture urls popups mean s...  \n",
       "5  interest conversation dad morning talk koreans...  "
      ]
     },
     "execution_count": 646,
     "metadata": {},
     "output_type": "execute_result"
    }
   ],
   "source": [
    "blog_df_final.head()"
   ]
  },
  {
   "cell_type": "code",
   "execution_count": 647,
   "id": "84beafbd",
   "metadata": {},
   "outputs": [],
   "source": [
    "X = blog_df_final.fin_text\n",
    "y = blog_df_final.topic_id"
   ]
  },
  {
   "cell_type": "code",
   "execution_count": 648,
   "id": "faad3409",
   "metadata": {},
   "outputs": [
    {
     "data": {
      "text/plain": [
       "0    info find page mb pdf file wait untill team le...\n",
       "2    het kader van kernfusie op aarde maak je eigen...\n",
       "3                                            test test\n",
       "4    thank yahoo toolbar capture urls popups mean s...\n",
       "5    interest conversation dad morning talk koreans...\n",
       "Name: fin_text, dtype: object"
      ]
     },
     "execution_count": 648,
     "metadata": {},
     "output_type": "execute_result"
    }
   ],
   "source": [
    "X.head()"
   ]
  },
  {
   "cell_type": "code",
   "execution_count": 649,
   "id": "9b113c0f",
   "metadata": {},
   "outputs": [
    {
     "data": {
      "text/plain": [
       "array([ 0,  1,  2,  3,  4,  5,  6,  7,  8,  9, 10, 11, 12], dtype=int64)"
      ]
     },
     "execution_count": 649,
     "metadata": {},
     "output_type": "execute_result"
    }
   ],
   "source": [
    "y.unique()"
   ]
  },
  {
   "cell_type": "code",
   "execution_count": 650,
   "id": "80d559a8",
   "metadata": {},
   "outputs": [
    {
     "data": {
      "text/plain": [
       "13"
      ]
     },
     "execution_count": 650,
     "metadata": {},
     "output_type": "execute_result"
    }
   ],
   "source": [
    "len(y.unique())"
   ]
  },
  {
   "cell_type": "markdown",
   "id": "78f81a53",
   "metadata": {},
   "source": [
    "### text is the independent variable X and Topic is dependent variable"
   ]
  },
  {
   "cell_type": "markdown",
   "id": "e447acd2",
   "metadata": {},
   "source": [
    "\n",
    "Hint: Treat ‘topic’ as a Target variable."
   ]
  },
  {
   "cell_type": "markdown",
   "id": "8dcf7d8f",
   "metadata": {},
   "source": [
    "<span style=\"font-family: Arial; font-weight:bold;font-size:1.5em;color:#00b3e5;\">B. Split data into train and test. [1 Marks]"
   ]
  },
  {
   "cell_type": "code",
   "execution_count": 653,
   "id": "793ba4c6",
   "metadata": {},
   "outputs": [],
   "source": [
    "from sklearn.model_selection import train_test_split\n",
    "#X_train, X_test, y_train, y_test = train_test_split(X, y, stratify=y, test_size=0.20, random_state=42)\n",
    "X_train, X_test, y_train, y_test = train_test_split(X, y, stratify=blog_df_final['topic_id'], test_size=0.20, random_state=42)"
   ]
  },
  {
   "cell_type": "code",
   "execution_count": 654,
   "id": "37dd1429",
   "metadata": {},
   "outputs": [
    {
     "data": {
      "text/plain": [
       "(7640,)"
      ]
     },
     "execution_count": 654,
     "metadata": {},
     "output_type": "execute_result"
    }
   ],
   "source": [
    "X_train.shape"
   ]
  },
  {
   "cell_type": "code",
   "execution_count": 655,
   "id": "28fcae21",
   "metadata": {},
   "outputs": [
    {
     "data": {
      "text/plain": [
       "5067    beyond want beyond fear fear terrify many ques...\n",
       "3926    well vote amien rais siswono morning election ...\n",
       "9386    hey hey hey bio midterm easy probably b take p...\n",
       "225     deer eye dart ears perk shuffle sound dead lea...\n",
       "2806                                    help red put test\n",
       "Name: fin_text, dtype: object"
      ]
     },
     "execution_count": 655,
     "metadata": {},
     "output_type": "execute_result"
    }
   ],
   "source": [
    "X_train.head()"
   ]
  },
  {
   "cell_type": "code",
   "execution_count": 656,
   "id": "e0c76895",
   "metadata": {},
   "outputs": [
    {
     "data": {
      "text/plain": [
       "(1911,)"
      ]
     },
     "execution_count": 656,
     "metadata": {},
     "output_type": "execute_result"
    }
   ],
   "source": [
    "X_test.shape"
   ]
  },
  {
   "cell_type": "code",
   "execution_count": 657,
   "id": "0d63a306",
   "metadata": {},
   "outputs": [
    {
     "data": {
      "text/plain": [
       "(7640,)"
      ]
     },
     "execution_count": 657,
     "metadata": {},
     "output_type": "execute_result"
    }
   ],
   "source": [
    "y_train.shape"
   ]
  },
  {
   "cell_type": "code",
   "execution_count": 658,
   "id": "a2d950b4",
   "metadata": {},
   "outputs": [
    {
     "data": {
      "text/plain": [
       "5067    2\n",
       "3926    2\n",
       "9386    2\n",
       "225     0\n",
       "2806    9\n",
       "Name: topic_id, dtype: int64"
      ]
     },
     "execution_count": 658,
     "metadata": {},
     "output_type": "execute_result"
    }
   ],
   "source": [
    "y_train.head()"
   ]
  },
  {
   "cell_type": "code",
   "execution_count": 659,
   "id": "f0c34c89",
   "metadata": {},
   "outputs": [
    {
     "data": {
      "text/plain": [
       "(1911,)"
      ]
     },
     "execution_count": 659,
     "metadata": {},
     "output_type": "execute_result"
    }
   ],
   "source": [
    "y_test.shape"
   ]
  },
  {
   "cell_type": "code",
   "execution_count": 660,
   "id": "83a89325",
   "metadata": {},
   "outputs": [
    {
     "data": {
      "text/plain": [
       "array([ 9,  3,  2,  4,  0,  8,  5, 11,  6,  7,  1, 12, 10], dtype=int64)"
      ]
     },
     "execution_count": 660,
     "metadata": {},
     "output_type": "execute_result"
    }
   ],
   "source": [
    "y_test.unique()"
   ]
  },
  {
   "cell_type": "code",
   "execution_count": 661,
   "id": "8e0d951d",
   "metadata": {},
   "outputs": [
    {
     "data": {
      "text/plain": [
       "[0, 1, 2, 3, 4, 5, 6, 7, 8, 9, 10, 11, 12]"
      ]
     },
     "execution_count": 661,
     "metadata": {},
     "output_type": "execute_result"
    }
   ],
   "source": [
    "sorted(y_train.unique())"
   ]
  },
  {
   "cell_type": "code",
   "execution_count": 662,
   "id": "29f9b97b",
   "metadata": {},
   "outputs": [
    {
     "data": {
      "text/plain": [
       "[0, 1, 2, 3, 4, 5, 6, 7, 8, 9, 10, 11, 12]"
      ]
     },
     "execution_count": 662,
     "metadata": {},
     "output_type": "execute_result"
    }
   ],
   "source": [
    "sorted(y_test.unique())"
   ]
  },
  {
   "cell_type": "code",
   "execution_count": 663,
   "id": "33fc6c9d",
   "metadata": {},
   "outputs": [
    {
     "data": {
      "text/plain": [
       "13"
      ]
     },
     "execution_count": 663,
     "metadata": {},
     "output_type": "execute_result"
    }
   ],
   "source": [
    "len(y_train.unique())"
   ]
  },
  {
   "cell_type": "code",
   "execution_count": 664,
   "id": "a9ee03e0",
   "metadata": {},
   "outputs": [
    {
     "data": {
      "text/plain": [
       "13"
      ]
     },
     "execution_count": 664,
     "metadata": {},
     "output_type": "execute_result"
    }
   ],
   "source": [
    "len(y_test.unique())"
   ]
  },
  {
   "cell_type": "markdown",
   "id": "722275e5",
   "metadata": {},
   "source": [
    "<span style=\"font-family: Arial; font-weight:bold;font-size:1.5em;color:#00b3e5;\">C. Vectorize data using any one vectorizer. [2 Marks]"
   ]
  },
  {
   "cell_type": "code",
   "execution_count": 666,
   "id": "0d9de89a",
   "metadata": {},
   "outputs": [
    {
     "name": "stdout",
     "output_type": "stream",
     "text": [
      "(7640, 2500)\n",
      "(1911, 2500)\n"
     ]
    }
   ],
   "source": [
    "\n",
    "# creating bag of words\n",
    "\n",
    "from sklearn.feature_extraction.text import CountVectorizer\n",
    "\n",
    "cv = CountVectorizer(max_features = 2500)\n",
    "x_train_count = cv.fit_transform(X_train)\n",
    "x_test_count = cv.transform(X_test)\n",
    "print(x_train_count.shape)\n",
    "print(x_test_count.shape)"
   ]
  },
  {
   "cell_type": "markdown",
   "id": "20a0003e",
   "metadata": {},
   "source": [
    "<span style=\"font-family: Arial; font-weight:bold;font-size:1.5em;color:#00b3e5;\">D. Build a base model for Supervised Learning - Classification. [2 Marks]"
   ]
  },
  {
   "cell_type": "code",
   "execution_count": 667,
   "id": "a48114af",
   "metadata": {},
   "outputs": [],
   "source": [
    "from sklearn.naive_bayes import MultinomialNB"
   ]
  },
  {
   "cell_type": "code",
   "execution_count": 668,
   "id": "7e9bd4ad",
   "metadata": {},
   "outputs": [
    {
     "name": "stdout",
     "output_type": "stream",
     "text": [
      "Naive Bayes Accuracy Score ->  57.195185766614344\n"
     ]
    }
   ],
   "source": [
    "# Classifier - Algorithm - Naive Bayes\n",
    "# fit the training dataset on the classifier\n",
    "mb_classifier =MultinomialNB().fit(x_train_count,y_train)\n",
    "\n",
    "# predict the labels on validation dataset\n",
    "predictions_NB_count = mb_classifier.predict(x_test_count)\n",
    "\n",
    "# Use accuracy_score function to get the accuracy\n",
    "print(\"Naive Bayes Accuracy Score -> \",accuracy_score(predictions_NB_count, y_test)*100)"
   ]
  },
  {
   "cell_type": "markdown",
   "id": "1123f9cd",
   "metadata": {},
   "source": []
  },
  {
   "cell_type": "code",
   "execution_count": 669,
   "id": "3961027d",
   "metadata": {},
   "outputs": [],
   "source": [
    "# Creating  a confusion matrix,which compares the y_test and y_pred\n",
    "cm = confusion_matrix(y_test, predictions_NB_count)"
   ]
  },
  {
   "cell_type": "code",
   "execution_count": 670,
   "id": "90403f65",
   "metadata": {},
   "outputs": [],
   "source": [
    "labels=y_test.unique()"
   ]
  },
  {
   "cell_type": "code",
   "execution_count": 671,
   "id": "dde42ee3",
   "metadata": {},
   "outputs": [
    {
     "data": {
      "text/plain": [
       "array([ 9,  3,  2,  4,  0,  8,  5, 11,  6,  7,  1, 12, 10], dtype=int64)"
      ]
     },
     "execution_count": 671,
     "metadata": {},
     "output_type": "execute_result"
    }
   ],
   "source": [
    "labels"
   ]
  },
  {
   "cell_type": "code",
   "execution_count": 672,
   "id": "331cd58f",
   "metadata": {},
   "outputs": [
    {
     "data": {
      "image/png": "[encoded data removed]",
      "text/plain": [
       "<Figure size 360x360 with 2 Axes>"
      ]
     },
     "metadata": {
      "needs_background": "light"
     },
     "output_type": "display_data"
    }
   ],
   "source": [
    "cm = confusion_matrix(y_test, predictions_NB_count)\n",
    "#labels=['Negative', 'Neutral','Positive']\n",
    "plt.figure(figsize=(5,5))\n",
    "sns.heatmap(cm,  xticklabels=labels, yticklabels=labels, fmt='d', annot=True, cmap=plt.cm.Blues)\n",
    "plt.xlabel('Predicted')\n",
    "plt.ylabel('Actual')\n",
    "plt.show()"
   ]
  },
  {
   "cell_type": "code",
   "execution_count": 673,
   "id": "e7c2fe6d",
   "metadata": {},
   "outputs": [],
   "source": [
    "# Step 4: Evaluate the classifier using various measures\n",
    "\n",
    "# Function to plot confusion matrix. \n",
    "# Ref:http://scikit-learn.org/stable/auto_examples/model_selection/plot_confusion_matrix.html\n",
    "import itertools\n",
    "from sklearn.metrics import roc_auc_score\n",
    "\n",
    "def plot_confusion_matrix(cm, classes,\n",
    "                          normalize=False,\n",
    "                          title='Confusion matrix',\n",
    "                          cmap=plt.cm.Blues):\n",
    "    \"\"\"\n",
    "    This function prints and plots the confusion matrix.\n",
    "    Normalization can be applied by setting `normalize=True`.\n",
    "    \"\"\"\n",
    "    if normalize:\n",
    "        cm = cm.astype('float') / cm.sum(axis=1)[:, np.newaxis]\n",
    "\n",
    "    plt.imshow(cm, interpolation='nearest', cmap=cmap)\n",
    "    plt.title(title)\n",
    "    plt.colorbar()\n",
    "    tick_marks = np.arange(len(classes))\n",
    "    plt.xticks(tick_marks, classes, rotation=45)\n",
    "    plt.yticks(tick_marks, classes)\n",
    "\n",
    "    fmt = '.2f' if normalize else 'd'\n",
    "    thresh = cm.max() / 2.\n",
    "    for i, j in itertools.product(range(cm.shape[0]), range(cm.shape[1])):\n",
    "        plt.text(j, i, format(cm[i, j], fmt),\n",
    "                 horizontalalignment=\"center\",\n",
    "                 color=\"white\" if cm[i, j] > thresh else \"black\")\n",
    "\n",
    "    plt.tight_layout()\n",
    "    plt.ylabel('True label',fontsize=15)\n",
    "    plt.xlabel('Predicted label',fontsize=15)"
   ]
  },
  {
   "cell_type": "markdown",
   "id": "19d1c50d",
   "metadata": {},
   "source": [
    "<span style=\"font-family: Arial; font-weight:bold;font-size:1.5em;color:#00b3e5;\">E. Clearly print Performance Metrics. [1 Marks]"
   ]
  },
  {
   "cell_type": "code",
   "execution_count": 674,
   "id": "f8d6ac0f",
   "metadata": {},
   "outputs": [
    {
     "name": "stdout",
     "output_type": "stream",
     "text": [
      "CPU times: total: 0 ns\n",
      "Wall time: 0 ns\n",
      "Accuracy:  0.6096284667713239\n"
     ]
    },
    {
     "data": {
      "image/png": "[encoded data removed]",
      "text/plain": [
       "<Figure size 576x432 with 2 Axes>"
      ]
     },
     "metadata": {
      "needs_background": "light"
     },
     "output_type": "display_data"
    }
   ],
   "source": [
    "vect = CountVectorizer(max_features=5000) # Step-1\n",
    "X_train_dtm = vect.fit_transform(X_train) # combined step 2 and 3\n",
    "X_test_dtm = vect.transform(X_test)\n",
    "nb = MultinomialNB() # instantiate a Multinomial Naive Bayes model\n",
    "%time nb.fit(X_train_dtm, y_train) # train the model(timing it with an IPython \"magic command\")\n",
    "y_pred_class = nb.predict(X_test_dtm) # make class predictions for X_test_dtm\n",
    "print(\"Accuracy: \", accuracy_score(y_test, y_pred_class))\n",
    "# print the confusion matrix\n",
    "cnf_matrix = confusion_matrix(y_test, y_pred_class)\n",
    "plt.figure(figsize=(8,6))\n",
    "plot_confusion_matrix(cnf_matrix, classes=labels,normalize=True,\n",
    "                      title='Confusion matrix with max 5000 features')"
   ]
  },
  {
   "cell_type": "code",
   "execution_count": null,
   "id": "8a42ef2b",
   "metadata": {},
   "outputs": [],
   "source": [
    "Observations: \n",
    "    Increasing the featurs have better results"
   ]
  },
  {
   "cell_type": "markdown",
   "id": "3f155e28",
   "metadata": {},
   "source": [
    "<span style=\"font-family: Arial; font-weight:bold;font-size:1.5em;color:#00b3e5;\">\n",
    "4. Improve Performance of model. [14 Marks]"
   ]
  },
  {
   "cell_type": "markdown",
   "id": "de0b55cb",
   "metadata": {},
   "source": [
    "<span style=\"font-family: Arial; font-weight:bold;font-size:1.5em;color:#00b3e5;\">A. Experiment with other vectorisers. [4 Marks]"
   ]
  },
  {
   "cell_type": "code",
   "execution_count": 676,
   "id": "7408ca5b",
   "metadata": {},
   "outputs": [],
   "source": [
    "Tfidf_vect = TfidfVectorizer(max_features=5000)\n",
    "Tfidf_vect.fit(blog_df_final['fin_text'])\n",
    "\n",
    "Train_X_Tfidf = Tfidf_vect.transform(X_train)\n",
    "Test_X_Tfidf = Tfidf_vect.transform(X_test)"
   ]
  },
  {
   "cell_type": "code",
   "execution_count": 677,
   "id": "bb0462ad",
   "metadata": {},
   "outputs": [],
   "source": [
    "from sklearn.naive_bayes import MultinomialNB"
   ]
  },
  {
   "cell_type": "code",
   "execution_count": 678,
   "id": "4baff1ef",
   "metadata": {},
   "outputs": [
    {
     "name": "stdout",
     "output_type": "stream",
     "text": [
      "Naive Bayes Accuracy Score ->  55.25902668759811\n"
     ]
    }
   ],
   "source": [
    "\n",
    "# Classifier - Algorithm - Naive Bayes\n",
    "# fit the training dataset on the classifier\n",
    "mb_classifier =MultinomialNB().fit(Train_X_Tfidf,y_train)\n",
    "\n",
    "# predict the labels on validation dataset\n",
    "predictions_NB = mb_classifier.predict(Test_X_Tfidf)\n",
    "\n",
    "# Use accuracy_score function to get the accuracy\n",
    "print(\"Naive Bayes Accuracy Score -> \",accuracy_score(predictions_NB, y_test)*100)"
   ]
  },
  {
   "cell_type": "code",
   "execution_count": 679,
   "id": "c9649705",
   "metadata": {},
   "outputs": [],
   "source": [
    "# Ignore warnings\n",
    "import warnings\n",
    "\n",
    "warnings.filterwarnings(\"ignore\")"
   ]
  },
  {
   "cell_type": "code",
   "execution_count": 680,
   "id": "b2ac06e1",
   "metadata": {},
   "outputs": [
    {
     "name": "stdout",
     "output_type": "stream",
     "text": [
      "Classification report\n",
      "              precision    recall  f1-score   support\n",
      "\n",
      "           0       0.90      0.12      0.21       220\n",
      "           1       0.00      0.00      0.00        33\n",
      "           2       0.45      0.94      0.60       634\n",
      "           3       0.91      0.52      0.66       332\n",
      "           4       0.00      0.00      0.00        54\n",
      "           5       0.00      0.00      0.00        26\n",
      "           6       0.00      0.00      0.00        19\n",
      "           7       0.00      0.00      0.00        43\n",
      "           8       0.00      0.00      0.00        19\n",
      "           9       0.73      0.54      0.62       488\n",
      "          10       0.00      0.00      0.00         4\n",
      "          11       0.00      0.00      0.00        36\n",
      "          12       0.00      0.00      0.00         3\n",
      "\n",
      "    accuracy                           0.55      1911\n",
      "   macro avg       0.23      0.16      0.16      1911\n",
      "weighted avg       0.60      0.55      0.50      1911\n",
      "\n"
     ]
    }
   ],
   "source": [
    "# Classification report\n",
    "print(\"Classification report\")\n",
    "print(classification_report(y_test,predictions_NB))"
   ]
  },
  {
   "cell_type": "code",
   "execution_count": 681,
   "id": "98f7fd82",
   "metadata": {},
   "outputs": [],
   "source": [
    "import seaborn as sns"
   ]
  },
  {
   "cell_type": "code",
   "execution_count": 546,
   "id": "300e4027",
   "metadata": {},
   "outputs": [
    {
     "data": {
      "image/png": "[encoded data removed]",
      "text/plain": [
       "<Figure size 576x432 with 2 Axes>"
      ]
     },
     "metadata": {
      "needs_background": "light"
     },
     "output_type": "display_data"
    }
   ],
   "source": [
    "# print the confusion matrix\n",
    "cnf_matrix = confusion_matrix(y_test, predictions_NB)\n",
    "plt.figure(figsize=(8,6))\n",
    "plot_confusion_matrix(cnf_matrix, classes=labels,normalize=True,\n",
    "                      title='Confusion matrix Tdidf Vectorizer')"
   ]
  },
  {
   "cell_type": "code",
   "execution_count": 548,
   "id": "1e1018d9",
   "metadata": {},
   "outputs": [],
   "source": [
    "import warnings\n",
    "warnings.filterwarnings(\"ignore\", category=FutureWarning)"
   ]
  },
  {
   "cell_type": "markdown",
   "id": "2dfb762c",
   "metadata": {},
   "source": [
    "Among the above models Logistic Regression does better than other models. So LogistricRegression is my final model"
   ]
  },
  {
   "cell_type": "markdown",
   "id": "4f37db15",
   "metadata": {},
   "source": [
    "<span style=\"font-family: Arial; font-weight:bold;font-size:1.5em;color:#00b3e5;\">B. Build classifier Models using other algorithms than base model. [4 Marks]"
   ]
  },
  {
   "cell_type": "code",
   "execution_count": 683,
   "id": "f2244e53",
   "metadata": {},
   "outputs": [],
   "source": [
    "from sklearn.neighbors import KNeighborsClassifier"
   ]
  },
  {
   "cell_type": "code",
   "execution_count": 688,
   "id": "1ebd941b",
   "metadata": {},
   "outputs": [],
   "source": [
    "Tfidf_vect = TfidfVectorizer(max_features=5000)\n",
    "Tfidf_vect.fit(blog_df_final['fin_text'])\n",
    "\n",
    "X_Tfidf = Tfidf_vect.transform(X)"
   ]
  },
  {
   "cell_type": "code",
   "execution_count": 689,
   "id": "931b0cb4",
   "metadata": {},
   "outputs": [
    {
     "data": {
      "text/plain": [
       "(9551, 5000)"
      ]
     },
     "execution_count": 689,
     "metadata": {},
     "output_type": "execute_result"
    }
   ],
   "source": [
    "X_Tfidf.shape"
   ]
  },
  {
   "cell_type": "code",
   "execution_count": 687,
   "id": "87dfa3e7",
   "metadata": {},
   "outputs": [
    {
     "data": {
      "text/plain": [
       "(9551,)"
      ]
     },
     "execution_count": 687,
     "metadata": {},
     "output_type": "execute_result"
    }
   ],
   "source": [
    "y.shape"
   ]
  },
  {
   "cell_type": "code",
   "execution_count": 690,
   "id": "dbb2e759",
   "metadata": {},
   "outputs": [],
   "source": [
    "models = [\n",
    "    RandomForestClassifier(n_estimators=100, max_depth=5, random_state=0),\n",
    "    LinearSVC(),\n",
    "    MultinomialNB(),\n",
    "    LogisticRegression(random_state=0),\n",
    "    KNeighborsClassifier()\n",
    "    \n",
    "]\n",
    "\n",
    "# 5 Cross-validation\n",
    "CV = 5\n",
    "cv_df = pd.DataFrame(index=range(CV * len(models)))\n",
    "\n",
    "entries = []\n",
    "for model in models:\n",
    "  model_name = model.__class__.__name__\n",
    "  accuracies = cross_val_score(model, X_Tfidf, y, scoring='accuracy', cv=CV)\n",
    "  for fold_idx, accuracy in enumerate(accuracies):\n",
    "    entries.append((model_name, fold_idx, accuracy))\n",
    "    \n",
    "cv_df = pd.DataFrame(entries, columns=['model_name', 'fold_idx', 'accuracy'])"
   ]
  },
  {
   "cell_type": "markdown",
   "id": "22ab64cf",
   "metadata": {},
   "source": [
    "Hint: Accuracy, Precision, Recall, ROC-AUC"
   ]
  },
  {
   "cell_type": "code",
   "execution_count": 691,
   "id": "fbdf9305",
   "metadata": {},
   "outputs": [
    {
     "data": {
      "text/html": [
       "<div>\n",
       "<style scoped>\n",
       "    .dataframe tbody tr th:only-of-type {\n",
       "        vertical-align: middle;\n",
       "    }\n",
       "\n",
       "    .dataframe tbody tr th {\n",
       "        vertical-align: top;\n",
       "    }\n",
       "\n",
       "    .dataframe thead th {\n",
       "        text-align: right;\n",
       "    }\n",
       "</style>\n",
       "<table border=\"1\" class=\"dataframe\">\n",
       "  <thead>\n",
       "    <tr style=\"text-align: right;\">\n",
       "      <th></th>\n",
       "      <th>Mean Accuracy</th>\n",
       "      <th>Standard deviation</th>\n",
       "    </tr>\n",
       "    <tr>\n",
       "      <th>model_name</th>\n",
       "      <th></th>\n",
       "      <th></th>\n",
       "    </tr>\n",
       "  </thead>\n",
       "  <tbody>\n",
       "    <tr>\n",
       "      <th>KNeighborsClassifier</th>\n",
       "      <td>22.531538</td>\n",
       "      <td>1.709312</td>\n",
       "    </tr>\n",
       "    <tr>\n",
       "      <th>LinearSVC</th>\n",
       "      <td>50.444952</td>\n",
       "      <td>5.730410</td>\n",
       "    </tr>\n",
       "    <tr>\n",
       "      <th>LogisticRegression</th>\n",
       "      <td>52.256240</td>\n",
       "      <td>6.669769</td>\n",
       "    </tr>\n",
       "    <tr>\n",
       "      <th>MultinomialNB</th>\n",
       "      <td>49.670105</td>\n",
       "      <td>2.573266</td>\n",
       "    </tr>\n",
       "    <tr>\n",
       "      <th>RandomForestClassifier</th>\n",
       "      <td>36.215967</td>\n",
       "      <td>2.012134</td>\n",
       "    </tr>\n",
       "  </tbody>\n",
       "</table>\n",
       "</div>"
      ],
      "text/plain": [
       "                        Mean Accuracy  Standard deviation\n",
       "model_name                                               \n",
       "KNeighborsClassifier        22.531538            1.709312\n",
       "LinearSVC                   50.444952            5.730410\n",
       "LogisticRegression          52.256240            6.669769\n",
       "MultinomialNB               49.670105            2.573266\n",
       "RandomForestClassifier      36.215967            2.012134"
      ]
     },
     "execution_count": 691,
     "metadata": {},
     "output_type": "execute_result"
    }
   ],
   "source": [
    "mean_accuracy = cv_df.groupby('model_name').accuracy.mean()*100\n",
    "std_accuracy = cv_df.groupby('model_name').accuracy.std()*100\n",
    "\n",
    "acc = pd.concat([mean_accuracy, std_accuracy], axis= 1, \n",
    "          ignore_index=True)\n",
    "acc.columns = ['Mean Accuracy', 'Standard deviation']\n",
    "acc"
   ]
  },
  {
   "cell_type": "code",
   "execution_count": 692,
   "id": "cd331adb",
   "metadata": {},
   "outputs": [],
   "source": [
    "from sklearn import preprocessing"
   ]
  },
  {
   "cell_type": "markdown",
   "id": "0e064a6c",
   "metadata": {},
   "source": [
    "<span style=\"font-family: Arial; font-weight:bold;font-size:1.5em;color:#00b3e5;\">C. Tune Parameters/Hyperparameters of the model/s. [4 Marks]"
   ]
  },
  {
   "cell_type": "code",
   "execution_count": 693,
   "id": "b277e8cf",
   "metadata": {},
   "outputs": [
    {
     "name": "stdout",
     "output_type": "stream",
     "text": [
      "tuned hpyerparameters :(best parameters)  {'C': 1.0, 'penalty': 'l1', 'solver': 'liblinear'}\n",
      "accuracy : 0.5273803085470999\n"
     ]
    }
   ],
   "source": [
    "# Grid search cross validation\n",
    "from sklearn.model_selection import GridSearchCV\n",
    "from sklearn.linear_model import LogisticRegression\n",
    "solvers = ['newton-cg', 'lbfgs', 'liblinear']\n",
    "penalty = [\"l1\",\"l2\"]\n",
    "c_values = [100, 10, 1.0, 0.1, 0.01]\n",
    "# define grid search\n",
    "grid = dict(solver=solvers,penalty=penalty,C=c_values)\n",
    "\n",
    "#grid={\"C\":np.logspace(-3,3,7), \"penalty\":[\"l1\",\"l2\"]}# l1 lasso l2 ridge\n",
    "logreg=LogisticRegression()\n",
    "logreg_cv=GridSearchCV(logreg,grid,cv=5)\n",
    "logreg_cv.fit(X_Tfidf,y)\n",
    "\n",
    "print(\"tuned hpyerparameters :(best parameters) \",logreg_cv.best_params_)\n",
    "print(\"accuracy :\",logreg_cv.best_score_)"
   ]
  },
  {
   "cell_type": "markdown",
   "id": "c47794b9",
   "metadata": {},
   "source": [
    "<span style=\"font-family: Arial; font-weight:bold;font-size:1.5em;color:#00b3e5;\">D. Clearly print Performance Metrics. [2 Marks]"
   ]
  },
  {
   "cell_type": "code",
   "execution_count": 694,
   "id": "a08fedff",
   "metadata": {},
   "outputs": [
    {
     "name": "stdout",
     "output_type": "stream",
     "text": [
      "Logistic Regression Best accuracy score ->  69.6493982208268\n"
     ]
    }
   ],
   "source": [
    "# predict the labels on validation dataset\n",
    "pred = logreg_cv.best_estimator_.predict(Test_X_Tfidf)\n",
    "\n",
    "# Use accuracy_score function to get the accuracy\n",
    "print(\"Logistic Regression Best accuracy score -> \",accuracy_score(pred, y_test)*100)"
   ]
  },
  {
   "cell_type": "code",
   "execution_count": 702,
   "id": "c5298d54",
   "metadata": {},
   "outputs": [],
   "source": [
    "from sklearn.metrics import accuracy_score\n",
    "from sklearn.metrics import f1_score\n",
    "from sklearn.metrics import average_precision_score\n",
    "from sklearn.metrics import recall_score\n",
    "\n",
    "def print_evaluation_scores(y_val, predicted):\n",
    "    print('Accuracy score: ', accuracy_score(y_val, predicted)*100)\n",
    "    print('F1 score: ', f1_score(y_val, predicted, average='micro')*100)\n",
    "   # print('Average precision score: ', average_precision_score(y_val, predicted, average='micro'))\n",
    "    #print('Average recall score: ', recall_score(y_val, predicted, average='micro'))"
   ]
  },
  {
   "cell_type": "code",
   "execution_count": 703,
   "id": "a5062baa",
   "metadata": {},
   "outputs": [
    {
     "name": "stdout",
     "output_type": "stream",
     "text": [
      "Accuracy score:  69.6493982208268\n",
      "F1 score:  69.6493982208268\n"
     ]
    }
   ],
   "source": [
    "print_evaluation_scores(y_test, pred)"
   ]
  },
  {
   "cell_type": "code",
   "execution_count": 696,
   "id": "9be4802c",
   "metadata": {},
   "outputs": [
    {
     "data": {
      "image/png": "[encoded data removed]",
      "text/plain": [
       "<Figure size 576x432 with 2 Axes>"
      ]
     },
     "metadata": {
      "needs_background": "light"
     },
     "output_type": "display_data"
    }
   ],
   "source": [
    "cnf_matrix = confusion_matrix(y_test, pred)\n",
    "plt.figure(figsize=(8,6))\n",
    "plot_confusion_matrix(cnf_matrix, classes=labels,normalize=True,\n",
    "                      title='Confusion matrix with max 5000 features')"
   ]
  },
  {
   "cell_type": "code",
   "execution_count": 697,
   "id": "24c8f111",
   "metadata": {},
   "outputs": [
    {
     "name": "stdout",
     "output_type": "stream",
     "text": [
      "Classification report\n",
      "              precision    recall  f1-score   support\n",
      "\n",
      "           0       0.75      0.44      0.56       220\n",
      "           1       1.00      0.45      0.62        33\n",
      "           2       0.62      0.84      0.71       634\n",
      "           3       0.93      0.67      0.78       332\n",
      "           4       0.90      0.17      0.28        54\n",
      "           5       0.80      0.31      0.44        26\n",
      "           6       1.00      0.26      0.42        19\n",
      "           7       1.00      0.14      0.24        43\n",
      "           8       1.00      0.26      0.42        19\n",
      "           9       0.67      0.85      0.75       488\n",
      "          10       0.00      0.00      0.00         4\n",
      "          11       1.00      0.50      0.67        36\n",
      "          12       0.00      0.00      0.00         3\n",
      "\n",
      "    accuracy                           0.70      1911\n",
      "   macro avg       0.74      0.38      0.45      1911\n",
      "weighted avg       0.74      0.70      0.68      1911\n",
      "\n"
     ]
    }
   ],
   "source": [
    "# Classification report\n",
    "print(\"Classification report\")\n",
    "print(classification_report(y_test,pred))"
   ]
  },
  {
   "cell_type": "markdown",
   "id": "7bf55a77",
   "metadata": {},
   "source": [
    "Vectorizing the text\n",
    "tf - Term Frequency\n",
    "idf - Inverse Document Frequency"
   ]
  },
  {
   "cell_type": "markdown",
   "id": "ad2f8bb0",
   "metadata": {},
   "source": [
    "We will be using TfidfVectorizer function with the below parameters:\n",
    "\n",
    "min_df: remove the words which has occurred in less than ‘min_df’ number of files.\n",
    "Sublinear_tf: if True, then scale the frequency in logarithmic scale.\n",
    "Stop_words: it removes stop words which are predefined in ‘english’."
   ]
  },
  {
   "cell_type": "code",
   "execution_count": 704,
   "id": "3110a7a3",
   "metadata": {},
   "outputs": [
    {
     "name": "stdout",
     "output_type": "stream",
     "text": [
      "Each of the 9551 blogs is represented by 20281 features (TF-IDF score of unigrams and bigrams)\n"
     ]
    }
   ],
   "source": [
    "tfidf = TfidfVectorizer(sublinear_tf=True, min_df=5,\n",
    "                        ngram_range=(1, 2), \n",
    "                        stop_words='english')\n",
    "# We transform each Text into a vector\n",
    "features = tfidf.fit_transform(blog_df_final.fin_text).toarray()\n",
    "labels = blog_df_final.topic_id\n",
    "print(\"Each of the %d blogs is represented by %d features (TF-IDF score of unigrams and bigrams)\" %(features.shape))"
   ]
  },
  {
   "cell_type": "code",
   "execution_count": 705,
   "id": "4df0e237",
   "metadata": {},
   "outputs": [
    {
     "data": {
      "text/plain": [
       "[0, 1, 2, 3, 4, 5, 6, 7, 8, 9, 10, 11, 12, 13, 14, 15]"
      ]
     },
     "execution_count": 705,
     "metadata": {},
     "output_type": "execute_result"
    }
   ],
   "source": [
    "sorted(topic_to_id.values())"
   ]
  },
  {
   "cell_type": "code",
   "execution_count": 706,
   "id": "f5cf5b40",
   "metadata": {},
   "outputs": [
    {
     "data": {
      "text/plain": [
       "[('Accounting and Education', 4),\n",
       " ('Agriculture, Biotech,Environment', 14),\n",
       " ('Architecture,Construction,RealEstate', 13),\n",
       " ('Arts and Science', 6),\n",
       " ('Automotive,Transportation', 12),\n",
       " ('Banking,InvestmentBanking,BusinessServices', 1),\n",
       " ('Chemicals,Manufacturing', 15),\n",
       " ('Consulting,Marketing,Publishing,Advertising', 11),\n",
       " ('Engineering and Telecommunications', 5),\n",
       " ('Fashion, religion and Non-Profit', 3),\n",
       " ('Government,Law and military', 10),\n",
       " ('Internet, communication media and Humar Resources', 7),\n",
       " ('Museums-Libraries,Sports-Recreation,Tourism', 8),\n",
       " ('Student', 0),\n",
       " ('Technology', 9),\n",
       " ('indUnk', 2)]"
      ]
     },
     "execution_count": 706,
     "metadata": {},
     "output_type": "execute_result"
    }
   ],
   "source": [
    "sorted(topic_to_id.items())"
   ]
  },
  {
   "cell_type": "markdown",
   "id": "a93dab89",
   "metadata": {},
   "source": [
    "Using **sklearn.feature_selection.chi2** to find the terms that are the most correlated with each of the products:"
   ]
  },
  {
   "cell_type": "code",
   "execution_count": 708,
   "id": "3b11f2a6",
   "metadata": {},
   "outputs": [
    {
     "name": "stdout",
     "output_type": "stream",
     "text": [
      "# 'Accounting and Education':\n",
      "  . Most correlated unigrams: ekeke aihz\n",
      "  . Most correlated bigrams: peter sensei aint neat\n",
      "# 'Agriculture, Biotech,Environment':\n",
      "  . Most correlated unigrams: handy zzzz\n",
      "  . Most correlated bigrams: hang day hand say\n",
      "# 'Architecture,Construction,RealEstate':\n",
      "  . Most correlated unigrams: handy zzzz\n",
      "  . Most correlated bigrams: hang day hand say\n"
     ]
    }
   ],
   "source": [
    "from sklearn.feature_selection import chi2\n",
    "import numpy as np\n",
    "i=0\n",
    "N = 2 \n",
    "for topic, topic_id in sorted(topic_to_id.items()):\n",
    "  if (i<3) :\n",
    "      features_chi2 = chi2(features, labels == topic_id)\n",
    "      indices = np.argsort(features_chi2[0])\n",
    "      feature_names = np.array(tfidf.get_feature_names())[indices]\n",
    "      unigrams = [v for v in feature_names if len(v.split(' ')) == 1]\n",
    "      bigrams = [v for v in feature_names if len(v.split(' ')) == 2]\n",
    "      print(\"# '{}':\".format(topic))\n",
    "      print(\"  . Most correlated unigrams: {}\".format(' '.join(unigrams[-N:])))\n",
    "      print(\"  . Most correlated bigrams: {}\".format(' '.join(bigrams[-N:])))\n",
    "      i=i+1"
   ]
  },
  {
   "cell_type": "code",
   "execution_count": 709,
   "id": "495ec5b6",
   "metadata": {},
   "outputs": [
    {
     "name": "stdout",
     "output_type": "stream",
     "text": [
      "n==> Accounting and Education:\n",
      "  * Most Correlated Unigrams are: kendo, ekeke, aihz\n",
      "  * Most Correlated Bigrams are: darn bore, peter sensei, aint neat\n",
      "n==> Arts and Science:\n",
      "  * Most Correlated Unigrams are: ghetto, node, carlene\n",
      "  * Most Correlated Bigrams are: civil war, mr johnreed, john reed\n",
      "n==> Automotive,Transportation:\n",
      "  * Most Correlated Unigrams are: symphony, vw, brian\n",
      "  * Most Correlated Bigrams are: think smell, better come, nbsp want\n",
      "n==> Banking,InvestmentBanking,BusinessServices:\n",
      "  * Most Correlated Unigrams are: korea, korean, seoul\n",
      "  * Most Correlated Bigrams are: urllink joongang, cover letter, career portfolio\n",
      "n==> Consulting,Marketing,Publishing,Advertising:\n",
      "  * Most Correlated Unigrams are: kurt, karon, ked\n",
      "  * Most Correlated Bigrams are: kurt michelle, ked work, life group\n",
      "n==> Engineering and Telecommunications:\n",
      "  * Most Correlated Unigrams are: lator, comming, jender\n",
      "  * Most Correlated Bigrams are: gonna die, cause like, daily grind\n",
      "n==> Fashion, religion and Non-Profit:\n",
      "  * Most Correlated Unigrams are: hal, dj, duf\n",
      "  * Most Correlated Bigrams are: soft drink, mrs duf, duf fer\n",
      "n==> Government,Law and military:\n",
      "  * Most Correlated Unigrams are: yang, conversion, lookout\n",
      "  * Most Correlated Bigrams are: work suck, bad tell, life new\n",
      "n==> Internet, communication media and Humar Resources:\n",
      "  * Most Correlated Unigrams are: clovis, shania, lars\n",
      "  * Most Correlated Bigrams are: north bnsf, search shania, pick flick\n",
      "n==> Museums-Libraries,Sports-Recreation,Tourism:\n",
      "  * Most Correlated Unigrams are: tiesto, caddy, bc\n",
      "  * Most Correlated Bigrams are: kind suck, play hole, fantasy baseball\n",
      "n==> Student:\n",
      "  * Most Correlated Unigrams are: theo, maths, den\n",
      "  * Most Correlated Bigrams are: write later, im gonna, nbsp urllink\n",
      "n==> Technology:\n",
      "  * Most Correlated Unigrams are: johnathan, ben, angie\n",
      "  * Most Correlated Bigrams are: urllink http, index html, http www\n",
      "n==> indUnk:\n",
      "  * Most Correlated Unigrams are: lol, duf, diva\n",
      "  * Most Correlated Bigrams are: make happy, bring urllink, urllink quizilla\n"
     ]
    }
   ],
   "source": [
    "# Finding the three most correlated terms with each of the text categories\n",
    "N = 3\n",
    "i=0\n",
    "for topic, topic_id in sorted(topic_to_id.items()):\n",
    "  if (i<40) :\n",
    "      features_chi2 = chi2(features, labels == topic_id)\n",
    "      #print(features_chi2)\n",
    "      #print(\"NAN check=\",np.isnan(features_chi2[0]))\n",
    "      #print('condition ',(np.isnan(features_chi2[0])).any()==False)\n",
    "     # print('condition ',np.isnan(features_chi2[0].all())==False)\n",
    "      if(np.isnan(features_chi2[0])).any()==False:\n",
    "          indices = np.argsort(features_chi2[0])\n",
    "          feature_names = np.array(tfidf.get_feature_names())[indices]\n",
    "          unigrams = [v for v in feature_names if len(v.split(' ')) == 1]\n",
    "          bigrams = [v for v in feature_names if len(v.split(' ')) == 2]\n",
    "          print(\"n==> %s:\" %(topic))\n",
    "          print(\"  * Most Correlated Unigrams are: %s\" %(', '.join(unigrams[-N:])))\n",
    "          print(\"  * Most Correlated Bigrams are: %s\" %(', '.join(bigrams[-N:])))\n",
    "      i=i+1\n",
    "    "
   ]
  },
  {
   "cell_type": "markdown",
   "id": "399eeb23",
   "metadata": {},
   "source": [
    "**Comments**:\n",
    "    The unigrams and bigrams gave interesting values, example technology has index, http www , Sports and recreation fantasy baseball and\n",
    "    Government,Law and militay has work suck, life new etc"
   ]
  },
  {
   "cell_type": "code",
   "execution_count": 710,
   "id": "d3b0f658",
   "metadata": {},
   "outputs": [
    {
     "data": {
      "text/plain": [
       "(7640,)"
      ]
     },
     "execution_count": 710,
     "metadata": {},
     "output_type": "execute_result"
    }
   ],
   "source": [
    "X_train.shape\n"
   ]
  },
  {
   "cell_type": "code",
   "execution_count": 712,
   "id": "06fb3ce7",
   "metadata": {},
   "outputs": [
    {
     "data": {
      "text/plain": [
       "5067    beyond want beyond fear fear terrify many ques...\n",
       "3926    well vote amien rais siswono morning election ...\n",
       "9386    hey hey hey bio midterm easy probably b take p...\n",
       "225     deer eye dart ears perk shuffle sound dead lea...\n",
       "2806                                    help red put test\n",
       "Name: fin_text, dtype: object"
      ]
     },
     "execution_count": 712,
     "metadata": {},
     "output_type": "execute_result"
    }
   ],
   "source": [
    "X_train.head()"
   ]
  },
  {
   "cell_type": "code",
   "execution_count": 724,
   "id": "d0d111cf",
   "metadata": {},
   "outputs": [],
   "source": [
    "#tf idf\n",
    "#tf_idf = TfidfVectorizer()\n",
    "tf_idf = TfidfVectorizer(sublinear_tf=True, min_df=5,\n",
    "                        ngram_range=(1, 2), \n",
    "                        stop_words='english',max_features=5000)\n",
    "#applying tf idf to training data\n",
    "X_train_tf = tf_idf.fit_transform(X_train).toarray()\n",
    "\n",
    "#applying tf idf to test data\n",
    "X_test_tf = tf_idf.transform(X_test)"
   ]
  },
  {
   "cell_type": "code",
   "execution_count": 726,
   "id": "cab87bf3",
   "metadata": {},
   "outputs": [],
   "source": [
    "solvers = 'liblinear'\n",
    "penalty = \"l1\"\n",
    "c_values = 1.0\n",
    "# define grid search\n",
    "grid = dict(solver=solvers,penalty=penalty,C=c_values)\n",
    "\n",
    "#grid={\"C\":np.logspace(-3,3,7), \"penalty\":[\"l1\",\"l2\"]}# l1 lasso l2 ridge\n",
    "logreg=LogisticRegression(solver=solvers,penalty=penalty,C=c_values)\n",
    "logreg.fit(X_train_tf,y_train)\n",
    "\n",
    "pred_lr_tdif=logreg.predict(X_test_tf)\n"
   ]
  },
  {
   "cell_type": "code",
   "execution_count": 729,
   "id": "2999b437",
   "metadata": {},
   "outputs": [
    {
     "name": "stdout",
     "output_type": "stream",
     "text": [
      "Accuracy score:  63.05599162742019\n",
      "F1 score:  63.05599162742019\n"
     ]
    }
   ],
   "source": [
    "print_evaluation_scores(y_test, pred_lr_tdif)"
   ]
  },
  {
   "cell_type": "code",
   "execution_count": 732,
   "id": "bc48162d",
   "metadata": {},
   "outputs": [],
   "source": [
    "labels=y_test.unique()"
   ]
  },
  {
   "cell_type": "code",
   "execution_count": 733,
   "id": "0a69f5b8",
   "metadata": {},
   "outputs": [
    {
     "data": {
      "text/plain": [
       "array([ 9,  3,  2,  4,  0,  8,  5, 11,  6,  7,  1, 12, 10], dtype=int64)"
      ]
     },
     "execution_count": 733,
     "metadata": {},
     "output_type": "execute_result"
    }
   ],
   "source": [
    "labels"
   ]
  },
  {
   "cell_type": "code",
   "execution_count": 734,
   "id": "e728e39a",
   "metadata": {},
   "outputs": [
    {
     "data": {
      "image/png": "[encoded data removed]",
      "text/plain": [
       "<Figure size 576x432 with 2 Axes>"
      ]
     },
     "metadata": {
      "needs_background": "light"
     },
     "output_type": "display_data"
    }
   ],
   "source": [
    "cnf_matrix = confusion_matrix(y_test, pred_lr_tdif)\n",
    "plt.figure(figsize=(8,6))\n",
    "plot_confusion_matrix(cnf_matrix, classes=labels,normalize=True,\n",
    "                      title='Confusion matrix with max 5000 features')"
   ]
  },
  {
   "cell_type": "markdown",
   "id": "e493af6e",
   "metadata": {},
   "source": [
    "Hint: Accuracy, Precision, Recall, ROC-AUC"
   ]
  },
  {
   "cell_type": "markdown",
   "id": "84f325a8",
   "metadata": {},
   "source": [
    "<span style=\"font-family: Arial; font-weight:bold;font-size:1.5em;color:#00b3e5;\">5.. Share insights on relative performance comparison [8 Marks]"
   ]
  },
  {
   "cell_type": "markdown",
   "id": "19ccf402",
   "metadata": {},
   "source": [
    "<span style=\"font-family: Arial; font-weight:bold;font-size:1.5em;color:#00b3e5;\">A. Which vectorizer performed better? Probable reason?. \n",
    "[2 Marks]"
   ]
  },
  {
   "cell_type": "code",
   "execution_count": null,
   "id": "e8185efc",
   "metadata": {},
   "outputs": [],
   "source": [
    "print(\"Accuracy with different 2 vectors\")"
   ]
  },
  {
   "cell_type": "code",
   "execution_count": 742,
   "id": "80f409af",
   "metadata": {},
   "outputs": [
    {
     "name": "stdout",
     "output_type": "stream",
     "text": [
      "Naive Bayes Accuracy Score with Count vector ->  57.195185766614344\n",
      "Accuracy Score with best model hyperparameter tuning and TDfidf vector ->  69.6493982208268\n",
      "Accuracy Score Logistic regression and TDfidf vector with ngram(1,2) ->  63.05599162742019\n"
     ]
    }
   ],
   "source": [
    "# Use accuracy_score function to get the accuracy\n",
    "print(\"Naive Bayes Accuracy Score with Count vector -> \",accuracy_score(predictions_NB_count, y_test)*100)\n",
    "print(\"Accuracy Score with best model hyperparameter tuning and TDfidf vector -> \",accuracy_score(pred, y_test)*100)\n",
    "print(\"Accuracy Score Logistic regression and TDfidf vector with ngram(1,2) -> \",accuracy_score(pred_lr_tdif, y_test)*100)\n"
   ]
  },
  {
   "cell_type": "markdown",
   "id": "73da6baa",
   "metadata": {},
   "source": [
    "From the models build above its clear that TF-IDF vectorizer performs better than count vectorizer.\n",
    "<br>\n",
    "* Because TD-IDF vectorizer defines importance of a term by taking into consideration the importance of that term in a single document, and scaling it by its importance across all documents\n",
    "* This mathematically eliminates naturally occurring words in the English language, and selects words that are more descriptive of your text"
   ]
  },
  {
   "cell_type": "markdown",
   "id": "01ca80c3",
   "metadata": {},
   "source": [
    "<span style=\"font-family: Arial; font-weight:bold;font-size:1.5em;color:#00b3e5;\">B. Which model outperformed? Probable reason? [2 Marks]"
   ]
  },
  {
   "cell_type": "code",
   "execution_count": 735,
   "id": "32800941",
   "metadata": {},
   "outputs": [
    {
     "data": {
      "text/html": [
       "<div>\n",
       "<style scoped>\n",
       "    .dataframe tbody tr th:only-of-type {\n",
       "        vertical-align: middle;\n",
       "    }\n",
       "\n",
       "    .dataframe tbody tr th {\n",
       "        vertical-align: top;\n",
       "    }\n",
       "\n",
       "    .dataframe thead th {\n",
       "        text-align: right;\n",
       "    }\n",
       "</style>\n",
       "<table border=\"1\" class=\"dataframe\">\n",
       "  <thead>\n",
       "    <tr style=\"text-align: right;\">\n",
       "      <th></th>\n",
       "      <th>Mean Accuracy</th>\n",
       "      <th>Standard deviation</th>\n",
       "    </tr>\n",
       "    <tr>\n",
       "      <th>model_name</th>\n",
       "      <th></th>\n",
       "      <th></th>\n",
       "    </tr>\n",
       "  </thead>\n",
       "  <tbody>\n",
       "    <tr>\n",
       "      <th>KNeighborsClassifier</th>\n",
       "      <td>22.531538</td>\n",
       "      <td>1.709312</td>\n",
       "    </tr>\n",
       "    <tr>\n",
       "      <th>LinearSVC</th>\n",
       "      <td>50.444952</td>\n",
       "      <td>5.730410</td>\n",
       "    </tr>\n",
       "    <tr>\n",
       "      <th>LogisticRegression</th>\n",
       "      <td>52.256240</td>\n",
       "      <td>6.669769</td>\n",
       "    </tr>\n",
       "    <tr>\n",
       "      <th>MultinomialNB</th>\n",
       "      <td>49.670105</td>\n",
       "      <td>2.573266</td>\n",
       "    </tr>\n",
       "    <tr>\n",
       "      <th>RandomForestClassifier</th>\n",
       "      <td>36.215967</td>\n",
       "      <td>2.012134</td>\n",
       "    </tr>\n",
       "  </tbody>\n",
       "</table>\n",
       "</div>"
      ],
      "text/plain": [
       "                        Mean Accuracy  Standard deviation\n",
       "model_name                                               \n",
       "KNeighborsClassifier        22.531538            1.709312\n",
       "LinearSVC                   50.444952            5.730410\n",
       "LogisticRegression          52.256240            6.669769\n",
       "MultinomialNB               49.670105            2.573266\n",
       "RandomForestClassifier      36.215967            2.012134"
      ]
     },
     "execution_count": 735,
     "metadata": {},
     "output_type": "execute_result"
    }
   ],
   "source": [
    "acc"
   ]
  },
  {
   "cell_type": "markdown",
   "id": "0682cd93",
   "metadata": {},
   "source": [
    "Logistic Regression model performed better in this classification, The reasons are as follows\n",
    "* Logistic regression is used for binary or multi-class classification, and the target variable always has to be categorical\n",
    "* As here  are more than two classes of the response variable, it's called multinomial logistic regression\n",
    "* Logistic regression has good performance in text classifcation because of, its easy to implement, interpret and efficient in training\n",
    "* It is very fast in classifying unknown data\n",
    "* It performs well when dataset is linearly seperable"
   ]
  },
  {
   "cell_type": "markdown",
   "id": "1b397c30",
   "metadata": {},
   "source": [
    "<span style=\"font-family: Arial; font-weight:bold;font-size:1.5em;color:#00b3e5;\">\n",
    "C. Which parameter/hyperparameter significantly helped \n",
    "to improve performance?Probable reason?. [2 Marks]"
   ]
  },
  {
   "cell_type": "markdown",
   "id": "5edaa69c",
   "metadata": {},
   "source": [
    "In Logistic Regression model following hyper parameters gave best performance. <br>\n",
    "(best parameters)  {'C': 1.0, 'penalty': 'l1', 'solver': 'liblinear'}\n",
    "\n",
    "**C 1.0** is a \"hyperparameter.\"A high value of C  indicates that training data is more important and reflects the real world data, whereas low value is just the opposite of this.<br>\n",
    "\n",
    "**L1** Regularization adds an L1 penalty equal to the absolute value of the magnitude of coefficients. In other words, it limits the size of the coefficients. L1 can yield sparse models (i.e. models with few coefficients); Some coefficients can become zero and eliminated. Lasso regression uses this method.<br>\n",
    "\n",
    "**solver': 'liblinear'**: liblinear supports both regularization. And liblinear works well for small dataset\n"
   ]
  },
  {
   "cell_type": "markdown",
   "id": "6e233a39",
   "metadata": {},
   "source": [
    "ngram_rangetuple (min_n, max_n), default=(1, 1) The lower and upper boundary of the range of n-values for different n-grams to be extracted.This gives better performance in the best model"
   ]
  },
  {
   "cell_type": "markdown",
   "id": "13e2bd09",
   "metadata": {},
   "source": [
    "<span style=\"font-family: Arial; font-weight:bold;font-size:1.5em;color:#00b3e5;\">D. According to you, which performance metric should be \n",
    "given most importance, why?. [2 Marks]"
   ]
  },
  {
   "cell_type": "code",
   "execution_count": 755,
   "id": "fe9c71ee",
   "metadata": {},
   "outputs": [
    {
     "name": "stdout",
     "output_type": "stream",
     "text": [
      "Naive Bayes Accuracy Score with Count vector ->  57.195185766614344\n",
      "Accuracy Score with best model hyperparameter tuning and TDfidf vector ->  69.6493982208268\n",
      "Accuracy Score Logistic regression and TDfidf vector with ngram(1,2) ->  63.05599162742019\n"
     ]
    }
   ],
   "source": [
    "# Use accuracy_score function to get the accuracy\n",
    "print(\"Naive Bayes Accuracy Score with Count vector -> \",accuracy_score(predictions_NB_count, y_test)*100)\n",
    "print(\"Accuracy Score with best model hyperparameter tuning and TDfidf vector -> \",accuracy_score(pred, y_test)*100)\n",
    "print(\"Accuracy Score Logistic regression and TDfidf vector with ngram(1,2) -> \",accuracy_score(pred_lr_tdif, y_test)*100)"
   ]
  },
  {
   "cell_type": "code",
   "execution_count": 756,
   "id": "652d7a5c",
   "metadata": {},
   "outputs": [],
   "source": [
    "### Best model classification report"
   ]
  },
  {
   "cell_type": "code",
   "execution_count": 757,
   "id": "de8f0e2a",
   "metadata": {},
   "outputs": [
    {
     "name": "stdout",
     "output_type": "stream",
     "text": [
      "Classification report\n",
      "              precision    recall  f1-score   support\n",
      "\n",
      "           0       0.62      0.33      0.43       220\n",
      "           1       1.00      0.33      0.50        33\n",
      "           2       0.55      0.79      0.65       634\n",
      "           3       0.90      0.62      0.73       332\n",
      "           4       0.80      0.15      0.25        54\n",
      "           5       0.57      0.15      0.24        26\n",
      "           6       1.00      0.16      0.27        19\n",
      "           7       0.80      0.09      0.17        43\n",
      "           8       1.00      0.16      0.27        19\n",
      "           9       0.62      0.77      0.69       488\n",
      "          10       0.00      0.00      0.00         4\n",
      "          11       1.00      0.50      0.67        36\n",
      "          12       0.00      0.00      0.00         3\n",
      "\n",
      "    accuracy                           0.63      1911\n",
      "   macro avg       0.68      0.31      0.37      1911\n",
      "weighted avg       0.67      0.63      0.61      1911\n",
      "\n"
     ]
    }
   ],
   "source": [
    "print(\"Classification report\")\n",
    "print(classification_report(y_test,pred_lr_tdif))"
   ]
  },
  {
   "cell_type": "markdown",
   "id": "1eb2904b",
   "metadata": {},
   "source": [
    " * In the above text classification problem accuracy can be given more importance as classifying right topic is more important.\n",
    "* In multi-label problems, predictions for an instance is a set of labels, and therefore, the concept of fully correct vs partially correct solution can be considered. In addition, apart from evaluating the quality of the categorization into classes, we could also evaluate if the classes are correctly ranked by relevance.\n",
    "\n",
    "Hence according to me precision and accuracy are import metrics\n",
    "\n",
    "\n",
    "\n",
    "\n",
    "\n",
    "\n",
    "\n",
    "\n",
    "\n",
    "\n",
    "\n",
    "\n",
    "\n",
    "\n",
    "\n",
    "\n"
   ]
  },
  {
   "cell_type": "markdown",
   "id": "75bb1d58",
   "metadata": {},
   "source": [
    "**Conclusion** : In this project, how to model for Text classification for Multiclass problem is learned. To make the system to learn the language the basic idea in NLP is making the text in vector format so systems can interpret it.Learned about preprocessing the text data like removing special characters, stop words, tokenization, lemmetization and different vectors like count vector and tdidf vector."
   ]
  },
  {
   "cell_type": "markdown",
   "id": "1492f84f",
   "metadata": {},
   "source": [
    "# Part B - 20 Marks"
   ]
  },
  {
   "cell_type": "markdown",
   "id": "02f90282",
   "metadata": {},
   "source": [
    "**.DOMAIN:** Customer support"
   ]
  },
  {
   "cell_type": "markdown",
   "id": "6ef8df10",
   "metadata": {},
   "source": [
    "**• CONTEXT:** Great Learning has a an academic support department which receives numerous support requests every day throughout the year.\n",
    "Teams are spread across geographies and try to provide support round the year. Sometimes there are circumstances where due to heavy\n",
    "workload certain request resolutions are delayed, impacting company’s business. Some of the requests are very generic where a proper\n",
    "resolution procedure delivered to the user can solve the problem. Company is looking forward to design an automation which can interact with\n",
    "the user, understand the problem and display the resolution procedure [ if found as a generic request ] or redirect the request to an actual human\n",
    "support executive if the request is complex or not in it’s database."
   ]
  },
  {
   "cell_type": "markdown",
   "id": "9fc33b38",
   "metadata": {},
   "source": [
    "**• DATA DESCRIPTION:** A sample corpus is attached for your reference. Please enhance/add more data to the corpus using your linguistics skills.\n"
   ]
  },
  {
   "cell_type": "markdown",
   "id": "0058fec3",
   "metadata": {},
   "source": [
    "**• PROJECT OBJECTIVE:** Design a python based interactive semi - rule based chatbot which can do the following:\n"
   ]
  },
  {
   "cell_type": "markdown",
   "id": "9b71904f",
   "metadata": {},
   "source": [
    "1. Start chat session with greetings and ask what the user is looking for. [5 Marks]\n",
    "2. Accept dynamic text based questions from the user. Reply back with relevant answer from the designed corpus. [10 Marks]\n",
    "3. End the chat session only if the user requests to end else ask what the user is looking for. Loop continues till the user asks to end it. [5 Marks]\n",
    "Hint: There are a lot of techniques using which one can clean and prepare the data which can be used to train a ML/DL classifier. Hence, it might\n",
    "require you to experiment, research, self learn and implement the above classifier. There might be many iterations between hand building the\n",
    "corpus and designing the best fit text classifier. As the quality and quantity of corpus increases the model’s performance i.e. ability to answer\n",
    "right questions also increases."
   ]
  },
  {
   "cell_type": "markdown",
   "id": "ef6515e2",
   "metadata": {},
   "source": [
    "## Importing required libraries"
   ]
  },
  {
   "cell_type": "code",
   "execution_count": 1,
   "id": "d246d6f8",
   "metadata": {},
   "outputs": [
    {
     "name": "stderr",
     "output_type": "stream",
     "text": [
      "[nltk_data] Downloading package punkt to\n",
      "[nltk_data]     C:\\Users\\HP\\AppData\\Roaming\\nltk_data...\n",
      "[nltk_data]   Package punkt is already up-to-date!\n",
      "[nltk_data] Downloading package wordnet to\n",
      "[nltk_data]     C:\\Users\\HP\\AppData\\Roaming\\nltk_data...\n",
      "[nltk_data]   Package wordnet is already up-to-date!\n"
     ]
    },
    {
     "data": {
      "text/plain": [
       "True"
      ]
     },
     "execution_count": 1,
     "metadata": {},
     "output_type": "execute_result"
    }
   ],
   "source": [
    "import json\n",
    "import string\n",
    "import random \n",
    "import nltk\n",
    "import numpy as np\n",
    "from nltk.stem import WordNetLemmatizer \n",
    "import tensorflow as tf \n",
    "from tensorflow.keras import Sequential \n",
    "from tensorflow.keras.layers import Dense, Dropout\n",
    "nltk.download(\"punkt\")\n",
    "nltk.download(\"wordnet\")\n"
   ]
  },
  {
   "cell_type": "markdown",
   "id": "9563ca3d",
   "metadata": {},
   "source": [
    "### Loading the json corpus"
   ]
  },
  {
   "cell_type": "code",
   "execution_count": 22,
   "id": "c7138f2a",
   "metadata": {},
   "outputs": [],
   "source": [
    "import json\n",
    "\n",
    "with open('GL+Bot.json') as f:\n",
    "  data = json.load(f)"
   ]
  },
  {
   "cell_type": "code",
   "execution_count": 23,
   "id": "738ae05b",
   "metadata": {},
   "outputs": [],
   "source": [
    "# initializing lemmatizer to get stem of words\n",
    "lemmatizer = WordNetLemmatizer()\n",
    "# Each list to create\n",
    "words = []\n",
    "classes = []\n",
    "doc_X = []\n",
    "doc_y = []\n",
    "# Loop through all the intents\n",
    "# tokenize each pattern and append tokens to words, the patterns and\n",
    "# the associated tag to their associated list\n",
    "for intent in data[\"intents\"]:\n",
    "    for pattern in intent[\"patterns\"]:\n",
    "        tokens = nltk.word_tokenize(pattern)\n",
    "        words.extend(tokens)\n",
    "        doc_X.append(pattern)\n",
    "        doc_y.append(intent[\"tag\"])\n",
    "    \n",
    "    # add the tag to the classes if it's not there already \n",
    "    if intent[\"tag\"] not in classes:\n",
    "        classes.append(intent[\"tag\"])\n",
    "# lemmatize all the words in the vocab and convert them to lowercase\n",
    "# if the words don't appear in punctuation\n",
    "words = [lemmatizer.lemmatize(word.lower()) for word in words if word not in string.punctuation]\n",
    "# sorting the vocab and classes in alphabetical order and taking the # set to ensure no duplicates occur\n",
    "words = sorted(set(words))\n",
    "classes = sorted(set(classes))"
   ]
  },
  {
   "cell_type": "code",
   "execution_count": 24,
   "id": "56b5d982",
   "metadata": {},
   "outputs": [
    {
     "name": "stdout",
     "output_type": "stream",
     "text": [
      "['a', 'able', 'access', 'activation', 'ada', 'adam', 'aifl', 'aiml', 'am', 'an', 'ann', 'anyone', 'are', 'artificial', 'attention', 'backward', 'bad', 'bagging', 'batch', 'bayes', 'belong', 'best', 'blended', 'bloody', 'boosting', 'bot', 'buddy', 'can', 'classification', 'concern', 'contact', 'create', 'cross', 'cya', 'dated', 'day', 'deep', 'did', 'diffult', 'do', 'ensemble', 'epoch', 'explain', 'few', 'first', 'for', 'forest', 'forward', 'from', 'function', 'good', 'goodbye', 'gradient', 'great', 'hate', 'have', 'having', 'hell', 'hello', 'help', 'helped', 'hey', 'hi', 'hidden', 'hour', 'how', 'hyper', 'i', 'imputer', 'in', 'intelligence', 'is', 'jerk', 'joke', 'knn', 'later', 'layer', 'learner', 'learning', 'leaving', 'link', 'listen', 'logistic', 'lot', 'machine', 'material', 'me', 'ml', 'my', 'naive', 'name', 'nb', 'net', 'network', 'neural', 'no', 'not', 'ny', 'of', 'olympus', 'olypus', 'on', 'online', 'operation', 'opertions', 'otimizer', 'out', 'parameter', 'piece', 'please', 'pm', 'problem', 'propagation', 'random', 'regression', 'relu', 'satisfied', 'screw', 'see', 'service', 'sgd', 'shit', 'sigmoid', 'sl', 'smart', 'softmax', 'solution', 'solved', 'stupid', 'supervised', 'svm', 'talking', 'teach', 'techb=niques', 'technique', 'thank', 'thanks', 'the', 'there', 'think', 'ticket', 'time', 'to', 'ton', 'too', 'tool', 'unable', 'understand', 'up', 'urgent', 'use', 'useless', 'validation', 'very', 'visible', 'wasted', 'weight', 'what', 'whats', 'when', 'who', 'whom', 'window', 'with', 'work', 'working', 'ya', 'yo', 'you', 'your']\n"
     ]
    }
   ],
   "source": [
    "print(words)"
   ]
  },
  {
   "cell_type": "code",
   "execution_count": 25,
   "id": "fad4f15e",
   "metadata": {},
   "outputs": [
    {
     "name": "stdout",
     "output_type": "stream",
     "text": [
      "['Bot', 'Exit', 'Feedback', 'Intro', 'NN', 'Olympus', 'Profane', 'SL', 'Ticket', 'Working Hours']\n"
     ]
    }
   ],
   "source": [
    "print(classes)"
   ]
  },
  {
   "cell_type": "code",
   "execution_count": 26,
   "id": "5829fcd2",
   "metadata": {},
   "outputs": [
    {
     "name": "stdout",
     "output_type": "stream",
     "text": [
      "['hi', 'how are you', 'is anyone there', 'hello', 'whats up', 'hey', 'yo', 'listen', 'please help me', 'i am learner from', 'i belong to', 'aiml batch', 'aifl batch', 'i am from', 'my pm is', 'blended', 'online', 'i am from', 'hey ya', 'talking to you for first time', 'thank you', 'thanks', 'cya', 'see you', 'later', 'see you later', 'goodbye', 'i am leaving', 'have a Good day', 'you helped me', 'thanks a lot', 'thanks a ton', 'you are the best', 'great help', 'too good', 'you are a good learning buddy', 'olympus', 'explain me how olympus works', 'I am not able to understand olympus', 'olympus window not working', 'no access to olympus', 'unable to see link in olympus', 'no link visible on olympus', 'whom to contact for olympus', 'lot of problem with olympus', 'olypus is not a good tool', 'lot of problems with olympus', 'how to use olympus', 'teach me olympus', 'i am not able to understand svm', 'explain me how machine learning works', 'i am not able to understand naive bayes', 'i am not able to understand logistic regression', 'i am not able to understand ensemble techb=niques', 'i am not able to understand knn', 'i am not able to understand knn imputer', 'i am not able to understand cross validation', 'i am not able to understand boosting', 'i am not able to understand random forest', 'i am not able to understand ada boosting', 'i am not able to understand gradient boosting', 'machine learning', 'ML', 'SL', 'supervised learning', 'knn', 'logistic regression', 'regression', 'classification', 'naive bayes', 'nb', 'ensemble techniques', 'bagging', 'boosting', 'ada boosting', 'ada', 'gradient boosting', 'hyper parameters', 'what is deep learning', 'unable to understand deep learning', 'explain me how deep learning works', 'i am not able to understand deep learning', 'not able to understand neural nets', 'very diffult to understand neural nets', 'unable to understand neural nets', 'ann', 'artificial intelligence', 'artificial neural networks', 'weights', 'activation function', 'hidden layers', 'softmax', 'sigmoid', 'relu', 'otimizer', 'forward propagation', 'backward propagation', 'epochs', 'epoch', 'what is an epoch', 'adam', 'sgd', 'what is your name', 'who are you', 'name please', 'hours', 'what the hell', 'bloody stupid bot', 'do you think you are very smart', 'screw you', 'i hate you', 'you are stupid', 'jerk', 'you are a joke', 'useless piece of shit', 'my problem is not solved', 'you did not help me', 'not a good solution', 'bad solution', 'not good solution', 'no help', 'wasted my time', 'useless bot', 'create a ticket', 'when are your hours of opertions', 'what are your working hours', 'hours of operation', 'working hours', 'I am not satisfied ny your service', 'Who can listen me', 'I am having concerns', 'few materials out dated', 'urgent attention ']\n"
     ]
    }
   ],
   "source": [
    "print(doc_X)"
   ]
  },
  {
   "cell_type": "code",
   "execution_count": 27,
   "id": "6899d13e",
   "metadata": {},
   "outputs": [
    {
     "name": "stdout",
     "output_type": "stream",
     "text": [
      "['Intro', 'Intro', 'Intro', 'Intro', 'Intro', 'Intro', 'Intro', 'Intro', 'Intro', 'Intro', 'Intro', 'Intro', 'Intro', 'Intro', 'Intro', 'Intro', 'Intro', 'Intro', 'Intro', 'Intro', 'Exit', 'Exit', 'Exit', 'Exit', 'Exit', 'Exit', 'Exit', 'Exit', 'Exit', 'Exit', 'Exit', 'Exit', 'Exit', 'Exit', 'Exit', 'Exit', 'Olympus', 'Olympus', 'Olympus', 'Olympus', 'Olympus', 'Olympus', 'Olympus', 'Olympus', 'Olympus', 'Olympus', 'Olympus', 'Olympus', 'Olympus', 'SL', 'SL', 'SL', 'SL', 'SL', 'SL', 'SL', 'SL', 'SL', 'SL', 'SL', 'SL', 'SL', 'SL', 'SL', 'SL', 'SL', 'SL', 'SL', 'SL', 'SL', 'SL', 'SL', 'SL', 'SL', 'SL', 'SL', 'SL', 'SL', 'NN', 'NN', 'NN', 'NN', 'NN', 'NN', 'NN', 'NN', 'NN', 'NN', 'NN', 'NN', 'NN', 'NN', 'NN', 'NN', 'NN', 'NN', 'NN', 'NN', 'NN', 'NN', 'NN', 'NN', 'Bot', 'Bot', 'Bot', 'Bot', 'Profane', 'Profane', 'Profane', 'Profane', 'Profane', 'Profane', 'Profane', 'Profane', 'Profane', 'Ticket', 'Ticket', 'Ticket', 'Ticket', 'Ticket', 'Ticket', 'Ticket', 'Ticket', 'Ticket', 'Working Hours', 'Working Hours', 'Working Hours', 'Working Hours', 'Feedback', 'Feedback', 'Feedback', 'Feedback', 'Feedback']\n"
     ]
    }
   ],
   "source": [
    "print(doc_y)"
   ]
  },
  {
   "cell_type": "code",
   "execution_count": 28,
   "id": "afc716d9",
   "metadata": {},
   "outputs": [],
   "source": [
    "# list for training data\n",
    "training = []\n",
    "out_empty = [0] * len(classes)\n",
    "# creating the bag of words model\n",
    "for idx, doc in enumerate(doc_X):\n",
    "    bow = []\n",
    "    text = lemmatizer.lemmatize(doc.lower())\n",
    "    for word in words:\n",
    "        bow.append(1) if word in text else bow.append(0)\n",
    "    # mark the index of class that the current pattern is associated\n",
    "    # to\n",
    "    output_row = list(out_empty)\n",
    "    output_row[classes.index(doc_y[idx])] = 1\n",
    "    # add the one hot encoded BoW and associated classes to training \n",
    "    training.append([bow, output_row])\n",
    "# shuffle the data and convert it to an array\n",
    "random.shuffle(training)\n",
    "training = np.array(training, dtype=object)\n",
    "# split the features and target labels\n",
    "train_X = np.array(list(training[:, 0]))\n",
    "train_y = np.array(list(training[:, 1]))"
   ]
  },
  {
   "cell_type": "code",
   "execution_count": 29,
   "id": "fed61abd",
   "metadata": {},
   "outputs": [
    {
     "name": "stdout",
     "output_type": "stream",
     "text": [
      "Model: \"sequential_2\"\n",
      "_________________________________________________________________\n",
      " Layer (type)                Output Shape              Param #   \n",
      "=================================================================\n",
      " dense_6 (Dense)             (None, 128)               21888     \n",
      "                                                                 \n",
      " dropout_4 (Dropout)         (None, 128)               0         \n",
      "                                                                 \n",
      " dense_7 (Dense)             (None, 64)                8256      \n",
      "                                                                 \n",
      " dropout_5 (Dropout)         (None, 64)                0         \n",
      "                                                                 \n",
      " dense_8 (Dense)             (None, 10)                650       \n",
      "                                                                 \n",
      "=================================================================\n",
      "Total params: 30,794\n",
      "Trainable params: 30,794\n",
      "Non-trainable params: 0\n",
      "_________________________________________________________________\n",
      "None\n",
      "Epoch 1/200\n",
      "5/5 [==============================] - 0s 2ms/step - loss: 2.2432 - accuracy: 0.1579\n",
      "Epoch 2/200\n",
      "5/5 [==============================] - 0s 2ms/step - loss: 1.9367 - accuracy: 0.2857\n",
      "Epoch 3/200\n",
      "5/5 [==============================] - 0s 2ms/step - loss: 1.7502 - accuracy: 0.4662\n",
      "Epoch 4/200\n",
      "5/5 [==============================] - 0s 3ms/step - loss: 1.5223 - accuracy: 0.5263\n",
      "Epoch 5/200\n",
      "5/5 [==============================] - 0s 2ms/step - loss: 1.3151 - accuracy: 0.5940\n",
      "Epoch 6/200\n",
      "5/5 [==============================] - 0s 2ms/step - loss: 1.0608 - accuracy: 0.6316\n",
      "Epoch 7/200\n",
      "5/5 [==============================] - 0s 2ms/step - loss: 0.8391 - accuracy: 0.7218\n",
      "Epoch 8/200\n",
      "5/5 [==============================] - 0s 2ms/step - loss: 0.5953 - accuracy: 0.8421\n",
      "Epoch 9/200\n",
      "5/5 [==============================] - 0s 2ms/step - loss: 0.4955 - accuracy: 0.8647\n",
      "Epoch 10/200\n",
      "5/5 [==============================] - 0s 2ms/step - loss: 0.3848 - accuracy: 0.8571\n",
      "Epoch 11/200\n",
      "5/5 [==============================] - 0s 2ms/step - loss: 0.2743 - accuracy: 0.9398\n",
      "Epoch 12/200\n",
      "5/5 [==============================] - 0s 3ms/step - loss: 0.2172 - accuracy: 0.9323\n",
      "Epoch 13/200\n",
      "5/5 [==============================] - 0s 2ms/step - loss: 0.2333 - accuracy: 0.9474\n",
      "Epoch 14/200\n",
      "5/5 [==============================] - 0s 2ms/step - loss: 0.1693 - accuracy: 0.9624\n",
      "Epoch 15/200\n",
      "5/5 [==============================] - 0s 2ms/step - loss: 0.1688 - accuracy: 0.9398\n",
      "Epoch 16/200\n",
      "5/5 [==============================] - 0s 3ms/step - loss: 0.1299 - accuracy: 0.9699\n",
      "Epoch 17/200\n",
      "5/5 [==============================] - 0s 2ms/step - loss: 0.1885 - accuracy: 0.9398\n",
      "Epoch 18/200\n",
      "5/5 [==============================] - 0s 3ms/step - loss: 0.1987 - accuracy: 0.9624\n",
      "Epoch 19/200\n",
      "5/5 [==============================] - 0s 3ms/step - loss: 0.1226 - accuracy: 0.9549\n",
      "Epoch 20/200\n",
      "5/5 [==============================] - 0s 3ms/step - loss: 0.1280 - accuracy: 0.9398\n",
      "Epoch 21/200\n",
      "5/5 [==============================] - 0s 2ms/step - loss: 0.1764 - accuracy: 0.9474\n",
      "Epoch 22/200\n",
      "5/5 [==============================] - 0s 2ms/step - loss: 0.1203 - accuracy: 0.9774\n",
      "Epoch 23/200\n",
      "5/5 [==============================] - 0s 2ms/step - loss: 0.0850 - accuracy: 0.9774\n",
      "Epoch 24/200\n",
      "5/5 [==============================] - 0s 2ms/step - loss: 0.1222 - accuracy: 0.9624\n",
      "Epoch 25/200\n",
      "5/5 [==============================] - 0s 3ms/step - loss: 0.0881 - accuracy: 0.9624\n",
      "Epoch 26/200\n",
      "5/5 [==============================] - 0s 2ms/step - loss: 0.0419 - accuracy: 1.0000\n",
      "Epoch 27/200\n",
      "5/5 [==============================] - 0s 2ms/step - loss: 0.0711 - accuracy: 0.9774\n",
      "Epoch 28/200\n",
      "5/5 [==============================] - 0s 2ms/step - loss: 0.0608 - accuracy: 0.9850\n",
      "Epoch 29/200\n",
      "5/5 [==============================] - 0s 3ms/step - loss: 0.0375 - accuracy: 0.9925\n",
      "Epoch 30/200\n",
      "5/5 [==============================] - 0s 3ms/step - loss: 0.0280 - accuracy: 1.0000\n",
      "Epoch 31/200\n",
      "5/5 [==============================] - 0s 2ms/step - loss: 0.0516 - accuracy: 0.9774\n",
      "Epoch 32/200\n",
      "5/5 [==============================] - 0s 2ms/step - loss: 0.0184 - accuracy: 1.0000\n",
      "Epoch 33/200\n",
      "5/5 [==============================] - 0s 2ms/step - loss: 0.0200 - accuracy: 1.0000\n",
      "Epoch 34/200\n",
      "5/5 [==============================] - 0s 3ms/step - loss: 0.0516 - accuracy: 0.9925\n",
      "Epoch 35/200\n",
      "5/5 [==============================] - 0s 3ms/step - loss: 0.0268 - accuracy: 0.9925\n",
      "Epoch 36/200\n",
      "5/5 [==============================] - 0s 2ms/step - loss: 0.0349 - accuracy: 0.9925\n",
      "Epoch 37/200\n",
      "5/5 [==============================] - 0s 3ms/step - loss: 0.0215 - accuracy: 0.9925\n",
      "Epoch 38/200\n",
      "5/5 [==============================] - 0s 2ms/step - loss: 0.0561 - accuracy: 0.9925\n",
      "Epoch 39/200\n",
      "5/5 [==============================] - 0s 2ms/step - loss: 0.0395 - accuracy: 0.9925\n",
      "Epoch 40/200\n",
      "5/5 [==============================] - 0s 2ms/step - loss: 0.0483 - accuracy: 0.9774\n",
      "Epoch 41/200\n",
      "5/5 [==============================] - 0s 2ms/step - loss: 0.0227 - accuracy: 1.0000\n",
      "Epoch 42/200\n",
      "5/5 [==============================] - 0s 2ms/step - loss: 0.0285 - accuracy: 0.9925\n",
      "Epoch 43/200\n",
      "5/5 [==============================] - 0s 2ms/step - loss: 0.0311 - accuracy: 0.9925\n",
      "Epoch 44/200\n",
      "5/5 [==============================] - 0s 3ms/step - loss: 0.0185 - accuracy: 0.9925\n",
      "Epoch 45/200\n",
      "5/5 [==============================] - 0s 2ms/step - loss: 0.0216 - accuracy: 0.9925\n",
      "Epoch 46/200\n",
      "5/5 [==============================] - 0s 2ms/step - loss: 0.0362 - accuracy: 0.9774\n",
      "Epoch 47/200\n",
      "5/5 [==============================] - 0s 2ms/step - loss: 0.0163 - accuracy: 1.0000\n",
      "Epoch 48/200\n",
      "5/5 [==============================] - 0s 5ms/step - loss: 0.0335 - accuracy: 0.9925\n",
      "Epoch 49/200\n",
      "5/5 [==============================] - 0s 2ms/step - loss: 0.0109 - accuracy: 1.0000\n",
      "Epoch 50/200\n",
      "5/5 [==============================] - 0s 2ms/step - loss: 0.0260 - accuracy: 0.9850\n",
      "Epoch 51/200\n",
      "5/5 [==============================] - 0s 2ms/step - loss: 0.0156 - accuracy: 1.0000\n",
      "Epoch 52/200\n",
      "5/5 [==============================] - 0s 2ms/step - loss: 0.0052 - accuracy: 1.0000\n",
      "Epoch 53/200\n",
      "5/5 [==============================] - 0s 3ms/step - loss: 0.0426 - accuracy: 0.9850\n",
      "Epoch 54/200\n",
      "5/5 [==============================] - 0s 3ms/step - loss: 0.0087 - accuracy: 1.0000\n",
      "Epoch 55/200\n",
      "5/5 [==============================] - 0s 2ms/step - loss: 0.0079 - accuracy: 1.0000\n",
      "Epoch 56/200\n",
      "5/5 [==============================] - 0s 2ms/step - loss: 0.0127 - accuracy: 1.0000\n",
      "Epoch 57/200\n",
      "5/5 [==============================] - 0s 2ms/step - loss: 0.0050 - accuracy: 1.0000\n",
      "Epoch 58/200\n",
      "5/5 [==============================] - 0s 2ms/step - loss: 0.0322 - accuracy: 0.9699\n",
      "Epoch 59/200\n",
      "5/5 [==============================] - 0s 2ms/step - loss: 0.0303 - accuracy: 0.9850\n",
      "Epoch 60/200\n",
      "5/5 [==============================] - 0s 2ms/step - loss: 0.0352 - accuracy: 0.9850\n",
      "Epoch 61/200\n",
      "5/5 [==============================] - 0s 2ms/step - loss: 0.0279 - accuracy: 0.9850\n",
      "Epoch 62/200\n",
      "5/5 [==============================] - 0s 2ms/step - loss: 0.0201 - accuracy: 0.9925\n",
      "Epoch 63/200\n",
      "5/5 [==============================] - 0s 2ms/step - loss: 0.0027 - accuracy: 1.0000\n",
      "Epoch 64/200\n",
      "5/5 [==============================] - 0s 2ms/step - loss: 0.0079 - accuracy: 1.0000\n",
      "Epoch 65/200\n",
      "5/5 [==============================] - 0s 2ms/step - loss: 0.0235 - accuracy: 0.9925\n",
      "Epoch 66/200\n",
      "5/5 [==============================] - 0s 2ms/step - loss: 0.0112 - accuracy: 1.0000\n",
      "Epoch 67/200\n",
      "5/5 [==============================] - 0s 2ms/step - loss: 0.0675 - accuracy: 0.9850\n",
      "Epoch 68/200\n",
      "5/5 [==============================] - 0s 2ms/step - loss: 0.0756 - accuracy: 0.9699\n",
      "Epoch 69/200\n",
      "5/5 [==============================] - 0s 2ms/step - loss: 0.0144 - accuracy: 1.0000\n",
      "Epoch 70/200\n",
      "5/5 [==============================] - 0s 2ms/step - loss: 0.0307 - accuracy: 0.9850\n",
      "Epoch 71/200\n",
      "5/5 [==============================] - 0s 2ms/step - loss: 0.0482 - accuracy: 0.9925\n",
      "Epoch 72/200\n",
      "5/5 [==============================] - 0s 2ms/step - loss: 0.0174 - accuracy: 0.9925\n",
      "Epoch 73/200\n"
     ]
    },
    {
     "name": "stdout",
     "output_type": "stream",
     "text": [
      "5/5 [==============================] - 0s 2ms/step - loss: 0.0048 - accuracy: 1.0000\n",
      "Epoch 74/200\n",
      "5/5 [==============================] - 0s 2ms/step - loss: 0.0094 - accuracy: 1.0000\n",
      "Epoch 75/200\n",
      "5/5 [==============================] - 0s 2ms/step - loss: 0.0151 - accuracy: 1.0000\n",
      "Epoch 76/200\n",
      "5/5 [==============================] - 0s 2ms/step - loss: 0.0095 - accuracy: 1.0000\n",
      "Epoch 77/200\n",
      "5/5 [==============================] - 0s 2ms/step - loss: 0.0200 - accuracy: 0.9925\n",
      "Epoch 78/200\n",
      "5/5 [==============================] - 0s 2ms/step - loss: 0.0095 - accuracy: 1.0000\n",
      "Epoch 79/200\n",
      "5/5 [==============================] - 0s 2ms/step - loss: 0.0046 - accuracy: 1.0000\n",
      "Epoch 80/200\n",
      "5/5 [==============================] - 0s 2ms/step - loss: 0.0125 - accuracy: 0.9925\n",
      "Epoch 81/200\n",
      "5/5 [==============================] - 0s 2ms/step - loss: 0.0116 - accuracy: 0.9925\n",
      "Epoch 82/200\n",
      "5/5 [==============================] - 0s 2ms/step - loss: 0.0145 - accuracy: 1.0000\n",
      "Epoch 83/200\n",
      "5/5 [==============================] - 0s 2ms/step - loss: 0.0151 - accuracy: 0.9925\n",
      "Epoch 84/200\n",
      "5/5 [==============================] - 0s 2ms/step - loss: 0.0242 - accuracy: 0.9925\n",
      "Epoch 85/200\n",
      "5/5 [==============================] - 0s 2ms/step - loss: 0.0061 - accuracy: 1.0000\n",
      "Epoch 86/200\n",
      "5/5 [==============================] - 0s 2ms/step - loss: 0.0036 - accuracy: 1.0000\n",
      "Epoch 87/200\n",
      "5/5 [==============================] - 0s 2ms/step - loss: 0.0032 - accuracy: 1.0000\n",
      "Epoch 88/200\n",
      "5/5 [==============================] - 0s 2ms/step - loss: 0.0094 - accuracy: 1.0000\n",
      "Epoch 89/200\n",
      "5/5 [==============================] - 0s 2ms/step - loss: 0.0126 - accuracy: 1.0000\n",
      "Epoch 90/200\n",
      "5/5 [==============================] - 0s 3ms/step - loss: 0.0076 - accuracy: 1.0000\n",
      "Epoch 91/200\n",
      "5/5 [==============================] - 0s 3ms/step - loss: 0.0459 - accuracy: 0.9850\n",
      "Epoch 92/200\n",
      "5/5 [==============================] - 0s 2ms/step - loss: 0.0192 - accuracy: 0.9925\n",
      "Epoch 93/200\n",
      "5/5 [==============================] - 0s 2ms/step - loss: 0.0150 - accuracy: 0.9925\n",
      "Epoch 94/200\n",
      "5/5 [==============================] - 0s 2ms/step - loss: 0.0117 - accuracy: 0.9925\n",
      "Epoch 95/200\n",
      "5/5 [==============================] - 0s 2ms/step - loss: 0.0303 - accuracy: 0.9925\n",
      "Epoch 96/200\n",
      "5/5 [==============================] - 0s 2ms/step - loss: 0.0755 - accuracy: 0.9774\n",
      "Epoch 97/200\n",
      "5/5 [==============================] - 0s 2ms/step - loss: 0.0020 - accuracy: 1.0000\n",
      "Epoch 98/200\n",
      "5/5 [==============================] - 0s 2ms/step - loss: 0.0172 - accuracy: 1.0000\n",
      "Epoch 99/200\n",
      "5/5 [==============================] - 0s 2ms/step - loss: 0.0368 - accuracy: 0.9850\n",
      "Epoch 100/200\n",
      "5/5 [==============================] - 0s 2ms/step - loss: 0.0051 - accuracy: 1.0000\n",
      "Epoch 101/200\n",
      "5/5 [==============================] - 0s 2ms/step - loss: 0.0452 - accuracy: 0.9925\n",
      "Epoch 102/200\n",
      "5/5 [==============================] - 0s 2ms/step - loss: 0.0065 - accuracy: 1.0000\n",
      "Epoch 103/200\n",
      "5/5 [==============================] - 0s 2ms/step - loss: 0.0788 - accuracy: 0.9850\n",
      "Epoch 104/200\n",
      "5/5 [==============================] - 0s 2ms/step - loss: 0.0158 - accuracy: 0.9925\n",
      "Epoch 105/200\n",
      "5/5 [==============================] - 0s 2ms/step - loss: 0.0098 - accuracy: 1.0000\n",
      "Epoch 106/200\n",
      "5/5 [==============================] - 0s 2ms/step - loss: 0.0022 - accuracy: 1.0000\n",
      "Epoch 107/200\n",
      "5/5 [==============================] - 0s 2ms/step - loss: 0.0957 - accuracy: 0.9850\n",
      "Epoch 108/200\n",
      "5/5 [==============================] - 0s 2ms/step - loss: 0.0054 - accuracy: 1.0000\n",
      "Epoch 109/200\n",
      "5/5 [==============================] - 0s 3ms/step - loss: 0.0018 - accuracy: 1.0000\n",
      "Epoch 110/200\n",
      "5/5 [==============================] - 0s 2ms/step - loss: 0.0064 - accuracy: 1.0000\n",
      "Epoch 111/200\n",
      "5/5 [==============================] - 0s 2ms/step - loss: 0.0072 - accuracy: 1.0000\n",
      "Epoch 112/200\n",
      "5/5 [==============================] - 0s 2ms/step - loss: 0.0059 - accuracy: 1.0000\n",
      "Epoch 113/200\n",
      "5/5 [==============================] - 0s 2ms/step - loss: 0.0088 - accuracy: 1.0000\n",
      "Epoch 114/200\n",
      "5/5 [==============================] - 0s 2ms/step - loss: 0.0950 - accuracy: 0.9850\n",
      "Epoch 115/200\n",
      "5/5 [==============================] - 0s 2ms/step - loss: 0.0042 - accuracy: 1.0000\n",
      "Epoch 116/200\n",
      "5/5 [==============================] - 0s 3ms/step - loss: 0.0034 - accuracy: 1.0000\n",
      "Epoch 117/200\n",
      "5/5 [==============================] - 0s 2ms/step - loss: 0.0111 - accuracy: 1.0000\n",
      "Epoch 118/200\n",
      "5/5 [==============================] - 0s 2ms/step - loss: 0.0014 - accuracy: 1.0000\n",
      "Epoch 119/200\n",
      "5/5 [==============================] - 0s 2ms/step - loss: 0.0343 - accuracy: 0.9925\n",
      "Epoch 120/200\n",
      "5/5 [==============================] - 0s 2ms/step - loss: 0.0065 - accuracy: 1.0000\n",
      "Epoch 121/200\n",
      "5/5 [==============================] - 0s 2ms/step - loss: 0.0208 - accuracy: 0.9850\n",
      "Epoch 122/200\n",
      "5/5 [==============================] - 0s 2ms/step - loss: 9.3896e-04 - accuracy: 1.0000\n",
      "Epoch 123/200\n",
      "5/5 [==============================] - 0s 2ms/step - loss: 8.7978e-04 - accuracy: 1.0000\n",
      "Epoch 124/200\n",
      "5/5 [==============================] - 0s 2ms/step - loss: 0.0471 - accuracy: 0.9925\n",
      "Epoch 125/200\n",
      "5/5 [==============================] - 0s 2ms/step - loss: 0.0014 - accuracy: 1.0000\n",
      "Epoch 126/200\n",
      "5/5 [==============================] - 0s 2ms/step - loss: 0.0362 - accuracy: 0.9925\n",
      "Epoch 127/200\n",
      "5/5 [==============================] - 0s 2ms/step - loss: 0.0113 - accuracy: 0.9925\n",
      "Epoch 128/200\n",
      "5/5 [==============================] - 0s 2ms/step - loss: 0.0077 - accuracy: 0.9925\n",
      "Epoch 129/200\n",
      "5/5 [==============================] - 0s 2ms/step - loss: 0.0034 - accuracy: 1.0000\n",
      "Epoch 130/200\n",
      "5/5 [==============================] - 0s 2ms/step - loss: 0.0407 - accuracy: 0.9850\n",
      "Epoch 131/200\n",
      "5/5 [==============================] - 0s 2ms/step - loss: 0.0046 - accuracy: 1.0000\n",
      "Epoch 132/200\n",
      "5/5 [==============================] - 0s 2ms/step - loss: 0.0027 - accuracy: 1.0000\n",
      "Epoch 133/200\n",
      "5/5 [==============================] - 0s 2ms/step - loss: 0.0298 - accuracy: 0.9850\n",
      "Epoch 134/200\n",
      "5/5 [==============================] - 0s 2ms/step - loss: 0.0034 - accuracy: 1.0000\n",
      "Epoch 135/200\n",
      "5/5 [==============================] - 0s 2ms/step - loss: 8.5676e-04 - accuracy: 1.0000\n",
      "Epoch 136/200\n",
      "5/5 [==============================] - 0s 2ms/step - loss: 0.0082 - accuracy: 0.9925\n",
      "Epoch 137/200\n",
      "5/5 [==============================] - 0s 2ms/step - loss: 4.0861e-04 - accuracy: 1.0000\n",
      "Epoch 138/200\n",
      "5/5 [==============================] - 0s 2ms/step - loss: 0.0064 - accuracy: 1.0000\n",
      "Epoch 139/200\n",
      "5/5 [==============================] - 0s 2ms/step - loss: 0.0011 - accuracy: 1.0000\n",
      "Epoch 140/200\n",
      "5/5 [==============================] - 0s 3ms/step - loss: 0.0191 - accuracy: 0.9925\n",
      "Epoch 141/200\n",
      "5/5 [==============================] - 0s 2ms/step - loss: 0.0168 - accuracy: 0.9850\n",
      "Epoch 142/200\n",
      "5/5 [==============================] - 0s 2ms/step - loss: 0.0273 - accuracy: 0.9850\n",
      "Epoch 143/200\n",
      "5/5 [==============================] - 0s 2ms/step - loss: 0.0518 - accuracy: 0.9850\n",
      "Epoch 144/200\n",
      "5/5 [==============================] - 0s 2ms/step - loss: 0.0119 - accuracy: 1.0000\n",
      "Epoch 145/200\n",
      "5/5 [==============================] - 0s 3ms/step - loss: 0.0335 - accuracy: 0.9925\n",
      "Epoch 146/200\n",
      "5/5 [==============================] - 0s 3ms/step - loss: 0.0080 - accuracy: 1.0000\n",
      "Epoch 147/200\n",
      "5/5 [==============================] - 0s 2ms/step - loss: 0.0055 - accuracy: 1.0000\n",
      "Epoch 148/200\n",
      "5/5 [==============================] - 0s 3ms/step - loss: 0.0088 - accuracy: 0.9925\n",
      "Epoch 149/200\n",
      "5/5 [==============================] - 0s 2ms/step - loss: 0.0139 - accuracy: 0.9925\n",
      "Epoch 150/200\n",
      "5/5 [==============================] - 0s 2ms/step - loss: 0.0019 - accuracy: 1.0000\n",
      "Epoch 151/200\n",
      "5/5 [==============================] - 0s 2ms/step - loss: 0.0075 - accuracy: 1.0000\n",
      "Epoch 152/200\n",
      "5/5 [==============================] - 0s 2ms/step - loss: 0.0917 - accuracy: 0.9774\n",
      "Epoch 153/200\n",
      "5/5 [==============================] - 0s 2ms/step - loss: 0.0067 - accuracy: 1.0000\n",
      "Epoch 154/200\n",
      "5/5 [==============================] - 0s 2ms/step - loss: 0.0360 - accuracy: 0.9850\n",
      "Epoch 155/200\n",
      "5/5 [==============================] - 0s 2ms/step - loss: 0.0045 - accuracy: 1.0000\n"
     ]
    },
    {
     "name": "stdout",
     "output_type": "stream",
     "text": [
      "Epoch 156/200\n",
      "5/5 [==============================] - 0s 2ms/step - loss: 0.0571 - accuracy: 0.9925\n",
      "Epoch 157/200\n",
      "5/5 [==============================] - 0s 2ms/step - loss: 0.0046 - accuracy: 1.0000\n",
      "Epoch 158/200\n",
      "5/5 [==============================] - 0s 2ms/step - loss: 0.0414 - accuracy: 0.9925\n",
      "Epoch 159/200\n",
      "5/5 [==============================] - 0s 2ms/step - loss: 0.0746 - accuracy: 0.9699\n",
      "Epoch 160/200\n",
      "5/5 [==============================] - 0s 2ms/step - loss: 0.0752 - accuracy: 0.9850\n",
      "Epoch 161/200\n",
      "5/5 [==============================] - 0s 2ms/step - loss: 0.0143 - accuracy: 0.9925\n",
      "Epoch 162/200\n",
      "5/5 [==============================] - 0s 2ms/step - loss: 0.0023 - accuracy: 1.0000\n",
      "Epoch 163/200\n",
      "5/5 [==============================] - 0s 2ms/step - loss: 0.0027 - accuracy: 1.0000\n",
      "Epoch 164/200\n",
      "5/5 [==============================] - 0s 2ms/step - loss: 0.0210 - accuracy: 0.9925\n",
      "Epoch 165/200\n",
      "5/5 [==============================] - 0s 2ms/step - loss: 0.0051 - accuracy: 1.0000\n",
      "Epoch 166/200\n",
      "5/5 [==============================] - 0s 2ms/step - loss: 0.0379 - accuracy: 0.9774\n",
      "Epoch 167/200\n",
      "5/5 [==============================] - 0s 2ms/step - loss: 0.0529 - accuracy: 0.9774\n",
      "Epoch 168/200\n",
      "5/5 [==============================] - 0s 2ms/step - loss: 0.0036 - accuracy: 1.0000\n",
      "Epoch 169/200\n",
      "5/5 [==============================] - 0s 2ms/step - loss: 0.0334 - accuracy: 0.9850\n",
      "Epoch 170/200\n",
      "5/5 [==============================] - 0s 2ms/step - loss: 0.0191 - accuracy: 0.9925\n",
      "Epoch 171/200\n",
      "5/5 [==============================] - 0s 2ms/step - loss: 0.0070 - accuracy: 1.0000\n",
      "Epoch 172/200\n",
      "5/5 [==============================] - 0s 2ms/step - loss: 0.0066 - accuracy: 1.0000\n",
      "Epoch 173/200\n",
      "5/5 [==============================] - 0s 2ms/step - loss: 0.0340 - accuracy: 0.9925\n",
      "Epoch 174/200\n",
      "5/5 [==============================] - 0s 2ms/step - loss: 0.0288 - accuracy: 0.9850\n",
      "Epoch 175/200\n",
      "5/5 [==============================] - 0s 2ms/step - loss: 0.0063 - accuracy: 1.0000\n",
      "Epoch 176/200\n",
      "5/5 [==============================] - 0s 4ms/step - loss: 0.0231 - accuracy: 0.9925\n",
      "Epoch 177/200\n",
      "5/5 [==============================] - 0s 2ms/step - loss: 0.0681 - accuracy: 0.9774\n",
      "Epoch 178/200\n",
      "5/5 [==============================] - 0s 2ms/step - loss: 0.0867 - accuracy: 0.9925\n",
      "Epoch 179/200\n",
      "5/5 [==============================] - 0s 2ms/step - loss: 0.0221 - accuracy: 0.9925\n",
      "Epoch 180/200\n",
      "5/5 [==============================] - 0s 2ms/step - loss: 0.0021 - accuracy: 1.0000\n",
      "Epoch 181/200\n",
      "5/5 [==============================] - 0s 2ms/step - loss: 0.0177 - accuracy: 0.9925\n",
      "Epoch 182/200\n",
      "5/5 [==============================] - 0s 2ms/step - loss: 0.0394 - accuracy: 0.9850\n",
      "Epoch 183/200\n",
      "5/5 [==============================] - 0s 2ms/step - loss: 0.1645 - accuracy: 0.9850\n",
      "Epoch 184/200\n",
      "5/5 [==============================] - 0s 2ms/step - loss: 0.0070 - accuracy: 1.0000\n",
      "Epoch 185/200\n",
      "5/5 [==============================] - 0s 2ms/step - loss: 0.0348 - accuracy: 0.9925\n",
      "Epoch 186/200\n",
      "5/5 [==============================] - 0s 2ms/step - loss: 0.0560 - accuracy: 0.9850\n",
      "Epoch 187/200\n",
      "5/5 [==============================] - 0s 2ms/step - loss: 0.0377 - accuracy: 0.9774\n",
      "Epoch 188/200\n",
      "5/5 [==============================] - 0s 2ms/step - loss: 0.0068 - accuracy: 1.0000\n",
      "Epoch 189/200\n",
      "5/5 [==============================] - 0s 3ms/step - loss: 0.0139 - accuracy: 1.0000\n",
      "Epoch 190/200\n",
      "5/5 [==============================] - 0s 2ms/step - loss: 9.5063e-04 - accuracy: 1.0000\n",
      "Epoch 191/200\n",
      "5/5 [==============================] - 0s 2ms/step - loss: 0.0628 - accuracy: 0.9774\n",
      "Epoch 192/200\n",
      "5/5 [==============================] - 0s 2ms/step - loss: 0.0019 - accuracy: 1.0000\n",
      "Epoch 193/200\n",
      "5/5 [==============================] - 0s 2ms/step - loss: 0.0647 - accuracy: 0.9850\n",
      "Epoch 194/200\n",
      "5/5 [==============================] - 0s 2ms/step - loss: 0.0042 - accuracy: 1.0000\n",
      "Epoch 195/200\n",
      "5/5 [==============================] - 0s 2ms/step - loss: 0.0089 - accuracy: 1.0000\n",
      "Epoch 196/200\n",
      "5/5 [==============================] - 0s 2ms/step - loss: 0.0153 - accuracy: 0.9925\n",
      "Epoch 197/200\n",
      "5/5 [==============================] - 0s 2ms/step - loss: 0.0147 - accuracy: 0.9925\n",
      "Epoch 198/200\n",
      "5/5 [==============================] - 0s 2ms/step - loss: 0.0677 - accuracy: 0.9850\n",
      "Epoch 199/200\n",
      "5/5 [==============================] - 0s 2ms/step - loss: 0.0138 - accuracy: 1.0000\n",
      "Epoch 200/200\n",
      "5/5 [==============================] - 0s 2ms/step - loss: 0.0581 - accuracy: 0.9774\n"
     ]
    },
    {
     "data": {
      "text/plain": [
       "<keras.callbacks.History at 0x18c0f015640>"
      ]
     },
     "execution_count": 29,
     "metadata": {},
     "output_type": "execute_result"
    }
   ],
   "source": [
    "# defining some parameters\n",
    "input_shape = (len(train_X[0]),)\n",
    "output_shape = len(train_y[0])\n",
    "epochs = 200\n",
    "# the deep learning model\n",
    "model = Sequential()\n",
    "model.add(Dense(128, input_shape=input_shape, activation=\"relu\"))\n",
    "model.add(Dropout(0.5))\n",
    "model.add(Dense(64, activation=\"relu\"))\n",
    "model.add(Dropout(0.3))\n",
    "model.add(Dense(output_shape, activation = \"softmax\"))\n",
    "adam = tf.keras.optimizers.Adam(learning_rate=0.01, decay=1e-6)\n",
    "model.compile(loss='categorical_crossentropy',\n",
    "              optimizer=adam,\n",
    "              metrics=[\"accuracy\"])\n",
    "print(model.summary())\n",
    "model.fit(x=train_X, y=train_y, epochs=200, verbose=1)"
   ]
  },
  {
   "cell_type": "code",
   "execution_count": 30,
   "id": "b6b59b65",
   "metadata": {},
   "outputs": [],
   "source": [
    "def clean_text(text): \n",
    "  tokens = nltk.word_tokenize(text)\n",
    "  tokens = [lemmatizer.lemmatize(word) for word in tokens]\n",
    "  return tokens\n",
    "\n",
    "def bag_of_words(text, vocab): \n",
    "  tokens = clean_text(text)\n",
    "  bow = [0] * len(vocab)\n",
    "  for w in tokens: \n",
    "    for idx, word in enumerate(vocab):\n",
    "      if word == w: \n",
    "        bow[idx] = 1\n",
    "  return np.array(bow)\n",
    "\n",
    "def pred_class(text, vocab, labels): \n",
    "  bow = bag_of_words(text, vocab)\n",
    "  result = model.predict(np.array([bow]))[0]\n",
    "  thresh = 0.2\n",
    "  y_pred = [[idx, res] for idx, res in enumerate(result) if res > thresh]\n",
    "\n",
    "  y_pred.sort(key=lambda x: x[1], reverse=True)\n",
    "  return_list = []\n",
    "  for r in y_pred:\n",
    "    return_list.append(labels[r[0]])\n",
    "  return return_list\n",
    "\n",
    "def get_response(intents_list, intents_json): \n",
    "  tag = intents_list[0]\n",
    "  list_of_intents = intents_json[\"intents\"]\n",
    "  for i in list_of_intents: \n",
    "    if i[\"tag\"] == tag:\n",
    "      result = random.choice(i[\"responses\"])\n",
    "      break\n",
    "  return result"
   ]
  },
  {
   "cell_type": "code",
   "execution_count": 31,
   "id": "ddd30d52",
   "metadata": {},
   "outputs": [
    {
     "name": "stdout",
     "output_type": "stream",
     "text": [
      "BOT: My name is Jenny. Let's have a conversation! Also, if you want to exit any time, just type Bye!\n",
      "Hello\n",
      "Hello! how can i help you ?\n",
      "Good to talk to you\n",
      "I hope I was able to assist you, Good Bye\n",
      "wait\n",
      "Hello! how can i help you ?\n",
      "want more materials\n",
      "You can write to us support@greatlearning.com\n",
      "working hours\n",
      "I am available 24/7. Live assisttance will be available from 9AM-7PM\n",
      "Thats great\n",
      "I hope I was able to assist you, Good Bye\n",
      "one more query\n",
      "Hello! how can i help you ?\n",
      "Doubts on AIML\n",
      "Hello! how can i help you ?\n",
      "Adaboost\n",
      "Hello! how can i help you ?\n",
      "who are you\n",
      "I am your virtual learning assistant, Jenny\n",
      "where can i send my feedback\n",
      "You can write to us support@greatlearning.com\n",
      "PM is not good\n",
      "Hello! how can i help you ?\n",
      "Bad\n",
      "Tarnsferring the request to your PM\n",
      "doubts\n",
      "Hello! how can i help you ?\n",
      "Sigmoid\n",
      "Link: Neural Nets wiki\n",
      "Bye\n",
      "BOT: Goodbye! Take care! \n"
     ]
    }
   ],
   "source": [
    "# running the chatbot\n",
    "flag=True\n",
    "print(\"BOT: My name is Jenny. Let's have a conversation! Also, if you want to exit any time, just type Bye!\")\n",
    "while(flag==True):\n",
    "    user_response = input()\n",
    "    user_response=user_response.lower()\n",
    "    if(user_response!='bye'):\n",
    "        #message = input(\"\")\n",
    "        intents = pred_class(user_response, words, classes)\n",
    "        result = get_response(intents, data)\n",
    "        print(result)\n",
    "    else:\n",
    "        flag=False\n",
    "        print(\"BOT: Goodbye! Take care! \")"
   ]
  },
  {
   "cell_type": "code",
   "execution_count": 32,
   "id": "fdd60da4",
   "metadata": {},
   "outputs": [
    {
     "name": "stdout",
     "output_type": "stream",
     "text": [
      "BOT: My name is Jenny. Let's have a conversation! Also, if you want to exit any time, just type Bye!\n",
      "tell me about SVM\n",
      "Link: Machine Learning wiki \n",
      "Prolem in olympus\n",
      "Link: Olympus wiki\n",
      "what is artificial intelligence\n",
      "Link: Neural Nets wiki\n",
      "do you think you are smart\n",
      "Please use respectful words\n",
      "who are you\n",
      "I am your virtual learning assistant, Jenny\n",
      "want more materials\n",
      "You can write to us support@greatlearning.com\n",
      "where can i send feedback\n",
      "You can write to us support@greatlearning.com\n",
      "you did not help me\n",
      "Tarnsferring the request to your PM\n",
      "when will he be available\n",
      "I am available 24/7. Live assisttance will be available from 9AM-7PM\n",
      "Thats great\n",
      "I hope I was able to assist you, Good Bye\n",
      "Bye\n",
      "BOT: Goodbye! Take care! \n"
     ]
    }
   ],
   "source": [
    "# running the chatbot\n",
    "flag=True\n",
    "print(\"BOT: My name is Jenny. Let's have a conversation! Also, if you want to exit any time, just type Bye!\")\n",
    "while(flag==True):\n",
    "    user_response = input()\n",
    "    user_response=user_response.lower()\n",
    "    if(user_response!='bye'):\n",
    "        #message = input(\"\")\n",
    "        intents = pred_class(user_response, words, classes)\n",
    "        result = get_response(intents, data)\n",
    "        print(result)\n",
    "    else:\n",
    "        flag=False\n",
    "        print(\"BOT: Goodbye! Take care! \")"
   ]
  },
  {
   "cell_type": "code",
   "execution_count": null,
   "id": "d1830c59",
   "metadata": {},
   "outputs": [],
   "source": []
  }
 ],
 "metadata": {
  "kernelspec": {
   "display_name": "Python 3",
   "language": "python",
   "name": "python3"
  },
  "language_info": {
   "codemirror_mode": {
    "name": "ipython",
    "version": 3
   },
   "file_extension": ".py",
   "mimetype": "text/x-python",
   "name": "python",
   "nbconvert_exporter": "python",
   "pygments_lexer": "ipython3",
   "version": "3.8.8"
  }
 },
 "nbformat": 4,
 "nbformat_minor": 5
}
